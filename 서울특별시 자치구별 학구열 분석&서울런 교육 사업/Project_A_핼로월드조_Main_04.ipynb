{
 "cells": [
  {
   "cell_type": "markdown",
   "id": "92eb8fe1",
   "metadata": {
    "ExecuteTime": {
     "end_time": "2022-05-21T10:09:04.956800Z",
     "start_time": "2022-05-21T10:09:04.948777Z"
    },
    "id": "92eb8fe1"
   },
   "source": [
    "# Table of contents\n",
    "\n",
    "* [Preprocessing](#Preprocessing)\n",
    "* [Analyze](#Analyze)\n",
    "* [Visualize](#Visualize)"
   ]
  },
  {
   "cell_type": "code",
   "execution_count": 1,
   "id": "00df5562",
   "metadata": {
    "ExecuteTime": {
     "end_time": "2022-05-22T09:29:22.032221Z",
     "start_time": "2022-05-22T09:29:20.362282Z"
    },
    "id": "00df5562"
   },
   "outputs": [],
   "source": [
    "import pandas as pd\n",
    "import numpy as np\n",
    "import matplotlib.pyplot as plt\n",
    "import seaborn as sns\n",
    "import plotly.express as px\n",
    "\n",
    "%matplotlib inline\n",
    "plt.rc('font', family='malgun gothic')\n",
    "plt.rc('axes', unicode_minus=False)"
   ]
  },
  {
   "cell_type": "markdown",
   "id": "855ac484",
   "metadata": {
    "id": "855ac484"
   },
   "source": [
    "### Import Data"
   ]
  },
  {
   "cell_type": "code",
   "execution_count": 2,
   "id": "289ca60c",
   "metadata": {
    "ExecuteTime": {
     "end_time": "2022-05-22T09:29:27.146712Z",
     "start_time": "2022-05-22T09:29:22.032508Z"
    },
    "id": "289ca60c",
    "scrolled": false
   },
   "outputs": [],
   "source": [
    "academy= pd.read_excel('./data/helloworld_data_set.xlsx', sheet_name = \"학원교습소정보\")\n",
    "grdp= pd.read_excel('./data/helloworld_data_set.xlsx', sheet_name = \"GRDP\")\n",
    "pop_age= pd.read_csv('./data/서울시 주민등록연앙인구(연령별동별) 통계.csv')"
   ]
  },
  {
   "cell_type": "markdown",
   "id": "c55b8cb3",
   "metadata": {
    "id": "c55b8cb3"
   },
   "source": [
    "### Preprocessing\n",
    "전처리 수행(결측값 처리, 중복값 처리, 이상치 처리 등)"
   ]
  },
  {
   "cell_type": "code",
   "execution_count": 3,
   "id": "01c18e7f",
   "metadata": {
    "ExecuteTime": {
     "end_time": "2022-05-22T09:29:27.172208Z",
     "start_time": "2022-05-22T09:29:27.146783Z"
    },
    "id": "01c18e7f",
    "outputId": "e5ba9cba-766f-4ec8-8753-2ae22c073eb1"
   },
   "outputs": [
    {
     "name": "stdout",
     "output_type": "stream",
     "text": [
      "<class 'pandas.core.frame.DataFrame'>\n",
      "RangeIndex: 1356 entries, 0 to 1355\n",
      "Data columns (total 25 columns):\n",
      " #   Column    Non-Null Count  Dtype \n",
      "---  ------    --------------  ----- \n",
      " 0   자치구       1356 non-null   object\n",
      " 1   동         1356 non-null   object\n",
      " 2   구분        1356 non-null   object\n",
      " 3   계         1356 non-null   object\n",
      " 4   0~4세      1356 non-null   object\n",
      " 5   5~9세      1356 non-null   object\n",
      " 6   10~14세    1356 non-null   object\n",
      " 7   15~19세    1356 non-null   object\n",
      " 8   20~24세    1356 non-null   object\n",
      " 9   25~29세    1356 non-null   object\n",
      " 10  30~34세    1356 non-null   object\n",
      " 11  35~39세    1356 non-null   object\n",
      " 12  40~44세    1356 non-null   object\n",
      " 13  45~49세    1356 non-null   object\n",
      " 14  50~54세    1356 non-null   object\n",
      " 15  55~59세    1356 non-null   object\n",
      " 16  60~64세    1356 non-null   object\n",
      " 17  65~69세    1356 non-null   object\n",
      " 18  70~74세    1356 non-null   object\n",
      " 19  75~79세    1356 non-null   object\n",
      " 20  80~84세    1356 non-null   object\n",
      " 21  85~89세    1356 non-null   object\n",
      " 22  90~94세    1356 non-null   object\n",
      " 23  95~99세    1356 non-null   object\n",
      " 24  100세 이상+  1356 non-null   object\n",
      "dtypes: object(25)\n",
      "memory usage: 265.0+ KB\n"
     ]
    }
   ],
   "source": [
    "pop_age.info()"
   ]
  },
  {
   "cell_type": "markdown",
   "id": "95f83701",
   "metadata": {
    "id": "95f83701"
   },
   "source": [
    "-분석에 필요없는 열 삭제"
   ]
  },
  {
   "cell_type": "code",
   "execution_count": 4,
   "id": "8d2c63db",
   "metadata": {
    "ExecuteTime": {
     "end_time": "2022-05-22T09:29:27.204436Z",
     "start_time": "2022-05-22T09:29:27.172208Z"
    },
    "id": "8d2c63db"
   },
   "outputs": [],
   "source": [
    "#데이터타입 int로 변경\n",
    "pop_age['0~4세'] = pd.to_numeric(pop_age['0~4세'],errors='coerce')\n",
    "pop_age['5~9세'] = pd.to_numeric(pop_age['5~9세'],errors='coerce')\n",
    "pop_age['10~14세'] = pd.to_numeric(pop_age['10~14세'],errors='coerce')\n",
    "pop_age['15~19세'] = pd.to_numeric(pop_age['15~19세'],errors='coerce')\n",
    "pop_age['20~24세'] = pd.to_numeric(pop_age['20~24세'],errors='coerce')\n",
    "pop_age['30~34세'] = pd.to_numeric(pop_age['30~34세'],errors='coerce')\n",
    "pop_age['45~49세'] = pd.to_numeric(pop_age['45~49세'],errors='coerce')\n",
    "pop_age['50~54세'] = pd.to_numeric(pop_age['50~54세'],errors='coerce')\n",
    "pop_age['70~74세'] = pd.to_numeric(pop_age['70~74세'],errors='coerce')\n",
    "pop_age['75~79세'] = pd.to_numeric(pop_age['75~79세'],errors='coerce')\n",
    "pop_age['80~84세'] = pd.to_numeric(pop_age['80~84세'],errors='coerce')\n",
    "pop_age['85~89세'] = pd.to_numeric(pop_age['85~89세'],errors='coerce')\n",
    "pop_age['90~94세'] = pd.to_numeric(pop_age['90~94세'],errors='coerce')\n",
    "pop_age['95~99세'] = pd.to_numeric(pop_age['95~99세'],errors='coerce')\n",
    "pop_age['100세 이상+'] = pd.to_numeric(pop_age['100세 이상+'],errors='coerce')"
   ]
  },
  {
   "cell_type": "code",
   "execution_count": 5,
   "id": "f1c73118",
   "metadata": {
    "ExecuteTime": {
     "end_time": "2022-05-22T09:29:27.223758Z",
     "start_time": "2022-05-22T09:29:27.205204Z"
    },
    "id": "f1c73118",
    "outputId": "7f64dae7-dec7-43e8-a9cc-459cafdfc279"
   },
   "outputs": [
    {
     "data": {
      "text/plain": [
       "자치구           0\n",
       "동             0\n",
       "구분            0\n",
       "계             0\n",
       "0~4세        136\n",
       "5~9세        227\n",
       "10~14세      256\n",
       "15~19세      277\n",
       "20~24세      541\n",
       "25~29세        0\n",
       "30~34세      689\n",
       "35~39세        0\n",
       "40~44세        0\n",
       "45~49세      734\n",
       "50~54세      767\n",
       "55~59세        0\n",
       "60~64세        0\n",
       "65~69세        0\n",
       "70~74세      249\n",
       "75~79세      148\n",
       "80~84세       83\n",
       "85~89세       73\n",
       "90~94세       32\n",
       "95~99세       18\n",
       "100세 이상+    298\n",
       "dtype: int64"
      ]
     },
     "execution_count": 5,
     "metadata": {},
     "output_type": "execute_result"
    }
   ],
   "source": [
    "#결측값 확인\n",
    "pop_age.isnull().sum()"
   ]
  },
  {
   "cell_type": "code",
   "execution_count": 6,
   "id": "4029242a",
   "metadata": {
    "ExecuteTime": {
     "end_time": "2022-05-22T09:29:27.247781Z",
     "start_time": "2022-05-22T09:29:27.223758Z"
    },
    "id": "4029242a"
   },
   "outputs": [],
   "source": [
    "#결측치 중앙값으로 대체\n",
    "pop_age['0~4세'] = pop_age['0~4세'].fillna(pop_age['0~4세'].median())\n",
    "pop_age['0~4세'] = pop_age['0~4세'].astype('int')\n",
    "pop_age['5~9세'] = pop_age['5~9세'].fillna(pop_age['5~9세'].median())\n",
    "pop_age['5~9세'] = pop_age['5~9세'].astype('int')\n",
    "pop_age['10~14세'] = pop_age['10~14세'].fillna(pop_age['10~14세'].median())\n",
    "pop_age['10~14세'] = pop_age['10~14세'].astype('int')\n",
    "pop_age['15~19세'] = pop_age['15~19세'].fillna(pop_age['15~19세'].median())\n",
    "pop_age['15~19세'] = pop_age['15~19세'].astype('int')\n",
    "pop_age['20~24세'] = pop_age['20~24세'].fillna(pop_age['20~24세'].median())\n",
    "pop_age['20~24세'] = pop_age['20~24세'].astype('int')\n",
    "pop_age['30~34세'] = pop_age['30~34세'].fillna(pop_age['30~34세'].median())\n",
    "pop_age['30~34세'] = pop_age['30~34세'].astype('int')\n",
    "pop_age['45~49세'] = pop_age['45~49세'].fillna(pop_age['45~49세'].median())\n",
    "pop_age['45~49세'] = pop_age['45~49세'].astype('int')\n",
    "pop_age['50~54세'] = pop_age['50~54세'].fillna(pop_age['50~54세'].median())\n",
    "pop_age['50~54세'] = pop_age['50~54세'].astype('int')\n",
    "pop_age['70~74세'] = pop_age['70~74세'].fillna(pop_age['70~74세'].median())\n",
    "pop_age['70~74세'] = pop_age['70~74세'].astype('int')\n",
    "pop_age['75~79세'] = pop_age['75~79세'].fillna(pop_age['75~79세'].median())\n",
    "pop_age['75~79세'] = pop_age['75~79세'].astype('int')\n",
    "pop_age['80~84세'] = pop_age['80~84세'].fillna(pop_age['80~84세'].median())\n",
    "pop_age['80~84세'] = pop_age['80~84세'].astype('int')\n",
    "pop_age['85~89세'] = pop_age['85~89세'].fillna(pop_age['85~89세'].median())\n",
    "pop_age['85~89세'] = pop_age['85~89세'].astype('int')\n",
    "pop_age['90~94세'] = pop_age['90~94세'].fillna(pop_age['90~94세'].median())\n",
    "pop_age['90~94세'] = pop_age['90~94세'].astype('int')\n",
    "pop_age['95~99세'] = pop_age['95~99세'].fillna(pop_age['95~99세'].median())\n",
    "pop_age['95~99세'] = pop_age['95~99세'].astype('int')\n",
    "\n",
    "#100세 이상 결측값은 0으로 대체\n",
    "pop_age['100세 이상+'] = pop_age['100세 이상+'].fillna(0)\n",
    "pop_age['100세 이상+'] = pop_age['100세 이상+'].astype('int')"
   ]
  },
  {
   "cell_type": "code",
   "execution_count": 7,
   "id": "b63c84ae",
   "metadata": {
    "ExecuteTime": {
     "end_time": "2022-05-22T09:29:27.255710Z",
     "start_time": "2022-05-22T09:29:27.247781Z"
    },
    "id": "b63c84ae"
   },
   "outputs": [],
   "source": [
    "#이상치 없음"
   ]
  },
  {
   "cell_type": "code",
   "execution_count": 8,
   "id": "fc64d865",
   "metadata": {
    "ExecuteTime": {
     "end_time": "2022-05-22T09:29:27.267616Z",
     "start_time": "2022-05-22T09:29:27.255710Z"
    },
    "id": "fc64d865",
    "scrolled": true
   },
   "outputs": [],
   "source": [
    "#중복값 삭제\n",
    "#자치구열에 합계 행 삭제\n",
    "all = pop_age[pop_age['자치구'].str.contains('합계')].index\n",
    "pop_age.drop(all, inplace=True)"
   ]
  },
  {
   "cell_type": "markdown",
   "id": "1736cf8d",
   "metadata": {
    "id": "1736cf8d"
   },
   "source": [
    "### Analyze"
   ]
  },
  {
   "cell_type": "markdown",
   "id": "93326635",
   "metadata": {
    "id": "93326635"
   },
   "source": [
    "#### 분석에 필요하지 않은 데이터 정리"
   ]
  },
  {
   "cell_type": "code",
   "execution_count": 9,
   "id": "41ee04c8",
   "metadata": {
    "ExecuteTime": {
     "end_time": "2022-05-22T09:29:27.282269Z",
     "start_time": "2022-05-22T09:29:27.268731Z"
    },
    "id": "41ee04c8"
   },
   "outputs": [],
   "source": [
    "#자치구만 냅두고 '~동' 이 들어간 행은 삭제\n",
    "all = pop_age[pop_age['동'].str.contains('동')].index\n",
    "pop_age.drop(all, inplace=True)"
   ]
  },
  {
   "cell_type": "code",
   "execution_count": 10,
   "id": "b3bd12c0",
   "metadata": {
    "ExecuteTime": {
     "end_time": "2022-05-22T09:29:27.310694Z",
     "start_time": "2022-05-22T09:29:27.302282Z"
    },
    "id": "b3bd12c0"
   },
   "outputs": [],
   "source": [
    "#구분 열에 남자 삭제\n",
    "all = pop_age[pop_age['구분'].str.contains('남자')].index\n",
    "pop_age.drop(all, inplace=True)"
   ]
  },
  {
   "cell_type": "code",
   "execution_count": 11,
   "id": "23c31efe",
   "metadata": {
    "ExecuteTime": {
     "end_time": "2022-05-22T09:29:27.318766Z",
     "start_time": "2022-05-22T09:29:27.310694Z"
    },
    "id": "23c31efe"
   },
   "outputs": [],
   "source": [
    "#구분 열에 여자 삭제\n",
    "all = pop_age[pop_age['구분'].str.contains('여자')].index\n",
    "pop_age.drop(all, inplace=True)"
   ]
  },
  {
   "cell_type": "code",
   "execution_count": 12,
   "id": "5275b086",
   "metadata": {
    "ExecuteTime": {
     "end_time": "2022-05-22T09:29:27.329178Z",
     "start_time": "2022-05-22T09:29:27.318766Z"
    },
    "id": "5275b086"
   },
   "outputs": [],
   "source": [
    "#시각화에 필요없는 열 삭제(학령인구만 냅두기)\n",
    "pop_age=pop_age.drop(['동','구분','0~4세','20~24세','25~29세','30~34세', '35~39세','40~44세','45~49세','50~54세','55~59세',\n",
    "                      '60~64세','65~69세','70~74세','75~79세','80~84세', '85~89세','90~94세','95~99세','100세 이상+'], axis=1)"
   ]
  },
  {
   "cell_type": "code",
   "execution_count": 13,
   "id": "a99d8eec",
   "metadata": {
    "ExecuteTime": {
     "end_time": "2022-05-22T09:29:27.342785Z",
     "start_time": "2022-05-22T09:29:27.331151Z"
    },
    "id": "a99d8eec",
    "scrolled": true
   },
   "outputs": [],
   "source": [
    "#기존 '계' 열이 100세 이상까지의 모든 합계를 계산해서 삭제(아래 새로운걸로 추가함)\n",
    "pop_age=pop_age.drop(['계'], axis=1)"
   ]
  },
  {
   "cell_type": "code",
   "execution_count": 14,
   "id": "de1ab4ab",
   "metadata": {
    "ExecuteTime": {
     "end_time": "2022-05-22T09:29:27.351193Z",
     "start_time": "2022-05-22T09:29:27.343176Z"
    },
    "id": "de1ab4ab"
   },
   "outputs": [],
   "source": [
    "pop_age=pop_age.sort_values(by=['자치구'])"
   ]
  },
  {
   "cell_type": "code",
   "execution_count": 15,
   "id": "c70adbd2",
   "metadata": {
    "ExecuteTime": {
     "end_time": "2022-05-22T09:29:27.359241Z",
     "start_time": "2022-05-22T09:29:27.351193Z"
    },
    "id": "c70adbd2"
   },
   "outputs": [],
   "source": [
    "#기존의 '계' 대신 진짜 필요한 학령인구들의 합계를 다시 계산해서 새로운 열로 추가\n",
    "pop_age['계'] = [81486,58305,30103,65490,39587,36067,44432,20842,70698,35367,34172,40667,41206,33882,64889,29465,52755,86567,69258,36844,21954,54286,14972,9998,38208]"
   ]
  },
  {
   "cell_type": "code",
   "execution_count": 16,
   "id": "979803f8",
   "metadata": {
    "ExecuteTime": {
     "end_time": "2022-05-22T09:29:27.397735Z",
     "start_time": "2022-05-22T09:29:27.362063Z"
    },
    "id": "979803f8",
    "outputId": "ea8d09c6-3d39-4112-c6e5-ef6c5660fc15"
   },
   "outputs": [
    {
     "data": {
      "text/html": [
       "<div>\n",
       "<style scoped>\n",
       "    .dataframe tbody tr th:only-of-type {\n",
       "        vertical-align: middle;\n",
       "    }\n",
       "\n",
       "    .dataframe tbody tr th {\n",
       "        vertical-align: top;\n",
       "    }\n",
       "\n",
       "    .dataframe thead th {\n",
       "        text-align: right;\n",
       "    }\n",
       "</style>\n",
       "<table border=\"1\" class=\"dataframe\">\n",
       "  <thead>\n",
       "    <tr style=\"text-align: right;\">\n",
       "      <th></th>\n",
       "      <th>자치구</th>\n",
       "      <th>학원/교습소</th>\n",
       "      <th>학원명</th>\n",
       "      <th>도로명주소</th>\n",
       "      <th>도로명상세주소</th>\n",
       "      <th>분야명</th>\n",
       "      <th>교습계열명</th>\n",
       "      <th>교습과정명</th>\n",
       "      <th>정원합계</th>\n",
       "      <th>일시수용능력인원합계</th>\n",
       "      <th>인당수강료내용</th>\n",
       "      <th>기숙사학원여부</th>\n",
       "      <th>등록일자</th>\n",
       "      <th>휴원시작일자</th>\n",
       "      <th>휴원종료일자</th>\n",
       "      <th>개설일자</th>\n",
       "      <th>개설연도</th>\n",
       "    </tr>\n",
       "  </thead>\n",
       "  <tbody>\n",
       "    <tr>\n",
       "      <th>8564</th>\n",
       "      <td>강남구</td>\n",
       "      <td>학원</td>\n",
       "      <td>아이비스학원</td>\n",
       "      <td>강남구 삼성로 331</td>\n",
       "      <td>/ 2층 (대치동)</td>\n",
       "      <td>입시.검정 및 보습</td>\n",
       "      <td>보통교과</td>\n",
       "      <td>보습</td>\n",
       "      <td>201</td>\n",
       "      <td>129</td>\n",
       "      <td>알수없음</td>\n",
       "      <td>N</td>\n",
       "      <td>2012-11-20</td>\n",
       "      <td>0</td>\n",
       "      <td>0</td>\n",
       "      <td>2012-11-20</td>\n",
       "      <td>2012</td>\n",
       "    </tr>\n",
       "    <tr>\n",
       "      <th>10501</th>\n",
       "      <td>강남구</td>\n",
       "      <td>학원</td>\n",
       "      <td>이루리2관학원</td>\n",
       "      <td>강남구 도곡로77길 5</td>\n",
       "      <td>/ 5층 전체 (대치동)</td>\n",
       "      <td>입시.검정 및 보습</td>\n",
       "      <td>보통교과</td>\n",
       "      <td>보습·논술</td>\n",
       "      <td>260</td>\n",
       "      <td>81</td>\n",
       "      <td>알수없음</td>\n",
       "      <td>N</td>\n",
       "      <td>2014-09-02</td>\n",
       "      <td>0</td>\n",
       "      <td>0</td>\n",
       "      <td>2014-09-02</td>\n",
       "      <td>2014</td>\n",
       "    </tr>\n",
       "    <tr>\n",
       "      <th>20148</th>\n",
       "      <td>강남구</td>\n",
       "      <td>학원</td>\n",
       "      <td>새움입시연구소`길`학원</td>\n",
       "      <td>강남구 도곡로73길 5</td>\n",
       "      <td>/ 4층 전체 (대치동)</td>\n",
       "      <td>입시.검정 및 보습</td>\n",
       "      <td>진학지도</td>\n",
       "      <td>진학상담지도</td>\n",
       "      <td>25</td>\n",
       "      <td>71</td>\n",
       "      <td>알수없음</td>\n",
       "      <td>N</td>\n",
       "      <td>2020-08-31</td>\n",
       "      <td>0</td>\n",
       "      <td>0</td>\n",
       "      <td>2020-08-31</td>\n",
       "      <td>2020</td>\n",
       "    </tr>\n",
       "    <tr>\n",
       "      <th>20150</th>\n",
       "      <td>강남구</td>\n",
       "      <td>교습소</td>\n",
       "      <td>해솔수학교습소</td>\n",
       "      <td>강남구 선릉로 320</td>\n",
       "      <td>/ 302호 (대치동/ 성진빌딩)</td>\n",
       "      <td>입시.검정 및 보습</td>\n",
       "      <td>보통교과</td>\n",
       "      <td>보습</td>\n",
       "      <td>42</td>\n",
       "      <td>6</td>\n",
       "      <td>알수없음</td>\n",
       "      <td>N</td>\n",
       "      <td>2020-09-03</td>\n",
       "      <td>0</td>\n",
       "      <td>0</td>\n",
       "      <td>2020-09-03</td>\n",
       "      <td>2020</td>\n",
       "    </tr>\n",
       "    <tr>\n",
       "      <th>10496</th>\n",
       "      <td>강남구</td>\n",
       "      <td>학원</td>\n",
       "      <td>스터디피티학원</td>\n",
       "      <td>강남구 도곡로63길 27</td>\n",
       "      <td>/ 1층?3층 (대치동/ 시온빌딩)</td>\n",
       "      <td>입시.검정 및 보습</td>\n",
       "      <td>보통교과</td>\n",
       "      <td>보습·논술</td>\n",
       "      <td>1160</td>\n",
       "      <td>73</td>\n",
       "      <td>알수없음</td>\n",
       "      <td>N</td>\n",
       "      <td>2014-07-17</td>\n",
       "      <td>0</td>\n",
       "      <td>0</td>\n",
       "      <td>2014-07-17</td>\n",
       "      <td>2014</td>\n",
       "    </tr>\n",
       "    <tr>\n",
       "      <th>...</th>\n",
       "      <td>...</td>\n",
       "      <td>...</td>\n",
       "      <td>...</td>\n",
       "      <td>...</td>\n",
       "      <td>...</td>\n",
       "      <td>...</td>\n",
       "      <td>...</td>\n",
       "      <td>...</td>\n",
       "      <td>...</td>\n",
       "      <td>...</td>\n",
       "      <td>...</td>\n",
       "      <td>...</td>\n",
       "      <td>...</td>\n",
       "      <td>...</td>\n",
       "      <td>...</td>\n",
       "      <td>...</td>\n",
       "      <td>...</td>\n",
       "    </tr>\n",
       "    <tr>\n",
       "      <th>1931</th>\n",
       "      <td>중랑구</td>\n",
       "      <td>교습소</td>\n",
       "      <td>수(秀)피아노교습소</td>\n",
       "      <td>중랑구 신내로17길 83</td>\n",
       "      <td>신내아파트상가동 2층 211호</td>\n",
       "      <td>예능(대)</td>\n",
       "      <td>예능(중)</td>\n",
       "      <td>음악</td>\n",
       "      <td>15</td>\n",
       "      <td>5</td>\n",
       "      <td>알수없음</td>\n",
       "      <td>N</td>\n",
       "      <td>2006-01-10</td>\n",
       "      <td>0</td>\n",
       "      <td>0</td>\n",
       "      <td>2006-01-10</td>\n",
       "      <td>2006</td>\n",
       "    </tr>\n",
       "    <tr>\n",
       "      <th>19686</th>\n",
       "      <td>중랑구</td>\n",
       "      <td>교습소</td>\n",
       "      <td>우리수학교습소</td>\n",
       "      <td>중랑구 용마산로94길 32</td>\n",
       "      <td>/ 1층 일부 (면목동)</td>\n",
       "      <td>입시.검정 및 보습</td>\n",
       "      <td>보통교과</td>\n",
       "      <td>보습</td>\n",
       "      <td>25</td>\n",
       "      <td>5</td>\n",
       "      <td>알수없음</td>\n",
       "      <td>N</td>\n",
       "      <td>2020-05-12</td>\n",
       "      <td>0</td>\n",
       "      <td>0</td>\n",
       "      <td>2020-05-12</td>\n",
       "      <td>2020</td>\n",
       "    </tr>\n",
       "    <tr>\n",
       "      <th>6129</th>\n",
       "      <td>중랑구</td>\n",
       "      <td>학원</td>\n",
       "      <td>최실용음악학원</td>\n",
       "      <td>중랑구 망우로 499</td>\n",
       "      <td>3층일부 (망우동)</td>\n",
       "      <td>기예(대)</td>\n",
       "      <td>기예(중)</td>\n",
       "      <td>실용음악(성악)</td>\n",
       "      <td>292</td>\n",
       "      <td>52</td>\n",
       "      <td>알수없음</td>\n",
       "      <td>N</td>\n",
       "      <td>2010-02-04</td>\n",
       "      <td>0</td>\n",
       "      <td>0</td>\n",
       "      <td>2010-02-04</td>\n",
       "      <td>2010</td>\n",
       "    </tr>\n",
       "    <tr>\n",
       "      <th>22090</th>\n",
       "      <td>중랑구</td>\n",
       "      <td>교습소</td>\n",
       "      <td>스터디움수학교습소</td>\n",
       "      <td>중랑구 망우로73길 37</td>\n",
       "      <td>/ 1층 일부 (망우동)</td>\n",
       "      <td>입시.검정 및 보습</td>\n",
       "      <td>보통교과</td>\n",
       "      <td>보습</td>\n",
       "      <td>27</td>\n",
       "      <td>9</td>\n",
       "      <td>알수없음</td>\n",
       "      <td>N</td>\n",
       "      <td>2021-08-27</td>\n",
       "      <td>0</td>\n",
       "      <td>0</td>\n",
       "      <td>2021-08-27</td>\n",
       "      <td>2021</td>\n",
       "    </tr>\n",
       "    <tr>\n",
       "      <th>4430</th>\n",
       "      <td>중랑구</td>\n",
       "      <td>학원</td>\n",
       "      <td>포커스학원</td>\n",
       "      <td>중랑구 면목로42길 6</td>\n",
       "      <td>(면목동)</td>\n",
       "      <td>입시.검정 및 보습</td>\n",
       "      <td>보통교과</td>\n",
       "      <td>보습</td>\n",
       "      <td>53</td>\n",
       "      <td>85</td>\n",
       "      <td>알수없음</td>\n",
       "      <td>N</td>\n",
       "      <td>2008-05-14</td>\n",
       "      <td>0</td>\n",
       "      <td>0</td>\n",
       "      <td>2008-05-14</td>\n",
       "      <td>2008</td>\n",
       "    </tr>\n",
       "  </tbody>\n",
       "</table>\n",
       "<p>24939 rows × 17 columns</p>\n",
       "</div>"
      ],
      "text/plain": [
       "       자치구 학원/교습소           학원명            도로명주소              도로명상세주소  \\\n",
       "8564   강남구     학원        아이비스학원      강남구 삼성로 331           / 2층 (대치동)   \n",
       "10501  강남구     학원       이루리2관학원     강남구 도곡로77길 5        / 5층 전체 (대치동)   \n",
       "20148  강남구     학원  새움입시연구소`길`학원     강남구 도곡로73길 5        / 4층 전체 (대치동)   \n",
       "20150  강남구    교습소       해솔수학교습소      강남구 선릉로 320   / 302호 (대치동/ 성진빌딩)   \n",
       "10496  강남구     학원       스터디피티학원    강남구 도곡로63길 27  / 1층?3층 (대치동/ 시온빌딩)   \n",
       "...    ...    ...           ...              ...                  ...   \n",
       "1931   중랑구    교습소    수(秀)피아노교습소    중랑구 신내로17길 83     신내아파트상가동 2층 211호   \n",
       "19686  중랑구    교습소       우리수학교습소   중랑구 용마산로94길 32        / 1층 일부 (면목동)   \n",
       "6129   중랑구     학원       최실용음악학원      중랑구 망우로 499           3층일부 (망우동)   \n",
       "22090  중랑구    교습소     스터디움수학교습소    중랑구 망우로73길 37        / 1층 일부 (망우동)   \n",
       "4430   중랑구     학원         포커스학원     중랑구 면목로42길 6                (면목동)   \n",
       "\n",
       "              분야명  교습계열명     교습과정명  정원합계  일시수용능력인원합계 인당수강료내용 기숙사학원여부  \\\n",
       "8564   입시.검정 및 보습   보통교과        보습   201         129    알수없음       N   \n",
       "10501  입시.검정 및 보습   보통교과     보습·논술   260          81    알수없음       N   \n",
       "20148  입시.검정 및 보습   진학지도    진학상담지도    25          71    알수없음       N   \n",
       "20150  입시.검정 및 보습   보통교과        보습    42           6    알수없음       N   \n",
       "10496  입시.검정 및 보습   보통교과     보습·논술  1160          73    알수없음       N   \n",
       "...           ...    ...       ...   ...         ...     ...     ...   \n",
       "1931        예능(대)  예능(중)        음악    15           5    알수없음       N   \n",
       "19686  입시.검정 및 보습   보통교과        보습    25           5    알수없음       N   \n",
       "6129        기예(대)  기예(중)  실용음악(성악)   292          52    알수없음       N   \n",
       "22090  입시.검정 및 보습   보통교과        보습    27           9    알수없음       N   \n",
       "4430   입시.검정 및 보습   보통교과        보습    53          85    알수없음       N   \n",
       "\n",
       "            등록일자  휴원시작일자  휴원종료일자       개설일자  개설연도  \n",
       "8564  2012-11-20       0       0 2012-11-20  2012  \n",
       "10501 2014-09-02       0       0 2014-09-02  2014  \n",
       "20148 2020-08-31       0       0 2020-08-31  2020  \n",
       "20150 2020-09-03       0       0 2020-09-03  2020  \n",
       "10496 2014-07-17       0       0 2014-07-17  2014  \n",
       "...          ...     ...     ...        ...   ...  \n",
       "1931  2006-01-10       0       0 2006-01-10  2006  \n",
       "19686 2020-05-12       0       0 2020-05-12  2020  \n",
       "6129  2010-02-04       0       0 2010-02-04  2010  \n",
       "22090 2021-08-27       0       0 2021-08-27  2021  \n",
       "4430  2008-05-14       0       0 2008-05-14  2008  \n",
       "\n",
       "[24939 rows x 17 columns]"
      ]
     },
     "execution_count": 16,
     "metadata": {},
     "output_type": "execute_result"
    }
   ],
   "source": [
    "#자치구 기준 정렬\n",
    "academy.sort_values(by=['자치구'])"
   ]
  },
  {
   "cell_type": "code",
   "execution_count": 17,
   "id": "ff270478",
   "metadata": {
    "ExecuteTime": {
     "end_time": "2022-05-22T09:29:27.405752Z",
     "start_time": "2022-05-22T09:29:27.397735Z"
    },
    "id": "ff270478",
    "outputId": "03b4577e-31d0-46bb-bd68-e182d5667ebf",
    "scrolled": false
   },
   "outputs": [
    {
     "data": {
      "text/plain": [
       "강남구     3417\n",
       "양천구     2124\n",
       "송파구     1904\n",
       "서초구     1841\n",
       "노원구     1433\n",
       "강서구     1307\n",
       "강동구     1249\n",
       "마포구     1103\n",
       "은평구     1064\n",
       "성북구      955\n",
       "동작구      925\n",
       "영등포구     801\n",
       "관악구      776\n",
       "광진구      771\n",
       "구로구      747\n",
       "서대문구     710\n",
       "동대문구     625\n",
       "도봉구      611\n",
       "중랑구      546\n",
       "성동구      524\n",
       "강북구      436\n",
       "금천구      361\n",
       "종로구      302\n",
       "용산구      257\n",
       "중구       150\n",
       "Name: 자치구, dtype: int64"
      ]
     },
     "execution_count": 17,
     "metadata": {},
     "output_type": "execute_result"
    }
   ],
   "source": [
    "#자치구별 학원 개수 파악\n",
    "academy['자치구'].value_counts()"
   ]
  },
  {
   "cell_type": "code",
   "execution_count": 18,
   "id": "31d20213",
   "metadata": {
    "ExecuteTime": {
     "end_time": "2022-05-22T09:29:27.433011Z",
     "start_time": "2022-05-22T09:29:27.405752Z"
    },
    "id": "31d20213",
    "outputId": "59d3f205-e44e-47b2-f31d-f634010cbc02"
   },
   "outputs": [
    {
     "data": {
      "text/html": [
       "<div>\n",
       "<style scoped>\n",
       "    .dataframe tbody tr th:only-of-type {\n",
       "        vertical-align: middle;\n",
       "    }\n",
       "\n",
       "    .dataframe tbody tr th {\n",
       "        vertical-align: top;\n",
       "    }\n",
       "\n",
       "    .dataframe thead th {\n",
       "        text-align: right;\n",
       "    }\n",
       "</style>\n",
       "<table border=\"1\" class=\"dataframe\">\n",
       "  <thead>\n",
       "    <tr style=\"text-align: right;\">\n",
       "      <th></th>\n",
       "      <th>자치구</th>\n",
       "      <th>학원수</th>\n",
       "    </tr>\n",
       "  </thead>\n",
       "  <tbody>\n",
       "    <tr>\n",
       "      <th>0</th>\n",
       "      <td>강남구</td>\n",
       "      <td>3417</td>\n",
       "    </tr>\n",
       "    <tr>\n",
       "      <th>1</th>\n",
       "      <td>양천구</td>\n",
       "      <td>2124</td>\n",
       "    </tr>\n",
       "    <tr>\n",
       "      <th>2</th>\n",
       "      <td>송파구</td>\n",
       "      <td>1904</td>\n",
       "    </tr>\n",
       "    <tr>\n",
       "      <th>3</th>\n",
       "      <td>서초구</td>\n",
       "      <td>1841</td>\n",
       "    </tr>\n",
       "    <tr>\n",
       "      <th>4</th>\n",
       "      <td>노원구</td>\n",
       "      <td>1433</td>\n",
       "    </tr>\n",
       "    <tr>\n",
       "      <th>5</th>\n",
       "      <td>강서구</td>\n",
       "      <td>1307</td>\n",
       "    </tr>\n",
       "    <tr>\n",
       "      <th>6</th>\n",
       "      <td>강동구</td>\n",
       "      <td>1249</td>\n",
       "    </tr>\n",
       "    <tr>\n",
       "      <th>7</th>\n",
       "      <td>마포구</td>\n",
       "      <td>1103</td>\n",
       "    </tr>\n",
       "    <tr>\n",
       "      <th>8</th>\n",
       "      <td>은평구</td>\n",
       "      <td>1064</td>\n",
       "    </tr>\n",
       "    <tr>\n",
       "      <th>9</th>\n",
       "      <td>성북구</td>\n",
       "      <td>955</td>\n",
       "    </tr>\n",
       "    <tr>\n",
       "      <th>10</th>\n",
       "      <td>동작구</td>\n",
       "      <td>925</td>\n",
       "    </tr>\n",
       "    <tr>\n",
       "      <th>11</th>\n",
       "      <td>영등포구</td>\n",
       "      <td>801</td>\n",
       "    </tr>\n",
       "    <tr>\n",
       "      <th>12</th>\n",
       "      <td>관악구</td>\n",
       "      <td>776</td>\n",
       "    </tr>\n",
       "    <tr>\n",
       "      <th>13</th>\n",
       "      <td>광진구</td>\n",
       "      <td>771</td>\n",
       "    </tr>\n",
       "    <tr>\n",
       "      <th>14</th>\n",
       "      <td>구로구</td>\n",
       "      <td>747</td>\n",
       "    </tr>\n",
       "    <tr>\n",
       "      <th>15</th>\n",
       "      <td>서대문구</td>\n",
       "      <td>710</td>\n",
       "    </tr>\n",
       "    <tr>\n",
       "      <th>16</th>\n",
       "      <td>동대문구</td>\n",
       "      <td>625</td>\n",
       "    </tr>\n",
       "    <tr>\n",
       "      <th>17</th>\n",
       "      <td>도봉구</td>\n",
       "      <td>611</td>\n",
       "    </tr>\n",
       "    <tr>\n",
       "      <th>18</th>\n",
       "      <td>중랑구</td>\n",
       "      <td>546</td>\n",
       "    </tr>\n",
       "    <tr>\n",
       "      <th>19</th>\n",
       "      <td>성동구</td>\n",
       "      <td>524</td>\n",
       "    </tr>\n",
       "    <tr>\n",
       "      <th>20</th>\n",
       "      <td>강북구</td>\n",
       "      <td>436</td>\n",
       "    </tr>\n",
       "    <tr>\n",
       "      <th>21</th>\n",
       "      <td>금천구</td>\n",
       "      <td>361</td>\n",
       "    </tr>\n",
       "    <tr>\n",
       "      <th>22</th>\n",
       "      <td>종로구</td>\n",
       "      <td>302</td>\n",
       "    </tr>\n",
       "    <tr>\n",
       "      <th>23</th>\n",
       "      <td>용산구</td>\n",
       "      <td>257</td>\n",
       "    </tr>\n",
       "    <tr>\n",
       "      <th>24</th>\n",
       "      <td>중구</td>\n",
       "      <td>150</td>\n",
       "    </tr>\n",
       "  </tbody>\n",
       "</table>\n",
       "</div>"
      ],
      "text/plain": [
       "     자치구   학원수\n",
       "0    강남구  3417\n",
       "1    양천구  2124\n",
       "2    송파구  1904\n",
       "3    서초구  1841\n",
       "4    노원구  1433\n",
       "5    강서구  1307\n",
       "6    강동구  1249\n",
       "7    마포구  1103\n",
       "8    은평구  1064\n",
       "9    성북구   955\n",
       "10   동작구   925\n",
       "11  영등포구   801\n",
       "12   관악구   776\n",
       "13   광진구   771\n",
       "14   구로구   747\n",
       "15  서대문구   710\n",
       "16  동대문구   625\n",
       "17   도봉구   611\n",
       "18   중랑구   546\n",
       "19   성동구   524\n",
       "20   강북구   436\n",
       "21   금천구   361\n",
       "22   종로구   302\n",
       "23   용산구   257\n",
       "24    중구   150"
      ]
     },
     "execution_count": 18,
     "metadata": {},
     "output_type": "execute_result"
    }
   ],
   "source": [
    "#새로운 데이터프레임 df1 생성해서 자치구별 학원 개수 넣음\n",
    "#자치구명은 object, 학원 개수는 int\n",
    "df1 = pd.DataFrame(academy[['자치구']].value_counts())\n",
    "df1.rename(columns={0 : '학원수'}, inplace=True)\n",
    "df1 = df1.reset_index() ; df1"
   ]
  },
  {
   "cell_type": "code",
   "execution_count": 19,
   "id": "2aba0e4e",
   "metadata": {
    "ExecuteTime": {
     "end_time": "2022-05-22T09:29:27.441773Z",
     "start_time": "2022-05-22T09:29:27.433497Z"
    },
    "id": "2aba0e4e"
   },
   "outputs": [],
   "source": [
    "#df1 자치구 기준으로 정렬하기\n",
    "df1=df1.sort_values(by=['자치구'])"
   ]
  },
  {
   "cell_type": "markdown",
   "id": "2ec6992b",
   "metadata": {
    "id": "2ec6992b"
   },
   "source": [
    "-성별 구분 없이 학생 합치기"
   ]
  },
  {
   "cell_type": "code",
   "execution_count": 20,
   "id": "ce06e90f",
   "metadata": {
    "ExecuteTime": {
     "end_time": "2022-05-22T09:29:27.449733Z",
     "start_time": "2022-05-22T09:29:27.441773Z"
    },
    "id": "ce06e90f"
   },
   "outputs": [],
   "source": [
    "pop_age.columns = ['자치구', '5~9세', '10~14세', '15~19세', '계']\n",
    "pop_age.rename(columns = {'계' : '총 학령인구'}, inplace = True)"
   ]
  },
  {
   "cell_type": "code",
   "execution_count": 21,
   "id": "1fe722d1",
   "metadata": {
    "ExecuteTime": {
     "end_time": "2022-05-22T09:29:27.466885Z",
     "start_time": "2022-05-22T09:29:27.450448Z"
    },
    "id": "1fe722d1",
    "outputId": "81601dba-5cb3-4421-c848-b695bd58e269"
   },
   "outputs": [
    {
     "data": {
      "text/html": [
       "<div>\n",
       "<style scoped>\n",
       "    .dataframe tbody tr th:only-of-type {\n",
       "        vertical-align: middle;\n",
       "    }\n",
       "\n",
       "    .dataframe tbody tr th {\n",
       "        vertical-align: top;\n",
       "    }\n",
       "\n",
       "    .dataframe thead th {\n",
       "        text-align: right;\n",
       "    }\n",
       "</style>\n",
       "<table border=\"1\" class=\"dataframe\">\n",
       "  <thead>\n",
       "    <tr style=\"text-align: right;\">\n",
       "      <th></th>\n",
       "      <th>자치구</th>\n",
       "      <th>5~9세</th>\n",
       "      <th>10~14세</th>\n",
       "      <th>15~19세</th>\n",
       "      <th>총 학령인구</th>\n",
       "    </tr>\n",
       "  </thead>\n",
       "  <tbody>\n",
       "    <tr>\n",
       "      <th>1143</th>\n",
       "      <td>강남구</td>\n",
       "      <td>378</td>\n",
       "      <td>389</td>\n",
       "      <td>447</td>\n",
       "      <td>81486</td>\n",
       "    </tr>\n",
       "    <tr>\n",
       "      <th>1296</th>\n",
       "      <td>강동구</td>\n",
       "      <td>378</td>\n",
       "      <td>389</td>\n",
       "      <td>447</td>\n",
       "      <td>58305</td>\n",
       "    </tr>\n",
       "    <tr>\n",
       "      <th>417</th>\n",
       "      <td>강북구</td>\n",
       "      <td>378</td>\n",
       "      <td>389</td>\n",
       "      <td>447</td>\n",
       "      <td>30103</td>\n",
       "    </tr>\n",
       "    <tr>\n",
       "      <th>768</th>\n",
       "      <td>강서구</td>\n",
       "      <td>378</td>\n",
       "      <td>389</td>\n",
       "      <td>447</td>\n",
       "      <td>65490</td>\n",
       "    </tr>\n",
       "    <tr>\n",
       "      <th>1020</th>\n",
       "      <td>관악구</td>\n",
       "      <td>378</td>\n",
       "      <td>389</td>\n",
       "      <td>447</td>\n",
       "      <td>39587</td>\n",
       "    </tr>\n",
       "    <tr>\n",
       "      <th>210</th>\n",
       "      <td>광진구</td>\n",
       "      <td>378</td>\n",
       "      <td>389</td>\n",
       "      <td>447</td>\n",
       "      <td>36067</td>\n",
       "    </tr>\n",
       "    <tr>\n",
       "      <th>831</th>\n",
       "      <td>구로구</td>\n",
       "      <td>378</td>\n",
       "      <td>389</td>\n",
       "      <td>447</td>\n",
       "      <td>44432</td>\n",
       "    </tr>\n",
       "    <tr>\n",
       "      <th>882</th>\n",
       "      <td>금천구</td>\n",
       "      <td>378</td>\n",
       "      <td>389</td>\n",
       "      <td>447</td>\n",
       "      <td>20842</td>\n",
       "    </tr>\n",
       "    <tr>\n",
       "      <th>504</th>\n",
       "      <td>노원구</td>\n",
       "      <td>378</td>\n",
       "      <td>389</td>\n",
       "      <td>447</td>\n",
       "      <td>70698</td>\n",
       "    </tr>\n",
       "    <tr>\n",
       "      <th>459</th>\n",
       "      <td>도봉구</td>\n",
       "      <td>378</td>\n",
       "      <td>389</td>\n",
       "      <td>447</td>\n",
       "      <td>35367</td>\n",
       "    </tr>\n",
       "    <tr>\n",
       "      <th>258</th>\n",
       "      <td>동대문구</td>\n",
       "      <td>378</td>\n",
       "      <td>389</td>\n",
       "      <td>447</td>\n",
       "      <td>34172</td>\n",
       "    </tr>\n",
       "    <tr>\n",
       "      <th>972</th>\n",
       "      <td>동작구</td>\n",
       "      <td>378</td>\n",
       "      <td>389</td>\n",
       "      <td>447</td>\n",
       "      <td>40667</td>\n",
       "    </tr>\n",
       "    <tr>\n",
       "      <th>660</th>\n",
       "      <td>마포구</td>\n",
       "      <td>378</td>\n",
       "      <td>389</td>\n",
       "      <td>447</td>\n",
       "      <td>41206</td>\n",
       "    </tr>\n",
       "    <tr>\n",
       "      <th>615</th>\n",
       "      <td>서대문구</td>\n",
       "      <td>378</td>\n",
       "      <td>389</td>\n",
       "      <td>447</td>\n",
       "      <td>33882</td>\n",
       "    </tr>\n",
       "    <tr>\n",
       "      <th>1086</th>\n",
       "      <td>서초구</td>\n",
       "      <td>378</td>\n",
       "      <td>389</td>\n",
       "      <td>447</td>\n",
       "      <td>64889</td>\n",
       "    </tr>\n",
       "    <tr>\n",
       "      <th>156</th>\n",
       "      <td>성동구</td>\n",
       "      <td>378</td>\n",
       "      <td>389</td>\n",
       "      <td>447</td>\n",
       "      <td>29465</td>\n",
       "    </tr>\n",
       "    <tr>\n",
       "      <th>354</th>\n",
       "      <td>성북구</td>\n",
       "      <td>378</td>\n",
       "      <td>389</td>\n",
       "      <td>447</td>\n",
       "      <td>52755</td>\n",
       "    </tr>\n",
       "    <tr>\n",
       "      <th>1212</th>\n",
       "      <td>송파구</td>\n",
       "      <td>378</td>\n",
       "      <td>389</td>\n",
       "      <td>447</td>\n",
       "      <td>86567</td>\n",
       "    </tr>\n",
       "    <tr>\n",
       "      <th>711</th>\n",
       "      <td>양천구</td>\n",
       "      <td>378</td>\n",
       "      <td>389</td>\n",
       "      <td>447</td>\n",
       "      <td>69258</td>\n",
       "    </tr>\n",
       "    <tr>\n",
       "      <th>915</th>\n",
       "      <td>영등포구</td>\n",
       "      <td>378</td>\n",
       "      <td>389</td>\n",
       "      <td>447</td>\n",
       "      <td>36844</td>\n",
       "    </tr>\n",
       "    <tr>\n",
       "      <th>105</th>\n",
       "      <td>용산구</td>\n",
       "      <td>378</td>\n",
       "      <td>389</td>\n",
       "      <td>447</td>\n",
       "      <td>21954</td>\n",
       "    </tr>\n",
       "    <tr>\n",
       "      <th>564</th>\n",
       "      <td>은평구</td>\n",
       "      <td>378</td>\n",
       "      <td>389</td>\n",
       "      <td>447</td>\n",
       "      <td>54286</td>\n",
       "    </tr>\n",
       "    <tr>\n",
       "      <th>3</th>\n",
       "      <td>종로구</td>\n",
       "      <td>378</td>\n",
       "      <td>389</td>\n",
       "      <td>447</td>\n",
       "      <td>14972</td>\n",
       "    </tr>\n",
       "    <tr>\n",
       "      <th>57</th>\n",
       "      <td>중구</td>\n",
       "      <td>378</td>\n",
       "      <td>389</td>\n",
       "      <td>447</td>\n",
       "      <td>9998</td>\n",
       "    </tr>\n",
       "    <tr>\n",
       "      <th>303</th>\n",
       "      <td>중랑구</td>\n",
       "      <td>378</td>\n",
       "      <td>389</td>\n",
       "      <td>447</td>\n",
       "      <td>38208</td>\n",
       "    </tr>\n",
       "  </tbody>\n",
       "</table>\n",
       "</div>"
      ],
      "text/plain": [
       "       자치구  5~9세  10~14세  15~19세  총 학령인구\n",
       "1143   강남구   378     389     447   81486\n",
       "1296   강동구   378     389     447   58305\n",
       "417    강북구   378     389     447   30103\n",
       "768    강서구   378     389     447   65490\n",
       "1020   관악구   378     389     447   39587\n",
       "210    광진구   378     389     447   36067\n",
       "831    구로구   378     389     447   44432\n",
       "882    금천구   378     389     447   20842\n",
       "504    노원구   378     389     447   70698\n",
       "459    도봉구   378     389     447   35367\n",
       "258   동대문구   378     389     447   34172\n",
       "972    동작구   378     389     447   40667\n",
       "660    마포구   378     389     447   41206\n",
       "615   서대문구   378     389     447   33882\n",
       "1086   서초구   378     389     447   64889\n",
       "156    성동구   378     389     447   29465\n",
       "354    성북구   378     389     447   52755\n",
       "1212   송파구   378     389     447   86567\n",
       "711    양천구   378     389     447   69258\n",
       "915   영등포구   378     389     447   36844\n",
       "105    용산구   378     389     447   21954\n",
       "564    은평구   378     389     447   54286\n",
       "3      종로구   378     389     447   14972\n",
       "57      중구   378     389     447    9998\n",
       "303    중랑구   378     389     447   38208"
      ]
     },
     "execution_count": 21,
     "metadata": {},
     "output_type": "execute_result"
    }
   ],
   "source": [
    "#pop_age df2로 저장\n",
    "df2=pop_age\n",
    "df2"
   ]
  },
  {
   "cell_type": "code",
   "execution_count": 22,
   "id": "a43b5ffe",
   "metadata": {
    "ExecuteTime": {
     "end_time": "2022-05-22T09:29:27.474838Z",
     "start_time": "2022-05-22T09:29:27.466885Z"
    },
    "id": "a43b5ffe"
   },
   "outputs": [],
   "source": [
    "# 자치구 기준으로 정렬\n",
    "df2=df2.sort_values(by=['자치구'])"
   ]
  },
  {
   "cell_type": "code",
   "execution_count": 23,
   "id": "fe0b8095",
   "metadata": {
    "ExecuteTime": {
     "end_time": "2022-05-22T09:29:27.487316Z",
     "start_time": "2022-05-22T09:29:27.476431Z"
    },
    "id": "fe0b8095"
   },
   "outputs": [],
   "source": [
    "grdp.columns = ['자치구', '지역내총생산(당해년가격)']"
   ]
  },
  {
   "cell_type": "code",
   "execution_count": 24,
   "id": "f5bd4721",
   "metadata": {
    "ExecuteTime": {
     "end_time": "2022-05-22T09:29:27.501564Z",
     "start_time": "2022-05-22T09:29:27.487316Z"
    },
    "id": "f5bd4721"
   },
   "outputs": [],
   "source": [
    "# 자치구 칼럼 기준으로 정렬하고 df3로 저장\n",
    "df3=grdp.sort_values(by=['자치구'])"
   ]
  },
  {
   "cell_type": "markdown",
   "id": "23592f89",
   "metadata": {
    "id": "23592f89"
   },
   "source": [
    "-병합"
   ]
  },
  {
   "cell_type": "code",
   "execution_count": 25,
   "id": "af0b8ac2",
   "metadata": {
    "ExecuteTime": {
     "end_time": "2022-05-22T09:29:27.511721Z",
     "start_time": "2022-05-22T09:29:27.501564Z"
    },
    "id": "af0b8ac2"
   },
   "outputs": [],
   "source": [
    "#df1=academy(학원교습소정보) 자치구별 총 학원 개수\n",
    "#df2=pop_age(주민등록연양인구통계) 자치구별 학령인구 범주별 인원수, 전 범주 총 인원수\n",
    "#df3=grdp(GRDP) 자치구별 gdp\n",
    "\n",
    "#df1, df2을 result1으로 저장\n",
    "\n",
    "result1 = pd.merge(df1, df2, how = 'left')"
   ]
  },
  {
   "cell_type": "code",
   "execution_count": 26,
   "id": "ecd4e299",
   "metadata": {
    "ExecuteTime": {
     "end_time": "2022-05-22T09:29:27.522260Z",
     "start_time": "2022-05-22T09:29:27.514248Z"
    },
    "id": "ecd4e299"
   },
   "outputs": [],
   "source": [
    "#result1이랑 grdp도 병합해서 result에 저장\n",
    "result= pd.merge(result1, df3, how = 'left')"
   ]
  },
  {
   "cell_type": "markdown",
   "id": "a62c9175",
   "metadata": {
    "id": "a62c9175"
   },
   "source": [
    "### Visualize"
   ]
  },
  {
   "cell_type": "code",
   "execution_count": 27,
   "id": "32370efc",
   "metadata": {
    "ExecuteTime": {
     "end_time": "2022-05-22T09:29:27.535375Z",
     "start_time": "2022-05-22T09:29:27.522260Z"
    },
    "id": "32370efc"
   },
   "outputs": [],
   "source": [
    "#서울 외곽 지역에 학원수가 많은 이유는?\n",
    "#외곽지역 gdp가 높다(소득수준이 높으면 학원에 많이 다닌다고 가정)\n",
    "#외곽 지역에 학생수(5세~19세)가 많다 → 외곽 지역에 학원수가 많다."
   ]
  },
  {
   "cell_type": "code",
   "execution_count": 28,
   "id": "5e1673c0",
   "metadata": {
    "ExecuteTime": {
     "end_time": "2022-05-22T09:29:27.547658Z",
     "start_time": "2022-05-22T09:29:27.535375Z"
    },
    "id": "5e1673c0"
   },
   "outputs": [],
   "source": [
    "#서울외곽\n",
    "#강서구, 구로구, 금천구, 관악구, 강남구, 강동구, 광진구, 강북구, 노원구, 도봉구, 마포구, 서초구,  송파구, 은평구, 양천구, 중랑구  "
   ]
  },
  {
   "cell_type": "code",
   "execution_count": 29,
   "id": "b4a1d2d9",
   "metadata": {
    "ExecuteTime": {
     "end_time": "2022-05-22T09:29:27.784223Z",
     "start_time": "2022-05-22T09:29:27.547658Z"
    },
    "id": "b4a1d2d9",
    "outputId": "0d8321e4-3c7b-48fc-8e4f-50efb9a2c6b1"
   },
   "outputs": [
    {
     "data": {
      "text/plain": [
       "<AxesSubplot:xlabel='자치구'>"
      ]
     },
     "execution_count": 29,
     "metadata": {},
     "output_type": "execute_result"
    },
    {
     "data": {
      "image/png": "[encoded data removed]",
      "text/plain": [
       "<Figure size 720x360 with 1 Axes>"
      ]
     },
     "metadata": {
      "needs_background": "light"
     },
     "output_type": "display_data"
    }
   ],
   "source": [
    "#자치구별 gdp\n",
    "#x축에는 자치구명을, y축에는 gdp를 넣고 정렬 후 gdp_result에 저장. \n",
    "#gdp_result를 시각화\n",
    "\n",
    "gdp_result = result.groupby([\"자치구\"])[\"지역내총생산(당해년가격)\"].mean().sort_values(ascending = False)\n",
    "gdp_result.plot.bar(rot=45, figsize = (10,5))"
   ]
  },
  {
   "cell_type": "code",
   "execution_count": 30,
   "id": "ca4453ac",
   "metadata": {
    "ExecuteTime": {
     "end_time": "2022-05-22T09:29:27.953936Z",
     "start_time": "2022-05-22T09:29:27.784783Z"
    },
    "id": "ca4453ac",
    "outputId": "612ae905-7855-4e82-bc50-cc79e0bb533c"
   },
   "outputs": [
    {
     "data": {
      "text/plain": [
       "<AxesSubplot:xlabel='자치구'>"
      ]
     },
     "execution_count": 30,
     "metadata": {},
     "output_type": "execute_result"
    },
    {
     "data": {
      "image/png": "[encoded data removed]",
      "text/plain": [
       "<Figure size 720x360 with 1 Axes>"
      ]
     },
     "metadata": {
      "needs_background": "light"
     },
     "output_type": "display_data"
    }
   ],
   "source": [
    "#자치구별 학생들\n",
    "#x축에는 자치구명을, y축에는 총 학령인구 수를 넣고 정렬 후 stud_result에 저장. \n",
    "#stud_result를 시각화\n",
    "\n",
    "stud_result = result.groupby([\"자치구\"])[\"총 학령인구\"].mean().sort_values(ascending = False)\n",
    "stud_result.plot.bar(rot=45, figsize = (10,5))"
   ]
  }
 ],
 "metadata": {
  "colab": {
   "collapsed_sections": [],
   "name": "Project_A_핼로월드조_박수현(최종).ipynb",
   "provenance": []
  },
  "kernelspec": {
   "display_name": "Python 3 (ipykernel)",
   "language": "python",
   "name": "python3"
  },
  "language_info": {
   "codemirror_mode": {
    "name": "ipython",
    "version": 3
   },
   "file_extension": ".py",
   "mimetype": "text/x-python",
   "name": "python",
   "nbconvert_exporter": "python",
   "pygments_lexer": "ipython3",
   "version": "3.9.12"
  }
 },
 "nbformat": 4,
 "nbformat_minor": 5
}
