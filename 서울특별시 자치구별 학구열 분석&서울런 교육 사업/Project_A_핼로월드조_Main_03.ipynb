{
 "cells": [
  {
   "cell_type": "markdown",
   "metadata": {},
   "source": [
    "# Table of contents\n",
    "\n",
    "* [Preprocessing](#Preprocessing)\n",
    "    + [Missing Value Handling](#Missing-Value-Handling)\n",
    "    + [Outlier Handling](#Outlier-Handling)\n",
    "    + [Remove duplicates](#Remove-duplicates)\n",
    "    + [Delete Unnecessary Columns](#Delete-Unnecessary-Columns)\n",
    "    \n",
    "* [Analyze](#Analyze)\n",
    "    + [자치구별 (학교에 다니는 학생수/ 총 학생수) 구하기](#1.자치구별-(학교에-다니는-학생수/-총-학생수)-구하기)\n",
    "    + [자치구별 (학원에 다니는 학생수/ 총 학생수) 구하기](#1.자치구별-(학원에-다니는-학생수/-총-학생수)-구하기)\n",
    "* [Visualize](#Visualize)\n",
    "    + [자치구별 유치원 수](#1.자치구별-유치원-수)\n",
    "    + [연도별 만3세 유아수 변화](#2.연도별-만3세-유아수-변화)\n",
    "    + [연도별 만4세 유아수 변화](#3.연도별-만3세-유아수-변화)\n",
    "    + [연도별 만5세 유아수 변화](#4.연도별-만3세-유아수-변화)\n",
    "    + [유치원 교육열 시각화](#5.유치원-교육열-시각화)\n",
    "    + [초등학교 교육열 시각화](#6.초등학교-교육열-시각화)\n",
    "    + [중학교 교육열 시각화](#7.중학교-교육열-시각화)\n",
    "    + [고등학교 교육열 시각화](#8.고등학교-교육열-시각화)\n",
    "    + [학교에 다니는 유치원생 수와 총 유치원생 수와의 상관관계](#9.학교에-다니는-유치원생-수와-총-유치원생-수와의-상관관계)\n",
    "    + [학교에 다니는 초등학생 수와 총 초등학생 수와의 상관관계](#10.학교에-다니는-초등학생-수와-총-초등학생-수와의-상관관계)\n",
    "    + [학교에 다니는 중학생 수와 총 중학생 수와의 상관관계](#11.학교에-다니는-중학생-수와-총-중학생-수와의-상관관계)\n",
    "    + [학교에 다니는 고등학생 수와 총 고등학생 수와의 상관관계](#12.학교에-다니는-고등학생-수와-총-고등학생-수와의-상관관계)\n",
    "    + [학원에 다니는 학생 수와 총 학생 수와의 상관관계](#13.학원에-다니는-학생-수와-총-학생-수와의-상관관계)"
   ]
  },
  {
   "cell_type": "code",
   "execution_count": 75,
   "metadata": {
    "ExecuteTime": {
     "end_time": "2022-05-22T13:00:26.961182Z",
     "start_time": "2022-05-22T13:00:25.747676Z"
    }
   },
   "outputs": [],
   "source": [
    "import pandas as pd\n",
    "import numpy as np\n",
    "import matplotlib.pyplot as plt\n",
    "import seaborn as sns\n",
    "import plotly.express as px\n",
    "\n",
    "%matplotlib inline\n",
    "plt.rc('font', family='malgun gothic')\n",
    "plt.rc('axes', unicode_minus=False)"
   ]
  },
  {
   "cell_type": "code",
   "execution_count": 76,
   "metadata": {
    "ExecuteTime": {
     "end_time": "2022-05-22T13:00:27.113633Z",
     "start_time": "2022-05-22T13:00:26.962232Z"
    }
   },
   "outputs": [],
   "source": [
    "#Main Data\n",
    "kindergarten = pd.read_csv('./data/서울특별시 유치원 일반현황.csv')\n",
    "pop_age = pd.read_csv('./data/서울시 주민등록연앙인구(연령별동별) 통계.csv')\n",
    "st = pd.read_excel('./data/2021 서울시 학급당 학생수 통계.xlsx')"
   ]
  },
  {
   "cell_type": "markdown",
   "metadata": {},
   "source": [
    "### Missing Value Handling"
   ]
  },
  {
   "cell_type": "code",
   "execution_count": 77,
   "metadata": {
    "ExecuteTime": {
     "end_time": "2022-05-22T13:00:27.129201Z",
     "start_time": "2022-05-22T13:00:27.114200Z"
    }
   },
   "outputs": [
    {
     "data": {
      "text/html": [
       "<div>\n",
       "<style scoped>\n",
       "    .dataframe tbody tr th:only-of-type {\n",
       "        vertical-align: middle;\n",
       "    }\n",
       "\n",
       "    .dataframe tbody tr th {\n",
       "        vertical-align: top;\n",
       "    }\n",
       "\n",
       "    .dataframe thead th {\n",
       "        text-align: right;\n",
       "    }\n",
       "</style>\n",
       "<table border=\"1\" class=\"dataframe\">\n",
       "  <thead>\n",
       "    <tr style=\"text-align: right;\">\n",
       "      <th></th>\n",
       "      <th>교육지원청명</th>\n",
       "      <th>유치원명</th>\n",
       "      <th>설립유형</th>\n",
       "      <th>설립일</th>\n",
       "      <th>개원일</th>\n",
       "      <th>주소</th>\n",
       "      <th>운영시간</th>\n",
       "      <th>만3세학급수</th>\n",
       "      <th>만4세학급수</th>\n",
       "      <th>만5세학급수</th>\n",
       "      <th>혼합학급수</th>\n",
       "      <th>특수학급수</th>\n",
       "      <th>만3세유아수</th>\n",
       "      <th>만4세유아수</th>\n",
       "      <th>만5세유아수</th>\n",
       "      <th>혼합유아수</th>\n",
       "      <th>특수유아수</th>\n",
       "    </tr>\n",
       "  </thead>\n",
       "  <tbody>\n",
       "    <tr>\n",
       "      <th>0</th>\n",
       "      <td>남부교육지원청</td>\n",
       "      <td>서울정심초등학교병설유치원</td>\n",
       "      <td>공립(병설)</td>\n",
       "      <td>20181116</td>\n",
       "      <td>20190314</td>\n",
       "      <td>서울특별시 금천구 독산로78다길 89</td>\n",
       "      <td>07시30분~19시30분</td>\n",
       "      <td>1.0</td>\n",
       "      <td>1.0</td>\n",
       "      <td>1.0</td>\n",
       "      <td>0</td>\n",
       "      <td>1.0</td>\n",
       "      <td>5.0</td>\n",
       "      <td>17.0</td>\n",
       "      <td>12.0</td>\n",
       "      <td>0</td>\n",
       "      <td>3.0</td>\n",
       "    </tr>\n",
       "    <tr>\n",
       "      <th>1</th>\n",
       "      <td>강동송파교육지원청</td>\n",
       "      <td>서울솔방울유치원</td>\n",
       "      <td>공립(단설)</td>\n",
       "      <td>20210301</td>\n",
       "      <td>20210301</td>\n",
       "      <td>서울특별시 송파구 오금로24길 25</td>\n",
       "      <td>07시00분~19시00분</td>\n",
       "      <td>2.0</td>\n",
       "      <td>2.0</td>\n",
       "      <td>2.0</td>\n",
       "      <td>0</td>\n",
       "      <td>NaN</td>\n",
       "      <td>29.0</td>\n",
       "      <td>43.0</td>\n",
       "      <td>39.0</td>\n",
       "      <td>0</td>\n",
       "      <td>NaN</td>\n",
       "    </tr>\n",
       "    <tr>\n",
       "      <th>2</th>\n",
       "      <td>강동송파교육지원청</td>\n",
       "      <td>란키즈유치원</td>\n",
       "      <td>사립(사인)</td>\n",
       "      <td>20170307</td>\n",
       "      <td>20170307</td>\n",
       "      <td>서울특별시 송파구 새말로8길 22-5</td>\n",
       "      <td>09시00분~19시00분</td>\n",
       "      <td>1.0</td>\n",
       "      <td>1.0</td>\n",
       "      <td>2.0</td>\n",
       "      <td>0</td>\n",
       "      <td>NaN</td>\n",
       "      <td>12.0</td>\n",
       "      <td>13.0</td>\n",
       "      <td>29.0</td>\n",
       "      <td>0</td>\n",
       "      <td>NaN</td>\n",
       "    </tr>\n",
       "    <tr>\n",
       "      <th>3</th>\n",
       "      <td>동부교육지원청</td>\n",
       "      <td>서울신현초등학교병설유치원</td>\n",
       "      <td>공립(병설)</td>\n",
       "      <td>20201231</td>\n",
       "      <td>20210301</td>\n",
       "      <td>서울특별시 중랑구 봉화산로 188</td>\n",
       "      <td>07시30분~19시30분</td>\n",
       "      <td>1.0</td>\n",
       "      <td>1.0</td>\n",
       "      <td>1.0</td>\n",
       "      <td>0</td>\n",
       "      <td>1.0</td>\n",
       "      <td>16.0</td>\n",
       "      <td>11.0</td>\n",
       "      <td>14.0</td>\n",
       "      <td>0</td>\n",
       "      <td>4.0</td>\n",
       "    </tr>\n",
       "    <tr>\n",
       "      <th>4</th>\n",
       "      <td>서부교육지원청</td>\n",
       "      <td>다우림유치원</td>\n",
       "      <td>사립(사인)</td>\n",
       "      <td>20170330</td>\n",
       "      <td>20170401</td>\n",
       "      <td>서울특별시 은평구 증산로21길 22</td>\n",
       "      <td>08시00분~20시00분</td>\n",
       "      <td>1.0</td>\n",
       "      <td>1.0</td>\n",
       "      <td>1.0</td>\n",
       "      <td>0</td>\n",
       "      <td>NaN</td>\n",
       "      <td>27.0</td>\n",
       "      <td>12.0</td>\n",
       "      <td>23.0</td>\n",
       "      <td>0</td>\n",
       "      <td>NaN</td>\n",
       "    </tr>\n",
       "  </tbody>\n",
       "</table>\n",
       "</div>"
      ],
      "text/plain": [
       "      교육지원청명           유치원명    설립유형       설립일       개원일                    주소  \\\n",
       "0    남부교육지원청  서울정심초등학교병설유치원  공립(병설)  20181116  20190314  서울특별시 금천구 독산로78다길 89   \n",
       "1  강동송파교육지원청       서울솔방울유치원  공립(단설)  20210301  20210301   서울특별시 송파구 오금로24길 25   \n",
       "2  강동송파교육지원청         란키즈유치원  사립(사인)  20170307  20170307  서울특별시 송파구 새말로8길 22-5   \n",
       "3    동부교육지원청  서울신현초등학교병설유치원  공립(병설)  20201231  20210301    서울특별시 중랑구 봉화산로 188   \n",
       "4    서부교육지원청         다우림유치원  사립(사인)  20170330  20170401   서울특별시 은평구 증산로21길 22   \n",
       "\n",
       "            운영시간  만3세학급수  만4세학급수  만5세학급수  혼합학급수  특수학급수  만3세유아수  만4세유아수  \\\n",
       "0  07시30분~19시30분     1.0     1.0     1.0      0    1.0     5.0    17.0   \n",
       "1  07시00분~19시00분     2.0     2.0     2.0      0    NaN    29.0    43.0   \n",
       "2  09시00분~19시00분     1.0     1.0     2.0      0    NaN    12.0    13.0   \n",
       "3  07시30분~19시30분     1.0     1.0     1.0      0    1.0    16.0    11.0   \n",
       "4  08시00분~20시00분     1.0     1.0     1.0      0    NaN    27.0    12.0   \n",
       "\n",
       "   만5세유아수  혼합유아수  특수유아수  \n",
       "0    12.0      0    3.0  \n",
       "1    39.0      0    NaN  \n",
       "2    29.0      0    NaN  \n",
       "3    14.0      0    4.0  \n",
       "4    23.0      0    NaN  "
      ]
     },
     "execution_count": 77,
     "metadata": {},
     "output_type": "execute_result"
    }
   ],
   "source": [
    "kd=kindergarten\n",
    "kd.head()"
   ]
  },
  {
   "cell_type": "code",
   "execution_count": 78,
   "metadata": {
    "ExecuteTime": {
     "end_time": "2022-05-22T13:00:27.144201Z",
     "start_time": "2022-05-22T13:00:27.130201Z"
    }
   },
   "outputs": [],
   "source": [
    "#결측치 제거\n",
    "kd['만3세학급수']=kd['만3세학급수'].fillna(1)\n",
    "kd['만4세학급수']=kd['만4세학급수'].fillna(1)\n",
    "kd['만5세학급수']=kd['만5세학급수'].fillna(1)\n",
    "kd['특수학급수']=kd['특수학급수'].fillna(1)\n",
    "kd['만3세유아수']=kd['만3세유아수'].fillna(16)\n",
    "kd['만4세유아수']=kd['만4세유아수'].fillna(22)\n",
    "kd['만5세유아수']=kd['만5세유아수'].fillna(24)\n",
    "kd['특수유아수']=kd['특수유아수'].fillna(4)"
   ]
  },
  {
   "cell_type": "markdown",
   "metadata": {},
   "source": [
    "### Outlier Handling"
   ]
  },
  {
   "cell_type": "code",
   "execution_count": 79,
   "metadata": {
    "ExecuteTime": {
     "end_time": "2022-05-22T13:00:27.159213Z",
     "start_time": "2022-05-22T13:00:27.145201Z"
    }
   },
   "outputs": [],
   "source": [
    "#이상치 처리\n",
    "kd['혼합학급수']=kd['혼합학급수'].clip(0,10)\n",
    "kd['혼합유아수']=kd['혼합유아수'].clip(0, 44)"
   ]
  },
  {
   "cell_type": "markdown",
   "metadata": {},
   "source": [
    "### Remove duplicates"
   ]
  },
  {
   "cell_type": "code",
   "execution_count": 80,
   "metadata": {
    "ExecuteTime": {
     "end_time": "2022-05-22T13:00:27.174228Z",
     "start_time": "2022-05-22T13:00:27.160210Z"
    }
   },
   "outputs": [
    {
     "data": {
      "text/plain": [
       "0"
      ]
     },
     "execution_count": 80,
     "metadata": {},
     "output_type": "execute_result"
    }
   ],
   "source": [
    "kd.duplicated().sum()"
   ]
  },
  {
   "cell_type": "markdown",
   "metadata": {},
   "source": [
    "### Delete Unnecessary Columns"
   ]
  },
  {
   "cell_type": "code",
   "execution_count": 81,
   "metadata": {
    "ExecuteTime": {
     "end_time": "2022-05-22T13:00:27.189099Z",
     "start_time": "2022-05-22T13:00:27.175230Z"
    }
   },
   "outputs": [],
   "source": [
    "#분석에 쓰이지 않는 열 삭제\n",
    "del kd['유치원명']\n",
    "del kd['설립유형']\n",
    "del kd['운영시간']"
   ]
  },
  {
   "cell_type": "markdown",
   "metadata": {},
   "source": [
    "### Analyze"
   ]
  },
  {
   "cell_type": "code",
   "execution_count": 82,
   "metadata": {
    "ExecuteTime": {
     "end_time": "2022-05-22T13:00:27.204192Z",
     "start_time": "2022-05-22T13:00:27.190104Z"
    }
   },
   "outputs": [],
   "source": [
    "#자치구만 따로 추출\n",
    "kd['행정구역명']=kd['주소'].str.split(' ').str[1]"
   ]
  },
  {
   "cell_type": "code",
   "execution_count": 83,
   "metadata": {
    "ExecuteTime": {
     "end_time": "2022-05-22T13:00:27.219017Z",
     "start_time": "2022-05-22T13:00:27.205196Z"
    }
   },
   "outputs": [],
   "source": [
    "#설립일과 개원일 기준으로 정렬\n",
    "kd=kd.sort_values(['설립일', '개원일'])"
   ]
  },
  {
   "cell_type": "code",
   "execution_count": 84,
   "metadata": {
    "ExecuteTime": {
     "end_time": "2022-05-22T13:00:27.234186Z",
     "start_time": "2022-05-22T13:00:27.220180Z"
    }
   },
   "outputs": [],
   "source": [
    "#정렬된 데이터 인덱스 재설정\n",
    "xlist=[i for i in range(1,915)]\n",
    "kd.index=xlist"
   ]
  },
  {
   "cell_type": "markdown",
   "metadata": {},
   "source": [
    "### 자치구별 (학교에 다니는 학생수/ 총 학생수) 구하기"
   ]
  },
  {
   "cell_type": "code",
   "execution_count": 85,
   "metadata": {
    "ExecuteTime": {
     "end_time": "2022-05-22T13:00:27.249186Z",
     "start_time": "2022-05-22T13:00:27.235183Z"
    },
    "scrolled": true
   },
   "outputs": [],
   "source": [
    "#자치구별로 그룹화\n",
    "kd_sum=st.groupby('지역')['유치원'].sum()\n",
    "elementary_sum=st.groupby('지역')['초등학교'].sum()\n",
    "middle_sum=st.groupby('지역')['중학교'].sum()\n",
    "high_sum=st.groupby('지역')['고등학교'].sum()"
   ]
  },
  {
   "cell_type": "code",
   "execution_count": 86,
   "metadata": {
    "ExecuteTime": {
     "end_time": "2022-05-22T13:00:31.556903Z",
     "start_time": "2022-05-22T13:00:27.250183Z"
    }
   },
   "outputs": [],
   "source": [
    "helloworld = pd.read_excel('./data/helloworld_data_set.xlsx',sheet_name=['학원교습소정보','주민등록연앙인구통계'])"
   ]
  },
  {
   "cell_type": "code",
   "execution_count": 87,
   "metadata": {
    "ExecuteTime": {
     "end_time": "2022-05-22T13:00:31.571903Z",
     "start_time": "2022-05-22T13:00:31.558904Z"
    }
   },
   "outputs": [
    {
     "data": {
      "text/html": [
       "<div>\n",
       "<style scoped>\n",
       "    .dataframe tbody tr th:only-of-type {\n",
       "        vertical-align: middle;\n",
       "    }\n",
       "\n",
       "    .dataframe tbody tr th {\n",
       "        vertical-align: top;\n",
       "    }\n",
       "\n",
       "    .dataframe thead th {\n",
       "        text-align: right;\n",
       "    }\n",
       "</style>\n",
       "<table border=\"1\" class=\"dataframe\">\n",
       "  <thead>\n",
       "    <tr style=\"text-align: right;\">\n",
       "      <th></th>\n",
       "      <th>자치구</th>\n",
       "      <th>동</th>\n",
       "      <th>구분</th>\n",
       "      <th>계</th>\n",
       "      <th>0~4세</th>\n",
       "      <th>5~9세</th>\n",
       "      <th>10~14세</th>\n",
       "      <th>15~19세</th>\n",
       "      <th>20~24세</th>\n",
       "      <th>25~29세</th>\n",
       "      <th>...</th>\n",
       "      <th>55~59세</th>\n",
       "      <th>60~64세</th>\n",
       "      <th>65~69세</th>\n",
       "      <th>70~74세</th>\n",
       "      <th>75~79세</th>\n",
       "      <th>80~84세</th>\n",
       "      <th>85~89세</th>\n",
       "      <th>90~94세</th>\n",
       "      <th>95~99세</th>\n",
       "      <th>100세 이상+</th>\n",
       "    </tr>\n",
       "  </thead>\n",
       "  <tbody>\n",
       "    <tr>\n",
       "      <th>0</th>\n",
       "      <td>종로구</td>\n",
       "      <td>사직동</td>\n",
       "      <td>남자</td>\n",
       "      <td>4075</td>\n",
       "      <td>106</td>\n",
       "      <td>175</td>\n",
       "      <td>154</td>\n",
       "      <td>144</td>\n",
       "      <td>206</td>\n",
       "      <td>340</td>\n",
       "      <td>...</td>\n",
       "      <td>319</td>\n",
       "      <td>312</td>\n",
       "      <td>217</td>\n",
       "      <td>147</td>\n",
       "      <td>142</td>\n",
       "      <td>122</td>\n",
       "      <td>63</td>\n",
       "      <td>22</td>\n",
       "      <td>8</td>\n",
       "      <td>1</td>\n",
       "    </tr>\n",
       "    <tr>\n",
       "      <th>1</th>\n",
       "      <td>종로구</td>\n",
       "      <td>사직동</td>\n",
       "      <td>여자</td>\n",
       "      <td>4999</td>\n",
       "      <td>105</td>\n",
       "      <td>178</td>\n",
       "      <td>182</td>\n",
       "      <td>185</td>\n",
       "      <td>266</td>\n",
       "      <td>386</td>\n",
       "      <td>...</td>\n",
       "      <td>365</td>\n",
       "      <td>354</td>\n",
       "      <td>247</td>\n",
       "      <td>206</td>\n",
       "      <td>190</td>\n",
       "      <td>164</td>\n",
       "      <td>89</td>\n",
       "      <td>36</td>\n",
       "      <td>10</td>\n",
       "      <td>1</td>\n",
       "    </tr>\n",
       "    <tr>\n",
       "      <th>2</th>\n",
       "      <td>종로구</td>\n",
       "      <td>삼청동</td>\n",
       "      <td>남자</td>\n",
       "      <td>1170</td>\n",
       "      <td>15</td>\n",
       "      <td>31</td>\n",
       "      <td>51</td>\n",
       "      <td>52</td>\n",
       "      <td>77</td>\n",
       "      <td>85</td>\n",
       "      <td>...</td>\n",
       "      <td>100</td>\n",
       "      <td>97</td>\n",
       "      <td>78</td>\n",
       "      <td>66</td>\n",
       "      <td>47</td>\n",
       "      <td>29</td>\n",
       "      <td>17</td>\n",
       "      <td>7</td>\n",
       "      <td>2</td>\n",
       "      <td>1</td>\n",
       "    </tr>\n",
       "    <tr>\n",
       "      <th>3</th>\n",
       "      <td>종로구</td>\n",
       "      <td>삼청동</td>\n",
       "      <td>여자</td>\n",
       "      <td>1262</td>\n",
       "      <td>22</td>\n",
       "      <td>35</td>\n",
       "      <td>42</td>\n",
       "      <td>33</td>\n",
       "      <td>64</td>\n",
       "      <td>88</td>\n",
       "      <td>...</td>\n",
       "      <td>98</td>\n",
       "      <td>112</td>\n",
       "      <td>89</td>\n",
       "      <td>68</td>\n",
       "      <td>64</td>\n",
       "      <td>57</td>\n",
       "      <td>37</td>\n",
       "      <td>11</td>\n",
       "      <td>2</td>\n",
       "      <td>0</td>\n",
       "    </tr>\n",
       "    <tr>\n",
       "      <th>4</th>\n",
       "      <td>종로구</td>\n",
       "      <td>부암동</td>\n",
       "      <td>남자</td>\n",
       "      <td>4542</td>\n",
       "      <td>85</td>\n",
       "      <td>175</td>\n",
       "      <td>241</td>\n",
       "      <td>239</td>\n",
       "      <td>292</td>\n",
       "      <td>366</td>\n",
       "      <td>...</td>\n",
       "      <td>364</td>\n",
       "      <td>351</td>\n",
       "      <td>255</td>\n",
       "      <td>181</td>\n",
       "      <td>154</td>\n",
       "      <td>102</td>\n",
       "      <td>51</td>\n",
       "      <td>12</td>\n",
       "      <td>2</td>\n",
       "      <td>0</td>\n",
       "    </tr>\n",
       "  </tbody>\n",
       "</table>\n",
       "<p>5 rows × 25 columns</p>\n",
       "</div>"
      ],
      "text/plain": [
       "   자치구    동  구분     계  0~4세  5~9세  10~14세  15~19세  20~24세  25~29세  ...  \\\n",
       "0  종로구  사직동  남자  4075   106   175     154     144     206     340  ...   \n",
       "1  종로구  사직동  여자  4999   105   178     182     185     266     386  ...   \n",
       "2  종로구  삼청동  남자  1170    15    31      51      52      77      85  ...   \n",
       "3  종로구  삼청동  여자  1262    22    35      42      33      64      88  ...   \n",
       "4  종로구  부암동  남자  4542    85   175     241     239     292     366  ...   \n",
       "\n",
       "   55~59세  60~64세  65~69세  70~74세  75~79세  80~84세  85~89세  90~94세  95~99세  \\\n",
       "0     319     312     217     147     142     122      63      22       8   \n",
       "1     365     354     247     206     190     164      89      36      10   \n",
       "2     100      97      78      66      47      29      17       7       2   \n",
       "3      98     112      89      68      64      57      37      11       2   \n",
       "4     364     351     255     181     154     102      51      12       2   \n",
       "\n",
       "   100세 이상+  \n",
       "0         1  \n",
       "1         1  \n",
       "2         1  \n",
       "3         0  \n",
       "4         0  \n",
       "\n",
       "[5 rows x 25 columns]"
      ]
     },
     "execution_count": 87,
     "metadata": {},
     "output_type": "execute_result"
    }
   ],
   "source": [
    "academy_data, pop_data = helloworld.values()\n",
    "locals().update(helloworld)\n",
    "pop_data.head()"
   ]
  },
  {
   "cell_type": "code",
   "execution_count": 88,
   "metadata": {
    "ExecuteTime": {
     "end_time": "2022-05-22T13:00:31.586907Z",
     "start_time": "2022-05-22T13:00:31.572904Z"
    }
   },
   "outputs": [
    {
     "data": {
      "text/html": [
       "<div>\n",
       "<style scoped>\n",
       "    .dataframe tbody tr th:only-of-type {\n",
       "        vertical-align: middle;\n",
       "    }\n",
       "\n",
       "    .dataframe tbody tr th {\n",
       "        vertical-align: top;\n",
       "    }\n",
       "\n",
       "    .dataframe thead th {\n",
       "        text-align: right;\n",
       "    }\n",
       "</style>\n",
       "<table border=\"1\" class=\"dataframe\">\n",
       "  <thead>\n",
       "    <tr style=\"text-align: right;\">\n",
       "      <th></th>\n",
       "      <th>계</th>\n",
       "      <th>0~4세</th>\n",
       "      <th>5~9세</th>\n",
       "      <th>10~14세</th>\n",
       "      <th>15~19세</th>\n",
       "      <th>20~24세</th>\n",
       "      <th>25~29세</th>\n",
       "      <th>30~34세</th>\n",
       "      <th>35~39세</th>\n",
       "      <th>40~44세</th>\n",
       "      <th>...</th>\n",
       "      <th>55~59세</th>\n",
       "      <th>60~64세</th>\n",
       "      <th>65~69세</th>\n",
       "      <th>70~74세</th>\n",
       "      <th>75~79세</th>\n",
       "      <th>80~84세</th>\n",
       "      <th>85~89세</th>\n",
       "      <th>90~94세</th>\n",
       "      <th>95~99세</th>\n",
       "      <th>100세 이상+</th>\n",
       "    </tr>\n",
       "    <tr>\n",
       "      <th>자치구</th>\n",
       "      <th></th>\n",
       "      <th></th>\n",
       "      <th></th>\n",
       "      <th></th>\n",
       "      <th></th>\n",
       "      <th></th>\n",
       "      <th></th>\n",
       "      <th></th>\n",
       "      <th></th>\n",
       "      <th></th>\n",
       "      <th></th>\n",
       "      <th></th>\n",
       "      <th></th>\n",
       "      <th></th>\n",
       "      <th></th>\n",
       "      <th></th>\n",
       "      <th></th>\n",
       "      <th></th>\n",
       "      <th></th>\n",
       "      <th></th>\n",
       "      <th></th>\n",
       "    </tr>\n",
       "  </thead>\n",
       "  <tbody>\n",
       "    <tr>\n",
       "      <th>강남구</th>\n",
       "      <td>412057</td>\n",
       "      <td>12971</td>\n",
       "      <td>20598</td>\n",
       "      <td>18247</td>\n",
       "      <td>21242</td>\n",
       "      <td>27917</td>\n",
       "      <td>29206</td>\n",
       "      <td>28030</td>\n",
       "      <td>29313</td>\n",
       "      <td>29903</td>\n",
       "      <td>...</td>\n",
       "      <td>30531</td>\n",
       "      <td>29488</td>\n",
       "      <td>25982</td>\n",
       "      <td>19782</td>\n",
       "      <td>13583</td>\n",
       "      <td>7900</td>\n",
       "      <td>3925</td>\n",
       "      <td>1656</td>\n",
       "      <td>419</td>\n",
       "      <td>62</td>\n",
       "    </tr>\n",
       "    <tr>\n",
       "      <th>강동구</th>\n",
       "      <td>368632</td>\n",
       "      <td>15524</td>\n",
       "      <td>17043</td>\n",
       "      <td>17556</td>\n",
       "      <td>19621</td>\n",
       "      <td>24699</td>\n",
       "      <td>24236</td>\n",
       "      <td>25583</td>\n",
       "      <td>25347</td>\n",
       "      <td>26617</td>\n",
       "      <td>...</td>\n",
       "      <td>25920</td>\n",
       "      <td>24064</td>\n",
       "      <td>23652</td>\n",
       "      <td>17414</td>\n",
       "      <td>12768</td>\n",
       "      <td>7306</td>\n",
       "      <td>3668</td>\n",
       "      <td>1491</td>\n",
       "      <td>314</td>\n",
       "      <td>56</td>\n",
       "    </tr>\n",
       "    <tr>\n",
       "      <th>강북구</th>\n",
       "      <td>269186</td>\n",
       "      <td>6148</td>\n",
       "      <td>8759</td>\n",
       "      <td>9167</td>\n",
       "      <td>11468</td>\n",
       "      <td>18531</td>\n",
       "      <td>19062</td>\n",
       "      <td>18428</td>\n",
       "      <td>17506</td>\n",
       "      <td>18159</td>\n",
       "      <td>...</td>\n",
       "      <td>20458</td>\n",
       "      <td>20269</td>\n",
       "      <td>18551</td>\n",
       "      <td>16102</td>\n",
       "      <td>13132</td>\n",
       "      <td>8266</td>\n",
       "      <td>3518</td>\n",
       "      <td>1110</td>\n",
       "      <td>249</td>\n",
       "      <td>27</td>\n",
       "    </tr>\n",
       "    <tr>\n",
       "      <th>강서구</th>\n",
       "      <td>401233</td>\n",
       "      <td>16534</td>\n",
       "      <td>14741</td>\n",
       "      <td>14068</td>\n",
       "      <td>16657</td>\n",
       "      <td>24847</td>\n",
       "      <td>27930</td>\n",
       "      <td>28929</td>\n",
       "      <td>28552</td>\n",
       "      <td>28924</td>\n",
       "      <td>...</td>\n",
       "      <td>30006</td>\n",
       "      <td>29823</td>\n",
       "      <td>27290</td>\n",
       "      <td>20837</td>\n",
       "      <td>15529</td>\n",
       "      <td>9902</td>\n",
       "      <td>5039</td>\n",
       "      <td>1951</td>\n",
       "      <td>433</td>\n",
       "      <td>50</td>\n",
       "    </tr>\n",
       "    <tr>\n",
       "      <th>관악구</th>\n",
       "      <td>382634</td>\n",
       "      <td>9200</td>\n",
       "      <td>11870</td>\n",
       "      <td>12481</td>\n",
       "      <td>15201</td>\n",
       "      <td>29566</td>\n",
       "      <td>27948</td>\n",
       "      <td>29111</td>\n",
       "      <td>29346</td>\n",
       "      <td>28229</td>\n",
       "      <td>...</td>\n",
       "      <td>27584</td>\n",
       "      <td>27667</td>\n",
       "      <td>24963</td>\n",
       "      <td>20686</td>\n",
       "      <td>15683</td>\n",
       "      <td>9482</td>\n",
       "      <td>3879</td>\n",
       "      <td>1281</td>\n",
       "      <td>262</td>\n",
       "      <td>41</td>\n",
       "    </tr>\n",
       "  </tbody>\n",
       "</table>\n",
       "<p>5 rows × 22 columns</p>\n",
       "</div>"
      ],
      "text/plain": [
       "          계   0~4세   5~9세  10~14세  15~19세  20~24세  25~29세  30~34세  35~39세  \\\n",
       "자치구                                                                         \n",
       "강남구  412057  12971  20598   18247   21242   27917   29206   28030   29313   \n",
       "강동구  368632  15524  17043   17556   19621   24699   24236   25583   25347   \n",
       "강북구  269186   6148   8759    9167   11468   18531   19062   18428   17506   \n",
       "강서구  401233  16534  14741   14068   16657   24847   27930   28929   28552   \n",
       "관악구  382634   9200  11870   12481   15201   29566   27948   29111   29346   \n",
       "\n",
       "     40~44세  ...  55~59세  60~64세  65~69세  70~74세  75~79세  80~84세  85~89세  \\\n",
       "자치구          ...                                                           \n",
       "강남구   29903  ...   30531   29488   25982   19782   13583    7900    3925   \n",
       "강동구   26617  ...   25920   24064   23652   17414   12768    7306    3668   \n",
       "강북구   18159  ...   20458   20269   18551   16102   13132    8266    3518   \n",
       "강서구   28924  ...   30006   29823   27290   20837   15529    9902    5039   \n",
       "관악구   28229  ...   27584   27667   24963   20686   15683    9482    3879   \n",
       "\n",
       "     90~94세  95~99세  100세 이상+  \n",
       "자치구                            \n",
       "강남구    1656     419        62  \n",
       "강동구    1491     314        56  \n",
       "강북구    1110     249        27  \n",
       "강서구    1951     433        50  \n",
       "관악구    1281     262        41  \n",
       "\n",
       "[5 rows x 22 columns]"
      ]
     },
     "execution_count": 88,
     "metadata": {},
     "output_type": "execute_result"
    }
   ],
   "source": [
    "#자치구별 인구 합계\n",
    "pop_sum = pop_data.groupby('자치구').sum()\n",
    "pop_sum.head()"
   ]
  },
  {
   "cell_type": "code",
   "execution_count": 89,
   "metadata": {
    "ExecuteTime": {
     "end_time": "2022-05-22T13:00:31.601907Z",
     "start_time": "2022-05-22T13:00:31.587908Z"
    }
   },
   "outputs": [
    {
     "data": {
      "text/html": [
       "<div>\n",
       "<style scoped>\n",
       "    .dataframe tbody tr th:only-of-type {\n",
       "        vertical-align: middle;\n",
       "    }\n",
       "\n",
       "    .dataframe tbody tr th {\n",
       "        vertical-align: top;\n",
       "    }\n",
       "\n",
       "    .dataframe thead th {\n",
       "        text-align: right;\n",
       "    }\n",
       "</style>\n",
       "<table border=\"1\" class=\"dataframe\">\n",
       "  <thead>\n",
       "    <tr style=\"text-align: right;\">\n",
       "      <th></th>\n",
       "      <th>0~4세</th>\n",
       "      <th>5~9세</th>\n",
       "      <th>10~14세</th>\n",
       "      <th>15~19세</th>\n",
       "    </tr>\n",
       "    <tr>\n",
       "      <th>자치구</th>\n",
       "      <th></th>\n",
       "      <th></th>\n",
       "      <th></th>\n",
       "      <th></th>\n",
       "    </tr>\n",
       "  </thead>\n",
       "  <tbody>\n",
       "    <tr>\n",
       "      <th>강남구</th>\n",
       "      <td>12971</td>\n",
       "      <td>20598</td>\n",
       "      <td>18247</td>\n",
       "      <td>21242</td>\n",
       "    </tr>\n",
       "    <tr>\n",
       "      <th>강동구</th>\n",
       "      <td>15524</td>\n",
       "      <td>17043</td>\n",
       "      <td>17556</td>\n",
       "      <td>19621</td>\n",
       "    </tr>\n",
       "    <tr>\n",
       "      <th>강북구</th>\n",
       "      <td>6148</td>\n",
       "      <td>8759</td>\n",
       "      <td>9167</td>\n",
       "      <td>11468</td>\n",
       "    </tr>\n",
       "    <tr>\n",
       "      <th>강서구</th>\n",
       "      <td>16534</td>\n",
       "      <td>14741</td>\n",
       "      <td>14068</td>\n",
       "      <td>16657</td>\n",
       "    </tr>\n",
       "    <tr>\n",
       "      <th>관악구</th>\n",
       "      <td>9200</td>\n",
       "      <td>11870</td>\n",
       "      <td>12481</td>\n",
       "      <td>15201</td>\n",
       "    </tr>\n",
       "    <tr>\n",
       "      <th>광진구</th>\n",
       "      <td>7832</td>\n",
       "      <td>9162</td>\n",
       "      <td>9696</td>\n",
       "      <td>11558</td>\n",
       "    </tr>\n",
       "    <tr>\n",
       "      <th>구로구</th>\n",
       "      <td>12210</td>\n",
       "      <td>13422</td>\n",
       "      <td>13010</td>\n",
       "      <td>15040</td>\n",
       "    </tr>\n",
       "    <tr>\n",
       "      <th>금천구</th>\n",
       "      <td>5502</td>\n",
       "      <td>6582</td>\n",
       "      <td>6560</td>\n",
       "      <td>7682</td>\n",
       "    </tr>\n",
       "    <tr>\n",
       "      <th>노원구</th>\n",
       "      <td>12802</td>\n",
       "      <td>19067</td>\n",
       "      <td>19426</td>\n",
       "      <td>22182</td>\n",
       "    </tr>\n",
       "    <tr>\n",
       "      <th>도봉구</th>\n",
       "      <td>7389</td>\n",
       "      <td>10482</td>\n",
       "      <td>11535</td>\n",
       "      <td>13330</td>\n",
       "    </tr>\n",
       "    <tr>\n",
       "      <th>동대문구</th>\n",
       "      <td>9102</td>\n",
       "      <td>11050</td>\n",
       "      <td>10943</td>\n",
       "      <td>12155</td>\n",
       "    </tr>\n",
       "    <tr>\n",
       "      <th>동작구</th>\n",
       "      <td>10393</td>\n",
       "      <td>13346</td>\n",
       "      <td>12324</td>\n",
       "      <td>12898</td>\n",
       "    </tr>\n",
       "    <tr>\n",
       "      <th>마포구</th>\n",
       "      <td>10895</td>\n",
       "      <td>13330</td>\n",
       "      <td>12081</td>\n",
       "      <td>14238</td>\n",
       "    </tr>\n",
       "    <tr>\n",
       "      <th>서대문구</th>\n",
       "      <td>8552</td>\n",
       "      <td>10923</td>\n",
       "      <td>10690</td>\n",
       "      <td>12245</td>\n",
       "    </tr>\n",
       "    <tr>\n",
       "      <th>서초구</th>\n",
       "      <td>12540</td>\n",
       "      <td>16363</td>\n",
       "      <td>18825</td>\n",
       "      <td>21700</td>\n",
       "    </tr>\n",
       "    <tr>\n",
       "      <th>성동구</th>\n",
       "      <td>9608</td>\n",
       "      <td>10193</td>\n",
       "      <td>9014</td>\n",
       "      <td>10232</td>\n",
       "    </tr>\n",
       "    <tr>\n",
       "      <th>성북구</th>\n",
       "      <td>11732</td>\n",
       "      <td>14434</td>\n",
       "      <td>15178</td>\n",
       "      <td>17177</td>\n",
       "    </tr>\n",
       "    <tr>\n",
       "      <th>송파구</th>\n",
       "      <td>18965</td>\n",
       "      <td>23128</td>\n",
       "      <td>22973</td>\n",
       "      <td>27465</td>\n",
       "    </tr>\n",
       "    <tr>\n",
       "      <th>양천구</th>\n",
       "      <td>11286</td>\n",
       "      <td>14568</td>\n",
       "      <td>17390</td>\n",
       "      <td>18449</td>\n",
       "    </tr>\n",
       "    <tr>\n",
       "      <th>영등포구</th>\n",
       "      <td>12267</td>\n",
       "      <td>12987</td>\n",
       "      <td>11475</td>\n",
       "      <td>12351</td>\n",
       "    </tr>\n",
       "    <tr>\n",
       "      <th>용산구</th>\n",
       "      <td>6041</td>\n",
       "      <td>6975</td>\n",
       "      <td>6980</td>\n",
       "      <td>7974</td>\n",
       "    </tr>\n",
       "    <tr>\n",
       "      <th>은평구</th>\n",
       "      <td>12180</td>\n",
       "      <td>14168</td>\n",
       "      <td>14440</td>\n",
       "      <td>17442</td>\n",
       "    </tr>\n",
       "    <tr>\n",
       "      <th>종로구</th>\n",
       "      <td>2893</td>\n",
       "      <td>4337</td>\n",
       "      <td>5005</td>\n",
       "      <td>5603</td>\n",
       "    </tr>\n",
       "    <tr>\n",
       "      <th>중구</th>\n",
       "      <td>3092</td>\n",
       "      <td>3441</td>\n",
       "      <td>3036</td>\n",
       "      <td>3499</td>\n",
       "    </tr>\n",
       "    <tr>\n",
       "      <th>중랑구</th>\n",
       "      <td>9969</td>\n",
       "      <td>12180</td>\n",
       "      <td>11461</td>\n",
       "      <td>13836</td>\n",
       "    </tr>\n",
       "  </tbody>\n",
       "</table>\n",
       "</div>"
      ],
      "text/plain": [
       "       0~4세   5~9세  10~14세  15~19세\n",
       "자치구                               \n",
       "강남구   12971  20598   18247   21242\n",
       "강동구   15524  17043   17556   19621\n",
       "강북구    6148   8759    9167   11468\n",
       "강서구   16534  14741   14068   16657\n",
       "관악구    9200  11870   12481   15201\n",
       "광진구    7832   9162    9696   11558\n",
       "구로구   12210  13422   13010   15040\n",
       "금천구    5502   6582    6560    7682\n",
       "노원구   12802  19067   19426   22182\n",
       "도봉구    7389  10482   11535   13330\n",
       "동대문구   9102  11050   10943   12155\n",
       "동작구   10393  13346   12324   12898\n",
       "마포구   10895  13330   12081   14238\n",
       "서대문구   8552  10923   10690   12245\n",
       "서초구   12540  16363   18825   21700\n",
       "성동구    9608  10193    9014   10232\n",
       "성북구   11732  14434   15178   17177\n",
       "송파구   18965  23128   22973   27465\n",
       "양천구   11286  14568   17390   18449\n",
       "영등포구  12267  12987   11475   12351\n",
       "용산구    6041   6975    6980    7974\n",
       "은평구   12180  14168   14440   17442\n",
       "종로구    2893   4337    5005    5603\n",
       "중구     3092   3441    3036    3499\n",
       "중랑구    9969  12180   11461   13836"
      ]
     },
     "execution_count": 89,
     "metadata": {},
     "output_type": "execute_result"
    }
   ],
   "source": [
    "#필요한 열만 추출\n",
    "student = pop_sum.iloc[:,[1,2,3,4]] \n",
    "student"
   ]
  },
  {
   "cell_type": "code",
   "execution_count": 90,
   "metadata": {
    "ExecuteTime": {
     "end_time": "2022-05-22T13:00:31.616907Z",
     "start_time": "2022-05-22T13:00:31.602904Z"
    }
   },
   "outputs": [],
   "source": [
    "#연령별 인구 \n",
    "total_kd=student['0~4세']\n",
    "total_elementary = student['5~9세']\n",
    "total_middle=student['10~14세']\n",
    "total_high=student['15~19세']\n",
    "total_student=student['5~9세']+student['10~14세']+student['15~19세']"
   ]
  },
  {
   "cell_type": "code",
   "execution_count": 91,
   "metadata": {
    "ExecuteTime": {
     "end_time": "2022-05-22T13:00:31.631907Z",
     "start_time": "2022-05-22T13:00:31.617904Z"
    }
   },
   "outputs": [],
   "source": [
    "#교육열 구하기\n",
    "유치원교육열=(kd_sum / total_kd) * 100\n",
    "초등교육열 = (elementary_sum / total_elementary) * 100\n",
    "중등교육열 = (middle_sum / total_middle) * 100\n",
    "고등교육열 = (high_sum / total_high)* 100"
   ]
  },
  {
   "cell_type": "code",
   "execution_count": 92,
   "metadata": {
    "ExecuteTime": {
     "end_time": "2022-05-22T13:00:31.646908Z",
     "start_time": "2022-05-22T13:00:31.632904Z"
    }
   },
   "outputs": [
    {
     "data": {
      "text/html": [
       "<div>\n",
       "<style scoped>\n",
       "    .dataframe tbody tr th:only-of-type {\n",
       "        vertical-align: middle;\n",
       "    }\n",
       "\n",
       "    .dataframe tbody tr th {\n",
       "        vertical-align: top;\n",
       "    }\n",
       "\n",
       "    .dataframe thead th {\n",
       "        text-align: right;\n",
       "    }\n",
       "</style>\n",
       "<table border=\"1\" class=\"dataframe\">\n",
       "  <thead>\n",
       "    <tr style=\"text-align: right;\">\n",
       "      <th></th>\n",
       "      <th>유치원교육열</th>\n",
       "      <th>초등교육열</th>\n",
       "      <th>중등교육열</th>\n",
       "      <th>고등교육열</th>\n",
       "    </tr>\n",
       "    <tr>\n",
       "      <th>지역</th>\n",
       "      <th></th>\n",
       "      <th></th>\n",
       "      <th></th>\n",
       "      <th></th>\n",
       "    </tr>\n",
       "  </thead>\n",
       "  <tbody>\n",
       "    <tr>\n",
       "      <th>강남구</th>\n",
       "      <td>22.650528</td>\n",
       "      <td>125.395669</td>\n",
       "      <td>89.877788</td>\n",
       "      <td>82.892383</td>\n",
       "    </tr>\n",
       "    <tr>\n",
       "      <th>강동구</th>\n",
       "      <td>27.087091</td>\n",
       "      <td>129.625066</td>\n",
       "      <td>61.961722</td>\n",
       "      <td>54.538505</td>\n",
       "    </tr>\n",
       "    <tr>\n",
       "      <th>강북구</th>\n",
       "      <td>19.502277</td>\n",
       "      <td>107.455189</td>\n",
       "      <td>65.964874</td>\n",
       "      <td>45.674922</td>\n",
       "    </tr>\n",
       "    <tr>\n",
       "      <th>강서구</th>\n",
       "      <td>28.946413</td>\n",
       "      <td>168.889492</td>\n",
       "      <td>76.265283</td>\n",
       "      <td>84.913250</td>\n",
       "    </tr>\n",
       "    <tr>\n",
       "      <th>관악구</th>\n",
       "      <td>29.152174</td>\n",
       "      <td>114.153328</td>\n",
       "      <td>55.812836</td>\n",
       "      <td>58.186961</td>\n",
       "    </tr>\n",
       "    <tr>\n",
       "      <th>광진구</th>\n",
       "      <td>28.562308</td>\n",
       "      <td>149.989085</td>\n",
       "      <td>76.062294</td>\n",
       "      <td>63.202976</td>\n",
       "    </tr>\n",
       "    <tr>\n",
       "      <th>구로구</th>\n",
       "      <td>22.055692</td>\n",
       "      <td>128.818358</td>\n",
       "      <td>62.590315</td>\n",
       "      <td>59.973404</td>\n",
       "    </tr>\n",
       "    <tr>\n",
       "      <th>금천구</th>\n",
       "      <td>25.863322</td>\n",
       "      <td>122.303251</td>\n",
       "      <td>60.396341</td>\n",
       "      <td>50.520698</td>\n",
       "    </tr>\n",
       "    <tr>\n",
       "      <th>노원구</th>\n",
       "      <td>42.696454</td>\n",
       "      <td>129.501232</td>\n",
       "      <td>78.312571</td>\n",
       "      <td>86.268145</td>\n",
       "    </tr>\n",
       "    <tr>\n",
       "      <th>도봉구</th>\n",
       "      <td>28.623630</td>\n",
       "      <td>133.104369</td>\n",
       "      <td>55.804075</td>\n",
       "      <td>47.531883</td>\n",
       "    </tr>\n",
       "    <tr>\n",
       "      <th>동대문구</th>\n",
       "      <td>28.521204</td>\n",
       "      <td>115.764706</td>\n",
       "      <td>59.709403</td>\n",
       "      <td>54.759358</td>\n",
       "    </tr>\n",
       "    <tr>\n",
       "      <th>동작구</th>\n",
       "      <td>25.603772</td>\n",
       "      <td>113.696988</td>\n",
       "      <td>61.092178</td>\n",
       "      <td>44.658087</td>\n",
       "    </tr>\n",
       "    <tr>\n",
       "      <th>마포구</th>\n",
       "      <td>24.882974</td>\n",
       "      <td>104.186047</td>\n",
       "      <td>63.587451</td>\n",
       "      <td>41.150442</td>\n",
       "    </tr>\n",
       "    <tr>\n",
       "      <th>서대문구</th>\n",
       "      <td>26.391487</td>\n",
       "      <td>118.465623</td>\n",
       "      <td>55.949486</td>\n",
       "      <td>40.089833</td>\n",
       "    </tr>\n",
       "    <tr>\n",
       "      <th>서초구</th>\n",
       "      <td>18.508772</td>\n",
       "      <td>136.558088</td>\n",
       "      <td>62.262948</td>\n",
       "      <td>43.930876</td>\n",
       "    </tr>\n",
       "    <tr>\n",
       "      <th>성동구</th>\n",
       "      <td>20.587011</td>\n",
       "      <td>103.551457</td>\n",
       "      <td>53.860661</td>\n",
       "      <td>39.523065</td>\n",
       "    </tr>\n",
       "    <tr>\n",
       "      <th>성북구</th>\n",
       "      <td>35.867712</td>\n",
       "      <td>135.984481</td>\n",
       "      <td>62.656476</td>\n",
       "      <td>46.649590</td>\n",
       "    </tr>\n",
       "    <tr>\n",
       "      <th>송파구</th>\n",
       "      <td>26.749275</td>\n",
       "      <td>135.052750</td>\n",
       "      <td>71.409916</td>\n",
       "      <td>51.640269</td>\n",
       "    </tr>\n",
       "    <tr>\n",
       "      <th>양천구</th>\n",
       "      <td>33.395357</td>\n",
       "      <td>161.099671</td>\n",
       "      <td>93.202990</td>\n",
       "      <td>65.488644</td>\n",
       "    </tr>\n",
       "    <tr>\n",
       "      <th>영등포구</th>\n",
       "      <td>27.357952</td>\n",
       "      <td>106.075306</td>\n",
       "      <td>54.265795</td>\n",
       "      <td>45.988179</td>\n",
       "    </tr>\n",
       "    <tr>\n",
       "      <th>용산구</th>\n",
       "      <td>22.363847</td>\n",
       "      <td>95.426523</td>\n",
       "      <td>49.212034</td>\n",
       "      <td>63.017306</td>\n",
       "    </tr>\n",
       "    <tr>\n",
       "      <th>은평구</th>\n",
       "      <td>26.239737</td>\n",
       "      <td>139.257482</td>\n",
       "      <td>71.149584</td>\n",
       "      <td>70.020640</td>\n",
       "    </tr>\n",
       "    <tr>\n",
       "      <th>종로구</th>\n",
       "      <td>37.227791</td>\n",
       "      <td>116.947199</td>\n",
       "      <td>55.404595</td>\n",
       "      <td>143.976441</td>\n",
       "    </tr>\n",
       "    <tr>\n",
       "      <th>중구</th>\n",
       "      <td>32.406210</td>\n",
       "      <td>139.726824</td>\n",
       "      <td>59.453228</td>\n",
       "      <td>176.764790</td>\n",
       "    </tr>\n",
       "    <tr>\n",
       "      <th>중랑구</th>\n",
       "      <td>26.662654</td>\n",
       "      <td>113.809524</td>\n",
       "      <td>58.110113</td>\n",
       "      <td>42.613472</td>\n",
       "    </tr>\n",
       "  </tbody>\n",
       "</table>\n",
       "</div>"
      ],
      "text/plain": [
       "         유치원교육열       초등교육열      중등교육열       고등교육열\n",
       "지역                                                \n",
       "강남구   22.650528  125.395669  89.877788   82.892383\n",
       "강동구   27.087091  129.625066  61.961722   54.538505\n",
       "강북구   19.502277  107.455189  65.964874   45.674922\n",
       "강서구   28.946413  168.889492  76.265283   84.913250\n",
       "관악구   29.152174  114.153328  55.812836   58.186961\n",
       "광진구   28.562308  149.989085  76.062294   63.202976\n",
       "구로구   22.055692  128.818358  62.590315   59.973404\n",
       "금천구   25.863322  122.303251  60.396341   50.520698\n",
       "노원구   42.696454  129.501232  78.312571   86.268145\n",
       "도봉구   28.623630  133.104369  55.804075   47.531883\n",
       "동대문구  28.521204  115.764706  59.709403   54.759358\n",
       "동작구   25.603772  113.696988  61.092178   44.658087\n",
       "마포구   24.882974  104.186047  63.587451   41.150442\n",
       "서대문구  26.391487  118.465623  55.949486   40.089833\n",
       "서초구   18.508772  136.558088  62.262948   43.930876\n",
       "성동구   20.587011  103.551457  53.860661   39.523065\n",
       "성북구   35.867712  135.984481  62.656476   46.649590\n",
       "송파구   26.749275  135.052750  71.409916   51.640269\n",
       "양천구   33.395357  161.099671  93.202990   65.488644\n",
       "영등포구  27.357952  106.075306  54.265795   45.988179\n",
       "용산구   22.363847   95.426523  49.212034   63.017306\n",
       "은평구   26.239737  139.257482  71.149584   70.020640\n",
       "종로구   37.227791  116.947199  55.404595  143.976441\n",
       "중구    32.406210  139.726824  59.453228  176.764790\n",
       "중랑구   26.662654  113.809524  58.110113   42.613472"
      ]
     },
     "execution_count": 92,
     "metadata": {},
     "output_type": "execute_result"
    }
   ],
   "source": [
    "#교육열 정렬 후 데이터 프레임 생성\n",
    "유치원교육열=유치원교육열.sort_values(ascending=False)\n",
    "초등교육열 = 초등교육열.sort_values(ascending = False)\n",
    "중등교육열 = 중등교육열.sort_values(ascending = False)\n",
    "고등교육열 = 고등교육열.sort_values(ascending = False)\n",
    "data={'유치원교육열':유치원교육열,\n",
    "    '초등교육열':초등교육열,\n",
    "     '중등교육열':중등교육열,\n",
    "     '고등교육열':고등교육열}\n",
    "df=pd.DataFrame(data); df"
   ]
  },
  {
   "cell_type": "markdown",
   "metadata": {},
   "source": [
    "### 자치구별 (학원에 다니는 학생수/ 총 학생수) 구하기"
   ]
  },
  {
   "cell_type": "code",
   "execution_count": 93,
   "metadata": {
    "ExecuteTime": {
     "end_time": "2022-05-22T13:00:31.661908Z",
     "start_time": "2022-05-22T13:00:31.647904Z"
    }
   },
   "outputs": [
    {
     "data": {
      "text/html": [
       "<div>\n",
       "<style scoped>\n",
       "    .dataframe tbody tr th:only-of-type {\n",
       "        vertical-align: middle;\n",
       "    }\n",
       "\n",
       "    .dataframe tbody tr th {\n",
       "        vertical-align: top;\n",
       "    }\n",
       "\n",
       "    .dataframe thead th {\n",
       "        text-align: right;\n",
       "    }\n",
       "</style>\n",
       "<table border=\"1\" class=\"dataframe\">\n",
       "  <thead>\n",
       "    <tr style=\"text-align: right;\">\n",
       "      <th></th>\n",
       "      <th>자치구</th>\n",
       "      <th>학원/교습소</th>\n",
       "      <th>학원명</th>\n",
       "      <th>도로명주소</th>\n",
       "      <th>도로명상세주소</th>\n",
       "      <th>분야명</th>\n",
       "      <th>교습계열명</th>\n",
       "      <th>교습과정명</th>\n",
       "      <th>정원합계</th>\n",
       "      <th>일시수용능력인원합계</th>\n",
       "      <th>인당수강료내용</th>\n",
       "      <th>기숙사학원여부</th>\n",
       "      <th>등록일자</th>\n",
       "      <th>휴원시작일자</th>\n",
       "      <th>휴원종료일자</th>\n",
       "      <th>개설일자</th>\n",
       "      <th>개설연도</th>\n",
       "    </tr>\n",
       "  </thead>\n",
       "  <tbody>\n",
       "    <tr>\n",
       "      <th>0</th>\n",
       "      <td>동대문구</td>\n",
       "      <td>학원</td>\n",
       "      <td>도우리이용기술학원</td>\n",
       "      <td>동대문구 왕산로33길 32</td>\n",
       "      <td>/ 2층  (제기동)</td>\n",
       "      <td>직업기술</td>\n",
       "      <td>산업응용기술</td>\n",
       "      <td>이·미용</td>\n",
       "      <td>40</td>\n",
       "      <td>20</td>\n",
       "      <td>알수없음</td>\n",
       "      <td>N</td>\n",
       "      <td>1967-02-09</td>\n",
       "      <td>0</td>\n",
       "      <td>0</td>\n",
       "      <td>1967-02-09</td>\n",
       "      <td>1967</td>\n",
       "    </tr>\n",
       "    <tr>\n",
       "      <th>1</th>\n",
       "      <td>동대문구</td>\n",
       "      <td>학원</td>\n",
       "      <td>국제전자과학학원</td>\n",
       "      <td>동대문구 고산자로36길 3</td>\n",
       "      <td>/ 3층 일부 (제기동/ 경동시장)</td>\n",
       "      <td>직업기술</td>\n",
       "      <td>산업기반기술</td>\n",
       "      <td>전자</td>\n",
       "      <td>30</td>\n",
       "      <td>91</td>\n",
       "      <td>알수없음</td>\n",
       "      <td>N</td>\n",
       "      <td>1968-02-10</td>\n",
       "      <td>0</td>\n",
       "      <td>0</td>\n",
       "      <td>1968-02-10</td>\n",
       "      <td>1968</td>\n",
       "    </tr>\n",
       "    <tr>\n",
       "      <th>2</th>\n",
       "      <td>동대문구</td>\n",
       "      <td>학원</td>\n",
       "      <td>조이앤플레이음악학원</td>\n",
       "      <td>동대문구 이문로 38</td>\n",
       "      <td>/ 3층 301호 (휘경동/ 민족통일빌딩)</td>\n",
       "      <td>예능(대)</td>\n",
       "      <td>예능(중)</td>\n",
       "      <td>음악</td>\n",
       "      <td>98</td>\n",
       "      <td>45</td>\n",
       "      <td>알수없음</td>\n",
       "      <td>N</td>\n",
       "      <td>1972-06-30</td>\n",
       "      <td>0</td>\n",
       "      <td>0</td>\n",
       "      <td>1972-06-30</td>\n",
       "      <td>1972</td>\n",
       "    </tr>\n",
       "    <tr>\n",
       "      <th>3</th>\n",
       "      <td>동대문구</td>\n",
       "      <td>학원</td>\n",
       "      <td>한독자동차정비학원</td>\n",
       "      <td>동대문구 왕산로 31</td>\n",
       "      <td>/ 2층/3층 (신설동)</td>\n",
       "      <td>직업기술</td>\n",
       "      <td>산업기반기술</td>\n",
       "      <td>자동차</td>\n",
       "      <td>210</td>\n",
       "      <td>177</td>\n",
       "      <td>알수없음</td>\n",
       "      <td>N</td>\n",
       "      <td>1972-05-01</td>\n",
       "      <td>0</td>\n",
       "      <td>0</td>\n",
       "      <td>1972-05-01</td>\n",
       "      <td>1972</td>\n",
       "    </tr>\n",
       "    <tr>\n",
       "      <th>4</th>\n",
       "      <td>중랑구</td>\n",
       "      <td>학원</td>\n",
       "      <td>예맥보습학원</td>\n",
       "      <td>중랑구 동일로151길 30</td>\n",
       "      <td>2층3층 (묵동)</td>\n",
       "      <td>입시.검정 및 보습</td>\n",
       "      <td>보통교과</td>\n",
       "      <td>보습</td>\n",
       "      <td>18</td>\n",
       "      <td>152</td>\n",
       "      <td>알수없음</td>\n",
       "      <td>알수없음</td>\n",
       "      <td>1988-11-02</td>\n",
       "      <td>0</td>\n",
       "      <td>0</td>\n",
       "      <td>1988-11-02</td>\n",
       "      <td>1988</td>\n",
       "    </tr>\n",
       "  </tbody>\n",
       "</table>\n",
       "</div>"
      ],
      "text/plain": [
       "    자치구 학원/교습소         학원명            도로명주소                  도로명상세주소  \\\n",
       "0  동대문구     학원   도우리이용기술학원   동대문구 왕산로33길 32              / 2층  (제기동)   \n",
       "1  동대문구     학원    국제전자과학학원   동대문구 고산자로36길 3      / 3층 일부 (제기동/ 경동시장)   \n",
       "2  동대문구     학원  조이앤플레이음악학원      동대문구 이문로 38  / 3층 301호 (휘경동/ 민족통일빌딩)   \n",
       "3  동대문구     학원   한독자동차정비학원      동대문구 왕산로 31            / 2층/3층 (신설동)   \n",
       "4   중랑구     학원      예맥보습학원   중랑구 동일로151길 30                2층3층 (묵동)   \n",
       "\n",
       "          분야명   교습계열명 교습과정명  정원합계  일시수용능력인원합계 인당수강료내용 기숙사학원여부       등록일자  \\\n",
       "0        직업기술  산업응용기술  이·미용    40          20    알수없음       N 1967-02-09   \n",
       "1        직업기술  산업기반기술    전자    30          91    알수없음       N 1968-02-10   \n",
       "2       예능(대)   예능(중)    음악    98          45    알수없음       N 1972-06-30   \n",
       "3        직업기술  산업기반기술   자동차   210         177    알수없음       N 1972-05-01   \n",
       "4  입시.검정 및 보습    보통교과    보습    18         152    알수없음    알수없음 1988-11-02   \n",
       "\n",
       "   휴원시작일자  휴원종료일자       개설일자  개설연도  \n",
       "0       0       0 1967-02-09  1967  \n",
       "1       0       0 1968-02-10  1968  \n",
       "2       0       0 1972-06-30  1972  \n",
       "3       0       0 1972-05-01  1972  \n",
       "4       0       0 1988-11-02  1988  "
      ]
     },
     "execution_count": 93,
     "metadata": {},
     "output_type": "execute_result"
    }
   ],
   "source": [
    "academy_data.head()"
   ]
  },
  {
   "cell_type": "code",
   "execution_count": 94,
   "metadata": {
    "ExecuteTime": {
     "end_time": "2022-05-22T13:00:31.676904Z",
     "start_time": "2022-05-22T13:00:31.662903Z"
    }
   },
   "outputs": [
    {
     "data": {
      "text/html": [
       "<div>\n",
       "<style scoped>\n",
       "    .dataframe tbody tr th:only-of-type {\n",
       "        vertical-align: middle;\n",
       "    }\n",
       "\n",
       "    .dataframe tbody tr th {\n",
       "        vertical-align: top;\n",
       "    }\n",
       "\n",
       "    .dataframe thead th {\n",
       "        text-align: right;\n",
       "    }\n",
       "</style>\n",
       "<table border=\"1\" class=\"dataframe\">\n",
       "  <thead>\n",
       "    <tr style=\"text-align: right;\">\n",
       "      <th></th>\n",
       "      <th></th>\n",
       "      <th>정원합계</th>\n",
       "    </tr>\n",
       "    <tr>\n",
       "      <th>자치구</th>\n",
       "      <th>개설연도</th>\n",
       "      <th></th>\n",
       "    </tr>\n",
       "  </thead>\n",
       "  <tbody>\n",
       "    <tr>\n",
       "      <th rowspan=\"5\" valign=\"top\">강남구</th>\n",
       "      <th>1967</th>\n",
       "      <td>40</td>\n",
       "    </tr>\n",
       "    <tr>\n",
       "      <th>1970</th>\n",
       "      <td>242</td>\n",
       "    </tr>\n",
       "    <tr>\n",
       "      <th>1975</th>\n",
       "      <td>140</td>\n",
       "    </tr>\n",
       "    <tr>\n",
       "      <th>1979</th>\n",
       "      <td>163</td>\n",
       "    </tr>\n",
       "    <tr>\n",
       "      <th>1980</th>\n",
       "      <td>0</td>\n",
       "    </tr>\n",
       "    <tr>\n",
       "      <th>...</th>\n",
       "      <th>...</th>\n",
       "      <td>...</td>\n",
       "    </tr>\n",
       "    <tr>\n",
       "      <th rowspan=\"5\" valign=\"top\">중랑구</th>\n",
       "      <th>2018</th>\n",
       "      <td>6040</td>\n",
       "    </tr>\n",
       "    <tr>\n",
       "      <th>2019</th>\n",
       "      <td>2744</td>\n",
       "    </tr>\n",
       "    <tr>\n",
       "      <th>2020</th>\n",
       "      <td>4037</td>\n",
       "    </tr>\n",
       "    <tr>\n",
       "      <th>2021</th>\n",
       "      <td>6055</td>\n",
       "    </tr>\n",
       "    <tr>\n",
       "      <th>2022</th>\n",
       "      <td>375</td>\n",
       "    </tr>\n",
       "  </tbody>\n",
       "</table>\n",
       "<p>994 rows × 1 columns</p>\n",
       "</div>"
      ],
      "text/plain": [
       "          정원합계\n",
       "자치구 개설연도      \n",
       "강남구 1967    40\n",
       "    1970   242\n",
       "    1975   140\n",
       "    1979   163\n",
       "    1980     0\n",
       "...        ...\n",
       "중랑구 2018  6040\n",
       "    2019  2744\n",
       "    2020  4037\n",
       "    2021  6055\n",
       "    2022   375\n",
       "\n",
       "[994 rows x 1 columns]"
      ]
     },
     "execution_count": 94,
     "metadata": {},
     "output_type": "execute_result"
    }
   ],
   "source": [
    "academy_sum=academy_data.groupby('자치구')['정원합계'].sum()\n",
    "year_sum=academy_data.groupby(['자치구','개설연도'])[['정원합계']].sum()\n",
    "year_sum"
   ]
  },
  {
   "cell_type": "code",
   "execution_count": 95,
   "metadata": {
    "ExecuteTime": {
     "end_time": "2022-05-22T13:00:31.691907Z",
     "start_time": "2022-05-22T13:00:31.677903Z"
    }
   },
   "outputs": [],
   "source": [
    "사교육열=(academy_sum/total_student)*100"
   ]
  },
  {
   "cell_type": "markdown",
   "metadata": {},
   "source": [
    "### Visualize"
   ]
  },
  {
   "cell_type": "markdown",
   "metadata": {},
   "source": [
    "### 자치구별 유치원 수"
   ]
  },
  {
   "cell_type": "code",
   "execution_count": 96,
   "metadata": {
    "ExecuteTime": {
     "end_time": "2022-05-22T13:00:31.856908Z",
     "start_time": "2022-05-22T13:00:31.692904Z"
    }
   },
   "outputs": [
    {
     "data": {
      "image/png": "[encoded data removed]",
      "text/plain": [
       "<Figure size 720x720 with 1 Axes>"
      ]
     },
     "metadata": {
      "needs_background": "light"
     },
     "output_type": "display_data"
    }
   ],
   "source": [
    "plt.figure(figsize=(10,10))\n",
    "kd['행정구역명'].value_counts().plot(kind='barh')\n",
    "plt.xlabel('유치원 수')\n",
    "plt.ylabel('지역')\n",
    "plt.show()"
   ]
  },
  {
   "cell_type": "markdown",
   "metadata": {},
   "source": [
    "### 연도별 만3세 유아수 변화"
   ]
  },
  {
   "cell_type": "code",
   "execution_count": 97,
   "metadata": {
    "ExecuteTime": {
     "end_time": "2022-05-22T13:00:31.946907Z",
     "start_time": "2022-05-22T13:00:31.857918Z"
    }
   },
   "outputs": [
    {
     "data": {
      "image/png": "[encoded data removed]",
      "text/plain": [
       "<Figure size 1440x360 with 1 Axes>"
      ]
     },
     "metadata": {
      "needs_background": "light"
     },
     "output_type": "display_data"
    }
   ],
   "source": [
    "plt.figure(figsize=(20,5))\n",
    "plt.plot(kd['만3세유아수'],color='magenta')\n",
    "plt.xlabel('연도')\n",
    "plt.ylabel('유아수')\n",
    "plt.show()"
   ]
  },
  {
   "cell_type": "markdown",
   "metadata": {},
   "source": [
    "### 연도별 만4세 유아수 변화"
   ]
  },
  {
   "cell_type": "code",
   "execution_count": 98,
   "metadata": {
    "ExecuteTime": {
     "end_time": "2022-05-22T13:00:32.036907Z",
     "start_time": "2022-05-22T13:00:31.947904Z"
    }
   },
   "outputs": [
    {
     "data": {
      "image/png": "[encoded data removed]",
      "text/plain": [
       "<Figure size 1440x360 with 1 Axes>"
      ]
     },
     "metadata": {
      "needs_background": "light"
     },
     "output_type": "display_data"
    }
   ],
   "source": [
    "plt.figure(figsize=(20,5))\n",
    "plt.plot(kd['만4세유아수'],color='green')\n",
    "plt.xlabel('연도')\n",
    "plt.ylabel('유아수')\n",
    "plt.show()"
   ]
  },
  {
   "cell_type": "markdown",
   "metadata": {},
   "source": [
    "### 연도별 만5세 유아수 변화"
   ]
  },
  {
   "cell_type": "code",
   "execution_count": 99,
   "metadata": {
    "ExecuteTime": {
     "end_time": "2022-05-22T13:00:32.126903Z",
     "start_time": "2022-05-22T13:00:32.037904Z"
    }
   },
   "outputs": [
    {
     "data": {
      "image/png": "[encoded data removed]",
      "text/plain": [
       "<Figure size 1440x360 with 1 Axes>"
      ]
     },
     "metadata": {
      "needs_background": "light"
     },
     "output_type": "display_data"
    }
   ],
   "source": [
    "plt.figure(figsize=(20,5))\n",
    "plt.plot(kd['만5세유아수'],color='orange')\n",
    "plt.xlabel('연도')\n",
    "plt.ylabel('유아수')\n",
    "plt.show()"
   ]
  },
  {
   "cell_type": "markdown",
   "metadata": {},
   "source": [
    "### 유치원 교육열 시각화"
   ]
  },
  {
   "cell_type": "code",
   "execution_count": 100,
   "metadata": {
    "ExecuteTime": {
     "end_time": "2022-05-22T13:00:32.261980Z",
     "start_time": "2022-05-22T13:00:32.127903Z"
    }
   },
   "outputs": [
    {
     "data": {
      "image/png": "[encoded data removed]",
      "text/plain": [
       "<Figure size 720x720 with 1 Axes>"
      ]
     },
     "metadata": {
      "needs_background": "light"
     },
     "output_type": "display_data"
    }
   ],
   "source": [
    "plt.figure(figsize=(10,10))\n",
    "유치원교육열.plot(kind='barh')\n",
    "plt.xlabel('교육열')\n",
    "plt.show()"
   ]
  },
  {
   "cell_type": "markdown",
   "metadata": {},
   "source": [
    "### 초등학교 교육열 시각화"
   ]
  },
  {
   "cell_type": "code",
   "execution_count": 101,
   "metadata": {
    "ExecuteTime": {
     "end_time": "2022-05-22T13:00:32.397250Z",
     "start_time": "2022-05-22T13:00:32.262975Z"
    }
   },
   "outputs": [
    {
     "data": {
      "image/png": "[encoded data removed]",
      "text/plain": [
       "<Figure size 720x720 with 1 Axes>"
      ]
     },
     "metadata": {
      "needs_background": "light"
     },
     "output_type": "display_data"
    }
   ],
   "source": [
    "plt.figure(figsize=(10,10))\n",
    "초등교육열.plot(kind='barh')\n",
    "plt.xlabel('교육열')\n",
    "plt.show()"
   ]
  },
  {
   "cell_type": "markdown",
   "metadata": {},
   "source": [
    "### 중학교 교육열 시각화"
   ]
  },
  {
   "cell_type": "code",
   "execution_count": 102,
   "metadata": {
    "ExecuteTime": {
     "end_time": "2022-05-22T13:00:32.608911Z",
     "start_time": "2022-05-22T13:00:32.400245Z"
    }
   },
   "outputs": [
    {
     "data": {
      "image/png": "[encoded data removed]",
      "text/plain": [
       "<Figure size 720x720 with 1 Axes>"
      ]
     },
     "metadata": {
      "needs_background": "light"
     },
     "output_type": "display_data"
    }
   ],
   "source": [
    "plt.figure(figsize=(10,10))\n",
    "중등교육열.plot(kind='barh')\n",
    "plt.xlabel('교육열')\n",
    "plt.show()"
   ]
  },
  {
   "cell_type": "markdown",
   "metadata": {},
   "source": [
    "### 고등학교 교육열 시각화"
   ]
  },
  {
   "cell_type": "code",
   "execution_count": 103,
   "metadata": {
    "ExecuteTime": {
     "end_time": "2022-05-22T13:00:32.743911Z",
     "start_time": "2022-05-22T13:00:32.609908Z"
    }
   },
   "outputs": [
    {
     "data": {
      "image/png": "[encoded data removed]",
      "text/plain": [
       "<Figure size 720x720 with 1 Axes>"
      ]
     },
     "metadata": {
      "needs_background": "light"
     },
     "output_type": "display_data"
    }
   ],
   "source": [
    "plt.figure(figsize=(10,10))\n",
    "고등교육열.plot(kind='barh')\n",
    "plt.xlabel('교육열')\n",
    "plt.show()"
   ]
  },
  {
   "cell_type": "markdown",
   "metadata": {},
   "source": [
    "### 학교에 다니는 유치원생 수와 총 유치원생 수와의 상관관계"
   ]
  },
  {
   "cell_type": "code",
   "execution_count": 104,
   "metadata": {
    "ExecuteTime": {
     "end_time": "2022-05-22T13:00:32.818951Z",
     "start_time": "2022-05-22T13:00:32.744908Z"
    }
   },
   "outputs": [
    {
     "data": {
      "image/png": "[encoded data removed]",
      "text/plain": [
       "<Figure size 720x432 with 1 Axes>"
      ]
     },
     "metadata": {
      "needs_background": "light"
     },
     "output_type": "display_data"
    }
   ],
   "source": [
    "plt.figure(figsize=(10,6))\n",
    "plt.scatter(x=kd_sum,y=total_kd)\n",
    "plt.xlabel('학교에 다니는 유치원생 수')\n",
    "plt.ylabel('총 유치원생 수')\n",
    "plt.show()"
   ]
  },
  {
   "cell_type": "markdown",
   "metadata": {},
   "source": [
    "### 학교에 다니는 초등학생 수와 총 초등학생 수와의 상관관계"
   ]
  },
  {
   "cell_type": "code",
   "execution_count": 105,
   "metadata": {
    "ExecuteTime": {
     "end_time": "2022-05-22T13:00:32.909092Z",
     "start_time": "2022-05-22T13:00:32.819947Z"
    }
   },
   "outputs": [
    {
     "data": {
      "image/png": "[encoded data removed]",
      "text/plain": [
       "<Figure size 720x432 with 1 Axes>"
      ]
     },
     "metadata": {
      "needs_background": "light"
     },
     "output_type": "display_data"
    }
   ],
   "source": [
    "plt.figure(figsize=(10,6))\n",
    "plt.scatter(x=elementary_sum,y=total_elementary)\n",
    "plt.xlabel('학교에 다니는 초등학생 수')\n",
    "plt.ylabel('총 초등학생 수')\n",
    "plt.show()"
   ]
  },
  {
   "cell_type": "markdown",
   "metadata": {},
   "source": [
    "### 학교에 다니는 중학생 수와 총 중학생 수와의 상관관계"
   ]
  },
  {
   "cell_type": "code",
   "execution_count": 106,
   "metadata": {
    "ExecuteTime": {
     "end_time": "2022-05-22T13:00:32.999048Z",
     "start_time": "2022-05-22T13:00:32.910044Z"
    }
   },
   "outputs": [
    {
     "data": {
      "image/png": "[encoded data removed]",
      "text/plain": [
       "<Figure size 720x432 with 1 Axes>"
      ]
     },
     "metadata": {
      "needs_background": "light"
     },
     "output_type": "display_data"
    }
   ],
   "source": [
    "plt.figure(figsize=(10,6))\n",
    "plt.scatter(x=middle_sum,y=total_middle)\n",
    "plt.xlabel('학교에 다니는 중학생 수')\n",
    "plt.ylabel('총 중학생 수')\n",
    "plt.show()"
   ]
  },
  {
   "cell_type": "markdown",
   "metadata": {},
   "source": [
    "### 학교에 다니는 고등학생 수와 총 고등학생 수와의 상관관계"
   ]
  },
  {
   "cell_type": "code",
   "execution_count": 107,
   "metadata": {
    "ExecuteTime": {
     "end_time": "2022-05-22T13:00:33.074585Z",
     "start_time": "2022-05-22T13:00:32.999583Z"
    },
    "scrolled": false
   },
   "outputs": [
    {
     "data": {
      "image/png": "[encoded data removed]",
      "text/plain": [
       "<Figure size 720x432 with 1 Axes>"
      ]
     },
     "metadata": {
      "needs_background": "light"
     },
     "output_type": "display_data"
    }
   ],
   "source": [
    "plt.figure(figsize=(10,6))\n",
    "plt.scatter(x=high_sum,y=total_high)\n",
    "plt.xlabel('학교에 다니는 고등학생수')\n",
    "plt.ylabel('총 고등학생 수')\n",
    "plt.show()"
   ]
  },
  {
   "cell_type": "markdown",
   "metadata": {},
   "source": [
    "### 학원에 다니는 학생 수와 총 학생 수와의 상관관계"
   ]
  },
  {
   "cell_type": "code",
   "execution_count": 108,
   "metadata": {
    "ExecuteTime": {
     "end_time": "2022-05-22T13:00:33.089606Z",
     "start_time": "2022-05-22T13:00:33.075585Z"
    }
   },
   "outputs": [],
   "source": [
    "academy_sum = pd.DataFrame(academy_sum)\n",
    "academy_sum.rename(columns={'정원합계':'학원/교습소 학생 수'}, inplace=True)"
   ]
  },
  {
   "cell_type": "code",
   "execution_count": 109,
   "metadata": {
    "ExecuteTime": {
     "end_time": "2022-05-22T13:00:33.104612Z",
     "start_time": "2022-05-22T13:00:33.090603Z"
    }
   },
   "outputs": [],
   "source": [
    "total_student = pd.DataFrame(total_student)\n",
    "total_student.rename(columns={0:'학교 학생 수'}, inplace=True)"
   ]
  },
  {
   "cell_type": "code",
   "execution_count": 112,
   "metadata": {
    "ExecuteTime": {
     "end_time": "2022-05-22T13:00:33.119617Z",
     "start_time": "2022-05-22T13:00:33.105616Z"
    }
   },
   "outputs": [
    {
     "data": {
      "text/html": [
       "<div>\n",
       "<style scoped>\n",
       "    .dataframe tbody tr th:only-of-type {\n",
       "        vertical-align: middle;\n",
       "    }\n",
       "\n",
       "    .dataframe tbody tr th {\n",
       "        vertical-align: top;\n",
       "    }\n",
       "\n",
       "    .dataframe thead th {\n",
       "        text-align: right;\n",
       "    }\n",
       "</style>\n",
       "<table border=\"1\" class=\"dataframe\">\n",
       "  <thead>\n",
       "    <tr style=\"text-align: right;\">\n",
       "      <th></th>\n",
       "      <th>학원/교습소 학생 수</th>\n",
       "      <th>학교 학생 수</th>\n",
       "    </tr>\n",
       "    <tr>\n",
       "      <th>자치구</th>\n",
       "      <th></th>\n",
       "      <th></th>\n",
       "    </tr>\n",
       "  </thead>\n",
       "  <tbody>\n",
       "    <tr>\n",
       "      <th>강남구</th>\n",
       "      <td>1341391</td>\n",
       "      <td>60087</td>\n",
       "    </tr>\n",
       "    <tr>\n",
       "      <th>강동구</th>\n",
       "      <td>118388</td>\n",
       "      <td>54220</td>\n",
       "    </tr>\n",
       "    <tr>\n",
       "      <th>강북구</th>\n",
       "      <td>60703</td>\n",
       "      <td>29394</td>\n",
       "    </tr>\n",
       "    <tr>\n",
       "      <th>강서구</th>\n",
       "      <td>162616</td>\n",
       "      <td>45466</td>\n",
       "    </tr>\n",
       "    <tr>\n",
       "      <th>관악구</th>\n",
       "      <td>462239</td>\n",
       "      <td>39552</td>\n",
       "    </tr>\n",
       "    <tr>\n",
       "      <th>광진구</th>\n",
       "      <td>140999</td>\n",
       "      <td>30416</td>\n",
       "    </tr>\n",
       "    <tr>\n",
       "      <th>구로구</th>\n",
       "      <td>76468</td>\n",
       "      <td>41472</td>\n",
       "    </tr>\n",
       "    <tr>\n",
       "      <th>금천구</th>\n",
       "      <td>37284</td>\n",
       "      <td>20824</td>\n",
       "    </tr>\n",
       "    <tr>\n",
       "      <th>노원구</th>\n",
       "      <td>233119</td>\n",
       "      <td>60675</td>\n",
       "    </tr>\n",
       "    <tr>\n",
       "      <th>도봉구</th>\n",
       "      <td>55381</td>\n",
       "      <td>35347</td>\n",
       "    </tr>\n",
       "    <tr>\n",
       "      <th>동대문구</th>\n",
       "      <td>81821</td>\n",
       "      <td>34148</td>\n",
       "    </tr>\n",
       "    <tr>\n",
       "      <th>동작구</th>\n",
       "      <td>1050183</td>\n",
       "      <td>38568</td>\n",
       "    </tr>\n",
       "    <tr>\n",
       "      <th>마포구</th>\n",
       "      <td>322852</td>\n",
       "      <td>39649</td>\n",
       "    </tr>\n",
       "    <tr>\n",
       "      <th>서대문구</th>\n",
       "      <td>102506</td>\n",
       "      <td>33858</td>\n",
       "    </tr>\n",
       "    <tr>\n",
       "      <th>서초구</th>\n",
       "      <td>517978</td>\n",
       "      <td>56888</td>\n",
       "    </tr>\n",
       "    <tr>\n",
       "      <th>성동구</th>\n",
       "      <td>68452</td>\n",
       "      <td>29439</td>\n",
       "    </tr>\n",
       "    <tr>\n",
       "      <th>성북구</th>\n",
       "      <td>130992</td>\n",
       "      <td>46789</td>\n",
       "    </tr>\n",
       "    <tr>\n",
       "      <th>송파구</th>\n",
       "      <td>294222</td>\n",
       "      <td>73566</td>\n",
       "    </tr>\n",
       "    <tr>\n",
       "      <th>양천구</th>\n",
       "      <td>378734</td>\n",
       "      <td>50407</td>\n",
       "    </tr>\n",
       "    <tr>\n",
       "      <th>영등포구</th>\n",
       "      <td>142601</td>\n",
       "      <td>36813</td>\n",
       "    </tr>\n",
       "    <tr>\n",
       "      <th>용산구</th>\n",
       "      <td>24590</td>\n",
       "      <td>21929</td>\n",
       "    </tr>\n",
       "    <tr>\n",
       "      <th>은평구</th>\n",
       "      <td>129005</td>\n",
       "      <td>46050</td>\n",
       "    </tr>\n",
       "    <tr>\n",
       "      <th>종로구</th>\n",
       "      <td>144773</td>\n",
       "      <td>14945</td>\n",
       "    </tr>\n",
       "    <tr>\n",
       "      <th>중구</th>\n",
       "      <td>35166</td>\n",
       "      <td>9976</td>\n",
       "    </tr>\n",
       "    <tr>\n",
       "      <th>중랑구</th>\n",
       "      <td>61920</td>\n",
       "      <td>37477</td>\n",
       "    </tr>\n",
       "  </tbody>\n",
       "</table>\n",
       "</div>"
      ],
      "text/plain": [
       "      학원/교습소 학생 수  학교 학생 수\n",
       "자치구                       \n",
       "강남구       1341391    60087\n",
       "강동구        118388    54220\n",
       "강북구         60703    29394\n",
       "강서구        162616    45466\n",
       "관악구        462239    39552\n",
       "광진구        140999    30416\n",
       "구로구         76468    41472\n",
       "금천구         37284    20824\n",
       "노원구        233119    60675\n",
       "도봉구         55381    35347\n",
       "동대문구        81821    34148\n",
       "동작구       1050183    38568\n",
       "마포구        322852    39649\n",
       "서대문구       102506    33858\n",
       "서초구        517978    56888\n",
       "성동구         68452    29439\n",
       "성북구        130992    46789\n",
       "송파구        294222    73566\n",
       "양천구        378734    50407\n",
       "영등포구       142601    36813\n",
       "용산구         24590    21929\n",
       "은평구        129005    46050\n",
       "종로구        144773    14945\n",
       "중구          35166     9976\n",
       "중랑구         61920    37477"
      ]
     },
     "execution_count": 112,
     "metadata": {},
     "output_type": "execute_result"
    }
   ],
   "source": [
    "student_df = pd.concat([academy_sum, total_student], axis=1)\n",
    "student_df"
   ]
  },
  {
   "cell_type": "code",
   "execution_count": 113,
   "metadata": {
    "ExecuteTime": {
     "end_time": "2022-05-22T13:01:14.753596Z",
     "start_time": "2022-05-22T13:01:14.704338Z"
    }
   },
   "outputs": [
    {
     "data": {
      "application/vnd.plotly.v1+json": {
       "config": {
        "plotlyServerURL": "https://plot.ly"
       },
       "data": [
        {
         "hovertemplate": "학원/교습소 학생 수=%{x}<br>학교 학생 수=%{y}<br>size=%{marker.size}<extra></extra>",
         "legendgroup": "",
         "marker": {
          "color": "#636efa",
          "size": [
           2232.414665401834,
           218.3474732571007,
           206.51493502075255,
           357.66506840276253,
           1168.6867920711973,
           463.5685165702262,
           184.3846450617284,
           179.04341144832884,
           384.209311907705,
           156.67807734744108,
           239.6070048026239,
           2722.9387056627256,
           814.275265454362,
           302.75267292811156,
           910.5224300379695,
           232.521485104793,
           279.96323922289423,
           399.9429084087758,
           751.3519947626322,
           387.3658761850433,
           112.13461626157144,
           280.1411509229099,
           968.7052525928405,
           352.50601443464313,
           165.2213357525949
          ],
          "sizemode": "area",
          "sizeref": 6.807346764156814,
          "symbol": "circle"
         },
         "mode": "markers",
         "name": "",
         "orientation": "v",
         "showlegend": false,
         "type": "scatter",
         "x": [
          1341391,
          118388,
          60703,
          162616,
          462239,
          140999,
          76468,
          37284,
          233119,
          55381,
          81821,
          1050183,
          322852,
          102506,
          517978,
          68452,
          130992,
          294222,
          378734,
          142601,
          24590,
          129005,
          144773,
          35166,
          61920
         ],
         "xaxis": "x",
         "y": [
          60087,
          54220,
          29394,
          45466,
          39552,
          30416,
          41472,
          20824,
          60675,
          35347,
          34148,
          38568,
          39649,
          33858,
          56888,
          29439,
          46789,
          73566,
          50407,
          36813,
          21929,
          46050,
          14945,
          9976,
          37477
         ],
         "yaxis": "y"
        }
       ],
       "layout": {
        "legend": {
         "itemsizing": "constant",
         "tracegroupgap": 0
        },
        "template": {
         "data": {
          "bar": [
           {
            "error_x": {
             "color": "#2a3f5f"
            },
            "error_y": {
             "color": "#2a3f5f"
            },
            "marker": {
             "line": {
              "color": "#E5ECF6",
              "width": 0.5
             },
             "pattern": {
              "fillmode": "overlay",
              "size": 10,
              "solidity": 0.2
             }
            },
            "type": "bar"
           }
          ],
          "barpolar": [
           {
            "marker": {
             "line": {
              "color": "#E5ECF6",
              "width": 0.5
             },
             "pattern": {
              "fillmode": "overlay",
              "size": 10,
              "solidity": 0.2
             }
            },
            "type": "barpolar"
           }
          ],
          "carpet": [
           {
            "aaxis": {
             "endlinecolor": "#2a3f5f",
             "gridcolor": "white",
             "linecolor": "white",
             "minorgridcolor": "white",
             "startlinecolor": "#2a3f5f"
            },
            "baxis": {
             "endlinecolor": "#2a3f5f",
             "gridcolor": "white",
             "linecolor": "white",
             "minorgridcolor": "white",
             "startlinecolor": "#2a3f5f"
            },
            "type": "carpet"
           }
          ],
          "choropleth": [
           {
            "colorbar": {
             "outlinewidth": 0,
             "ticks": ""
            },
            "type": "choropleth"
           }
          ],
          "contour": [
           {
            "colorbar": {
             "outlinewidth": 0,
             "ticks": ""
            },
            "colorscale": [
             [
              0,
              "#0d0887"
             ],
             [
              0.1111111111111111,
              "#46039f"
             ],
             [
              0.2222222222222222,
              "#7201a8"
             ],
             [
              0.3333333333333333,
              "#9c179e"
             ],
             [
              0.4444444444444444,
              "#bd3786"
             ],
             [
              0.5555555555555556,
              "#d8576b"
             ],
             [
              0.6666666666666666,
              "#ed7953"
             ],
             [
              0.7777777777777778,
              "#fb9f3a"
             ],
             [
              0.8888888888888888,
              "#fdca26"
             ],
             [
              1,
              "#f0f921"
             ]
            ],
            "type": "contour"
           }
          ],
          "contourcarpet": [
           {
            "colorbar": {
             "outlinewidth": 0,
             "ticks": ""
            },
            "type": "contourcarpet"
           }
          ],
          "heatmap": [
           {
            "colorbar": {
             "outlinewidth": 0,
             "ticks": ""
            },
            "colorscale": [
             [
              0,
              "#0d0887"
             ],
             [
              0.1111111111111111,
              "#46039f"
             ],
             [
              0.2222222222222222,
              "#7201a8"
             ],
             [
              0.3333333333333333,
              "#9c179e"
             ],
             [
              0.4444444444444444,
              "#bd3786"
             ],
             [
              0.5555555555555556,
              "#d8576b"
             ],
             [
              0.6666666666666666,
              "#ed7953"
             ],
             [
              0.7777777777777778,
              "#fb9f3a"
             ],
             [
              0.8888888888888888,
              "#fdca26"
             ],
             [
              1,
              "#f0f921"
             ]
            ],
            "type": "heatmap"
           }
          ],
          "heatmapgl": [
           {
            "colorbar": {
             "outlinewidth": 0,
             "ticks": ""
            },
            "colorscale": [
             [
              0,
              "#0d0887"
             ],
             [
              0.1111111111111111,
              "#46039f"
             ],
             [
              0.2222222222222222,
              "#7201a8"
             ],
             [
              0.3333333333333333,
              "#9c179e"
             ],
             [
              0.4444444444444444,
              "#bd3786"
             ],
             [
              0.5555555555555556,
              "#d8576b"
             ],
             [
              0.6666666666666666,
              "#ed7953"
             ],
             [
              0.7777777777777778,
              "#fb9f3a"
             ],
             [
              0.8888888888888888,
              "#fdca26"
             ],
             [
              1,
              "#f0f921"
             ]
            ],
            "type": "heatmapgl"
           }
          ],
          "histogram": [
           {
            "marker": {
             "pattern": {
              "fillmode": "overlay",
              "size": 10,
              "solidity": 0.2
             }
            },
            "type": "histogram"
           }
          ],
          "histogram2d": [
           {
            "colorbar": {
             "outlinewidth": 0,
             "ticks": ""
            },
            "colorscale": [
             [
              0,
              "#0d0887"
             ],
             [
              0.1111111111111111,
              "#46039f"
             ],
             [
              0.2222222222222222,
              "#7201a8"
             ],
             [
              0.3333333333333333,
              "#9c179e"
             ],
             [
              0.4444444444444444,
              "#bd3786"
             ],
             [
              0.5555555555555556,
              "#d8576b"
             ],
             [
              0.6666666666666666,
              "#ed7953"
             ],
             [
              0.7777777777777778,
              "#fb9f3a"
             ],
             [
              0.8888888888888888,
              "#fdca26"
             ],
             [
              1,
              "#f0f921"
             ]
            ],
            "type": "histogram2d"
           }
          ],
          "histogram2dcontour": [
           {
            "colorbar": {
             "outlinewidth": 0,
             "ticks": ""
            },
            "colorscale": [
             [
              0,
              "#0d0887"
             ],
             [
              0.1111111111111111,
              "#46039f"
             ],
             [
              0.2222222222222222,
              "#7201a8"
             ],
             [
              0.3333333333333333,
              "#9c179e"
             ],
             [
              0.4444444444444444,
              "#bd3786"
             ],
             [
              0.5555555555555556,
              "#d8576b"
             ],
             [
              0.6666666666666666,
              "#ed7953"
             ],
             [
              0.7777777777777778,
              "#fb9f3a"
             ],
             [
              0.8888888888888888,
              "#fdca26"
             ],
             [
              1,
              "#f0f921"
             ]
            ],
            "type": "histogram2dcontour"
           }
          ],
          "mesh3d": [
           {
            "colorbar": {
             "outlinewidth": 0,
             "ticks": ""
            },
            "type": "mesh3d"
           }
          ],
          "parcoords": [
           {
            "line": {
             "colorbar": {
              "outlinewidth": 0,
              "ticks": ""
             }
            },
            "type": "parcoords"
           }
          ],
          "pie": [
           {
            "automargin": true,
            "type": "pie"
           }
          ],
          "scatter": [
           {
            "marker": {
             "colorbar": {
              "outlinewidth": 0,
              "ticks": ""
             }
            },
            "type": "scatter"
           }
          ],
          "scatter3d": [
           {
            "line": {
             "colorbar": {
              "outlinewidth": 0,
              "ticks": ""
             }
            },
            "marker": {
             "colorbar": {
              "outlinewidth": 0,
              "ticks": ""
             }
            },
            "type": "scatter3d"
           }
          ],
          "scattercarpet": [
           {
            "marker": {
             "colorbar": {
              "outlinewidth": 0,
              "ticks": ""
             }
            },
            "type": "scattercarpet"
           }
          ],
          "scattergeo": [
           {
            "marker": {
             "colorbar": {
              "outlinewidth": 0,
              "ticks": ""
             }
            },
            "type": "scattergeo"
           }
          ],
          "scattergl": [
           {
            "marker": {
             "colorbar": {
              "outlinewidth": 0,
              "ticks": ""
             }
            },
            "type": "scattergl"
           }
          ],
          "scattermapbox": [
           {
            "marker": {
             "colorbar": {
              "outlinewidth": 0,
              "ticks": ""
             }
            },
            "type": "scattermapbox"
           }
          ],
          "scatterpolar": [
           {
            "marker": {
             "colorbar": {
              "outlinewidth": 0,
              "ticks": ""
             }
            },
            "type": "scatterpolar"
           }
          ],
          "scatterpolargl": [
           {
            "marker": {
             "colorbar": {
              "outlinewidth": 0,
              "ticks": ""
             }
            },
            "type": "scatterpolargl"
           }
          ],
          "scatterternary": [
           {
            "marker": {
             "colorbar": {
              "outlinewidth": 0,
              "ticks": ""
             }
            },
            "type": "scatterternary"
           }
          ],
          "surface": [
           {
            "colorbar": {
             "outlinewidth": 0,
             "ticks": ""
            },
            "colorscale": [
             [
              0,
              "#0d0887"
             ],
             [
              0.1111111111111111,
              "#46039f"
             ],
             [
              0.2222222222222222,
              "#7201a8"
             ],
             [
              0.3333333333333333,
              "#9c179e"
             ],
             [
              0.4444444444444444,
              "#bd3786"
             ],
             [
              0.5555555555555556,
              "#d8576b"
             ],
             [
              0.6666666666666666,
              "#ed7953"
             ],
             [
              0.7777777777777778,
              "#fb9f3a"
             ],
             [
              0.8888888888888888,
              "#fdca26"
             ],
             [
              1,
              "#f0f921"
             ]
            ],
            "type": "surface"
           }
          ],
          "table": [
           {
            "cells": {
             "fill": {
              "color": "#EBF0F8"
             },
             "line": {
              "color": "white"
             }
            },
            "header": {
             "fill": {
              "color": "#C8D4E3"
             },
             "line": {
              "color": "white"
             }
            },
            "type": "table"
           }
          ]
         },
         "layout": {
          "annotationdefaults": {
           "arrowcolor": "#2a3f5f",
           "arrowhead": 0,
           "arrowwidth": 1
          },
          "autotypenumbers": "strict",
          "coloraxis": {
           "colorbar": {
            "outlinewidth": 0,
            "ticks": ""
           }
          },
          "colorscale": {
           "diverging": [
            [
             0,
             "#8e0152"
            ],
            [
             0.1,
             "#c51b7d"
            ],
            [
             0.2,
             "#de77ae"
            ],
            [
             0.3,
             "#f1b6da"
            ],
            [
             0.4,
             "#fde0ef"
            ],
            [
             0.5,
             "#f7f7f7"
            ],
            [
             0.6,
             "#e6f5d0"
            ],
            [
             0.7,
             "#b8e186"
            ],
            [
             0.8,
             "#7fbc41"
            ],
            [
             0.9,
             "#4d9221"
            ],
            [
             1,
             "#276419"
            ]
           ],
           "sequential": [
            [
             0,
             "#0d0887"
            ],
            [
             0.1111111111111111,
             "#46039f"
            ],
            [
             0.2222222222222222,
             "#7201a8"
            ],
            [
             0.3333333333333333,
             "#9c179e"
            ],
            [
             0.4444444444444444,
             "#bd3786"
            ],
            [
             0.5555555555555556,
             "#d8576b"
            ],
            [
             0.6666666666666666,
             "#ed7953"
            ],
            [
             0.7777777777777778,
             "#fb9f3a"
            ],
            [
             0.8888888888888888,
             "#fdca26"
            ],
            [
             1,
             "#f0f921"
            ]
           ],
           "sequentialminus": [
            [
             0,
             "#0d0887"
            ],
            [
             0.1111111111111111,
             "#46039f"
            ],
            [
             0.2222222222222222,
             "#7201a8"
            ],
            [
             0.3333333333333333,
             "#9c179e"
            ],
            [
             0.4444444444444444,
             "#bd3786"
            ],
            [
             0.5555555555555556,
             "#d8576b"
            ],
            [
             0.6666666666666666,
             "#ed7953"
            ],
            [
             0.7777777777777778,
             "#fb9f3a"
            ],
            [
             0.8888888888888888,
             "#fdca26"
            ],
            [
             1,
             "#f0f921"
            ]
           ]
          },
          "colorway": [
           "#636efa",
           "#EF553B",
           "#00cc96",
           "#ab63fa",
           "#FFA15A",
           "#19d3f3",
           "#FF6692",
           "#B6E880",
           "#FF97FF",
           "#FECB52"
          ],
          "font": {
           "color": "#2a3f5f"
          },
          "geo": {
           "bgcolor": "white",
           "lakecolor": "white",
           "landcolor": "#E5ECF6",
           "showlakes": true,
           "showland": true,
           "subunitcolor": "white"
          },
          "hoverlabel": {
           "align": "left"
          },
          "hovermode": "closest",
          "mapbox": {
           "style": "light"
          },
          "paper_bgcolor": "white",
          "plot_bgcolor": "#E5ECF6",
          "polar": {
           "angularaxis": {
            "gridcolor": "white",
            "linecolor": "white",
            "ticks": ""
           },
           "bgcolor": "#E5ECF6",
           "radialaxis": {
            "gridcolor": "white",
            "linecolor": "white",
            "ticks": ""
           }
          },
          "scene": {
           "xaxis": {
            "backgroundcolor": "#E5ECF6",
            "gridcolor": "white",
            "gridwidth": 2,
            "linecolor": "white",
            "showbackground": true,
            "ticks": "",
            "zerolinecolor": "white"
           },
           "yaxis": {
            "backgroundcolor": "#E5ECF6",
            "gridcolor": "white",
            "gridwidth": 2,
            "linecolor": "white",
            "showbackground": true,
            "ticks": "",
            "zerolinecolor": "white"
           },
           "zaxis": {
            "backgroundcolor": "#E5ECF6",
            "gridcolor": "white",
            "gridwidth": 2,
            "linecolor": "white",
            "showbackground": true,
            "ticks": "",
            "zerolinecolor": "white"
           }
          },
          "shapedefaults": {
           "line": {
            "color": "#2a3f5f"
           }
          },
          "ternary": {
           "aaxis": {
            "gridcolor": "white",
            "linecolor": "white",
            "ticks": ""
           },
           "baxis": {
            "gridcolor": "white",
            "linecolor": "white",
            "ticks": ""
           },
           "bgcolor": "#E5ECF6",
           "caxis": {
            "gridcolor": "white",
            "linecolor": "white",
            "ticks": ""
           }
          },
          "title": {
           "x": 0.05
          },
          "xaxis": {
           "automargin": true,
           "gridcolor": "white",
           "linecolor": "white",
           "ticks": "",
           "title": {
            "standoff": 15
           },
           "zerolinecolor": "white",
           "zerolinewidth": 2
          },
          "yaxis": {
           "automargin": true,
           "gridcolor": "white",
           "linecolor": "white",
           "ticks": "",
           "title": {
            "standoff": 15
           },
           "zerolinecolor": "white",
           "zerolinewidth": 2
          }
         }
        },
        "title": {
         "text": "학원/교습소에 다니는 학생 수와 학교 학생 수와의 상관관계"
        },
        "xaxis": {
         "anchor": "y",
         "domain": [
          0,
          1
         ],
         "title": {
          "text": "학원/교습소 학생 수"
         }
        },
        "yaxis": {
         "anchor": "x",
         "domain": [
          0,
          1
         ],
         "title": {
          "text": "학교 학생 수"
         }
        }
       }
      },
      "text/html": [
       "<div>                            <div id=\"a2488431-465d-4590-9b2a-40ac9c857118\" class=\"plotly-graph-div\" style=\"height:525px; width:100%;\"></div>            <script type=\"text/javascript\">                require([\"plotly\"], function(Plotly) {                    window.PLOTLYENV=window.PLOTLYENV || {};                                    if (document.getElementById(\"a2488431-465d-4590-9b2a-40ac9c857118\")) {                    Plotly.newPlot(                        \"a2488431-465d-4590-9b2a-40ac9c857118\",                        [{\"hovertemplate\":\"\\ud559\\uc6d0/\\uad50\\uc2b5\\uc18c \\ud559\\uc0dd \\uc218=%{x}<br>\\ud559\\uad50 \\ud559\\uc0dd \\uc218=%{y}<br>size=%{marker.size}<extra></extra>\",\"legendgroup\":\"\",\"marker\":{\"color\":\"#636efa\",\"size\":[2232.414665401834,218.3474732571007,206.51493502075255,357.66506840276253,1168.6867920711973,463.5685165702262,184.3846450617284,179.04341144832884,384.209311907705,156.67807734744108,239.6070048026239,2722.9387056627256,814.275265454362,302.75267292811156,910.5224300379695,232.521485104793,279.96323922289423,399.9429084087758,751.3519947626322,387.3658761850433,112.13461626157144,280.1411509229099,968.7052525928405,352.50601443464313,165.2213357525949],\"sizemode\":\"area\",\"sizeref\":6.807346764156814,\"symbol\":\"circle\"},\"mode\":\"markers\",\"name\":\"\",\"orientation\":\"v\",\"showlegend\":false,\"x\":[1341391,118388,60703,162616,462239,140999,76468,37284,233119,55381,81821,1050183,322852,102506,517978,68452,130992,294222,378734,142601,24590,129005,144773,35166,61920],\"xaxis\":\"x\",\"y\":[60087,54220,29394,45466,39552,30416,41472,20824,60675,35347,34148,38568,39649,33858,56888,29439,46789,73566,50407,36813,21929,46050,14945,9976,37477],\"yaxis\":\"y\",\"type\":\"scatter\"}],                        {\"template\":{\"data\":{\"bar\":[{\"error_x\":{\"color\":\"#2a3f5f\"},\"error_y\":{\"color\":\"#2a3f5f\"},\"marker\":{\"line\":{\"color\":\"#E5ECF6\",\"width\":0.5},\"pattern\":{\"fillmode\":\"overlay\",\"size\":10,\"solidity\":0.2}},\"type\":\"bar\"}],\"barpolar\":[{\"marker\":{\"line\":{\"color\":\"#E5ECF6\",\"width\":0.5},\"pattern\":{\"fillmode\":\"overlay\",\"size\":10,\"solidity\":0.2}},\"type\":\"barpolar\"}],\"carpet\":[{\"aaxis\":{\"endlinecolor\":\"#2a3f5f\",\"gridcolor\":\"white\",\"linecolor\":\"white\",\"minorgridcolor\":\"white\",\"startlinecolor\":\"#2a3f5f\"},\"baxis\":{\"endlinecolor\":\"#2a3f5f\",\"gridcolor\":\"white\",\"linecolor\":\"white\",\"minorgridcolor\":\"white\",\"startlinecolor\":\"#2a3f5f\"},\"type\":\"carpet\"}],\"choropleth\":[{\"colorbar\":{\"outlinewidth\":0,\"ticks\":\"\"},\"type\":\"choropleth\"}],\"contour\":[{\"colorbar\":{\"outlinewidth\":0,\"ticks\":\"\"},\"colorscale\":[[0.0,\"#0d0887\"],[0.1111111111111111,\"#46039f\"],[0.2222222222222222,\"#7201a8\"],[0.3333333333333333,\"#9c179e\"],[0.4444444444444444,\"#bd3786\"],[0.5555555555555556,\"#d8576b\"],[0.6666666666666666,\"#ed7953\"],[0.7777777777777778,\"#fb9f3a\"],[0.8888888888888888,\"#fdca26\"],[1.0,\"#f0f921\"]],\"type\":\"contour\"}],\"contourcarpet\":[{\"colorbar\":{\"outlinewidth\":0,\"ticks\":\"\"},\"type\":\"contourcarpet\"}],\"heatmap\":[{\"colorbar\":{\"outlinewidth\":0,\"ticks\":\"\"},\"colorscale\":[[0.0,\"#0d0887\"],[0.1111111111111111,\"#46039f\"],[0.2222222222222222,\"#7201a8\"],[0.3333333333333333,\"#9c179e\"],[0.4444444444444444,\"#bd3786\"],[0.5555555555555556,\"#d8576b\"],[0.6666666666666666,\"#ed7953\"],[0.7777777777777778,\"#fb9f3a\"],[0.8888888888888888,\"#fdca26\"],[1.0,\"#f0f921\"]],\"type\":\"heatmap\"}],\"heatmapgl\":[{\"colorbar\":{\"outlinewidth\":0,\"ticks\":\"\"},\"colorscale\":[[0.0,\"#0d0887\"],[0.1111111111111111,\"#46039f\"],[0.2222222222222222,\"#7201a8\"],[0.3333333333333333,\"#9c179e\"],[0.4444444444444444,\"#bd3786\"],[0.5555555555555556,\"#d8576b\"],[0.6666666666666666,\"#ed7953\"],[0.7777777777777778,\"#fb9f3a\"],[0.8888888888888888,\"#fdca26\"],[1.0,\"#f0f921\"]],\"type\":\"heatmapgl\"}],\"histogram\":[{\"marker\":{\"pattern\":{\"fillmode\":\"overlay\",\"size\":10,\"solidity\":0.2}},\"type\":\"histogram\"}],\"histogram2d\":[{\"colorbar\":{\"outlinewidth\":0,\"ticks\":\"\"},\"colorscale\":[[0.0,\"#0d0887\"],[0.1111111111111111,\"#46039f\"],[0.2222222222222222,\"#7201a8\"],[0.3333333333333333,\"#9c179e\"],[0.4444444444444444,\"#bd3786\"],[0.5555555555555556,\"#d8576b\"],[0.6666666666666666,\"#ed7953\"],[0.7777777777777778,\"#fb9f3a\"],[0.8888888888888888,\"#fdca26\"],[1.0,\"#f0f921\"]],\"type\":\"histogram2d\"}],\"histogram2dcontour\":[{\"colorbar\":{\"outlinewidth\":0,\"ticks\":\"\"},\"colorscale\":[[0.0,\"#0d0887\"],[0.1111111111111111,\"#46039f\"],[0.2222222222222222,\"#7201a8\"],[0.3333333333333333,\"#9c179e\"],[0.4444444444444444,\"#bd3786\"],[0.5555555555555556,\"#d8576b\"],[0.6666666666666666,\"#ed7953\"],[0.7777777777777778,\"#fb9f3a\"],[0.8888888888888888,\"#fdca26\"],[1.0,\"#f0f921\"]],\"type\":\"histogram2dcontour\"}],\"mesh3d\":[{\"colorbar\":{\"outlinewidth\":0,\"ticks\":\"\"},\"type\":\"mesh3d\"}],\"parcoords\":[{\"line\":{\"colorbar\":{\"outlinewidth\":0,\"ticks\":\"\"}},\"type\":\"parcoords\"}],\"pie\":[{\"automargin\":true,\"type\":\"pie\"}],\"scatter\":[{\"marker\":{\"colorbar\":{\"outlinewidth\":0,\"ticks\":\"\"}},\"type\":\"scatter\"}],\"scatter3d\":[{\"line\":{\"colorbar\":{\"outlinewidth\":0,\"ticks\":\"\"}},\"marker\":{\"colorbar\":{\"outlinewidth\":0,\"ticks\":\"\"}},\"type\":\"scatter3d\"}],\"scattercarpet\":[{\"marker\":{\"colorbar\":{\"outlinewidth\":0,\"ticks\":\"\"}},\"type\":\"scattercarpet\"}],\"scattergeo\":[{\"marker\":{\"colorbar\":{\"outlinewidth\":0,\"ticks\":\"\"}},\"type\":\"scattergeo\"}],\"scattergl\":[{\"marker\":{\"colorbar\":{\"outlinewidth\":0,\"ticks\":\"\"}},\"type\":\"scattergl\"}],\"scattermapbox\":[{\"marker\":{\"colorbar\":{\"outlinewidth\":0,\"ticks\":\"\"}},\"type\":\"scattermapbox\"}],\"scatterpolar\":[{\"marker\":{\"colorbar\":{\"outlinewidth\":0,\"ticks\":\"\"}},\"type\":\"scatterpolar\"}],\"scatterpolargl\":[{\"marker\":{\"colorbar\":{\"outlinewidth\":0,\"ticks\":\"\"}},\"type\":\"scatterpolargl\"}],\"scatterternary\":[{\"marker\":{\"colorbar\":{\"outlinewidth\":0,\"ticks\":\"\"}},\"type\":\"scatterternary\"}],\"surface\":[{\"colorbar\":{\"outlinewidth\":0,\"ticks\":\"\"},\"colorscale\":[[0.0,\"#0d0887\"],[0.1111111111111111,\"#46039f\"],[0.2222222222222222,\"#7201a8\"],[0.3333333333333333,\"#9c179e\"],[0.4444444444444444,\"#bd3786\"],[0.5555555555555556,\"#d8576b\"],[0.6666666666666666,\"#ed7953\"],[0.7777777777777778,\"#fb9f3a\"],[0.8888888888888888,\"#fdca26\"],[1.0,\"#f0f921\"]],\"type\":\"surface\"}],\"table\":[{\"cells\":{\"fill\":{\"color\":\"#EBF0F8\"},\"line\":{\"color\":\"white\"}},\"header\":{\"fill\":{\"color\":\"#C8D4E3\"},\"line\":{\"color\":\"white\"}},\"type\":\"table\"}]},\"layout\":{\"annotationdefaults\":{\"arrowcolor\":\"#2a3f5f\",\"arrowhead\":0,\"arrowwidth\":1},\"autotypenumbers\":\"strict\",\"coloraxis\":{\"colorbar\":{\"outlinewidth\":0,\"ticks\":\"\"}},\"colorscale\":{\"diverging\":[[0,\"#8e0152\"],[0.1,\"#c51b7d\"],[0.2,\"#de77ae\"],[0.3,\"#f1b6da\"],[0.4,\"#fde0ef\"],[0.5,\"#f7f7f7\"],[0.6,\"#e6f5d0\"],[0.7,\"#b8e186\"],[0.8,\"#7fbc41\"],[0.9,\"#4d9221\"],[1,\"#276419\"]],\"sequential\":[[0.0,\"#0d0887\"],[0.1111111111111111,\"#46039f\"],[0.2222222222222222,\"#7201a8\"],[0.3333333333333333,\"#9c179e\"],[0.4444444444444444,\"#bd3786\"],[0.5555555555555556,\"#d8576b\"],[0.6666666666666666,\"#ed7953\"],[0.7777777777777778,\"#fb9f3a\"],[0.8888888888888888,\"#fdca26\"],[1.0,\"#f0f921\"]],\"sequentialminus\":[[0.0,\"#0d0887\"],[0.1111111111111111,\"#46039f\"],[0.2222222222222222,\"#7201a8\"],[0.3333333333333333,\"#9c179e\"],[0.4444444444444444,\"#bd3786\"],[0.5555555555555556,\"#d8576b\"],[0.6666666666666666,\"#ed7953\"],[0.7777777777777778,\"#fb9f3a\"],[0.8888888888888888,\"#fdca26\"],[1.0,\"#f0f921\"]]},\"colorway\":[\"#636efa\",\"#EF553B\",\"#00cc96\",\"#ab63fa\",\"#FFA15A\",\"#19d3f3\",\"#FF6692\",\"#B6E880\",\"#FF97FF\",\"#FECB52\"],\"font\":{\"color\":\"#2a3f5f\"},\"geo\":{\"bgcolor\":\"white\",\"lakecolor\":\"white\",\"landcolor\":\"#E5ECF6\",\"showlakes\":true,\"showland\":true,\"subunitcolor\":\"white\"},\"hoverlabel\":{\"align\":\"left\"},\"hovermode\":\"closest\",\"mapbox\":{\"style\":\"light\"},\"paper_bgcolor\":\"white\",\"plot_bgcolor\":\"#E5ECF6\",\"polar\":{\"angularaxis\":{\"gridcolor\":\"white\",\"linecolor\":\"white\",\"ticks\":\"\"},\"bgcolor\":\"#E5ECF6\",\"radialaxis\":{\"gridcolor\":\"white\",\"linecolor\":\"white\",\"ticks\":\"\"}},\"scene\":{\"xaxis\":{\"backgroundcolor\":\"#E5ECF6\",\"gridcolor\":\"white\",\"gridwidth\":2,\"linecolor\":\"white\",\"showbackground\":true,\"ticks\":\"\",\"zerolinecolor\":\"white\"},\"yaxis\":{\"backgroundcolor\":\"#E5ECF6\",\"gridcolor\":\"white\",\"gridwidth\":2,\"linecolor\":\"white\",\"showbackground\":true,\"ticks\":\"\",\"zerolinecolor\":\"white\"},\"zaxis\":{\"backgroundcolor\":\"#E5ECF6\",\"gridcolor\":\"white\",\"gridwidth\":2,\"linecolor\":\"white\",\"showbackground\":true,\"ticks\":\"\",\"zerolinecolor\":\"white\"}},\"shapedefaults\":{\"line\":{\"color\":\"#2a3f5f\"}},\"ternary\":{\"aaxis\":{\"gridcolor\":\"white\",\"linecolor\":\"white\",\"ticks\":\"\"},\"baxis\":{\"gridcolor\":\"white\",\"linecolor\":\"white\",\"ticks\":\"\"},\"bgcolor\":\"#E5ECF6\",\"caxis\":{\"gridcolor\":\"white\",\"linecolor\":\"white\",\"ticks\":\"\"}},\"title\":{\"x\":0.05},\"xaxis\":{\"automargin\":true,\"gridcolor\":\"white\",\"linecolor\":\"white\",\"ticks\":\"\",\"title\":{\"standoff\":15},\"zerolinecolor\":\"white\",\"zerolinewidth\":2},\"yaxis\":{\"automargin\":true,\"gridcolor\":\"white\",\"linecolor\":\"white\",\"ticks\":\"\",\"title\":{\"standoff\":15},\"zerolinecolor\":\"white\",\"zerolinewidth\":2}}},\"xaxis\":{\"anchor\":\"y\",\"domain\":[0.0,1.0],\"title\":{\"text\":\"\\ud559\\uc6d0/\\uad50\\uc2b5\\uc18c \\ud559\\uc0dd \\uc218\"}},\"yaxis\":{\"anchor\":\"x\",\"domain\":[0.0,1.0],\"title\":{\"text\":\"\\ud559\\uad50 \\ud559\\uc0dd \\uc218\"}},\"legend\":{\"tracegroupgap\":0,\"itemsizing\":\"constant\"},\"title\":{\"text\":\"\\ud559\\uc6d0/\\uad50\\uc2b5\\uc18c\\uc5d0 \\ub2e4\\ub2c8\\ub294 \\ud559\\uc0dd \\uc218\\uc640 \\ud559\\uad50 \\ud559\\uc0dd \\uc218\\uc640\\uc758 \\uc0c1\\uad00\\uad00\\uacc4\"}},                        {\"responsive\": true}                    ).then(function(){\n",
       "                            \n",
       "var gd = document.getElementById('a2488431-465d-4590-9b2a-40ac9c857118');\n",
       "var x = new MutationObserver(function (mutations, observer) {{\n",
       "        var display = window.getComputedStyle(gd).display;\n",
       "        if (!display || display === 'none') {{\n",
       "            console.log([gd, 'removed!']);\n",
       "            Plotly.purge(gd);\n",
       "            observer.disconnect();\n",
       "        }}\n",
       "}});\n",
       "\n",
       "// Listen for the removal of the full notebook cells\n",
       "var notebookContainer = gd.closest('#notebook-container');\n",
       "if (notebookContainer) {{\n",
       "    x.observe(notebookContainer, {childList: true});\n",
       "}}\n",
       "\n",
       "// Listen for the clearing of the current output cell\n",
       "var outputEl = gd.closest('.output');\n",
       "if (outputEl) {{\n",
       "    x.observe(outputEl, {childList: true});\n",
       "}}\n",
       "\n",
       "                        })                };                });            </script>        </div>"
      ]
     },
     "metadata": {},
     "output_type": "display_data"
    }
   ],
   "source": [
    "fig=px.scatter(student_df, x='학원/교습소 학생 수', y='학교 학생 수', size=사교육열, title='학원/교습소에 다니는 학생 수와 학교 학생 수와의 상관관계')\n",
    "fig.show()"
   ]
  }
 ],
 "metadata": {
  "kernelspec": {
   "display_name": "Python 3 (ipykernel)",
   "language": "python",
   "name": "python3"
  },
  "language_info": {
   "codemirror_mode": {
    "name": "ipython",
    "version": 3
   },
   "file_extension": ".py",
   "mimetype": "text/x-python",
   "name": "python",
   "nbconvert_exporter": "python",
   "pygments_lexer": "ipython3",
   "version": "3.9.12"
  }
 },
 "nbformat": 4,
 "nbformat_minor": 4
}
