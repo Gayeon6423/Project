{
 "cells": [
  {
   "cell_type": "markdown",
   "id": "306fb3ea",
   "metadata": {},
   "source": [
    "# 목차\n",
    "\n",
    "### 1. Import library\n",
    "\n",
    "### 2. Load Data\n",
    "\n",
    "### 3. Filtering Data\n",
    "- [3.1 Sector Filtering : 2차전지](#3.1-Sector-Filtering-:-2차전지)\n",
    "- [3.2 Sector Filtering : 바이오](#3.2-Sector-Filtering-:-바이오)\n",
    "- [3.3 Sector Filtering : 인터넷](#3.3-Sector-Filtering-:-인터넷)\n",
    "- [3.4 Sector Filtering : 게임](#3.4-Sector-Filtering-:-게임)\n",
    "- [3.5 종목 Filtering : 삼성전자](#-3.5-종목-Filtering-:-삼성전자)"
   ]
  },
  {
   "cell_type": "markdown",
   "id": "10c99b78",
   "metadata": {},
   "source": [
    "## 1. Import library"
   ]
  },
  {
   "cell_type": "code",
   "execution_count": 1,
   "id": "f5041a84",
   "metadata": {},
   "outputs": [],
   "source": [
    "import requests\n",
    "from bs4 import BeautifulSoup\n",
    "from urllib.request import urlopen\n",
    "import pandas as pd\n",
    "from tqdm import tqdm\n",
    "from datetime import datetime\n",
    "from dateutil.relativedelta import relativedelta"
   ]
  },
  {
   "cell_type": "markdown",
   "id": "fd742f4b",
   "metadata": {},
   "source": [
    "## 2. Load Data"
   ]
  },
  {
   "cell_type": "code",
   "execution_count": 2,
   "id": "27f67fbd",
   "metadata": {},
   "outputs": [],
   "source": [
    "# Define the start and end dates\n",
    "start_date = '2021-06'\n",
    "end_date = '2023-07'\n",
    "\n",
    "# Convert start and end dates to datetime objects\n",
    "start = pd.to_datetime(start_date)\n",
    "end = pd.to_datetime(end_date)"
   ]
  },
  {
   "cell_type": "code",
   "execution_count": 5,
   "id": "2a438c1e",
   "metadata": {},
   "outputs": [
    {
     "name": "stdout",
     "output_type": "stream",
     "text": [
      "경제면_금융섹터_기사(202106)\n",
      "경제면_금융섹터_기사(202107)\n",
      "경제면_금융섹터_기사(202108)\n",
      "경제면_금융섹터_기사(202109)\n",
      "경제면_금융섹터_기사(202110)\n",
      "경제면_금융섹터_기사(202111)\n",
      "경제면_금융섹터_기사(202112)\n",
      "경제면_금융섹터_기사(202201)\n",
      "경제면_금융섹터_기사(202202)\n",
      "경제면_금융섹터_기사(202203)\n",
      "경제면_금융섹터_기사(202204)\n",
      "경제면_금융섹터_기사(202205)\n",
      "경제면_금융섹터_기사(202206)\n",
      "경제면_금융섹터_기사(202207)\n",
      "경제면_금융섹터_기사(202208)\n",
      "경제면_금융섹터_기사(202209)\n",
      "경제면_금융섹터_기사(202210)\n",
      "경제면_금융섹터_기사(202211)\n",
      "경제면_금융섹터_기사(202212)\n",
      "경제면_금융섹터_기사(202301)\n",
      "경제면_금융섹터_기사(202302)\n",
      "경제면_금융섹터_기사(202303)\n",
      "경제면_금융섹터_기사(202304)\n",
      "경제면_금융섹터_기사(202305)\n",
      "경제면_금융섹터_기사(202306)\n"
     ]
    }
   ],
   "source": [
    "# Iterate over the date range\n",
    "for date in pd.date_range(start, end, freq='M'):\n",
    "    # Generate the file name for the specific month\n",
    "    file_name = f\"경제면_금융섹터_기사({date.strftime('%Y%m')})\"\n",
    "    print(file_name)"
   ]
  },
  {
   "cell_type": "markdown",
   "id": "11cc0c6d",
   "metadata": {},
   "source": [
    "## 3. Filtering Data"
   ]
  },
  {
   "cell_type": "markdown",
   "id": "5a9d5c91",
   "metadata": {},
   "source": [
    "### 3.1 Sector Filtering : 2차전지"
   ]
  },
  {
   "cell_type": "code",
   "execution_count": null,
   "id": "88acb476",
   "metadata": {},
   "outputs": [],
   "source": [
    "# Iterate over the date range\n",
    "for date in pd.date_range(start, end, freq='M'):\n",
    "    # Generate the file name for the specific month\n",
    "    file_name = f\"./Original news data/경제면_금융섹터_기사({date.strftime('%Y%m')}).csv\"\n",
    "    \n",
    "    # Read the CSV file\n",
    "    news_data = pd.read_csv(file_name, encoding='utf-8-sig')\n",
    "    \n",
    "    # Drop null values\n",
    "    news_data = news_data.dropna()\n",
    "    \n",
    "    # Filtering sector news : 특정 산업명을 포함하는 행 필터링\n",
    "    news_data_2차전지 = news_data[news_data['content'].str.contains('2차전지')]\n",
    "    \n",
    "    # Generate the file name for the specific industry\n",
    "    industry_file_name = f\"./2차전지/news_{date.strftime('%Y%m')}_2차전지.csv\"\n",
    "    \n",
    "    # Save the filtered data to a new CSV file\n",
    "    news_data_2차전지.to_csv(industry_file_name, encoding='utf-8-sig', index=False)\n",
    "    \n",
    "    # Display the first few rows of the filtered data\n",
    "    print(f\"First few rows of {industry_file_name}, \" \"Rows number : \", len(news_data_2차전지) )\n",
    "    print(news_data_2차전지['content'].head())\n",
    "    print()"
   ]
  },
  {
   "cell_type": "markdown",
   "id": "b2aedb5a",
   "metadata": {},
   "source": [
    "### 3.2 Sector Filtering : 바이오"
   ]
  },
  {
   "cell_type": "code",
   "execution_count": null,
   "id": "0f2e5cdc",
   "metadata": {},
   "outputs": [],
   "source": [
    "# Iterate over the date range\n",
    "for date in pd.date_range(start, end, freq='M'):\n",
    "    # Generate the file name for the specific month\n",
    "    file_name = f\"./Original news data/경제면_금융섹터_기사({date.strftime('%Y%m')}).csv\"\n",
    "    \n",
    "    # Read the CSV file\n",
    "    news_data = pd.read_csv(file_name, encoding='utf-8-sig')\n",
    "    \n",
    "    # Drop null values\n",
    "    news_data = news_data.dropna()\n",
    "    \n",
    "    # Filtering sector news\n",
    "    news_data_바이오 = news_data[news_data['content'].str.contains('바이오')]\n",
    "    \n",
    "    # Generate the file name for the specific industry\n",
    "    industry_file_name = f\"./바이오/news_{date.strftime('%Y%m')}_바이오.csv\"\n",
    "    \n",
    "    # Save the filtered data to a new CSV file\n",
    "    news_data_바이오.to_csv(industry_file_name, encoding='utf-8-sig', index=False)\n",
    "    \n",
    "    # Display the first few rows of the filtered data\n",
    "    print(f\"First few rows of {industry_file_name}, \" \"Rows number : \", len(news_data_바이오) )\n",
    "    print(news_data_바이오['content'].head())\n",
    "    print()"
   ]
  },
  {
   "cell_type": "markdown",
   "id": "7a5867a5",
   "metadata": {},
   "source": [
    "### 3.3 Sector Filtering : 인터넷"
   ]
  },
  {
   "cell_type": "code",
   "execution_count": null,
   "id": "dd9112d0",
   "metadata": {},
   "outputs": [],
   "source": [
    "# Iterate over the date range\n",
    "for date in pd.date_range(start, end, freq='M'):\n",
    "    # Generate the file name for the specific month\n",
    "    file_name = f\"./Original news data/경제면_금융섹터_기사({date.strftime('%Y%m')}).csv\"\n",
    "    \n",
    "    # Read the CSV file\n",
    "    news_data = pd.read_csv(file_name, encoding='utf-8-sig')\n",
    "    \n",
    "    # Drop null values\n",
    "    news_data = news_data.dropna()\n",
    "    \n",
    "    # Filtering sector news\n",
    "    news_data_인터넷 = news_data[news_data['content'].str.contains('인터넷')]\n",
    "    \n",
    "    # Generate the file name for the specific industry\n",
    "    industry_file_name = f\"./인터넷/news_{date.strftime('%Y%m')}_인터넷.csv\"\n",
    "    \n",
    "    # Save the filtered data to a new CSV file\n",
    "    news_data_인터넷.to_csv(industry_file_name, encoding='utf-8-sig', index=False)\n",
    "    \n",
    "    # Display the first few rows of the filtered data\n",
    "    print(f\"First few rows of {industry_file_name}, \" \"Rows number : \", len(news_data_인터넷) )\n",
    "    print(news_data_인터넷['content'].head())\n",
    "    print()"
   ]
  },
  {
   "cell_type": "markdown",
   "id": "5e3e1096",
   "metadata": {},
   "source": [
    "### 3.4 Sector Filtering : 게임"
   ]
  },
  {
   "cell_type": "code",
   "execution_count": null,
   "id": "e5d64e1b",
   "metadata": {},
   "outputs": [],
   "source": [
    "# Iterate over the date range\n",
    "for date in pd.date_range(start, end, freq='M'):\n",
    "    # Generate the file name for the specific month\n",
    "    file_name = f\"./Original news data/경제면_금융섹터_기사({date.strftime('%Y%m')}).csv\"\n",
    "    \n",
    "    # Read the CSV file\n",
    "    news_data = pd.read_csv(file_name, encoding='utf-8-sig')\n",
    "    \n",
    "    # Drop null values\n",
    "    news_data = news_data.dropna()\n",
    "    \n",
    "    # Filtering sector news\n",
    "    news_data_게임 = news_data[news_data['content'].str.contains('게임')]\n",
    "    \n",
    "    # Generate the file name for the specific industry\n",
    "    industry_file_name = f\"./게임/news_{date.strftime('%Y%m')}_게임.csv\"\n",
    "    \n",
    "    # Save the filtered data to a new CSV file\n",
    "    news_data_게임.to_csv(industry_file_name, encoding='utf-8-sig', index=False)\n",
    "    \n",
    "    # Display the first few rows of the filtered data\n",
    "    print(f\"First few rows of {industry_file_name}, \" \"Rows number : \", len(news_data_게임) )\n",
    "    print(news_data_게임['content'].head())\n",
    "    print()"
   ]
  },
  {
   "cell_type": "markdown",
   "id": "3740e1f4",
   "metadata": {},
   "source": [
    "### 3.5 종목 Filtering : 삼성전자"
   ]
  },
  {
   "cell_type": "code",
   "execution_count": null,
   "id": "473083f5",
   "metadata": {},
   "outputs": [],
   "source": [
    "# Iterate over the date range\n",
    "for date in pd.date_range(start, end, freq='M'):\n",
    "    # Generate the file name for the specific month\n",
    "    file_name = f\"./Original news data/경제면_금융섹터_기사({date.strftime('%Y%m')}).csv\"\n",
    "    \n",
    "    # Read the CSV file\n",
    "    news_data = pd.read_csv(file_name, encoding='utf-8-sig')\n",
    "    \n",
    "    # Drop null values\n",
    "    news_data = news_data.dropna()\n",
    "    \n",
    "    # Filtering sector news\n",
    "    news_data_삼성전자 = news_data[news_data['content'].str.contains('삼성전자')]\n",
    "    \n",
    "    # Generate the file name for the specific industry\n",
    "    industry_file_name = f\"./삼성전자/news_{date.strftime('%Y%m')}_삼성전자.csv\"\n",
    "    \n",
    "    # Save the filtered data to a new CSV file\n",
    "    news_data_삼성전자.to_csv(industry_file_name, encoding='utf-8-sig', index=False)\n",
    "    \n",
    "    # Display the first few rows of the filtered data\n",
    "    print(f\"First few rows of {industry_file_name}, \" \"Rows number : \", len(news_data_삼성전자) )\n",
    "    print(news_data_삼성전자['content'].head())\n",
    "    print()"
   ]
  }
 ],
 "metadata": {
  "kernelspec": {
   "display_name": "textdata",
   "language": "python",
   "name": "textdata"
  },
  "language_info": {
   "codemirror_mode": {
    "name": "ipython",
    "version": 3
   },
   "file_extension": ".py",
   "mimetype": "text/x-python",
   "name": "python",
   "nbconvert_exporter": "python",
   "pygments_lexer": "ipython3",
   "version": "3.8.16"
  },
  "varInspector": {
   "cols": {
    "lenName": 16,
    "lenType": 16,
    "lenVar": 40
   },
   "kernels_config": {
    "python": {
     "delete_cmd_postfix": "",
     "delete_cmd_prefix": "del ",
     "library": "var_list.py",
     "varRefreshCmd": "print(var_dic_list())"
    },
    "r": {
     "delete_cmd_postfix": ") ",
     "delete_cmd_prefix": "rm(",
     "library": "var_list.r",
     "varRefreshCmd": "cat(var_dic_list()) "
    }
   },
   "types_to_exclude": [
    "module",
    "function",
    "builtin_function_or_method",
    "instance",
    "_Feature"
   ],
   "window_display": false
  }
 },
 "nbformat": 4,
 "nbformat_minor": 5
}
