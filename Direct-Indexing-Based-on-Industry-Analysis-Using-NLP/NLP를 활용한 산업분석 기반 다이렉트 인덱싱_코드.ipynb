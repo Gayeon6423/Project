{
 "cells": [
  {
   "cell_type": "markdown",
   "id": "ae21037e",
   "metadata": {
    "id": "ae21037e"
   },
   "source": [
    "# 목차\n",
    "\n",
    "### 1. 뉴스 데이터 수집\n",
    "- [1-1. 검색어 입력 및 API 불러오기](#1-1.-검색어-입력-및-API-불러오기)\n",
    "- [1-2. 검색 결과에서 실제 뉴스 가져오기](#1-2.-검색-결과에서-실제-뉴스-가져오기)\n",
    "- [1-3 뉴스 본문 가져오기](#1-3-뉴스-본문-가져오기)\n",
    "- [1-4 수집한 데이터 dataframe으로 제작](#1-4-수집한-데이터-dataframe으로-제작)\n",
    "\n",
    "\n",
    "### 2. 데이터 전처리\n",
    "- [2-1. Cleaning](#2-1.-Cleaning)\n",
    "- [2-2. Tokenization & Pos Tagging](#2-2.-Tokenization-&-Pos-Tagging)\n",
    "- [2-3. Normalization](#2-3.-Normalization)\n",
    "- [2-4. Stopword Removal](#2-4.-Stopword-Removal)\n",
    "\n",
    "\n",
    "### 3. 산업 현황 분석 및 산업 감정 지표 도출\n",
    "- [3.1 WordCloud 및 단어빈도 수를 통한 산업 현황 파악](#3.1-WordCloud-및-단어빈도-수를-통한-산업-현황-파악)\n",
    "- [3.2 산업별 월별 감성지수](#3.2-산업별-월별-감성지수)\n",
    "\n",
    "### 4. 블랙리터만 모델을 활용한 다이렉트 인덱싱\n"
   ]
  },
  {
   "cell_type": "markdown",
   "id": "7f587f0a",
   "metadata": {
    "id": "7f587f0a"
   },
   "source": [
    "# 1. 텍스트 데이터 수집"
   ]
  },
  {
   "cell_type": "markdown",
   "id": "7KS7eWYkicLA",
   "metadata": {
    "id": "7KS7eWYkicLA"
   },
   "source": [
    "- 아래링크에서 zip파일 데이터를 다운로드 해주세요."
   ]
  },
  {
   "cell_type": "markdown",
   "id": "7wP0DnC1uYLP",
   "metadata": {
    "id": "7wP0DnC1uYLP"
   },
   "source": [
    "https://drive.google.com/file/d/1qNt3FKXziz3ACQAHBOopFFpOH9hahFco/view?usp=share_link"
   ]
  },
  {
   "cell_type": "code",
   "execution_count": null,
   "id": "777edfe2",
   "metadata": {
    "colab": {
     "base_uri": "https://localhost:8080/",
     "height": 1000
    },
    "executionInfo": {
     "elapsed": 53423,
     "status": "ok",
     "timestamp": 1684044797519,
     "user": {
      "displayName": "박성은",
      "userId": "00460345980072705113"
     },
     "user_tz": -540
    },
    "id": "Xy_YwIJRseOT",
    "outputId": "8766d493-8fe0-4e31-d8bb-152d82bd1694"
   },
   "outputs": [],
   "source": [
    "from google.colab import files\n",
    "files.upload() # data.zip 업로드"
   ]
  },
  {
   "cell_type": "code",
   "execution_count": null,
   "id": "8OhiLGoysjyC",
   "metadata": {
    "colab": {
     "base_uri": "https://localhost:8080/"
    },
    "executionInfo": {
     "elapsed": 33868,
     "status": "ok",
     "timestamp": 1684044838565,
     "user": {
      "displayName": "박성은",
      "userId": "00460345980072705113"
     },
     "user_tz": -540
    },
    "id": "8OhiLGoysjyC",
    "outputId": "f9db1356-7127-4e8d-bc34-1c330e15ff77"
   },
   "outputs": [
    {
     "name": "stdout",
     "output_type": "stream",
     "text": [
      "Archive:  data.zip\n",
      "replace KRX_data.csv? [y]es, [n]o, [A]ll, [N]one, [r]ename: yyyy\n",
      "  inflating: KRX_data.csv            \n",
      "replace sector.csv? [y]es, [n]o, [A]ll, [N]one, [r]ename: y\n",
      "  inflating: sector.csv              \n",
      "replace stopwords.txt? [y]es, [n]o, [A]ll, [N]one, [r]ename: y\n",
      "  inflating: stopwords.txt           \n",
      "철강.csv:  mismatching \"local\" filename (ь▓аъ░Х.csv),\n",
      "         continuing with \"central\" filename version\n",
      "replace 철강.csv? [y]es, [n]o, [A]ll, [N]one, [r]ename: y\n",
      "  inflating: 철강.csv              \n",
      "철강산업_preprocess_전체.csv:  mismatching \"local\" filename (ь▓аъ░ХьВ░ьЧЕ_preprocess_ьаДь▓┤.csv),\n",
      "         continuing with \"central\" filename version\n",
      "replace 철강산업_preprocess_전체.csv? [y]es, [n]o, [A]ll, [N]one, [r]ename: y\n",
      "  inflating: 철강산업_preprocess_전체.csv  \n"
     ]
    }
   ],
   "source": [
    "! unzip data.zip"
   ]
  },
  {
   "cell_type": "code",
   "execution_count": null,
   "id": "df7dd403",
   "metadata": {
    "id": "df7dd403"
   },
   "outputs": [],
   "source": [
    "import os\n",
    "import sys\n",
    "import time\n",
    "import urllib.request\n",
    "import datetime\n",
    "import time\n",
    "import json\n",
    "from bs4 import BeautifulSoup\n",
    "import pandas as pd\n",
    "import math\n",
    "import requests\n",
    "import re\n",
    "from tqdm import tqdm"
   ]
  },
  {
   "cell_type": "markdown",
   "id": "7f9de497",
   "metadata": {
    "id": "7f9de497"
   },
   "source": [
    "- FnGuide 산업 sector list"
   ]
  },
  {
   "cell_type": "code",
   "execution_count": null,
   "id": "h619HMqHkMaT",
   "metadata": {
    "colab": {
     "base_uri": "https://localhost:8080/",
     "height": 241
    },
    "executionInfo": {
     "elapsed": 454,
     "status": "ok",
     "timestamp": 1684044846736,
     "user": {
      "displayName": "박성은",
      "userId": "00460345980072705113"
     },
     "user_tz": -540
    },
    "id": "h619HMqHkMaT",
    "outputId": "7eaf63c6-c157-47a6-c548-1606fd6e9d85"
   },
   "outputs": [
    {
     "data": {
      "text/html": [
       "\n",
       "  <div id=\"df-8d92c95d-2e98-456e-bd30-a86a443abe6e\">\n",
       "    <div class=\"colab-df-container\">\n",
       "      <div>\n",
       "<style scoped>\n",
       "    .dataframe tbody tr th:only-of-type {\n",
       "        vertical-align: middle;\n",
       "    }\n",
       "\n",
       "    .dataframe tbody tr th {\n",
       "        vertical-align: top;\n",
       "    }\n",
       "\n",
       "    .dataframe thead th {\n",
       "        text-align: right;\n",
       "    }\n",
       "</style>\n",
       "<table border=\"1\" class=\"dataframe\">\n",
       "  <thead>\n",
       "    <tr style=\"text-align: right;\">\n",
       "      <th></th>\n",
       "      <th>삼성전자</th>\n",
       "      <th>LG에너지솔루션</th>\n",
       "      <th>SK하이닉스</th>\n",
       "      <th>삼성바이오로직스</th>\n",
       "      <th>LG화학</th>\n",
       "      <th>삼성SDI</th>\n",
       "      <th>현대차</th>\n",
       "      <th>기아</th>\n",
       "      <th>NAVER</th>\n",
       "      <th>POSCO홀딩스</th>\n",
       "      <th>...</th>\n",
       "      <th>제이준코스메틱</th>\n",
       "      <th>카프로</th>\n",
       "      <th>금호전기</th>\n",
       "      <th>이스타코</th>\n",
       "      <th>체시스</th>\n",
       "      <th>한솔PNS</th>\n",
       "      <th>하이트론</th>\n",
       "      <th>코아스</th>\n",
       "      <th>비케이탑스</th>\n",
       "      <th>일정실업</th>\n",
       "    </tr>\n",
       "  </thead>\n",
       "  <tbody>\n",
       "    <tr>\n",
       "      <th>0</th>\n",
       "      <td>코스피 전기,전자</td>\n",
       "      <td>코스피 전기,전자</td>\n",
       "      <td>코스피 전기,전자</td>\n",
       "      <td>코스피 의약품</td>\n",
       "      <td>코스피 화학</td>\n",
       "      <td>코스피 전기,전자</td>\n",
       "      <td>코스피 운수장비</td>\n",
       "      <td>코스피 운수장비</td>\n",
       "      <td>코스피 서비스업</td>\n",
       "      <td>코스피 철강및금속</td>\n",
       "      <td>...</td>\n",
       "      <td>코스피 화학</td>\n",
       "      <td>코스피 화학</td>\n",
       "      <td>코스피 전기,전자</td>\n",
       "      <td>코스피 서비스업</td>\n",
       "      <td>코스피 운수장비</td>\n",
       "      <td>코스피 유통업</td>\n",
       "      <td>코스피 전기,전자</td>\n",
       "      <td>코스피 제조업</td>\n",
       "      <td>코스피 서비스업</td>\n",
       "      <td>코스피 섬유,의복</td>\n",
       "    </tr>\n",
       "  </tbody>\n",
       "</table>\n",
       "<p>1 rows × 801 columns</p>\n",
       "</div>\n",
       "      <button class=\"colab-df-convert\" onclick=\"convertToInteractive('df-8d92c95d-2e98-456e-bd30-a86a443abe6e')\"\n",
       "              title=\"Convert this dataframe to an interactive table.\"\n",
       "              style=\"display:none;\">\n",
       "        \n",
       "  <svg xmlns=\"http://www.w3.org/2000/svg\" height=\"24px\"viewBox=\"0 0 24 24\"\n",
       "       width=\"24px\">\n",
       "    <path d=\"M0 0h24v24H0V0z\" fill=\"none\"/>\n",
       "    <path d=\"M18.56 5.44l.94 2.06.94-2.06 2.06-.94-2.06-.94-.94-2.06-.94 2.06-2.06.94zm-11 1L8.5 8.5l.94-2.06 2.06-.94-2.06-.94L8.5 2.5l-.94 2.06-2.06.94zm10 10l.94 2.06.94-2.06 2.06-.94-2.06-.94-.94-2.06-.94 2.06-2.06.94z\"/><path d=\"M17.41 7.96l-1.37-1.37c-.4-.4-.92-.59-1.43-.59-.52 0-1.04.2-1.43.59L10.3 9.45l-7.72 7.72c-.78.78-.78 2.05 0 2.83L4 21.41c.39.39.9.59 1.41.59.51 0 1.02-.2 1.41-.59l7.78-7.78 2.81-2.81c.8-.78.8-2.07 0-2.86zM5.41 20L4 18.59l7.72-7.72 1.47 1.35L5.41 20z\"/>\n",
       "  </svg>\n",
       "      </button>\n",
       "      \n",
       "  <style>\n",
       "    .colab-df-container {\n",
       "      display:flex;\n",
       "      flex-wrap:wrap;\n",
       "      gap: 12px;\n",
       "    }\n",
       "\n",
       "    .colab-df-convert {\n",
       "      background-color: #E8F0FE;\n",
       "      border: none;\n",
       "      border-radius: 50%;\n",
       "      cursor: pointer;\n",
       "      display: none;\n",
       "      fill: #1967D2;\n",
       "      height: 32px;\n",
       "      padding: 0 0 0 0;\n",
       "      width: 32px;\n",
       "    }\n",
       "\n",
       "    .colab-df-convert:hover {\n",
       "      background-color: #E2EBFA;\n",
       "      box-shadow: 0px 1px 2px rgba(60, 64, 67, 0.3), 0px 1px 3px 1px rgba(60, 64, 67, 0.15);\n",
       "      fill: #174EA6;\n",
       "    }\n",
       "\n",
       "    [theme=dark] .colab-df-convert {\n",
       "      background-color: #3B4455;\n",
       "      fill: #D2E3FC;\n",
       "    }\n",
       "\n",
       "    [theme=dark] .colab-df-convert:hover {\n",
       "      background-color: #434B5C;\n",
       "      box-shadow: 0px 1px 3px 1px rgba(0, 0, 0, 0.15);\n",
       "      filter: drop-shadow(0px 1px 2px rgba(0, 0, 0, 0.3));\n",
       "      fill: #FFFFFF;\n",
       "    }\n",
       "  </style>\n",
       "\n",
       "      <script>\n",
       "        const buttonEl =\n",
       "          document.querySelector('#df-8d92c95d-2e98-456e-bd30-a86a443abe6e button.colab-df-convert');\n",
       "        buttonEl.style.display =\n",
       "          google.colab.kernel.accessAllowed ? 'block' : 'none';\n",
       "\n",
       "        async function convertToInteractive(key) {\n",
       "          const element = document.querySelector('#df-8d92c95d-2e98-456e-bd30-a86a443abe6e');\n",
       "          const dataTable =\n",
       "            await google.colab.kernel.invokeFunction('convertToInteractive',\n",
       "                                                     [key], {});\n",
       "          if (!dataTable) return;\n",
       "\n",
       "          const docLinkHtml = 'Like what you see? Visit the ' +\n",
       "            '<a target=\"_blank\" href=https://colab.research.google.com/notebooks/data_table.ipynb>data table notebook</a>'\n",
       "            + ' to learn more about interactive tables.';\n",
       "          element.innerHTML = '';\n",
       "          dataTable['output_type'] = 'display_data';\n",
       "          await google.colab.output.renderOutput(dataTable, element);\n",
       "          const docLink = document.createElement('div');\n",
       "          docLink.innerHTML = docLinkHtml;\n",
       "          element.appendChild(docLink);\n",
       "        }\n",
       "      </script>\n",
       "    </div>\n",
       "  </div>\n",
       "  "
      ],
      "text/plain": [
       "        삼성전자   LG에너지솔루션     SK하이닉스 삼성바이오로직스    LG화학      삼성SDI       현대차  \\\n",
       "0  코스피 전기,전자  코스피 전기,전자  코스피 전기,전자  코스피 의약품  코스피 화학  코스피 전기,전자  코스피 운수장비   \n",
       "\n",
       "         기아     NAVER   POSCO홀딩스  ... 제이준코스메틱     카프로       금호전기      이스타코  \\\n",
       "0  코스피 운수장비  코스피 서비스업  코스피 철강및금속  ...  코스피 화학  코스피 화학  코스피 전기,전자  코스피 서비스업   \n",
       "\n",
       "        체시스    한솔PNS       하이트론      코아스     비케이탑스       일정실업  \n",
       "0  코스피 운수장비  코스피 유통업  코스피 전기,전자  코스피 제조업  코스피 서비스업  코스피 섬유,의복  \n",
       "\n",
       "[1 rows x 801 columns]"
      ]
     },
     "execution_count": 43,
     "metadata": {},
     "output_type": "execute_result"
    }
   ],
   "source": [
    "sector_list = pd.read_csv('sector.csv',index_col=0)\n",
    "sector_list"
   ]
  },
  {
   "cell_type": "markdown",
   "id": "OMJqWcaSiNFS",
   "metadata": {
    "id": "OMJqWcaSiNFS"
   },
   "source": [
    "- KRW data"
   ]
  },
  {
   "cell_type": "code",
   "execution_count": null,
   "id": "jK_NEbXZiP4x",
   "metadata": {
    "colab": {
     "base_uri": "https://localhost:8080/",
     "height": 904
    },
    "executionInfo": {
     "elapsed": 15,
     "status": "ok",
     "timestamp": 1684044849951,
     "user": {
      "displayName": "박성은",
      "userId": "00460345980072705113"
     },
     "user_tz": -540
    },
    "id": "jK_NEbXZiP4x",
    "outputId": "09cf303a-2da8-421d-ad8f-2d60684eb8ef"
   },
   "outputs": [
    {
     "data": {
      "text/html": [
       "\n",
       "  <div id=\"df-8fdae55f-b869-47ad-a644-fc7cd761f5f7\">\n",
       "    <div class=\"colab-df-container\">\n",
       "      <div>\n",
       "<style scoped>\n",
       "    .dataframe tbody tr th:only-of-type {\n",
       "        vertical-align: middle;\n",
       "    }\n",
       "\n",
       "    .dataframe tbody tr th {\n",
       "        vertical-align: top;\n",
       "    }\n",
       "\n",
       "    .dataframe thead th {\n",
       "        text-align: right;\n",
       "    }\n",
       "</style>\n",
       "<table border=\"1\" class=\"dataframe\">\n",
       "  <thead>\n",
       "    <tr style=\"text-align: right;\">\n",
       "      <th></th>\n",
       "      <th>Code</th>\n",
       "      <th>ISU_CD</th>\n",
       "      <th>Name</th>\n",
       "      <th>Market</th>\n",
       "      <th>Dept</th>\n",
       "      <th>Close</th>\n",
       "      <th>ChangeCode</th>\n",
       "      <th>Changes</th>\n",
       "      <th>ChagesRatio</th>\n",
       "      <th>Open</th>\n",
       "      <th>High</th>\n",
       "      <th>Low</th>\n",
       "      <th>Volume</th>\n",
       "      <th>Amount</th>\n",
       "      <th>Marcap</th>\n",
       "      <th>Stocks</th>\n",
       "      <th>MarketId</th>\n",
       "    </tr>\n",
       "  </thead>\n",
       "  <tbody>\n",
       "    <tr>\n",
       "      <th>0</th>\n",
       "      <td>005930</td>\n",
       "      <td>KR7005930003</td>\n",
       "      <td>삼성전자</td>\n",
       "      <td>KOSPI</td>\n",
       "      <td>NaN</td>\n",
       "      <td>62700</td>\n",
       "      <td>2</td>\n",
       "      <td>-200</td>\n",
       "      <td>-32.00%</td>\n",
       "      <td>62500</td>\n",
       "      <td>62700</td>\n",
       "      <td>62200</td>\n",
       "      <td>11016987</td>\n",
       "      <td>687935486500</td>\n",
       "      <td>373708387630000</td>\n",
       "      <td>5969782550</td>\n",
       "      <td>STK</td>\n",
       "    </tr>\n",
       "    <tr>\n",
       "      <th>1</th>\n",
       "      <td>373220</td>\n",
       "      <td>KR7373220003</td>\n",
       "      <td>LG에너지솔루션</td>\n",
       "      <td>KOSPI</td>\n",
       "      <td>NaN</td>\n",
       "      <td>583000</td>\n",
       "      <td>1</td>\n",
       "      <td>6000</td>\n",
       "      <td>104.00%</td>\n",
       "      <td>578000</td>\n",
       "      <td>585000</td>\n",
       "      <td>577000</td>\n",
       "      <td>363161</td>\n",
       "      <td>210643395000</td>\n",
       "      <td>136188000000000</td>\n",
       "      <td>234000000</td>\n",
       "      <td>STK</td>\n",
       "    </tr>\n",
       "    <tr>\n",
       "      <th>2</th>\n",
       "      <td>000660</td>\n",
       "      <td>KR7000660001</td>\n",
       "      <td>SK하이닉스</td>\n",
       "      <td>KOSPI</td>\n",
       "      <td>NaN</td>\n",
       "      <td>86900</td>\n",
       "      <td>2</td>\n",
       "      <td>-1500</td>\n",
       "      <td>-170.00%</td>\n",
       "      <td>87400</td>\n",
       "      <td>88700</td>\n",
       "      <td>86500</td>\n",
       "      <td>2992868</td>\n",
       "      <td>260802649300</td>\n",
       "      <td>63263405518500</td>\n",
       "      <td>728002365</td>\n",
       "      <td>STK</td>\n",
       "    </tr>\n",
       "    <tr>\n",
       "      <th>3</th>\n",
       "      <td>207940</td>\n",
       "      <td>KR7207940008</td>\n",
       "      <td>삼성바이오로직스</td>\n",
       "      <td>KOSPI</td>\n",
       "      <td>NaN</td>\n",
       "      <td>791000</td>\n",
       "      <td>2</td>\n",
       "      <td>-6000</td>\n",
       "      <td>-75.00%</td>\n",
       "      <td>797000</td>\n",
       "      <td>801000</td>\n",
       "      <td>790000</td>\n",
       "      <td>60575</td>\n",
       "      <td>48194855000</td>\n",
       "      <td>56298634000000</td>\n",
       "      <td>71174000</td>\n",
       "      <td>STK</td>\n",
       "    </tr>\n",
       "    <tr>\n",
       "      <th>4</th>\n",
       "      <td>006400</td>\n",
       "      <td>KR7006400006</td>\n",
       "      <td>삼성SDI</td>\n",
       "      <td>KOSPI</td>\n",
       "      <td>NaN</td>\n",
       "      <td>735000</td>\n",
       "      <td>1</td>\n",
       "      <td>13000</td>\n",
       "      <td>180.00%</td>\n",
       "      <td>716000</td>\n",
       "      <td>735000</td>\n",
       "      <td>716000</td>\n",
       "      <td>265013</td>\n",
       "      <td>192500625000</td>\n",
       "      <td>50198106900000</td>\n",
       "      <td>68764530</td>\n",
       "      <td>STK</td>\n",
       "    </tr>\n",
       "    <tr>\n",
       "      <th>...</th>\n",
       "      <td>...</td>\n",
       "      <td>...</td>\n",
       "      <td>...</td>\n",
       "      <td>...</td>\n",
       "      <td>...</td>\n",
       "      <td>...</td>\n",
       "      <td>...</td>\n",
       "      <td>...</td>\n",
       "      <td>...</td>\n",
       "      <td>...</td>\n",
       "      <td>...</td>\n",
       "      <td>...</td>\n",
       "      <td>...</td>\n",
       "      <td>...</td>\n",
       "      <td>...</td>\n",
       "      <td>...</td>\n",
       "      <td>...</td>\n",
       "    </tr>\n",
       "    <tr>\n",
       "      <th>2705</th>\n",
       "      <td>267060</td>\n",
       "      <td>KR7267060002</td>\n",
       "      <td>명진홀딩스</td>\n",
       "      <td>KONEX</td>\n",
       "      <td>일반기업부</td>\n",
       "      <td>181</td>\n",
       "      <td>0</td>\n",
       "      <td>0</td>\n",
       "      <td>0.00%</td>\n",
       "      <td>0</td>\n",
       "      <td>0</td>\n",
       "      <td>0</td>\n",
       "      <td>0</td>\n",
       "      <td>0</td>\n",
       "      <td>1654666524</td>\n",
       "      <td>9141804</td>\n",
       "      <td>KNX</td>\n",
       "    </tr>\n",
       "    <tr>\n",
       "      <th>2706</th>\n",
       "      <td>308700</td>\n",
       "      <td>KR7308700004</td>\n",
       "      <td>테크엔</td>\n",
       "      <td>KONEX</td>\n",
       "      <td>일반기업부</td>\n",
       "      <td>341</td>\n",
       "      <td>2</td>\n",
       "      <td>-5</td>\n",
       "      <td>-145.00%</td>\n",
       "      <td>342</td>\n",
       "      <td>342</td>\n",
       "      <td>341</td>\n",
       "      <td>6</td>\n",
       "      <td>2047</td>\n",
       "      <td>1364000000</td>\n",
       "      <td>4000000</td>\n",
       "      <td>KNX</td>\n",
       "    </tr>\n",
       "    <tr>\n",
       "      <th>2707</th>\n",
       "      <td>322190</td>\n",
       "      <td>KR7322190000</td>\n",
       "      <td>베른</td>\n",
       "      <td>KONEX</td>\n",
       "      <td>일반기업부</td>\n",
       "      <td>137</td>\n",
       "      <td>1</td>\n",
       "      <td>17</td>\n",
       "      <td>1417.00%</td>\n",
       "      <td>137</td>\n",
       "      <td>137</td>\n",
       "      <td>125</td>\n",
       "      <td>10569</td>\n",
       "      <td>1443770</td>\n",
       "      <td>1222751989</td>\n",
       "      <td>8925197</td>\n",
       "      <td>KNX</td>\n",
       "    </tr>\n",
       "    <tr>\n",
       "      <th>2708</th>\n",
       "      <td>267810</td>\n",
       "      <td>KR7267810000</td>\n",
       "      <td>앙츠</td>\n",
       "      <td>KONEX</td>\n",
       "      <td>일반기업부</td>\n",
       "      <td>627</td>\n",
       "      <td>1</td>\n",
       "      <td>177</td>\n",
       "      <td>3933.00%</td>\n",
       "      <td>548</td>\n",
       "      <td>969</td>\n",
       "      <td>548</td>\n",
       "      <td>9838</td>\n",
       "      <td>7324921</td>\n",
       "      <td>1161550000</td>\n",
       "      <td>1787000</td>\n",
       "      <td>KNX</td>\n",
       "    </tr>\n",
       "    <tr>\n",
       "      <th>2709</th>\n",
       "      <td>056000</td>\n",
       "      <td>KR7056000003</td>\n",
       "      <td>코원플레이</td>\n",
       "      <td>KOSDAQ</td>\n",
       "      <td>투자주의환기종목(소속부없음)</td>\n",
       "      <td>25</td>\n",
       "      <td>2</td>\n",
       "      <td>-27</td>\n",
       "      <td>-5192.00%</td>\n",
       "      <td>38</td>\n",
       "      <td>39</td>\n",
       "      <td>25</td>\n",
       "      <td>12228185</td>\n",
       "      <td>391615758</td>\n",
       "      <td>512725850</td>\n",
       "      <td>19720225</td>\n",
       "      <td>KSQ</td>\n",
       "    </tr>\n",
       "  </tbody>\n",
       "</table>\n",
       "<p>2710 rows × 17 columns</p>\n",
       "</div>\n",
       "      <button class=\"colab-df-convert\" onclick=\"convertToInteractive('df-8fdae55f-b869-47ad-a644-fc7cd761f5f7')\"\n",
       "              title=\"Convert this dataframe to an interactive table.\"\n",
       "              style=\"display:none;\">\n",
       "        \n",
       "  <svg xmlns=\"http://www.w3.org/2000/svg\" height=\"24px\"viewBox=\"0 0 24 24\"\n",
       "       width=\"24px\">\n",
       "    <path d=\"M0 0h24v24H0V0z\" fill=\"none\"/>\n",
       "    <path d=\"M18.56 5.44l.94 2.06.94-2.06 2.06-.94-2.06-.94-.94-2.06-.94 2.06-2.06.94zm-11 1L8.5 8.5l.94-2.06 2.06-.94-2.06-.94L8.5 2.5l-.94 2.06-2.06.94zm10 10l.94 2.06.94-2.06 2.06-.94-2.06-.94-.94-2.06-.94 2.06-2.06.94z\"/><path d=\"M17.41 7.96l-1.37-1.37c-.4-.4-.92-.59-1.43-.59-.52 0-1.04.2-1.43.59L10.3 9.45l-7.72 7.72c-.78.78-.78 2.05 0 2.83L4 21.41c.39.39.9.59 1.41.59.51 0 1.02-.2 1.41-.59l7.78-7.78 2.81-2.81c.8-.78.8-2.07 0-2.86zM5.41 20L4 18.59l7.72-7.72 1.47 1.35L5.41 20z\"/>\n",
       "  </svg>\n",
       "      </button>\n",
       "      \n",
       "  <style>\n",
       "    .colab-df-container {\n",
       "      display:flex;\n",
       "      flex-wrap:wrap;\n",
       "      gap: 12px;\n",
       "    }\n",
       "\n",
       "    .colab-df-convert {\n",
       "      background-color: #E8F0FE;\n",
       "      border: none;\n",
       "      border-radius: 50%;\n",
       "      cursor: pointer;\n",
       "      display: none;\n",
       "      fill: #1967D2;\n",
       "      height: 32px;\n",
       "      padding: 0 0 0 0;\n",
       "      width: 32px;\n",
       "    }\n",
       "\n",
       "    .colab-df-convert:hover {\n",
       "      background-color: #E2EBFA;\n",
       "      box-shadow: 0px 1px 2px rgba(60, 64, 67, 0.3), 0px 1px 3px 1px rgba(60, 64, 67, 0.15);\n",
       "      fill: #174EA6;\n",
       "    }\n",
       "\n",
       "    [theme=dark] .colab-df-convert {\n",
       "      background-color: #3B4455;\n",
       "      fill: #D2E3FC;\n",
       "    }\n",
       "\n",
       "    [theme=dark] .colab-df-convert:hover {\n",
       "      background-color: #434B5C;\n",
       "      box-shadow: 0px 1px 3px 1px rgba(0, 0, 0, 0.15);\n",
       "      filter: drop-shadow(0px 1px 2px rgba(0, 0, 0, 0.3));\n",
       "      fill: #FFFFFF;\n",
       "    }\n",
       "  </style>\n",
       "\n",
       "      <script>\n",
       "        const buttonEl =\n",
       "          document.querySelector('#df-8fdae55f-b869-47ad-a644-fc7cd761f5f7 button.colab-df-convert');\n",
       "        buttonEl.style.display =\n",
       "          google.colab.kernel.accessAllowed ? 'block' : 'none';\n",
       "\n",
       "        async function convertToInteractive(key) {\n",
       "          const element = document.querySelector('#df-8fdae55f-b869-47ad-a644-fc7cd761f5f7');\n",
       "          const dataTable =\n",
       "            await google.colab.kernel.invokeFunction('convertToInteractive',\n",
       "                                                     [key], {});\n",
       "          if (!dataTable) return;\n",
       "\n",
       "          const docLinkHtml = 'Like what you see? Visit the ' +\n",
       "            '<a target=\"_blank\" href=https://colab.research.google.com/notebooks/data_table.ipynb>data table notebook</a>'\n",
       "            + ' to learn more about interactive tables.';\n",
       "          element.innerHTML = '';\n",
       "          dataTable['output_type'] = 'display_data';\n",
       "          await google.colab.output.renderOutput(dataTable, element);\n",
       "          const docLink = document.createElement('div');\n",
       "          docLink.innerHTML = docLinkHtml;\n",
       "          element.appendChild(docLink);\n",
       "        }\n",
       "      </script>\n",
       "    </div>\n",
       "  </div>\n",
       "  "
      ],
      "text/plain": [
       "        Code        ISU_CD      Name  Market             Dept   Close  \\\n",
       "0     005930  KR7005930003      삼성전자   KOSPI              NaN   62700   \n",
       "1     373220  KR7373220003  LG에너지솔루션   KOSPI              NaN  583000   \n",
       "2     000660  KR7000660001    SK하이닉스   KOSPI              NaN   86900   \n",
       "3     207940  KR7207940008  삼성바이오로직스   KOSPI              NaN  791000   \n",
       "4     006400  KR7006400006     삼성SDI   KOSPI              NaN  735000   \n",
       "...      ...           ...       ...     ...              ...     ...   \n",
       "2705  267060  KR7267060002     명진홀딩스   KONEX            일반기업부     181   \n",
       "2706  308700  KR7308700004       테크엔   KONEX            일반기업부     341   \n",
       "2707  322190  KR7322190000        베른   KONEX            일반기업부     137   \n",
       "2708  267810  KR7267810000        앙츠   KONEX            일반기업부     627   \n",
       "2709  056000  KR7056000003     코원플레이  KOSDAQ  투자주의환기종목(소속부없음)      25   \n",
       "\n",
       "      ChangeCode  Changes  ChagesRatio    Open    High     Low    Volume  \\\n",
       "0              2     -200      -32.00%   62500   62700   62200  11016987   \n",
       "1              1     6000      104.00%  578000  585000  577000    363161   \n",
       "2              2    -1500     -170.00%   87400   88700   86500   2992868   \n",
       "3              2    -6000      -75.00%  797000  801000  790000     60575   \n",
       "4              1    13000      180.00%  716000  735000  716000    265013   \n",
       "...          ...      ...          ...     ...     ...     ...       ...   \n",
       "2705           0        0        0.00%       0       0       0         0   \n",
       "2706           2       -5     -145.00%     342     342     341         6   \n",
       "2707           1       17     1417.00%     137     137     125     10569   \n",
       "2708           1      177     3933.00%     548     969     548      9838   \n",
       "2709           2      -27    -5192.00%      38      39      25  12228185   \n",
       "\n",
       "            Amount           Marcap      Stocks MarketId  \n",
       "0     687935486500  373708387630000  5969782550      STK  \n",
       "1     210643395000  136188000000000   234000000      STK  \n",
       "2     260802649300   63263405518500   728002365      STK  \n",
       "3      48194855000   56298634000000    71174000      STK  \n",
       "4     192500625000   50198106900000    68764530      STK  \n",
       "...            ...              ...         ...      ...  \n",
       "2705             0       1654666524     9141804      KNX  \n",
       "2706          2047       1364000000     4000000      KNX  \n",
       "2707       1443770       1222751989     8925197      KNX  \n",
       "2708       7324921       1161550000     1787000      KNX  \n",
       "2709     391615758        512725850    19720225      KSQ  \n",
       "\n",
       "[2710 rows x 17 columns]"
      ]
     },
     "execution_count": 44,
     "metadata": {},
     "output_type": "execute_result"
    }
   ],
   "source": [
    "KRX_data = pd.read_csv('KRX_data.csv')\n",
    "KRX_data"
   ]
  },
  {
   "cell_type": "markdown",
   "id": "280a0a1c",
   "metadata": {
    "id": "280a0a1c"
   },
   "source": [
    "### 1-1. 검색어 입력 및 API 불러오기"
   ]
  },
  {
   "cell_type": "code",
   "execution_count": null,
   "id": "319e8414",
   "metadata": {
    "id": "319e8414"
   },
   "outputs": [],
   "source": [
    "#naver deplobers id\n",
    "client_id = ######\n",
    "client_secret = ######\n",
    "\n",
    "base_url = 'https://openapi.naver.com/v1/search/news.json' #네이버 개발자 사이트 접속\n",
    "## 검색어 입력\n",
    "query = input('검색할 키워드를 입력해주세요 : ')\n",
    "encQuery = urllib.parse.quote(query.encode('utf-8')) \n",
    "n_display = 10 #10개의 기사 확인\n",
    "sort = 'sim' #관련도순으로 내림차순 정렬\n",
    "search_result_li = []\n",
    "\n",
    "##start부분 for문으로 돌려서 페이지 돌리기\n",
    "for start in range(1,992,10): #1~100페이지\n",
    "    url = f'{base_url}?query={encQuery}&display={n_display}&start={start}&sort={sort}'\n",
    "    my_request = urllib.request.Request(url)\n",
    "    my_request.add_header(\"X-Naver-Client-Id\",client_id)\n",
    "    my_request.add_header(\"X-Naver-Client-Secret\",client_secret)\n",
    "    response = urllib.request.urlopen(my_request)\n",
    "    rescode = response.getcode()\n",
    "    \n",
    "    if(rescode==200):\n",
    "        response_body = response.read()\n",
    "    else:\n",
    "        print(\"Error Code:\" + rescode)\n",
    "    search_result_str = response_body.decode('utf-8')\n",
    "    search_results = json.loads(search_result_str)\n",
    "    search_result_li.append(search_results)"
   ]
  },
  {
   "cell_type": "code",
   "execution_count": null,
   "id": "bebfa762",
   "metadata": {
    "id": "bebfa762"
   },
   "outputs": [],
   "source": [
    "import re\n",
    "def remove_tag(my_str):\n",
    "    ## 태그를 지우는 함수\n",
    "    p = re.compile('(<([^>]+)>)')\n",
    "    return p.sub('', my_str)\n",
    "\n",
    "def sub_html_special_char(my_str):\n",
    "    ## 특수문자를 나타내는 &apos;, &quot를 실제 특수문자로 변환\n",
    "    p1 = re.compile('&lt;')\n",
    "    p2 = re.compile('&gt;')\n",
    "    p3 = re.compile('&amp;')\n",
    "    p4 = re.compile('&apos;')\n",
    "    p5 = re.compile('&quot;')\n",
    "\n",
    "    result = p1.sub('\\<', my_str)\n",
    "    result = p2.sub('\\>', result)\n",
    "    result = p3.sub('\\&', result)\n",
    "    result = p4.sub('\\'', result)\n",
    "    result = p5.sub('\\\"', result)\n",
    "    return result"
   ]
  },
  {
   "cell_type": "markdown",
   "id": "b8a227ea",
   "metadata": {
    "id": "b8a227ea"
   },
   "source": [
    "### 1-2. 검색 결과에서 실제 뉴스 가져오기"
   ]
  },
  {
   "cell_type": "code",
   "execution_count": null,
   "id": "13cd7fdd",
   "metadata": {
    "id": "13cd7fdd",
    "outputId": "c310bfc2-63aa-4cf8-f8a6-68fac3d9d341"
   },
   "outputs": [
    {
     "name": "stdout",
     "output_type": "stream",
     "text": [
      "뉴스 개수 : 295\n"
     ]
    }
   ],
   "source": [
    "titles_li = []\n",
    "links_li = []\n",
    "pubdates_li = []\n",
    "\n",
    "for result in search_result_li:\n",
    "    titles = []\n",
    "    links = []\n",
    "    pubdates = []\n",
    "    p = re.compile('https://n.news.naver.com/.+')\n",
    "    for item in result['items']:\n",
    "        if p.match(item['link']):\n",
    "            title = sub_html_special_char(remove_tag(item['title']))\n",
    "            link = item['link']\n",
    "            pubdate = item['pubDate']\n",
    "            titles.append(title)\n",
    "            links.append(link)\n",
    "            pubdates.append(pubdate)\n",
    "    titles_li += titles\n",
    "    links_li += links\n",
    "    pubdates_li += pubdates\n",
    "print('뉴스 개수 :' ,len(links_li))"
   ]
  },
  {
   "cell_type": "markdown",
   "id": "a9c24535",
   "metadata": {
    "id": "a9c24535"
   },
   "source": [
    "### 1-3. 뉴스 본문 가져오기"
   ]
  },
  {
   "cell_type": "code",
   "execution_count": null,
   "id": "ae401f3b",
   "metadata": {
    "id": "ae401f3b",
    "outputId": "6959dfa6-705c-41f5-81d2-707fc819aab1",
    "scrolled": true
   },
   "outputs": [
    {
     "name": "stderr",
     "output_type": "stream",
     "text": [
      "100%|████████████████████████████████████████████████████████████████████████████████| 295/295 [16:18<00:00,  3.32s/it]\n"
     ]
    }
   ],
   "source": [
    "article_ids = ['newsct_article', 'articeBody']\n",
    "contents = []\n",
    "from tqdm import tqdm\n",
    "for link in tqdm(links_li):\n",
    "    html = urllib.request.urlopen(link)\n",
    "    bs_obj = BeautifulSoup(html, 'html.parser')\n",
    "    for article_id in article_ids:\n",
    "        content = bs_obj.find_all('div', {'id':article_id})\n",
    "        if len(content) > 0:\n",
    "            contents.append(content[0].text)\n",
    "            break\n",
    "        else:\n",
    "            continue\n",
    "    time.sleep(5)    "
   ]
  },
  {
   "cell_type": "markdown",
   "id": "71844346",
   "metadata": {
    "id": "71844346"
   },
   "source": [
    "### 1-4. 수집한 데이터 dataframe으로 제작"
   ]
  },
  {
   "cell_type": "code",
   "execution_count": null,
   "id": "faef682b",
   "metadata": {
    "id": "faef682b",
    "outputId": "93be1bd0-7a22-49c5-ab15-98023100e702",
    "scrolled": true
   },
   "outputs": [
    {
     "data": {
      "text/html": [
       "<div>\n",
       "<style scoped>\n",
       "    .dataframe tbody tr th:only-of-type {\n",
       "        vertical-align: middle;\n",
       "    }\n",
       "\n",
       "    .dataframe tbody tr th {\n",
       "        vertical-align: top;\n",
       "    }\n",
       "\n",
       "    .dataframe thead th {\n",
       "        text-align: right;\n",
       "    }\n",
       "</style>\n",
       "<table border=\"1\" class=\"dataframe\">\n",
       "  <thead>\n",
       "    <tr style=\"text-align: right;\">\n",
       "      <th></th>\n",
       "      <th>pub_date</th>\n",
       "      <th>title</th>\n",
       "      <th>link</th>\n",
       "      <th>content</th>\n",
       "      <th>search_word</th>\n",
       "    </tr>\n",
       "  </thead>\n",
       "  <tbody>\n",
       "    <tr>\n",
       "      <th>0</th>\n",
       "      <td>Wed, 10 May 2023 05:55:00 +0900</td>\n",
       "      <td>포스코·동국제강 이어 현대제철도 뛰어들다…철강도 온라인판매 시대</td>\n",
       "      <td>https://n.news.naver.com/mnews/article/417/000...</td>\n",
       "      <td>\\n\\n\\n\\n\\n\\n철강사들이 온라인 시장 공략에 나섰다. 사진은 동국제강의 스틸...</td>\n",
       "      <td>철강</td>\n",
       "    </tr>\n",
       "    <tr>\n",
       "      <th>1</th>\n",
       "      <td>Tue, 09 May 2023 16:04:00 +0900</td>\n",
       "      <td>포스코, ‘철강슬래그로 되살린 바다숲’ 울릉군으로 이관</td>\n",
       "      <td>https://n.news.naver.com/mnews/article/018/000...</td>\n",
       "      <td>\\n\\n5월 10일 바다식목일 기념해 울릉군에 바다숲 이관2020년 인공어초 트리톤...</td>\n",
       "      <td>철강</td>\n",
       "    </tr>\n",
       "    <tr>\n",
       "      <th>2</th>\n",
       "      <td>Tue, 09 May 2023 20:43:00 +0900</td>\n",
       "      <td>철강 부산물로 만든 ‘바다숲’… 포스코, 울릉도에 관리 이관</td>\n",
       "      <td>https://n.news.naver.com/mnews/article/022/000...</td>\n",
       "      <td>\\n\\n\\t\\t\\t포스코가 10일 바다식목일을 기념해 울릉도 남양리 해역에 조성한 ...</td>\n",
       "      <td>철강</td>\n",
       "    </tr>\n",
       "    <tr>\n",
       "      <th>3</th>\n",
       "      <td>Tue, 09 May 2023 14:36:00 +0900</td>\n",
       "      <td>포스코, 울릉군에 '바다숲' 이관…\"철강슬래그로 조성\"</td>\n",
       "      <td>https://n.news.naver.com/mnews/article/215/000...</td>\n",
       "      <td>\\n\\n\\n\\n\\n\\n포스코가 울릉도에 조성한 바다숲을 울릉군에 이관한다고 9일 밝...</td>\n",
       "      <td>철강</td>\n",
       "    </tr>\n",
       "    <tr>\n",
       "      <th>4</th>\n",
       "      <td>Wed, 10 May 2023 16:26:00 +0900</td>\n",
       "      <td>코스피 2500선 깨졌다…\"계단적 상승\"vs\"5월엔 팔아라\"</td>\n",
       "      <td>https://n.news.naver.com/mnews/article/008/000...</td>\n",
       "      <td>\\n\\n내일의 전략\\n\\n\\n\\n/사진=임종철 디자인기자코스피가 개인과 외인의 매수...</td>\n",
       "      <td>철강</td>\n",
       "    </tr>\n",
       "    <tr>\n",
       "      <th>...</th>\n",
       "      <td>...</td>\n",
       "      <td>...</td>\n",
       "      <td>...</td>\n",
       "      <td>...</td>\n",
       "      <td>...</td>\n",
       "    </tr>\n",
       "    <tr>\n",
       "      <th>290</th>\n",
       "      <td>Sat, 25 Jul 2020 04:06:00 +0900</td>\n",
       "      <td>트리플 악재에 가위눌린 철강업계, 하반기 전망도 암운</td>\n",
       "      <td>https://n.news.naver.com/mnews/article/005/000...</td>\n",
       "      <td>\\n\\n코로나 한파·원료 값 급등 등 여파\\n\\n\\n\\n사진=뉴시스불안이 현실이 됐...</td>\n",
       "      <td>철강</td>\n",
       "    </tr>\n",
       "    <tr>\n",
       "      <th>291</th>\n",
       "      <td>Sun, 25 Dec 2022 13:12:00 +0900</td>\n",
       "      <td>연초 제조업 경기 전망도 '냉랭'…화학·철강 외 업황 악화 무게</td>\n",
       "      <td>https://n.news.naver.com/mnews/article/025/000...</td>\n",
       "      <td>\\n\\n  \\n\\n\\n\\n지난 12일 경기 의왕시 내륙컨테이너기지(ICD)가 화물 ...</td>\n",
       "      <td>철강</td>\n",
       "    </tr>\n",
       "    <tr>\n",
       "      <th>292</th>\n",
       "      <td>Mon, 09 Jul 2018 03:03:00 +0900</td>\n",
       "      <td>美, 5월 한국산 철강수입 77% 줄어</td>\n",
       "      <td>https://n.news.naver.com/mnews/article/020/000...</td>\n",
       "      <td>\\n\\n\\t\\t\\t[동아일보]무역확장법 232조 발동 여파미국이 철강 분야에서 보호...</td>\n",
       "      <td>철강</td>\n",
       "    </tr>\n",
       "    <tr>\n",
       "      <th>293</th>\n",
       "      <td>Thu, 15 Dec 2022 15:31:00 +0900</td>\n",
       "      <td>\"해 넘길 수도…\" 조선·철강 후판 가격 막바지 협상도 '난항'</td>\n",
       "      <td>https://n.news.naver.com/mnews/article/629/000...</td>\n",
       "      <td>\\n\\n조선업계, 원재료 가격 인하분 반영 필요성 강조\\n\\n\\n\\n조선업계와 철강...</td>\n",
       "      <td>철강</td>\n",
       "    </tr>\n",
       "    <tr>\n",
       "      <th>294</th>\n",
       "      <td>Fri, 09 Dec 2022 17:44:00 +0900</td>\n",
       "      <td>동국제강, 지주사 제체로 전환...철강 사업은 열연·냉연으로 인적분할</td>\n",
       "      <td>https://n.news.naver.com/mnews/article/081/000...</td>\n",
       "      <td>\\n\\n동국제강, 9일 이사회 열어 인적분할 계획서 의결내년 5월 인적분할 승인 주...</td>\n",
       "      <td>철강</td>\n",
       "    </tr>\n",
       "  </tbody>\n",
       "</table>\n",
       "<p>295 rows × 5 columns</p>\n",
       "</div>"
      ],
      "text/plain": [
       "                            pub_date                                   title  \\\n",
       "0    Wed, 10 May 2023 05:55:00 +0900     포스코·동국제강 이어 현대제철도 뛰어들다…철강도 온라인판매 시대   \n",
       "1    Tue, 09 May 2023 16:04:00 +0900          포스코, ‘철강슬래그로 되살린 바다숲’ 울릉군으로 이관   \n",
       "2    Tue, 09 May 2023 20:43:00 +0900       철강 부산물로 만든 ‘바다숲’… 포스코, 울릉도에 관리 이관   \n",
       "3    Tue, 09 May 2023 14:36:00 +0900          포스코, 울릉군에 '바다숲' 이관…\"철강슬래그로 조성\"   \n",
       "4    Wed, 10 May 2023 16:26:00 +0900       코스피 2500선 깨졌다…\"계단적 상승\"vs\"5월엔 팔아라\"   \n",
       "..                               ...                                     ...   \n",
       "290  Sat, 25 Jul 2020 04:06:00 +0900           트리플 악재에 가위눌린 철강업계, 하반기 전망도 암운   \n",
       "291  Sun, 25 Dec 2022 13:12:00 +0900     연초 제조업 경기 전망도 '냉랭'…화학·철강 외 업황 악화 무게   \n",
       "292  Mon, 09 Jul 2018 03:03:00 +0900                   美, 5월 한국산 철강수입 77% 줄어   \n",
       "293  Thu, 15 Dec 2022 15:31:00 +0900     \"해 넘길 수도…\" 조선·철강 후판 가격 막바지 협상도 '난항'   \n",
       "294  Fri, 09 Dec 2022 17:44:00 +0900  동국제강, 지주사 제체로 전환...철강 사업은 열연·냉연으로 인적분할   \n",
       "\n",
       "                                                  link  \\\n",
       "0    https://n.news.naver.com/mnews/article/417/000...   \n",
       "1    https://n.news.naver.com/mnews/article/018/000...   \n",
       "2    https://n.news.naver.com/mnews/article/022/000...   \n",
       "3    https://n.news.naver.com/mnews/article/215/000...   \n",
       "4    https://n.news.naver.com/mnews/article/008/000...   \n",
       "..                                                 ...   \n",
       "290  https://n.news.naver.com/mnews/article/005/000...   \n",
       "291  https://n.news.naver.com/mnews/article/025/000...   \n",
       "292  https://n.news.naver.com/mnews/article/020/000...   \n",
       "293  https://n.news.naver.com/mnews/article/629/000...   \n",
       "294  https://n.news.naver.com/mnews/article/081/000...   \n",
       "\n",
       "                                               content search_word  \n",
       "0    \\n\\n\\n\\n\\n\\n철강사들이 온라인 시장 공략에 나섰다. 사진은 동국제강의 스틸...          철강  \n",
       "1    \\n\\n5월 10일 바다식목일 기념해 울릉군에 바다숲 이관2020년 인공어초 트리톤...          철강  \n",
       "2    \\n\\n\\t\\t\\t포스코가 10일 바다식목일을 기념해 울릉도 남양리 해역에 조성한 ...          철강  \n",
       "3    \\n\\n\\n\\n\\n\\n포스코가 울릉도에 조성한 바다숲을 울릉군에 이관한다고 9일 밝...          철강  \n",
       "4    \\n\\n내일의 전략\\n\\n\\n\\n/사진=임종철 디자인기자코스피가 개인과 외인의 매수...          철강  \n",
       "..                                                 ...         ...  \n",
       "290  \\n\\n코로나 한파·원료 값 급등 등 여파\\n\\n\\n\\n사진=뉴시스불안이 현실이 됐...          철강  \n",
       "291  \\n\\n  \\n\\n\\n\\n지난 12일 경기 의왕시 내륙컨테이너기지(ICD)가 화물 ...          철강  \n",
       "292  \\n\\n\\t\\t\\t[동아일보]무역확장법 232조 발동 여파미국이 철강 분야에서 보호...          철강  \n",
       "293  \\n\\n조선업계, 원재료 가격 인하분 반영 필요성 강조\\n\\n\\n\\n조선업계와 철강...          철강  \n",
       "294  \\n\\n동국제강, 9일 이사회 열어 인적분할 계획서 의결내년 5월 인적분할 승인 주...          철강  \n",
       "\n",
       "[295 rows x 5 columns]"
      ]
     },
     "execution_count": 156,
     "metadata": {},
     "output_type": "execute_result"
    }
   ],
   "source": [
    "result_dict = {'pub_date':pubdates_li,'title': titles_li, 'link': links_li, 'content': contents}\n",
    "df = pd.DataFrame.from_dict(result_dict)\n",
    "df['search_word'] = '철강'\n",
    "df"
   ]
  },
  {
   "cell_type": "markdown",
   "id": "3ade647c",
   "metadata": {
    "id": "3ade647c"
   },
   "source": [
    "# 2. 텍스트 데이터 전처리"
   ]
  },
  {
   "cell_type": "markdown",
   "id": "d0d28fc4",
   "metadata": {
    "id": "d0d28fc4"
   },
   "source": [
    "### 2-1. Cleaning"
   ]
  },
  {
   "cell_type": "code",
   "execution_count": null,
   "id": "qboAtLBtwh_U",
   "metadata": {
    "colab": {
     "base_uri": "https://localhost:8080/",
     "height": 718
    },
    "executionInfo": {
     "elapsed": 511,
     "status": "ok",
     "timestamp": 1683891896396,
     "user": {
      "displayName": "gayeon jung",
      "userId": "11182768220803788461"
     },
     "user_tz": -540
    },
    "id": "qboAtLBtwh_U",
    "outputId": "c21efdf9-db71-421b-85d0-5ca9c0b1a217"
   },
   "outputs": [
    {
     "data": {
      "text/html": [
       "\n",
       "  <div id=\"df-6a0f846d-c405-4bcd-87da-05a8d0c818db\">\n",
       "    <div class=\"colab-df-container\">\n",
       "      <div>\n",
       "<style scoped>\n",
       "    .dataframe tbody tr th:only-of-type {\n",
       "        vertical-align: middle;\n",
       "    }\n",
       "\n",
       "    .dataframe tbody tr th {\n",
       "        vertical-align: top;\n",
       "    }\n",
       "\n",
       "    .dataframe thead th {\n",
       "        text-align: right;\n",
       "    }\n",
       "</style>\n",
       "<table border=\"1\" class=\"dataframe\">\n",
       "  <thead>\n",
       "    <tr style=\"text-align: right;\">\n",
       "      <th></th>\n",
       "      <th>pub_date</th>\n",
       "      <th>title</th>\n",
       "      <th>link</th>\n",
       "      <th>content</th>\n",
       "      <th>search_word</th>\n",
       "    </tr>\n",
       "  </thead>\n",
       "  <tbody>\n",
       "    <tr>\n",
       "      <th>0</th>\n",
       "      <td>Tue, 09 May 2023 12:04:00 +0900</td>\n",
       "      <td>건설용 철강재도 ‘클릭 한번’으로 산다</td>\n",
       "      <td>https://n.news.naver.com/mnews/article/050/000...</td>\n",
       "      <td>\\n\\n현대제철, 온라인 플랫폼 'H코어 스토어' 출시\\n\\n\\n\\n현대제철이 출시...</td>\n",
       "      <td>철강</td>\n",
       "    </tr>\n",
       "    <tr>\n",
       "      <th>1</th>\n",
       "      <td>Tue, 09 May 2023 11:00:00 +0900</td>\n",
       "      <td>현대제철, 온라인 철강몰 출시</td>\n",
       "      <td>https://n.news.naver.com/mnews/article/001/001...</td>\n",
       "      <td>\\n\\n\\n\\n\\n\\n    (서울=연합뉴스) 현대제철이 철강재 내수 판매를 강화하...</td>\n",
       "      <td>철강</td>\n",
       "    </tr>\n",
       "    <tr>\n",
       "      <th>2</th>\n",
       "      <td>Tue, 09 May 2023 14:16:00 +0900</td>\n",
       "      <td>철강업계 vs 조선업체…후판 가격 인상 놓고 '기싸움'</td>\n",
       "      <td>https://n.news.naver.com/mnews/article/003/001...</td>\n",
       "      <td>\\n\\n기사내용 요약조선업계, 후판가격 인상하면 배 만들어도 손해철강업계, 철광석·...</td>\n",
       "      <td>철강</td>\n",
       "    </tr>\n",
       "    <tr>\n",
       "      <th>3</th>\n",
       "      <td>Tue, 09 May 2023 16:04:00 +0900</td>\n",
       "      <td>포스코, ‘철강슬래그로 되살린 바다숲’ 울릉군으로 이관</td>\n",
       "      <td>https://n.news.naver.com/mnews/article/018/000...</td>\n",
       "      <td>\\n\\n5월 10일 바다식목일 기념해 울릉군에 바다숲 이관2020년 인공어초 트리톤...</td>\n",
       "      <td>철강</td>\n",
       "    </tr>\n",
       "    <tr>\n",
       "      <th>4</th>\n",
       "      <td>Tue, 09 May 2023 11:09:00 +0900</td>\n",
       "      <td>현대제철, 온라인 철강몰 ‘HCORE STORE’ 론칭</td>\n",
       "      <td>https://n.news.naver.com/mnews/article/366/000...</td>\n",
       "      <td>\\n\\n\\t\\t\\t        현대제철이 철강재 내수 판매 강화 및 디지털 판매 ...</td>\n",
       "      <td>철강</td>\n",
       "    </tr>\n",
       "  </tbody>\n",
       "</table>\n",
       "</div>\n",
       "      <button class=\"colab-df-convert\" onclick=\"convertToInteractive('df-6a0f846d-c405-4bcd-87da-05a8d0c818db')\"\n",
       "              title=\"Convert this dataframe to an interactive table.\"\n",
       "              style=\"display:none;\">\n",
       "        \n",
       "  <svg xmlns=\"http://www.w3.org/2000/svg\" height=\"24px\"viewBox=\"0 0 24 24\"\n",
       "       width=\"24px\">\n",
       "    <path d=\"M0 0h24v24H0V0z\" fill=\"none\"/>\n",
       "    <path d=\"M18.56 5.44l.94 2.06.94-2.06 2.06-.94-2.06-.94-.94-2.06-.94 2.06-2.06.94zm-11 1L8.5 8.5l.94-2.06 2.06-.94-2.06-.94L8.5 2.5l-.94 2.06-2.06.94zm10 10l.94 2.06.94-2.06 2.06-.94-2.06-.94-.94-2.06-.94 2.06-2.06.94z\"/><path d=\"M17.41 7.96l-1.37-1.37c-.4-.4-.92-.59-1.43-.59-.52 0-1.04.2-1.43.59L10.3 9.45l-7.72 7.72c-.78.78-.78 2.05 0 2.83L4 21.41c.39.39.9.59 1.41.59.51 0 1.02-.2 1.41-.59l7.78-7.78 2.81-2.81c.8-.78.8-2.07 0-2.86zM5.41 20L4 18.59l7.72-7.72 1.47 1.35L5.41 20z\"/>\n",
       "  </svg>\n",
       "      </button>\n",
       "      \n",
       "  <style>\n",
       "    .colab-df-container {\n",
       "      display:flex;\n",
       "      flex-wrap:wrap;\n",
       "      gap: 12px;\n",
       "    }\n",
       "\n",
       "    .colab-df-convert {\n",
       "      background-color: #E8F0FE;\n",
       "      border: none;\n",
       "      border-radius: 50%;\n",
       "      cursor: pointer;\n",
       "      display: none;\n",
       "      fill: #1967D2;\n",
       "      height: 32px;\n",
       "      padding: 0 0 0 0;\n",
       "      width: 32px;\n",
       "    }\n",
       "\n",
       "    .colab-df-convert:hover {\n",
       "      background-color: #E2EBFA;\n",
       "      box-shadow: 0px 1px 2px rgba(60, 64, 67, 0.3), 0px 1px 3px 1px rgba(60, 64, 67, 0.15);\n",
       "      fill: #174EA6;\n",
       "    }\n",
       "\n",
       "    [theme=dark] .colab-df-convert {\n",
       "      background-color: #3B4455;\n",
       "      fill: #D2E3FC;\n",
       "    }\n",
       "\n",
       "    [theme=dark] .colab-df-convert:hover {\n",
       "      background-color: #434B5C;\n",
       "      box-shadow: 0px 1px 3px 1px rgba(0, 0, 0, 0.15);\n",
       "      filter: drop-shadow(0px 1px 2px rgba(0, 0, 0, 0.3));\n",
       "      fill: #FFFFFF;\n",
       "    }\n",
       "  </style>\n",
       "\n",
       "      <script>\n",
       "        const buttonEl =\n",
       "          document.querySelector('#df-6a0f846d-c405-4bcd-87da-05a8d0c818db button.colab-df-convert');\n",
       "        buttonEl.style.display =\n",
       "          google.colab.kernel.accessAllowed ? 'block' : 'none';\n",
       "\n",
       "        async function convertToInteractive(key) {\n",
       "          const element = document.querySelector('#df-6a0f846d-c405-4bcd-87da-05a8d0c818db');\n",
       "          const dataTable =\n",
       "            await google.colab.kernel.invokeFunction('convertToInteractive',\n",
       "                                                     [key], {});\n",
       "          if (!dataTable) return;\n",
       "\n",
       "          const docLinkHtml = 'Like what you see? Visit the ' +\n",
       "            '<a target=\"_blank\" href=https://colab.research.google.com/notebooks/data_table.ipynb>data table notebook</a>'\n",
       "            + ' to learn more about interactive tables.';\n",
       "          element.innerHTML = '';\n",
       "          dataTable['output_type'] = 'display_data';\n",
       "          await google.colab.output.renderOutput(dataTable, element);\n",
       "          const docLink = document.createElement('div');\n",
       "          docLink.innerHTML = docLinkHtml;\n",
       "          element.appendChild(docLink);\n",
       "        }\n",
       "      </script>\n",
       "    </div>\n",
       "  </div>\n",
       "  "
      ],
      "text/plain": [
       "                          pub_date                           title  \\\n",
       "0  Tue, 09 May 2023 12:04:00 +0900           건설용 철강재도 ‘클릭 한번’으로 산다   \n",
       "1  Tue, 09 May 2023 11:00:00 +0900                현대제철, 온라인 철강몰 출시   \n",
       "2  Tue, 09 May 2023 14:16:00 +0900  철강업계 vs 조선업체…후판 가격 인상 놓고 '기싸움'   \n",
       "3  Tue, 09 May 2023 16:04:00 +0900  포스코, ‘철강슬래그로 되살린 바다숲’ 울릉군으로 이관   \n",
       "4  Tue, 09 May 2023 11:09:00 +0900  현대제철, 온라인 철강몰 ‘HCORE STORE’ 론칭   \n",
       "\n",
       "                                                link  \\\n",
       "0  https://n.news.naver.com/mnews/article/050/000...   \n",
       "1  https://n.news.naver.com/mnews/article/001/001...   \n",
       "2  https://n.news.naver.com/mnews/article/003/001...   \n",
       "3  https://n.news.naver.com/mnews/article/018/000...   \n",
       "4  https://n.news.naver.com/mnews/article/366/000...   \n",
       "\n",
       "                                             content search_word  \n",
       "0  \\n\\n현대제철, 온라인 플랫폼 'H코어 스토어' 출시\\n\\n\\n\\n현대제철이 출시...          철강  \n",
       "1  \\n\\n\\n\\n\\n\\n    (서울=연합뉴스) 현대제철이 철강재 내수 판매를 강화하...          철강  \n",
       "2  \\n\\n기사내용 요약조선업계, 후판가격 인상하면 배 만들어도 손해철강업계, 철광석·...          철강  \n",
       "3  \\n\\n5월 10일 바다식목일 기념해 울릉군에 바다숲 이관2020년 인공어초 트리톤...          철강  \n",
       "4  \\n\\n\\t\\t\\t        현대제철이 철강재 내수 판매 강화 및 디지털 판매 ...          철강  "
      ]
     },
     "execution_count": 102,
     "metadata": {},
     "output_type": "execute_result"
    }
   ],
   "source": [
    "news_data = pd.read_csv('철강.csv')\n",
    "news_data.head()"
   ]
  },
  {
   "cell_type": "code",
   "execution_count": null,
   "id": "CW38lnHrmoEm",
   "metadata": {
    "colab": {
     "base_uri": "https://localhost:8080/",
     "height": 309
    },
    "executionInfo": {
     "elapsed": 326,
     "status": "ok",
     "timestamp": 1683888967976,
     "user": {
      "displayName": "gayeon jung",
      "userId": "11182768220803788461"
     },
     "user_tz": -540
    },
    "id": "CW38lnHrmoEm",
    "outputId": "0785472f-a97d-4015-c7fe-537770a42069"
   },
   "outputs": [
    {
     "data": {
      "application/vnd.google.colaboratory.intrinsic+json": {
       "type": "string"
      },
      "text/plain": [
       "'현대제철 온라인 플랫폼 H코어 토어 출시현대제철 출시한 H코어 토어HCORE STORE를 용하는 모습 현대제철 제공현대제철 철강재 내수 판매 강화 및 디털 판매 채널 확보를 위해 전상거래 플랫폼 H코어 토어HCORE STORE를 출시하고 시범 운영에 나섰다 온라인 플랫폼에서 판매하는 제품은 철근형강강관 등의 건설용 강재로 시범운영간 동안에도 제품 구매 및 견적 요청과 같은 본적인 서비 용 가능하다현대제철은 시범 운영 간에 용들의 의견을 취합하고 세부 안들을 보완해 오는 7월 그랜드 오픈할 계획다 후 온라인 판매가 리를 잡으면 판재류 등으로 판매 품목을 확대할 예정다 인터는 용의 편의성을 최우선으로 고려해 직관적인 용어와 단순한 디인으로 구성돼 있어 역별 제품 재고 현황을 한눈에 볼 수 있게 돼 있다원하는 제품의 재고가 있다면 수량을 입력하고 최저가 매칭을 통해 제품을 비교해 구매할 수 있는 바로구매 능 원하는 공급에서 단골 구매하거나 특가상품 확인 가능한 파트너 찾 능 재고가 없는 제품을 원하는 가격으로 견적 요청한 후 입찰을 통해 구매할 수 있는 견적 요청 능 등 다양한 고객 맞춤형 능들을 갖췄다번에 현대제철 구축한 온라인 플랫폼은 제조업체와 유통 수요가가 함께 상생할 수 있는 플랫폼다 철근형강강관 등 다양한 제품을 취급하는 50여개의 파트너 유통가 참여하고 있다 전국 70여곳의 하치장을 통해 전국적인 판매망을 확보하게 된다고객는 PC와 마트폰을 통해 합리적인 가격으로 쉽게 H코어 제품을 구매할 수 있다 현대제철도 온라인 판매를 통해 신규 고객들을 확보할 수 있는 윈윈구조를 구축할 것으로 대된다현대제철 관계는 H코어 토어를 통해 제품 판매 전략을 온라인으로 확대하고 용들과 속적인 소통으로 온라인 서비의 완성도를 높여나갈 것라며 고객파트너유통현대제철 간 상생하는 생태계 구축에도 큰 여를 할 것으로 대한다고 말했다'"
      ]
     },
     "execution_count": 20,
     "metadata": {},
     "output_type": "execute_result"
    }
   ],
   "source": [
    "import re\n",
    "regex = r'[^\\w\\s]'\n",
    "# text 열의 모든 값을 대상으로 정규표현식을 적용하여 특수문자를 제거\n",
    "news_data['clean_content'] = news_data['content'].apply(lambda x: re.sub(regex, '', str(x)))\n",
    "news_data['clean_content'][0]"
   ]
  },
  {
   "cell_type": "markdown",
   "id": "ae3a7066",
   "metadata": {
    "id": "ae3a7066"
   },
   "source": [
    "### 2-2. Tokenization & Pos Tagging"
   ]
  },
  {
   "cell_type": "code",
   "execution_count": null,
   "id": "cff34ff6",
   "metadata": {
    "id": "cff34ff6"
   },
   "outputs": [],
   "source": [
    "#!pip install konlpy\n",
    "from konlpy.tag import Kkma        \n",
    "kkma = Kkma()\n",
    "from konlpy.tag import Hannanum    \n",
    "hannanum = Hannanum()\n",
    "from konlpy.tag import Okt         \n",
    "t = Okt() \n",
    "from konlpy.tag import *\n",
    "import nltk\n",
    "import pickle\n",
    "import copy\n",
    "from tqdm import tqdm"
   ]
  },
  {
   "cell_type": "code",
   "execution_count": null,
   "id": "pn0iDMFWmRwU",
   "metadata": {
    "colab": {
     "base_uri": "https://localhost:8080/"
    },
    "executionInfo": {
     "elapsed": 4,
     "status": "ok",
     "timestamp": 1683891631523,
     "user": {
      "displayName": "gayeon jung",
      "userId": "11182768220803788461"
     },
     "user_tz": -540
    },
    "id": "pn0iDMFWmRwU",
    "outputId": "bcaefb29-4f39-4acb-a91e-5f48956eaef5"
   },
   "outputs": [
    {
     "data": {
      "text/plain": [
       "0      현대제철 온라인 플랫폼 H코어 토어 출시현대제철 출시한 H코어 토어HCORE STO...\n",
       "1          서울연합 현대제철 철강재 내수 판매를 강화하고 디털 판매 채널을 확보하 위해...\n",
       "2      내용 요약조선업계 후판가격 인상하면 배 만들어도 손해철강업계 철광석전 올라 인상 불...\n",
       "3      5월 10일 바다식목일 념해 울릉군에 바다숲 관2020년 인공어초 트리톤 설치바다숲...\n",
       "4      \\t\\t\\t        현대제철 철강재 내수 판매 강화 및 디털 판매 채널 확보를...\n",
       "                             ...                        \n",
       "298    평양 노동신문1  북한 천리마제강연합업소 노동계급들 당 중앙위원회 제8 제6차 전원...\n",
       "299    평양 노동신문1  북한 천리마제강연합업소 노동계급들 당 중앙위원회 제8 제6차 전원...\n",
       "300    평양 노동신문1  북한 천리마제강연합업소 노동계급들 당 중앙위원회 제8 제6차 전원...\n",
       "301    내용 요약역 소상공인과 간담회 상생대책 논의포항시 강구   포코는 정비 회 신설과 ...\n",
       "302    2020년 인공어초 트리톤 설치 후 3년간 관리포코 관계 등 9일 울릉군에서 열린 ...\n",
       "Name: clean_content, Length: 303, dtype: object"
      ]
     },
     "execution_count": 86,
     "metadata": {},
     "output_type": "execute_result"
    }
   ],
   "source": [
    "news_data['clean_content']"
   ]
  },
  {
   "cell_type": "code",
   "execution_count": null,
   "id": "142f90e6",
   "metadata": {
    "colab": {
     "base_uri": "https://localhost:8080/"
    },
    "executionInfo": {
     "elapsed": 18585,
     "status": "ok",
     "timestamp": 1683891654664,
     "user": {
      "displayName": "gayeon jung",
      "userId": "11182768220803788461"
     },
     "user_tz": -540
    },
    "id": "142f90e6",
    "outputId": "e6805bd4-6cbc-4f83-8031-ba5486b9c2d1"
   },
   "outputs": [
    {
     "name": "stderr",
     "output_type": "stream",
     "text": [
      "303it [00:18, 16.14it/s]\n"
     ]
    }
   ],
   "source": [
    "pos_tag = []\n",
    "\n",
    "# news_data 데이터프레임의 각 행에 대해 반복\n",
    "for _, row in tqdm(news_data.iterrows()):\n",
    "    # 현재 행의 content 값을 news_text 변수에 할당\n",
    "    news_text = row['clean_content']\n",
    "    \n",
    "    # PosTagging\n",
    "    tokens_ko = t.pos(news_text)\n",
    "    pos_tag.append(tokens_ko)"
   ]
  },
  {
   "cell_type": "markdown",
   "id": "bfe4f577",
   "metadata": {
    "id": "bfe4f577"
   },
   "source": [
    "### 2-3. Normalization"
   ]
  },
  {
   "cell_type": "code",
   "execution_count": null,
   "id": "6a94c2ab",
   "metadata": {
    "colab": {
     "base_uri": "https://localhost:8080/"
    },
    "executionInfo": {
     "elapsed": 7,
     "status": "ok",
     "timestamp": 1683891655433,
     "user": {
      "displayName": "gayeon jung",
      "userId": "11182768220803788461"
     },
     "user_tz": -540
    },
    "id": "6a94c2ab",
    "outputId": "c4046236-59f4-48a3-e19b-082a2b0cd356",
    "scrolled": true
   },
   "outputs": [
    {
     "name": "stdout",
     "output_type": "stream",
     "text": [
      "['현대', '제철', '온라인', '플랫폼', 'H', '코어', '토', '출시', '현대', '제철', '출시', 'H', '코어', '토', 'HCORE', 'STORE', '를', '용하는', '모습', '현대', '제철', '제', '공', '현', '대', '제철', '철', '강재', '내', '수', '판매', '강화', '및', '디털', '판매', '채널', '확보', '위해', '전', '상거래', '플랫폼', 'H', '코어', '토', 'HCORE', 'STORE', '를', '출시', '시범', '운영', '나섰다', '온라인', '플랫폼', '판매', '하는', '제품', '철근', '형강', '강관', '등', '건설', '용', '강재', '시범', '운영', '동안', '제품', '구매', '및', '견적', '요청', '같은', '본적', '서', '비', '용', '가능하다', '현대', '제철', '시범', '운영', '간', '용', '의견', '취합', '세부', '안', '보완', '해', '오는', '7월', '그랜드', '오픈', '할', '계획', '다', '후', '온라인', '판매', '리', '잡으면', '판재', '류', '등', '판매', '품목', '확대', '할', '예정', '다', '인터', '용의', '편의', '최', '우선', '고려', '해', '직관', '용어', '단순한', '디', '구성', '돼', '있어', '역별', '제품', '재고', '현황', '한눈', '볼', '수', '있게', '돼', '있다', '원하는', '제품', '재고', '있다면', '수량', '입력', '최저', '매칭', '통해', '제품', '비교', '해', '구매', '할', '수', '있는', '바로', '구매', '능', '원하는', '공급', '단골', '구매', '거나', '특', '상품', '확인', '가능한', '파트너', '찾', '능', '재고', '없는', '제품', '원하는', '가격', '견적', '요청', '후', '입찰', '통해', '구매', '할', '수', '있는', '견적', '요청', '능', '등', '다양한', '고객', '맞춤', '능', '갖췄다', '번', '현대', '제철', '구축', '온라인', '플랫폼', '제조업체', '유통', '수요', '가가', '함께', '상생', '할', '수', '있는', '플랫폼', '다', '철근', '형강', '강관', '등', '다양한', '제품', '취급', '하는', '50', '여개', '파트너', '유통', '참여', '있다', '전국', '70', '여', '곳', '하치', '통해', '전국', '판매', '망', '확보', '하게', '된다', '고객', '는', 'PC', '와', '마트', '폰', '통해', '합리', '가격', '쉽게', 'H', '코어', '제품', '구매', '할', '수', '있다', '현', '대', '제', '철도', '온라인', '판매', '통해', '신규', '고객', '확보', '할', '수', '있는', '윈윈구조', '구축', '할', '것', '대', '된다', '현대', '제철', '관계', 'H', '코어', '토', '통해', '제품', '판매', '전략', '온라인', '확대', '용', '속', '적', '소통', '온라인', '서', '비', '완성', '도를', '높여', '나갈', '것', '라며', '고객', '파트너', '유통', '현대', '제철', '간', '상생', '하는', '생태계', '구축', '큰', '여', '할', '것', '대한', '다', '고', '말', '했다']\n"
     ]
    }
   ],
   "source": [
    "normalization_li = []\n",
    "for pos in pos_tag: \n",
    "    in_li = []\n",
    "    for ele in pos:\n",
    "        #품사가 조사, 접속사이면 continue\n",
    "        if ele[1] in ['Josa','Suffix']:\n",
    "            continue\n",
    "        in_li.append(ele[0])\n",
    "    normalization_li.append(in_li)\n",
    "print(normalization_li[0])"
   ]
  },
  {
   "cell_type": "markdown",
   "id": "3014df15",
   "metadata": {
    "id": "3014df15"
   },
   "source": [
    "### 2-4. Stopword Removal"
   ]
  },
  {
   "cell_type": "code",
   "execution_count": null,
   "id": "7798e0a7",
   "metadata": {
    "id": "7798e0a7"
   },
   "outputs": [],
   "source": [
    "with open('stopwords.txt', 'r', encoding='utf-8') as f:\n",
    "    stopwords = f.readlines()\n",
    "stopwords = [x.replace('\\n','') for x in stopwords] # stopword 파일의 줄바꿈 문자 제거\n",
    "okt = Okt()"
   ]
  },
  {
   "cell_type": "code",
   "execution_count": null,
   "id": "en53B6ycw_uv",
   "metadata": {
    "colab": {
     "base_uri": "https://localhost:8080/"
    },
    "executionInfo": {
     "elapsed": 3982,
     "status": "ok",
     "timestamp": 1683891692305,
     "user": {
      "displayName": "gayeon jung",
      "userId": "11182768220803788461"
     },
     "user_tz": -540
    },
    "id": "en53B6ycw_uv",
    "outputId": "41cedf6a-05ae-4217-d3ad-3a72e0e1dff7"
   },
   "outputs": [
    {
     "name": "stdout",
     "output_type": "stream",
     "text": [
      "['현대', '제철', '온라인', '플랫폼', 'H', '코어', '토', '출시', '현대', '제철', '출시', 'H', '코어', '토', 'HCORE', 'STORE', '용하는', '모습', '현대', '제철', '공', '현', '대', '제철', '철', '강재', '내', '수', '판매', '강화', '디털', '판매', '채널', '확보', '위해', '전', '상거래', '플랫폼', 'H', '코어', '토', 'HCORE', 'STORE', '출시', '시범', '운영', '나섰다', '온라인', '플랫폼', '판매', '하는', '제품', '철근', '형강', '강관', '건설', '용', '강재', '시범', '운영', '제품', '구매', '견적', '요청', '같은', '본적', '서', '비', '용', '가능하다', '현대', '제철', '시범', '운영', '간', '용', '의견', '취합', '세부', '안', '보완', '해', '오는', '7월', '그랜드', '오픈', '할', '계획', '다', '후', '온라인', '판매', '리', '잡으면', '판재', '류', '판매', '품목', '확대', '할', '예정', '다', '인터', '용의', '편의', '최', '고려', '해', '직관', '용어', '단순한', '디', '구성', '돼', '있어', '역별', '제품', '재고', '현황', '한눈', '볼', '수', '있게', '돼', '원하는', '제품', '재고', '있다면', '수량', '입력', '최저', '매칭', '통해', '제품', '비교', '해', '구매', '할', '수', '있는', '구매', '능', '원하는', '공급', '단골', '구매', '거나', '특', '상품', '확인', '가능한', '파트너', '찾', '능', '재고', '없는', '제품', '원하는', '가격', '견적', '요청', '후', '입찰', '통해', '구매', '할', '수', '있는', '견적', '요청', '능', '다양한', '고객', '맞춤', '능', '갖췄다', '번', '현대', '제철', '구축', '온라인', '플랫폼', '제조업체', '유통', '수요', '가가', '상생', '할', '수', '있는', '플랫폼', '다', '철근', '형강', '강관', '다양한', '제품', '취급', '하는', '50', '여개', '파트너', '유통', '참여', '전국', '70', '곳', '하치', '통해', '전국', '판매', '망', '확보', '하게', '된다', '고객', '는', 'PC', '마트', '폰', '통해', '합리', '가격', '쉽게', 'H', '코어', '제품', '구매', '할', '수', '현', '대', '철도', '온라인', '판매', '통해', '신규', '고객', '확보', '할', '수', '있는', '윈윈구조', '구축', '할', '대', '된다', '현대', '제철', '관계', 'H', '코어', '토', '통해', '제품', '판매', '전략', '온라인', '확대', '용', '속', '적', '소통', '온라인', '서', '비', '완성', '도를', '높여', '나갈', '라며', '고객', '파트너', '유통', '현대', '제철', '간', '상생', '하는', '생태계', '구축', '큰', '할', '대한', '다', '고', '말', '했다']\n"
     ]
    }
   ],
   "source": [
    "tokens = normalization_li\n",
    "token_stop = []\n",
    "for token in tokens:\n",
    "    in_li = []\n",
    "    for tok in token:\n",
    "        if tok not in stopwords:\n",
    "            in_li.append(tok)\n",
    "    token_stop.append(in_li)\n",
    "print(token_stop[0]) "
   ]
  },
  {
   "cell_type": "markdown",
   "id": "d13e9851",
   "metadata": {
    "id": "d13e9851"
   },
   "source": [
    "- 전처리 완료 후 데이터 프레임 생성"
   ]
  },
  {
   "cell_type": "code",
   "execution_count": null,
   "id": "62664dcc",
   "metadata": {
    "colab": {
     "base_uri": "https://localhost:8080/",
     "height": 206
    },
    "executionInfo": {
     "elapsed": 303,
     "status": "ok",
     "timestamp": 1683891716109,
     "user": {
      "displayName": "gayeon jung",
      "userId": "11182768220803788461"
     },
     "user_tz": -540
    },
    "id": "62664dcc",
    "outputId": "804ceeeb-ac91-41ad-b499-0da040a88171"
   },
   "outputs": [
    {
     "data": {
      "text/html": [
       "\n",
       "  <div id=\"df-ddfce9e5-9dcc-4800-b9dc-f064efecfe29\">\n",
       "    <div class=\"colab-df-container\">\n",
       "      <div>\n",
       "<style scoped>\n",
       "    .dataframe tbody tr th:only-of-type {\n",
       "        vertical-align: middle;\n",
       "    }\n",
       "\n",
       "    .dataframe tbody tr th {\n",
       "        vertical-align: top;\n",
       "    }\n",
       "\n",
       "    .dataframe thead th {\n",
       "        text-align: right;\n",
       "    }\n",
       "</style>\n",
       "<table border=\"1\" class=\"dataframe\">\n",
       "  <thead>\n",
       "    <tr style=\"text-align: right;\">\n",
       "      <th></th>\n",
       "      <th>preprocess_context</th>\n",
       "    </tr>\n",
       "  </thead>\n",
       "  <tbody>\n",
       "    <tr>\n",
       "      <th>0</th>\n",
       "      <td>현대 제철 온라인 플랫폼 H 코어 토 출시 현대 제철 출시 H 코어 토 HCORE ...</td>\n",
       "    </tr>\n",
       "    <tr>\n",
       "      <th>1</th>\n",
       "      <td>서울 연합 현대 제철 철 강재 내 수 판매 강화하고 디털 판매 채널 확보 위해 전 ...</td>\n",
       "    </tr>\n",
       "    <tr>\n",
       "      <th>2</th>\n",
       "      <td>내용 요 약 조선업 후판 가격 인상 하면 배 만들어도 손해 철강업 철광석 전 올라 ...</td>\n",
       "    </tr>\n",
       "    <tr>\n",
       "      <th>3</th>\n",
       "      <td>5월 10일 바다 식목일 념해 울릉군 바다 숲 관 2020년 인공어초 트리톤 설치 ...</td>\n",
       "    </tr>\n",
       "    <tr>\n",
       "      <th>4</th>\n",
       "      <td>\\t\\t\\t         현대 제철 철 강재 내 수 판매 강화 디털 판매 채널 확...</td>\n",
       "    </tr>\n",
       "  </tbody>\n",
       "</table>\n",
       "</div>\n",
       "      <button class=\"colab-df-convert\" onclick=\"convertToInteractive('df-ddfce9e5-9dcc-4800-b9dc-f064efecfe29')\"\n",
       "              title=\"Convert this dataframe to an interactive table.\"\n",
       "              style=\"display:none;\">\n",
       "        \n",
       "  <svg xmlns=\"http://www.w3.org/2000/svg\" height=\"24px\"viewBox=\"0 0 24 24\"\n",
       "       width=\"24px\">\n",
       "    <path d=\"M0 0h24v24H0V0z\" fill=\"none\"/>\n",
       "    <path d=\"M18.56 5.44l.94 2.06.94-2.06 2.06-.94-2.06-.94-.94-2.06-.94 2.06-2.06.94zm-11 1L8.5 8.5l.94-2.06 2.06-.94-2.06-.94L8.5 2.5l-.94 2.06-2.06.94zm10 10l.94 2.06.94-2.06 2.06-.94-2.06-.94-.94-2.06-.94 2.06-2.06.94z\"/><path d=\"M17.41 7.96l-1.37-1.37c-.4-.4-.92-.59-1.43-.59-.52 0-1.04.2-1.43.59L10.3 9.45l-7.72 7.72c-.78.78-.78 2.05 0 2.83L4 21.41c.39.39.9.59 1.41.59.51 0 1.02-.2 1.41-.59l7.78-7.78 2.81-2.81c.8-.78.8-2.07 0-2.86zM5.41 20L4 18.59l7.72-7.72 1.47 1.35L5.41 20z\"/>\n",
       "  </svg>\n",
       "      </button>\n",
       "      \n",
       "  <style>\n",
       "    .colab-df-container {\n",
       "      display:flex;\n",
       "      flex-wrap:wrap;\n",
       "      gap: 12px;\n",
       "    }\n",
       "\n",
       "    .colab-df-convert {\n",
       "      background-color: #E8F0FE;\n",
       "      border: none;\n",
       "      border-radius: 50%;\n",
       "      cursor: pointer;\n",
       "      display: none;\n",
       "      fill: #1967D2;\n",
       "      height: 32px;\n",
       "      padding: 0 0 0 0;\n",
       "      width: 32px;\n",
       "    }\n",
       "\n",
       "    .colab-df-convert:hover {\n",
       "      background-color: #E2EBFA;\n",
       "      box-shadow: 0px 1px 2px rgba(60, 64, 67, 0.3), 0px 1px 3px 1px rgba(60, 64, 67, 0.15);\n",
       "      fill: #174EA6;\n",
       "    }\n",
       "\n",
       "    [theme=dark] .colab-df-convert {\n",
       "      background-color: #3B4455;\n",
       "      fill: #D2E3FC;\n",
       "    }\n",
       "\n",
       "    [theme=dark] .colab-df-convert:hover {\n",
       "      background-color: #434B5C;\n",
       "      box-shadow: 0px 1px 3px 1px rgba(0, 0, 0, 0.15);\n",
       "      filter: drop-shadow(0px 1px 2px rgba(0, 0, 0, 0.3));\n",
       "      fill: #FFFFFF;\n",
       "    }\n",
       "  </style>\n",
       "\n",
       "      <script>\n",
       "        const buttonEl =\n",
       "          document.querySelector('#df-ddfce9e5-9dcc-4800-b9dc-f064efecfe29 button.colab-df-convert');\n",
       "        buttonEl.style.display =\n",
       "          google.colab.kernel.accessAllowed ? 'block' : 'none';\n",
       "\n",
       "        async function convertToInteractive(key) {\n",
       "          const element = document.querySelector('#df-ddfce9e5-9dcc-4800-b9dc-f064efecfe29');\n",
       "          const dataTable =\n",
       "            await google.colab.kernel.invokeFunction('convertToInteractive',\n",
       "                                                     [key], {});\n",
       "          if (!dataTable) return;\n",
       "\n",
       "          const docLinkHtml = 'Like what you see? Visit the ' +\n",
       "            '<a target=\"_blank\" href=https://colab.research.google.com/notebooks/data_table.ipynb>data table notebook</a>'\n",
       "            + ' to learn more about interactive tables.';\n",
       "          element.innerHTML = '';\n",
       "          dataTable['output_type'] = 'display_data';\n",
       "          await google.colab.output.renderOutput(dataTable, element);\n",
       "          const docLink = document.createElement('div');\n",
       "          docLink.innerHTML = docLinkHtml;\n",
       "          element.appendChild(docLink);\n",
       "        }\n",
       "      </script>\n",
       "    </div>\n",
       "  </div>\n",
       "  "
      ],
      "text/plain": [
       "                                  preprocess_context\n",
       "0  현대 제철 온라인 플랫폼 H 코어 토 출시 현대 제철 출시 H 코어 토 HCORE ...\n",
       "1  서울 연합 현대 제철 철 강재 내 수 판매 강화하고 디털 판매 채널 확보 위해 전 ...\n",
       "2  내용 요 약 조선업 후판 가격 인상 하면 배 만들어도 손해 철강업 철광석 전 올라 ...\n",
       "3  5월 10일 바다 식목일 념해 울릉군 바다 숲 관 2020년 인공어초 트리톤 설치 ...\n",
       "4  \\t\\t\\t         현대 제철 철 강재 내 수 판매 강화 디털 판매 채널 확..."
      ]
     },
     "execution_count": 92,
     "metadata": {},
     "output_type": "execute_result"
    }
   ],
   "source": [
    "df_li = []\n",
    "for tokens in token_stop:\n",
    "    token = ' '.join(tokens)\n",
    "    df_li.append(token)\n",
    "df = pd.DataFrame(df_li).rename(columns = {0:'preprocess_context'})\n",
    "df.head()"
   ]
  },
  {
   "cell_type": "code",
   "execution_count": null,
   "id": "158aa0fc",
   "metadata": {
    "colab": {
     "base_uri": "https://localhost:8080/",
     "height": 773
    },
    "executionInfo": {
     "elapsed": 3,
     "status": "ok",
     "timestamp": 1683891903037,
     "user": {
      "displayName": "gayeon jung",
      "userId": "11182768220803788461"
     },
     "user_tz": -540
    },
    "id": "158aa0fc",
    "outputId": "971a9022-9459-47fb-8178-5d948d00a04f"
   },
   "outputs": [
    {
     "data": {
      "text/html": [
       "\n",
       "  <div id=\"df-f981259e-0401-4023-84af-20952be9c976\">\n",
       "    <div class=\"colab-df-container\">\n",
       "      <div>\n",
       "<style scoped>\n",
       "    .dataframe tbody tr th:only-of-type {\n",
       "        vertical-align: middle;\n",
       "    }\n",
       "\n",
       "    .dataframe tbody tr th {\n",
       "        vertical-align: top;\n",
       "    }\n",
       "\n",
       "    .dataframe thead th {\n",
       "        text-align: right;\n",
       "    }\n",
       "</style>\n",
       "<table border=\"1\" class=\"dataframe\">\n",
       "  <thead>\n",
       "    <tr style=\"text-align: right;\">\n",
       "      <th></th>\n",
       "      <th>pub_date</th>\n",
       "      <th>title</th>\n",
       "      <th>link</th>\n",
       "      <th>content</th>\n",
       "      <th>search_word</th>\n",
       "      <th>preprocess_context</th>\n",
       "    </tr>\n",
       "  </thead>\n",
       "  <tbody>\n",
       "    <tr>\n",
       "      <th>0</th>\n",
       "      <td>Tue, 09 May 2023 12:04:00 +0900</td>\n",
       "      <td>건설용 철강재도 ‘클릭 한번’으로 산다</td>\n",
       "      <td>https://n.news.naver.com/mnews/article/050/000...</td>\n",
       "      <td>\\n\\n현대제철, 온라인 플랫폼 'H코어 스토어' 출시\\n\\n\\n\\n현대제철이 출시...</td>\n",
       "      <td>철강</td>\n",
       "      <td>현대 제철 온라인 플랫폼 H 코어 토 출시 현대 제철 출시 H 코어 토 HCORE ...</td>\n",
       "    </tr>\n",
       "    <tr>\n",
       "      <th>1</th>\n",
       "      <td>Tue, 09 May 2023 11:00:00 +0900</td>\n",
       "      <td>현대제철, 온라인 철강몰 출시</td>\n",
       "      <td>https://n.news.naver.com/mnews/article/001/001...</td>\n",
       "      <td>\\n\\n\\n\\n\\n\\n    (서울=연합뉴스) 현대제철이 철강재 내수 판매를 강화하...</td>\n",
       "      <td>철강</td>\n",
       "      <td>서울 연합 현대 제철 철 강재 내 수 판매 강화하고 디털 판매 채널 확보 위해 전 ...</td>\n",
       "    </tr>\n",
       "    <tr>\n",
       "      <th>2</th>\n",
       "      <td>Tue, 09 May 2023 14:16:00 +0900</td>\n",
       "      <td>철강업계 vs 조선업체…후판 가격 인상 놓고 '기싸움'</td>\n",
       "      <td>https://n.news.naver.com/mnews/article/003/001...</td>\n",
       "      <td>\\n\\n기사내용 요약조선업계, 후판가격 인상하면 배 만들어도 손해철강업계, 철광석·...</td>\n",
       "      <td>철강</td>\n",
       "      <td>내용 요 약 조선업 후판 가격 인상 하면 배 만들어도 손해 철강업 철광석 전 올라 ...</td>\n",
       "    </tr>\n",
       "    <tr>\n",
       "      <th>3</th>\n",
       "      <td>Tue, 09 May 2023 16:04:00 +0900</td>\n",
       "      <td>포스코, ‘철강슬래그로 되살린 바다숲’ 울릉군으로 이관</td>\n",
       "      <td>https://n.news.naver.com/mnews/article/018/000...</td>\n",
       "      <td>\\n\\n5월 10일 바다식목일 기념해 울릉군에 바다숲 이관2020년 인공어초 트리톤...</td>\n",
       "      <td>철강</td>\n",
       "      <td>5월 10일 바다 식목일 념해 울릉군 바다 숲 관 2020년 인공어초 트리톤 설치 ...</td>\n",
       "    </tr>\n",
       "    <tr>\n",
       "      <th>4</th>\n",
       "      <td>Tue, 09 May 2023 11:09:00 +0900</td>\n",
       "      <td>현대제철, 온라인 철강몰 ‘HCORE STORE’ 론칭</td>\n",
       "      <td>https://n.news.naver.com/mnews/article/366/000...</td>\n",
       "      <td>\\n\\n\\t\\t\\t        현대제철이 철강재 내수 판매 강화 및 디지털 판매 ...</td>\n",
       "      <td>철강</td>\n",
       "      <td>\\t\\t\\t         현대 제철 철 강재 내 수 판매 강화 디털 판매 채널 확...</td>\n",
       "    </tr>\n",
       "  </tbody>\n",
       "</table>\n",
       "</div>\n",
       "      <button class=\"colab-df-convert\" onclick=\"convertToInteractive('df-f981259e-0401-4023-84af-20952be9c976')\"\n",
       "              title=\"Convert this dataframe to an interactive table.\"\n",
       "              style=\"display:none;\">\n",
       "        \n",
       "  <svg xmlns=\"http://www.w3.org/2000/svg\" height=\"24px\"viewBox=\"0 0 24 24\"\n",
       "       width=\"24px\">\n",
       "    <path d=\"M0 0h24v24H0V0z\" fill=\"none\"/>\n",
       "    <path d=\"M18.56 5.44l.94 2.06.94-2.06 2.06-.94-2.06-.94-.94-2.06-.94 2.06-2.06.94zm-11 1L8.5 8.5l.94-2.06 2.06-.94-2.06-.94L8.5 2.5l-.94 2.06-2.06.94zm10 10l.94 2.06.94-2.06 2.06-.94-2.06-.94-.94-2.06-.94 2.06-2.06.94z\"/><path d=\"M17.41 7.96l-1.37-1.37c-.4-.4-.92-.59-1.43-.59-.52 0-1.04.2-1.43.59L10.3 9.45l-7.72 7.72c-.78.78-.78 2.05 0 2.83L4 21.41c.39.39.9.59 1.41.59.51 0 1.02-.2 1.41-.59l7.78-7.78 2.81-2.81c.8-.78.8-2.07 0-2.86zM5.41 20L4 18.59l7.72-7.72 1.47 1.35L5.41 20z\"/>\n",
       "  </svg>\n",
       "      </button>\n",
       "      \n",
       "  <style>\n",
       "    .colab-df-container {\n",
       "      display:flex;\n",
       "      flex-wrap:wrap;\n",
       "      gap: 12px;\n",
       "    }\n",
       "\n",
       "    .colab-df-convert {\n",
       "      background-color: #E8F0FE;\n",
       "      border: none;\n",
       "      border-radius: 50%;\n",
       "      cursor: pointer;\n",
       "      display: none;\n",
       "      fill: #1967D2;\n",
       "      height: 32px;\n",
       "      padding: 0 0 0 0;\n",
       "      width: 32px;\n",
       "    }\n",
       "\n",
       "    .colab-df-convert:hover {\n",
       "      background-color: #E2EBFA;\n",
       "      box-shadow: 0px 1px 2px rgba(60, 64, 67, 0.3), 0px 1px 3px 1px rgba(60, 64, 67, 0.15);\n",
       "      fill: #174EA6;\n",
       "    }\n",
       "\n",
       "    [theme=dark] .colab-df-convert {\n",
       "      background-color: #3B4455;\n",
       "      fill: #D2E3FC;\n",
       "    }\n",
       "\n",
       "    [theme=dark] .colab-df-convert:hover {\n",
       "      background-color: #434B5C;\n",
       "      box-shadow: 0px 1px 3px 1px rgba(0, 0, 0, 0.15);\n",
       "      filter: drop-shadow(0px 1px 2px rgba(0, 0, 0, 0.3));\n",
       "      fill: #FFFFFF;\n",
       "    }\n",
       "  </style>\n",
       "\n",
       "      <script>\n",
       "        const buttonEl =\n",
       "          document.querySelector('#df-f981259e-0401-4023-84af-20952be9c976 button.colab-df-convert');\n",
       "        buttonEl.style.display =\n",
       "          google.colab.kernel.accessAllowed ? 'block' : 'none';\n",
       "\n",
       "        async function convertToInteractive(key) {\n",
       "          const element = document.querySelector('#df-f981259e-0401-4023-84af-20952be9c976');\n",
       "          const dataTable =\n",
       "            await google.colab.kernel.invokeFunction('convertToInteractive',\n",
       "                                                     [key], {});\n",
       "          if (!dataTable) return;\n",
       "\n",
       "          const docLinkHtml = 'Like what you see? Visit the ' +\n",
       "            '<a target=\"_blank\" href=https://colab.research.google.com/notebooks/data_table.ipynb>data table notebook</a>'\n",
       "            + ' to learn more about interactive tables.';\n",
       "          element.innerHTML = '';\n",
       "          dataTable['output_type'] = 'display_data';\n",
       "          await google.colab.output.renderOutput(dataTable, element);\n",
       "          const docLink = document.createElement('div');\n",
       "          docLink.innerHTML = docLinkHtml;\n",
       "          element.appendChild(docLink);\n",
       "        }\n",
       "      </script>\n",
       "    </div>\n",
       "  </div>\n",
       "  "
      ],
      "text/plain": [
       "                          pub_date                           title  \\\n",
       "0  Tue, 09 May 2023 12:04:00 +0900           건설용 철강재도 ‘클릭 한번’으로 산다   \n",
       "1  Tue, 09 May 2023 11:00:00 +0900                현대제철, 온라인 철강몰 출시   \n",
       "2  Tue, 09 May 2023 14:16:00 +0900  철강업계 vs 조선업체…후판 가격 인상 놓고 '기싸움'   \n",
       "3  Tue, 09 May 2023 16:04:00 +0900  포스코, ‘철강슬래그로 되살린 바다숲’ 울릉군으로 이관   \n",
       "4  Tue, 09 May 2023 11:09:00 +0900  현대제철, 온라인 철강몰 ‘HCORE STORE’ 론칭   \n",
       "\n",
       "                                                link  \\\n",
       "0  https://n.news.naver.com/mnews/article/050/000...   \n",
       "1  https://n.news.naver.com/mnews/article/001/001...   \n",
       "2  https://n.news.naver.com/mnews/article/003/001...   \n",
       "3  https://n.news.naver.com/mnews/article/018/000...   \n",
       "4  https://n.news.naver.com/mnews/article/366/000...   \n",
       "\n",
       "                                             content search_word  \\\n",
       "0  \\n\\n현대제철, 온라인 플랫폼 'H코어 스토어' 출시\\n\\n\\n\\n현대제철이 출시...          철강   \n",
       "1  \\n\\n\\n\\n\\n\\n    (서울=연합뉴스) 현대제철이 철강재 내수 판매를 강화하...          철강   \n",
       "2  \\n\\n기사내용 요약조선업계, 후판가격 인상하면 배 만들어도 손해철강업계, 철광석·...          철강   \n",
       "3  \\n\\n5월 10일 바다식목일 기념해 울릉군에 바다숲 이관2020년 인공어초 트리톤...          철강   \n",
       "4  \\n\\n\\t\\t\\t        현대제철이 철강재 내수 판매 강화 및 디지털 판매 ...          철강   \n",
       "\n",
       "                                  preprocess_context  \n",
       "0  현대 제철 온라인 플랫폼 H 코어 토 출시 현대 제철 출시 H 코어 토 HCORE ...  \n",
       "1  서울 연합 현대 제철 철 강재 내 수 판매 강화하고 디털 판매 채널 확보 위해 전 ...  \n",
       "2  내용 요 약 조선업 후판 가격 인상 하면 배 만들어도 손해 철강업 철광석 전 올라 ...  \n",
       "3  5월 10일 바다 식목일 념해 울릉군 바다 숲 관 2020년 인공어초 트리톤 설치 ...  \n",
       "4  \\t\\t\\t         현대 제철 철 강재 내 수 판매 강화 디털 판매 채널 확...  "
      ]
     },
     "execution_count": 103,
     "metadata": {},
     "output_type": "execute_result"
    }
   ],
   "source": [
    "news_data = pd.concat([news_data,df],axis=1)\n",
    "#비어있는 5개의 행은 '없음'으로 결측치 처리\n",
    "news_data['content'] = news_data['content'].fillna('없음')\n",
    "news_data['preprocess_context'] = news_data['preprocess_context'].fillna('없음')\n",
    "news_data.head()"
   ]
  },
  {
   "cell_type": "code",
   "execution_count": null,
   "id": "060a6d34",
   "metadata": {
    "id": "060a6d34"
   },
   "outputs": [],
   "source": [
    "#news_data.to_csv('철강산업_preprocess.csv', index=False, encoding='utf-8-sig')"
   ]
  },
  {
   "cell_type": "markdown",
   "id": "1d175e18",
   "metadata": {
    "id": "1d175e18"
   },
   "source": [
    "# 3. 산업 현황 분석 및 산업 감정 지표 도출"
   ]
  },
  {
   "cell_type": "markdown",
   "id": "cea408a4",
   "metadata": {
    "id": "cea408a4"
   },
   "source": [
    "### 3.1 WordCloud 및 단어빈도 수를 통한 산업 현황 파악"
   ]
  },
  {
   "cell_type": "code",
   "execution_count": null,
   "id": "8c1769b8",
   "metadata": {
    "id": "8c1769b8"
   },
   "outputs": [],
   "source": [
    "import scipy as sp\n",
    "import pandas as pd\n",
    "import numpy as np\n",
    "\n",
    "from konlpy.tag import Kkma        ; kkma = Kkma()\n",
    "from konlpy.tag import Hannanum    ; hannanum = Hannanum()\n",
    "from konlpy.tag import Okt         ; t = Okt()     # 구 트위터\n",
    "from konlpy.tag import *\n",
    "import nltk\n",
    "import pickle\n",
    "\n",
    "from wordcloud import WordCloud, STOPWORDS\n",
    "from PIL import Image\n",
    "\n",
    "from sklearn.feature_extraction.text import CountVectorizer\n",
    "from sklearn.feature_extraction.text import TfidfVectorizer \n",
    "from sklearn.linear_model import LogisticRegression\n",
    "from sklearn.pipeline import Pipeline \n",
    "from sklearn.metrics import accuracy_score\n",
    "from sklearn.model_selection import train_test_split\n",
    "\n",
    "%matplotlib inline\n",
    "import os\n",
    "import matplotlib.pyplot as plt\n",
    "import seaborn as sns\n",
    "#import graphviz\n",
    "from sklearn.tree import export_graphviz\n",
    "\n",
    "import matplotlib.font_manager as fm\n",
    "plt.rc('font', family='NanumGothic')\n",
    "\n",
    "import matplotlib as mpl\n",
    "mpl.rcParams['axes.unicode_minus'] = False\n",
    "\n",
    "import warnings\n",
    "warnings.filterwarnings('ignore')"
   ]
  },
  {
   "cell_type": "code",
   "execution_count": null,
   "id": "yfsx8ncJxOVN",
   "metadata": {
    "id": "yfsx8ncJxOVN"
   },
   "outputs": [],
   "source": [
    "철강산업_preprocess = pd.read_csv('철강산업_preprocess_전체.csv')"
   ]
  },
  {
   "cell_type": "code",
   "execution_count": null,
   "id": "df31145c",
   "metadata": {
    "id": "df31145c",
    "scrolled": true
   },
   "outputs": [],
   "source": [
    "news_text = ''\n",
    "news_data = 철강산업_preprocess.reset_index(drop=True)\n",
    "for _, row in news_data.iterrows():\n",
    "    news_text += row['preprocess_context']"
   ]
  },
  {
   "cell_type": "markdown",
   "id": "5a363bbe",
   "metadata": {
    "id": "5a363bbe"
   },
   "source": [
    "- feature vectorization"
   ]
  },
  {
   "cell_type": "code",
   "execution_count": null,
   "id": "01a1a679",
   "metadata": {
    "colab": {
     "base_uri": "https://localhost:8080/"
    },
    "executionInfo": {
     "elapsed": 8527,
     "status": "ok",
     "timestamp": 1683891959629,
     "user": {
      "displayName": "gayeon jung",
      "userId": "11182768220803788461"
     },
     "user_tz": -540
    },
    "id": "01a1a679",
    "outputId": "d55195ef-8847-4165-9945-23967aa7f859",
    "scrolled": true
   },
   "outputs": [
    {
     "name": "stdout",
     "output_type": "stream",
     "text": [
      "91554\n",
      "7505\n",
      "[('철강', 1607), ('포코', 1354), ('했다', 970), ('탄소', 930), ('업', 710), ('하는', 690), ('해', 662), ('산업', 659), ('다', 616), ('전', 601), ('할', 592), ('수', 575), ('소재', 485), ('생산', 483), ('세계', 476), ('술', 475), ('제품', 449), ('제철', 421), ('배출', 413), ('협회', 395)]\n"
     ]
    }
   ],
   "source": [
    "tokens_ko = t.morphs(news_text)\n",
    "ko = nltk.Text(tokens_ko)\n",
    "\n",
    "print(len(ko.tokens))          # 토큰 전체 개수\n",
    "print(len(set(ko.tokens)))     # 토큰 unique 개수\n",
    "print(ko.vocab().most_common(20))"
   ]
  },
  {
   "cell_type": "code",
   "execution_count": null,
   "id": "49afe78b",
   "metadata": {
    "id": "49afe78b"
   },
   "outputs": [],
   "source": [
    "stop_words = ['\\n',\"'\",'…',',','[',']','(',')','\"','주','에','코스닥','특징','종목','·','장','코스피','증시','-','적',\\\n",
    "              '도','기술','분석','마감','‘','`','요약','가','’','의','이','오전','★','은','“','대','”','한','B','로',\\\n",
    "              '?','3','선','A','오후','는','5','!','\"…','상','들','1','만에','제','2','…\"','20','일','서','명',\"'…\",'기',\\\n",
    "              '···','10','소','등','으로','자','전','률','미','...','50','세','시','안','폭',\"…'\",'만','9','VI','까지',\\\n",
    "              '눈','더','e','량','고','인','52','성','띄네','1%','부터','다','감','을','지','4','에도','수','7','것','째',\\\n",
    "             '체크','기','···','중','계','관련','왜','1억원','총','내','과','젠','또','연','엔','차','굿모닝','할','8','.',\\\n",
    "             '보다','새','주간','전망','추천','이슈','플러스','사','개월','때','..','임','속','’…','G','나','개','원','에서',\\\n",
    "             '하는','이유','달','→','권','?…','단독','간','배','30','K','저','와','하','/','1조','6','두','해야','분','형',\\\n",
    "             '황','공','&','앞두고','보','문','이번','익','X','1억',']\"','치','산','를','오','해','S','우리','그','된','준','▶',\\\n",
    "             '건','재','반','라','10년','초','3분','월','신','p','급','조','줄','경','했다','구','진','이어','올','발','vs','강',\\\n",
    "             '국','9억','1년','난','판','면','\"(','`…','살','아','인데','번','텍','팜','8월','Q','메','2년','점','하고','10월',\\\n",
    "             'D','비','됐다','채',\"]'\",'보니','손','확','종','동','팔','40','타','~','9월','2100','30%','땐','말','한다','요',\\\n",
    "             \"',\",'스','…`','단','16','길','12','3억','회','될까','호','용','2조','번째','일까','듯','최','하다','이다','되다']"
   ]
  },
  {
   "cell_type": "markdown",
   "id": "c9f62574",
   "metadata": {
    "id": "c9f62574"
   },
   "source": [
    "- 빈도수가 높은 단어들 출력"
   ]
  },
  {
   "cell_type": "code",
   "execution_count": null,
   "id": "6c89b0c5",
   "metadata": {
    "id": "6c89b0c5",
    "outputId": "ccb94ec7-5356-4698-aaff-3fdd14ac7620"
   },
   "outputs": [
    {
     "data": {
      "image/png": "[encoded data removed]",
      "text/plain": [
       "<Figure size 1500x600 with 1 Axes>"
      ]
     },
     "metadata": {},
     "output_type": "display_data"
    }
   ],
   "source": [
    "tokens_ko = [each_word for each_word in tokens_ko\n",
    "           if each_word not in stop_words]\n",
    "\n",
    "ko = nltk.Text(tokens_ko)\n",
    "\n",
    "# 그래프에서 한글 폰트가 깨질 경우 실행\n",
    "# from matplotlib import font_manager, rc\n",
    "# font_name = font_manager.FontProperties(fname='c:/Windows/Fonts/malgun.ttf').get_name()\n",
    "# rc('font', family=font_name)\n",
    "\n",
    "plt.figure(figsize=(15,6))\n",
    "ko.plot(50)\n",
    "plt.show()"
   ]
  },
  {
   "cell_type": "markdown",
   "id": "a604e5b7",
   "metadata": {
    "id": "a604e5b7"
   },
   "source": [
    "- WordCloud"
   ]
  },
  {
   "cell_type": "code",
   "execution_count": null,
   "id": "f5c058e6",
   "metadata": {
    "id": "f5c058e6",
    "outputId": "70bb6c4f-dfa6-4780-db68-1378200b6f79",
    "scrolled": false
   },
   "outputs": [
    {
     "data": {
      "image/png": "[encoded data removed]",
      "text/plain": [
       "<Figure size 800x800 with 1 Axes>"
      ]
     },
     "metadata": {},
     "output_type": "display_data"
    }
   ],
   "source": [
    "data = ko.vocab().most_common(300)\n",
    "wordcloud = WordCloud(font_path='c:/Windows/Fonts/malgun.ttf',\n",
    "                     relative_scaling=0.2,\n",
    "                     background_color='white').generate_from_frequencies(dict(data))\n",
    "\n",
    "plt.figure(figsize=(8,8))\n",
    "plt.imshow(wordcloud)\n",
    "plt.axis('off')\n",
    "plt.show()"
   ]
  },
  {
   "cell_type": "markdown",
   "id": "a07587fe",
   "metadata": {
    "id": "a07587fe"
   },
   "source": [
    "### 3.2 산업별 월별 감성지수"
   ]
  },
  {
   "cell_type": "markdown",
   "id": "570258e9",
   "metadata": {
    "id": "570258e9"
   },
   "source": [
    "### 철강산업 전망지수"
   ]
  },
  {
   "cell_type": "markdown",
   "id": "8955818b",
   "metadata": {
    "id": "8955818b"
   },
   "source": [
    "- 일자별로 데이터프레임 정리"
   ]
  },
  {
   "cell_type": "code",
   "execution_count": null,
   "id": "face7d35",
   "metadata": {
    "id": "face7d35"
   },
   "outputs": [],
   "source": [
    "# 철강산업_preprocess = pd.read_csv('철강산업_preprocess.csv',encoding='utf-8-sig')"
   ]
  },
  {
   "cell_type": "code",
   "execution_count": null,
   "id": "b9be4445",
   "metadata": {
    "id": "b9be4445"
   },
   "outputs": [],
   "source": [
    "# #2023년 5월 뉴스\n",
    "# 철강산업_202305 = 철강산업_preprocess[철강산업_preprocess['pub_date'].str.contains('May 2023')].reset_index(drop=True)\n",
    "# 철강산업_202305.to_csv('철강산업_202305.csv', index=False, encoding='utf-8-sig')"
   ]
  },
  {
   "cell_type": "code",
   "execution_count": null,
   "id": "b6e2f46d",
   "metadata": {
    "id": "b6e2f46d",
    "scrolled": true
   },
   "outputs": [],
   "source": [
    "# #2023년 4월 뉴스\n",
    "# 철강산업_202304 = 철강산업_preprocess[철강산업_preprocess['pub_date'].str.contains('Apr 2023')].reset_index(drop=True)\n",
    "# 철강산업_202304.to_csv('철강산업_202304.csv', index=False, encoding='utf-8-sig')"
   ]
  },
  {
   "cell_type": "code",
   "execution_count": null,
   "id": "f36f20f3",
   "metadata": {
    "id": "f36f20f3"
   },
   "outputs": [],
   "source": [
    "# #2023년 3월 뉴스\n",
    "# 철강산업_202303 = 철강산업_preprocess[철강산업_preprocess['pub_date'].str.contains('Mar 2023')].reset_index(drop=True)\n",
    "# 철강산업_202303.to_csv('철강산업_202303.csv', index=False, encoding='utf-8-sig')"
   ]
  },
  {
   "cell_type": "code",
   "execution_count": null,
   "id": "006c6974",
   "metadata": {
    "id": "006c6974"
   },
   "outputs": [],
   "source": [
    "# #2023년 2월 뉴스\n",
    "# 철강산업_202302 = 철강산업_preprocess[철강산업_preprocess['pub_date'].str.contains('Feb')].reset_index(drop=True)\n",
    "# 철강산업_202302.to_csv('철강산업_202302.csv', index=False, encoding='utf-8-sig')"
   ]
  },
  {
   "cell_type": "code",
   "execution_count": null,
   "id": "3faf6506",
   "metadata": {
    "id": "3faf6506"
   },
   "outputs": [],
   "source": [
    "# #2023년 1월 뉴스\n",
    "# 철강산업_202301 = 철강산업_preprocess[철강산업_preprocess['pub_date'].str.contains('Jan')].reset_index(drop=True)\n",
    "# 철강산업_202301.to_csv('철강산업_202301.csv', index=False, encoding='utf-8-sig')"
   ]
  },
  {
   "cell_type": "code",
   "execution_count": null,
   "id": "625de026",
   "metadata": {
    "id": "625de026"
   },
   "outputs": [],
   "source": [
    "# #2022년 12월 뉴스\n",
    "# 철강산업_202212 = 철강산업_preprocess[철강산업_preprocess['pub_date'].str.contains('Dec')].reset_index(drop=True)\n",
    "# 철강산업_202212.to_csv('철강산업_202212.csv', index=False, encoding='utf-8-sig')"
   ]
  },
  {
   "cell_type": "code",
   "execution_count": null,
   "id": "733393a7",
   "metadata": {
    "id": "733393a7"
   },
   "outputs": [],
   "source": [
    "# #2022년 11월 뉴스\n",
    "# 철강산업_202211 = 철강산업_preprocess[철강산업_preprocess['pub_date'].str.contains('Nov')].reset_index(drop=True)\n",
    "# 철강산업_202211.to_csv('철강산업_202211.csv', index=False, encoding='utf-8-sig')"
   ]
  },
  {
   "cell_type": "code",
   "execution_count": null,
   "id": "be979029",
   "metadata": {
    "id": "be979029"
   },
   "outputs": [],
   "source": [
    "# #2022년 10월 뉴스\n",
    "# 철강산업_202210 = 철강산업_preprocess[철강산업_preprocess['pub_date'].str.contains('Oct')].reset_index(drop=True)\n",
    "# 철강산업_202210.to_csv('철강산업_202210.csv', index=False, encoding='utf-8-sig')"
   ]
  },
  {
   "cell_type": "code",
   "execution_count": null,
   "id": "29d2c8f4",
   "metadata": {
    "id": "29d2c8f4"
   },
   "outputs": [],
   "source": [
    "# #2022년 9월 뉴스\n",
    "# 철강산업_202209 = 철강산업_preprocess[철강산업_preprocess['pub_date'].str.contains('Sep')].reset_index(drop=True)\n",
    "# 철강산업_202209.to_csv('철강산업_202209.csv', index=False, encoding='utf-8-sig')"
   ]
  },
  {
   "cell_type": "code",
   "execution_count": null,
   "id": "4274edf0",
   "metadata": {
    "id": "4274edf0"
   },
   "outputs": [],
   "source": [
    "# #2022년 8월 뉴스\n",
    "# 철강산업_202208 = 철강산업_preprocess[철강산업_preprocess['pub_date'].str.contains('Agu')].reset_index(drop=True)\n",
    "# 철강산업_202208.to_csv('철강산업_202208.csv', index=False, encoding='utf-8-sig')"
   ]
  },
  {
   "cell_type": "code",
   "execution_count": null,
   "id": "dc8a7c37",
   "metadata": {
    "id": "dc8a7c37"
   },
   "outputs": [],
   "source": [
    "# #2022년 7월 뉴스\n",
    "# 철강산업_202207 = 철강산업_preprocess[철강산업_preprocess['pub_date'].str.contains('Jul')].reset_index(drop=True)\n",
    "# 철강산업_202207.to_csv('철강산업_202207.csv', index=False, encoding='utf-8-sig')"
   ]
  },
  {
   "cell_type": "code",
   "execution_count": null,
   "id": "8d546bf8",
   "metadata": {
    "id": "8d546bf8"
   },
   "outputs": [],
   "source": [
    "# #2022년 6월 뉴스\n",
    "# 철강산업_202206 = 철강산업_preprocess[철강산업_preprocess['pub_date'].str.contains('Jun')].reset_index(drop=True)\n",
    "# 철강산업_202206.to_csv('철강산업_202206.csv', index=False, encoding='utf-8-sig')"
   ]
  },
  {
   "cell_type": "code",
   "execution_count": null,
   "id": "fb568a2f",
   "metadata": {
    "id": "fb568a2f"
   },
   "outputs": [],
   "source": [
    "# #2022년 5월 뉴스\n",
    "# 철강산업_202206 = 철강산업_preprocess[철강산업_preprocess['pub_date'].str.contains('May')].reset_index(drop=True)\n",
    "# 철강산업_202206.to_csv('철강산업_202205.csv', index=False, encoding='utf-8-sig')"
   ]
  },
  {
   "cell_type": "markdown",
   "id": "df5ddfbc",
   "metadata": {
    "id": "df5ddfbc"
   },
   "source": [
    "- 뉴스 본문 감성지수 추출"
   ]
  },
  {
   "cell_type": "code",
   "execution_count": null,
   "id": "vGneDsaqyn7c",
   "metadata": {
    "id": "vGneDsaqyn7c"
   },
   "outputs": [],
   "source": [
    "#!pip install transformers\n",
    "import pandas as pd\n",
    "import numpy as np\n",
    "import re\n",
    "import os\n",
    "from transformers import pipeline"
   ]
  },
  {
   "cell_type": "markdown",
   "id": "-MBmbZFcGb8X",
   "metadata": {
    "id": "-MBmbZFcGb8X"
   },
   "source": [
    "\n",
    "\n",
    "*   철강 산업 월별 뉴스데이터 링크:\n",
    "*   https://drive.google.com/drive/folders/1YQ6zU-zavVKyKqzrAL53hwSTc9eDwPcu\n",
    "\n"
   ]
  },
  {
   "cell_type": "code",
   "execution_count": null,
   "id": "d4WJZR2bRBGl",
   "metadata": {
    "id": "d4WJZR2bRBGl"
   },
   "outputs": [],
   "source": [
    "class IndustryAnalysis3: #IndustryAnalysis3 클래스 정의\n",
    "\n",
    "    def __init__(self, industry, time=''):\n",
    "        # 클래스 생성자, industry와 time을 인스턴스 변수로 저장\n",
    "        self.industry = str(industry) # 산업을 문자열로 변환하여 저장\n",
    "        self.time = time # 시간 정보 저장\n",
    "\n",
    "    def path(self):\n",
    "        # 데이터 파일 경로를 반환하는 메서드\n",
    "        if self.time == 'all':\n",
    "            # time이 'all'이면 모든 파일 경로를 가져옴\n",
    "            path = ['/content/drive/MyDrive/데이콘_신한ai/수집데이터/월별데이터/'+ i for i in os.listdir('/content/drive/MyDrive/데이콘_신한ai/수집데이터/월별데이터')]\n",
    "            # 해당 디렉토리 내 파일들의 경로를 리스트로 저장\n",
    "            path = path[::-1] # 역순으로 정렬\n",
    "        else:\n",
    "            # time이 'all'이 아니라면 특정 파일 경로로 저장\n",
    "            path = [f'/content/drive/MyDrive/데이콘_신한ai/수집데이터/월별데이터/{self.industry}산업_{self.time}.csv']\n",
    "            # industry와 time 정보를 사용하여 특정 파일 경로 생성\n",
    "        return path # 파일 경로 리스트 반환\n",
    "\n",
    "\n",
    "    def clean(self, path):\n",
    "        # 데이터를 정리하는 메서드\n",
    "        ind = pd.read_csv(path) # 주어진 경로의 CSV 파일을 읽음\n",
    "        ind_cont = ind['content'] # 'content' 열의 데이터 가져옴\n",
    "        clean_li = [] # 정리된 데이터를 저장할 메서드\n",
    "\n",
    "        pattern = '[^0-9ㄱ-ㅎㅏ-ㅣ가-힣\\s]+|\\xa0|\\t\\t\\t'\n",
    "        # 정규식 패턴, 특수 문자 및 공백 문자 제거용(숫자, 문자가 아닌 것)\n",
    "        \n",
    "        for i in range(len(ind_cont)):\n",
    "            # 모든 데이터에 대해 반복\n",
    "            result = re.sub(pattern, '', ind_cont.iloc[i].replace('\\n', ''))\n",
    "            # 패턴에 해당하지 않는 문자를 제거하고, 줄바꿈 문자를 공백으로 대체하여 데이터 정리\n",
    "            clean_li.append(result) # 정리된 데이터를 리스트에 추가\n",
    "        \n",
    "        return clean_li # 정리된 데이터 리스트 반환\n",
    "\n",
    "\n",
    "    def piece_freq(self, con):\n",
    "        # 데이터 조각 중에서 industry 빈도가 가장 높은 조각을 찾는 메서드\n",
    "        pieces = [con[i*800:(i+1)*800] for i in range(int(len(con)/800)+1)]\n",
    "        # 데이터를 800자씩 조각으로 나누어 리스트에 저장\n",
    "        freq = [piece.count(self.industry) for piece in pieces]\n",
    "        # 각 조각에서 industry의 등장 횟수를 계산하여 리스트에 저장\n",
    "        idx = freq.index(max(freq)) # 가장 높은 빈도의 인덱스 찾기\n",
    "\n",
    "        return pieces[idx] # 가장 높은 빈도의 조각 반환\n",
    "\n",
    "\n",
    "    def score(self, all_contents):  # LABEL_0: 긍정, LABEL_1: 부정, LABEL_2: 중립\n",
    "        # 주어진 내용들에 대해 감정 점수를 계산하는 메서드\n",
    "\n",
    "        pipe = pipeline(model='FINDA-FIT/KLUE-ROBERTA_LARGE_FALSE_KOFINSA_FULL', return_all_scores = True)\n",
    "        # 감정 분석을 위한 모델 파이프라인 생성\n",
    "        res = 0 # 결과 변수 초기화\n",
    "        for content in all_contents:\n",
    "            # 주어진 내용에 대해 반복\n",
    "            result = pipe(content)\n",
    "            # 모델로 감성 분석 수행\n",
    "            score_sum = result[0][0]['score'] - result[0][1]['score']\n",
    "            # 긍정 점수와 부정 점수의 차이 계산\n",
    "            res += score_sum # 차이를 결과 변수에 누적\n",
    "\n",
    "        return res/len(all_contents) # 모든 내용에 대한 평균 감성 점수 반환\n",
    "\n",
    "\n",
    "    def process(self): \n",
    "        # 전체 처리 과정을 수행하는 메서드\n",
    "        month_list = self.path()\n",
    "        # 파일 경로 리스트를 가져옴\n",
    "        contents_allfiles_lili = []\n",
    "        # 모든 내용을 저장할 리스트\n",
    "        scorelist = []\n",
    "        # 감정 점수를 저장할 리스트\n",
    "        \n",
    "        for month in month_list:\n",
    "            # 각 파일에 대해 반복\n",
    "            conts_month = self.clean(month)\n",
    "            # 파일 내용 정리\n",
    "            pieces_freq_month = [self.piece_freq(cont) for cont in conts_month]\n",
    "            # 파일 내용을 작은 조각으로 나누고, 빈도가 가장 높은 조각 찾기\n",
    "            contents_allfiles_lili.append(pieces_freq_month)\n",
    "            # 각 파일의 작은 조각들으르 리스트에 저장\n",
    "\n",
    "        for onemonth_conts in contents_allfiles_lili:\n",
    "            # 각 파일의 작은 조각에 대해 반복\n",
    "            scorelist.append(self.score(onemonth_conts))\n",
    "            # 작은 조각들에 대해 감정 점수 계산하여 리스트에 저장\n",
    "        \n",
    "        return scorelist # 모든 파일에 대한 감정 점수 리스트 반환\n",
    "  "
   ]
  },
  {
   "cell_type": "code",
   "execution_count": null,
   "id": "cdjkCTuZRBNW",
   "metadata": {
    "id": "cdjkCTuZRBNW"
   },
   "outputs": [],
   "source": [
    "steel_2211 = IndustryAnalysis3('철강', 202211)\n",
    "steel_all = IndustryAnalysis3('철강', 'all')\n",
    "steel_all.process()  "
   ]
  },
  {
   "cell_type": "markdown",
   "id": "c4524863",
   "metadata": {
    "id": "c4524863"
   },
   "source": [
    "- 철강산업 전망지수"
   ]
  },
  {
   "cell_type": "code",
   "execution_count": null,
   "id": "8s3Wdo8CRBSO",
   "metadata": {
    "id": "8s3Wdo8CRBSO"
   },
   "outputs": [],
   "source": [
    "steel_index = [-0.10968061654835287,\n",
    " 0.009143687107346275,\n",
    " -0.4637190233916044,\n",
    " -0.02623266540467739,\n",
    " -0.3111803074263864,\n",
    " 0.4757307063003904,\n",
    " -0.14868782890530732,\n",
    " -0.11620132656904256,\n",
    " -0.04204485414084047,\n",
    " -0.02593067650284086,\n",
    " -0.06947903394839673,\n",
    " 0.3879051092824265,\n",
    " 0.4020381139448056]"
   ]
  },
  {
   "cell_type": "code",
   "execution_count": null,
   "id": "bXJ0bLmaRYkv",
   "metadata": {
    "colab": {
     "base_uri": "https://localhost:8080/",
     "height": 490
    },
    "executionInfo": {
     "elapsed": 1476,
     "status": "ok",
     "timestamp": 1684045244444,
     "user": {
      "displayName": "박성은",
      "userId": "00460345980072705113"
     },
     "user_tz": -540
    },
    "id": "bXJ0bLmaRYkv",
    "outputId": "da9a34e7-49c3-47a0-f5de-f8e9b922826a"
   },
   "outputs": [
    {
     "data": {
      "text/plain": [
       "<Axes: title={'center': '1-year future index for the steel industry'}, xlabel='Month', ylabel='future index'>"
      ]
     },
     "execution_count": 54,
     "metadata": {},
     "output_type": "execute_result"
    },
    {
     "data": {
      "image/png": "[encoded data removed]",
      "text/plain": [
       "<Figure size 640x480 with 1 Axes>"
      ]
     },
     "metadata": {},
     "output_type": "display_data"
    }
   ],
   "source": [
    "import pandas as pd\n",
    "import seaborn as sns\n",
    "import matplotlib.pyplot as plt\n",
    "import matplotlib.font_manager as fm\n",
    "# x축과 y축의 라벨을 설정합니다.\n",
    "plt.xlabel('Month')\n",
    "plt.ylabel('future index')\n",
    "\n",
    "# 그래프의 제목을 설정합니다.\n",
    "plt.title('1-year future index for the steel industry')\n",
    "months = list(map(str,[5,6,7,8,9,10,11,12,1,2,3,4,5]))\n",
    "df_index = pd.DataFrame({'months': months, 'index_months': steel_index})\n",
    "\n",
    "sns.lineplot(steel_index, x=months, y=steel_index)"
   ]
  },
  {
   "cell_type": "code",
   "execution_count": null,
   "id": "6Qu8uhYhre0n",
   "metadata": {
    "colab": {
     "base_uri": "https://localhost:8080/",
     "height": 457
    },
    "executionInfo": {
     "elapsed": 34,
     "status": "ok",
     "timestamp": 1684045244447,
     "user": {
      "displayName": "박성은",
      "userId": "00460345980072705113"
     },
     "user_tz": -540
    },
    "id": "6Qu8uhYhre0n",
    "outputId": "5d3d7827-296b-4be4-c30c-938f10fc2139"
   },
   "outputs": [
    {
     "data": {
      "text/html": [
       "\n",
       "  <div id=\"df-1bac52d6-a12b-47ee-9caf-6d5f113cc69d\">\n",
       "    <div class=\"colab-df-container\">\n",
       "      <div>\n",
       "<style scoped>\n",
       "    .dataframe tbody tr th:only-of-type {\n",
       "        vertical-align: middle;\n",
       "    }\n",
       "\n",
       "    .dataframe tbody tr th {\n",
       "        vertical-align: top;\n",
       "    }\n",
       "\n",
       "    .dataframe thead th {\n",
       "        text-align: right;\n",
       "    }\n",
       "</style>\n",
       "<table border=\"1\" class=\"dataframe\">\n",
       "  <thead>\n",
       "    <tr style=\"text-align: right;\">\n",
       "      <th></th>\n",
       "      <th>months</th>\n",
       "      <th>index_months</th>\n",
       "    </tr>\n",
       "  </thead>\n",
       "  <tbody>\n",
       "    <tr>\n",
       "      <th>0</th>\n",
       "      <td>5</td>\n",
       "      <td>-10.97%</td>\n",
       "    </tr>\n",
       "    <tr>\n",
       "      <th>1</th>\n",
       "      <td>6</td>\n",
       "      <td>0.91%</td>\n",
       "    </tr>\n",
       "    <tr>\n",
       "      <th>2</th>\n",
       "      <td>7</td>\n",
       "      <td>-46.37%</td>\n",
       "    </tr>\n",
       "    <tr>\n",
       "      <th>3</th>\n",
       "      <td>8</td>\n",
       "      <td>-2.62%</td>\n",
       "    </tr>\n",
       "    <tr>\n",
       "      <th>4</th>\n",
       "      <td>9</td>\n",
       "      <td>-31.12%</td>\n",
       "    </tr>\n",
       "    <tr>\n",
       "      <th>5</th>\n",
       "      <td>10</td>\n",
       "      <td>47.57%</td>\n",
       "    </tr>\n",
       "    <tr>\n",
       "      <th>6</th>\n",
       "      <td>11</td>\n",
       "      <td>-14.87%</td>\n",
       "    </tr>\n",
       "    <tr>\n",
       "      <th>7</th>\n",
       "      <td>12</td>\n",
       "      <td>-11.62%</td>\n",
       "    </tr>\n",
       "    <tr>\n",
       "      <th>8</th>\n",
       "      <td>1</td>\n",
       "      <td>-4.20%</td>\n",
       "    </tr>\n",
       "    <tr>\n",
       "      <th>9</th>\n",
       "      <td>2</td>\n",
       "      <td>-2.59%</td>\n",
       "    </tr>\n",
       "    <tr>\n",
       "      <th>10</th>\n",
       "      <td>3</td>\n",
       "      <td>-6.95%</td>\n",
       "    </tr>\n",
       "    <tr>\n",
       "      <th>11</th>\n",
       "      <td>4</td>\n",
       "      <td>38.79%</td>\n",
       "    </tr>\n",
       "    <tr>\n",
       "      <th>12</th>\n",
       "      <td>5</td>\n",
       "      <td>40.20%</td>\n",
       "    </tr>\n",
       "  </tbody>\n",
       "</table>\n",
       "</div>\n",
       "      <button class=\"colab-df-convert\" onclick=\"convertToInteractive('df-1bac52d6-a12b-47ee-9caf-6d5f113cc69d')\"\n",
       "              title=\"Convert this dataframe to an interactive table.\"\n",
       "              style=\"display:none;\">\n",
       "        \n",
       "  <svg xmlns=\"http://www.w3.org/2000/svg\" height=\"24px\"viewBox=\"0 0 24 24\"\n",
       "       width=\"24px\">\n",
       "    <path d=\"M0 0h24v24H0V0z\" fill=\"none\"/>\n",
       "    <path d=\"M18.56 5.44l.94 2.06.94-2.06 2.06-.94-2.06-.94-.94-2.06-.94 2.06-2.06.94zm-11 1L8.5 8.5l.94-2.06 2.06-.94-2.06-.94L8.5 2.5l-.94 2.06-2.06.94zm10 10l.94 2.06.94-2.06 2.06-.94-2.06-.94-.94-2.06-.94 2.06-2.06.94z\"/><path d=\"M17.41 7.96l-1.37-1.37c-.4-.4-.92-.59-1.43-.59-.52 0-1.04.2-1.43.59L10.3 9.45l-7.72 7.72c-.78.78-.78 2.05 0 2.83L4 21.41c.39.39.9.59 1.41.59.51 0 1.02-.2 1.41-.59l7.78-7.78 2.81-2.81c.8-.78.8-2.07 0-2.86zM5.41 20L4 18.59l7.72-7.72 1.47 1.35L5.41 20z\"/>\n",
       "  </svg>\n",
       "      </button>\n",
       "      \n",
       "  <style>\n",
       "    .colab-df-container {\n",
       "      display:flex;\n",
       "      flex-wrap:wrap;\n",
       "      gap: 12px;\n",
       "    }\n",
       "\n",
       "    .colab-df-convert {\n",
       "      background-color: #E8F0FE;\n",
       "      border: none;\n",
       "      border-radius: 50%;\n",
       "      cursor: pointer;\n",
       "      display: none;\n",
       "      fill: #1967D2;\n",
       "      height: 32px;\n",
       "      padding: 0 0 0 0;\n",
       "      width: 32px;\n",
       "    }\n",
       "\n",
       "    .colab-df-convert:hover {\n",
       "      background-color: #E2EBFA;\n",
       "      box-shadow: 0px 1px 2px rgba(60, 64, 67, 0.3), 0px 1px 3px 1px rgba(60, 64, 67, 0.15);\n",
       "      fill: #174EA6;\n",
       "    }\n",
       "\n",
       "    [theme=dark] .colab-df-convert {\n",
       "      background-color: #3B4455;\n",
       "      fill: #D2E3FC;\n",
       "    }\n",
       "\n",
       "    [theme=dark] .colab-df-convert:hover {\n",
       "      background-color: #434B5C;\n",
       "      box-shadow: 0px 1px 3px 1px rgba(0, 0, 0, 0.15);\n",
       "      filter: drop-shadow(0px 1px 2px rgba(0, 0, 0, 0.3));\n",
       "      fill: #FFFFFF;\n",
       "    }\n",
       "  </style>\n",
       "\n",
       "      <script>\n",
       "        const buttonEl =\n",
       "          document.querySelector('#df-1bac52d6-a12b-47ee-9caf-6d5f113cc69d button.colab-df-convert');\n",
       "        buttonEl.style.display =\n",
       "          google.colab.kernel.accessAllowed ? 'block' : 'none';\n",
       "\n",
       "        async function convertToInteractive(key) {\n",
       "          const element = document.querySelector('#df-1bac52d6-a12b-47ee-9caf-6d5f113cc69d');\n",
       "          const dataTable =\n",
       "            await google.colab.kernel.invokeFunction('convertToInteractive',\n",
       "                                                     [key], {});\n",
       "          if (!dataTable) return;\n",
       "\n",
       "          const docLinkHtml = 'Like what you see? Visit the ' +\n",
       "            '<a target=\"_blank\" href=https://colab.research.google.com/notebooks/data_table.ipynb>data table notebook</a>'\n",
       "            + ' to learn more about interactive tables.';\n",
       "          element.innerHTML = '';\n",
       "          dataTable['output_type'] = 'display_data';\n",
       "          await google.colab.output.renderOutput(dataTable, element);\n",
       "          const docLink = document.createElement('div');\n",
       "          docLink.innerHTML = docLinkHtml;\n",
       "          element.appendChild(docLink);\n",
       "        }\n",
       "      </script>\n",
       "    </div>\n",
       "  </div>\n",
       "  "
      ],
      "text/plain": [
       "   months  index_months\n",
       "0       5       -10.97%\n",
       "1       6         0.91%\n",
       "2       7       -46.37%\n",
       "3       8        -2.62%\n",
       "4       9       -31.12%\n",
       "5      10        47.57%\n",
       "6      11       -14.87%\n",
       "7      12       -11.62%\n",
       "8       1        -4.20%\n",
       "9       2        -2.59%\n",
       "10      3        -6.95%\n",
       "11      4        38.79%\n",
       "12      5        40.20%"
      ]
     },
     "execution_count": 55,
     "metadata": {},
     "output_type": "execute_result"
    }
   ],
   "source": [
    "df_index"
   ]
  },
  {
   "cell_type": "markdown",
   "id": "N86KCa6cgejO",
   "metadata": {
    "id": "N86KCa6cgejO"
   },
   "source": [
    "- 산업별 월별 산업지수"
   ]
  },
  {
   "cell_type": "code",
   "execution_count": null,
   "id": "11b14a18",
   "metadata": {
    "colab": {
     "base_uri": "https://localhost:8080/",
     "height": 269
    },
    "executionInfo": {
     "elapsed": 1836,
     "status": "ok",
     "timestamp": 1684038958365,
     "user": {
      "displayName": "함문정",
      "userId": "00271247561783781584"
     },
     "user_tz": -540
    },
    "id": "11b14a18",
    "outputId": "6662988e-ca9a-4a73-fac8-7924202d8e21"
   },
   "outputs": [
    {
     "data": {
      "text/html": [
       "\n",
       "  <div id=\"df-6d4c248b-dd7d-4a7f-802d-29580523b9ff\">\n",
       "    <div class=\"colab-df-container\">\n",
       "      <div>\n",
       "<style scoped>\n",
       "    .dataframe tbody tr th:only-of-type {\n",
       "        vertical-align: middle;\n",
       "    }\n",
       "\n",
       "    .dataframe tbody tr th {\n",
       "        vertical-align: top;\n",
       "    }\n",
       "\n",
       "    .dataframe thead th {\n",
       "        text-align: right;\n",
       "    }\n",
       "</style>\n",
       "<table border=\"1\" class=\"dataframe\">\n",
       "  <thead>\n",
       "    <tr style=\"text-align: right;\">\n",
       "      <th></th>\n",
       "      <th>Date</th>\n",
       "      <th>Sector</th>\n",
       "      <th>산업지수</th>\n",
       "    </tr>\n",
       "  </thead>\n",
       "  <tbody>\n",
       "    <tr>\n",
       "      <th>0</th>\n",
       "      <td>May 2023</td>\n",
       "      <td>철강</td>\n",
       "      <td>0.9</td>\n",
       "    </tr>\n",
       "    <tr>\n",
       "      <th>1</th>\n",
       "      <td>May 2023</td>\n",
       "      <td>IT 서비스</td>\n",
       "      <td>0.6</td>\n",
       "    </tr>\n",
       "    <tr>\n",
       "      <th>2</th>\n",
       "      <td>May 2023</td>\n",
       "      <td>해운사</td>\n",
       "      <td>0.4</td>\n",
       "    </tr>\n",
       "    <tr>\n",
       "      <th>3</th>\n",
       "      <td>May 2023</td>\n",
       "      <td>선박</td>\n",
       "      <td>0.1</td>\n",
       "    </tr>\n",
       "    <tr>\n",
       "      <th>4</th>\n",
       "      <td>May 2023</td>\n",
       "      <td>건설</td>\n",
       "      <td>-0.8</td>\n",
       "    </tr>\n",
       "    <tr>\n",
       "      <th>5</th>\n",
       "      <td>May 2023</td>\n",
       "      <td>전기</td>\n",
       "      <td>-0.3</td>\n",
       "    </tr>\n",
       "    <tr>\n",
       "      <th>6</th>\n",
       "      <td>May 2023</td>\n",
       "      <td>의복</td>\n",
       "      <td>-0.1</td>\n",
       "    </tr>\n",
       "  </tbody>\n",
       "</table>\n",
       "</div>\n",
       "      <button class=\"colab-df-convert\" onclick=\"convertToInteractive('df-6d4c248b-dd7d-4a7f-802d-29580523b9ff')\"\n",
       "              title=\"Convert this dataframe to an interactive table.\"\n",
       "              style=\"display:none;\">\n",
       "        \n",
       "  <svg xmlns=\"http://www.w3.org/2000/svg\" height=\"24px\"viewBox=\"0 0 24 24\"\n",
       "       width=\"24px\">\n",
       "    <path d=\"M0 0h24v24H0V0z\" fill=\"none\"/>\n",
       "    <path d=\"M18.56 5.44l.94 2.06.94-2.06 2.06-.94-2.06-.94-.94-2.06-.94 2.06-2.06.94zm-11 1L8.5 8.5l.94-2.06 2.06-.94-2.06-.94L8.5 2.5l-.94 2.06-2.06.94zm10 10l.94 2.06.94-2.06 2.06-.94-2.06-.94-.94-2.06-.94 2.06-2.06.94z\"/><path d=\"M17.41 7.96l-1.37-1.37c-.4-.4-.92-.59-1.43-.59-.52 0-1.04.2-1.43.59L10.3 9.45l-7.72 7.72c-.78.78-.78 2.05 0 2.83L4 21.41c.39.39.9.59 1.41.59.51 0 1.02-.2 1.41-.59l7.78-7.78 2.81-2.81c.8-.78.8-2.07 0-2.86zM5.41 20L4 18.59l7.72-7.72 1.47 1.35L5.41 20z\"/>\n",
       "  </svg>\n",
       "      </button>\n",
       "      \n",
       "  <style>\n",
       "    .colab-df-container {\n",
       "      display:flex;\n",
       "      flex-wrap:wrap;\n",
       "      gap: 12px;\n",
       "    }\n",
       "\n",
       "    .colab-df-convert {\n",
       "      background-color: #E8F0FE;\n",
       "      border: none;\n",
       "      border-radius: 50%;\n",
       "      cursor: pointer;\n",
       "      display: none;\n",
       "      fill: #1967D2;\n",
       "      height: 32px;\n",
       "      padding: 0 0 0 0;\n",
       "      width: 32px;\n",
       "    }\n",
       "\n",
       "    .colab-df-convert:hover {\n",
       "      background-color: #E2EBFA;\n",
       "      box-shadow: 0px 1px 2px rgba(60, 64, 67, 0.3), 0px 1px 3px 1px rgba(60, 64, 67, 0.15);\n",
       "      fill: #174EA6;\n",
       "    }\n",
       "\n",
       "    [theme=dark] .colab-df-convert {\n",
       "      background-color: #3B4455;\n",
       "      fill: #D2E3FC;\n",
       "    }\n",
       "\n",
       "    [theme=dark] .colab-df-convert:hover {\n",
       "      background-color: #434B5C;\n",
       "      box-shadow: 0px 1px 3px 1px rgba(0, 0, 0, 0.15);\n",
       "      filter: drop-shadow(0px 1px 2px rgba(0, 0, 0, 0.3));\n",
       "      fill: #FFFFFF;\n",
       "    }\n",
       "  </style>\n",
       "\n",
       "      <script>\n",
       "        const buttonEl =\n",
       "          document.querySelector('#df-6d4c248b-dd7d-4a7f-802d-29580523b9ff button.colab-df-convert');\n",
       "        buttonEl.style.display =\n",
       "          google.colab.kernel.accessAllowed ? 'block' : 'none';\n",
       "\n",
       "        async function convertToInteractive(key) {\n",
       "          const element = document.querySelector('#df-6d4c248b-dd7d-4a7f-802d-29580523b9ff');\n",
       "          const dataTable =\n",
       "            await google.colab.kernel.invokeFunction('convertToInteractive',\n",
       "                                                     [key], {});\n",
       "          if (!dataTable) return;\n",
       "\n",
       "          const docLinkHtml = 'Like what you see? Visit the ' +\n",
       "            '<a target=\"_blank\" href=https://colab.research.google.com/notebooks/data_table.ipynb>data table notebook</a>'\n",
       "            + ' to learn more about interactive tables.';\n",
       "          element.innerHTML = '';\n",
       "          dataTable['output_type'] = 'display_data';\n",
       "          await google.colab.output.renderOutput(dataTable, element);\n",
       "          const docLink = document.createElement('div');\n",
       "          docLink.innerHTML = docLinkHtml;\n",
       "          element.appendChild(docLink);\n",
       "        }\n",
       "      </script>\n",
       "    </div>\n",
       "  </div>\n",
       "  "
      ],
      "text/plain": [
       "       Date  Sector  산업지수\n",
       "0  May 2023      철강   0.9\n",
       "1  May 2023  IT 서비스   0.6\n",
       "2  May 2023     해운사   0.4\n",
       "3  May 2023      선박   0.1\n",
       "4  May 2023      건설  -0.8\n",
       "5  May 2023      전기  -0.3\n",
       "6  May 2023      의복  -0.1"
      ]
     },
     "execution_count": 8,
     "metadata": {},
     "output_type": "execute_result"
    }
   ],
   "source": [
    "import pandas as pd\n",
    "sector_month_index = pd.DataFrame({\n",
    "    'Date': 'May 2023',\n",
    "    'Sector': ['철강','IT 서비스','해운사','선박','건설','전기','의복'],\n",
    "    '산업지수': [0.9,0.6,0.4,0.1,-0.8,-0.3,-0.1]\n",
    "})\n",
    "sector_month_index"
   ]
  },
  {
   "cell_type": "markdown",
   "id": "E1DTotYgtLzk",
   "metadata": {
    "id": "E1DTotYgtLzk"
   },
   "source": [
    "\n",
    "\n",
    "```\n",
    "# 코드로 형식 지정됨\n",
    "```\n",
    "\n",
    "### 4. 블랙리터만 모델을 활용한 다이렉트 인덱싱"
   ]
  },
  {
   "cell_type": "code",
   "execution_count": null,
   "id": "6R_hbH6KtYDT",
   "metadata": {
    "colab": {
     "base_uri": "https://localhost:8080/"
    },
    "executionInfo": {
     "elapsed": 5454,
     "status": "ok",
     "timestamp": 1684042337952,
     "user": {
      "displayName": "박성은",
      "userId": "00460345980072705113"
     },
     "user_tz": -540
    },
    "id": "6R_hbH6KtYDT",
    "outputId": "47f6f5f4-54ca-45df-c5dc-907f26e8977a"
   },
   "outputs": [
    {
     "name": "stdout",
     "output_type": "stream",
     "text": [
      "Looking in indexes: https://pypi.org/simple, https://us-python.pkg.dev/colab-wheels/public/simple/\n",
      "Requirement already satisfied: finance-datareader in /usr/local/lib/python3.10/dist-packages (0.9.50)\n",
      "Requirement already satisfied: pandas>=0.19.2 in /usr/local/lib/python3.10/dist-packages (from finance-datareader) (1.5.3)\n",
      "Requirement already satisfied: requests>=2.3.0 in /usr/local/lib/python3.10/dist-packages (from finance-datareader) (2.27.1)\n",
      "Requirement already satisfied: requests-file in /usr/local/lib/python3.10/dist-packages (from finance-datareader) (1.5.1)\n",
      "Requirement already satisfied: lxml in /usr/local/lib/python3.10/dist-packages (from finance-datareader) (4.9.2)\n",
      "Requirement already satisfied: tqdm in /usr/local/lib/python3.10/dist-packages (from finance-datareader) (4.65.0)\n",
      "Requirement already satisfied: python-dateutil>=2.8.1 in /usr/local/lib/python3.10/dist-packages (from pandas>=0.19.2->finance-datareader) (2.8.2)\n",
      "Requirement already satisfied: pytz>=2020.1 in /usr/local/lib/python3.10/dist-packages (from pandas>=0.19.2->finance-datareader) (2022.7.1)\n",
      "Requirement already satisfied: numpy>=1.21.0 in /usr/local/lib/python3.10/dist-packages (from pandas>=0.19.2->finance-datareader) (1.22.4)\n",
      "Requirement already satisfied: urllib3<1.27,>=1.21.1 in /usr/local/lib/python3.10/dist-packages (from requests>=2.3.0->finance-datareader) (1.26.15)\n",
      "Requirement already satisfied: certifi>=2017.4.17 in /usr/local/lib/python3.10/dist-packages (from requests>=2.3.0->finance-datareader) (2022.12.7)\n",
      "Requirement already satisfied: charset-normalizer~=2.0.0 in /usr/local/lib/python3.10/dist-packages (from requests>=2.3.0->finance-datareader) (2.0.12)\n",
      "Requirement already satisfied: idna<4,>=2.5 in /usr/local/lib/python3.10/dist-packages (from requests>=2.3.0->finance-datareader) (3.4)\n",
      "Requirement already satisfied: six in /usr/local/lib/python3.10/dist-packages (from requests-file->finance-datareader) (1.16.0)\n"
     ]
    }
   ],
   "source": [
    "import numpy as np\n",
    "import pandas as pd\n",
    "#%matplotlib inline\n",
    "import matplotlib.pylab as plt\n",
    "from numpy.linalg import inv\n",
    "from pandas_datareader import data as web\n",
    "!pip install finance-datareader\n",
    "import FinanceDataReader as fdr\n",
    "from scipy.optimize import minimize\n",
    "from IPython.core.display import display, HTML\n",
    "pd.options.display.float_format = '{:.2%}'.format"
   ]
  },
  {
   "cell_type": "code",
   "execution_count": null,
   "id": "Ss_RzcFBvrcJ",
   "metadata": {
    "id": "Ss_RzcFBvrcJ"
   },
   "outputs": [],
   "source": [
    "krx=KRX_data.transpose()\n",
    "krx.loc['code']=krx.columns\n",
    "krx.columns = krx.loc['Name']"
   ]
  },
  {
   "cell_type": "markdown",
   "id": "CGJWILGFwgEk",
   "metadata": {
    "id": "CGJWILGFwgEk"
   },
   "source": [
    "- 투자자가 코스피 종목 중 [삼성전자 LG에너지솔루션 LG화학 삼성SDI 현대차 기아 NAVER POSCO홀딩스 고려아연 현대제철] 을 선택했다고 가정한다."
   ]
  },
  {
   "cell_type": "code",
   "execution_count": null,
   "id": "8ZiNeigMw3vG",
   "metadata": {
    "id": "8ZiNeigMw3vG"
   },
   "outputs": [],
   "source": [
    "pick = ['삼성전자','LG에너지솔루션','LG화학','삼성SDI','현대차', '기아','NAVER', 'POSCO홀딩스','고려아연', '현대제철']"
   ]
  },
  {
   "cell_type": "markdown",
   "id": "ZCvu-BAMw9_R",
   "metadata": {
    "id": "ZCvu-BAMw9_R"
   },
   "source": [
    "\n",
    "\n",
    "*   리벨런싱 주기 : 한달\n",
    "*   산업전망지수 고려 섹터: 철강및금속\n",
    "*   산업별 전망 반영 방향 : 긍정\n",
    "*   임계값 긍정>0.4\n",
    "*   초과수익률 부과 : 1%\n",
    "\n"
   ]
  },
  {
   "cell_type": "code",
   "execution_count": null,
   "id": "RFdcEoo9w8MS",
   "metadata": {
    "id": "RFdcEoo9w8MS"
   },
   "outputs": [],
   "source": [
    "#자본비율\n",
    "pick_cap=krx.loc['Marcap',['삼성전자','LG에너지솔루션','LG화학','삼성SDI','현대차', '기아','NAVER', 'POSCO홀딩스','고려아연', '현대제철']]\n",
    "W_c=np.array(pick_cap/np.sum(pick_cap))"
   ]
  },
  {
   "cell_type": "code",
   "execution_count": null,
   "id": "5LruzPMZyASV",
   "metadata": {
    "id": "5LruzPMZyASV"
   },
   "outputs": [],
   "source": [
    "#4월 코스피 수익률\n",
    "kospi = fdr.DataReader('KS11',start='2023-4-1',end='2023-05-01')\n",
    "kospi_ret = np.log(kospi['Close']/kospi['Close'].shift(1)).dropna()\n",
    "kospi_mean=np.mean(kospi_ret)"
   ]
  },
  {
   "cell_type": "code",
   "execution_count": null,
   "id": "aaaeRSkoyMYa",
   "metadata": {
    "id": "aaaeRSkoyMYa"
   },
   "outputs": [],
   "source": [
    "def get_price(companies):\n",
    "    df=pd.DataFrame()\n",
    "    for company in companies:\n",
    "        df[company]= fdr.DataReader(company,start='2023-4-1',end='2023-05-01')['Close']\n",
    "    return df\n",
    "def get_return(companies,data):\n",
    "    df1 = pd.DataFrame()\n",
    "    for company in companies:\n",
    "        df1[company+'return'] = np.log(data[company]/data[company].shift(1)).dropna()\n",
    "    return df1"
   ]
  },
  {
   "cell_type": "code",
   "execution_count": null,
   "id": "Ecw6s0dnxZ1g",
   "metadata": {
    "id": "Ecw6s0dnxZ1g"
   },
   "outputs": [],
   "source": [
    "a = krx.loc[['Code'],pick].values.tolist()\n",
    "pick_code=np.reshape(a,(10)).tolist()"
   ]
  },
  {
   "cell_type": "code",
   "execution_count": null,
   "id": "lEU1LgwMyTSa",
   "metadata": {
    "id": "lEU1LgwMyTSa"
   },
   "outputs": [],
   "source": [
    "# 종목별 수익률을 통한 초과수익률 계산\n",
    "pick_close=get_price(pick_code)\n",
    "pick_return=get_return(pick_code,pick_close)\n",
    "exret=pick_return-kospi_mean"
   ]
  },
  {
   "cell_type": "code",
   "execution_count": null,
   "id": "Vg1Vl4hWyizM",
   "metadata": {
    "id": "Vg1Vl4hWyizM"
   },
   "outputs": [],
   "source": [
    "# 한달 기준 수익률/공분산 계산\n",
    "R = (1+pick_mean)**20-1\n",
    "covars=exret.cov()\n",
    "C = covars*20\n",
    "\n",
    "#무위험 이자율은 가정상 1.5%로 결정\n",
    "rf=0.015\n",
    "\n",
    "mean=sum(R*W_c)\n",
    "var = np.dot(np.dot(W_c,C),W_c)\n",
    "\n",
    "#위험회피계수\n",
    "lmbda = (mean-rf)/var\n",
    "\n",
    "#균형초과수익률\n",
    "pi = np.dot(np.dot(lmbda, C), W_c) "
   ]
  },
  {
   "cell_type": "code",
   "execution_count": null,
   "id": "LeJHaTtx5cG1",
   "metadata": {
    "id": "LeJHaTtx5cG1"
   },
   "outputs": [],
   "source": [
    "# 샤프비율을 최대로 하는 접점포트폴리오 비중 계산 \n",
    "def solveWeights(R, C, rf):\n",
    "    def obj(W, R, C, rf):\n",
    "        mean = sum(R * W)\n",
    "        var = np.dot(np.dot(W, C), W)\n",
    "        util = (mean - rf) / np.sqrt(var) \n",
    "        return 1 / util  \n",
    "\n",
    "    n = len(R)\n",
    "    W = np.ones([n]) / n  \n",
    "    bnds = [(0., 1.) for i in range(n)]  \n",
    "    cons = ({'type': 'eq', 'fun': lambda W: sum(W) - 1.}) \n",
    "    res = minimize(obj, W, (R, C, rf), method='SLSQP', constraints=cons, bounds=bnds)\n",
    "    if not res.success:\n",
    "        raise BaseException(res.message)\n",
    "    return res.x"
   ]
  },
  {
   "cell_type": "code",
   "execution_count": null,
   "id": "7F9YDG-w6G1A",
   "metadata": {
    "id": "7F9YDG-w6G1A"
   },
   "outputs": [],
   "source": [
    "# 효율적 프런티어 계산\n",
    "def solveFrontier(R, C, rf):\n",
    "    def obj(W, R, C, r):\n",
    "        mean = sum(R * W)\n",
    "        var = np.dot(np.dot(W, C), W)\n",
    "        penalty = 100 * abs(mean - r)             \n",
    "        return var + penalty\n",
    "\n",
    "    frontier_mean, frontier_var = [], []\n",
    "    n = len(R) \n",
    "\n",
    "    for r in np.linspace(min(R), max(R), num=20):\n",
    "        W = np.ones([n]) / n \n",
    "        bnds = [(0, 1) for i in range(n)]\n",
    "        cons = ({'type': 'eq', 'fun': lambda W: sum(W) - 1.})           \n",
    "        res = minimize(obj, W, (R, C, r), method='SLSQP', constraints=cons, bounds=bnds)\n",
    "        if not res.success:\n",
    "            raise BaseException(res.message)       \n",
    "        frontier_mean.append(r)\n",
    "        frontier_var.append(np.dot(np.dot(res.x, C), res.x))\n",
    "    return np.array(frontier_mean), np.array(frontier_var)"
   ]
  },
  {
   "cell_type": "code",
   "execution_count": null,
   "id": "IpR4LXaV6O6t",
   "metadata": {
    "id": "IpR4LXaV6O6t"
   },
   "outputs": [],
   "source": [
    "# 효율적 포트폴리오 최적화        \n",
    "def optimize_frontier(R, C, rf):\n",
    "    W = solveWeights(R, C, rf)\n",
    "    tan_mean = sum(R * W)\n",
    "    tan_var = np.dot(np.dot(W, C), W)    \n",
    "    eff_mean, eff_var = solveFrontier(R, C, rf) \n",
    "    return {'weights':W, 'tan_mean':tan_mean, 'tan_var':tan_var, 'eff_mean':eff_mean, 'eff_var':eff_var}"
   ]
  },
  {
   "cell_type": "markdown",
   "id": "9I5RGx3A-YzQ",
   "metadata": {
    "id": "9I5RGx3A-YzQ"
   },
   "source": [
    "- 균형기대수익률로 최적화"
   ]
  },
  {
   "cell_type": "code",
   "execution_count": null,
   "id": "I5c8tqMD6Sh8",
   "metadata": {
    "colab": {
     "base_uri": "https://localhost:8080/",
     "height": 98
    },
    "executionInfo": {
     "elapsed": 601,
     "status": "ok",
     "timestamp": 1684045157520,
     "user": {
      "displayName": "박성은",
      "userId": "00460345980072705113"
     },
     "user_tz": -540
    },
    "id": "I5c8tqMD6Sh8",
    "outputId": "0b68eea1-a054-4bce-9e41-df2e0b10c204"
   },
   "outputs": [
    {
     "data": {
      "text/html": [
       "Implied Excess Equilibrium Returns"
      ],
      "text/plain": [
       "<IPython.core.display.HTML object>"
      ]
     },
     "metadata": {},
     "output_type": "display_data"
    },
    {
     "data": {
      "text/html": [
       "\n",
       "  <div id=\"df-bbed4e77-4682-427d-b2de-2be6a836012b\">\n",
       "    <div class=\"colab-df-container\">\n",
       "      <div>\n",
       "<style scoped>\n",
       "    .dataframe tbody tr th:only-of-type {\n",
       "        vertical-align: middle;\n",
       "    }\n",
       "\n",
       "    .dataframe tbody tr th {\n",
       "        vertical-align: top;\n",
       "    }\n",
       "\n",
       "    .dataframe thead th {\n",
       "        text-align: right;\n",
       "    }\n",
       "</style>\n",
       "<table border=\"1\" class=\"dataframe\">\n",
       "  <thead>\n",
       "    <tr style=\"text-align: right;\">\n",
       "      <th></th>\n",
       "      <th>삼성전자</th>\n",
       "      <th>LG에너지솔루션</th>\n",
       "      <th>LG화학</th>\n",
       "      <th>삼성SDI</th>\n",
       "      <th>현대차</th>\n",
       "      <th>기아</th>\n",
       "      <th>NAVER</th>\n",
       "      <th>POSCO홀딩스</th>\n",
       "      <th>고려아연</th>\n",
       "      <th>현대제철</th>\n",
       "    </tr>\n",
       "  </thead>\n",
       "  <tbody>\n",
       "    <tr>\n",
       "      <th>Weight</th>\n",
       "      <td>49.39%</td>\n",
       "      <td>17.99%</td>\n",
       "      <td>6.59%</td>\n",
       "      <td>6.64%</td>\n",
       "      <td>5.04%</td>\n",
       "      <td>4.25%</td>\n",
       "      <td>4.31%</td>\n",
       "      <td>3.81%</td>\n",
       "      <td>1.40%</td>\n",
       "      <td>0.59%</td>\n",
       "    </tr>\n",
       "  </tbody>\n",
       "</table>\n",
       "</div>\n",
       "      <button class=\"colab-df-convert\" onclick=\"convertToInteractive('df-bbed4e77-4682-427d-b2de-2be6a836012b')\"\n",
       "              title=\"Convert this dataframe to an interactive table.\"\n",
       "              style=\"display:none;\">\n",
       "        \n",
       "  <svg xmlns=\"http://www.w3.org/2000/svg\" height=\"24px\"viewBox=\"0 0 24 24\"\n",
       "       width=\"24px\">\n",
       "    <path d=\"M0 0h24v24H0V0z\" fill=\"none\"/>\n",
       "    <path d=\"M18.56 5.44l.94 2.06.94-2.06 2.06-.94-2.06-.94-.94-2.06-.94 2.06-2.06.94zm-11 1L8.5 8.5l.94-2.06 2.06-.94-2.06-.94L8.5 2.5l-.94 2.06-2.06.94zm10 10l.94 2.06.94-2.06 2.06-.94-2.06-.94-.94-2.06-.94 2.06-2.06.94z\"/><path d=\"M17.41 7.96l-1.37-1.37c-.4-.4-.92-.59-1.43-.59-.52 0-1.04.2-1.43.59L10.3 9.45l-7.72 7.72c-.78.78-.78 2.05 0 2.83L4 21.41c.39.39.9.59 1.41.59.51 0 1.02-.2 1.41-.59l7.78-7.78 2.81-2.81c.8-.78.8-2.07 0-2.86zM5.41 20L4 18.59l7.72-7.72 1.47 1.35L5.41 20z\"/>\n",
       "  </svg>\n",
       "      </button>\n",
       "      \n",
       "  <style>\n",
       "    .colab-df-container {\n",
       "      display:flex;\n",
       "      flex-wrap:wrap;\n",
       "      gap: 12px;\n",
       "    }\n",
       "\n",
       "    .colab-df-convert {\n",
       "      background-color: #E8F0FE;\n",
       "      border: none;\n",
       "      border-radius: 50%;\n",
       "      cursor: pointer;\n",
       "      display: none;\n",
       "      fill: #1967D2;\n",
       "      height: 32px;\n",
       "      padding: 0 0 0 0;\n",
       "      width: 32px;\n",
       "    }\n",
       "\n",
       "    .colab-df-convert:hover {\n",
       "      background-color: #E2EBFA;\n",
       "      box-shadow: 0px 1px 2px rgba(60, 64, 67, 0.3), 0px 1px 3px 1px rgba(60, 64, 67, 0.15);\n",
       "      fill: #174EA6;\n",
       "    }\n",
       "\n",
       "    [theme=dark] .colab-df-convert {\n",
       "      background-color: #3B4455;\n",
       "      fill: #D2E3FC;\n",
       "    }\n",
       "\n",
       "    [theme=dark] .colab-df-convert:hover {\n",
       "      background-color: #434B5C;\n",
       "      box-shadow: 0px 1px 3px 1px rgba(0, 0, 0, 0.15);\n",
       "      filter: drop-shadow(0px 1px 2px rgba(0, 0, 0, 0.3));\n",
       "      fill: #FFFFFF;\n",
       "    }\n",
       "  </style>\n",
       "\n",
       "      <script>\n",
       "        const buttonEl =\n",
       "          document.querySelector('#df-bbed4e77-4682-427d-b2de-2be6a836012b button.colab-df-convert');\n",
       "        buttonEl.style.display =\n",
       "          google.colab.kernel.accessAllowed ? 'block' : 'none';\n",
       "\n",
       "        async function convertToInteractive(key) {\n",
       "          const element = document.querySelector('#df-bbed4e77-4682-427d-b2de-2be6a836012b');\n",
       "          const dataTable =\n",
       "            await google.colab.kernel.invokeFunction('convertToInteractive',\n",
       "                                                     [key], {});\n",
       "          if (!dataTable) return;\n",
       "\n",
       "          const docLinkHtml = 'Like what you see? Visit the ' +\n",
       "            '<a target=\"_blank\" href=https://colab.research.google.com/notebooks/data_table.ipynb>data table notebook</a>'\n",
       "            + ' to learn more about interactive tables.';\n",
       "          element.innerHTML = '';\n",
       "          dataTable['output_type'] = 'display_data';\n",
       "          await google.colab.output.renderOutput(dataTable, element);\n",
       "          const docLink = document.createElement('div');\n",
       "          docLink.innerHTML = docLinkHtml;\n",
       "          element.appendChild(docLink);\n",
       "        }\n",
       "      </script>\n",
       "    </div>\n",
       "  </div>\n",
       "  "
      ],
      "text/plain": [
       "         삼성전자  LG에너지솔루션  LG화학  삼성SDI   현대차    기아  NAVER  POSCO홀딩스  고려아연  현대제철\n",
       "Weight 49.39%    17.99% 6.59%  6.64% 5.04% 4.25%  4.31%     3.81% 1.40% 0.59%"
      ]
     },
     "metadata": {},
     "output_type": "display_data"
    }
   ],
   "source": [
    "#균형기대수익률로 최적화\n",
    "opt = optimize_frontier(pi+rf, C, rf)\n",
    "\n",
    "#블랙숄즈모델을 통해 역추산한 가중치\n",
    "display(HTML('Implied Excess Equilibrium Returns'))\n",
    "display(pd.DataFrame({'Weight': opt['weights']}, index=pick).T)"
   ]
  },
  {
   "cell_type": "markdown",
   "id": "ySf0ZH0g-h_C",
   "metadata": {
    "id": "ySf0ZH0g-h_C"
   },
   "source": [
    "- 산업전망지수 반영"
   ]
  },
  {
   "cell_type": "code",
   "execution_count": null,
   "id": "jpyR7tfs6c2I",
   "metadata": {
    "id": "jpyR7tfs6c2I"
   },
   "outputs": [],
   "source": [
    "#다음달 감정지수의 예측값이 0.4보다 높을 경우 초과수익률 1% 반영\n",
    "if steel_index[-1]>0.4:\n",
    "  tf = (sector_list[pick]=='코스피 철강및금속')*1.\n",
    "  P = np.array([tf.loc[0]])\n",
    "  Q= np.array([0.01])"
   ]
  },
  {
   "cell_type": "code",
   "execution_count": null,
   "id": "nhQ9a9-b7QBf",
   "metadata": {
    "id": "nhQ9a9-b7QBf"
   },
   "outputs": [],
   "source": [
    "#위험조정상수 \n",
    "tau = 0.025\n",
    "\n",
    "#투자자 전망의 불확실성 계산\n",
    "omega = np.dot(np.dot(np.dot(tau,P),C),np.transpose(P))"
   ]
  },
  {
   "cell_type": "code",
   "execution_count": null,
   "id": "lVgBtvVv91MD",
   "metadata": {
    "colab": {
     "base_uri": "https://localhost:8080/"
    },
    "executionInfo": {
     "elapsed": 10,
     "status": "ok",
     "timestamp": 1684046088528,
     "user": {
      "displayName": "박성은",
      "userId": "00460345980072705113"
     },
     "user_tz": -540
    },
    "id": "lVgBtvVv91MD",
    "outputId": "909bf793-4fca-4ea4-f5ab-7442c137a57e"
   },
   "outputs": [
    {
     "data": {
      "text/plain": [
       "array([[0.00138392]])"
      ]
     },
     "execution_count": 99,
     "metadata": {},
     "output_type": "execute_result"
    }
   ],
   "source": [
    "omega"
   ]
  },
  {
   "cell_type": "code",
   "execution_count": null,
   "id": "zBUDkbjL8TM7",
   "metadata": {
    "id": "zBUDkbjL8TM7"
   },
   "outputs": [],
   "source": [
    "# 투자자 전망과 합쳐진 균형초과수익률 계산\n",
    "bl1 = inv(np.dot(tau, C))\n",
    "bl2 = np.dot(np.dot(np.transpose(P), inv(omega)), P)\n",
    "bl3 = np.dot(inv(np.dot(tau, C)), pi)\n",
    "bl4 = np.dot(np.dot(np.transpose(P), inv(omega)), Q)\n",
    "pi_adj = np.dot(inv(bl1 + bl2), (bl3 + bl4))\n",
    "\n",
    "opt1 = optimize_frontier(pi_adj + rf, C, rf)"
   ]
  },
  {
   "cell_type": "code",
   "execution_count": null,
   "id": "4K6ncWj19cQr",
   "metadata": {
    "colab": {
     "base_uri": "https://localhost:8080/",
     "height": 98
    },
    "executionInfo": {
     "elapsed": 19,
     "status": "ok",
     "timestamp": 1684046135269,
     "user": {
      "displayName": "박성은",
      "userId": "00460345980072705113"
     },
     "user_tz": -540
    },
    "id": "4K6ncWj19cQr",
    "outputId": "8f609ab1-46d0-46c6-eb8f-5c3c530b5ef8"
   },
   "outputs": [
    {
     "data": {
      "text/html": [
       "Implied returns with adjusted views"
      ],
      "text/plain": [
       "<IPython.core.display.HTML object>"
      ]
     },
     "metadata": {},
     "output_type": "display_data"
    },
    {
     "data": {
      "text/html": [
       "\n",
       "  <div id=\"df-8993420d-ad5d-4bf4-be67-11c1b83bd39d\">\n",
       "    <div class=\"colab-df-container\">\n",
       "      <div>\n",
       "<style scoped>\n",
       "    .dataframe tbody tr th:only-of-type {\n",
       "        vertical-align: middle;\n",
       "    }\n",
       "\n",
       "    .dataframe tbody tr th {\n",
       "        vertical-align: top;\n",
       "    }\n",
       "\n",
       "    .dataframe thead th {\n",
       "        text-align: right;\n",
       "    }\n",
       "</style>\n",
       "<table border=\"1\" class=\"dataframe\">\n",
       "  <thead>\n",
       "    <tr style=\"text-align: right;\">\n",
       "      <th></th>\n",
       "      <th>삼성전자</th>\n",
       "      <th>LG에너지솔루션</th>\n",
       "      <th>LG화학</th>\n",
       "      <th>삼성SDI</th>\n",
       "      <th>현대차</th>\n",
       "      <th>기아</th>\n",
       "      <th>NAVER</th>\n",
       "      <th>POSCO홀딩스</th>\n",
       "      <th>고려아연</th>\n",
       "      <th>현대제철</th>\n",
       "    </tr>\n",
       "  </thead>\n",
       "  <tbody>\n",
       "    <tr>\n",
       "      <th>Weight</th>\n",
       "      <td>43.92%</td>\n",
       "      <td>16.01%</td>\n",
       "      <td>5.86%</td>\n",
       "      <td>5.90%</td>\n",
       "      <td>4.48%</td>\n",
       "      <td>3.78%</td>\n",
       "      <td>3.83%</td>\n",
       "      <td>7.07%</td>\n",
       "      <td>4.93%</td>\n",
       "      <td>4.21%</td>\n",
       "    </tr>\n",
       "  </tbody>\n",
       "</table>\n",
       "</div>\n",
       "      <button class=\"colab-df-convert\" onclick=\"convertToInteractive('df-8993420d-ad5d-4bf4-be67-11c1b83bd39d')\"\n",
       "              title=\"Convert this dataframe to an interactive table.\"\n",
       "              style=\"display:none;\">\n",
       "        \n",
       "  <svg xmlns=\"http://www.w3.org/2000/svg\" height=\"24px\"viewBox=\"0 0 24 24\"\n",
       "       width=\"24px\">\n",
       "    <path d=\"M0 0h24v24H0V0z\" fill=\"none\"/>\n",
       "    <path d=\"M18.56 5.44l.94 2.06.94-2.06 2.06-.94-2.06-.94-.94-2.06-.94 2.06-2.06.94zm-11 1L8.5 8.5l.94-2.06 2.06-.94-2.06-.94L8.5 2.5l-.94 2.06-2.06.94zm10 10l.94 2.06.94-2.06 2.06-.94-2.06-.94-.94-2.06-.94 2.06-2.06.94z\"/><path d=\"M17.41 7.96l-1.37-1.37c-.4-.4-.92-.59-1.43-.59-.52 0-1.04.2-1.43.59L10.3 9.45l-7.72 7.72c-.78.78-.78 2.05 0 2.83L4 21.41c.39.39.9.59 1.41.59.51 0 1.02-.2 1.41-.59l7.78-7.78 2.81-2.81c.8-.78.8-2.07 0-2.86zM5.41 20L4 18.59l7.72-7.72 1.47 1.35L5.41 20z\"/>\n",
       "  </svg>\n",
       "      </button>\n",
       "      \n",
       "  <style>\n",
       "    .colab-df-container {\n",
       "      display:flex;\n",
       "      flex-wrap:wrap;\n",
       "      gap: 12px;\n",
       "    }\n",
       "\n",
       "    .colab-df-convert {\n",
       "      background-color: #E8F0FE;\n",
       "      border: none;\n",
       "      border-radius: 50%;\n",
       "      cursor: pointer;\n",
       "      display: none;\n",
       "      fill: #1967D2;\n",
       "      height: 32px;\n",
       "      padding: 0 0 0 0;\n",
       "      width: 32px;\n",
       "    }\n",
       "\n",
       "    .colab-df-convert:hover {\n",
       "      background-color: #E2EBFA;\n",
       "      box-shadow: 0px 1px 2px rgba(60, 64, 67, 0.3), 0px 1px 3px 1px rgba(60, 64, 67, 0.15);\n",
       "      fill: #174EA6;\n",
       "    }\n",
       "\n",
       "    [theme=dark] .colab-df-convert {\n",
       "      background-color: #3B4455;\n",
       "      fill: #D2E3FC;\n",
       "    }\n",
       "\n",
       "    [theme=dark] .colab-df-convert:hover {\n",
       "      background-color: #434B5C;\n",
       "      box-shadow: 0px 1px 3px 1px rgba(0, 0, 0, 0.15);\n",
       "      filter: drop-shadow(0px 1px 2px rgba(0, 0, 0, 0.3));\n",
       "      fill: #FFFFFF;\n",
       "    }\n",
       "  </style>\n",
       "\n",
       "      <script>\n",
       "        const buttonEl =\n",
       "          document.querySelector('#df-8993420d-ad5d-4bf4-be67-11c1b83bd39d button.colab-df-convert');\n",
       "        buttonEl.style.display =\n",
       "          google.colab.kernel.accessAllowed ? 'block' : 'none';\n",
       "\n",
       "        async function convertToInteractive(key) {\n",
       "          const element = document.querySelector('#df-8993420d-ad5d-4bf4-be67-11c1b83bd39d');\n",
       "          const dataTable =\n",
       "            await google.colab.kernel.invokeFunction('convertToInteractive',\n",
       "                                                     [key], {});\n",
       "          if (!dataTable) return;\n",
       "\n",
       "          const docLinkHtml = 'Like what you see? Visit the ' +\n",
       "            '<a target=\"_blank\" href=https://colab.research.google.com/notebooks/data_table.ipynb>data table notebook</a>'\n",
       "            + ' to learn more about interactive tables.';\n",
       "          element.innerHTML = '';\n",
       "          dataTable['output_type'] = 'display_data';\n",
       "          await google.colab.output.renderOutput(dataTable, element);\n",
       "          const docLink = document.createElement('div');\n",
       "          docLink.innerHTML = docLinkHtml;\n",
       "          element.appendChild(docLink);\n",
       "        }\n",
       "      </script>\n",
       "    </div>\n",
       "  </div>\n",
       "  "
      ],
      "text/plain": [
       "         삼성전자  LG에너지솔루션  LG화학  삼성SDI   현대차    기아  NAVER  POSCO홀딩스  고려아연  현대제철\n",
       "Weight 43.92%    16.01% 5.86%  5.90% 4.48% 3.78%  3.83%     7.07% 4.93% 4.21%"
      ]
     },
     "metadata": {},
     "output_type": "display_data"
    }
   ],
   "source": [
    "#산업전망지수와 투자자의 결정을 반영한 투자비중\n",
    "display(HTML('Implied returns with adjusted views'))\n",
    "display(pd.DataFrame({'Weight': opt1['weights']}, index=pick).T)"
   ]
  }
 ],
 "metadata": {
  "colab": {
   "provenance": []
  },
  "kernelspec": {
   "display_name": "textdata",
   "language": "python",
   "name": "textdata"
  },
  "language_info": {
   "codemirror_mode": {
    "name": "ipython",
    "version": 3
   },
   "file_extension": ".py",
   "mimetype": "text/x-python",
   "name": "python",
   "nbconvert_exporter": "python",
   "pygments_lexer": "ipython3",
   "version": "3.8.16"
  },
  "varInspector": {
   "cols": {
    "lenName": 16,
    "lenType": 16,
    "lenVar": 40
   },
   "kernels_config": {
    "python": {
     "delete_cmd_postfix": "",
     "delete_cmd_prefix": "del ",
     "library": "var_list.py",
     "varRefreshCmd": "print(var_dic_list())"
    },
    "r": {
     "delete_cmd_postfix": ") ",
     "delete_cmd_prefix": "rm(",
     "library": "var_list.r",
     "varRefreshCmd": "cat(var_dic_list()) "
    }
   },
   "types_to_exclude": [
    "module",
    "function",
    "builtin_function_or_method",
    "instance",
    "_Feature"
   ],
   "window_display": false
  }
 },
 "nbformat": 4,
 "nbformat_minor": 5
}
