{
 "cells": [
  {
   "cell_type": "markdown",
   "id": "3a0b710e",
   "metadata": {},
   "source": [
    "# 목차\n",
    "\n",
    "### 1. Import library\n",
    "\n",
    "### 2. 네이버 뉴스 경제면 / 금융 섹터 / 기사 수집 함수\n",
    "- [2.1 Generate date list](#2.1-Generate-date-list)\n",
    "- [2.2 Generate news title, news url list](#2.2-Generate-news-title,-news-url-list)\n",
    "- [2.3 Generate news dataframe](#2.3-Generate-news-dataframe)\n",
    "\n",
    "### 3. 월별 데이터 수집"
   ]
  },
  {
   "cell_type": "markdown",
   "id": "60198a68",
   "metadata": {},
   "source": [
    "## 1. Import library"
   ]
  },
  {
   "cell_type": "code",
   "execution_count": 1,
   "id": "460dbdf5",
   "metadata": {},
   "outputs": [],
   "source": [
    "import requests\n",
    "from bs4 import BeautifulSoup\n",
    "from urllib.request import urlopen\n",
    "import pandas as pd\n",
    "from tqdm import tqdm\n",
    "from datetime import datetime\n",
    "from dateutil.relativedelta import relativedelta"
   ]
  },
  {
   "cell_type": "markdown",
   "id": "5ded7455",
   "metadata": {},
   "source": [
    "## 2. 네이버 뉴스 경제면 / 금융 섹터 / 기사 수집 함수"
   ]
  },
  {
   "cell_type": "markdown",
   "id": "e9d802eb",
   "metadata": {},
   "source": [
    "### 2.1 Generate date list"
   ]
  },
  {
   "cell_type": "code",
   "execution_count": 2,
   "id": "a3c6ccaa",
   "metadata": {},
   "outputs": [],
   "source": [
    "# generate date list function\n",
    "\n",
    "def generate_date_list(startdate, enddate):\n",
    "    # 시작일과 종료일을 datetime 형식으로 변환\n",
    "    start = datetime.strptime(startdate, \"%Y%m\")\n",
    "    end = datetime.strptime(enddate, \"%Y%m\")\n",
    "\n",
    "    # 시작일부터 종료일까지의 날짜 리스트를 생성\n",
    "    date_list = []\n",
    "    current = start\n",
    "    while current <= end:\n",
    "        # 현재 날짜를 \"%Y%m%d\" 형식의 문자열로 변환하여 리스트에 추가\n",
    "        date_list.append(current.strftime(\"%Y%m%d\"))\n",
    "        \n",
    "        # 현재 날짜를 하루씩 증가\n",
    "        current += relativedelta(days=1)\n",
    "        \n",
    "        # 다음 날짜의 월이 현재 날짜와 다른 경우, 다음 달의 첫 날로 변경\n",
    "        if current.month != (current + relativedelta(days=1)).month:\n",
    "            current = current.replace(day=1) + relativedelta(months=1) # relativedelta : 1달 더함\n",
    "    \n",
    "    return date_list"
   ]
  },
  {
   "cell_type": "markdown",
   "id": "7a2f5a2c",
   "metadata": {},
   "source": [
    "### 2.2 Generate news title, news url list"
   ]
  },
  {
   "cell_type": "code",
   "execution_count": 3,
   "id": "3a246d9d",
   "metadata": {},
   "outputs": [],
   "source": [
    "# generate news title, news url LIST function\n",
    "\n",
    "def generate_news_list(date_list):\n",
    "    news_date_li = []\n",
    "    # 웹 페이지 크롤링 할 때 사용할 페이지 클래스 타입\n",
    "    page_class_type = ['type06_headline', 'type06']\n",
    "    \n",
    "    # 날짜 리스트인 date_list를 반복하면서 뉴스 수집\n",
    "    for date in tqdm(date_list):\n",
    "        \n",
    "        # 날짜별 뉴스 목록을 수집할 URL 생성\n",
    "        url = f'https://news.naver.com/main/list.naver?mode=LS2D&sid2=259&mid=shm&sid1=101&date={date}&page=999'\n",
    "        \n",
    "        # HTTP 요청 헤더 설정\n",
    "        headers = {\"User-Agent\": \"Mozilla/5.0 (Windows NT 10.0; Win64; x64) AppleWebKit/537.36 (KHTML, like Gecko) Chrome/109.0.0.0 Safari/537.36\"}\n",
    "        \n",
    "        # HTTP GET 요청을 보내서 웹 페이지의 내용 가져옴\n",
    "        raw = requests.get(url, headers=headers)\n",
    "        \n",
    "        # BeautifulSoup으르 사용해서 웹 페이지의 HTML 파싱\n",
    "        soup = BeautifulSoup(raw.text, \"html.parser\")\n",
    "        \n",
    "        # 해당 날짜에 해당하는 뉴스 목록의 최대 페이지 수 \n",
    "        max_page = int(soup.select(\"#main_content > div.paging > strong\")[0].text)\n",
    "        \n",
    "        # 각 페이지에서 뉴스 정보 수집\n",
    "        news_page_li = []\n",
    "        for page in tqdm(range(1, max_page + 1)):\n",
    "            for ct in page_class_type:\n",
    "                for news in range(1, 11): # 한 페이지당 10개의 기사\n",
    "                    \n",
    "                    # 페이지별로 뉴스 목록을 가져오는 URL 생성\n",
    "                    url = f'https://news.naver.com/main/list.naver?mode=LS2D&sid2=259&mid=shm&sid1=101&date={date}&page={page}'\n",
    "                    \n",
    "                    # HTTP GET 요청을 보내서 해당 페이지의 뉴스 목록을 가져옴\n",
    "                    raw = requests.get(url, headers=headers)\n",
    "                    soup = BeautifulSoup(raw.text, \"html.parser\")\n",
    "                    \n",
    "                    # HTML에서 뉴스 제목과 URL 추출\n",
    "                    news_all = soup.select(f\"#main_content > div.list_body.newsflash_body > ul.{ct} > li:nth-child({news}) > dl > dt:nth-child(2) > a\")        \n",
    "                    news_dic = {}\n",
    "                    \n",
    "                    # 뉴스 정보가 있는 경우 news_dic 딕셔너리에 key값과 value 매핑\n",
    "                    if news_all:\n",
    "                        news_dic['title'] = news_all[0].text.strip()\n",
    "                        news_dic['url'] = news_all[0]['href']\n",
    "                        news_dic['pubdate'] = date\n",
    "                    \n",
    "                    # 뉴스 정보가 없는 경우 None값을 value로 설정\n",
    "                    else:\n",
    "                        news_dic['title'] = None\n",
    "                        news_dic['url'] = None\n",
    "                        news_dic['pubdate'] = None\n",
    "                    \n",
    "                    # 존재하는 뉴스 정보인 경우 뉴스 리스트에 추가\n",
    "                    if news_dic['title'] is not None and news_dic['url'] is not None:\n",
    "                        news_page_li.append(news_dic)\n",
    "        \n",
    "        # 해당 날짜의 모든 뉴스 정보를 저장한 리스트를 전체 뉴스 리스트에 추가\n",
    "        news_date_li.extend(news_page_li)\n",
    "    \n",
    "    return news_date_li"
   ]
  },
  {
   "cell_type": "markdown",
   "id": "13f7f076",
   "metadata": {},
   "source": [
    "### 2.3 Generate news dataframe"
   ]
  },
  {
   "cell_type": "code",
   "execution_count": 4,
   "id": "ec4298d3",
   "metadata": {},
   "outputs": [],
   "source": [
    "# generate news title, url, content, pundate DataFrame Function\n",
    "\n",
    "def generate_news_content_df(news_date_li):\n",
    "    news_page_li = []\n",
    "    \n",
    "    # 뉴스의 URL을 사용하여 뉴스 페이지에 접근하고 내용 스크랩\n",
    "    for news in tqdm(news_date_li):\n",
    "        url = news['url']\n",
    "        \n",
    "        # HTTP 요청 헤더 설정\n",
    "        headers = {\"User-Agent\": \"Mozilla/5.0 (Windows NT 10.0; Win64; x64) AppleWebKit/537.36 (KHTML, like Gecko) Chrome/109.0.0.0 Safari/537.36\"}\n",
    "        \n",
    "        # HTTP GET 요청을 보내서 뉴스 페이지의 내용을 가져옴\n",
    "        raw = requests.get(url, headers=headers)\n",
    "        soup = BeautifulSoup(raw.text, \"html.parser\")\n",
    "        \n",
    "        # HTML에서 뉴스 내용을 추출\n",
    "        content = soup.select('#dic_area')\n",
    "         \n",
    "        # 뉴스 내용을 딕셔너리에 저장    \n",
    "        if content:\n",
    "            news['content'] = content[0].text.strip()\n",
    "        # 뉴스 내용 없으면 None값 저장\n",
    "        else:\n",
    "            news['content'] = None   \n",
    "            \n",
    "        # 스크랩한 뉴스 정보를 리스트에 추가\n",
    "        news_page_li.append(news)\n",
    "    \n",
    "    # 뉴스 정보를 데이터프레임으로 변환\n",
    "    news_df = pd.DataFrame(news_page_li)\n",
    "    return news_df"
   ]
  },
  {
   "cell_type": "markdown",
   "id": "5e9743f4",
   "metadata": {},
   "source": [
    "## 3. 월별 데이터 수집"
   ]
  },
  {
   "cell_type": "markdown",
   "id": "fde49e1a",
   "metadata": {},
   "source": [
    "### 2021년 6월"
   ]
  },
  {
   "cell_type": "code",
   "execution_count": 5,
   "id": "6f4dd9f3",
   "metadata": {},
   "outputs": [
    {
     "name": "stdout",
     "output_type": "stream",
     "text": [
      "['20210601', '20210602', '20210603', '20210604', '20210605', '20210606', '20210607', '20210608', '20210609', '20210610', '20210611', '20210612', '20210613', '20210614', '20210615', '20210616', '20210617', '20210618', '20210619', '20210620', '20210621', '20210622', '20210623', '20210624', '20210625', '20210626', '20210627', '20210628', '20210629', '20210701']\n"
     ]
    }
   ],
   "source": [
    "# 날짜 리스트 생성\n",
    "startdate = \"202106\"\n",
    "enddate = \"202107\"\n",
    "date_list = generate_date_list(startdate, enddate) \n",
    "print(date_list)"
   ]
  },
  {
   "cell_type": "code",
   "execution_count": null,
   "id": "68d54bb6",
   "metadata": {},
   "outputs": [],
   "source": [
    "# 뉴스 제목, URL 생성 \n",
    "news_date_li = generate_news_list(date_list) "
   ]
  },
  {
   "cell_type": "code",
   "execution_count": 7,
   "id": "565704f3",
   "metadata": {
    "scrolled": true
   },
   "outputs": [
    {
     "name": "stderr",
     "output_type": "stream",
     "text": [
      "100%|██████████████████████████████████████████████████████████████████████████████| 9821/9821 [46:22<00:00,  3.53it/s]\n"
     ]
    },
    {
     "data": {
      "text/html": [
       "<div>\n",
       "<style scoped>\n",
       "    .dataframe tbody tr th:only-of-type {\n",
       "        vertical-align: middle;\n",
       "    }\n",
       "\n",
       "    .dataframe tbody tr th {\n",
       "        vertical-align: top;\n",
       "    }\n",
       "\n",
       "    .dataframe thead th {\n",
       "        text-align: right;\n",
       "    }\n",
       "</style>\n",
       "<table border=\"1\" class=\"dataframe\">\n",
       "  <thead>\n",
       "    <tr style=\"text-align: right;\">\n",
       "      <th></th>\n",
       "      <th>title</th>\n",
       "      <th>url</th>\n",
       "      <th>pubdate</th>\n",
       "      <th>content</th>\n",
       "    </tr>\n",
       "  </thead>\n",
       "  <tbody>\n",
       "    <tr>\n",
       "      <th>0</th>\n",
       "      <td>갈팡질팡 가상화폐…비트코인 4300만원대 이더리움 310만원대 등락</td>\n",
       "      <td>https://n.news.naver.com/mnews/article/009/000...</td>\n",
       "      <td>20210601</td>\n",
       "      <td>[사진 제공 = 연합뉴스] 국내 가상화폐 거래소에서 가상자산 비트코인의 가격이 소폭...</td>\n",
       "    </tr>\n",
       "    <tr>\n",
       "      <th>1</th>\n",
       "      <td>은행 앱으로 전기차 가격·대출 조회… 친환경차 금융 상품 봇물</td>\n",
       "      <td>https://n.news.naver.com/mnews/article/005/000...</td>\n",
       "      <td>20210601</td>\n",
       "      <td>보조금·할인정보·사용자 리뷰 등  은행들 손쉬운 모바일 앱 개발  개인간 중고차 직...</td>\n",
       "    </tr>\n",
       "    <tr>\n",
       "      <th>2</th>\n",
       "      <td>\"애플카 미공개정보 의혹, 현대차 임원에 직원까지…최소 10명\"</td>\n",
       "      <td>https://n.news.naver.com/mnews/article/421/000...</td>\n",
       "      <td>20210601</td>\n",
       "      <td>(서울=뉴스1) 박응진 기자 = '애플카' 관련 미공개정보를 이용한 주식매매로 부당...</td>\n",
       "    </tr>\n",
       "    <tr>\n",
       "      <th>3</th>\n",
       "      <td>시중은행 대출 2017년 2월 이후 첫 감소… 청약 자금 유입 일시적 현상</td>\n",
       "      <td>https://n.news.naver.com/mnews/article/022/000...</td>\n",
       "      <td>20210601</td>\n",
       "      <td>서울 시내 시중은행 대출 창구 모습. 뉴스1    지난달 시중은행 가계대출이 201...</td>\n",
       "    </tr>\n",
       "    <tr>\n",
       "      <th>4</th>\n",
       "      <td>암호화폐 거래 입출금 64조원… 은행 수수료 `대박`</td>\n",
       "      <td>https://n.news.naver.com/mnews/article/029/000...</td>\n",
       "      <td>20210601</td>\n",
       "      <td>1분기만 작년 총액 2배 육박은행 수수료 수익도 10배\\n\\n\\n\\n올해 1분기 국...</td>\n",
       "    </tr>\n",
       "    <tr>\n",
       "      <th>...</th>\n",
       "      <td>...</td>\n",
       "      <td>...</td>\n",
       "      <td>...</td>\n",
       "      <td>...</td>\n",
       "    </tr>\n",
       "    <tr>\n",
       "      <th>9816</th>\n",
       "      <td>오늘부터 DSR 강화·LTV 완화… 부족한 대출, 2금융권 몰리나</td>\n",
       "      <td>https://n.news.naver.com/mnews/article/417/000...</td>\n",
       "      <td>20210701</td>\n",
       "      <td>1일부터 차주 단위 총부채원리금상환비율(DSR) 40% 규제가 적용되고 주택담보인정...</td>\n",
       "    </tr>\n",
       "    <tr>\n",
       "      <th>9817</th>\n",
       "      <td>오늘부터 가계대출 규제강화…누가 ‘DSR 40% 한도’ 적용 받나</td>\n",
       "      <td>https://n.news.naver.com/mnews/article/028/000...</td>\n",
       "      <td>20210701</td>\n",
       "      <td>은행권 한도 40% 채웠다면 저축은행 등에서 추가대출 가능주부·학생 등은 추정소득으...</td>\n",
       "    </tr>\n",
       "    <tr>\n",
       "      <th>9818</th>\n",
       "      <td>수사받는 중에도 벌집계좌 운영…코인 거래소 '천태만상'</td>\n",
       "      <td>https://n.news.naver.com/mnews/article/003/001...</td>\n",
       "      <td>20210701</td>\n",
       "      <td>[서울=뉴시스] 금융위원회 내부 모습. (사진=금융위원회 제공) 2021.04.14...</td>\n",
       "    </tr>\n",
       "    <tr>\n",
       "      <th>9819</th>\n",
       "      <td>암호화폐 거래소 반격이 시작됐다</td>\n",
       "      <td>https://n.news.naver.com/mnews/article/005/000...</td>\n",
       "      <td>20210701</td>\n",
       "      <td>국내 4대 거래소 합작법인 설립금융 감독당국 감시에 공동 대응군소 거래소는 음성화…...</td>\n",
       "    </tr>\n",
       "    <tr>\n",
       "      <th>9820</th>\n",
       "      <td>4세대 실손 출시 디데이, 보험사 외면에 흥행 실패?</td>\n",
       "      <td>https://n.news.naver.com/mnews/article/629/000...</td>\n",
       "      <td>20210701</td>\n",
       "      <td>1일 업계에 따르면 이날부터 10개 손해보험사, 5개 생명보험사 등 15개 보험사가...</td>\n",
       "    </tr>\n",
       "  </tbody>\n",
       "</table>\n",
       "<p>9821 rows × 4 columns</p>\n",
       "</div>"
      ],
      "text/plain": [
       "                                          title  \\\n",
       "0         갈팡질팡 가상화폐…비트코인 4300만원대 이더리움 310만원대 등락   \n",
       "1            은행 앱으로 전기차 가격·대출 조회… 친환경차 금융 상품 봇물   \n",
       "2           \"애플카 미공개정보 의혹, 현대차 임원에 직원까지…최소 10명\"   \n",
       "3     시중은행 대출 2017년 2월 이후 첫 감소… 청약 자금 유입 일시적 현상   \n",
       "4                 암호화폐 거래 입출금 64조원… 은행 수수료 `대박`   \n",
       "...                                         ...   \n",
       "9816       오늘부터 DSR 강화·LTV 완화… 부족한 대출, 2금융권 몰리나   \n",
       "9817       오늘부터 가계대출 규제강화…누가 ‘DSR 40% 한도’ 적용 받나   \n",
       "9818             수사받는 중에도 벌집계좌 운영…코인 거래소 '천태만상'   \n",
       "9819                          암호화폐 거래소 반격이 시작됐다   \n",
       "9820              4세대 실손 출시 디데이, 보험사 외면에 흥행 실패?   \n",
       "\n",
       "                                                    url   pubdate  \\\n",
       "0     https://n.news.naver.com/mnews/article/009/000...  20210601   \n",
       "1     https://n.news.naver.com/mnews/article/005/000...  20210601   \n",
       "2     https://n.news.naver.com/mnews/article/421/000...  20210601   \n",
       "3     https://n.news.naver.com/mnews/article/022/000...  20210601   \n",
       "4     https://n.news.naver.com/mnews/article/029/000...  20210601   \n",
       "...                                                 ...       ...   \n",
       "9816  https://n.news.naver.com/mnews/article/417/000...  20210701   \n",
       "9817  https://n.news.naver.com/mnews/article/028/000...  20210701   \n",
       "9818  https://n.news.naver.com/mnews/article/003/001...  20210701   \n",
       "9819  https://n.news.naver.com/mnews/article/005/000...  20210701   \n",
       "9820  https://n.news.naver.com/mnews/article/629/000...  20210701   \n",
       "\n",
       "                                                content  \n",
       "0     [사진 제공 = 연합뉴스] 국내 가상화폐 거래소에서 가상자산 비트코인의 가격이 소폭...  \n",
       "1     보조금·할인정보·사용자 리뷰 등  은행들 손쉬운 모바일 앱 개발  개인간 중고차 직...  \n",
       "2     (서울=뉴스1) 박응진 기자 = '애플카' 관련 미공개정보를 이용한 주식매매로 부당...  \n",
       "3     서울 시내 시중은행 대출 창구 모습. 뉴스1    지난달 시중은행 가계대출이 201...  \n",
       "4     1분기만 작년 총액 2배 육박은행 수수료 수익도 10배\\n\\n\\n\\n올해 1분기 국...  \n",
       "...                                                 ...  \n",
       "9816  1일부터 차주 단위 총부채원리금상환비율(DSR) 40% 규제가 적용되고 주택담보인정...  \n",
       "9817  은행권 한도 40% 채웠다면 저축은행 등에서 추가대출 가능주부·학생 등은 추정소득으...  \n",
       "9818  [서울=뉴시스] 금융위원회 내부 모습. (사진=금융위원회 제공) 2021.04.14...  \n",
       "9819  국내 4대 거래소 합작법인 설립금융 감독당국 감시에 공동 대응군소 거래소는 음성화…...  \n",
       "9820  1일 업계에 따르면 이날부터 10개 손해보험사, 5개 생명보험사 등 15개 보험사가...  \n",
       "\n",
       "[9821 rows x 4 columns]"
      ]
     },
     "execution_count": 7,
     "metadata": {},
     "output_type": "execute_result"
    }
   ],
   "source": [
    "# 뉴스 데이터프레임 생성\n",
    "news_df = generate_news_content_df(news_date_li) \n",
    "news_df.to_csv(f'경제면_금융섹터_기사({startdate}).csv',encoding='utf-8-sig', index=False)\n",
    "news_df"
   ]
  },
  {
   "cell_type": "markdown",
   "id": "c3bbd0dc",
   "metadata": {},
   "source": [
    "### 2021년 7월"
   ]
  },
  {
   "cell_type": "code",
   "execution_count": 8,
   "id": "0a3e7482",
   "metadata": {},
   "outputs": [
    {
     "name": "stdout",
     "output_type": "stream",
     "text": [
      "['20210701', '20210702', '20210703', '20210704', '20210705', '20210706', '20210707', '20210708', '20210709', '20210710', '20210711', '20210712', '20210713', '20210714', '20210715', '20210716', '20210717', '20210718', '20210719', '20210720', '20210721', '20210722', '20210723', '20210724', '20210725', '20210726', '20210727', '20210728', '20210729', '20210730', '20210801']\n"
     ]
    }
   ],
   "source": [
    "startdate = \"202107\"\n",
    "enddate = \"202108\"\n",
    "date_list = generate_date_list(startdate, enddate)\n",
    "print(date_list)"
   ]
  },
  {
   "cell_type": "code",
   "execution_count": null,
   "id": "92be592d",
   "metadata": {},
   "outputs": [],
   "source": [
    "news_date_li = generate_news_list(date_list)"
   ]
  },
  {
   "cell_type": "code",
   "execution_count": 10,
   "id": "b3d3dbff",
   "metadata": {
    "scrolled": true
   },
   "outputs": [
    {
     "name": "stderr",
     "output_type": "stream",
     "text": [
      "100%|██████████████████████████████████████████████████████████████████████████████| 9199/9199 [43:39<00:00,  3.51it/s]\n"
     ]
    },
    {
     "data": {
      "text/html": [
       "<div>\n",
       "<style scoped>\n",
       "    .dataframe tbody tr th:only-of-type {\n",
       "        vertical-align: middle;\n",
       "    }\n",
       "\n",
       "    .dataframe tbody tr th {\n",
       "        vertical-align: top;\n",
       "    }\n",
       "\n",
       "    .dataframe thead th {\n",
       "        text-align: right;\n",
       "    }\n",
       "</style>\n",
       "<table border=\"1\" class=\"dataframe\">\n",
       "  <thead>\n",
       "    <tr style=\"text-align: right;\">\n",
       "      <th></th>\n",
       "      <th>title</th>\n",
       "      <th>url</th>\n",
       "      <th>pubdate</th>\n",
       "      <th>content</th>\n",
       "    </tr>\n",
       "  </thead>\n",
       "  <tbody>\n",
       "    <tr>\n",
       "      <th>0</th>\n",
       "      <td>신용정보원, 환경부 '플라스틱 줄이기' 캠페인 동참</td>\n",
       "      <td>https://n.news.naver.com/mnews/article/003/001...</td>\n",
       "      <td>20210701</td>\n",
       "      <td>[서울=뉴시스] 최현호 기자 = 한국신용정보원은 환경부가 지난 1월부터 진행 중인 ...</td>\n",
       "    </tr>\n",
       "    <tr>\n",
       "      <th>1</th>\n",
       "      <td>주금공, 성남시와 무주택 청년 주거지원 협약 체결</td>\n",
       "      <td>https://n.news.naver.com/mnews/article/003/001...</td>\n",
       "      <td>20210701</td>\n",
       "      <td>[서울=뉴시스] 최현호 기자 = 한국주택금융공사(주금공)는 성남시, NH농협은행과 ...</td>\n",
       "    </tr>\n",
       "    <tr>\n",
       "      <th>2</th>\n",
       "      <td>교보라이프플래닛, 아나필락시스쇼크 진단보험 출시</td>\n",
       "      <td>https://n.news.naver.com/mnews/article/003/001...</td>\n",
       "      <td>20210701</td>\n",
       "      <td>[서울=뉴시스] 신효령 기자 = 교보라이프플래닛생명보험은 아나필락시스쇼크로 인한 진...</td>\n",
       "    </tr>\n",
       "    <tr>\n",
       "      <th>3</th>\n",
       "      <td>이명박 전 대통령 논현동 사저, 111억5600만원에 낙찰</td>\n",
       "      <td>https://n.news.naver.com/mnews/article/421/000...</td>\n",
       "      <td>20210701</td>\n",
       "      <td>지난해 12월 24일 서울 강남구 이 전 대통령 사저의 모습. (뉴스1 DB) 20...</td>\n",
       "    </tr>\n",
       "    <tr>\n",
       "      <th>4</th>\n",
       "      <td>2일 대우건설 매각 진행…중흥건설·DS네트웍스 대상</td>\n",
       "      <td>https://n.news.naver.com/mnews/article/018/000...</td>\n",
       "      <td>20210701</td>\n",
       "      <td>[이데일리 문승관 기자] 대우건설 최대주주인 KDB인베스트먼트는 1일 본입찰에 참여...</td>\n",
       "    </tr>\n",
       "    <tr>\n",
       "      <th>...</th>\n",
       "      <td>...</td>\n",
       "      <td>...</td>\n",
       "      <td>...</td>\n",
       "      <td>...</td>\n",
       "    </tr>\n",
       "    <tr>\n",
       "      <th>9194</th>\n",
       "      <td>8월도 '방향없는' 박스피에 갇힌다…\"가치→성장 주도株 교체기\"</td>\n",
       "      <td>https://n.news.naver.com/mnews/article/421/000...</td>\n",
       "      <td>20210801</td>\n",
       "      <td>\"수출·기업실적 호조 vs 코로나19·경기둔화 우려로 등락 반복\"IT·커뮤니케이션·...</td>\n",
       "    </tr>\n",
       "    <tr>\n",
       "      <th>9195</th>\n",
       "      <td>테이퍼링 운 띄운 美…'금리 인상→집값 하락' 본격화?</td>\n",
       "      <td>https://n.news.naver.com/mnews/article/003/001...</td>\n",
       "      <td>20210801</td>\n",
       "      <td>美 연준 \"자산 매입 목표 진전 이뤄\"양적 완화 축소 속내 드러냈단 평가\"금리 인상...</td>\n",
       "    </tr>\n",
       "    <tr>\n",
       "      <th>9196</th>\n",
       "      <td>[암호화폐 열전]스테이블 코인 '테더'</td>\n",
       "      <td>https://n.news.naver.com/mnews/article/003/001...</td>\n",
       "      <td>20210801</td>\n",
       "      <td>[서울=뉴시스]테더 로고(사진=테더 홈페이지) 2021.7.30. photo@new...</td>\n",
       "    </tr>\n",
       "    <tr>\n",
       "      <th>9197</th>\n",
       "      <td>57억원어치 비트코인 기부받은 학교, 받자마자 팔아치운 이유 [임현우의 비트코인 나우]</td>\n",
       "      <td>https://n.news.naver.com/mnews/article/015/000...</td>\n",
       "      <td>20210801</td>\n",
       "      <td>암호화폐 기부받는 비영리단체 확산가격 변동성은 '즉시 현금화'로 해결한국경제신문의 ...</td>\n",
       "    </tr>\n",
       "    <tr>\n",
       "      <th>9198</th>\n",
       "      <td>대장코인 줄고 알트코인 늘었다</td>\n",
       "      <td>https://n.news.naver.com/mnews/article/003/001...</td>\n",
       "      <td>20210801</td>\n",
       "      <td>알트코인 신규 거래자 유입 증가\\n\\n\\n\\n[서울=뉴시스] 김제이 기자 = 올해 ...</td>\n",
       "    </tr>\n",
       "  </tbody>\n",
       "</table>\n",
       "<p>9199 rows × 4 columns</p>\n",
       "</div>"
      ],
      "text/plain": [
       "                                                 title  \\\n",
       "0                         신용정보원, 환경부 '플라스틱 줄이기' 캠페인 동참   \n",
       "1                          주금공, 성남시와 무주택 청년 주거지원 협약 체결   \n",
       "2                           교보라이프플래닛, 아나필락시스쇼크 진단보험 출시   \n",
       "3                     이명박 전 대통령 논현동 사저, 111억5600만원에 낙찰   \n",
       "4                         2일 대우건설 매각 진행…중흥건설·DS네트웍스 대상   \n",
       "...                                                ...   \n",
       "9194               8월도 '방향없는' 박스피에 갇힌다…\"가치→성장 주도株 교체기\"   \n",
       "9195                    테이퍼링 운 띄운 美…'금리 인상→집값 하락' 본격화?   \n",
       "9196                             [암호화폐 열전]스테이블 코인 '테더'   \n",
       "9197  57억원어치 비트코인 기부받은 학교, 받자마자 팔아치운 이유 [임현우의 비트코인 나우]   \n",
       "9198                                  대장코인 줄고 알트코인 늘었다   \n",
       "\n",
       "                                                    url   pubdate  \\\n",
       "0     https://n.news.naver.com/mnews/article/003/001...  20210701   \n",
       "1     https://n.news.naver.com/mnews/article/003/001...  20210701   \n",
       "2     https://n.news.naver.com/mnews/article/003/001...  20210701   \n",
       "3     https://n.news.naver.com/mnews/article/421/000...  20210701   \n",
       "4     https://n.news.naver.com/mnews/article/018/000...  20210701   \n",
       "...                                                 ...       ...   \n",
       "9194  https://n.news.naver.com/mnews/article/421/000...  20210801   \n",
       "9195  https://n.news.naver.com/mnews/article/003/001...  20210801   \n",
       "9196  https://n.news.naver.com/mnews/article/003/001...  20210801   \n",
       "9197  https://n.news.naver.com/mnews/article/015/000...  20210801   \n",
       "9198  https://n.news.naver.com/mnews/article/003/001...  20210801   \n",
       "\n",
       "                                                content  \n",
       "0     [서울=뉴시스] 최현호 기자 = 한국신용정보원은 환경부가 지난 1월부터 진행 중인 ...  \n",
       "1     [서울=뉴시스] 최현호 기자 = 한국주택금융공사(주금공)는 성남시, NH농협은행과 ...  \n",
       "2     [서울=뉴시스] 신효령 기자 = 교보라이프플래닛생명보험은 아나필락시스쇼크로 인한 진...  \n",
       "3     지난해 12월 24일 서울 강남구 이 전 대통령 사저의 모습. (뉴스1 DB) 20...  \n",
       "4     [이데일리 문승관 기자] 대우건설 최대주주인 KDB인베스트먼트는 1일 본입찰에 참여...  \n",
       "...                                                 ...  \n",
       "9194  \"수출·기업실적 호조 vs 코로나19·경기둔화 우려로 등락 반복\"IT·커뮤니케이션·...  \n",
       "9195  美 연준 \"자산 매입 목표 진전 이뤄\"양적 완화 축소 속내 드러냈단 평가\"금리 인상...  \n",
       "9196  [서울=뉴시스]테더 로고(사진=테더 홈페이지) 2021.7.30. photo@new...  \n",
       "9197  암호화폐 기부받는 비영리단체 확산가격 변동성은 '즉시 현금화'로 해결한국경제신문의 ...  \n",
       "9198  알트코인 신규 거래자 유입 증가\\n\\n\\n\\n[서울=뉴시스] 김제이 기자 = 올해 ...  \n",
       "\n",
       "[9199 rows x 4 columns]"
      ]
     },
     "execution_count": 10,
     "metadata": {},
     "output_type": "execute_result"
    }
   ],
   "source": [
    "news_df = generate_news_content_df(news_date_li)\n",
    "news_df.to_csv(f'경제면_금융섹터_기사({startdate}).csv',encoding='utf-8-sig', index=False)\n",
    "news_df"
   ]
  },
  {
   "cell_type": "markdown",
   "id": "ceeb42f7",
   "metadata": {},
   "source": [
    "### 2021년 8월"
   ]
  },
  {
   "cell_type": "code",
   "execution_count": 19,
   "id": "0d6ea64c",
   "metadata": {},
   "outputs": [
    {
     "name": "stdout",
     "output_type": "stream",
     "text": [
      "['20210801', '20210802', '20210803', '20210804', '20210805', '20210806', '20210807', '20210808', '20210809', '20210810', '20210811', '20210812', '20210813', '20210814', '20210815', '20210816', '20210817', '20210818', '20210819', '20210820', '20210821', '20210822', '20210823', '20210824', '20210825', '20210826', '20210827', '20210828', '20210829', '20210830', '20210901']\n"
     ]
    }
   ],
   "source": [
    "startdate = \"202108\"\n",
    "enddate = \"202109\"\n",
    "date_list = generate_date_list(startdate, enddate)\n",
    "print(date_list)"
   ]
  },
  {
   "cell_type": "code",
   "execution_count": null,
   "id": "cb89b05b",
   "metadata": {},
   "outputs": [],
   "source": [
    "news_date_li = generate_news_list(date_list)"
   ]
  },
  {
   "cell_type": "code",
   "execution_count": 21,
   "id": "4173d745",
   "metadata": {
    "scrolled": true
   },
   "outputs": [
    {
     "name": "stderr",
     "output_type": "stream",
     "text": [
      "100%|██████████████████████████████████████████████████████████████████████████████| 9308/9308 [44:19<00:00,  3.50it/s]\n"
     ]
    },
    {
     "data": {
      "text/html": [
       "<div>\n",
       "<style scoped>\n",
       "    .dataframe tbody tr th:only-of-type {\n",
       "        vertical-align: middle;\n",
       "    }\n",
       "\n",
       "    .dataframe tbody tr th {\n",
       "        vertical-align: top;\n",
       "    }\n",
       "\n",
       "    .dataframe thead th {\n",
       "        text-align: right;\n",
       "    }\n",
       "</style>\n",
       "<table border=\"1\" class=\"dataframe\">\n",
       "  <thead>\n",
       "    <tr style=\"text-align: right;\">\n",
       "      <th></th>\n",
       "      <th>title</th>\n",
       "      <th>url</th>\n",
       "      <th>pubdate</th>\n",
       "      <th>content</th>\n",
       "    </tr>\n",
       "  </thead>\n",
       "  <tbody>\n",
       "    <tr>\n",
       "      <th>0</th>\n",
       "      <td>[기하영의 생활 속 카드]'엄카' 대신 중고생 신용카드 어때요</td>\n",
       "      <td>https://n.news.naver.com/mnews/article/277/000...</td>\n",
       "      <td>20210801</td>\n",
       "      <td>신한·삼성카드, 청소년 가족카드 서비스 선봬신한카드, '마이틴즈' 출시…GS25 혜...</td>\n",
       "    </tr>\n",
       "    <tr>\n",
       "      <th>1</th>\n",
       "      <td>윤종원 \"中企지원 소명 지킬 것\"…기은 60주년 기념사</td>\n",
       "      <td>https://n.news.naver.com/mnews/article/003/001...</td>\n",
       "      <td>20210801</td>\n",
       "      <td>[서울=뉴시스] 박주성 기자 = IBK기업은행은 지난 30일 창립 60주년을 맞아 ...</td>\n",
       "    </tr>\n",
       "    <tr>\n",
       "      <th>2</th>\n",
       "      <td>\"카드사·쇼핑몰 장점만 쏙쏙 … 회원수 6배 성장 비결이죠\" [fn이사람]</td>\n",
       "      <td>https://n.news.naver.com/mnews/article/014/000...</td>\n",
       "      <td>20210801</td>\n",
       "      <td>윤치운 삼성카드 이커머스팀 수석직접조달 방식으로 가격 낮추고삼성카드 쇼핑만의 차별성...</td>\n",
       "    </tr>\n",
       "    <tr>\n",
       "      <th>3</th>\n",
       "      <td>긴축 전환 초입에는 선진국 주식이 유리</td>\n",
       "      <td>https://n.news.naver.com/mnews/article/028/000...</td>\n",
       "      <td>20210801</td>\n",
       "      <td>Weconomy | 김한진의 자산전략\\n\\n\\n\\n미국 연방준비제도(연준·Fed)는...</td>\n",
       "    </tr>\n",
       "    <tr>\n",
       "      <th>4</th>\n",
       "      <td>중흥, 대우건설 인수 MOU 체결…지분율 50.75%</td>\n",
       "      <td>https://n.news.naver.com/mnews/article/003/001...</td>\n",
       "      <td>20210801</td>\n",
       "      <td>상세실사 후 주식매매계약 체결\\n\\n\\n\\n[서울=뉴시스] 이영환 기자 = 대우건설...</td>\n",
       "    </tr>\n",
       "    <tr>\n",
       "      <th>...</th>\n",
       "      <td>...</td>\n",
       "      <td>...</td>\n",
       "      <td>...</td>\n",
       "      <td>...</td>\n",
       "    </tr>\n",
       "    <tr>\n",
       "      <th>9303</th>\n",
       "      <td>뱅크시 웹사이트 통해 가짜 NFT 3억9천만원에 팔려…\"해킹된듯\"</td>\n",
       "      <td>https://n.news.naver.com/mnews/article/001/001...</td>\n",
       "      <td>20210901</td>\n",
       "      <td>30대 영국인 이더리움으로 구매\\n\\n\\n\\n뱅크시 작품으로 보이는 벽화[로이터=연...</td>\n",
       "    </tr>\n",
       "    <tr>\n",
       "      <th>9304</th>\n",
       "      <td>은행들 줄줄이 예·적금 금리 인상</td>\n",
       "      <td>https://n.news.naver.com/mnews/article/022/000...</td>\n",
       "      <td>20210901</td>\n",
       "      <td>신한銀 정기예금 0.25~0.3%P 이어 우리銀도 1일부터 0.1~0.3%P 올려 ...</td>\n",
       "    </tr>\n",
       "    <tr>\n",
       "      <th>9305</th>\n",
       "      <td>대신증권, 서비스 간소화로 비대면 계좌 개설 절반 단축</td>\n",
       "      <td>https://n.news.naver.com/mnews/article/022/000...</td>\n",
       "      <td>20210901</td>\n",
       "      <td>대신증권은 서비스 간소화를 통해 비대면 계좌개설 시간을 절반으로 줄일 수 있게 됐다...</td>\n",
       "    </tr>\n",
       "    <tr>\n",
       "      <th>9306</th>\n",
       "      <td>연 7%대 적금 등장… 안전자산으로 ‘머니 무브’ 꿈틀</td>\n",
       "      <td>https://n.news.naver.com/mnews/article/005/000...</td>\n",
       "      <td>20210901</td>\n",
       "      <td>증시 혼란속 안전자산 몰릴 듯\\n\\n\\n\\n지난 26일 한국은행이 기준금리 인상을 ...</td>\n",
       "    </tr>\n",
       "    <tr>\n",
       "      <th>9307</th>\n",
       "      <td>신한은행, 가상자산 거래소 코빗과 협력 유지할까</td>\n",
       "      <td>https://n.news.naver.com/mnews/article/629/000...</td>\n",
       "      <td>20210901</td>\n",
       "      <td>신한은행은 코빗의 실명 입출금계좌 확인서 발급과 재계약 여부를 놓고 고심하고 있다....</td>\n",
       "    </tr>\n",
       "  </tbody>\n",
       "</table>\n",
       "<p>9308 rows × 4 columns</p>\n",
       "</div>"
      ],
      "text/plain": [
       "                                          title  \\\n",
       "0            [기하영의 생활 속 카드]'엄카' 대신 중고생 신용카드 어때요   \n",
       "1                윤종원 \"中企지원 소명 지킬 것\"…기은 60주년 기념사   \n",
       "2     \"카드사·쇼핑몰 장점만 쏙쏙 … 회원수 6배 성장 비결이죠\" [fn이사람]   \n",
       "3                         긴축 전환 초입에는 선진국 주식이 유리   \n",
       "4                 중흥, 대우건설 인수 MOU 체결…지분율 50.75%   \n",
       "...                                         ...   \n",
       "9303       뱅크시 웹사이트 통해 가짜 NFT 3억9천만원에 팔려…\"해킹된듯\"   \n",
       "9304                         은행들 줄줄이 예·적금 금리 인상   \n",
       "9305             대신증권, 서비스 간소화로 비대면 계좌 개설 절반 단축   \n",
       "9306             연 7%대 적금 등장… 안전자산으로 ‘머니 무브’ 꿈틀   \n",
       "9307                 신한은행, 가상자산 거래소 코빗과 협력 유지할까   \n",
       "\n",
       "                                                    url   pubdate  \\\n",
       "0     https://n.news.naver.com/mnews/article/277/000...  20210801   \n",
       "1     https://n.news.naver.com/mnews/article/003/001...  20210801   \n",
       "2     https://n.news.naver.com/mnews/article/014/000...  20210801   \n",
       "3     https://n.news.naver.com/mnews/article/028/000...  20210801   \n",
       "4     https://n.news.naver.com/mnews/article/003/001...  20210801   \n",
       "...                                                 ...       ...   \n",
       "9303  https://n.news.naver.com/mnews/article/001/001...  20210901   \n",
       "9304  https://n.news.naver.com/mnews/article/022/000...  20210901   \n",
       "9305  https://n.news.naver.com/mnews/article/022/000...  20210901   \n",
       "9306  https://n.news.naver.com/mnews/article/005/000...  20210901   \n",
       "9307  https://n.news.naver.com/mnews/article/629/000...  20210901   \n",
       "\n",
       "                                                content  \n",
       "0     신한·삼성카드, 청소년 가족카드 서비스 선봬신한카드, '마이틴즈' 출시…GS25 혜...  \n",
       "1     [서울=뉴시스] 박주성 기자 = IBK기업은행은 지난 30일 창립 60주년을 맞아 ...  \n",
       "2     윤치운 삼성카드 이커머스팀 수석직접조달 방식으로 가격 낮추고삼성카드 쇼핑만의 차별성...  \n",
       "3     Weconomy | 김한진의 자산전략\\n\\n\\n\\n미국 연방준비제도(연준·Fed)는...  \n",
       "4     상세실사 후 주식매매계약 체결\\n\\n\\n\\n[서울=뉴시스] 이영환 기자 = 대우건설...  \n",
       "...                                                 ...  \n",
       "9303  30대 영국인 이더리움으로 구매\\n\\n\\n\\n뱅크시 작품으로 보이는 벽화[로이터=연...  \n",
       "9304  신한銀 정기예금 0.25~0.3%P 이어 우리銀도 1일부터 0.1~0.3%P 올려 ...  \n",
       "9305  대신증권은 서비스 간소화를 통해 비대면 계좌개설 시간을 절반으로 줄일 수 있게 됐다...  \n",
       "9306  증시 혼란속 안전자산 몰릴 듯\\n\\n\\n\\n지난 26일 한국은행이 기준금리 인상을 ...  \n",
       "9307  신한은행은 코빗의 실명 입출금계좌 확인서 발급과 재계약 여부를 놓고 고심하고 있다....  \n",
       "\n",
       "[9308 rows x 4 columns]"
      ]
     },
     "execution_count": 21,
     "metadata": {},
     "output_type": "execute_result"
    }
   ],
   "source": [
    "news_df = generate_news_content_df(news_date_li)\n",
    "news_df.to_csv(f'경제면_금융섹터_기사({startdate}).csv',encoding='utf-8-sig', index=False)\n",
    "news_df"
   ]
  },
  {
   "cell_type": "markdown",
   "id": "3250e331",
   "metadata": {},
   "source": [
    "### 2021년 9월"
   ]
  },
  {
   "cell_type": "code",
   "execution_count": 22,
   "id": "e165c365",
   "metadata": {},
   "outputs": [
    {
     "name": "stdout",
     "output_type": "stream",
     "text": [
      "['20210901', '20210902', '20210903', '20210904', '20210905', '20210906', '20210907', '20210908', '20210909', '20210910', '20210911', '20210912', '20210913', '20210914', '20210915', '20210916', '20210917', '20210918', '20210919', '20210920', '20210921', '20210922', '20210923', '20210924', '20210925', '20210926', '20210927', '20210928', '20210929', '20211001']\n"
     ]
    }
   ],
   "source": [
    "startdate = \"202109\"\n",
    "enddate = \"202110\"\n",
    "date_list = generate_date_list(startdate, enddate)\n",
    "print(date_list)"
   ]
  },
  {
   "cell_type": "code",
   "execution_count": null,
   "id": "7702b0cc",
   "metadata": {},
   "outputs": [],
   "source": [
    "news_date_li = generate_news_list(date_list)"
   ]
  },
  {
   "cell_type": "code",
   "execution_count": 25,
   "id": "4a3b28a0",
   "metadata": {
    "scrolled": true
   },
   "outputs": [
    {
     "name": "stderr",
     "output_type": "stream",
     "text": [
      "100%|██████████████████████████████████████████████████████████████████████████████| 9261/9261 [44:20<00:00,  3.48it/s]\n"
     ]
    },
    {
     "data": {
      "text/html": [
       "<div>\n",
       "<style scoped>\n",
       "    .dataframe tbody tr th:only-of-type {\n",
       "        vertical-align: middle;\n",
       "    }\n",
       "\n",
       "    .dataframe tbody tr th {\n",
       "        vertical-align: top;\n",
       "    }\n",
       "\n",
       "    .dataframe thead th {\n",
       "        text-align: right;\n",
       "    }\n",
       "</style>\n",
       "<table border=\"1\" class=\"dataframe\">\n",
       "  <thead>\n",
       "    <tr style=\"text-align: right;\">\n",
       "      <th></th>\n",
       "      <th>title</th>\n",
       "      <th>url</th>\n",
       "      <th>pubdate</th>\n",
       "      <th>content</th>\n",
       "    </tr>\n",
       "  </thead>\n",
       "  <tbody>\n",
       "    <tr>\n",
       "      <th>0</th>\n",
       "      <td>우본, 카카오뱅크 지분 매각 추진…차익만 1조 규모 '잭팟'</td>\n",
       "      <td>https://n.news.naver.com/mnews/article/421/000...</td>\n",
       "      <td>20210901</td>\n",
       "      <td>카뱅 '초기주주'로 참여했던 우본…6년만에 1조 차익\\n\\n\\n\\n서울 용산구 카카...</td>\n",
       "    </tr>\n",
       "    <tr>\n",
       "      <th>1</th>\n",
       "      <td>김진욱, 미코바이오메드 주식 보유 지적에 \"처분입장 변함없어\"</td>\n",
       "      <td>https://n.news.naver.com/mnews/article/421/000...</td>\n",
       "      <td>20210901</td>\n",
       "      <td>인사청문과정에서 처분 의사…金 \"일부 처분, 잔여분 매각진행\"\\n\\n\\n\\n김진욱 ...</td>\n",
       "    </tr>\n",
       "    <tr>\n",
       "      <th>2</th>\n",
       "      <td>8월 주담대 3조8천억↑...“올해 최대 증가폭”</td>\n",
       "      <td>https://n.news.naver.com/mnews/article/119/000...</td>\n",
       "      <td>20210901</td>\n",
       "      <td>가계대출 증가폭 3조5000억원 ‘주춤’\\n\\n\\n\\n서울 중구의 한 은행 대출 창...</td>\n",
       "    </tr>\n",
       "    <tr>\n",
       "      <th>3</th>\n",
       "      <td>[포토] 신한 창립 20주년 온라인 기념식</td>\n",
       "      <td>https://n.news.naver.com/mnews/article/009/000...</td>\n",
       "      <td>20210901</td>\n",
       "      <td>신한금융그룹이 1일 온라인으로 창립 20주년 기념식을 개최하고 새로운 비전인 '더 ...</td>\n",
       "    </tr>\n",
       "    <tr>\n",
       "      <th>4</th>\n",
       "      <td>신용대출 확 꺾였지만, '미친 집값'에 은행 주담대는 또...</td>\n",
       "      <td>https://n.news.naver.com/mnews/article/008/000...</td>\n",
       "      <td>20210901</td>\n",
       "      <td>(서울=뉴스1) 박지혜 기자 = 주요 은행의 대출중단에 이어 한도축소, 금리인상 움...</td>\n",
       "    </tr>\n",
       "    <tr>\n",
       "      <th>...</th>\n",
       "      <td>...</td>\n",
       "      <td>...</td>\n",
       "      <td>...</td>\n",
       "      <td>...</td>\n",
       "    </tr>\n",
       "    <tr>\n",
       "      <th>9256</th>\n",
       "      <td>‘줄줄 새는 보험금’ 3년 만에 50배 늘어난 갑상선 수술비</td>\n",
       "      <td>https://n.news.naver.com/mnews/article/018/000...</td>\n",
       "      <td>20211001</td>\n",
       "      <td>상반기 실손 합쳐 700억원 넘게 보험금 지급수술 불필요해도 과잉진료하는 곳들 생겨...</td>\n",
       "    </tr>\n",
       "    <tr>\n",
       "      <th>9257</th>\n",
       "      <td>뜀뛰는 가계대출금리 2년 만에 최고… 코로나 이전 수준으로</td>\n",
       "      <td>https://n.news.naver.com/mnews/article/005/000...</td>\n",
       "      <td>20211001</td>\n",
       "      <td>8월 가계대출 평균금리 3.1%주담대 2.88%, 신용대출 3.97%기준금리 인상분...</td>\n",
       "    </tr>\n",
       "    <tr>\n",
       "      <th>9258</th>\n",
       "      <td>은행권 가계대출 평균금리 3.1%… 25개월만에 ‘최고’</td>\n",
       "      <td>https://n.news.naver.com/mnews/article/020/000...</td>\n",
       "      <td>20211001</td>\n",
       "      <td>한달 새 0.12%P 오르며 3%대 진입기준금리 인상-우대금리 축소 영향주담대-신용...</td>\n",
       "    </tr>\n",
       "    <tr>\n",
       "      <th>9259</th>\n",
       "      <td>가벼운 車사고 치료, 과실만큼 보험 부담</td>\n",
       "      <td>https://n.news.naver.com/mnews/article/020/000...</td>\n",
       "      <td>20211001</td>\n",
       "      <td>정부, ‘나이롱환자’ 유발 자동차보험 개선안 추진2023년 ‘치료비 과실책임주의’ ...</td>\n",
       "    </tr>\n",
       "    <tr>\n",
       "      <th>9260</th>\n",
       "      <td>KB국민카드, ‘해피포인트’ 최대 35% 적립 PLCC 출시</td>\n",
       "      <td>https://n.news.naver.com/mnews/article/022/000...</td>\n",
       "      <td>20211001</td>\n",
       "      <td>KB국민카드가 종합식품기업 SPC그룹의 마케팅솔루션 전문 계열사 섹타나인과 손 잡고...</td>\n",
       "    </tr>\n",
       "  </tbody>\n",
       "</table>\n",
       "<p>9261 rows × 4 columns</p>\n",
       "</div>"
      ],
      "text/plain": [
       "                                   title  \\\n",
       "0      우본, 카카오뱅크 지분 매각 추진…차익만 1조 규모 '잭팟'   \n",
       "1     김진욱, 미코바이오메드 주식 보유 지적에 \"처분입장 변함없어\"   \n",
       "2            8월 주담대 3조8천억↑...“올해 최대 증가폭”   \n",
       "3                [포토] 신한 창립 20주년 온라인 기념식   \n",
       "4     신용대출 확 꺾였지만, '미친 집값'에 은행 주담대는 또...   \n",
       "...                                  ...   \n",
       "9256   ‘줄줄 새는 보험금’ 3년 만에 50배 늘어난 갑상선 수술비   \n",
       "9257    뜀뛰는 가계대출금리 2년 만에 최고… 코로나 이전 수준으로   \n",
       "9258     은행권 가계대출 평균금리 3.1%… 25개월만에 ‘최고’   \n",
       "9259              가벼운 車사고 치료, 과실만큼 보험 부담   \n",
       "9260   KB국민카드, ‘해피포인트’ 최대 35% 적립 PLCC 출시   \n",
       "\n",
       "                                                    url   pubdate  \\\n",
       "0     https://n.news.naver.com/mnews/article/421/000...  20210901   \n",
       "1     https://n.news.naver.com/mnews/article/421/000...  20210901   \n",
       "2     https://n.news.naver.com/mnews/article/119/000...  20210901   \n",
       "3     https://n.news.naver.com/mnews/article/009/000...  20210901   \n",
       "4     https://n.news.naver.com/mnews/article/008/000...  20210901   \n",
       "...                                                 ...       ...   \n",
       "9256  https://n.news.naver.com/mnews/article/018/000...  20211001   \n",
       "9257  https://n.news.naver.com/mnews/article/005/000...  20211001   \n",
       "9258  https://n.news.naver.com/mnews/article/020/000...  20211001   \n",
       "9259  https://n.news.naver.com/mnews/article/020/000...  20211001   \n",
       "9260  https://n.news.naver.com/mnews/article/022/000...  20211001   \n",
       "\n",
       "                                                content  \n",
       "0     카뱅 '초기주주'로 참여했던 우본…6년만에 1조 차익\\n\\n\\n\\n서울 용산구 카카...  \n",
       "1     인사청문과정에서 처분 의사…金 \"일부 처분, 잔여분 매각진행\"\\n\\n\\n\\n김진욱 ...  \n",
       "2     가계대출 증가폭 3조5000억원 ‘주춤’\\n\\n\\n\\n서울 중구의 한 은행 대출 창...  \n",
       "3     신한금융그룹이 1일 온라인으로 창립 20주년 기념식을 개최하고 새로운 비전인 '더 ...  \n",
       "4     (서울=뉴스1) 박지혜 기자 = 주요 은행의 대출중단에 이어 한도축소, 금리인상 움...  \n",
       "...                                                 ...  \n",
       "9256  상반기 실손 합쳐 700억원 넘게 보험금 지급수술 불필요해도 과잉진료하는 곳들 생겨...  \n",
       "9257  8월 가계대출 평균금리 3.1%주담대 2.88%, 신용대출 3.97%기준금리 인상분...  \n",
       "9258  한달 새 0.12%P 오르며 3%대 진입기준금리 인상-우대금리 축소 영향주담대-신용...  \n",
       "9259  정부, ‘나이롱환자’ 유발 자동차보험 개선안 추진2023년 ‘치료비 과실책임주의’ ...  \n",
       "9260  KB국민카드가 종합식품기업 SPC그룹의 마케팅솔루션 전문 계열사 섹타나인과 손 잡고...  \n",
       "\n",
       "[9261 rows x 4 columns]"
      ]
     },
     "execution_count": 25,
     "metadata": {},
     "output_type": "execute_result"
    }
   ],
   "source": [
    "news_df = generate_news_content_df(news_date_li)\n",
    "news_df.to_csv(f'경제면_금융섹터_기사({startdate}).csv',encoding='utf-8-sig', index=False)\n",
    "news_df"
   ]
  },
  {
   "cell_type": "markdown",
   "id": "6e66f070",
   "metadata": {},
   "source": [
    "### 2021년 10월"
   ]
  },
  {
   "cell_type": "code",
   "execution_count": 26,
   "id": "6918d3e1",
   "metadata": {},
   "outputs": [
    {
     "name": "stdout",
     "output_type": "stream",
     "text": [
      "['20211001', '20211002', '20211003', '20211004', '20211005', '20211006', '20211007', '20211008', '20211009', '20211010', '20211011', '20211012', '20211013', '20211014', '20211015', '20211016', '20211017', '20211018', '20211019', '20211020', '20211021', '20211022', '20211023', '20211024', '20211025', '20211026', '20211027', '20211028', '20211029', '20211030', '20211101']\n"
     ]
    }
   ],
   "source": [
    "startdate = \"202110\"\n",
    "enddate = \"202111\"\n",
    "date_list = generate_date_list(startdate, enddate)\n",
    "print(date_list)"
   ]
  },
  {
   "cell_type": "code",
   "execution_count": null,
   "id": "b393ce2e",
   "metadata": {},
   "outputs": [],
   "source": [
    "news_date_li = generate_news_list(date_list)"
   ]
  },
  {
   "cell_type": "code",
   "execution_count": 28,
   "id": "5fc8fe22",
   "metadata": {
    "scrolled": true
   },
   "outputs": [
    {
     "name": "stderr",
     "output_type": "stream",
     "text": [
      "100%|██████████████████████████████████████████████████████████████████████████████| 9845/9845 [47:17<00:00,  3.47it/s]\n"
     ]
    },
    {
     "data": {
      "text/html": [
       "<div>\n",
       "<style scoped>\n",
       "    .dataframe tbody tr th:only-of-type {\n",
       "        vertical-align: middle;\n",
       "    }\n",
       "\n",
       "    .dataframe tbody tr th {\n",
       "        vertical-align: top;\n",
       "    }\n",
       "\n",
       "    .dataframe thead th {\n",
       "        text-align: right;\n",
       "    }\n",
       "</style>\n",
       "<table border=\"1\" class=\"dataframe\">\n",
       "  <thead>\n",
       "    <tr style=\"text-align: right;\">\n",
       "      <th></th>\n",
       "      <th>title</th>\n",
       "      <th>url</th>\n",
       "      <th>pubdate</th>\n",
       "      <th>content</th>\n",
       "    </tr>\n",
       "  </thead>\n",
       "  <tbody>\n",
       "    <tr>\n",
       "      <th>0</th>\n",
       "      <td>교보생명 풋옵션 3차 공판…교보생명 \"어피니티, 가치평가에 관여\"</td>\n",
       "      <td>https://n.news.naver.com/mnews/article/277/000...</td>\n",
       "      <td>20211001</td>\n",
       "      <td>4차 공판기일은 10월 15일\\n\\n\\n\\n교보생명 기업 가치평가 조작을 둘러싼 세...</td>\n",
       "    </tr>\n",
       "    <tr>\n",
       "      <th>1</th>\n",
       "      <td>교보생명 '풋옵션' 3차공판···\"가격 부당개입\"VS\"약속 안지켜\"</td>\n",
       "      <td>https://n.news.naver.com/mnews/article/008/000...</td>\n",
       "      <td>20211001</td>\n",
       "      <td>신창재 교보생명 회장/사진제공=교보생명교보생명 가치평가를 허위로 보고했다는 혐의를 ...</td>\n",
       "    </tr>\n",
       "    <tr>\n",
       "      <th>2</th>\n",
       "      <td>“가격 부풀리려 허위보고”… 어피니티에 언성 높인 박진호 교보생명 부사장</td>\n",
       "      <td>https://n.news.naver.com/mnews/article/417/000...</td>\n",
       "      <td>20211001</td>\n",
       "      <td>박진호 교보생명 부사장이 1일 열린 교보생명 기업 가치평가 조작 여부를 둘러싼 3차...</td>\n",
       "    </tr>\n",
       "    <tr>\n",
       "      <th>3</th>\n",
       "      <td>한화생명, 와인, 맞춤운동 등 구독보험 라인업 강화</td>\n",
       "      <td>https://n.news.naver.com/mnews/article/014/000...</td>\n",
       "      <td>20211001</td>\n",
       "      <td>[파이낸셜뉴스] 한화생명이 와인, 맞춤운동 등 웰니스·헬스케어 취향 맞춤 상품을 출...</td>\n",
       "    </tr>\n",
       "    <tr>\n",
       "      <th>4</th>\n",
       "      <td>증선위, 회계처리 기준 위반 '코디·나노캠텍' 검찰고발 등 조치</td>\n",
       "      <td>https://n.news.naver.com/mnews/article/003/001...</td>\n",
       "      <td>20211001</td>\n",
       "      <td>[서울=뉴시스] 김제이 기자 = 증권선물위원회는 1일 제18차 정례회의에서 회계처리...</td>\n",
       "    </tr>\n",
       "    <tr>\n",
       "      <th>...</th>\n",
       "      <td>...</td>\n",
       "      <td>...</td>\n",
       "      <td>...</td>\n",
       "      <td>...</td>\n",
       "    </tr>\n",
       "    <tr>\n",
       "      <th>9840</th>\n",
       "      <td>류영준 카카오페이 대표 \"이달 코스피 입성… 국민 금융플랫폼으로 키운다\"</td>\n",
       "      <td>https://n.news.naver.com/mnews/article/417/000...</td>\n",
       "      <td>20211101</td>\n",
       "      <td>[CEO포커스] 카카오페이, 오는 3일 코스피 입성\\n\\n\\n\\n류영준 카카오페이 ...</td>\n",
       "    </tr>\n",
       "    <tr>\n",
       "      <th>9841</th>\n",
       "      <td>‘쉬운 대출’ 시대 저문다…대출 리모델링 준비해야</td>\n",
       "      <td>https://n.news.naver.com/mnews/article/028/000...</td>\n",
       "      <td>20211101</td>\n",
       "      <td>은행 대출 시 적합성·적절성 원칙 안 지키면 과태료분할상환 확대로 ‘이자만 내는’ ...</td>\n",
       "    </tr>\n",
       "    <tr>\n",
       "      <th>9842</th>\n",
       "      <td>‘배당금 준다고?’ 아는 사람만 챙기는 출자금통장</td>\n",
       "      <td>https://n.news.naver.com/mnews/article/018/000...</td>\n",
       "      <td>20211101</td>\n",
       "      <td>출자금통장 A부터 Z까지신협·농협·수협·새마을금고 등 상호금융조합원 가입할 때 자본...</td>\n",
       "    </tr>\n",
       "    <tr>\n",
       "      <th>9843</th>\n",
       "      <td>‘대출금리인하요구권’ 손질한다는데… 효과는 글쎄</td>\n",
       "      <td>https://n.news.naver.com/mnews/article/005/000...</td>\n",
       "      <td>20211101</td>\n",
       "      <td>요청건수 느는데 수용률 지속 하락불합리한 거절에도 처벌기준 모호“신용평가 기준 일률...</td>\n",
       "    </tr>\n",
       "    <tr>\n",
       "      <th>9844</th>\n",
       "      <td>'내년부터' 가상자산 과세…업계 \"이대론 어려워, 유예 필요\"</td>\n",
       "      <td>https://n.news.naver.com/mnews/article/629/000...</td>\n",
       "      <td>20211101</td>\n",
       "      <td>국세청은 지난달 25일부터 이틀간 금융위원회에 사업자 신고를 한 가상자산 거래소 2...</td>\n",
       "    </tr>\n",
       "  </tbody>\n",
       "</table>\n",
       "<p>9845 rows × 4 columns</p>\n",
       "</div>"
      ],
      "text/plain": [
       "                                         title  \\\n",
       "0         교보생명 풋옵션 3차 공판…교보생명 \"어피니티, 가치평가에 관여\"   \n",
       "1        교보생명 '풋옵션' 3차공판···\"가격 부당개입\"VS\"약속 안지켜\"   \n",
       "2     “가격 부풀리려 허위보고”… 어피니티에 언성 높인 박진호 교보생명 부사장   \n",
       "3                 한화생명, 와인, 맞춤운동 등 구독보험 라인업 강화   \n",
       "4          증선위, 회계처리 기준 위반 '코디·나노캠텍' 검찰고발 등 조치   \n",
       "...                                        ...   \n",
       "9840  류영준 카카오페이 대표 \"이달 코스피 입성… 국민 금융플랫폼으로 키운다\"   \n",
       "9841               ‘쉬운 대출’ 시대 저문다…대출 리모델링 준비해야   \n",
       "9842               ‘배당금 준다고?’ 아는 사람만 챙기는 출자금통장   \n",
       "9843                ‘대출금리인하요구권’ 손질한다는데… 효과는 글쎄   \n",
       "9844        '내년부터' 가상자산 과세…업계 \"이대론 어려워, 유예 필요\"   \n",
       "\n",
       "                                                    url   pubdate  \\\n",
       "0     https://n.news.naver.com/mnews/article/277/000...  20211001   \n",
       "1     https://n.news.naver.com/mnews/article/008/000...  20211001   \n",
       "2     https://n.news.naver.com/mnews/article/417/000...  20211001   \n",
       "3     https://n.news.naver.com/mnews/article/014/000...  20211001   \n",
       "4     https://n.news.naver.com/mnews/article/003/001...  20211001   \n",
       "...                                                 ...       ...   \n",
       "9840  https://n.news.naver.com/mnews/article/417/000...  20211101   \n",
       "9841  https://n.news.naver.com/mnews/article/028/000...  20211101   \n",
       "9842  https://n.news.naver.com/mnews/article/018/000...  20211101   \n",
       "9843  https://n.news.naver.com/mnews/article/005/000...  20211101   \n",
       "9844  https://n.news.naver.com/mnews/article/629/000...  20211101   \n",
       "\n",
       "                                                content  \n",
       "0     4차 공판기일은 10월 15일\\n\\n\\n\\n교보생명 기업 가치평가 조작을 둘러싼 세...  \n",
       "1     신창재 교보생명 회장/사진제공=교보생명교보생명 가치평가를 허위로 보고했다는 혐의를 ...  \n",
       "2     박진호 교보생명 부사장이 1일 열린 교보생명 기업 가치평가 조작 여부를 둘러싼 3차...  \n",
       "3     [파이낸셜뉴스] 한화생명이 와인, 맞춤운동 등 웰니스·헬스케어 취향 맞춤 상품을 출...  \n",
       "4     [서울=뉴시스] 김제이 기자 = 증권선물위원회는 1일 제18차 정례회의에서 회계처리...  \n",
       "...                                                 ...  \n",
       "9840  [CEO포커스] 카카오페이, 오는 3일 코스피 입성\\n\\n\\n\\n류영준 카카오페이 ...  \n",
       "9841  은행 대출 시 적합성·적절성 원칙 안 지키면 과태료분할상환 확대로 ‘이자만 내는’ ...  \n",
       "9842  출자금통장 A부터 Z까지신협·농협·수협·새마을금고 등 상호금융조합원 가입할 때 자본...  \n",
       "9843  요청건수 느는데 수용률 지속 하락불합리한 거절에도 처벌기준 모호“신용평가 기준 일률...  \n",
       "9844  국세청은 지난달 25일부터 이틀간 금융위원회에 사업자 신고를 한 가상자산 거래소 2...  \n",
       "\n",
       "[9845 rows x 4 columns]"
      ]
     },
     "execution_count": 28,
     "metadata": {},
     "output_type": "execute_result"
    }
   ],
   "source": [
    "news_df = generate_news_content_df(news_date_li)\n",
    "news_df.to_csv(f'경제면_금융섹터_기사({startdate}).csv',encoding='utf-8-sig', index=False)\n",
    "news_df"
   ]
  },
  {
   "cell_type": "markdown",
   "id": "28a04583",
   "metadata": {},
   "source": [
    "### 2021년 11월"
   ]
  },
  {
   "cell_type": "code",
   "execution_count": 29,
   "id": "2644712c",
   "metadata": {},
   "outputs": [
    {
     "name": "stdout",
     "output_type": "stream",
     "text": [
      "['20211101', '20211102', '20211103', '20211104', '20211105', '20211106', '20211107', '20211108', '20211109', '20211110', '20211111', '20211112', '20211113', '20211114', '20211115', '20211116', '20211117', '20211118', '20211119', '20211120', '20211121', '20211122', '20211123', '20211124', '20211125', '20211126', '20211127', '20211128', '20211129', '20211201']\n"
     ]
    }
   ],
   "source": [
    "startdate = \"202111\"\n",
    "enddate = \"202112\"\n",
    "date_list = generate_date_list(startdate, enddate)\n",
    "print(date_list)"
   ]
  },
  {
   "cell_type": "code",
   "execution_count": null,
   "id": "b5af1ca9",
   "metadata": {},
   "outputs": [],
   "source": [
    "news_date_li = generate_news_list(date_list)"
   ]
  },
  {
   "cell_type": "code",
   "execution_count": 31,
   "id": "00a19a7b",
   "metadata": {
    "scrolled": true
   },
   "outputs": [
    {
     "name": "stderr",
     "output_type": "stream",
     "text": [
      "100%|████████████████████████████████████████████████████████████████████████████| 10185/10185 [49:17<00:00,  3.44it/s]\n"
     ]
    },
    {
     "data": {
      "text/html": [
       "<div>\n",
       "<style scoped>\n",
       "    .dataframe tbody tr th:only-of-type {\n",
       "        vertical-align: middle;\n",
       "    }\n",
       "\n",
       "    .dataframe tbody tr th {\n",
       "        vertical-align: top;\n",
       "    }\n",
       "\n",
       "    .dataframe thead th {\n",
       "        text-align: right;\n",
       "    }\n",
       "</style>\n",
       "<table border=\"1\" class=\"dataframe\">\n",
       "  <thead>\n",
       "    <tr style=\"text-align: right;\">\n",
       "      <th></th>\n",
       "      <th>title</th>\n",
       "      <th>url</th>\n",
       "      <th>pubdate</th>\n",
       "      <th>content</th>\n",
       "    </tr>\n",
       "  </thead>\n",
       "  <tbody>\n",
       "    <tr>\n",
       "      <th>0</th>\n",
       "      <td>(영상)은행에 이자 깎아달라 요구하세요…작년 91만명 혜톅</td>\n",
       "      <td>https://n.news.naver.com/mnews/article/018/000...</td>\n",
       "      <td>20211101</td>\n",
       "      <td>신용도 오르면 금융기관에 금리인하 요구 가능홍보부족 탓 유명무실 지적에 금융위 개선...</td>\n",
       "    </tr>\n",
       "    <tr>\n",
       "      <th>1</th>\n",
       "      <td>한 풀 꺾인 신용대출, 높아진 금리에 상환↑</td>\n",
       "      <td>https://n.news.naver.com/mnews/article/018/000...</td>\n",
       "      <td>20211101</td>\n",
       "      <td>정부 규제, 금리 상승에 따라 상환액이 더 많아져[이데일리 김유성 기자] 지난 8월...</td>\n",
       "    </tr>\n",
       "    <tr>\n",
       "      <th>2</th>\n",
       "      <td>[그래픽] 5대 은행 가계대출 증가 규모</td>\n",
       "      <td>https://n.news.naver.com/mnews/article/001/001...</td>\n",
       "      <td>20211101</td>\n",
       "      <td>(서울=연합뉴스) 장예진 기자 = 1일 KB국민·신한·하나·우리·NH농협 등 5대 ...</td>\n",
       "    </tr>\n",
       "    <tr>\n",
       "      <th>3</th>\n",
       "      <td>“은행의 퇴직연금 반격?”…은행, ETF 투자 길 열리나</td>\n",
       "      <td>https://n.news.naver.com/mnews/article/018/000...</td>\n",
       "      <td>20211101</td>\n",
       "      <td>은행서 증권사로 자금 대이동 우려공격적 투자 MZ세대 이탈 차단하려[이데일리 황병서...</td>\n",
       "    </tr>\n",
       "    <tr>\n",
       "      <th>4</th>\n",
       "      <td>\"주택 실수요자 피해 막자\" 은행권 잔금대출 품앗이</td>\n",
       "      <td>https://n.news.naver.com/mnews/article/029/000...</td>\n",
       "      <td>20211101</td>\n",
       "      <td>서울시내 한 은행 대출창구에서 한 고객이 상담을 하고 있다. &lt;연합뉴스&gt;    금융...</td>\n",
       "    </tr>\n",
       "    <tr>\n",
       "      <th>...</th>\n",
       "      <td>...</td>\n",
       "      <td>...</td>\n",
       "      <td>...</td>\n",
       "      <td>...</td>\n",
       "    </tr>\n",
       "    <tr>\n",
       "      <th>10180</th>\n",
       "      <td>[단독] 국세청 직원들, 한도 축소 미리 알고 ‘대출 쇼핑’ 의혹은 사실</td>\n",
       "      <td>https://n.news.naver.com/mnews/article/005/000...</td>\n",
       "      <td>20211201</td>\n",
       "      <td>원천징수영수증 발급 건수 분석9월1~9일 총 290건… 일평균 32.2건한도 축소 ...</td>\n",
       "    </tr>\n",
       "    <tr>\n",
       "      <th>10181</th>\n",
       "      <td>마이데이터 시대 개막…내 정보, 한곳에서 한눈에 본다</td>\n",
       "      <td>https://n.news.naver.com/mnews/article/008/000...</td>\n",
       "      <td>20211201</td>\n",
       "      <td>여러 기관, 기업에 흩어졌던 개인의 정보를 한곳에서 보는 '마이데이터 시대'가 열린...</td>\n",
       "    </tr>\n",
       "    <tr>\n",
       "      <th>10182</th>\n",
       "      <td>로보어드바이저 업체 파운트 \"투자 상품군에 NFT 포함 검토\" [한경 엣지]</td>\n",
       "      <td>https://n.news.naver.com/mnews/article/015/000...</td>\n",
       "      <td>20211201</td>\n",
       "      <td>AI투자 핀테크 파운트 김영빈 대표 인터뷰올해 투자일임 서비스 새롭게 선보여美 증시...</td>\n",
       "    </tr>\n",
       "    <tr>\n",
       "      <th>10183</th>\n",
       "      <td>[포토] 신한은행, KBO리그 타이틀 스폰서 2년 연장</td>\n",
       "      <td>https://n.news.naver.com/mnews/article/015/000...</td>\n",
       "      <td>20211201</td>\n",
       "      <td>신한은행이 KBO리그 타이틀 스폰서 후원 계약을 2023년까지 2년 더 연장한다. ...</td>\n",
       "    </tr>\n",
       "    <tr>\n",
       "      <th>10184</th>\n",
       "      <td>악, 왜 내가!… 제2금융권 대출 중단에 중저신용자 비명</td>\n",
       "      <td>https://n.news.naver.com/mnews/article/005/000...</td>\n",
       "      <td>20211201</td>\n",
       "      <td>새마을금고 이어 신협도 가세  당국 압박에 대출절벽 가속화  서민들 급전 사채서 조...</td>\n",
       "    </tr>\n",
       "  </tbody>\n",
       "</table>\n",
       "<p>10185 rows × 4 columns</p>\n",
       "</div>"
      ],
      "text/plain": [
       "                                            title  \\\n",
       "0                (영상)은행에 이자 깎아달라 요구하세요…작년 91만명 혜톅   \n",
       "1                        한 풀 꺾인 신용대출, 높아진 금리에 상환↑   \n",
       "2                          [그래픽] 5대 은행 가계대출 증가 규모   \n",
       "3                 “은행의 퇴직연금 반격?”…은행, ETF 투자 길 열리나   \n",
       "4                    \"주택 실수요자 피해 막자\" 은행권 잔금대출 품앗이   \n",
       "...                                           ...   \n",
       "10180    [단독] 국세청 직원들, 한도 축소 미리 알고 ‘대출 쇼핑’ 의혹은 사실   \n",
       "10181               마이데이터 시대 개막…내 정보, 한곳에서 한눈에 본다   \n",
       "10182  로보어드바이저 업체 파운트 \"투자 상품군에 NFT 포함 검토\" [한경 엣지]   \n",
       "10183              [포토] 신한은행, KBO리그 타이틀 스폰서 2년 연장   \n",
       "10184             악, 왜 내가!… 제2금융권 대출 중단에 중저신용자 비명   \n",
       "\n",
       "                                                     url   pubdate  \\\n",
       "0      https://n.news.naver.com/mnews/article/018/000...  20211101   \n",
       "1      https://n.news.naver.com/mnews/article/018/000...  20211101   \n",
       "2      https://n.news.naver.com/mnews/article/001/001...  20211101   \n",
       "3      https://n.news.naver.com/mnews/article/018/000...  20211101   \n",
       "4      https://n.news.naver.com/mnews/article/029/000...  20211101   \n",
       "...                                                  ...       ...   \n",
       "10180  https://n.news.naver.com/mnews/article/005/000...  20211201   \n",
       "10181  https://n.news.naver.com/mnews/article/008/000...  20211201   \n",
       "10182  https://n.news.naver.com/mnews/article/015/000...  20211201   \n",
       "10183  https://n.news.naver.com/mnews/article/015/000...  20211201   \n",
       "10184  https://n.news.naver.com/mnews/article/005/000...  20211201   \n",
       "\n",
       "                                                 content  \n",
       "0      신용도 오르면 금융기관에 금리인하 요구 가능홍보부족 탓 유명무실 지적에 금융위 개선...  \n",
       "1      정부 규제, 금리 상승에 따라 상환액이 더 많아져[이데일리 김유성 기자] 지난 8월...  \n",
       "2      (서울=연합뉴스) 장예진 기자 = 1일 KB국민·신한·하나·우리·NH농협 등 5대 ...  \n",
       "3      은행서 증권사로 자금 대이동 우려공격적 투자 MZ세대 이탈 차단하려[이데일리 황병서...  \n",
       "4      서울시내 한 은행 대출창구에서 한 고객이 상담을 하고 있다. <연합뉴스>    금융...  \n",
       "...                                                  ...  \n",
       "10180  원천징수영수증 발급 건수 분석9월1~9일 총 290건… 일평균 32.2건한도 축소 ...  \n",
       "10181  여러 기관, 기업에 흩어졌던 개인의 정보를 한곳에서 보는 '마이데이터 시대'가 열린...  \n",
       "10182  AI투자 핀테크 파운트 김영빈 대표 인터뷰올해 투자일임 서비스 새롭게 선보여美 증시...  \n",
       "10183  신한은행이 KBO리그 타이틀 스폰서 후원 계약을 2023년까지 2년 더 연장한다. ...  \n",
       "10184  새마을금고 이어 신협도 가세  당국 압박에 대출절벽 가속화  서민들 급전 사채서 조...  \n",
       "\n",
       "[10185 rows x 4 columns]"
      ]
     },
     "execution_count": 31,
     "metadata": {},
     "output_type": "execute_result"
    }
   ],
   "source": [
    "news_df = generate_news_content_df(news_date_li)\n",
    "news_df.to_csv(f'경제면_금융섹터_기사({startdate}).csv',encoding='utf-8-sig', index=False)\n",
    "news_df"
   ]
  },
  {
   "cell_type": "markdown",
   "id": "d8c0cb0c",
   "metadata": {},
   "source": [
    "### 2021년 12월"
   ]
  },
  {
   "cell_type": "code",
   "execution_count": 32,
   "id": "ddd683fa",
   "metadata": {},
   "outputs": [
    {
     "name": "stdout",
     "output_type": "stream",
     "text": [
      "['20211201', '20211202', '20211203', '20211204', '20211205', '20211206', '20211207', '20211208', '20211209', '20211210', '20211211', '20211212', '20211213', '20211214', '20211215', '20211216', '20211217', '20211218', '20211219', '20211220', '20211221', '20211222', '20211223', '20211224', '20211225', '20211226', '20211227', '20211228', '20211229', '20211230', '20220101']\n"
     ]
    }
   ],
   "source": [
    "startdate = \"202112\"\n",
    "enddate = \"202201\"\n",
    "date_list = generate_date_list(startdate, enddate)\n",
    "print(date_list)"
   ]
  },
  {
   "cell_type": "code",
   "execution_count": null,
   "id": "d56131f6",
   "metadata": {},
   "outputs": [],
   "source": [
    "news_date_li = generate_news_list(date_list)"
   ]
  },
  {
   "cell_type": "code",
   "execution_count": 34,
   "id": "1db8554f",
   "metadata": {
    "scrolled": true
   },
   "outputs": [
    {
     "name": "stderr",
     "output_type": "stream",
     "text": [
      "100%|██████████████████████████████████████████████████████████████████████████████| 9866/9866 [47:03<00:00,  3.49it/s]\n"
     ]
    },
    {
     "data": {
      "text/html": [
       "<div>\n",
       "<style scoped>\n",
       "    .dataframe tbody tr th:only-of-type {\n",
       "        vertical-align: middle;\n",
       "    }\n",
       "\n",
       "    .dataframe tbody tr th {\n",
       "        vertical-align: top;\n",
       "    }\n",
       "\n",
       "    .dataframe thead th {\n",
       "        text-align: right;\n",
       "    }\n",
       "</style>\n",
       "<table border=\"1\" class=\"dataframe\">\n",
       "  <thead>\n",
       "    <tr style=\"text-align: right;\">\n",
       "      <th></th>\n",
       "      <th>title</th>\n",
       "      <th>url</th>\n",
       "      <th>pubdate</th>\n",
       "      <th>content</th>\n",
       "    </tr>\n",
       "  </thead>\n",
       "  <tbody>\n",
       "    <tr>\n",
       "      <th>0</th>\n",
       "      <td>케이뱅크, 자동 목돈 모으기 '챌린지박스' 출시</td>\n",
       "      <td>https://n.news.naver.com/mnews/article/011/000...</td>\n",
       "      <td>20211201</td>\n",
       "      <td>[서울경제] 케이뱅크는 누구나 쉽고 편하게 돈을 모을 수 있는 자동 목돈 모으기 ‘...</td>\n",
       "    </tr>\n",
       "    <tr>\n",
       "      <th>1</th>\n",
       "      <td>[데일리안 오늘뉴스 종합] 이준석, 잠행 중 부산서 정의화 전 국회의장과 회동, '...</td>\n",
       "      <td>https://n.news.naver.com/mnews/article/119/000...</td>\n",
       "      <td>20211201</td>\n",
       "      <td>국민의힘 이준석 대표 ⓒ데일리안 홍금표 기자[데일리안 = 이건엄 기자] ▲[단독] ...</td>\n",
       "    </tr>\n",
       "    <tr>\n",
       "      <th>2</th>\n",
       "      <td>66년생 이재근 행장 추천...KB 세대교체 바람 부나</td>\n",
       "      <td>https://n.news.naver.com/mnews/article/029/000...</td>\n",
       "      <td>20211201</td>\n",
       "      <td>세대교체 신호탄…영업·재무 역량 보유허인 행장 부회장 승진\\n\\n\\n\\nKB금융이 ...</td>\n",
       "    </tr>\n",
       "    <tr>\n",
       "      <th>3</th>\n",
       "      <td>(영상)저축銀 예대금리차, 은행의 4배…서민 상대로 이자장사 '논란'</td>\n",
       "      <td>https://n.news.naver.com/mnews/article/018/000...</td>\n",
       "      <td>20211201</td>\n",
       "      <td>저축은행 예대금리차 평균 7.8%p...시중은행의 4배정은보 “저축은행 금리산정체계...</td>\n",
       "    </tr>\n",
       "    <tr>\n",
       "      <th>4</th>\n",
       "      <td>사업재편 도모하는 기업…캠코가 자산 인수해 지원</td>\n",
       "      <td>https://n.news.naver.com/mnews/article/277/000...</td>\n",
       "      <td>20211201</td>\n",
       "      <td>한국자산관리공사(캠코)가 신산업 진출을 위해 사업재편을 도모하는 기업의 자산을 인수...</td>\n",
       "    </tr>\n",
       "    <tr>\n",
       "      <th>...</th>\n",
       "      <td>...</td>\n",
       "      <td>...</td>\n",
       "      <td>...</td>\n",
       "      <td>...</td>\n",
       "    </tr>\n",
       "    <tr>\n",
       "      <th>9861</th>\n",
       "      <td>[신년사]방문규 수출입은행장 “7000억불 무역강국 도약, 총력 뒷받침”</td>\n",
       "      <td>https://n.news.naver.com/mnews/article/018/000...</td>\n",
       "      <td>20220101</td>\n",
       "      <td>혁신성장 분야에 총 14조 공급중소중견기업에 총 30조 공급‘글로벌 공급망 대응 프...</td>\n",
       "    </tr>\n",
       "    <tr>\n",
       "      <th>9862</th>\n",
       "      <td>[선택 2022-금융①] 대출금리 6%시대...\"이자 상환 부담, 실수요자 피해 줄여야\"</td>\n",
       "      <td>https://n.news.naver.com/mnews/article/119/000...</td>\n",
       "      <td>20220101</td>\n",
       "      <td>기준금리 인상·대출규제 한파 ‘비상’금리 1%p 뛸 때 이자 13조 늘어나금융지원 ...</td>\n",
       "    </tr>\n",
       "    <tr>\n",
       "      <th>9863</th>\n",
       "      <td>[신년사] 방문규 수출입은행장 \"K-공급망 구축에 총력 지원\"</td>\n",
       "      <td>https://n.news.naver.com/mnews/article/001/001...</td>\n",
       "      <td>20220101</td>\n",
       "      <td>방문규 한국수출입은행장 [연합뉴스 자료사진](서울=연합뉴스) 이지헌 기자 = 방문규...</td>\n",
       "    </tr>\n",
       "    <tr>\n",
       "      <th>9864</th>\n",
       "      <td>[신년사]방문규 수은 행장 \"글로벌 공급망 안정화에 총력\"</td>\n",
       "      <td>https://n.news.naver.com/mnews/article/003/001...</td>\n",
       "      <td>20220101</td>\n",
       "      <td>[서울=뉴시스] 전신 기자 = 방문규 한국수출입은행장이 지난 10월 13일 서울 여...</td>\n",
       "    </tr>\n",
       "    <tr>\n",
       "      <th>9865</th>\n",
       "      <td>방문규 수은 행장 \"K서플라이 체인 구축에 총력…15조원 지원\"</td>\n",
       "      <td>https://n.news.naver.com/mnews/article/421/000...</td>\n",
       "      <td>20220101</td>\n",
       "      <td>2022년 신년사…반도체·배터리 등 혁신성장에 14조원 공급\\n\\n\\n\\n방문규 수...</td>\n",
       "    </tr>\n",
       "  </tbody>\n",
       "</table>\n",
       "<p>9866 rows × 4 columns</p>\n",
       "</div>"
      ],
      "text/plain": [
       "                                                  title  \\\n",
       "0                            케이뱅크, 자동 목돈 모으기 '챌린지박스' 출시   \n",
       "1     [데일리안 오늘뉴스 종합] 이준석, 잠행 중 부산서 정의화 전 국회의장과 회동, '...   \n",
       "2                        66년생 이재근 행장 추천...KB 세대교체 바람 부나   \n",
       "3                (영상)저축銀 예대금리차, 은행의 4배…서민 상대로 이자장사 '논란'   \n",
       "4                            사업재편 도모하는 기업…캠코가 자산 인수해 지원   \n",
       "...                                                 ...   \n",
       "9861           [신년사]방문규 수출입은행장 “7000억불 무역강국 도약, 총력 뒷받침”   \n",
       "9862  [선택 2022-금융①] 대출금리 6%시대...\"이자 상환 부담, 실수요자 피해 줄여야\"   \n",
       "9863                 [신년사] 방문규 수출입은행장 \"K-공급망 구축에 총력 지원\"   \n",
       "9864                   [신년사]방문규 수은 행장 \"글로벌 공급망 안정화에 총력\"   \n",
       "9865                방문규 수은 행장 \"K서플라이 체인 구축에 총력…15조원 지원\"   \n",
       "\n",
       "                                                    url   pubdate  \\\n",
       "0     https://n.news.naver.com/mnews/article/011/000...  20211201   \n",
       "1     https://n.news.naver.com/mnews/article/119/000...  20211201   \n",
       "2     https://n.news.naver.com/mnews/article/029/000...  20211201   \n",
       "3     https://n.news.naver.com/mnews/article/018/000...  20211201   \n",
       "4     https://n.news.naver.com/mnews/article/277/000...  20211201   \n",
       "...                                                 ...       ...   \n",
       "9861  https://n.news.naver.com/mnews/article/018/000...  20220101   \n",
       "9862  https://n.news.naver.com/mnews/article/119/000...  20220101   \n",
       "9863  https://n.news.naver.com/mnews/article/001/001...  20220101   \n",
       "9864  https://n.news.naver.com/mnews/article/003/001...  20220101   \n",
       "9865  https://n.news.naver.com/mnews/article/421/000...  20220101   \n",
       "\n",
       "                                                content  \n",
       "0     [서울경제] 케이뱅크는 누구나 쉽고 편하게 돈을 모을 수 있는 자동 목돈 모으기 ‘...  \n",
       "1     국민의힘 이준석 대표 ⓒ데일리안 홍금표 기자[데일리안 = 이건엄 기자] ▲[단독] ...  \n",
       "2     세대교체 신호탄…영업·재무 역량 보유허인 행장 부회장 승진\\n\\n\\n\\nKB금융이 ...  \n",
       "3     저축은행 예대금리차 평균 7.8%p...시중은행의 4배정은보 “저축은행 금리산정체계...  \n",
       "4     한국자산관리공사(캠코)가 신산업 진출을 위해 사업재편을 도모하는 기업의 자산을 인수...  \n",
       "...                                                 ...  \n",
       "9861  혁신성장 분야에 총 14조 공급중소중견기업에 총 30조 공급‘글로벌 공급망 대응 프...  \n",
       "9862  기준금리 인상·대출규제 한파 ‘비상’금리 1%p 뛸 때 이자 13조 늘어나금융지원 ...  \n",
       "9863  방문규 한국수출입은행장 [연합뉴스 자료사진](서울=연합뉴스) 이지헌 기자 = 방문규...  \n",
       "9864  [서울=뉴시스] 전신 기자 = 방문규 한국수출입은행장이 지난 10월 13일 서울 여...  \n",
       "9865  2022년 신년사…반도체·배터리 등 혁신성장에 14조원 공급\\n\\n\\n\\n방문규 수...  \n",
       "\n",
       "[9866 rows x 4 columns]"
      ]
     },
     "execution_count": 34,
     "metadata": {},
     "output_type": "execute_result"
    }
   ],
   "source": [
    "news_df = generate_news_content_df(news_date_li)\n",
    "news_df.to_csv(f'경제면_금융섹터_기사({startdate}).csv',encoding='utf-8-sig', index=False)\n",
    "news_df"
   ]
  },
  {
   "cell_type": "markdown",
   "id": "39a8512e",
   "metadata": {},
   "source": [
    "### 2022년 1월"
   ]
  },
  {
   "cell_type": "code",
   "execution_count": 6,
   "id": "7bcfde5f",
   "metadata": {},
   "outputs": [
    {
     "name": "stdout",
     "output_type": "stream",
     "text": [
      "['20220101', '20220102', '20220103', '20220104', '20220105', '20220106', '20220107', '20220108', '20220109', '20220110', '20220111', '20220112', '20220113', '20220114', '20220115', '20220116', '20220117', '20220118', '20220119', '20220120', '20220121', '20220122', '20220123', '20220124', '20220125', '20220126', '20220127', '20220128', '20220129', '20220130', '20220201']\n"
     ]
    }
   ],
   "source": [
    "startdate = \"202201\"\n",
    "enddate = \"202202\"\n",
    "date_list = generate_date_list(startdate, enddate)\n",
    "print(date_list)"
   ]
  },
  {
   "cell_type": "code",
   "execution_count": null,
   "id": "371064c1",
   "metadata": {},
   "outputs": [],
   "source": [
    "news_date_li = generate_news_list(date_list)"
   ]
  },
  {
   "cell_type": "code",
   "execution_count": 8,
   "id": "ab407b44",
   "metadata": {
    "scrolled": true
   },
   "outputs": [
    {
     "name": "stderr",
     "output_type": "stream",
     "text": [
      "100%|██████████████████████████████████████████████████████████████████████████████| 9431/9431 [44:07<00:00,  3.56it/s]\n"
     ]
    },
    {
     "data": {
      "text/html": [
       "<div>\n",
       "<style scoped>\n",
       "    .dataframe tbody tr th:only-of-type {\n",
       "        vertical-align: middle;\n",
       "    }\n",
       "\n",
       "    .dataframe tbody tr th {\n",
       "        vertical-align: top;\n",
       "    }\n",
       "\n",
       "    .dataframe thead th {\n",
       "        text-align: right;\n",
       "    }\n",
       "</style>\n",
       "<table border=\"1\" class=\"dataframe\">\n",
       "  <thead>\n",
       "    <tr style=\"text-align: right;\">\n",
       "      <th></th>\n",
       "      <th>title</th>\n",
       "      <th>url</th>\n",
       "      <th>pubdate</th>\n",
       "      <th>content</th>\n",
       "    </tr>\n",
       "  </thead>\n",
       "  <tbody>\n",
       "    <tr>\n",
       "      <th>0</th>\n",
       "      <td>코인 대박, 암호화폐 선택에 달렸다</td>\n",
       "      <td>https://n.news.naver.com/mnews/article/015/000...</td>\n",
       "      <td>20220101</td>\n",
       "      <td>2022 주식투자 가이드\\n\\n\\n\\n사진=REUTERS비트코인 77%, 이더리움 ...</td>\n",
       "    </tr>\n",
       "    <tr>\n",
       "      <th>1</th>\n",
       "      <td>새해 첫 로또 1등 번호 ‘6·11·15·24·32·39’…당첨금 약 14억원(종합)</td>\n",
       "      <td>https://n.news.naver.com/mnews/article/018/000...</td>\n",
       "      <td>20220101</td>\n",
       "      <td>[이데일리 배진솔 기자] 새해 첫 날인 1일 ‘제 996회 행복드림 로또’ 추첨 결...</td>\n",
       "    </tr>\n",
       "    <tr>\n",
       "      <th>2</th>\n",
       "      <td>996회 로또 1등 ‘6·11·15·24·32·39’…보너스 번호 ‘28’</td>\n",
       "      <td>https://n.news.naver.com/mnews/article/018/000...</td>\n",
       "      <td>20220101</td>\n",
       "      <td>[이데일리 배진솔 기자] 새해 첫날인 1일 ‘제 996회 행복드림 로또’ 추첨 결과...</td>\n",
       "    </tr>\n",
       "    <tr>\n",
       "      <th>3</th>\n",
       "      <td>보험료 폭탄 현실로…내년 실손보험 인상률 평균 14.2%</td>\n",
       "      <td>https://n.news.naver.com/mnews/article/277/000...</td>\n",
       "      <td>20220101</td>\n",
       "      <td>1년간 보험료 50%할인으로4세대 전환 유도도\\n\\n\\n\\n올해 1~3세대 실손의료...</td>\n",
       "    </tr>\n",
       "    <tr>\n",
       "      <th>4</th>\n",
       "      <td>\"MZ 목소리 들어야 산다\"…저축銀, '주니어 아이디어 경영' 열풍</td>\n",
       "      <td>https://n.news.naver.com/mnews/article/277/000...</td>\n",
       "      <td>20220101</td>\n",
       "      <td>사진은 JT저축은행 최성욱 대표이사와 주니어 아이디어 공모에 참여해 의견을 제안하고...</td>\n",
       "    </tr>\n",
       "    <tr>\n",
       "      <th>...</th>\n",
       "      <td>...</td>\n",
       "      <td>...</td>\n",
       "      <td>...</td>\n",
       "      <td>...</td>\n",
       "    </tr>\n",
       "    <tr>\n",
       "      <th>9426</th>\n",
       "      <td>나스닥 3.41% 급등하자 美전기차주 일제히 10%내외 폭등(종합)</td>\n",
       "      <td>https://n.news.naver.com/mnews/article/421/000...</td>\n",
       "      <td>20220201</td>\n",
       "      <td>테슬라 주가 일일추이 - 야후 파이낸스 갈무리(서울=뉴스1) 박형기 기자 = 나스닥...</td>\n",
       "    </tr>\n",
       "    <tr>\n",
       "      <th>9427</th>\n",
       "      <td>\"경기도의 청년 기본대출, 금리 3% 내외…은행에 이차보전 없어\"</td>\n",
       "      <td>https://n.news.naver.com/mnews/article/001/001...</td>\n",
       "      <td>20220201</td>\n",
       "      <td>소득·자산·신용 무관…경기도, 1월 27일 시중은행 등 대상 설명회이재명 후보의 1...</td>\n",
       "    </tr>\n",
       "    <tr>\n",
       "      <th>9428</th>\n",
       "      <td>수출입은행 \"올해 조선 신규 수주 25% 감소 전망\"</td>\n",
       "      <td>https://n.news.naver.com/mnews/article/001/001...</td>\n",
       "      <td>20220201</td>\n",
       "      <td>\"컨테이너선 수요 감소 여파…중국 장악한 시장 되찾아와야\"\\n\\n\\n\\n조선업계 수...</td>\n",
       "    </tr>\n",
       "    <tr>\n",
       "      <th>9429</th>\n",
       "      <td>오미크론 확산에… \"올 설에도 은행 이동점포는 쉽니다\"</td>\n",
       "      <td>https://n.news.naver.com/mnews/article/417/000...</td>\n",
       "      <td>20220201</td>\n",
       "      <td>올 추석 연휴에는 대부분의 시중은행들이 이동식 은행점포(이동점포)를 운영하지 않는다...</td>\n",
       "    </tr>\n",
       "    <tr>\n",
       "      <th>9430</th>\n",
       "      <td>[세계의 포용금융]① 집에 돈 쌓아두던 미국… 공공펀드가 은행 대신한다</td>\n",
       "      <td>https://n.news.naver.com/mnews/article/366/000...</td>\n",
       "      <td>20220201</td>\n",
       "      <td>[편집자주]‘No one left behind(누구도 소외되지 않아야 한다).’ 2...</td>\n",
       "    </tr>\n",
       "  </tbody>\n",
       "</table>\n",
       "<p>9431 rows × 4 columns</p>\n",
       "</div>"
      ],
      "text/plain": [
       "                                                title  \\\n",
       "0                                 코인 대박, 암호화폐 선택에 달렸다   \n",
       "1     새해 첫 로또 1등 번호 ‘6·11·15·24·32·39’…당첨금 약 14억원(종합)   \n",
       "2           996회 로또 1등 ‘6·11·15·24·32·39’…보너스 번호 ‘28’   \n",
       "3                     보험료 폭탄 현실로…내년 실손보험 인상률 평균 14.2%   \n",
       "4               \"MZ 목소리 들어야 산다\"…저축銀, '주니어 아이디어 경영' 열풍   \n",
       "...                                               ...   \n",
       "9426            나스닥 3.41% 급등하자 美전기차주 일제히 10%내외 폭등(종합)   \n",
       "9427             \"경기도의 청년 기본대출, 금리 3% 내외…은행에 이차보전 없어\"   \n",
       "9428                    수출입은행 \"올해 조선 신규 수주 25% 감소 전망\"   \n",
       "9429                   오미크론 확산에… \"올 설에도 은행 이동점포는 쉽니다\"   \n",
       "9430          [세계의 포용금융]① 집에 돈 쌓아두던 미국… 공공펀드가 은행 대신한다   \n",
       "\n",
       "                                                    url   pubdate  \\\n",
       "0     https://n.news.naver.com/mnews/article/015/000...  20220101   \n",
       "1     https://n.news.naver.com/mnews/article/018/000...  20220101   \n",
       "2     https://n.news.naver.com/mnews/article/018/000...  20220101   \n",
       "3     https://n.news.naver.com/mnews/article/277/000...  20220101   \n",
       "4     https://n.news.naver.com/mnews/article/277/000...  20220101   \n",
       "...                                                 ...       ...   \n",
       "9426  https://n.news.naver.com/mnews/article/421/000...  20220201   \n",
       "9427  https://n.news.naver.com/mnews/article/001/001...  20220201   \n",
       "9428  https://n.news.naver.com/mnews/article/001/001...  20220201   \n",
       "9429  https://n.news.naver.com/mnews/article/417/000...  20220201   \n",
       "9430  https://n.news.naver.com/mnews/article/366/000...  20220201   \n",
       "\n",
       "                                                content  \n",
       "0     2022 주식투자 가이드\\n\\n\\n\\n사진=REUTERS비트코인 77%, 이더리움 ...  \n",
       "1     [이데일리 배진솔 기자] 새해 첫 날인 1일 ‘제 996회 행복드림 로또’ 추첨 결...  \n",
       "2     [이데일리 배진솔 기자] 새해 첫날인 1일 ‘제 996회 행복드림 로또’ 추첨 결과...  \n",
       "3     1년간 보험료 50%할인으로4세대 전환 유도도\\n\\n\\n\\n올해 1~3세대 실손의료...  \n",
       "4     사진은 JT저축은행 최성욱 대표이사와 주니어 아이디어 공모에 참여해 의견을 제안하고...  \n",
       "...                                                 ...  \n",
       "9426  테슬라 주가 일일추이 - 야후 파이낸스 갈무리(서울=뉴스1) 박형기 기자 = 나스닥...  \n",
       "9427  소득·자산·신용 무관…경기도, 1월 27일 시중은행 등 대상 설명회이재명 후보의 1...  \n",
       "9428  \"컨테이너선 수요 감소 여파…중국 장악한 시장 되찾아와야\"\\n\\n\\n\\n조선업계 수...  \n",
       "9429  올 추석 연휴에는 대부분의 시중은행들이 이동식 은행점포(이동점포)를 운영하지 않는다...  \n",
       "9430  [편집자주]‘No one left behind(누구도 소외되지 않아야 한다).’ 2...  \n",
       "\n",
       "[9431 rows x 4 columns]"
      ]
     },
     "execution_count": 8,
     "metadata": {},
     "output_type": "execute_result"
    }
   ],
   "source": [
    "news_df = generate_news_content_df(news_date_li)\n",
    "news_df.to_csv(f'경제면_금융섹터_기사({startdate}).csv',encoding='utf-8-sig', index=False)\n",
    "news_df"
   ]
  },
  {
   "cell_type": "markdown",
   "id": "d27a5ac0",
   "metadata": {},
   "source": [
    "### 2022년 2월"
   ]
  },
  {
   "cell_type": "code",
   "execution_count": 10,
   "id": "7c5b84b7",
   "metadata": {},
   "outputs": [
    {
     "name": "stdout",
     "output_type": "stream",
     "text": [
      "['20220201', '20220202', '20220203', '20220204', '20220205', '20220206', '20220207', '20220208', '20220209', '20220210', '20220211', '20220212', '20220213', '20220214', '20220215', '20220216', '20220217', '20220218', '20220219', '20220220', '20220221', '20220222', '20220223', '20220224', '20220225', '20220226', '20220227', '20220301']\n"
     ]
    }
   ],
   "source": [
    "startdate = \"202202\"\n",
    "enddate = \"202203\"\n",
    "date_list = generate_date_list(startdate, enddate)\n",
    "print(date_list)"
   ]
  },
  {
   "cell_type": "code",
   "execution_count": null,
   "id": "c9e0dc68",
   "metadata": {},
   "outputs": [],
   "source": [
    "news_date_li = generate_news_list(date_list)"
   ]
  },
  {
   "cell_type": "code",
   "execution_count": 12,
   "id": "a91db3df",
   "metadata": {
    "scrolled": true
   },
   "outputs": [
    {
     "name": "stderr",
     "output_type": "stream",
     "text": [
      "100%|██████████████████████████████████████████████████████████████████████████████| 7727/7727 [36:40<00:00,  3.51it/s]\n"
     ]
    },
    {
     "data": {
      "text/html": [
       "<div>\n",
       "<style scoped>\n",
       "    .dataframe tbody tr th:only-of-type {\n",
       "        vertical-align: middle;\n",
       "    }\n",
       "\n",
       "    .dataframe tbody tr th {\n",
       "        vertical-align: top;\n",
       "    }\n",
       "\n",
       "    .dataframe thead th {\n",
       "        text-align: right;\n",
       "    }\n",
       "</style>\n",
       "<table border=\"1\" class=\"dataframe\">\n",
       "  <thead>\n",
       "    <tr style=\"text-align: right;\">\n",
       "      <th></th>\n",
       "      <th>title</th>\n",
       "      <th>url</th>\n",
       "      <th>pubdate</th>\n",
       "      <th>content</th>\n",
       "    </tr>\n",
       "  </thead>\n",
       "  <tbody>\n",
       "    <tr>\n",
       "      <th>0</th>\n",
       "      <td>빚더미 자영업자 어쩌나…금리인상에 이자부담 직격탄</td>\n",
       "      <td>https://n.news.naver.com/mnews/article/009/000...</td>\n",
       "      <td>20220201</td>\n",
       "      <td>10명 중 1명꼴 금리 1%P 오를 때마다 소득 5% 이상 추가 이자비용으로 써야 ...</td>\n",
       "    </tr>\n",
       "    <tr>\n",
       "      <th>1</th>\n",
       "      <td>\"아뿔사! 상속 포기 후 발견한 5억 보험금 내 돈이었네\"…보험금 수령은</td>\n",
       "      <td>https://n.news.naver.com/mnews/article/009/000...</td>\n",
       "      <td>20220201</td>\n",
       "      <td>대법원 \"상속인 보험청구권은 고유재산 인정\"\\n\\n\\n\\n[사진 = 연합뉴스] # ...</td>\n",
       "    </tr>\n",
       "    <tr>\n",
       "      <th>2</th>\n",
       "      <td>청년층 자산형성·창업지원·주택청약에 금융혜택 풍성해진다</td>\n",
       "      <td>https://n.news.naver.com/mnews/article/243/000...</td>\n",
       "      <td>20220201</td>\n",
       "      <td>이자에 저축장려금 추가 지급 적금 출시청년창업기업 투자하는 420억 펀드 조성장기 ...</td>\n",
       "    </tr>\n",
       "    <tr>\n",
       "      <th>3</th>\n",
       "      <td>부산은행, 폐플라스틱 컵 재활용, 제조한 인형 등 기부</td>\n",
       "      <td>https://n.news.naver.com/mnews/article/014/000...</td>\n",
       "      <td>20220201</td>\n",
       "      <td>BNK부산은행은 27일 본점에서 ‘업사이클링 물품 후원’ 전달식을 갖고 ‘리플 캠페...</td>\n",
       "    </tr>\n",
       "    <tr>\n",
       "      <th>4</th>\n",
       "      <td>경남은행, 설프라이즈 외국인 해외송금 사은행사</td>\n",
       "      <td>https://n.news.naver.com/mnews/article/014/000...</td>\n",
       "      <td>20220201</td>\n",
       "      <td>[파이낸셜뉴스]  BNK경남은행은 '설프라이즈 외국인 해외송금 사은행사'를 이달 1...</td>\n",
       "    </tr>\n",
       "    <tr>\n",
       "      <th>...</th>\n",
       "      <td>...</td>\n",
       "      <td>...</td>\n",
       "      <td>...</td>\n",
       "      <td>...</td>\n",
       "    </tr>\n",
       "    <tr>\n",
       "      <th>7722</th>\n",
       "      <td>“소상공인 대출 만기연장·상환유예 더 연장”</td>\n",
       "      <td>https://n.news.naver.com/mnews/article/005/000...</td>\n",
       "      <td>20220301</td>\n",
       "      <td>고승범 금융위원장 밝혀\\n\\n\\n\\n고승범(사진) 금융위원장이 28일 소상공인 대출...</td>\n",
       "    </tr>\n",
       "    <tr>\n",
       "      <th>7723</th>\n",
       "      <td>[이동훈의 이코노 아웃룩] 러시아 돈줄 끊는 SWIFT 차단… 세계경제도 ‘대혼돈’</td>\n",
       "      <td>https://n.news.naver.com/mnews/article/005/000...</td>\n",
       "      <td>20220301</td>\n",
       "      <td>독일 프랑크푸르트에서 지난 26일(현지시간) 러시아의 우크라이나 침공을 반대하는 집...</td>\n",
       "    </tr>\n",
       "    <tr>\n",
       "      <th>7724</th>\n",
       "      <td>미국 ‘12억원 이상 연금 계좌’ 보유한 가입자 26만명</td>\n",
       "      <td>https://n.news.naver.com/mnews/article/005/000...</td>\n",
       "      <td>20220301</td>\n",
       "      <td>연금 선진국 평균 수익률 8% 넘어… 기본 투자상품으로 ‘TDF’ 채택\\n\\n\\n\\...</td>\n",
       "    </tr>\n",
       "    <tr>\n",
       "      <th>7725</th>\n",
       "      <td>7월 열리는 ‘퇴직연금 투자시대’… 금융시장 신뢰 회복이 과제</td>\n",
       "      <td>https://n.news.naver.com/mnews/article/005/000...</td>\n",
       "      <td>20220301</td>\n",
       "      <td>[대선 이후 자본시장, 어떻게 바꿔야 하나] &lt;2&gt; ‘연금부자’를 만들자\\n\\n\\n...</td>\n",
       "    </tr>\n",
       "    <tr>\n",
       "      <th>7726</th>\n",
       "      <td>은행장 만난 고승범 \"코로나19 대출 한 번 더\"…잠재부실 어떡하나</td>\n",
       "      <td>https://n.news.naver.com/mnews/article/629/000...</td>\n",
       "      <td>20220301</td>\n",
       "      <td>금융당국, 부실화 가능성 미시 분석 통해 '맞춤형 지원방안' 마련\\n\\n\\n\\n고승...</td>\n",
       "    </tr>\n",
       "  </tbody>\n",
       "</table>\n",
       "<p>7727 rows × 4 columns</p>\n",
       "</div>"
      ],
      "text/plain": [
       "                                               title  \\\n",
       "0                        빚더미 자영업자 어쩌나…금리인상에 이자부담 직격탄   \n",
       "1           \"아뿔사! 상속 포기 후 발견한 5억 보험금 내 돈이었네\"…보험금 수령은   \n",
       "2                     청년층 자산형성·창업지원·주택청약에 금융혜택 풍성해진다   \n",
       "3                     부산은행, 폐플라스틱 컵 재활용, 제조한 인형 등 기부   \n",
       "4                          경남은행, 설프라이즈 외국인 해외송금 사은행사   \n",
       "...                                              ...   \n",
       "7722                        “소상공인 대출 만기연장·상환유예 더 연장”   \n",
       "7723  [이동훈의 이코노 아웃룩] 러시아 돈줄 끊는 SWIFT 차단… 세계경제도 ‘대혼돈’   \n",
       "7724                 미국 ‘12억원 이상 연금 계좌’ 보유한 가입자 26만명   \n",
       "7725              7월 열리는 ‘퇴직연금 투자시대’… 금융시장 신뢰 회복이 과제   \n",
       "7726           은행장 만난 고승범 \"코로나19 대출 한 번 더\"…잠재부실 어떡하나   \n",
       "\n",
       "                                                    url   pubdate  \\\n",
       "0     https://n.news.naver.com/mnews/article/009/000...  20220201   \n",
       "1     https://n.news.naver.com/mnews/article/009/000...  20220201   \n",
       "2     https://n.news.naver.com/mnews/article/243/000...  20220201   \n",
       "3     https://n.news.naver.com/mnews/article/014/000...  20220201   \n",
       "4     https://n.news.naver.com/mnews/article/014/000...  20220201   \n",
       "...                                                 ...       ...   \n",
       "7722  https://n.news.naver.com/mnews/article/005/000...  20220301   \n",
       "7723  https://n.news.naver.com/mnews/article/005/000...  20220301   \n",
       "7724  https://n.news.naver.com/mnews/article/005/000...  20220301   \n",
       "7725  https://n.news.naver.com/mnews/article/005/000...  20220301   \n",
       "7726  https://n.news.naver.com/mnews/article/629/000...  20220301   \n",
       "\n",
       "                                                content  \n",
       "0     10명 중 1명꼴 금리 1%P 오를 때마다 소득 5% 이상 추가 이자비용으로 써야 ...  \n",
       "1     대법원 \"상속인 보험청구권은 고유재산 인정\"\\n\\n\\n\\n[사진 = 연합뉴스] # ...  \n",
       "2     이자에 저축장려금 추가 지급 적금 출시청년창업기업 투자하는 420억 펀드 조성장기 ...  \n",
       "3     BNK부산은행은 27일 본점에서 ‘업사이클링 물품 후원’ 전달식을 갖고 ‘리플 캠페...  \n",
       "4     [파이낸셜뉴스]  BNK경남은행은 '설프라이즈 외국인 해외송금 사은행사'를 이달 1...  \n",
       "...                                                 ...  \n",
       "7722  고승범 금융위원장 밝혀\\n\\n\\n\\n고승범(사진) 금융위원장이 28일 소상공인 대출...  \n",
       "7723  독일 프랑크푸르트에서 지난 26일(현지시간) 러시아의 우크라이나 침공을 반대하는 집...  \n",
       "7724  연금 선진국 평균 수익률 8% 넘어… 기본 투자상품으로 ‘TDF’ 채택\\n\\n\\n\\...  \n",
       "7725  [대선 이후 자본시장, 어떻게 바꿔야 하나] <2> ‘연금부자’를 만들자\\n\\n\\n...  \n",
       "7726  금융당국, 부실화 가능성 미시 분석 통해 '맞춤형 지원방안' 마련\\n\\n\\n\\n고승...  \n",
       "\n",
       "[7727 rows x 4 columns]"
      ]
     },
     "execution_count": 12,
     "metadata": {},
     "output_type": "execute_result"
    }
   ],
   "source": [
    "news_df = generate_news_content_df(news_date_li)\n",
    "news_df.to_csv(f'경제면_금융섹터_기사({startdate}).csv',encoding='utf-8-sig', index=False)\n",
    "news_df"
   ]
  },
  {
   "cell_type": "markdown",
   "id": "26e3301e",
   "metadata": {},
   "source": [
    "### 2022년 3월"
   ]
  },
  {
   "cell_type": "code",
   "execution_count": 13,
   "id": "c7c7add9",
   "metadata": {},
   "outputs": [
    {
     "name": "stdout",
     "output_type": "stream",
     "text": [
      "['20220301', '20220302', '20220303', '20220304', '20220305', '20220306', '20220307', '20220308', '20220309', '20220310', '20220311', '20220312', '20220313', '20220314', '20220315', '20220316', '20220317', '20220318', '20220319', '20220320', '20220321', '20220322', '20220323', '20220324', '20220325', '20220326', '20220327', '20220328', '20220329', '20220330', '20220401']\n"
     ]
    }
   ],
   "source": [
    "startdate = \"202203\"\n",
    "enddate = \"202204\"\n",
    "date_list = generate_date_list(startdate, enddate)\n",
    "print(date_list)"
   ]
  },
  {
   "cell_type": "code",
   "execution_count": null,
   "id": "329ba4cb",
   "metadata": {},
   "outputs": [],
   "source": [
    "news_date_li = generate_news_list(date_list)"
   ]
  },
  {
   "cell_type": "code",
   "execution_count": 15,
   "id": "4d196ccd",
   "metadata": {
    "scrolled": true
   },
   "outputs": [
    {
     "name": "stderr",
     "output_type": "stream",
     "text": [
      "100%|████████████████████████████████████████████████████████████████████████████| 10245/10245 [48:07<00:00,  3.55it/s]\n"
     ]
    },
    {
     "data": {
      "text/html": [
       "<div>\n",
       "<style scoped>\n",
       "    .dataframe tbody tr th:only-of-type {\n",
       "        vertical-align: middle;\n",
       "    }\n",
       "\n",
       "    .dataframe tbody tr th {\n",
       "        vertical-align: top;\n",
       "    }\n",
       "\n",
       "    .dataframe thead th {\n",
       "        text-align: right;\n",
       "    }\n",
       "</style>\n",
       "<table border=\"1\" class=\"dataframe\">\n",
       "  <thead>\n",
       "    <tr style=\"text-align: right;\">\n",
       "      <th></th>\n",
       "      <th>title</th>\n",
       "      <th>url</th>\n",
       "      <th>pubdate</th>\n",
       "      <th>content</th>\n",
       "    </tr>\n",
       "  </thead>\n",
       "  <tbody>\n",
       "    <tr>\n",
       "      <th>0</th>\n",
       "      <td>게임업계 '별' 김정주 넥슨 창업주 별세 소식에…암호화폐 업계도 '침통'</td>\n",
       "      <td>https://n.news.naver.com/mnews/article/421/000...</td>\n",
       "      <td>20220301</td>\n",
       "      <td>김정주 넥슨 창업자 (넥슨 제공) © 뉴스1(서울=뉴스1) 송화연 기자 = 김정주 ...</td>\n",
       "    </tr>\n",
       "    <tr>\n",
       "      <th>1</th>\n",
       "      <td>러시아 7개은행 거래 중지·국고채 투자 중단</td>\n",
       "      <td>https://n.news.naver.com/mnews/article/029/000...</td>\n",
       "      <td>20220301</td>\n",
       "      <td>정부가 러시아에 대한 국제사회의 금융 제재에 동참한다는 의사를 표명하고 그에 따른 ...</td>\n",
       "    </tr>\n",
       "    <tr>\n",
       "      <th>2</th>\n",
       "      <td>청년희망적금 외국인 신청 불만… \"연령대나 늘려주지\"</td>\n",
       "      <td>https://n.news.naver.com/mnews/article/029/000...</td>\n",
       "      <td>20220301</td>\n",
       "      <td>183일이상 거소 외국인도 가능0.05% 수준불구 국민청원까지\"내가 낸 세금으로 외...</td>\n",
       "    </tr>\n",
       "    <tr>\n",
       "      <th>3</th>\n",
       "      <td>고령화로 20년간 가계소비 연평균 0.9% ↓</td>\n",
       "      <td>https://n.news.naver.com/mnews/article/029/000...</td>\n",
       "      <td>20220301</td>\n",
       "      <td>고령화로 향후 연평균 가계 소비가 줄어들 거란 분석이 나왔다. 연합뉴스    고령화...</td>\n",
       "    </tr>\n",
       "    <tr>\n",
       "      <th>4</th>\n",
       "      <td>국내 가상자산 시총 55조… 투자자 80%이상 20~40대</td>\n",
       "      <td>https://n.news.naver.com/mnews/article/029/000...</td>\n",
       "      <td>20220301</td>\n",
       "      <td>국내 가상자산 시장 규모가 총 55조, 하루 평균 거래규모만도 11조원에 달하는 것...</td>\n",
       "    </tr>\n",
       "    <tr>\n",
       "      <th>...</th>\n",
       "      <td>...</td>\n",
       "      <td>...</td>\n",
       "      <td>...</td>\n",
       "      <td>...</td>\n",
       "    </tr>\n",
       "    <tr>\n",
       "      <th>10240</th>\n",
       "      <td>“4세대 실손 팔면 5만원”… 교보생명 설계사들, 들썩이는 이유</td>\n",
       "      <td>https://n.news.naver.com/mnews/article/417/000...</td>\n",
       "      <td>20220401</td>\n",
       "      <td>교보생명이 4세대 실손으로 전환하는 설계사들에게 건당 5만원의 시책비를 제공한다. ...</td>\n",
       "    </tr>\n",
       "    <tr>\n",
       "      <th>10241</th>\n",
       "      <td>“자영업자 부실대출 막아라”… ‘배드뱅크’ 카드 만지작</td>\n",
       "      <td>https://n.news.naver.com/mnews/article/005/000...</td>\n",
       "      <td>20220401</td>\n",
       "      <td>은행 부실 막고 자영업자 재기 효과정부·국책은행 ‘큰짐’… DJ땐 50조공동 설립·...</td>\n",
       "    </tr>\n",
       "    <tr>\n",
       "      <th>10242</th>\n",
       "      <td>美 장단기 국채금리 역전 현상… 시장선 공포, 전문가는 “기우”</td>\n",
       "      <td>https://n.news.naver.com/mnews/article/005/000...</td>\n",
       "      <td>20220401</td>\n",
       "      <td>경기침체까지 상당한 시차 존재\\n\\n\\n\\n통상 장기 채권 금리는 단기 금리보다 높...</td>\n",
       "    </tr>\n",
       "    <tr>\n",
       "      <th>10243</th>\n",
       "      <td>케이뱅크, 신용대출 금리 최대 0.4%P 인하… 마통 한도 2억원으로</td>\n",
       "      <td>https://n.news.naver.com/mnews/article/022/000...</td>\n",
       "      <td>20220401</td>\n",
       "      <td>사진=케이뱅크 제공    시중은행에 이어 인터넷전문은행에서도 신용대출 확대에 나섰다...</td>\n",
       "    </tr>\n",
       "    <tr>\n",
       "      <th>10244</th>\n",
       "      <td>주담대 금리 `7%시대` 오나… 더 멀어지는 내집 마련의 꿈</td>\n",
       "      <td>https://n.news.naver.com/mnews/article/029/000...</td>\n",
       "      <td>20220401</td>\n",
       "      <td>금리 상승 영향으로 시중은행에서 6%대 금리 주택담보대출이 나와 영끌족의 우려를 키...</td>\n",
       "    </tr>\n",
       "  </tbody>\n",
       "</table>\n",
       "<p>10245 rows × 4 columns</p>\n",
       "</div>"
      ],
      "text/plain": [
       "                                          title  \\\n",
       "0      게임업계 '별' 김정주 넥슨 창업주 별세 소식에…암호화폐 업계도 '침통'   \n",
       "1                      러시아 7개은행 거래 중지·국고채 투자 중단   \n",
       "2                 청년희망적금 외국인 신청 불만… \"연령대나 늘려주지\"   \n",
       "3                     고령화로 20년간 가계소비 연평균 0.9% ↓   \n",
       "4              국내 가상자산 시총 55조… 투자자 80%이상 20~40대   \n",
       "...                                         ...   \n",
       "10240       “4세대 실손 팔면 5만원”… 교보생명 설계사들, 들썩이는 이유   \n",
       "10241            “자영업자 부실대출 막아라”… ‘배드뱅크’ 카드 만지작   \n",
       "10242       美 장단기 국채금리 역전 현상… 시장선 공포, 전문가는 “기우”   \n",
       "10243    케이뱅크, 신용대출 금리 최대 0.4%P 인하… 마통 한도 2억원으로   \n",
       "10244         주담대 금리 `7%시대` 오나… 더 멀어지는 내집 마련의 꿈   \n",
       "\n",
       "                                                     url   pubdate  \\\n",
       "0      https://n.news.naver.com/mnews/article/421/000...  20220301   \n",
       "1      https://n.news.naver.com/mnews/article/029/000...  20220301   \n",
       "2      https://n.news.naver.com/mnews/article/029/000...  20220301   \n",
       "3      https://n.news.naver.com/mnews/article/029/000...  20220301   \n",
       "4      https://n.news.naver.com/mnews/article/029/000...  20220301   \n",
       "...                                                  ...       ...   \n",
       "10240  https://n.news.naver.com/mnews/article/417/000...  20220401   \n",
       "10241  https://n.news.naver.com/mnews/article/005/000...  20220401   \n",
       "10242  https://n.news.naver.com/mnews/article/005/000...  20220401   \n",
       "10243  https://n.news.naver.com/mnews/article/022/000...  20220401   \n",
       "10244  https://n.news.naver.com/mnews/article/029/000...  20220401   \n",
       "\n",
       "                                                 content  \n",
       "0      김정주 넥슨 창업자 (넥슨 제공) © 뉴스1(서울=뉴스1) 송화연 기자 = 김정주 ...  \n",
       "1      정부가 러시아에 대한 국제사회의 금융 제재에 동참한다는 의사를 표명하고 그에 따른 ...  \n",
       "2      183일이상 거소 외국인도 가능0.05% 수준불구 국민청원까지\"내가 낸 세금으로 외...  \n",
       "3      고령화로 향후 연평균 가계 소비가 줄어들 거란 분석이 나왔다. 연합뉴스    고령화...  \n",
       "4      국내 가상자산 시장 규모가 총 55조, 하루 평균 거래규모만도 11조원에 달하는 것...  \n",
       "...                                                  ...  \n",
       "10240  교보생명이 4세대 실손으로 전환하는 설계사들에게 건당 5만원의 시책비를 제공한다. ...  \n",
       "10241  은행 부실 막고 자영업자 재기 효과정부·국책은행 ‘큰짐’… DJ땐 50조공동 설립·...  \n",
       "10242  경기침체까지 상당한 시차 존재\\n\\n\\n\\n통상 장기 채권 금리는 단기 금리보다 높...  \n",
       "10243  사진=케이뱅크 제공    시중은행에 이어 인터넷전문은행에서도 신용대출 확대에 나섰다...  \n",
       "10244  금리 상승 영향으로 시중은행에서 6%대 금리 주택담보대출이 나와 영끌족의 우려를 키...  \n",
       "\n",
       "[10245 rows x 4 columns]"
      ]
     },
     "execution_count": 15,
     "metadata": {},
     "output_type": "execute_result"
    }
   ],
   "source": [
    "news_df = generate_news_content_df(news_date_li)\n",
    "news_df.to_csv(f'경제면_금융섹터_기사({startdate}).csv',encoding='utf-8-sig', index=False)\n",
    "news_df"
   ]
  },
  {
   "cell_type": "markdown",
   "id": "3f502729",
   "metadata": {},
   "source": [
    "### 2022년 4월"
   ]
  },
  {
   "cell_type": "code",
   "execution_count": 7,
   "id": "509c1414",
   "metadata": {},
   "outputs": [
    {
     "name": "stdout",
     "output_type": "stream",
     "text": [
      "['20220401', '20220402', '20220403', '20220404', '20220405', '20220406', '20220407', '20220408', '20220409', '20220410', '20220411', '20220412', '20220413', '20220414', '20220415', '20220416', '20220417', '20220418', '20220419', '20220420', '20220421', '20220422', '20220423', '20220424', '20220425', '20220426', '20220427', '20220428', '20220429', '20220501']\n"
     ]
    }
   ],
   "source": [
    "startdate = \"202204\"\n",
    "enddate = \"202205\"\n",
    "date_list = generate_date_list(startdate, enddate)\n",
    "print(date_list)"
   ]
  },
  {
   "cell_type": "code",
   "execution_count": null,
   "id": "621c1946",
   "metadata": {},
   "outputs": [],
   "source": [
    "news_date_li = generate_news_list(date_list)"
   ]
  },
  {
   "cell_type": "code",
   "execution_count": 9,
   "id": "a1e66071",
   "metadata": {
    "scrolled": true
   },
   "outputs": [
    {
     "name": "stderr",
     "output_type": "stream",
     "text": [
      "100%|███████████████████████████████████████████████████████████████████████████████████████████████████████████████████████████████████████████████████████████████████████████████████████████████████| 9859/9859 [46:56<00:00,  3.50it/s]\n"
     ]
    },
    {
     "data": {
      "text/html": [
       "<div>\n",
       "<style scoped>\n",
       "    .dataframe tbody tr th:only-of-type {\n",
       "        vertical-align: middle;\n",
       "    }\n",
       "\n",
       "    .dataframe tbody tr th {\n",
       "        vertical-align: top;\n",
       "    }\n",
       "\n",
       "    .dataframe thead th {\n",
       "        text-align: right;\n",
       "    }\n",
       "</style>\n",
       "<table border=\"1\" class=\"dataframe\">\n",
       "  <thead>\n",
       "    <tr style=\"text-align: right;\">\n",
       "      <th></th>\n",
       "      <th>title</th>\n",
       "      <th>url</th>\n",
       "      <th>pubdate</th>\n",
       "      <th>content</th>\n",
       "    </tr>\n",
       "  </thead>\n",
       "  <tbody>\n",
       "    <tr>\n",
       "      <th>0</th>\n",
       "      <td>BNK부산은행, 동백전 서비스 불안정 공식 사과</td>\n",
       "      <td>https://n.news.naver.com/mnews/article/658/000...</td>\n",
       "      <td>20220401</td>\n",
       "      <td>4일 오전 9시되야 서비스 재개될듯서버 4배 증설 및 결제 승인 프로그램 성능 개선...</td>\n",
       "    </tr>\n",
       "    <tr>\n",
       "      <th>1</th>\n",
       "      <td>[우크라 침공] 루블화 결제 강행 첫날…러 유럽 가스공급 안끊겨</td>\n",
       "      <td>https://n.news.naver.com/mnews/article/001/001...</td>\n",
       "      <td>20220401</td>\n",
       "      <td>(베를린=연합뉴스) 이율 특파원 = 블라디미르 푸틴 러시아 대통령이 유럽연합(EU)...</td>\n",
       "    </tr>\n",
       "    <tr>\n",
       "      <th>2</th>\n",
       "      <td>운영 차질 빚은 동백전, 4일 오전9시부터 서비스 재개</td>\n",
       "      <td>https://n.news.naver.com/mnews/article/658/000...</td>\n",
       "      <td>20220401</td>\n",
       "      <td>1일 오후 2시 예정됐던 신규 서비스 정상적으로 작동하지 않아접속 지연, 계좌 등록...</td>\n",
       "    </tr>\n",
       "    <tr>\n",
       "      <th>3</th>\n",
       "      <td>\"금리 통한 가계부채 연착륙\" 일성…추경은 부담 요인</td>\n",
       "      <td>https://n.news.naver.com/mnews/article/422/000...</td>\n",
       "      <td>20220401</td>\n",
       "      <td>[앵커] 청문회 준비를 위해 첫 출근한 이창용 한국은행 총재 후보자가 기준금리 인상...</td>\n",
       "    </tr>\n",
       "    <tr>\n",
       "      <th>4</th>\n",
       "      <td>부산 지역화폐 동백전 운영 차질…\"4일 서비스 재개\"(종합)</td>\n",
       "      <td>https://n.news.naver.com/mnews/article/001/001...</td>\n",
       "      <td>20220401</td>\n",
       "      <td>\"운영사 변경 첫날 동시 접속 서비스 거래 증가로 오류 발생\" \\n\\n\\n\\n부산 ...</td>\n",
       "    </tr>\n",
       "    <tr>\n",
       "      <th>...</th>\n",
       "      <td>...</td>\n",
       "      <td>...</td>\n",
       "      <td>...</td>\n",
       "      <td>...</td>\n",
       "    </tr>\n",
       "    <tr>\n",
       "      <th>9854</th>\n",
       "      <td>코로나發 900조 자영업 대출…새 정부, 연착륙 플랜 시동</td>\n",
       "      <td>https://n.news.naver.com/mnews/article/119/000...</td>\n",
       "      <td>20220501</td>\n",
       "      <td>2금융권 대환·채무 감면 '포인트'은행 등 금융사 출혈 완화 '숙제'\\n\\n\\n\\n...</td>\n",
       "    </tr>\n",
       "    <tr>\n",
       "      <th>9855</th>\n",
       "      <td>홍남기 이어 추경호 후보자도 \"MSCI 선진국지수 편입 필요\"</td>\n",
       "      <td>https://n.news.naver.com/mnews/article/421/000...</td>\n",
       "      <td>20220501</td>\n",
       "      <td>청문 서면답변서…\"韓경제규모, 자본시장 성숙도 감안 당위성 충분\"\\n\\n\\n\\n (...</td>\n",
       "    </tr>\n",
       "    <tr>\n",
       "      <th>9856</th>\n",
       "      <td>은행권 첫 '10년만기' 신용대출 나왔다…대출한도 확대 효과</td>\n",
       "      <td>https://n.news.naver.com/mnews/article/001/001...</td>\n",
       "      <td>20220501</td>\n",
       "      <td>KB, 지난달 29일부터 5년→10년, 신용대출 금리도 다음 주 최대 0.3%p 인...</td>\n",
       "    </tr>\n",
       "    <tr>\n",
       "      <th>9857</th>\n",
       "      <td>[단독]'40년 주담대' 이어 '10년 신용대출' KB국민銀 내놨다</td>\n",
       "      <td>https://n.news.naver.com/mnews/article/008/000...</td>\n",
       "      <td>20220501</td>\n",
       "      <td>[분할상환방식 신용대출 최장 만기 '5→10년' 확대원리금부담 완화로 DSR 규제우...</td>\n",
       "    </tr>\n",
       "    <tr>\n",
       "      <th>9858</th>\n",
       "      <td>대통령 취임 기념우표…박근혜 웃고 문재인 울고, 윤석열은?</td>\n",
       "      <td>https://n.news.naver.com/mnews/article/018/000...</td>\n",
       "      <td>20220501</td>\n",
       "      <td>[돈이 보이는 창]우표 중 5년마다 발행 취임 기념우표 관심 높아윤석열 20대 대통...</td>\n",
       "    </tr>\n",
       "  </tbody>\n",
       "</table>\n",
       "<p>9859 rows × 4 columns</p>\n",
       "</div>"
      ],
      "text/plain": [
       "                                      title  \\\n",
       "0                BNK부산은행, 동백전 서비스 불안정 공식 사과   \n",
       "1       [우크라 침공] 루블화 결제 강행 첫날…러 유럽 가스공급 안끊겨   \n",
       "2            운영 차질 빚은 동백전, 4일 오전9시부터 서비스 재개   \n",
       "3             \"금리 통한 가계부채 연착륙\" 일성…추경은 부담 요인   \n",
       "4         부산 지역화폐 동백전 운영 차질…\"4일 서비스 재개\"(종합)   \n",
       "...                                     ...   \n",
       "9854       코로나發 900조 자영업 대출…새 정부, 연착륙 플랜 시동   \n",
       "9855     홍남기 이어 추경호 후보자도 \"MSCI 선진국지수 편입 필요\"   \n",
       "9856      은행권 첫 '10년만기' 신용대출 나왔다…대출한도 확대 효과   \n",
       "9857  [단독]'40년 주담대' 이어 '10년 신용대출' KB국민銀 내놨다   \n",
       "9858       대통령 취임 기념우표…박근혜 웃고 문재인 울고, 윤석열은?   \n",
       "\n",
       "                                                    url   pubdate  \\\n",
       "0     https://n.news.naver.com/mnews/article/658/000...  20220401   \n",
       "1     https://n.news.naver.com/mnews/article/001/001...  20220401   \n",
       "2     https://n.news.naver.com/mnews/article/658/000...  20220401   \n",
       "3     https://n.news.naver.com/mnews/article/422/000...  20220401   \n",
       "4     https://n.news.naver.com/mnews/article/001/001...  20220401   \n",
       "...                                                 ...       ...   \n",
       "9854  https://n.news.naver.com/mnews/article/119/000...  20220501   \n",
       "9855  https://n.news.naver.com/mnews/article/421/000...  20220501   \n",
       "9856  https://n.news.naver.com/mnews/article/001/001...  20220501   \n",
       "9857  https://n.news.naver.com/mnews/article/008/000...  20220501   \n",
       "9858  https://n.news.naver.com/mnews/article/018/000...  20220501   \n",
       "\n",
       "                                                content  \n",
       "0     4일 오전 9시되야 서비스 재개될듯서버 4배 증설 및 결제 승인 프로그램 성능 개선...  \n",
       "1     (베를린=연합뉴스) 이율 특파원 = 블라디미르 푸틴 러시아 대통령이 유럽연합(EU)...  \n",
       "2     1일 오후 2시 예정됐던 신규 서비스 정상적으로 작동하지 않아접속 지연, 계좌 등록...  \n",
       "3     [앵커] 청문회 준비를 위해 첫 출근한 이창용 한국은행 총재 후보자가 기준금리 인상...  \n",
       "4     \"운영사 변경 첫날 동시 접속 서비스 거래 증가로 오류 발생\" \\n\\n\\n\\n부산 ...  \n",
       "...                                                 ...  \n",
       "9854  2금융권 대환·채무 감면 '포인트'은행 등 금융사 출혈 완화 '숙제'\\n\\n\\n\\n...  \n",
       "9855  청문 서면답변서…\"韓경제규모, 자본시장 성숙도 감안 당위성 충분\"\\n\\n\\n\\n (...  \n",
       "9856  KB, 지난달 29일부터 5년→10년, 신용대출 금리도 다음 주 최대 0.3%p 인...  \n",
       "9857  [분할상환방식 신용대출 최장 만기 '5→10년' 확대원리금부담 완화로 DSR 규제우...  \n",
       "9858  [돈이 보이는 창]우표 중 5년마다 발행 취임 기념우표 관심 높아윤석열 20대 대통...  \n",
       "\n",
       "[9859 rows x 4 columns]"
      ]
     },
     "execution_count": 9,
     "metadata": {},
     "output_type": "execute_result"
    }
   ],
   "source": [
    "news_df = generate_news_content_df(news_date_li)\n",
    "news_df.to_csv(f'경제면_금융섹터_기사({startdate}).csv',encoding='utf-8-sig', index=False)\n",
    "news_df"
   ]
  },
  {
   "cell_type": "markdown",
   "id": "6d81577b",
   "metadata": {},
   "source": [
    "### 2022년 5월"
   ]
  },
  {
   "cell_type": "code",
   "execution_count": 10,
   "id": "e326a371",
   "metadata": {},
   "outputs": [
    {
     "name": "stdout",
     "output_type": "stream",
     "text": [
      "['20220501', '20220502', '20220503', '20220504', '20220505', '20220506', '20220507', '20220508', '20220509', '20220510', '20220511', '20220512', '20220513', '20220514', '20220515', '20220516', '20220517', '20220518', '20220519', '20220520', '20220521', '20220522', '20220523', '20220524', '20220525', '20220526', '20220527', '20220528', '20220529', '20220530', '20220601']\n"
     ]
    }
   ],
   "source": [
    "startdate = \"202205\"\n",
    "enddate = \"202206\"\n",
    "date_list = generate_date_list(startdate, enddate)\n",
    "print(date_list)"
   ]
  },
  {
   "cell_type": "code",
   "execution_count": null,
   "id": "9f6d2115",
   "metadata": {},
   "outputs": [],
   "source": [
    "news_date_li = generate_news_list(date_list)"
   ]
  },
  {
   "cell_type": "code",
   "execution_count": 12,
   "id": "d29c236a",
   "metadata": {
    "scrolled": true
   },
   "outputs": [
    {
     "name": "stderr",
     "output_type": "stream",
     "text": [
      "100%|█████████████████████████████████████████████████████████████████████████████████████████████████████████████████████████████████████████████████████████████████████████████████████████████████| 10588/10588 [50:51<00:00,  3.47it/s]\n"
     ]
    },
    {
     "data": {
      "text/html": [
       "<div>\n",
       "<style scoped>\n",
       "    .dataframe tbody tr th:only-of-type {\n",
       "        vertical-align: middle;\n",
       "    }\n",
       "\n",
       "    .dataframe tbody tr th {\n",
       "        vertical-align: top;\n",
       "    }\n",
       "\n",
       "    .dataframe thead th {\n",
       "        text-align: right;\n",
       "    }\n",
       "</style>\n",
       "<table border=\"1\" class=\"dataframe\">\n",
       "  <thead>\n",
       "    <tr style=\"text-align: right;\">\n",
       "      <th></th>\n",
       "      <th>title</th>\n",
       "      <th>url</th>\n",
       "      <th>pubdate</th>\n",
       "      <th>content</th>\n",
       "    </tr>\n",
       "  </thead>\n",
       "  <tbody>\n",
       "    <tr>\n",
       "      <th>0</th>\n",
       "      <td>‘614억 횡령’ 혐의 우리은행 직원 동생도 구속</td>\n",
       "      <td>https://n.news.naver.com/mnews/article/119/000...</td>\n",
       "      <td>20220501</td>\n",
       "      <td>法 “증거인멸 우려”\\n\\n\\n\\n회삿돈 614억원을 횡령한 혐의로 구속된 우리은행...</td>\n",
       "    </tr>\n",
       "    <tr>\n",
       "      <th>1</th>\n",
       "      <td>`그린 파이낸싱` 잰걸음...한국씨티은행 ESG 행보</td>\n",
       "      <td>https://n.news.naver.com/mnews/article/029/000...</td>\n",
       "      <td>20220501</td>\n",
       "      <td>한국씨티은행이 최근 ESG 행보를 확대하고 있다. 한국씨티은행 제공    한국씨티은...</td>\n",
       "    </tr>\n",
       "    <tr>\n",
       "      <th>2</th>\n",
       "      <td>'10년 만기 신용대출' 등장…DSR 규제 피해 한도 확대</td>\n",
       "      <td>https://n.news.naver.com/mnews/article/011/000...</td>\n",
       "      <td>20220501</td>\n",
       "      <td>[국민銀, 은행권 최초 출시]대출만기 최장 5년서 2배 껑충신한·하나·우리·농협銀 ...</td>\n",
       "    </tr>\n",
       "    <tr>\n",
       "      <th>3</th>\n",
       "      <td>횡령·유용 등 해마다 30~40건… 준법감시·소비자보호 ‘오작동’ [금융사 구멍난 ...</td>\n",
       "      <td>https://n.news.naver.com/mnews/article/014/000...</td>\n",
       "      <td>20220501</td>\n",
       "      <td>(1) 잊을만하면 터지는 금융사고돈 다루는 금융사 사고나면 수백억빼돌린 돈 주식투자...</td>\n",
       "    </tr>\n",
       "    <tr>\n",
       "      <th>4</th>\n",
       "      <td>1분기 보험사 연금저축 수익률 선방… 자산운용사는 ‘마이너스’</td>\n",
       "      <td>https://n.news.naver.com/mnews/article/014/000...</td>\n",
       "      <td>20220501</td>\n",
       "      <td>보험사들이 올해 1·4분기 연금저축 수익률이 전년과 비슷한 수준으로 유지하며 선방했...</td>\n",
       "    </tr>\n",
       "    <tr>\n",
       "      <th>...</th>\n",
       "      <td>...</td>\n",
       "      <td>...</td>\n",
       "      <td>...</td>\n",
       "      <td>...</td>\n",
       "    </tr>\n",
       "    <tr>\n",
       "      <th>10583</th>\n",
       "      <td>신한금투, 부모 위한 1% 경제교육 유튜브 콘텐츠 공개</td>\n",
       "      <td>https://n.news.naver.com/mnews/article/022/000...</td>\n",
       "      <td>20220601</td>\n",
       "      <td>신한금융투자는 자녀 경제교육에 관심이 있는 부모들을 위해 ‘부모가 꼭 알아야 하는 ...</td>\n",
       "    </tr>\n",
       "    <tr>\n",
       "      <th>10584</th>\n",
       "      <td>신한라이프, 강원 홍천에 ‘빛나는숲 1호’ 조성</td>\n",
       "      <td>https://n.news.naver.com/mnews/article/022/000...</td>\n",
       "      <td>20220601</td>\n",
       "      <td>신한라이프는 강원 홍천 방내리 일대에 1.6㏊ 규모의 ‘빛나는숲 1호’를 조성했다고...</td>\n",
       "    </tr>\n",
       "    <tr>\n",
       "      <th>10585</th>\n",
       "      <td>은행서 명예퇴직한 50대 男, 핀테크 인턴으로 입사한 이유 [긱스]</td>\n",
       "      <td>https://n.news.naver.com/mnews/article/015/000...</td>\n",
       "      <td>20220601</td>\n",
       "      <td>어니스트펀드 최고령 인턴, 이주성씨2018년 신한銀서 명예퇴직대학 편입 후 빅데이터...</td>\n",
       "    </tr>\n",
       "    <tr>\n",
       "      <th>10586</th>\n",
       "      <td>강원 3월 예금·대출 동반 상승…비은행예금취급기관 증가폭 확대</td>\n",
       "      <td>https://n.news.naver.com/mnews/article/654/000...</td>\n",
       "      <td>20220601</td>\n",
       "      <td>▲ 5만원권[강원도민일보 자료사진]강원지역 3월중 금융기관 여수신이 모두 증가한 가...</td>\n",
       "    </tr>\n",
       "    <tr>\n",
       "      <th>10587</th>\n",
       "      <td>\"안 도와주네\" 한화생명 후순위채 발행 앞두고 금리·신용도 비상</td>\n",
       "      <td>https://n.news.naver.com/mnews/article/629/000...</td>\n",
       "      <td>20220601</td>\n",
       "      <td>한화생명, 신용등급 강등…목표주가 하락\\n\\n\\n\\n국내 3대 신용평가사(한국기업평...</td>\n",
       "    </tr>\n",
       "  </tbody>\n",
       "</table>\n",
       "<p>10588 rows × 4 columns</p>\n",
       "</div>"
      ],
      "text/plain": [
       "                                                   title  \\\n",
       "0                            ‘614억 횡령’ 혐의 우리은행 직원 동생도 구속   \n",
       "1                          `그린 파이낸싱` 잰걸음...한국씨티은행 ESG 행보   \n",
       "2                       '10년 만기 신용대출' 등장…DSR 규제 피해 한도 확대   \n",
       "3      횡령·유용 등 해마다 30~40건… 준법감시·소비자보호 ‘오작동’ [금융사 구멍난 ...   \n",
       "4                     1분기 보험사 연금저축 수익률 선방… 자산운용사는 ‘마이너스’   \n",
       "...                                                  ...   \n",
       "10583                     신한금투, 부모 위한 1% 경제교육 유튜브 콘텐츠 공개   \n",
       "10584                         신한라이프, 강원 홍천에 ‘빛나는숲 1호’ 조성   \n",
       "10585              은행서 명예퇴직한 50대 男, 핀테크 인턴으로 입사한 이유 [긱스]   \n",
       "10586                 강원 3월 예금·대출 동반 상승…비은행예금취급기관 증가폭 확대   \n",
       "10587                \"안 도와주네\" 한화생명 후순위채 발행 앞두고 금리·신용도 비상   \n",
       "\n",
       "                                                     url   pubdate  \\\n",
       "0      https://n.news.naver.com/mnews/article/119/000...  20220501   \n",
       "1      https://n.news.naver.com/mnews/article/029/000...  20220501   \n",
       "2      https://n.news.naver.com/mnews/article/011/000...  20220501   \n",
       "3      https://n.news.naver.com/mnews/article/014/000...  20220501   \n",
       "4      https://n.news.naver.com/mnews/article/014/000...  20220501   \n",
       "...                                                  ...       ...   \n",
       "10583  https://n.news.naver.com/mnews/article/022/000...  20220601   \n",
       "10584  https://n.news.naver.com/mnews/article/022/000...  20220601   \n",
       "10585  https://n.news.naver.com/mnews/article/015/000...  20220601   \n",
       "10586  https://n.news.naver.com/mnews/article/654/000...  20220601   \n",
       "10587  https://n.news.naver.com/mnews/article/629/000...  20220601   \n",
       "\n",
       "                                                 content  \n",
       "0      法 “증거인멸 우려”\\n\\n\\n\\n회삿돈 614억원을 횡령한 혐의로 구속된 우리은행...  \n",
       "1      한국씨티은행이 최근 ESG 행보를 확대하고 있다. 한국씨티은행 제공    한국씨티은...  \n",
       "2      [국민銀, 은행권 최초 출시]대출만기 최장 5년서 2배 껑충신한·하나·우리·농협銀 ...  \n",
       "3      (1) 잊을만하면 터지는 금융사고돈 다루는 금융사 사고나면 수백억빼돌린 돈 주식투자...  \n",
       "4      보험사들이 올해 1·4분기 연금저축 수익률이 전년과 비슷한 수준으로 유지하며 선방했...  \n",
       "...                                                  ...  \n",
       "10583  신한금융투자는 자녀 경제교육에 관심이 있는 부모들을 위해 ‘부모가 꼭 알아야 하는 ...  \n",
       "10584  신한라이프는 강원 홍천 방내리 일대에 1.6㏊ 규모의 ‘빛나는숲 1호’를 조성했다고...  \n",
       "10585  어니스트펀드 최고령 인턴, 이주성씨2018년 신한銀서 명예퇴직대학 편입 후 빅데이터...  \n",
       "10586  ▲ 5만원권[강원도민일보 자료사진]강원지역 3월중 금융기관 여수신이 모두 증가한 가...  \n",
       "10587  한화생명, 신용등급 강등…목표주가 하락\\n\\n\\n\\n국내 3대 신용평가사(한국기업평...  \n",
       "\n",
       "[10588 rows x 4 columns]"
      ]
     },
     "execution_count": 12,
     "metadata": {},
     "output_type": "execute_result"
    }
   ],
   "source": [
    "news_df = generate_news_content_df(news_date_li)\n",
    "news_df.to_csv(f'경제면_금융섹터_기사({startdate}).csv',encoding='utf-8-sig', index=False)\n",
    "news_df"
   ]
  },
  {
   "cell_type": "markdown",
   "id": "10c242cb",
   "metadata": {},
   "source": [
    "### 2022년 6월"
   ]
  },
  {
   "cell_type": "code",
   "execution_count": 13,
   "id": "5c36e0d8",
   "metadata": {},
   "outputs": [
    {
     "name": "stdout",
     "output_type": "stream",
     "text": [
      "['20220601', '20220602', '20220603', '20220604', '20220605', '20220606', '20220607', '20220608', '20220609', '20220610', '20220611', '20220612', '20220613', '20220614', '20220615', '20220616', '20220617', '20220618', '20220619', '20220620', '20220621', '20220622', '20220623', '20220624', '20220625', '20220626', '20220627', '20220628', '20220629', '20220701']\n"
     ]
    }
   ],
   "source": [
    "startdate = \"202206\"\n",
    "enddate = \"202207\"\n",
    "date_list = generate_date_list(startdate, enddate)\n",
    "print(date_list)"
   ]
  },
  {
   "cell_type": "code",
   "execution_count": null,
   "id": "4e96550a",
   "metadata": {},
   "outputs": [],
   "source": [
    "news_date_li = generate_news_list(date_list)"
   ]
  },
  {
   "cell_type": "code",
   "execution_count": 13,
   "id": "729d5997",
   "metadata": {
    "scrolled": true
   },
   "outputs": [
    {
     "name": "stderr",
     "output_type": "stream",
     "text": [
      "100%|█████████████████████████████████████████████████| 11079/11079 [51:56<00:00,  3.55it/s]\n"
     ]
    },
    {
     "data": {
      "text/html": [
       "<div>\n",
       "<style scoped>\n",
       "    .dataframe tbody tr th:only-of-type {\n",
       "        vertical-align: middle;\n",
       "    }\n",
       "\n",
       "    .dataframe tbody tr th {\n",
       "        vertical-align: top;\n",
       "    }\n",
       "\n",
       "    .dataframe thead th {\n",
       "        text-align: right;\n",
       "    }\n",
       "</style>\n",
       "<table border=\"1\" class=\"dataframe\">\n",
       "  <thead>\n",
       "    <tr style=\"text-align: right;\">\n",
       "      <th></th>\n",
       "      <th>title</th>\n",
       "      <th>url</th>\n",
       "      <th>pubdate</th>\n",
       "      <th>content</th>\n",
       "    </tr>\n",
       "  </thead>\n",
       "  <tbody>\n",
       "    <tr>\n",
       "      <th>0</th>\n",
       "      <td>\"예금보호한도 올리면 대출이자 올라간다\"</td>\n",
       "      <td>https://n.news.naver.com/mnews/article/009/000...</td>\n",
       "      <td>20220601</td>\n",
       "      <td>금융위 국회제출 보고서 입수예금보험료 인상 주장 있지만대출자에 비용 전가 가능성금융...</td>\n",
       "    </tr>\n",
       "    <tr>\n",
       "      <th>1</th>\n",
       "      <td>\"코인 실패하지 않으려면 투명성 확보 시급\"</td>\n",
       "      <td>https://n.news.naver.com/mnews/article/009/000...</td>\n",
       "      <td>20220601</td>\n",
       "      <td>오세진 코빗 대표 인터뷰\\n\\n\\n\\n \"루나 사태는 투자자들에게 정보 공유가 충분...</td>\n",
       "    </tr>\n",
       "    <tr>\n",
       "      <th>2</th>\n",
       "      <td>[포토] 우리은행 '팬 리포터'</td>\n",
       "      <td>https://n.news.naver.com/mnews/article/009/000...</td>\n",
       "      <td>20220601</td>\n",
       "      <td>이원덕 우리은행장(앞줄 왼쪽 넷째)이 지난달 31일 서울 중구 본점에서 열린 '우리...</td>\n",
       "    </tr>\n",
       "    <tr>\n",
       "      <th>3</th>\n",
       "      <td>[표] 외국환율고시표 (5월 31일)</td>\n",
       "      <td>https://n.news.naver.com/mnews/article/009/000...</td>\n",
       "      <td>20220601</td>\n",
       "      <td></td>\n",
       "    </tr>\n",
       "    <tr>\n",
       "      <th>4</th>\n",
       "      <td>BNK캐피탈-다나와, 업무협약</td>\n",
       "      <td>https://n.news.naver.com/mnews/article/015/000...</td>\n",
       "      <td>20220601</td>\n",
       "      <td>BNK캐피탈이 가격비교 플랫폼인 다나와와 ‘온라인 자동차금융 플랫폼 활성화를 위한 ...</td>\n",
       "    </tr>\n",
       "    <tr>\n",
       "      <th>...</th>\n",
       "      <td>...</td>\n",
       "      <td>...</td>\n",
       "      <td>...</td>\n",
       "      <td>...</td>\n",
       "    </tr>\n",
       "    <tr>\n",
       "      <th>11074</th>\n",
       "      <td>신흥국선 리테일 영업, 선진국선 IB금융 발굴 현지스타일로 최적화… 해외 진출 성과...</td>\n",
       "      <td>https://n.news.naver.com/mnews/article/020/000...</td>\n",
       "      <td>20220701</td>\n",
       "      <td>[The Insight]우리금융그룹은 현지 특성에 맞는 성장 전략을 바탕으로 신흥국...</td>\n",
       "    </tr>\n",
       "    <tr>\n",
       "      <th>11075</th>\n",
       "      <td>“자산관리의 시작은 고객”… 부동산·세무·투자상담 종합 서비스</td>\n",
       "      <td>https://n.news.naver.com/mnews/article/020/000...</td>\n",
       "      <td>20220701</td>\n",
       "      <td>[The Insight]\\n\\n\\n\\n서울 서초동 ‘TCE시그니처센터’ 내부 모습....</td>\n",
       "    </tr>\n",
       "    <tr>\n",
       "      <th>11076</th>\n",
       "      <td>NH선물, 유쾌한무료급식소에 쌀 지원 나서</td>\n",
       "      <td>https://n.news.naver.com/mnews/article/022/000...</td>\n",
       "      <td>20220701</td>\n",
       "      <td>장승현 NH선물 대표이사(왼쪽)와 안승영 유쾌한공동체 대표(오른쪽)가 29일 경기도...</td>\n",
       "    </tr>\n",
       "    <tr>\n",
       "      <th>11077</th>\n",
       "      <td>경남농협, 농업인 대상 최저 2%대 금리 대출 지원</td>\n",
       "      <td>https://n.news.naver.com/mnews/article/022/000...</td>\n",
       "      <td>20220701</td>\n",
       "      <td>경남농협은 금리상승기를 대비해 농업인의 금융부담완화 및 영농자금 지원을 위한 ‘새출...</td>\n",
       "    </tr>\n",
       "    <tr>\n",
       "      <th>11078</th>\n",
       "      <td>비트코인, 2분기에 58%↓, 11년만에 최악…1만9천달러선도 내줘</td>\n",
       "      <td>https://n.news.naver.com/mnews/article/001/001...</td>\n",
       "      <td>20220701</td>\n",
       "      <td>이더리움, 사상 최대 하락…안팎 악재로 추가 하락 우려\\n\\n\\n\\n비트코인, 이더...</td>\n",
       "    </tr>\n",
       "  </tbody>\n",
       "</table>\n",
       "<p>11079 rows × 4 columns</p>\n",
       "</div>"
      ],
      "text/plain": [
       "                                                   title   \n",
       "0                                 \"예금보호한도 올리면 대출이자 올라간다\"  \\\n",
       "1                               \"코인 실패하지 않으려면 투명성 확보 시급\"   \n",
       "2                                      [포토] 우리은행 '팬 리포터'   \n",
       "3                                   [표] 외국환율고시표 (5월 31일)   \n",
       "4                                       BNK캐피탈-다나와, 업무협약   \n",
       "...                                                  ...   \n",
       "11074  신흥국선 리테일 영업, 선진국선 IB금융 발굴 현지스타일로 최적화… 해외 진출 성과...   \n",
       "11075                 “자산관리의 시작은 고객”… 부동산·세무·투자상담 종합 서비스   \n",
       "11076                            NH선물, 유쾌한무료급식소에 쌀 지원 나서   \n",
       "11077                       경남농협, 농업인 대상 최저 2%대 금리 대출 지원   \n",
       "11078              비트코인, 2분기에 58%↓, 11년만에 최악…1만9천달러선도 내줘   \n",
       "\n",
       "                                                     url   pubdate   \n",
       "0      https://n.news.naver.com/mnews/article/009/000...  20220601  \\\n",
       "1      https://n.news.naver.com/mnews/article/009/000...  20220601   \n",
       "2      https://n.news.naver.com/mnews/article/009/000...  20220601   \n",
       "3      https://n.news.naver.com/mnews/article/009/000...  20220601   \n",
       "4      https://n.news.naver.com/mnews/article/015/000...  20220601   \n",
       "...                                                  ...       ...   \n",
       "11074  https://n.news.naver.com/mnews/article/020/000...  20220701   \n",
       "11075  https://n.news.naver.com/mnews/article/020/000...  20220701   \n",
       "11076  https://n.news.naver.com/mnews/article/022/000...  20220701   \n",
       "11077  https://n.news.naver.com/mnews/article/022/000...  20220701   \n",
       "11078  https://n.news.naver.com/mnews/article/001/001...  20220701   \n",
       "\n",
       "                                                 content  \n",
       "0      금융위 국회제출 보고서 입수예금보험료 인상 주장 있지만대출자에 비용 전가 가능성금융...  \n",
       "1      오세진 코빗 대표 인터뷰\\n\\n\\n\\n \"루나 사태는 투자자들에게 정보 공유가 충분...  \n",
       "2      이원덕 우리은행장(앞줄 왼쪽 넷째)이 지난달 31일 서울 중구 본점에서 열린 '우리...  \n",
       "3                                                         \n",
       "4      BNK캐피탈이 가격비교 플랫폼인 다나와와 ‘온라인 자동차금융 플랫폼 활성화를 위한 ...  \n",
       "...                                                  ...  \n",
       "11074  [The Insight]우리금융그룹은 현지 특성에 맞는 성장 전략을 바탕으로 신흥국...  \n",
       "11075  [The Insight]\\n\\n\\n\\n서울 서초동 ‘TCE시그니처센터’ 내부 모습....  \n",
       "11076  장승현 NH선물 대표이사(왼쪽)와 안승영 유쾌한공동체 대표(오른쪽)가 29일 경기도...  \n",
       "11077  경남농협은 금리상승기를 대비해 농업인의 금융부담완화 및 영농자금 지원을 위한 ‘새출...  \n",
       "11078  이더리움, 사상 최대 하락…안팎 악재로 추가 하락 우려\\n\\n\\n\\n비트코인, 이더...  \n",
       "\n",
       "[11079 rows x 4 columns]"
      ]
     },
     "execution_count": 13,
     "metadata": {},
     "output_type": "execute_result"
    }
   ],
   "source": [
    "news_df = generate_news_content_df(news_date_li)\n",
    "news_df"
   ]
  },
  {
   "cell_type": "code",
   "execution_count": 17,
   "id": "00ec6958",
   "metadata": {},
   "outputs": [],
   "source": [
    "news_df.to_csv(f'경제면_금융섹터_기사({startdate}).csv',encoding='utf-8-sig', index=False)"
   ]
  },
  {
   "cell_type": "markdown",
   "id": "4cfd4c24",
   "metadata": {},
   "source": [
    "### 2022년 7월"
   ]
  },
  {
   "cell_type": "code",
   "execution_count": 19,
   "id": "77ea466c",
   "metadata": {
    "scrolled": true
   },
   "outputs": [
    {
     "name": "stdout",
     "output_type": "stream",
     "text": [
      "['20220701', '20220702', '20220703', '20220704', '20220705', '20220706', '20220707', '20220708', '20220709', '20220710', '20220711', '20220712', '20220713', '20220714', '20220715', '20220716', '20220717', '20220718', '20220719', '20220720', '20220721', '20220722', '20220723', '20220724', '20220725', '20220726', '20220727', '20220728', '20220729', '20220730', '20220801']\n"
     ]
    }
   ],
   "source": [
    "startdate = \"202207\"\n",
    "enddate = \"202208\"\n",
    "date_list = generate_date_list(startdate, enddate)\n",
    "print(date_list)"
   ]
  },
  {
   "cell_type": "code",
   "execution_count": null,
   "id": "c78fafea",
   "metadata": {},
   "outputs": [],
   "source": [
    "news_date_li = generate_news_list(date_list)"
   ]
  },
  {
   "cell_type": "code",
   "execution_count": 21,
   "id": "a9d29737",
   "metadata": {
    "scrolled": true
   },
   "outputs": [
    {
     "name": "stderr",
     "output_type": "stream",
     "text": [
      "100%|██████████████████████████████████████████████████████████████████████████| 12150/12150 [1:32:09<00:00,  2.20it/s]\n"
     ]
    },
    {
     "data": {
      "text/html": [
       "<div>\n",
       "<style scoped>\n",
       "    .dataframe tbody tr th:only-of-type {\n",
       "        vertical-align: middle;\n",
       "    }\n",
       "\n",
       "    .dataframe tbody tr th {\n",
       "        vertical-align: top;\n",
       "    }\n",
       "\n",
       "    .dataframe thead th {\n",
       "        text-align: right;\n",
       "    }\n",
       "</style>\n",
       "<table border=\"1\" class=\"dataframe\">\n",
       "  <thead>\n",
       "    <tr style=\"text-align: right;\">\n",
       "      <th></th>\n",
       "      <th>title</th>\n",
       "      <th>url</th>\n",
       "      <th>pubdate</th>\n",
       "      <th>content</th>\n",
       "    </tr>\n",
       "  </thead>\n",
       "  <tbody>\n",
       "    <tr>\n",
       "      <th>0</th>\n",
       "      <td>신한은행도 이상 외화거래 정황... 금감원 검사착수</td>\n",
       "      <td>https://n.news.naver.com/mnews/article/008/000...</td>\n",
       "      <td>20220701</td>\n",
       "      <td>금감원 사옥금융감독원이 우리은행에 이어 신한은행 지점에서도 비정상적인 규모의 외화거...</td>\n",
       "    </tr>\n",
       "    <tr>\n",
       "      <th>1</th>\n",
       "      <td>신한은행도 거액 외환 이상 거래 정황…금감원 검사</td>\n",
       "      <td>https://n.news.naver.com/mnews/article/422/000...</td>\n",
       "      <td>20220701</td>\n",
       "      <td>우리은행에 이어 신한은행에서도 통상적인 범위를 벗어난 거액의 외환거래가 지속돼온 정...</td>\n",
       "    </tr>\n",
       "    <tr>\n",
       "      <th>2</th>\n",
       "      <td>윤종원 기업은행장, 베트남 중앙은행 부총재와 중기금융 협력 논의</td>\n",
       "      <td>https://n.news.naver.com/mnews/article/008/000...</td>\n",
       "      <td>20220701</td>\n",
       "      <td>지난 6월 27일 윤종원 기업은행장이 하노이 베트남 중앙은행에서 도안 타이 썬 부총...</td>\n",
       "    </tr>\n",
       "    <tr>\n",
       "      <th>3</th>\n",
       "      <td>금융위, 담보비율 면제 등 증시 변동성 완화 조치 시행</td>\n",
       "      <td>https://n.news.naver.com/mnews/article/003/001...</td>\n",
       "      <td>20220701</td>\n",
       "      <td>기사내용 요약자사주 매수주문 수량 제한 완화도 시행금감원·거래소 합동 공매도 특별점...</td>\n",
       "    </tr>\n",
       "    <tr>\n",
       "      <th>4</th>\n",
       "      <td>신한은행에서도 수상한 외환거래 정황…금감원 수시 검사 착수</td>\n",
       "      <td>https://n.news.naver.com/mnews/article/020/000...</td>\n",
       "      <td>20220701</td>\n",
       "      <td>금융감독원 모습. © News1우리은행에 이어 신한은행에서도 일반적인 범위를 벗어난...</td>\n",
       "    </tr>\n",
       "    <tr>\n",
       "      <th>...</th>\n",
       "      <td>...</td>\n",
       "      <td>...</td>\n",
       "      <td>...</td>\n",
       "      <td>...</td>\n",
       "    </tr>\n",
       "    <tr>\n",
       "      <th>12145</th>\n",
       "      <td>‘특별사료구매자금’ 만기 5년으로 확대…축산농가 ‘숨통’</td>\n",
       "      <td>https://n.news.naver.com/mnews/article/662/000...</td>\n",
       "      <td>20220801</td>\n",
       "      <td>기존 2년만기 상품 대환 가능 3년 거치 2년 균등분할 상환 대출도 연 1% 고정금...</td>\n",
       "    </tr>\n",
       "    <tr>\n",
       "      <th>12146</th>\n",
       "      <td>부산은행 직원, '고객 돈 14억' 애인 계좌로 '꿀꺽'…당국, 지배구조법 개정 검토</td>\n",
       "      <td>https://n.news.naver.com/mnews/article/008/000...</td>\n",
       "      <td>20220801</td>\n",
       "      <td>이복현 금융감독원장이 28일 오전 서울 여의도 국회에서 열린 정무위원회에서 의원 질...</td>\n",
       "    </tr>\n",
       "    <tr>\n",
       "      <th>12147</th>\n",
       "      <td>\"'연 6% 신용대출' 이자 못 버틴다\" 빚갚는 영끌족</td>\n",
       "      <td>https://n.news.naver.com/mnews/article/008/000...</td>\n",
       "      <td>20220801</td>\n",
       "      <td>[올 상반기 신용대출 포함 기타대출 10.2조 감소...7월 DSR 3단계 시행, ...</td>\n",
       "    </tr>\n",
       "    <tr>\n",
       "      <th>12148</th>\n",
       "      <td>[기자수첩] 고금리 시대 저금리 대환대출 중단한 이유는</td>\n",
       "      <td>https://n.news.naver.com/mnews/article/417/000...</td>\n",
       "      <td>20220801</td>\n",
       "      <td>최근 금융권에선 토스뱅크의 대환대출 서비스 중단이 이슈로 떠올랐다. 토스뱅크가 지난...</td>\n",
       "    </tr>\n",
       "    <tr>\n",
       "      <th>12149</th>\n",
       "      <td>생애 첫 주택, 오늘부터 LTV 80% 적용</td>\n",
       "      <td>https://n.news.naver.com/mnews/article/020/000...</td>\n",
       "      <td>20220801</td>\n",
       "      <td>대출규제 완화안 본격 시행\\n\\n\\n\\n《오늘부터 대출 규제가 일부 완화돼 생애 최...</td>\n",
       "    </tr>\n",
       "  </tbody>\n",
       "</table>\n",
       "<p>12150 rows × 4 columns</p>\n",
       "</div>"
      ],
      "text/plain": [
       "                                                 title   \n",
       "0                         신한은행도 이상 외화거래 정황... 금감원 검사착수  \\\n",
       "1                          신한은행도 거액 외환 이상 거래 정황…금감원 검사   \n",
       "2                  윤종원 기업은행장, 베트남 중앙은행 부총재와 중기금융 협력 논의   \n",
       "3                       금융위, 담보비율 면제 등 증시 변동성 완화 조치 시행   \n",
       "4                     신한은행에서도 수상한 외환거래 정황…금감원 수시 검사 착수   \n",
       "...                                                ...   \n",
       "12145                  ‘특별사료구매자금’ 만기 5년으로 확대…축산농가 ‘숨통’   \n",
       "12146  부산은행 직원, '고객 돈 14억' 애인 계좌로 '꿀꺽'…당국, 지배구조법 개정 검토   \n",
       "12147                   \"'연 6% 신용대출' 이자 못 버틴다\" 빚갚는 영끌족   \n",
       "12148                   [기자수첩] 고금리 시대 저금리 대환대출 중단한 이유는   \n",
       "12149                         생애 첫 주택, 오늘부터 LTV 80% 적용   \n",
       "\n",
       "                                                     url   pubdate   \n",
       "0      https://n.news.naver.com/mnews/article/008/000...  20220701  \\\n",
       "1      https://n.news.naver.com/mnews/article/422/000...  20220701   \n",
       "2      https://n.news.naver.com/mnews/article/008/000...  20220701   \n",
       "3      https://n.news.naver.com/mnews/article/003/001...  20220701   \n",
       "4      https://n.news.naver.com/mnews/article/020/000...  20220701   \n",
       "...                                                  ...       ...   \n",
       "12145  https://n.news.naver.com/mnews/article/662/000...  20220801   \n",
       "12146  https://n.news.naver.com/mnews/article/008/000...  20220801   \n",
       "12147  https://n.news.naver.com/mnews/article/008/000...  20220801   \n",
       "12148  https://n.news.naver.com/mnews/article/417/000...  20220801   \n",
       "12149  https://n.news.naver.com/mnews/article/020/000...  20220801   \n",
       "\n",
       "                                                 content  \n",
       "0      금감원 사옥금융감독원이 우리은행에 이어 신한은행 지점에서도 비정상적인 규모의 외화거...  \n",
       "1      우리은행에 이어 신한은행에서도 통상적인 범위를 벗어난 거액의 외환거래가 지속돼온 정...  \n",
       "2      지난 6월 27일 윤종원 기업은행장이 하노이 베트남 중앙은행에서 도안 타이 썬 부총...  \n",
       "3      기사내용 요약자사주 매수주문 수량 제한 완화도 시행금감원·거래소 합동 공매도 특별점...  \n",
       "4      금융감독원 모습. © News1우리은행에 이어 신한은행에서도 일반적인 범위를 벗어난...  \n",
       "...                                                  ...  \n",
       "12145  기존 2년만기 상품 대환 가능 3년 거치 2년 균등분할 상환 대출도 연 1% 고정금...  \n",
       "12146  이복현 금융감독원장이 28일 오전 서울 여의도 국회에서 열린 정무위원회에서 의원 질...  \n",
       "12147  [올 상반기 신용대출 포함 기타대출 10.2조 감소...7월 DSR 3단계 시행, ...  \n",
       "12148  최근 금융권에선 토스뱅크의 대환대출 서비스 중단이 이슈로 떠올랐다. 토스뱅크가 지난...  \n",
       "12149  대출규제 완화안 본격 시행\\n\\n\\n\\n《오늘부터 대출 규제가 일부 완화돼 생애 최...  \n",
       "\n",
       "[12150 rows x 4 columns]"
      ]
     },
     "execution_count": 21,
     "metadata": {},
     "output_type": "execute_result"
    }
   ],
   "source": [
    "news_df = generate_news_content_df(news_date_li)\n",
    "news_df"
   ]
  },
  {
   "cell_type": "code",
   "execution_count": 22,
   "id": "803c1999",
   "metadata": {},
   "outputs": [],
   "source": [
    "enddate = int(enddate) - 1 \n",
    "news_df.to_csv(f'경제면_금융섹터_기사({startdate}-{enddate}).csv',encoding='utf-8-sig')"
   ]
  },
  {
   "cell_type": "code",
   "execution_count": 23,
   "id": "062a5da8",
   "metadata": {},
   "outputs": [],
   "source": [
    "news_df.to_csv(f'경제면_금융섹터_기사({startdate}).csv',encoding='utf-8-sig', index=False)"
   ]
  },
  {
   "cell_type": "markdown",
   "id": "b61b0006",
   "metadata": {},
   "source": [
    "### 2022년 8월"
   ]
  },
  {
   "cell_type": "code",
   "execution_count": 24,
   "id": "ee56ebfa",
   "metadata": {},
   "outputs": [
    {
     "name": "stdout",
     "output_type": "stream",
     "text": [
      "['20220801', '20220802', '20220803', '20220804', '20220805', '20220806', '20220807', '20220808', '20220809', '20220810', '20220811', '20220812', '20220813', '20220814', '20220815', '20220816', '20220817', '20220818', '20220819', '20220820', '20220821', '20220822', '20220823', '20220824', '20220825', '20220826', '20220827', '20220828', '20220829', '20220830', '20220901']\n"
     ]
    }
   ],
   "source": [
    "startdate = '202208'\n",
    "enddate = '202209'\n",
    "date_list = generate_date_list(startdate, enddate)\n",
    "print(date_list)"
   ]
  },
  {
   "cell_type": "code",
   "execution_count": null,
   "id": "6b453a5e",
   "metadata": {},
   "outputs": [],
   "source": [
    "news_date_li = generate_news_list(date_list)"
   ]
  },
  {
   "cell_type": "code",
   "execution_count": 8,
   "id": "1546d779",
   "metadata": {},
   "outputs": [
    {
     "name": "stderr",
     "output_type": "stream",
     "text": [
      "100%|█████████████████████████████████████████████████████████████████████████████████████████████████████████████████████████████████████████████████| 11424/11424 [57:41<00:00,  3.30it/s]\n"
     ]
    },
    {
     "data": {
      "text/html": [
       "<div>\n",
       "<style scoped>\n",
       "    .dataframe tbody tr th:only-of-type {\n",
       "        vertical-align: middle;\n",
       "    }\n",
       "\n",
       "    .dataframe tbody tr th {\n",
       "        vertical-align: top;\n",
       "    }\n",
       "\n",
       "    .dataframe thead th {\n",
       "        text-align: right;\n",
       "    }\n",
       "</style>\n",
       "<table border=\"1\" class=\"dataframe\">\n",
       "  <thead>\n",
       "    <tr style=\"text-align: right;\">\n",
       "      <th></th>\n",
       "      <th>title</th>\n",
       "      <th>url</th>\n",
       "      <th>pubdate</th>\n",
       "      <th>content</th>\n",
       "    </tr>\n",
       "  </thead>\n",
       "  <tbody>\n",
       "    <tr>\n",
       "      <th>11419</th>\n",
       "      <td>“尹 정부 임기 만료 전 산은 착공 꼭 이룰 것”</td>\n",
       "      <td>https://n.news.naver.com/mnews/article/658/000...</td>\n",
       "      <td>20220901</td>\n",
       "      <td>이성권 부산시 경제부시장\\n\\n\\n\\n“산업은행 부산 이전에 대한 대통령과 정부 의...</td>\n",
       "    </tr>\n",
       "    <tr>\n",
       "      <th>11420</th>\n",
       "      <td>금융단지 노른자위에 이전…산은 직원 주택 특별분양 지원도</td>\n",
       "      <td>https://n.news.naver.com/mnews/article/658/000...</td>\n",
       "      <td>20220901</td>\n",
       "      <td>부산시 다양한 혜택 마련 준비- 1만여 ㎡에 2028년 사옥 준공- 자녀들 위한 교...</td>\n",
       "    </tr>\n",
       "    <tr>\n",
       "      <th>11421</th>\n",
       "      <td>산은 이전 입법전쟁…부산시는 野와, 노조는 與와도 연대</td>\n",
       "      <td>https://n.news.naver.com/mnews/article/658/000...</td>\n",
       "      <td>20220901</td>\n",
       "      <td>국회로 넘어간 산은법 운명- 이달 개회 뒤 법 개정 여부 촉각   - 노조, 민주당...</td>\n",
       "    </tr>\n",
       "    <tr>\n",
       "      <th>11422</th>\n",
       "      <td>“배상액 크게 줄여” vs “혈세 수천억 줄 상황”… 당시 관료들 책임론도</td>\n",
       "      <td>https://n.news.naver.com/mnews/article/020/000...</td>\n",
       "      <td>20220901</td>\n",
       "      <td>론스타에 3100억 배상판정 논란“론스타의 주가조작 유죄 인정등… 한국정부 입장 상...</td>\n",
       "    </tr>\n",
       "    <tr>\n",
       "      <th>11423</th>\n",
       "      <td>카카오뱅크, 주담대 금리 최대 0.85%p 내린다</td>\n",
       "      <td>https://n.news.naver.com/mnews/article/022/000...</td>\n",
       "      <td>20220901</td>\n",
       "      <td>카카오뱅크는 주택담보대출 상품 금리를 최대 0.85%포인트 인하한다고 31일 밝혔다...</td>\n",
       "    </tr>\n",
       "  </tbody>\n",
       "</table>\n",
       "</div>"
      ],
      "text/plain": [
       "                                           title   \n",
       "11419                “尹 정부 임기 만료 전 산은 착공 꼭 이룰 것”  \\\n",
       "11420            금융단지 노른자위에 이전…산은 직원 주택 특별분양 지원도   \n",
       "11421             산은 이전 입법전쟁…부산시는 野와, 노조는 與와도 연대   \n",
       "11422  “배상액 크게 줄여” vs “혈세 수천억 줄 상황”… 당시 관료들 책임론도   \n",
       "11423                카카오뱅크, 주담대 금리 최대 0.85%p 내린다   \n",
       "\n",
       "                                                     url   pubdate   \n",
       "11419  https://n.news.naver.com/mnews/article/658/000...  20220901  \\\n",
       "11420  https://n.news.naver.com/mnews/article/658/000...  20220901   \n",
       "11421  https://n.news.naver.com/mnews/article/658/000...  20220901   \n",
       "11422  https://n.news.naver.com/mnews/article/020/000...  20220901   \n",
       "11423  https://n.news.naver.com/mnews/article/022/000...  20220901   \n",
       "\n",
       "                                                 content  \n",
       "11419  이성권 부산시 경제부시장\\n\\n\\n\\n“산업은행 부산 이전에 대한 대통령과 정부 의...  \n",
       "11420  부산시 다양한 혜택 마련 준비- 1만여 ㎡에 2028년 사옥 준공- 자녀들 위한 교...  \n",
       "11421  국회로 넘어간 산은법 운명- 이달 개회 뒤 법 개정 여부 촉각   - 노조, 민주당...  \n",
       "11422  론스타에 3100억 배상판정 논란“론스타의 주가조작 유죄 인정등… 한국정부 입장 상...  \n",
       "11423  카카오뱅크는 주택담보대출 상품 금리를 최대 0.85%포인트 인하한다고 31일 밝혔다...  "
      ]
     },
     "execution_count": 8,
     "metadata": {},
     "output_type": "execute_result"
    }
   ],
   "source": [
    "news_df = generate_news_content_df(news_date_li)\n",
    "news_df.tail()"
   ]
  },
  {
   "cell_type": "code",
   "execution_count": 9,
   "id": "f7b56316",
   "metadata": {},
   "outputs": [],
   "source": [
    "news_df.to_csv(f'경제면_금융섹터_기사({startdate}).csv',encoding='utf-8-sig', index=False)"
   ]
  },
  {
   "cell_type": "markdown",
   "id": "5f71ff63",
   "metadata": {},
   "source": [
    "### 2022년 9월"
   ]
  },
  {
   "cell_type": "code",
   "execution_count": 10,
   "id": "44545e0a",
   "metadata": {},
   "outputs": [
    {
     "name": "stdout",
     "output_type": "stream",
     "text": [
      "['20220901', '20220902', '20220903', '20220904', '20220905', '20220906', '20220907', '20220908', '20220909', '20220910', '20220911', '20220912', '20220913', '20220914', '20220915', '20220916', '20220917', '20220918', '20220919', '20220920', '20220921', '20220922', '20220923', '20220924', '20220925', '20220926', '20220927', '20220928', '20220929', '20221001']\n"
     ]
    }
   ],
   "source": [
    "startdate = '202209'\n",
    "enddate = '202210'\n",
    "date_list = generate_date_list(startdate, enddate)\n",
    "print(date_list)"
   ]
  },
  {
   "cell_type": "code",
   "execution_count": null,
   "id": "41cf9f5d",
   "metadata": {},
   "outputs": [],
   "source": [
    "news_date_li = generate_news_list(date_list)"
   ]
  },
  {
   "cell_type": "code",
   "execution_count": 12,
   "id": "980fdc05",
   "metadata": {
    "scrolled": false
   },
   "outputs": [
    {
     "name": "stderr",
     "output_type": "stream",
     "text": [
      "100%|█████████████████████████████████████████████████████████████████████████████████████████████████████████████████████████████████████████████████| 11979/11979 [55:30<00:00,  3.60it/s]\n"
     ]
    },
    {
     "data": {
      "text/html": [
       "<div>\n",
       "<style scoped>\n",
       "    .dataframe tbody tr th:only-of-type {\n",
       "        vertical-align: middle;\n",
       "    }\n",
       "\n",
       "    .dataframe tbody tr th {\n",
       "        vertical-align: top;\n",
       "    }\n",
       "\n",
       "    .dataframe thead th {\n",
       "        text-align: right;\n",
       "    }\n",
       "</style>\n",
       "<table border=\"1\" class=\"dataframe\">\n",
       "  <thead>\n",
       "    <tr style=\"text-align: right;\">\n",
       "      <th></th>\n",
       "      <th>title</th>\n",
       "      <th>url</th>\n",
       "      <th>pubdate</th>\n",
       "      <th>content</th>\n",
       "    </tr>\n",
       "  </thead>\n",
       "  <tbody>\n",
       "    <tr>\n",
       "      <th>11974</th>\n",
       "      <td>상호금융 횡령 5년간 286억원인데…고발률은 60%대</td>\n",
       "      <td>https://n.news.naver.com/mnews/article/003/001...</td>\n",
       "      <td>20221001</td>\n",
       "      <td>[서울=뉴시스] 고범준 기자 = 4일 서올의 한 시중은행 외벽에 전세 대출 상품 관...</td>\n",
       "    </tr>\n",
       "    <tr>\n",
       "      <th>11975</th>\n",
       "      <td>두나무, NFT 수익금 산림청 산하기관 기부</td>\n",
       "      <td>https://n.news.naver.com/mnews/article/022/000...</td>\n",
       "      <td>20221001</td>\n",
       "      <td>가상자산 전문기업 두나무는 디지털 아트 전시회 ‘포레스트전’에서 발생한 NFT 낙찰...</td>\n",
       "    </tr>\n",
       "    <tr>\n",
       "      <th>11976</th>\n",
       "      <td>유진투자증권, 유소년 선수·보육원 아동 테니스대회 초청</td>\n",
       "      <td>https://n.news.naver.com/mnews/article/022/000...</td>\n",
       "      <td>20221001</td>\n",
       "      <td>유진투자증권이 ‘유진투자증권 코리아오픈테니스대회 2022’에 테니스 유소년 선수와 ...</td>\n",
       "    </tr>\n",
       "    <tr>\n",
       "      <th>11977</th>\n",
       "      <td>예탁원 \"10월 중 케이카 등 42개사 1.7억주 의무보유 해제\"</td>\n",
       "      <td>https://n.news.naver.com/mnews/article/022/000...</td>\n",
       "      <td>20221001</td>\n",
       "      <td>한국예탁결제원은 10월 중 의무보유등록 상장주식 총 1억7296만주(42개사)가 해...</td>\n",
       "    </tr>\n",
       "    <tr>\n",
       "      <th>11978</th>\n",
       "      <td>미래에셋자산운용, 글로벌엑스 재팬 ETF 3종목 동경거래소 신규 상장</td>\n",
       "      <td>https://n.news.naver.com/mnews/article/022/000...</td>\n",
       "      <td>20221001</td>\n",
       "      <td>미래에셋자산운용은 일본 합작법인 ‘Global X Japan(글로벌엑스 재팬)’이 ...</td>\n",
       "    </tr>\n",
       "  </tbody>\n",
       "</table>\n",
       "</div>"
      ],
      "text/plain": [
       "                                        title   \n",
       "11974           상호금융 횡령 5년간 286억원인데…고발률은 60%대  \\\n",
       "11975                두나무, NFT 수익금 산림청 산하기관 기부   \n",
       "11976          유진투자증권, 유소년 선수·보육원 아동 테니스대회 초청   \n",
       "11977    예탁원 \"10월 중 케이카 등 42개사 1.7억주 의무보유 해제\"   \n",
       "11978  미래에셋자산운용, 글로벌엑스 재팬 ETF 3종목 동경거래소 신규 상장   \n",
       "\n",
       "                                                     url   pubdate   \n",
       "11974  https://n.news.naver.com/mnews/article/003/001...  20221001  \\\n",
       "11975  https://n.news.naver.com/mnews/article/022/000...  20221001   \n",
       "11976  https://n.news.naver.com/mnews/article/022/000...  20221001   \n",
       "11977  https://n.news.naver.com/mnews/article/022/000...  20221001   \n",
       "11978  https://n.news.naver.com/mnews/article/022/000...  20221001   \n",
       "\n",
       "                                                 content  \n",
       "11974  [서울=뉴시스] 고범준 기자 = 4일 서올의 한 시중은행 외벽에 전세 대출 상품 관...  \n",
       "11975  가상자산 전문기업 두나무는 디지털 아트 전시회 ‘포레스트전’에서 발생한 NFT 낙찰...  \n",
       "11976  유진투자증권이 ‘유진투자증권 코리아오픈테니스대회 2022’에 테니스 유소년 선수와 ...  \n",
       "11977  한국예탁결제원은 10월 중 의무보유등록 상장주식 총 1억7296만주(42개사)가 해...  \n",
       "11978  미래에셋자산운용은 일본 합작법인 ‘Global X Japan(글로벌엑스 재팬)’이 ...  "
      ]
     },
     "execution_count": 12,
     "metadata": {},
     "output_type": "execute_result"
    }
   ],
   "source": [
    "news_df = generate_news_content_df(news_date_li)\n",
    "news_df.tail()"
   ]
  },
  {
   "cell_type": "code",
   "execution_count": 13,
   "id": "e9589936",
   "metadata": {},
   "outputs": [],
   "source": [
    "news_df.to_csv(f'경제면_금융섹터_기사({startdate}).csv',encoding='utf-8-sig', index=False)"
   ]
  },
  {
   "cell_type": "markdown",
   "id": "a591b373",
   "metadata": {},
   "source": [
    "### 2022년 10월"
   ]
  },
  {
   "cell_type": "code",
   "execution_count": 5,
   "id": "5198307f",
   "metadata": {},
   "outputs": [
    {
     "name": "stdout",
     "output_type": "stream",
     "text": [
      "['20221001', '20221002', '20221003', '20221004', '20221005', '20221006', '20221007', '20221008', '20221009', '20221010', '20221011', '20221012', '20221013', '20221014', '20221015', '20221016', '20221017', '20221018', '20221019', '20221020', '20221021', '20221022', '20221023', '20221024', '20221025', '20221026', '20221027', '20221028', '20221029', '20221030', '20221101']\n"
     ]
    }
   ],
   "source": [
    "startdate = '202210'\n",
    "enddate = '202211'\n",
    "date_list = generate_date_list(startdate, enddate)\n",
    "print(date_list)"
   ]
  },
  {
   "cell_type": "code",
   "execution_count": null,
   "id": "d2b22c97",
   "metadata": {},
   "outputs": [],
   "source": [
    "news_date_li = generate_news_list(date_list)"
   ]
  },
  {
   "cell_type": "code",
   "execution_count": 7,
   "id": "73c9ea19",
   "metadata": {},
   "outputs": [
    {
     "name": "stderr",
     "output_type": "stream",
     "text": [
      "100%|███████████████████████████████████████████████████████████████████████████████████████████████████████████████████████████████████████████████| 11869/11869 [1:06:24<00:00,  2.98it/s]\n"
     ]
    },
    {
     "data": {
      "text/html": [
       "<div>\n",
       "<style scoped>\n",
       "    .dataframe tbody tr th:only-of-type {\n",
       "        vertical-align: middle;\n",
       "    }\n",
       "\n",
       "    .dataframe tbody tr th {\n",
       "        vertical-align: top;\n",
       "    }\n",
       "\n",
       "    .dataframe thead th {\n",
       "        text-align: right;\n",
       "    }\n",
       "</style>\n",
       "<table border=\"1\" class=\"dataframe\">\n",
       "  <thead>\n",
       "    <tr style=\"text-align: right;\">\n",
       "      <th></th>\n",
       "      <th>title</th>\n",
       "      <th>url</th>\n",
       "      <th>pubdate</th>\n",
       "      <th>content</th>\n",
       "    </tr>\n",
       "  </thead>\n",
       "  <tbody>\n",
       "    <tr>\n",
       "      <th>11864</th>\n",
       "      <td>메리츠증권 3분기 당기순이익 2175억… 전년동기比 13.8%↑</td>\n",
       "      <td>https://n.news.naver.com/mnews/article/022/000...</td>\n",
       "      <td>20221101</td>\n",
       "      <td>메리츠증권이 3분기 연결기준 당기순이익이 2175억원으로 전년동기대비 13.8% 증...</td>\n",
       "    </tr>\n",
       "    <tr>\n",
       "      <th>11865</th>\n",
       "      <td>‘카카오 장애’ 불편 겪은 업비트, 자체 로그인 시스템 도입</td>\n",
       "      <td>https://n.news.naver.com/mnews/article/022/000...</td>\n",
       "      <td>20221101</td>\n",
       "      <td>디지털자산 거래소 업비트가 기존 카카오·애플 ID 로그인을 대체하는 새 로그인 방식...</td>\n",
       "    </tr>\n",
       "    <tr>\n",
       "      <th>11866</th>\n",
       "      <td>미래에셋자산운용, ETF 활용 연금투자 가이드 개정판 발간</td>\n",
       "      <td>https://n.news.naver.com/mnews/article/022/000...</td>\n",
       "      <td>20221101</td>\n",
       "      <td>미래에셋자산운용은 ‘ETF를 활용한 연금투자 가이드’ 개정판을 발간했다고 28일 밝...</td>\n",
       "    </tr>\n",
       "    <tr>\n",
       "      <th>11867</th>\n",
       "      <td>‘(무)ABL인터넷네개딱!패키지건강보험(갱신형)’ 출시</td>\n",
       "      <td>https://n.news.naver.com/mnews/article/022/000...</td>\n",
       "      <td>20221101</td>\n",
       "      <td>ABL생명의 온라인채널 보험 브랜드인 ABL인터넷보험은 다양한 보장 급부를 네 가지...</td>\n",
       "    </tr>\n",
       "    <tr>\n",
       "      <th>11868</th>\n",
       "      <td>임기 만료 앞둔 손병환 NH농협금융 회장, 실적 앞세워 연임 청신호?</td>\n",
       "      <td>https://n.news.naver.com/mnews/article/629/000...</td>\n",
       "      <td>20221101</td>\n",
       "      <td>농협금융, 3분기 누적 당기순이익 1조9717억 원···전년比 8.1%↑\\n\\n\\n...</td>\n",
       "    </tr>\n",
       "  </tbody>\n",
       "</table>\n",
       "</div>"
      ],
      "text/plain": [
       "                                        title   \n",
       "11864     메리츠증권 3분기 당기순이익 2175억… 전년동기比 13.8%↑  \\\n",
       "11865       ‘카카오 장애’ 불편 겪은 업비트, 자체 로그인 시스템 도입   \n",
       "11866        미래에셋자산운용, ETF 활용 연금투자 가이드 개정판 발간   \n",
       "11867          ‘(무)ABL인터넷네개딱!패키지건강보험(갱신형)’ 출시   \n",
       "11868  임기 만료 앞둔 손병환 NH농협금융 회장, 실적 앞세워 연임 청신호?   \n",
       "\n",
       "                                                     url   pubdate   \n",
       "11864  https://n.news.naver.com/mnews/article/022/000...  20221101  \\\n",
       "11865  https://n.news.naver.com/mnews/article/022/000...  20221101   \n",
       "11866  https://n.news.naver.com/mnews/article/022/000...  20221101   \n",
       "11867  https://n.news.naver.com/mnews/article/022/000...  20221101   \n",
       "11868  https://n.news.naver.com/mnews/article/629/000...  20221101   \n",
       "\n",
       "                                                 content  \n",
       "11864  메리츠증권이 3분기 연결기준 당기순이익이 2175억원으로 전년동기대비 13.8% 증...  \n",
       "11865  디지털자산 거래소 업비트가 기존 카카오·애플 ID 로그인을 대체하는 새 로그인 방식...  \n",
       "11866  미래에셋자산운용은 ‘ETF를 활용한 연금투자 가이드’ 개정판을 발간했다고 28일 밝...  \n",
       "11867  ABL생명의 온라인채널 보험 브랜드인 ABL인터넷보험은 다양한 보장 급부를 네 가지...  \n",
       "11868  농협금융, 3분기 누적 당기순이익 1조9717억 원···전년比 8.1%↑\\n\\n\\n...  "
      ]
     },
     "execution_count": 7,
     "metadata": {},
     "output_type": "execute_result"
    }
   ],
   "source": [
    "news_df = generate_news_content_df(news_date_li)\n",
    "news_df.tail()"
   ]
  },
  {
   "cell_type": "code",
   "execution_count": 8,
   "id": "24a17df4",
   "metadata": {},
   "outputs": [],
   "source": [
    "news_df.to_csv(f'경제면_금융섹터_기사({startdate}).csv',encoding='utf-8-sig', index=False)"
   ]
  },
  {
   "cell_type": "markdown",
   "id": "731983f8",
   "metadata": {},
   "source": [
    "### 2022년 11월"
   ]
  },
  {
   "cell_type": "code",
   "execution_count": 9,
   "id": "b32a3e75",
   "metadata": {},
   "outputs": [
    {
     "name": "stdout",
     "output_type": "stream",
     "text": [
      "['20221101', '20221102', '20221103', '20221104', '20221105', '20221106', '20221107', '20221108', '20221109', '20221110', '20221111', '20221112', '20221113', '20221114', '20221115', '20221116', '20221117', '20221118', '20221119', '20221120', '20221121', '20221122', '20221123', '20221124', '20221125', '20221126', '20221127', '20221128', '20221129', '20221201']\n"
     ]
    }
   ],
   "source": [
    "startdate = '202211'\n",
    "enddate = '202212'\n",
    "date_list = generate_date_list(startdate, enddate)\n",
    "print(date_list)"
   ]
  },
  {
   "cell_type": "code",
   "execution_count": null,
   "id": "1548df5d",
   "metadata": {},
   "outputs": [],
   "source": [
    "news_date_li = generate_news_list(date_list)"
   ]
  },
  {
   "cell_type": "code",
   "execution_count": 11,
   "id": "30e59d9c",
   "metadata": {
    "scrolled": true
   },
   "outputs": [
    {
     "name": "stderr",
     "output_type": "stream",
     "text": [
      "100%|█████████████████████████████████████████████████████████████████████████████████████████████████████████████████████████████████████████████████| 12484/12484 [55:29<00:00,  3.75it/s]\n"
     ]
    },
    {
     "data": {
      "text/html": [
       "<div>\n",
       "<style scoped>\n",
       "    .dataframe tbody tr th:only-of-type {\n",
       "        vertical-align: middle;\n",
       "    }\n",
       "\n",
       "    .dataframe tbody tr th {\n",
       "        vertical-align: top;\n",
       "    }\n",
       "\n",
       "    .dataframe thead th {\n",
       "        text-align: right;\n",
       "    }\n",
       "</style>\n",
       "<table border=\"1\" class=\"dataframe\">\n",
       "  <thead>\n",
       "    <tr style=\"text-align: right;\">\n",
       "      <th></th>\n",
       "      <th>title</th>\n",
       "      <th>url</th>\n",
       "      <th>pubdate</th>\n",
       "      <th>content</th>\n",
       "    </tr>\n",
       "  </thead>\n",
       "  <tbody>\n",
       "    <tr>\n",
       "      <th>12479</th>\n",
       "      <td>가상화폐거래소 크라켄, 직원 30% 해고…코인 침체·FTX 여파</td>\n",
       "      <td>https://n.news.naver.com/mnews/article/001/001...</td>\n",
       "      <td>20221201</td>\n",
       "      <td>미국 가상화폐거래소 크라켄 로고[크라켄 페이스북 캡처, 재판매 및 DB 금지](로스...</td>\n",
       "    </tr>\n",
       "    <tr>\n",
       "      <th>12480</th>\n",
       "      <td>KB증권, 파생상품 양도소득세 신고대행서비스 시행</td>\n",
       "      <td>https://n.news.naver.com/mnews/article/022/000...</td>\n",
       "      <td>20221201</td>\n",
       "      <td>KB증권은 VIP등급 이상 고객을 대상으로 파생상품 양도소득세 신고대행서비스를 시행...</td>\n",
       "    </tr>\n",
       "    <tr>\n",
       "      <th>12481</th>\n",
       "      <td>삼성증권 온라인 '비상장주식 Total 솔루션' 서비스 오픈 [투데이 마이머니]</td>\n",
       "      <td>https://n.news.naver.com/mnews/article/022/000...</td>\n",
       "      <td>20221201</td>\n",
       "      <td>쏟아지는 새로운 금융상품은 쉽게 지나치기 쉬운 귀찮은 ‘광고’ 취급을 받기 일쑤다....</td>\n",
       "    </tr>\n",
       "    <tr>\n",
       "      <th>12482</th>\n",
       "      <td>BNK경남은행, ‘The Art Card &amp; The Gallery Card’ 출시</td>\n",
       "      <td>https://n.news.naver.com/mnews/article/022/000...</td>\n",
       "      <td>20221201</td>\n",
       "      <td>BNK경남은행이 현직 작가의 작품을 카드 디자인에 반영한 신상품 2종을 내놨다.  ...</td>\n",
       "    </tr>\n",
       "    <tr>\n",
       "      <th>12483</th>\n",
       "      <td>옐런 美재무 \"가상화폐 소유자 보호해야…업계 규제 필요\"</td>\n",
       "      <td>https://n.news.naver.com/mnews/article/001/001...</td>\n",
       "      <td>20221201</td>\n",
       "      <td>\"실업률 4%는 튼튼한 노동시장…트위터, 콘텐츠 자체 규제해야\"\"경제계 '中 리스크...</td>\n",
       "    </tr>\n",
       "  </tbody>\n",
       "</table>\n",
       "</div>"
      ],
      "text/plain": [
       "                                               title   \n",
       "12479            가상화폐거래소 크라켄, 직원 30% 해고…코인 침체·FTX 여파  \\\n",
       "12480                    KB증권, 파생상품 양도소득세 신고대행서비스 시행   \n",
       "12481   삼성증권 온라인 '비상장주식 Total 솔루션' 서비스 오픈 [투데이 마이머니]   \n",
       "12482  BNK경남은행, ‘The Art Card & The Gallery Card’ 출시   \n",
       "12483                옐런 美재무 \"가상화폐 소유자 보호해야…업계 규제 필요\"   \n",
       "\n",
       "                                                     url   pubdate   \n",
       "12479  https://n.news.naver.com/mnews/article/001/001...  20221201  \\\n",
       "12480  https://n.news.naver.com/mnews/article/022/000...  20221201   \n",
       "12481  https://n.news.naver.com/mnews/article/022/000...  20221201   \n",
       "12482  https://n.news.naver.com/mnews/article/022/000...  20221201   \n",
       "12483  https://n.news.naver.com/mnews/article/001/001...  20221201   \n",
       "\n",
       "                                                 content  \n",
       "12479  미국 가상화폐거래소 크라켄 로고[크라켄 페이스북 캡처, 재판매 및 DB 금지](로스...  \n",
       "12480  KB증권은 VIP등급 이상 고객을 대상으로 파생상품 양도소득세 신고대행서비스를 시행...  \n",
       "12481  쏟아지는 새로운 금융상품은 쉽게 지나치기 쉬운 귀찮은 ‘광고’ 취급을 받기 일쑤다....  \n",
       "12482  BNK경남은행이 현직 작가의 작품을 카드 디자인에 반영한 신상품 2종을 내놨다.  ...  \n",
       "12483  \"실업률 4%는 튼튼한 노동시장…트위터, 콘텐츠 자체 규제해야\"\"경제계 '中 리스크...  "
      ]
     },
     "execution_count": 11,
     "metadata": {},
     "output_type": "execute_result"
    }
   ],
   "source": [
    "news_df = generate_news_content_df(news_date_li)\n",
    "news_df.tail()"
   ]
  },
  {
   "cell_type": "code",
   "execution_count": 12,
   "id": "25ca5f25",
   "metadata": {},
   "outputs": [],
   "source": [
    "news_df.to_csv(f'경제면_금융섹터_기사({startdate}).csv',encoding='utf-8-sig', index=False)"
   ]
  },
  {
   "cell_type": "markdown",
   "id": "1a096aa4",
   "metadata": {},
   "source": [
    "### 2022년 12월"
   ]
  },
  {
   "cell_type": "code",
   "execution_count": 13,
   "id": "6f1d43de",
   "metadata": {},
   "outputs": [
    {
     "name": "stdout",
     "output_type": "stream",
     "text": [
      "['20221201', '20221202', '20221203', '20221204', '20221205', '20221206', '20221207', '20221208', '20221209', '20221210', '20221211', '20221212', '20221213', '20221214', '20221215', '20221216', '20221217', '20221218', '20221219', '20221220', '20221221', '20221222', '20221223', '20221224', '20221225', '20221226', '20221227', '20221228', '20221229', '20221230', '20230101']\n"
     ]
    }
   ],
   "source": [
    "startdate = '202212'\n",
    "enddate = '202301'\n",
    "date_list = generate_date_list(startdate, enddate)\n",
    "print(date_list)"
   ]
  },
  {
   "cell_type": "code",
   "execution_count": null,
   "id": "80ca662d",
   "metadata": {},
   "outputs": [],
   "source": [
    "news_date_li = generate_news_list(date_list)"
   ]
  },
  {
   "cell_type": "code",
   "execution_count": 15,
   "id": "4f955e96",
   "metadata": {},
   "outputs": [
    {
     "name": "stderr",
     "output_type": "stream",
     "text": [
      "100%|███████████████████████████████████████████████████████████████████████████████████████████████████████████████████████████████████████████████| 11696/11696 [1:41:57<00:00,  1.91it/s]\n"
     ]
    },
    {
     "data": {
      "text/html": [
       "<div>\n",
       "<style scoped>\n",
       "    .dataframe tbody tr th:only-of-type {\n",
       "        vertical-align: middle;\n",
       "    }\n",
       "\n",
       "    .dataframe tbody tr th {\n",
       "        vertical-align: top;\n",
       "    }\n",
       "\n",
       "    .dataframe thead th {\n",
       "        text-align: right;\n",
       "    }\n",
       "</style>\n",
       "<table border=\"1\" class=\"dataframe\">\n",
       "  <thead>\n",
       "    <tr style=\"text-align: right;\">\n",
       "      <th></th>\n",
       "      <th>title</th>\n",
       "      <th>url</th>\n",
       "      <th>pubdate</th>\n",
       "      <th>content</th>\n",
       "    </tr>\n",
       "  </thead>\n",
       "  <tbody>\n",
       "    <tr>\n",
       "      <th>11691</th>\n",
       "      <td>KB금융 윤종규 \"KB,'일상 속 금융플랫폼'으로 한 단계 더 진화\"</td>\n",
       "      <td>https://n.news.naver.com/mnews/article/421/000...</td>\n",
       "      <td>20230101</td>\n",
       "      <td>[신년인터뷰] \"금융정보는 구글, 네이버 아닌 KB플랫폼서 찾게될 것\"\"통합생보사·...</td>\n",
       "    </tr>\n",
       "    <tr>\n",
       "      <th>11692</th>\n",
       "      <td>이영종은 끌고, 성대규는 민다.… '출범 2년차' 신한라이프, 대변화 예고</td>\n",
       "      <td>https://n.news.naver.com/mnews/article/417/000...</td>\n",
       "      <td>20230101</td>\n",
       "      <td>신한라이프가 내년 영업력 강화에 본격적으로 나선다. 사진은 신한라이프 을지로 사옥....</td>\n",
       "    </tr>\n",
       "    <tr>\n",
       "      <th>11693</th>\n",
       "      <td>신한금융 조용병 \"신한의 목표는 변하지 않아…비은행 비중 50% 만들 것\"</td>\n",
       "      <td>https://n.news.naver.com/mnews/article/421/000...</td>\n",
       "      <td>20230101</td>\n",
       "      <td>[신년인터뷰] \"2030년까지 비은행 비중 50%, 글로벌 비중 30% 목표\"\"주요...</td>\n",
       "    </tr>\n",
       "    <tr>\n",
       "      <th>11694</th>\n",
       "      <td>머스크의 트위터 인수 도운 피델리티, 한달만에 투자액 56% 축소</td>\n",
       "      <td>https://n.news.naver.com/mnews/article/001/001...</td>\n",
       "      <td>20230101</td>\n",
       "      <td>트위터 본사 건물의 회사 로고[로이터 연합뉴스. 재판매 및 DB 금지](로스앤젤레스...</td>\n",
       "    </tr>\n",
       "    <tr>\n",
       "      <th>11695</th>\n",
       "      <td>나이롱환자 막고 중복 실손 해지…올해부터 바뀌는 보험제도 알아두세요</td>\n",
       "      <td>https://n.news.naver.com/mnews/article/629/000...</td>\n",
       "      <td>20230101</td>\n",
       "      <td>중복 가입한 회사 실손보험 중지하면 보험료 환급 가능\\n\\n\\n\\n올해부터 경상환자...</td>\n",
       "    </tr>\n",
       "  </tbody>\n",
       "</table>\n",
       "</div>"
      ],
      "text/plain": [
       "                                           title   \n",
       "11691     KB금융 윤종규 \"KB,'일상 속 금융플랫폼'으로 한 단계 더 진화\"  \\\n",
       "11692  이영종은 끌고, 성대규는 민다.… '출범 2년차' 신한라이프, 대변화 예고   \n",
       "11693  신한금융 조용병 \"신한의 목표는 변하지 않아…비은행 비중 50% 만들 것\"   \n",
       "11694       머스크의 트위터 인수 도운 피델리티, 한달만에 투자액 56% 축소   \n",
       "11695      나이롱환자 막고 중복 실손 해지…올해부터 바뀌는 보험제도 알아두세요   \n",
       "\n",
       "                                                     url   pubdate   \n",
       "11691  https://n.news.naver.com/mnews/article/421/000...  20230101  \\\n",
       "11692  https://n.news.naver.com/mnews/article/417/000...  20230101   \n",
       "11693  https://n.news.naver.com/mnews/article/421/000...  20230101   \n",
       "11694  https://n.news.naver.com/mnews/article/001/001...  20230101   \n",
       "11695  https://n.news.naver.com/mnews/article/629/000...  20230101   \n",
       "\n",
       "                                                 content  \n",
       "11691  [신년인터뷰] \"금융정보는 구글, 네이버 아닌 KB플랫폼서 찾게될 것\"\"통합생보사·...  \n",
       "11692  신한라이프가 내년 영업력 강화에 본격적으로 나선다. 사진은 신한라이프 을지로 사옥....  \n",
       "11693  [신년인터뷰] \"2030년까지 비은행 비중 50%, 글로벌 비중 30% 목표\"\"주요...  \n",
       "11694  트위터 본사 건물의 회사 로고[로이터 연합뉴스. 재판매 및 DB 금지](로스앤젤레스...  \n",
       "11695  중복 가입한 회사 실손보험 중지하면 보험료 환급 가능\\n\\n\\n\\n올해부터 경상환자...  "
      ]
     },
     "execution_count": 15,
     "metadata": {},
     "output_type": "execute_result"
    }
   ],
   "source": [
    "news_df = generate_news_content_df(news_date_li)\n",
    "news_df.tail()"
   ]
  },
  {
   "cell_type": "code",
   "execution_count": 16,
   "id": "e8fa8755",
   "metadata": {},
   "outputs": [],
   "source": [
    "news_df.to_csv(f'경제면_금융섹터_기사({startdate}).csv',encoding='utf-8-sig', index=False)"
   ]
  },
  {
   "cell_type": "markdown",
   "id": "b029bce2",
   "metadata": {},
   "source": [
    "### 2023년 1월"
   ]
  },
  {
   "cell_type": "code",
   "execution_count": 6,
   "id": "5275b770",
   "metadata": {},
   "outputs": [
    {
     "name": "stdout",
     "output_type": "stream",
     "text": [
      "['20230101', '20230102', '20230103', '20230104', '20230105', '20230106', '20230107', '20230108', '20230109', '20230110', '20230111', '20230112', '20230113', '20230114', '20230115', '20230116', '20230117', '20230118', '20230119', '20230120', '20230121', '20230122', '20230123', '20230124', '20230125', '20230126', '20230127', '20230128', '20230129', '20230130', '20230201']\n"
     ]
    }
   ],
   "source": [
    "startdate = '202301'\n",
    "enddate = '202302'\n",
    "date_list = generate_date_list(startdate, enddate)\n",
    "print(date_list)"
   ]
  },
  {
   "cell_type": "code",
   "execution_count": null,
   "id": "1b6094be",
   "metadata": {},
   "outputs": [],
   "source": [
    "news_date_li = generate_news_list(date_list)"
   ]
  },
  {
   "cell_type": "code",
   "execution_count": 8,
   "id": "25a711f5",
   "metadata": {},
   "outputs": [
    {
     "name": "stderr",
     "output_type": "stream",
     "text": [
      "100%|██████████████████████████████████████████████████████████████████████████| 11130/11130 [1:06:28<00:00,  2.79it/s]\n"
     ]
    },
    {
     "data": {
      "text/html": [
       "<div>\n",
       "<style scoped>\n",
       "    .dataframe tbody tr th:only-of-type {\n",
       "        vertical-align: middle;\n",
       "    }\n",
       "\n",
       "    .dataframe tbody tr th {\n",
       "        vertical-align: top;\n",
       "    }\n",
       "\n",
       "    .dataframe thead th {\n",
       "        text-align: right;\n",
       "    }\n",
       "</style>\n",
       "<table border=\"1\" class=\"dataframe\">\n",
       "  <thead>\n",
       "    <tr style=\"text-align: right;\">\n",
       "      <th></th>\n",
       "      <th>title</th>\n",
       "      <th>url</th>\n",
       "      <th>pubdate</th>\n",
       "      <th>content</th>\n",
       "    </tr>\n",
       "  </thead>\n",
       "  <tbody>\n",
       "    <tr>\n",
       "      <th>11125</th>\n",
       "      <td>“거래소 파생시장 8시45분 개장 추진”</td>\n",
       "      <td>https://n.news.naver.com/mnews/article/658/000...</td>\n",
       "      <td>20230201</td>\n",
       "      <td>손병두 이사장 기자간담회- “배당 개선·불법공매도 근절- 증권형 토큰 경쟁력 주도 ...</td>\n",
       "    </tr>\n",
       "    <tr>\n",
       "      <th>11126</th>\n",
       "      <td>尹, 금융회장 ‘셀프연임’ 부정적 “지배구조 개선 관심, 관치 아냐”</td>\n",
       "      <td>https://n.news.naver.com/mnews/article/020/000...</td>\n",
       "      <td>20230201</td>\n",
       "      <td>與일부 “셀프연임, 금융권 모피아 일자리만 만들어”尹, 스튜어드십 거론은 ‘포스코-...</td>\n",
       "    </tr>\n",
       "    <tr>\n",
       "      <th>11127</th>\n",
       "      <td>하나UBS자산운용, K200액티브 ETF 출시</td>\n",
       "      <td>https://n.news.naver.com/mnews/article/022/000...</td>\n",
       "      <td>20230201</td>\n",
       "      <td>하나UBS자산운용은 KOSPI200지수 대비 초과성과를 추구하는 하나UBS KTOP...</td>\n",
       "    </tr>\n",
       "    <tr>\n",
       "      <th>11128</th>\n",
       "      <td>우리카드, ‘카카오뱅크 우리카드’ 출시…카카오톡 선물하기 50% 할인 제공</td>\n",
       "      <td>https://n.news.naver.com/mnews/article/022/000...</td>\n",
       "      <td>20230201</td>\n",
       "      <td>우리카드가 인터넷전문은행 카카오뱅크와 협업해 ‘카카오뱅크 우리카드’를 출시한다.  ...</td>\n",
       "    </tr>\n",
       "    <tr>\n",
       "      <th>11129</th>\n",
       "      <td>어깨 무거운 김문석 SBI저축은행 대표 내정자, 어려운 업황 속 실적 개선 과제</td>\n",
       "      <td>https://n.news.naver.com/mnews/article/629/000...</td>\n",
       "      <td>20230201</td>\n",
       "      <td>7년 만에 각자대표→단독대표 체제 변화\"'안정적 관리'에 집중…리스크 관리 철저히 ...</td>\n",
       "    </tr>\n",
       "  </tbody>\n",
       "</table>\n",
       "</div>"
      ],
      "text/plain": [
       "                                              title   \n",
       "11125                        “거래소 파생시장 8시45분 개장 추진”  \\\n",
       "11126        尹, 금융회장 ‘셀프연임’ 부정적 “지배구조 개선 관심, 관치 아냐”   \n",
       "11127                     하나UBS자산운용, K200액티브 ETF 출시   \n",
       "11128     우리카드, ‘카카오뱅크 우리카드’ 출시…카카오톡 선물하기 50% 할인 제공   \n",
       "11129  어깨 무거운 김문석 SBI저축은행 대표 내정자, 어려운 업황 속 실적 개선 과제   \n",
       "\n",
       "                                                     url   pubdate   \n",
       "11125  https://n.news.naver.com/mnews/article/658/000...  20230201  \\\n",
       "11126  https://n.news.naver.com/mnews/article/020/000...  20230201   \n",
       "11127  https://n.news.naver.com/mnews/article/022/000...  20230201   \n",
       "11128  https://n.news.naver.com/mnews/article/022/000...  20230201   \n",
       "11129  https://n.news.naver.com/mnews/article/629/000...  20230201   \n",
       "\n",
       "                                                 content  \n",
       "11125  손병두 이사장 기자간담회- “배당 개선·불법공매도 근절- 증권형 토큰 경쟁력 주도 ...  \n",
       "11126  與일부 “셀프연임, 금융권 모피아 일자리만 만들어”尹, 스튜어드십 거론은 ‘포스코-...  \n",
       "11127  하나UBS자산운용은 KOSPI200지수 대비 초과성과를 추구하는 하나UBS KTOP...  \n",
       "11128  우리카드가 인터넷전문은행 카카오뱅크와 협업해 ‘카카오뱅크 우리카드’를 출시한다.  ...  \n",
       "11129  7년 만에 각자대표→단독대표 체제 변화\"'안정적 관리'에 집중…리스크 관리 철저히 ...  "
      ]
     },
     "execution_count": 8,
     "metadata": {},
     "output_type": "execute_result"
    }
   ],
   "source": [
    "news_df = generate_news_content_df(news_date_li)\n",
    "news_df.tail()"
   ]
  },
  {
   "cell_type": "code",
   "execution_count": 9,
   "id": "38e8f1b7",
   "metadata": {},
   "outputs": [],
   "source": [
    "news_df.to_csv(f'경제면_금융섹터_기사({startdate}).csv',encoding='utf-8-sig', index=False)"
   ]
  },
  {
   "cell_type": "markdown",
   "id": "1184b500",
   "metadata": {},
   "source": [
    "### 2023년 2월"
   ]
  },
  {
   "cell_type": "code",
   "execution_count": 10,
   "id": "00ceedc3",
   "metadata": {},
   "outputs": [
    {
     "name": "stdout",
     "output_type": "stream",
     "text": [
      "['20230201', '20230202', '20230203', '20230204', '20230205', '20230206', '20230207', '20230208', '20230209', '20230210', '20230211', '20230212', '20230213', '20230214', '20230215', '20230216', '20230217', '20230218', '20230219', '20230220', '20230221', '20230222', '20230223', '20230224', '20230225', '20230226', '20230227', '20230301']\n"
     ]
    }
   ],
   "source": [
    "startdate = '202302'\n",
    "enddate = '202303'\n",
    "date_list = generate_date_list(startdate, enddate)\n",
    "print(date_list)"
   ]
  },
  {
   "cell_type": "code",
   "execution_count": null,
   "id": "ce159fc4",
   "metadata": {},
   "outputs": [],
   "source": [
    "news_date_li = generate_news_list(date_list)"
   ]
  },
  {
   "cell_type": "code",
   "execution_count": 12,
   "id": "4f0644f9",
   "metadata": {},
   "outputs": [
    {
     "name": "stderr",
     "output_type": "stream",
     "text": [
      "100%|████████████████████████████████████████████████████████████████████████████| 10414/10414 [56:29<00:00,  3.07it/s]\n"
     ]
    },
    {
     "data": {
      "text/html": [
       "<div>\n",
       "<style scoped>\n",
       "    .dataframe tbody tr th:only-of-type {\n",
       "        vertical-align: middle;\n",
       "    }\n",
       "\n",
       "    .dataframe tbody tr th {\n",
       "        vertical-align: top;\n",
       "    }\n",
       "\n",
       "    .dataframe thead th {\n",
       "        text-align: right;\n",
       "    }\n",
       "</style>\n",
       "<table border=\"1\" class=\"dataframe\">\n",
       "  <thead>\n",
       "    <tr style=\"text-align: right;\">\n",
       "      <th></th>\n",
       "      <th>title</th>\n",
       "      <th>url</th>\n",
       "      <th>pubdate</th>\n",
       "      <th>content</th>\n",
       "    </tr>\n",
       "  </thead>\n",
       "  <tbody>\n",
       "    <tr>\n",
       "      <th>10409</th>\n",
       "      <td>신협중앙회 검사·감독이사 이희준</td>\n",
       "      <td>https://n.news.naver.com/mnews/article/005/000...</td>\n",
       "      <td>20230301</td>\n",
       "      <td>신협중앙회는 신임 검사·감독이사로 이희준(사진) 전 금융감독원 부원장보를 선임했다고...</td>\n",
       "    </tr>\n",
       "    <tr>\n",
       "      <th>10410</th>\n",
       "      <td>예결원 사장에 ‘낙하산’ 이순호 선임 가결</td>\n",
       "      <td>https://n.news.naver.com/mnews/article/658/000...</td>\n",
       "      <td>20230301</td>\n",
       "      <td>노조, 출근 저지 투쟁 등 예고\\n\\n\\n\\n한국예탁결제원(예결원)은 28일 주주총...</td>\n",
       "    </tr>\n",
       "    <tr>\n",
       "      <th>10411</th>\n",
       "      <td>BNK금융 사외이사 절반 물갈이…빈대인호 맞춤형 재편</td>\n",
       "      <td>https://n.news.naver.com/mnews/article/658/000...</td>\n",
       "      <td>20230301</td>\n",
       "      <td>이광주·정영석·김병덕 3명 내정- 이사 6명 중 2명, 빈 내정자 인연- 금융권, ...</td>\n",
       "    </tr>\n",
       "    <tr>\n",
       "      <th>10412</th>\n",
       "      <td>HUG 사장 최종 후보자 돌연 사퇴 ‘미스터리’</td>\n",
       "      <td>https://n.news.naver.com/mnews/article/658/000...</td>\n",
       "      <td>20230301</td>\n",
       "      <td>박동영 전 대우증권 부사장, 내정설·낙하산 등 논란에도 끝끝내 버텨 주총까지 통과-...</td>\n",
       "    </tr>\n",
       "    <tr>\n",
       "      <th>10413</th>\n",
       "      <td>'애플페이 임박'에 현대카드로 몰려간 MZ세대, 정태영 전략 통할까</td>\n",
       "      <td>https://n.news.naver.com/mnews/article/629/000...</td>\n",
       "      <td>20230301</td>\n",
       "      <td>업계, 국내 NFC 단말기 보급률 10% 미만MZ세대, 체크카드 회원 수 비해 취급...</td>\n",
       "    </tr>\n",
       "  </tbody>\n",
       "</table>\n",
       "</div>"
      ],
      "text/plain": [
       "                                       title   \n",
       "10409                      신협중앙회 검사·감독이사 이희준  \\\n",
       "10410                예결원 사장에 ‘낙하산’ 이순호 선임 가결   \n",
       "10411          BNK금융 사외이사 절반 물갈이…빈대인호 맞춤형 재편   \n",
       "10412             HUG 사장 최종 후보자 돌연 사퇴 ‘미스터리’   \n",
       "10413  '애플페이 임박'에 현대카드로 몰려간 MZ세대, 정태영 전략 통할까   \n",
       "\n",
       "                                                     url   pubdate   \n",
       "10409  https://n.news.naver.com/mnews/article/005/000...  20230301  \\\n",
       "10410  https://n.news.naver.com/mnews/article/658/000...  20230301   \n",
       "10411  https://n.news.naver.com/mnews/article/658/000...  20230301   \n",
       "10412  https://n.news.naver.com/mnews/article/658/000...  20230301   \n",
       "10413  https://n.news.naver.com/mnews/article/629/000...  20230301   \n",
       "\n",
       "                                                 content  \n",
       "10409  신협중앙회는 신임 검사·감독이사로 이희준(사진) 전 금융감독원 부원장보를 선임했다고...  \n",
       "10410  노조, 출근 저지 투쟁 등 예고\\n\\n\\n\\n한국예탁결제원(예결원)은 28일 주주총...  \n",
       "10411  이광주·정영석·김병덕 3명 내정- 이사 6명 중 2명, 빈 내정자 인연- 금융권, ...  \n",
       "10412  박동영 전 대우증권 부사장, 내정설·낙하산 등 논란에도 끝끝내 버텨 주총까지 통과-...  \n",
       "10413  업계, 국내 NFC 단말기 보급률 10% 미만MZ세대, 체크카드 회원 수 비해 취급...  "
      ]
     },
     "execution_count": 12,
     "metadata": {},
     "output_type": "execute_result"
    }
   ],
   "source": [
    "news_df = generate_news_content_df(news_date_li)\n",
    "news_df.tail()"
   ]
  },
  {
   "cell_type": "code",
   "execution_count": 13,
   "id": "ed5f1739",
   "metadata": {},
   "outputs": [],
   "source": [
    "news_df.to_csv(f'경제면_금융섹터_기사({startdate}).csv',encoding='utf-8-sig', index=False)"
   ]
  },
  {
   "cell_type": "markdown",
   "id": "093d3deb",
   "metadata": {},
   "source": [
    "### 2023년 3월"
   ]
  },
  {
   "cell_type": "code",
   "execution_count": 14,
   "id": "bf3b21b5",
   "metadata": {},
   "outputs": [
    {
     "name": "stdout",
     "output_type": "stream",
     "text": [
      "['20230301', '20230302', '20230303', '20230304', '20230305', '20230306', '20230307', '20230308', '20230309', '20230310', '20230311', '20230312', '20230313', '20230314', '20230315', '20230316', '20230317', '20230318', '20230319', '20230320', '20230321', '20230322', '20230323', '20230324', '20230325', '20230326', '20230327', '20230328', '20230329', '20230330', '20230401']\n"
     ]
    }
   ],
   "source": [
    "startdate = '202303'\n",
    "enddate = '202304'\n",
    "date_list = generate_date_list(startdate, enddate)\n",
    "print(date_list)"
   ]
  },
  {
   "cell_type": "code",
   "execution_count": null,
   "id": "33814d96",
   "metadata": {},
   "outputs": [],
   "source": [
    "news_date_li = generate_news_list(date_list)"
   ]
  },
  {
   "cell_type": "code",
   "execution_count": 16,
   "id": "7e0ee898",
   "metadata": {},
   "outputs": [
    {
     "name": "stderr",
     "output_type": "stream",
     "text": [
      "100%|████████████████████████████████████████████████████████████████████████████| 12130/12130 [55:48<00:00,  3.62it/s]\n"
     ]
    },
    {
     "data": {
      "text/html": [
       "<div>\n",
       "<style scoped>\n",
       "    .dataframe tbody tr th:only-of-type {\n",
       "        vertical-align: middle;\n",
       "    }\n",
       "\n",
       "    .dataframe tbody tr th {\n",
       "        vertical-align: top;\n",
       "    }\n",
       "\n",
       "    .dataframe thead th {\n",
       "        text-align: right;\n",
       "    }\n",
       "</style>\n",
       "<table border=\"1\" class=\"dataframe\">\n",
       "  <thead>\n",
       "    <tr style=\"text-align: right;\">\n",
       "      <th></th>\n",
       "      <th>title</th>\n",
       "      <th>url</th>\n",
       "      <th>pubdate</th>\n",
       "      <th>content</th>\n",
       "    </tr>\n",
       "  </thead>\n",
       "  <tbody>\n",
       "    <tr>\n",
       "      <th>12125</th>\n",
       "      <td>[봄바람 부는 장외주식①]'선학개미' 아시나요</td>\n",
       "      <td>https://n.news.naver.com/mnews/article/003/001...</td>\n",
       "      <td>20230401</td>\n",
       "      <td>기사내용 요약장외주식 거래 활발…저가매수 기간 투자자 유입 \\n\\n\\n\\n[서울=뉴...</td>\n",
       "    </tr>\n",
       "    <tr>\n",
       "      <th>12126</th>\n",
       "      <td>'320만' 페이코인 투자자 어쩌나… 상폐 소식에 가격 50% 폭락</td>\n",
       "      <td>https://n.news.naver.com/mnews/article/417/000...</td>\n",
       "      <td>20230401</td>\n",
       "      <td>경기도 성남시 분당구 달콤커피 분당서현점을 찾은 한 고객이 페이코인 앱을 이용해 주...</td>\n",
       "    </tr>\n",
       "    <tr>\n",
       "      <th>12127</th>\n",
       "      <td>5% 이상 은행 예금 사라졌다</td>\n",
       "      <td>https://n.news.naver.com/mnews/article/003/001...</td>\n",
       "      <td>20230401</td>\n",
       "      <td>기사내용 요약5% 이상 예금 비중 29.7%→ 0.7%로 급감\\n\\n\\n\\n[서울=...</td>\n",
       "    </tr>\n",
       "    <tr>\n",
       "      <th>12128</th>\n",
       "      <td>DGB대구은행, 4월 4일부터 신용대출 금리 0.5%p 감면</td>\n",
       "      <td>https://n.news.naver.com/mnews/article/022/000...</td>\n",
       "      <td>20230401</td>\n",
       "      <td>DGB대구은행은 4월 4일부터 가계신용대출 금리를 인하한다고 31일 밝혔다.    ...</td>\n",
       "    </tr>\n",
       "    <tr>\n",
       "      <th>12129</th>\n",
       "      <td>대부업 철수 속도 내는 OK금융…최윤 회장 꿈 '종합금융그룹' 올라서나</td>\n",
       "      <td>https://n.news.naver.com/mnews/article/629/000...</td>\n",
       "      <td>20230401</td>\n",
       "      <td>3월 예스자산대부 라이선스 반납연내 대부업 조기 철수 목표증권사 인수합병 적극 추진...</td>\n",
       "    </tr>\n",
       "  </tbody>\n",
       "</table>\n",
       "</div>"
      ],
      "text/plain": [
       "                                         title   \n",
       "12125                [봄바람 부는 장외주식①]'선학개미' 아시나요  \\\n",
       "12126    '320만' 페이코인 투자자 어쩌나… 상폐 소식에 가격 50% 폭락   \n",
       "12127                         5% 이상 은행 예금 사라졌다   \n",
       "12128        DGB대구은행, 4월 4일부터 신용대출 금리 0.5%p 감면   \n",
       "12129  대부업 철수 속도 내는 OK금융…최윤 회장 꿈 '종합금융그룹' 올라서나   \n",
       "\n",
       "                                                     url   pubdate   \n",
       "12125  https://n.news.naver.com/mnews/article/003/001...  20230401  \\\n",
       "12126  https://n.news.naver.com/mnews/article/417/000...  20230401   \n",
       "12127  https://n.news.naver.com/mnews/article/003/001...  20230401   \n",
       "12128  https://n.news.naver.com/mnews/article/022/000...  20230401   \n",
       "12129  https://n.news.naver.com/mnews/article/629/000...  20230401   \n",
       "\n",
       "                                                 content  \n",
       "12125  기사내용 요약장외주식 거래 활발…저가매수 기간 투자자 유입 \\n\\n\\n\\n[서울=뉴...  \n",
       "12126  경기도 성남시 분당구 달콤커피 분당서현점을 찾은 한 고객이 페이코인 앱을 이용해 주...  \n",
       "12127  기사내용 요약5% 이상 예금 비중 29.7%→ 0.7%로 급감\\n\\n\\n\\n[서울=...  \n",
       "12128  DGB대구은행은 4월 4일부터 가계신용대출 금리를 인하한다고 31일 밝혔다.    ...  \n",
       "12129  3월 예스자산대부 라이선스 반납연내 대부업 조기 철수 목표증권사 인수합병 적극 추진...  "
      ]
     },
     "execution_count": 16,
     "metadata": {},
     "output_type": "execute_result"
    }
   ],
   "source": [
    "news_df = generate_news_content_df(news_date_li)\n",
    "news_df.tail()"
   ]
  },
  {
   "cell_type": "code",
   "execution_count": 17,
   "id": "5fb4185f",
   "metadata": {},
   "outputs": [],
   "source": [
    "news_df.to_csv(f'경제면_금융섹터_기사({startdate}).csv',encoding='utf-8-sig', index=False)"
   ]
  },
  {
   "cell_type": "markdown",
   "id": "10dce550",
   "metadata": {},
   "source": [
    "### 2023년 4월"
   ]
  },
  {
   "cell_type": "code",
   "execution_count": 18,
   "id": "a1b42e45",
   "metadata": {},
   "outputs": [
    {
     "name": "stdout",
     "output_type": "stream",
     "text": [
      "['20230401', '20230402', '20230403', '20230404', '20230405', '20230406', '20230407', '20230408', '20230409', '20230410', '20230411', '20230412', '20230413', '20230414', '20230415', '20230416', '20230417', '20230418', '20230419', '20230420', '20230421', '20230422', '20230423', '20230424', '20230425', '20230426', '20230427', '20230428', '20230429', '20230501']\n"
     ]
    }
   ],
   "source": [
    "startdate = '202304'\n",
    "enddate = '202305'\n",
    "date_list = generate_date_list(startdate, enddate)\n",
    "print(date_list)"
   ]
  },
  {
   "cell_type": "code",
   "execution_count": null,
   "id": "1b0c7994",
   "metadata": {},
   "outputs": [],
   "source": [
    "news_date_li = generate_news_list(date_list)"
   ]
  },
  {
   "cell_type": "code",
   "execution_count": 20,
   "id": "a5dbb51b",
   "metadata": {},
   "outputs": [
    {
     "name": "stderr",
     "output_type": "stream",
     "text": [
      "100%|██████████████████████████████████████████████████████████████████████████| 11878/11878 [1:04:17<00:00,  3.08it/s]\n"
     ]
    },
    {
     "data": {
      "text/html": [
       "<div>\n",
       "<style scoped>\n",
       "    .dataframe tbody tr th:only-of-type {\n",
       "        vertical-align: middle;\n",
       "    }\n",
       "\n",
       "    .dataframe tbody tr th {\n",
       "        vertical-align: top;\n",
       "    }\n",
       "\n",
       "    .dataframe thead th {\n",
       "        text-align: right;\n",
       "    }\n",
       "</style>\n",
       "<table border=\"1\" class=\"dataframe\">\n",
       "  <thead>\n",
       "    <tr style=\"text-align: right;\">\n",
       "      <th></th>\n",
       "      <th>title</th>\n",
       "      <th>url</th>\n",
       "      <th>pubdate</th>\n",
       "      <th>content</th>\n",
       "    </tr>\n",
       "  </thead>\n",
       "  <tbody>\n",
       "    <tr>\n",
       "      <th>11873</th>\n",
       "      <td>‘가상자산’ 법제화 첫 발…투자자 안전망 강화한다</td>\n",
       "      <td>https://n.news.naver.com/mnews/article/658/000...</td>\n",
       "      <td>20230501</td>\n",
       "      <td>규제 등 포함 법안 국회소위 통과, 손해배상 책임 근거 마련 의미정의에서부터 불공정...</td>\n",
       "    </tr>\n",
       "    <tr>\n",
       "      <th>11874</th>\n",
       "      <td>‘퍼스트리퍼블릭’ 파산수순… 美 은행 올들어 4번째</td>\n",
       "      <td>https://n.news.naver.com/mnews/article/020/000...</td>\n",
       "      <td>20230501</td>\n",
       "      <td>美 14위… 은행위기 재확산 우려\\n\\n\\n\\n지난달 26일(현지 시간) 미국 샌프...</td>\n",
       "    </tr>\n",
       "    <tr>\n",
       "      <th>11875</th>\n",
       "      <td>소액으로 부동산·명품 등 ‘조각 투자’… MZ세대 몰린다 [마이머니]</td>\n",
       "      <td>https://n.news.naver.com/mnews/article/022/000...</td>\n",
       "      <td>20230501</td>\n",
       "      <td>새로운 투자처로 각광… 분야도 다양화저작권 투자 뮤직카우, 투자자 절반 2030최근...</td>\n",
       "    </tr>\n",
       "    <tr>\n",
       "      <th>11876</th>\n",
       "      <td>경기창경센터, 경기중기청과 '스타트업 815 IR' 확대 개최</td>\n",
       "      <td>https://n.news.naver.com/mnews/article/030/000...</td>\n",
       "      <td>20230501</td>\n",
       "      <td>지난달 27일 경기창조경제혁신센터가 성남시 판교 창업존에서 기업설명회(IR) 프로그...</td>\n",
       "    </tr>\n",
       "    <tr>\n",
       "      <th>11877</th>\n",
       "      <td>[스포츠 꽃피운 금융⑤] 농협 정신 깃든 후원…'라켓 명가' 키웠다</td>\n",
       "      <td>https://n.news.naver.com/mnews/article/629/000...</td>\n",
       "      <td>20230501</td>\n",
       "      <td>후원 선수들 우수한 성적으로 농협금융 브랜드 가치 높여\\n\\n\\n\\nNH농협금융은 ...</td>\n",
       "    </tr>\n",
       "  </tbody>\n",
       "</table>\n",
       "</div>"
      ],
      "text/plain": [
       "                                        title   \n",
       "11873             ‘가상자산’ 법제화 첫 발…투자자 안전망 강화한다  \\\n",
       "11874            ‘퍼스트리퍼블릭’ 파산수순… 美 은행 올들어 4번째   \n",
       "11875  소액으로 부동산·명품 등 ‘조각 투자’… MZ세대 몰린다 [마이머니]   \n",
       "11876      경기창경센터, 경기중기청과 '스타트업 815 IR' 확대 개최   \n",
       "11877   [스포츠 꽃피운 금융⑤] 농협 정신 깃든 후원…'라켓 명가' 키웠다   \n",
       "\n",
       "                                                     url   pubdate   \n",
       "11873  https://n.news.naver.com/mnews/article/658/000...  20230501  \\\n",
       "11874  https://n.news.naver.com/mnews/article/020/000...  20230501   \n",
       "11875  https://n.news.naver.com/mnews/article/022/000...  20230501   \n",
       "11876  https://n.news.naver.com/mnews/article/030/000...  20230501   \n",
       "11877  https://n.news.naver.com/mnews/article/629/000...  20230501   \n",
       "\n",
       "                                                 content  \n",
       "11873  규제 등 포함 법안 국회소위 통과, 손해배상 책임 근거 마련 의미정의에서부터 불공정...  \n",
       "11874  美 14위… 은행위기 재확산 우려\\n\\n\\n\\n지난달 26일(현지 시간) 미국 샌프...  \n",
       "11875  새로운 투자처로 각광… 분야도 다양화저작권 투자 뮤직카우, 투자자 절반 2030최근...  \n",
       "11876  지난달 27일 경기창조경제혁신센터가 성남시 판교 창업존에서 기업설명회(IR) 프로그...  \n",
       "11877  후원 선수들 우수한 성적으로 농협금융 브랜드 가치 높여\\n\\n\\n\\nNH농협금융은 ...  "
      ]
     },
     "execution_count": 20,
     "metadata": {},
     "output_type": "execute_result"
    }
   ],
   "source": [
    "news_df = generate_news_content_df(news_date_li)\n",
    "news_df.tail()"
   ]
  },
  {
   "cell_type": "code",
   "execution_count": 21,
   "id": "afc8327e",
   "metadata": {},
   "outputs": [],
   "source": [
    "news_df.to_csv(f'경제면_금융섹터_기사({startdate}).csv',encoding='utf-8-sig', index=False)"
   ]
  },
  {
   "cell_type": "markdown",
   "id": "2eee2f79",
   "metadata": {},
   "source": [
    "### 2023년 5월"
   ]
  },
  {
   "cell_type": "code",
   "execution_count": 11,
   "id": "116a868c",
   "metadata": {},
   "outputs": [
    {
     "name": "stdout",
     "output_type": "stream",
     "text": [
      "['20230501', '20230502', '20230503', '20230504', '20230505', '20230506', '20230507', '20230508', '20230509', '20230510', '20230511', '20230512', '20230513', '20230514', '20230515', '20230516', '20230517', '20230518', '20230519', '20230520', '20230521', '20230522', '20230523', '20230524', '20230525', '20230526', '20230527', '20230528', '20230529', '20230530', '20230601']\n"
     ]
    }
   ],
   "source": [
    "startdate = '202305'\n",
    "enddate = '202306'\n",
    "date_list = generate_date_list(startdate, enddate)\n",
    "print(date_list)"
   ]
  },
  {
   "cell_type": "code",
   "execution_count": null,
   "id": "234335ed",
   "metadata": {},
   "outputs": [],
   "source": [
    "news_date_li = generate_news_list(date_list)"
   ]
  },
  {
   "cell_type": "code",
   "execution_count": 13,
   "id": "e1294226",
   "metadata": {},
   "outputs": [
    {
     "name": "stderr",
     "output_type": "stream",
     "text": [
      "100%|████████████████████████████████████████████████████████████████████████████| 11292/11292 [55:28<00:00,  3.39it/s]\n"
     ]
    },
    {
     "data": {
      "text/html": [
       "<div>\n",
       "<style scoped>\n",
       "    .dataframe tbody tr th:only-of-type {\n",
       "        vertical-align: middle;\n",
       "    }\n",
       "\n",
       "    .dataframe tbody tr th {\n",
       "        vertical-align: top;\n",
       "    }\n",
       "\n",
       "    .dataframe thead th {\n",
       "        text-align: right;\n",
       "    }\n",
       "</style>\n",
       "<table border=\"1\" class=\"dataframe\">\n",
       "  <thead>\n",
       "    <tr style=\"text-align: right;\">\n",
       "      <th></th>\n",
       "      <th>title</th>\n",
       "      <th>url</th>\n",
       "      <th>pubdate</th>\n",
       "      <th>content</th>\n",
       "    </tr>\n",
       "  </thead>\n",
       "  <tbody>\n",
       "    <tr>\n",
       "      <th>11287</th>\n",
       "      <td>“美 SVB ‘초고속 파산’… 한국도 은행건전성 감독 강화해야”</td>\n",
       "      <td>https://n.news.naver.com/mnews/article/020/000...</td>\n",
       "      <td>20230601</td>\n",
       "      <td>[2023동아국제금융포럼]노벨경제학상 다이아몬드 기조강연\\n\\n\\n\\n31일 서울 ...</td>\n",
       "    </tr>\n",
       "    <tr>\n",
       "      <th>11288</th>\n",
       "      <td>챗GPT에 밀린 비트코인…올해 들어 월 기준 첫 하락</td>\n",
       "      <td>https://n.news.naver.com/mnews/article/001/001...</td>\n",
       "      <td>20230601</td>\n",
       "      <td>지난달 말보다 8% 하락…\"AI가 투자자 관심 더 끌어\"\\n\\n\\n\\n비트코인[로이...</td>\n",
       "    </tr>\n",
       "    <tr>\n",
       "      <th>11289</th>\n",
       "      <td>'위믹스 사기' 코인거래소 3곳 압색…업비트·빗썸·코인원 대상</td>\n",
       "      <td>https://n.news.naver.com/mnews/article/421/000...</td>\n",
       "      <td>20230601</td>\n",
       "      <td>지난해 12월8일 오전 서울 서초구 빗썸 고객지원센터에 위믹스 시세가 표시되고 있다...</td>\n",
       "    </tr>\n",
       "    <tr>\n",
       "      <th>11290</th>\n",
       "      <td>\"보험사, 당국 IFRS17 가이드라인으로 이익 눈높이 ↓\"</td>\n",
       "      <td>https://n.news.naver.com/mnews/article/018/000...</td>\n",
       "      <td>20230601</td>\n",
       "      <td>하나증권 \"적용 결과, 2~3분기 결산 이후에 나타날 것\"[이데일리 노희준 기자] ...</td>\n",
       "    </tr>\n",
       "    <tr>\n",
       "      <th>11291</th>\n",
       "      <td>이석준號 농협금융, 역대급 순익 올렸지만 웃지 못하는 이유</td>\n",
       "      <td>https://n.news.naver.com/mnews/article/629/000...</td>\n",
       "      <td>20230601</td>\n",
       "      <td>건전성 관리 '경고등'…고정이하여신비율 0.39%, 전년 동기比 0.09%포인트↑\\...</td>\n",
       "    </tr>\n",
       "  </tbody>\n",
       "</table>\n",
       "</div>"
      ],
      "text/plain": [
       "                                     title  \\\n",
       "11287  “美 SVB ‘초고속 파산’… 한국도 은행건전성 감독 강화해야”   \n",
       "11288        챗GPT에 밀린 비트코인…올해 들어 월 기준 첫 하락   \n",
       "11289   '위믹스 사기' 코인거래소 3곳 압색…업비트·빗썸·코인원 대상   \n",
       "11290    \"보험사, 당국 IFRS17 가이드라인으로 이익 눈높이 ↓\"   \n",
       "11291     이석준號 농협금융, 역대급 순익 올렸지만 웃지 못하는 이유   \n",
       "\n",
       "                                                     url   pubdate  \\\n",
       "11287  https://n.news.naver.com/mnews/article/020/000...  20230601   \n",
       "11288  https://n.news.naver.com/mnews/article/001/001...  20230601   \n",
       "11289  https://n.news.naver.com/mnews/article/421/000...  20230601   \n",
       "11290  https://n.news.naver.com/mnews/article/018/000...  20230601   \n",
       "11291  https://n.news.naver.com/mnews/article/629/000...  20230601   \n",
       "\n",
       "                                                 content  \n",
       "11287  [2023동아국제금융포럼]노벨경제학상 다이아몬드 기조강연\\n\\n\\n\\n31일 서울 ...  \n",
       "11288  지난달 말보다 8% 하락…\"AI가 투자자 관심 더 끌어\"\\n\\n\\n\\n비트코인[로이...  \n",
       "11289  지난해 12월8일 오전 서울 서초구 빗썸 고객지원센터에 위믹스 시세가 표시되고 있다...  \n",
       "11290  하나증권 \"적용 결과, 2~3분기 결산 이후에 나타날 것\"[이데일리 노희준 기자] ...  \n",
       "11291  건전성 관리 '경고등'…고정이하여신비율 0.39%, 전년 동기比 0.09%포인트↑\\...  "
      ]
     },
     "execution_count": 13,
     "metadata": {},
     "output_type": "execute_result"
    }
   ],
   "source": [
    "news_df = generate_news_content_df(news_date_li)\n",
    "news_df.tail()"
   ]
  },
  {
   "cell_type": "code",
   "execution_count": 14,
   "id": "869e0262",
   "metadata": {},
   "outputs": [],
   "source": [
    "news_df.to_csv(f'경제면_금융섹터_기사({startdate}).csv',encoding='utf-8-sig', index=False)"
   ]
  },
  {
   "cell_type": "markdown",
   "id": "f4fc6503",
   "metadata": {},
   "source": [
    "### 2023년 6월"
   ]
  },
  {
   "cell_type": "code",
   "execution_count": 15,
   "id": "4575f397",
   "metadata": {},
   "outputs": [
    {
     "name": "stdout",
     "output_type": "stream",
     "text": [
      "['20230601', '20230602', '20230603', '20230604', '20230605', '20230606', '20230607', '20230608', '20230609', '20230610', '20230611', '20230612', '20230613', '20230614', '20230615', '20230616', '20230617', '20230618', '20230619', '20230620', '20230621', '20230622', '20230623', '20230624', '20230625', '20230626', '20230627', '20230628', '20230629', '20230701']\n"
     ]
    }
   ],
   "source": [
    "startdate = '202306'\n",
    "enddate = '202307'\n",
    "date_list = generate_date_list(startdate, enddate)\n",
    "print(date_list)"
   ]
  },
  {
   "cell_type": "code",
   "execution_count": null,
   "id": "3d273b34",
   "metadata": {},
   "outputs": [],
   "source": [
    "news_date_li = generate_news_list(date_list)"
   ]
  },
  {
   "cell_type": "code",
   "execution_count": 17,
   "id": "33b1a909",
   "metadata": {},
   "outputs": [
    {
     "name": "stderr",
     "output_type": "stream",
     "text": [
      "100%|████████████████████████████████████████████████████████████████████████████| 10319/10319 [51:34<00:00,  3.34it/s]\n"
     ]
    },
    {
     "data": {
      "text/html": [
       "<div>\n",
       "<style scoped>\n",
       "    .dataframe tbody tr th:only-of-type {\n",
       "        vertical-align: middle;\n",
       "    }\n",
       "\n",
       "    .dataframe tbody tr th {\n",
       "        vertical-align: top;\n",
       "    }\n",
       "\n",
       "    .dataframe thead th {\n",
       "        text-align: right;\n",
       "    }\n",
       "</style>\n",
       "<table border=\"1\" class=\"dataframe\">\n",
       "  <thead>\n",
       "    <tr style=\"text-align: right;\">\n",
       "      <th></th>\n",
       "      <th>title</th>\n",
       "      <th>url</th>\n",
       "      <th>pubdate</th>\n",
       "      <th>content</th>\n",
       "    </tr>\n",
       "  </thead>\n",
       "  <tbody>\n",
       "    <tr>\n",
       "      <th>10314</th>\n",
       "      <td>금융위, 내주 MG손보 ‘부실금융기관 지정’ 법정 공방 마무리…재매각 추진 분수령</td>\n",
       "      <td>https://n.news.naver.com/mnews/article/366/000...</td>\n",
       "      <td>20230701</td>\n",
       "      <td>서울행정법원, 오는 6일 부실금융기관 지정 소송 판결예금보험공사, 승소 시 7월 내...</td>\n",
       "    </tr>\n",
       "    <tr>\n",
       "      <th>10315</th>\n",
       "      <td>불법사금융으로 내몰리는 취약차주..연동형 법정 최고금리제도가 대안?</td>\n",
       "      <td>https://n.news.naver.com/mnews/article/014/000...</td>\n",
       "      <td>20230701</td>\n",
       "      <td>지난해 12월 말 기준 대부업체 이용자 수, 98만9000명...지난해 6월 말 대...</td>\n",
       "    </tr>\n",
       "    <tr>\n",
       "      <th>10316</th>\n",
       "      <td>美SEC, 비트코인 ETF 상장 신청 불허…\"명확성·포괄성 부족\"</td>\n",
       "      <td>https://n.news.naver.com/mnews/article/421/000...</td>\n",
       "      <td>20230701</td>\n",
       "      <td>최근 자산운용사들 ETF 상장 신청 이어지는 데 대해 \"부적절\"\\n\\n\\n\\n비트코...</td>\n",
       "    </tr>\n",
       "    <tr>\n",
       "      <th>10317</th>\n",
       "      <td>SEC, 비트코인 ETF 상장 불허…\"신청서 명확성·설명 부족\"</td>\n",
       "      <td>https://n.news.naver.com/mnews/article/001/001...</td>\n",
       "      <td>20230701</td>\n",
       "      <td>비트코인 하락세…SEC 불허 사실 공개 후 한 때 3만 달러 하회\\n\\n\\n\\n비트...</td>\n",
       "    </tr>\n",
       "    <tr>\n",
       "      <th>10318</th>\n",
       "      <td>엔화투자 어때…\"엔화약세 구조적이나 원엔환율 추가하락 글쎄\"</td>\n",
       "      <td>https://n.news.naver.com/mnews/article/018/000...</td>\n",
       "      <td>20230701</td>\n",
       "      <td>기업은행 경제연구소 엔저 현상 분석日 국가부채 많아 긴축시 비용 증가원화 약세도 동...</td>\n",
       "    </tr>\n",
       "  </tbody>\n",
       "</table>\n",
       "</div>"
      ],
      "text/plain": [
       "                                               title  \\\n",
       "10314  금융위, 내주 MG손보 ‘부실금융기관 지정’ 법정 공방 마무리…재매각 추진 분수령   \n",
       "10315          불법사금융으로 내몰리는 취약차주..연동형 법정 최고금리제도가 대안?   \n",
       "10316           美SEC, 비트코인 ETF 상장 신청 불허…\"명확성·포괄성 부족\"   \n",
       "10317            SEC, 비트코인 ETF 상장 불허…\"신청서 명확성·설명 부족\"   \n",
       "10318              엔화투자 어때…\"엔화약세 구조적이나 원엔환율 추가하락 글쎄\"   \n",
       "\n",
       "                                                     url   pubdate  \\\n",
       "10314  https://n.news.naver.com/mnews/article/366/000...  20230701   \n",
       "10315  https://n.news.naver.com/mnews/article/014/000...  20230701   \n",
       "10316  https://n.news.naver.com/mnews/article/421/000...  20230701   \n",
       "10317  https://n.news.naver.com/mnews/article/001/001...  20230701   \n",
       "10318  https://n.news.naver.com/mnews/article/018/000...  20230701   \n",
       "\n",
       "                                                 content  \n",
       "10314  서울행정법원, 오는 6일 부실금융기관 지정 소송 판결예금보험공사, 승소 시 7월 내...  \n",
       "10315  지난해 12월 말 기준 대부업체 이용자 수, 98만9000명...지난해 6월 말 대...  \n",
       "10316  최근 자산운용사들 ETF 상장 신청 이어지는 데 대해 \"부적절\"\\n\\n\\n\\n비트코...  \n",
       "10317  비트코인 하락세…SEC 불허 사실 공개 후 한 때 3만 달러 하회\\n\\n\\n\\n비트...  \n",
       "10318  기업은행 경제연구소 엔저 현상 분석日 국가부채 많아 긴축시 비용 증가원화 약세도 동...  "
      ]
     },
     "execution_count": 17,
     "metadata": {},
     "output_type": "execute_result"
    }
   ],
   "source": [
    "news_df = generate_news_content_df(news_date_li)\n",
    "news_df.tail()"
   ]
  },
  {
   "cell_type": "code",
   "execution_count": 18,
   "id": "bc1cd28c",
   "metadata": {},
   "outputs": [],
   "source": [
    "news_df.to_csv(f'경제면_금융섹터_기사({startdate}).csv',encoding='utf-8-sig', index=False)"
   ]
  }
 ],
 "metadata": {
  "kernelspec": {
   "display_name": "Python 3 (ipykernel)",
   "language": "python",
   "name": "python3"
  },
  "language_info": {
   "codemirror_mode": {
    "name": "ipython",
    "version": 3
   },
   "file_extension": ".py",
   "mimetype": "text/x-python",
   "name": "python",
   "nbconvert_exporter": "python",
   "pygments_lexer": "ipython3",
   "version": "3.9.12"
  },
  "varInspector": {
   "cols": {
    "lenName": 16,
    "lenType": 16,
    "lenVar": 40
   },
   "kernels_config": {
    "python": {
     "delete_cmd_postfix": "",
     "delete_cmd_prefix": "del ",
     "library": "var_list.py",
     "varRefreshCmd": "print(var_dic_list())"
    },
    "r": {
     "delete_cmd_postfix": ") ",
     "delete_cmd_prefix": "rm(",
     "library": "var_list.r",
     "varRefreshCmd": "cat(var_dic_list()) "
    }
   },
   "types_to_exclude": [
    "module",
    "function",
    "builtin_function_or_method",
    "instance",
    "_Feature"
   ],
   "window_display": false
  }
 },
 "nbformat": 4,
 "nbformat_minor": 5
}
