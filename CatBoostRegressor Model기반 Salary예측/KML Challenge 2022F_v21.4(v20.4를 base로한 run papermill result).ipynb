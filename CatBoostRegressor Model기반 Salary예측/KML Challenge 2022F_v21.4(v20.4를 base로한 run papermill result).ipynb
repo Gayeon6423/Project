{
 "cells": [
  {
   "cell_type": "code",
   "execution_count": 1,
   "id": "2154d457",
   "metadata": {
    "ExecuteTime": {
     "end_time": "2022-11-25T07:38:55.866634Z",
     "start_time": "2022-11-25T07:38:55.841687Z"
    },
    "executionInfo": {
     "elapsed": 328,
     "status": "ok",
     "timestamp": 1668437984233,
     "user": {
      "displayName": "gayeon jung",
      "userId": "11182768220803788461"
     },
     "user_tz": -540
    },
    "id": "2154d457"
   },
   "outputs": [],
   "source": [
    "import warnings\n",
    "warnings.filterwarnings(\"ignore\")\n",
    "\n",
    "import pandas as pd\n",
    "import numpy as np\n",
    "import seaborn as sns\n",
    "import matplotlib.pyplot as plt\n",
    "import re\n",
    "%matplotlib inline\n",
    "\n",
    "\n",
    "from sklearn.model_selection import train_test_split, ShuffleSplit\n",
    "from sklearn.pipeline import Pipeline, make_pipeline\n",
    "from sklearn.compose import ColumnTransformer\n",
    "from sklearn.preprocessing import FunctionTransformer\n",
    "from sklearn.base import BaseEstimator, TransformerMixin\n",
    "from sklearn.impute import SimpleImputer\n",
    "from sklearn.preprocessing import PowerTransformer \n",
    "from sklearn.preprocessing import OrdinalEncoder\n",
    "from category_encoders import TargetEncoder\n",
    "from sklearn.feature_selection import SelectPercentile\n",
    "from sklearn import set_config\n",
    "from catboost import CatBoostRegressor\n",
    "from sklearn.model_selection import train_test_split, cross_val_score, cross_validate, KFold\n",
    "from sklearn.metrics import mean_squared_error\n",
    "from lightgbm import LGBMRegressor\n",
    "from sklearn.feature_extraction.text import CountVectorizer\n",
    "from sklearn.decomposition import PCA, TruncatedSVD\n",
    "from sklearn.feature_selection import SequentialFeatureSelector\n",
    "\n",
    "import optuna\n",
    "import statsmodels.api as sm\n",
    "from optuna.distributions import CategoricalDistribution, IntDistribution, FloatDistribution\n",
    "from optuna.integration import OptunaSearchCV, ShapleyImportanceEvaluator\n",
    "\n",
    "from sklearn.experimental import enable_iterative_imputer  # still experimental \n",
    "from sklearn.impute import IterativeImputer\n",
    "from sklearn.impute import SimpleImputer \n",
    "from sklearn.model_selection import KFold\n",
    "import category_encoders as ce\n",
    "\n",
    "plt.rc('font', family='Malgun Gothic') # 폰트 지정\n",
    "plt.rc('axes', unicode_minus=False) # 마이너스 폰트 설정\n",
    "%config InlineBackend.figure_format='retina' # 그래프 글씨 뚜렷"
   ]
  },
  {
   "cell_type": "code",
   "execution_count": 2,
   "id": "640644e3",
   "metadata": {
    "ExecuteTime": {
     "end_time": "2022-11-25T07:38:56.458775Z",
     "start_time": "2022-11-25T07:38:56.338004Z"
    }
   },
   "outputs": [],
   "source": [
    "X_train = pd.read_csv('X_train.csv', encoding='cp949').drop(columns='ID')\n",
    "y_train = pd.read_csv('y_train.csv', encoding='cp949').Salary\n",
    "\n",
    "X_test = pd.read_csv('X_test.csv', encoding='cp949')\n",
    "test_id = X_test.ID\n",
    "X_test = X_test.drop(columns='ID')"
   ]
  },
  {
   "cell_type": "code",
   "execution_count": 3,
   "id": "e83df705",
   "metadata": {
    "ExecuteTime": {
     "end_time": "2022-11-25T07:38:59.331602Z",
     "start_time": "2022-11-25T07:38:59.240022Z"
    }
   },
   "outputs": [],
   "source": [
    "# 전처리 과정까지 처리한 데이터 불러오기\n",
    "X = pd.read_csv('pre_processing.csv', encoding='cp949')"
   ]
  },
  {
   "cell_type": "code",
   "execution_count": 4,
   "id": "bf5016f7",
   "metadata": {
    "ExecuteTime": {
     "end_time": "2022-11-25T07:39:00.198329Z",
     "start_time": "2022-11-25T07:39:00.177848Z"
    }
   },
   "outputs": [],
   "source": [
    "# 기존 근무경력 feature 추가\n",
    "df = pd.concat((X_train[['근무경력']], X_test[['근무경력']]))\n",
    "df = df.reset_index(drop=True)\n",
    "\n",
    "caree_value = df['근무경력'].tolist()\n",
    "X['근무경력'] = caree_value"
   ]
  },
  {
   "cell_type": "markdown",
   "id": "151352fb",
   "metadata": {
    "ExecuteTime": {
     "end_time": "2022-11-17T10:24:07.358133Z",
     "start_time": "2022-11-17T10:24:07.351129Z"
    }
   },
   "source": [
    "# Featre Generation"
   ]
  },
  {
   "cell_type": "markdown",
   "id": "1f0b84c5",
   "metadata": {},
   "source": [
    "- 숙련도 >> v2 사용"
   ]
  },
  {
   "cell_type": "code",
   "execution_count": 5,
   "id": "19c06881",
   "metadata": {
    "ExecuteTime": {
     "end_time": "2022-11-25T07:39:02.371395Z",
     "start_time": "2022-11-25T07:39:02.353455Z"
    }
   },
   "outputs": [
    {
     "data": {
      "text/plain": [
       "하     18473\n",
       "상      4867\n",
       "중      2464\n",
       "최상     1814\n",
       "Name: 숙련도, dtype: int64"
      ]
     },
     "execution_count": 5,
     "metadata": {},
     "output_type": "execute_result"
    }
   ],
   "source": [
    "#근무경력에 따른 숙련도 칼럼 생성\n",
    "\n",
    "X['숙련도'] = X['근무경력_y']\n",
    "\n",
    "# v1\n",
    "# X['숙련도'] = X['숙련도'].apply(lambda x:'경력없음' if x==0 else '하' if x<= 4 else '중' if 4<x<=10 else '상')\n",
    "\n",
    "# v2\n",
    "X['숙련도'] = X['숙련도'].apply(lambda x: '하' if 0<=x<=2.5 else '중' if 2.5<x<= 4 else '상' if 4<x<=10 else '최상')\n",
    "\n",
    "# v3\n",
    "# X['숙련도'] = X['숙련도'].apply(lambda x:'경력없음' if x==0 else '하' if x<= 4 else '중' if 4<x<=10 else '상' if 10<x<=14 else '극상')\n",
    "\n",
    "X['숙련도'].value_counts()"
   ]
  },
  {
   "cell_type": "markdown",
   "id": "6b66068c",
   "metadata": {},
   "source": [
    "- 해외근무경력 여부(유, 무) feature 생성"
   ]
  },
  {
   "cell_type": "code",
   "execution_count": 6,
   "id": "09497329",
   "metadata": {},
   "outputs": [],
   "source": [
    "region_lst=[]\n",
    "for val in X['근무지역']:\n",
    "    region_lst.append(val.split(','))\n",
    "\n",
    "foreign = ['홍콩','미국','해외','중국','캐나다','인도네시아','일본','싱가포르','필리핀','대만','말레이시아','인도네시아','러시아','인도'\n",
    "          ,'프랑스','필리핀','말레이시아','방글라데시']\n",
    "\n",
    "X['해외근무경력'] = np.zeros(shape=(X.shape[0],), dtype=np.object)\n",
    "for k in range(0, len(region_lst)):\n",
    "    for val in region_lst[k]:\n",
    "        if val in foreign:\n",
    "            X['해외근무경력'][k] = '1'\n",
    "            \n",
    "X['해외근무경력'] = X['해외근무경력'].map(lambda x: '유' if x == '1' else '무')"
   ]
  },
  {
   "cell_type": "markdown",
   "id": "3ed82d20",
   "metadata": {},
   "source": [
    "- 직무태그_pr"
   ]
  },
  {
   "cell_type": "code",
   "execution_count": 7,
   "id": "71ef916a",
   "metadata": {
    "ExecuteTime": {
     "end_time": "2022-11-25T07:39:13.060079Z",
     "start_time": "2022-11-25T07:39:13.041118Z"
    }
   },
   "outputs": [],
   "source": [
    "# 직무태그 결측값 처리\n",
    "X.직무태그 = X.직무태그.fillna('없음')"
   ]
  },
  {
   "cell_type": "code",
   "execution_count": 8,
   "id": "948068dc",
   "metadata": {
    "ExecuteTime": {
     "end_time": "2022-11-25T07:39:13.392599Z",
     "start_time": "2022-11-25T07:39:13.360654Z"
    }
   },
   "outputs": [],
   "source": [
    "# 값들 사이, 앞, 뒤 공백 제거\n",
    "X['직무태그_pr'] = X['직무태그'].map(lambda x: x.replace(' ', ''))\n",
    "\n",
    "# 양쪽 콤마 제거\n",
    "X['직무태그_pr'] = X['직무태그'].map(lambda x: x.strip(','))\n",
    "\n",
    "# 양쪽 온점 제거\n",
    "X['직무태그_pr'] = X['직무태그'].map(lambda x: x.strip('.'))\n",
    "\n",
    "# 콤마를 기준으로 split 후 첫 번째 단어만 뽑아서 '직무태그_pr' feature 생성\n",
    "X['직무태그_pr'] = X['직무태그'].map(lambda x: x.split(',')[0])"
   ]
  },
  {
   "cell_type": "code",
   "execution_count": 9,
   "id": "f1df4cb9",
   "metadata": {
    "ExecuteTime": {
     "end_time": "2022-11-25T07:39:20.228328Z",
     "start_time": "2022-11-25T07:39:20.209676Z"
    },
    "scrolled": true
   },
   "outputs": [
    {
     "data": {
      "text/plain": [
       "0     취재기자\n",
       "1       없음\n",
       "2    하드웨어 \n",
       "3      반도체\n",
       "4      기술직\n",
       "Name: 직무태그_pr, dtype: object"
      ]
     },
     "execution_count": 9,
     "metadata": {},
     "output_type": "execute_result"
    }
   ],
   "source": [
    "X['직무태그_pr'].head(5)"
   ]
  },
  {
   "cell_type": "code",
   "execution_count": 10,
   "id": "d0186374",
   "metadata": {
    "ExecuteTime": {
     "end_time": "2022-11-25T07:39:28.502491Z",
     "start_time": "2022-11-25T07:39:28.490531Z"
    }
   },
   "outputs": [],
   "source": [
    "# '직무태그_pr' feature value의 첫번째, 두번째 글자만 인덱싱해서 그룹화 \n",
    "X['직무태그_pr'] = X['직무태그_pr'].str[:2]"
   ]
  },
  {
   "cell_type": "code",
   "execution_count": 11,
   "id": "834a9502",
   "metadata": {
    "ExecuteTime": {
     "end_time": "2022-11-25T07:39:28.805634Z",
     "start_time": "2022-11-25T07:39:28.793060Z"
    },
    "scrolled": true
   },
   "outputs": [
    {
     "data": {
      "text/plain": [
       "0    취재\n",
       "1    없음\n",
       "2    하드\n",
       "3    반도\n",
       "4    기술\n",
       "Name: 직무태그_pr, dtype: object"
      ]
     },
     "execution_count": 11,
     "metadata": {},
     "output_type": "execute_result"
    }
   ],
   "source": [
    "X['직무태그_pr'].head(5)"
   ]
  },
  {
   "cell_type": "markdown",
   "id": "83f20d78",
   "metadata": {},
   "source": [
    "- 대학별그룹"
   ]
  },
  {
   "cell_type": "code",
   "execution_count": 12,
   "id": "5c027c71",
   "metadata": {
    "ExecuteTime": {
     "end_time": "2022-11-25T07:39:55.916306Z",
     "start_time": "2022-11-25T07:39:41.738016Z"
    }
   },
   "outputs": [],
   "source": [
    "X['대학별그룹'] = X['출신대학'] \n",
    "\n",
    "top_univ = ['서울과학기술대학교', '성균관대학교','연세대학교','중앙대학교','이화여자대학교', '동아대학교']\n",
    "high_univ = ['경기대학교', '수원대학교','세종대학교','인천대학교']\n",
    "middle_univ = ['한림대학교', '상지대학교', '한성대학교', '동의대학교','제주대학교','한국산업기술대학교']\n",
    "low_univ = ['신라대학교','한밭대학교','전주대학교','군산대학교','성결대학교','호남대학교','세명대학교', '용인대학교',\n",
    "           '광주대학교','서원대학교','동서대학교','한일장신대학교','한세대학교','협성대학교','서울신학대학교','송원대학교','부산디지털대학교',\n",
    "           '선문대학교','성공회대학교','호원대학교', '남부대학교', '서울여자대학교', '성신여자대학교', '동덕여자대학교', '경주대학교','목포대학교']\n",
    "\n",
    "a = X[X['대학별그룹'].isin(top_univ)]['대학별그룹']\n",
    "X['대학별그룹'] = X['대학별그룹'].replace(list(a),'top_univ')\n",
    "\n",
    "a = X[X['대학별그룹'].isin(high_univ)]['대학별그룹']\n",
    "X['대학별그룹'] = X['대학별그룹'].replace(list(a),'high_univ')\n",
    "\n",
    "a = X[X['대학별그룹'].isin(middle_univ)]['대학별그룹']\n",
    "X['대학별그룹'] = X['대학별그룹'].replace(list(a),'middle_univ')\n",
    "\n",
    "a = X[X['대학별그룹'].isin(low_univ)]['대학별그룹']\n",
    "X['대학별그룹'] = X['대학별그룹'].replace(list(a),'low_univ')"
   ]
  },
  {
   "cell_type": "code",
   "execution_count": 13,
   "id": "7c1ffb9e",
   "metadata": {
    "ExecuteTime": {
     "end_time": "2022-11-25T07:39:56.022150Z",
     "start_time": "2022-11-25T07:39:56.007640Z"
    }
   },
   "outputs": [
    {
     "data": {
      "text/plain": [
       "0     top_univ\n",
       "1     low_univ\n",
       "2    high_univ\n",
       "3    high_univ\n",
       "4     low_univ\n",
       "Name: 대학별그룹, dtype: object"
      ]
     },
     "execution_count": 13,
     "metadata": {},
     "output_type": "execute_result"
    }
   ],
   "source": [
    "X['대학별그룹'].head(5)"
   ]
  },
  {
   "cell_type": "markdown",
   "id": "02dfdda1",
   "metadata": {},
   "source": [
    "- 출신대학별 근무경력 mean & std"
   ]
  },
  {
   "cell_type": "code",
   "execution_count": 14,
   "id": "c388e6bb",
   "metadata": {
    "ExecuteTime": {
     "end_time": "2022-11-25T07:39:59.758482Z",
     "start_time": "2022-11-25T07:39:59.746522Z"
    }
   },
   "outputs": [],
   "source": [
    "X['대학_평균근무경력'] = X.groupby(['출신대학'])['근무경력_y'].transform('mean')\n",
    "X['대학_근무경력std'] = X.groupby(['출신대학'])['근무경력_y'].transform('std')\n",
    "# X['대학_근무경력var'] = X.groupby(['출신대학'])['근무경력_y'].transform('var')"
   ]
  },
  {
   "cell_type": "markdown",
   "id": "5bfed3ac",
   "metadata": {},
   "source": [
    "- 세부직종별 근무경력 mean"
   ]
  },
  {
   "cell_type": "code",
   "execution_count": 15,
   "id": "554e33e8",
   "metadata": {
    "ExecuteTime": {
     "end_time": "2022-11-25T07:40:00.243418Z",
     "start_time": "2022-11-25T07:40:00.232929Z"
    }
   },
   "outputs": [],
   "source": [
    "X['세부직종_평균근무경력'] = X.groupby(['세부직종'])['근무경력_y'].transform('mean')\n",
    "# X['세부직종_근무경력std'] = X.groupby(['세부직종'])['근무경력_y'].transform('std')\n",
    "# X['세부직종_근무경력var'] = X.groupby(['세부직종'])['근무경력_y'].transform('var')"
   ]
  },
  {
   "cell_type": "markdown",
   "id": "4c2e8ac9",
   "metadata": {},
   "source": [
    "- 직종별 근무경력 mean"
   ]
  },
  {
   "cell_type": "code",
   "execution_count": 16,
   "id": "8c4ac367",
   "metadata": {
    "ExecuteTime": {
     "end_time": "2022-11-25T07:40:00.650253Z",
     "start_time": "2022-11-25T07:40:00.641280Z"
    }
   },
   "outputs": [],
   "source": [
    "X['직종_평균근무경력'] = X.groupby(['직종'])['근무경력_y'].transform('mean')\n",
    "# X['직종_근무경력std'] = X.groupby(['직종'])['근무경력_y'].transform('std')\n",
    "# X['직종_근무경력var'] = X.groupby(['직종'])['근무경력_y'].transform('var')"
   ]
  },
  {
   "cell_type": "markdown",
   "id": "acead035",
   "metadata": {},
   "source": [
    "- 근무형태별 근무경력 mean"
   ]
  },
  {
   "cell_type": "code",
   "execution_count": 17,
   "id": "e79afd89",
   "metadata": {
    "ExecuteTime": {
     "end_time": "2022-11-25T07:40:01.348366Z",
     "start_time": "2022-11-25T07:40:01.337275Z"
    }
   },
   "outputs": [],
   "source": [
    "X['근무형태_평균근무경력'] = X.groupby(['근무형태'])['근무경력_y'].transform('mean')\n",
    "# X['근무형태_근무경력std'] = X.groupby(['근무형태'])['근무경력_y'].transform('std')\n",
    "# X['근무형태_근무경력var'] = X.groupby(['근무형태'])['근무경력_y'].transform('var')"
   ]
  },
  {
   "cell_type": "markdown",
   "id": "d09453c5",
   "metadata": {},
   "source": [
    "- 대학전공별 근무경력 mean"
   ]
  },
  {
   "cell_type": "code",
   "execution_count": 18,
   "id": "a9e7ad8a",
   "metadata": {
    "ExecuteTime": {
     "end_time": "2022-11-25T07:40:01.680381Z",
     "start_time": "2022-11-25T07:40:01.673398Z"
    }
   },
   "outputs": [],
   "source": [
    "X['대학전공_평균근무경력'] = X.groupby(['대학전공'])['근무경력_y'].transform('mean')\n",
    "# X['대학전공_근무경력std'] = X.groupby(['대학전공'])['근무경력_y'].transform('std')\n",
    "# X['대학전공_근무경력var'] = X.groupby(['대학전공'])['근무경력_y'].transform('var')"
   ]
  },
  {
   "cell_type": "markdown",
   "id": "df615dc8",
   "metadata": {},
   "source": [
    "- 직무태그_pr별 근무경력 mean"
   ]
  },
  {
   "cell_type": "code",
   "execution_count": 19,
   "id": "88fc36fd",
   "metadata": {
    "ExecuteTime": {
     "end_time": "2022-11-25T07:40:02.381289Z",
     "start_time": "2022-11-25T07:40:02.360330Z"
    }
   },
   "outputs": [],
   "source": [
    "X['직무태그_pr_평균근무경력'] = X.groupby(['직무태그_pr'])['근무경력_y'].transform('mean')\n",
    "# X['직무태그_pr_근무경력std'] = X.groupby(['직무태그_pr'])['근무경력_y'].transform('std')\n",
    "# X['직무태그_pr_근무경력var'] = X.groupby(['직무태그_pr'])['근무경력_y'].transform('var')"
   ]
  },
  {
   "cell_type": "markdown",
   "id": "0a36835a",
   "metadata": {},
   "source": [
    "- 세부직종 연봉기준 정렬하여 순위(order) 부여"
   ]
  },
  {
   "cell_type": "code",
   "execution_count": 20,
   "id": "ea871cab",
   "metadata": {
    "ExecuteTime": {
     "end_time": "2022-11-25T08:05:20.687027Z",
     "start_time": "2022-11-25T08:05:20.667096Z"
    }
   },
   "outputs": [
    {
     "data": {
      "text/html": [
       "<div>\n",
       "<style scoped>\n",
       "    .dataframe tbody tr th:only-of-type {\n",
       "        vertical-align: middle;\n",
       "    }\n",
       "\n",
       "    .dataframe tbody tr th {\n",
       "        vertical-align: top;\n",
       "    }\n",
       "\n",
       "    .dataframe thead th {\n",
       "        text-align: right;\n",
       "    }\n",
       "</style>\n",
       "<table border=\"1\" class=\"dataframe\">\n",
       "  <thead>\n",
       "    <tr style=\"text-align: right;\">\n",
       "      <th></th>\n",
       "      <th>세부직종</th>\n",
       "      <th>평균연봉</th>\n",
       "    </tr>\n",
       "  </thead>\n",
       "  <tbody>\n",
       "    <tr>\n",
       "      <th>87</th>\n",
       "      <td>정밀공학·광학</td>\n",
       "      <td>1700.000000</td>\n",
       "    </tr>\n",
       "    <tr>\n",
       "      <th>60</th>\n",
       "      <td>정보검색·정보제공</td>\n",
       "      <td>1750.000000</td>\n",
       "    </tr>\n",
       "    <tr>\n",
       "      <th>43</th>\n",
       "      <td>판매·매장관리·캐셔·프런트</td>\n",
       "      <td>1810.344828</td>\n",
       "    </tr>\n",
       "    <tr>\n",
       "      <th>63</th>\n",
       "      <td>캐릭터·애니메이션</td>\n",
       "      <td>1857.142857</td>\n",
       "    </tr>\n",
       "    <tr>\n",
       "      <th>75</th>\n",
       "      <td>사서·문서관리</td>\n",
       "      <td>1860.000000</td>\n",
       "    </tr>\n",
       "    <tr>\n",
       "      <th>...</th>\n",
       "      <td>...</td>\n",
       "      <td>...</td>\n",
       "    </tr>\n",
       "    <tr>\n",
       "      <th>85</th>\n",
       "      <td>기타 건설·기계·전기·전자</td>\n",
       "      <td>4628.571429</td>\n",
       "    </tr>\n",
       "    <tr>\n",
       "      <th>78</th>\n",
       "      <td>재무·IR·자금·감사</td>\n",
       "      <td>4713.888889</td>\n",
       "    </tr>\n",
       "    <tr>\n",
       "      <th>77</th>\n",
       "      <td>세무사·회계사·관세사</td>\n",
       "      <td>4864.285714</td>\n",
       "    </tr>\n",
       "    <tr>\n",
       "      <th>104</th>\n",
       "      <td>연예·공연기획·매니저</td>\n",
       "      <td>5250.000000</td>\n",
       "    </tr>\n",
       "    <tr>\n",
       "      <th>98</th>\n",
       "      <td>게임디자인</td>\n",
       "      <td>5250.000000</td>\n",
       "    </tr>\n",
       "  </tbody>\n",
       "</table>\n",
       "<p>115 rows × 2 columns</p>\n",
       "</div>"
      ],
      "text/plain": [
       "               세부직종         평균연봉\n",
       "87          정밀공학·광학  1700.000000\n",
       "60        정보검색·정보제공  1750.000000\n",
       "43   판매·매장관리·캐셔·프런트  1810.344828\n",
       "63        캐릭터·애니메이션  1857.142857\n",
       "75          사서·문서관리  1860.000000\n",
       "..              ...          ...\n",
       "85   기타 건설·기계·전기·전자  4628.571429\n",
       "78      재무·IR·자금·감사  4713.888889\n",
       "77      세무사·회계사·관세사  4864.285714\n",
       "104     연예·공연기획·매니저  5250.000000\n",
       "98            게임디자인  5250.000000\n",
       "\n",
       "[115 rows x 2 columns]"
      ]
     },
     "execution_count": 20,
     "metadata": {},
     "output_type": "execute_result"
    }
   ],
   "source": [
    "X_train_c = X_train.copy()\n",
    "X_train_c['Salary'] = y_train\n",
    "\n",
    "job_lst = X['세부직종'].unique().tolist()\n",
    "job_salary = []\n",
    "\n",
    "for job in job_lst:\n",
    "    mean_salary = X_train_c['Salary'][X['세부직종'] == job].mean()\n",
    "    job_salary.append(mean_salary)\n",
    "    \n",
    "job_mean_salary = pd.DataFrame({'세부직종' : job_lst,\n",
    "                                 '평균연봉' : job_salary})\n",
    "job_mean_salary = job_mean_salary.fillna(job_mean_salary.평균연봉.mean()) ; job_mean_salary.sort_values('평균연봉', ascending=True)"
   ]
  },
  {
   "cell_type": "code",
   "execution_count": 21,
   "id": "a6d34398",
   "metadata": {
    "ExecuteTime": {
     "end_time": "2022-11-25T07:42:54.904998Z",
     "start_time": "2022-11-25T07:42:54.890568Z"
    }
   },
   "outputs": [],
   "source": [
    "# 세부직종 정렬 리스트 목록 저장\n",
    "tra_1 = job_mean_salary.sort_values('평균연봉', ascending=True)['세부직종'].tolist()\n",
    "\n",
    "# 정렬 리스트에 순차적으로 번호(order) 부여\n",
    "job_order_dict = {i : j for j, i in enumerate(tra_1)}\n",
    "\n",
    "# '세부직종_order' feature 생성\n",
    "X['세부직종_order'] = X['세부직종'].map(job_order_dict)"
   ]
  },
  {
   "cell_type": "markdown",
   "id": "f5d239f8",
   "metadata": {},
   "source": [
    "- 출신대학 그룹화하여 수치 부여한 '출신대학수치' & '출신대학수치 * 대학성적'"
   ]
  },
  {
   "cell_type": "code",
   "execution_count": 22,
   "id": "67726457",
   "metadata": {
    "ExecuteTime": {
     "end_time": "2022-11-25T07:43:00.246813Z",
     "start_time": "2022-11-25T07:43:00.210194Z"
    }
   },
   "outputs": [],
   "source": [
    "top_rank = ['성균관대학교', '연세대학교', '중앙대학교', '이화여자대학교']\n",
    "mid_rank = ['세종대학교', '성신여자대학교']\n",
    "low_rank = ['한성대학교', '동덕여자대학교', '서울여자대학교', '서울과학기술대학교']\n",
    "province = ['제주대학교', '인천대학교', '군산대학교', '한국산업기술대학교']\n",
    "etc= ['수원대학교', '전주대학교', '세명대학교', '신라대학교', '상지대학교', '한밭대학교', '경기대학교', '선문대학교', '성공회대학교', '호원대학교', '한림대학교', '목포대학교', '동아대학교', '동의대학교', '성결대학교', '호남대학교', '광주대학교', '서원대학교', '동서대학교', '한일장신대학교', '한세대학교', '용인대학교', '경주대학교', '협성대학교', '서울신학대학교', '송원대학교', '부산디지털대학교','남부대학교']\n",
    "\n",
    "\n",
    "university = []\n",
    "for i in X['출신대학']:\n",
    "    if i in top_rank:\n",
    "        university.append(5)\n",
    "    elif i in mid_rank:\n",
    "        university.append(4)\n",
    "    elif i in low_rank:\n",
    "        university.append(3)\n",
    "    elif i in province:\n",
    "        university.append(2)\n",
    "    elif i in etc:\n",
    "        university.append(1)\n",
    "        \n",
    "# '출신대학수치' feature\n",
    "X['출신대학수치'] = university\n",
    "\n",
    "# 출신대학수치 * 대학성적 feature\n",
    "X['출신대학수치*대학성적'] = X['출신대학수치'] * X['대학성적']"
   ]
  },
  {
   "cell_type": "markdown",
   "id": "265f456f",
   "metadata": {
    "ExecuteTime": {
     "end_time": "2022-11-25T07:37:07.749387Z",
     "start_time": "2022-11-25T07:37:07.739913Z"
    }
   },
   "source": [
    "- '출신대학수치'와 유사한 방법으로 '근무경력수치'  feature 생성"
   ]
  },
  {
   "cell_type": "code",
   "execution_count": 23,
   "id": "01d02f44",
   "metadata": {
    "ExecuteTime": {
     "end_time": "2022-11-25T07:43:10.167016Z",
     "start_time": "2022-11-25T07:43:10.146113Z"
    }
   },
   "outputs": [],
   "source": [
    "career = []\n",
    "# v1.0\n",
    "for i in X['근무경력_y']:\n",
    "    if i == 0:\n",
    "        career.append(0)\n",
    "    elif 0 < i < 3:\n",
    "        career.append(1)\n",
    "    elif 3 <= i < 6:\n",
    "        career.append(2)\n",
    "    elif 6 <= i < 10:\n",
    "        career.append(3)\n",
    "    elif 10 <= i < 15:\n",
    "        career.append(4)\n",
    "    elif 15 <= i < 20:\n",
    "        career.append(5)\n",
    "    elif 20 <= i < 25:\n",
    "        career.append(6)\n",
    "    elif 25 <= i < 30:\n",
    "        career.append(7)\n",
    "    else:\n",
    "        career.append(8)\n",
    "\n",
    "# 근무경력수치 feature\n",
    "X['근무경력수치'] = career\n",
    "\n",
    "# 근무경력수치 * 세부직종_order\n",
    "X['근무경력수치*세부직종order'] = X['근무경력수치'] * X['세부직종_order']"
   ]
  },
  {
   "cell_type": "markdown",
   "id": "8fb48bba",
   "metadata": {},
   "source": [
    "- 대학별 구간 분류"
   ]
  },
  {
   "cell_type": "code",
   "execution_count": 24,
   "id": "8f6eb71d",
   "metadata": {
    "ExecuteTime": {
     "end_time": "2022-11-25T07:43:16.187814Z",
     "start_time": "2022-11-25T07:43:16.082084Z"
    }
   },
   "outputs": [],
   "source": [
    "univ_lst = X['출신대학'].unique().tolist()\n",
    "univ_people = []\n",
    "univ_career = []\n",
    "\n",
    "\n",
    "for univ in univ_lst:\n",
    "    univ_people_cnt = len(X['근무경력_y'][X['출신대학'] == univ])\n",
    "    mean_career = X['근무경력_y'][X['출신대학'] == univ].mean()\n",
    "    \n",
    "    \n",
    "    univ_people.append(univ_people_cnt)\n",
    "    univ_career.append(mean_career)\n",
    "    \n",
    "univ_mean_salary = pd.DataFrame({'출신대학' : univ_lst,\n",
    "                                 '출신인원' : univ_people,\n",
    "                                 '평균경력' : univ_career})"
   ]
  },
  {
   "cell_type": "code",
   "execution_count": 25,
   "id": "2b3ced30",
   "metadata": {
    "ExecuteTime": {
     "end_time": "2022-11-25T07:43:23.375762Z",
     "start_time": "2022-11-25T07:43:23.336672Z"
    }
   },
   "outputs": [],
   "source": [
    "high = []\n",
    "middle = [] \n",
    "low = []\n",
    "\n",
    "for val in univ_mean_salary['평균경력']:\n",
    "    if val >= 3:\n",
    "        high.append(univ_mean_salary['출신대학'][univ_mean_salary['평균경력'] == val])\n",
    "    elif 2.5 <= val < 3:\n",
    "        middle.append(univ_mean_salary['출신대학'][univ_mean_salary['평균경력'] == val])\n",
    "    else:\n",
    "        low.append(univ_mean_salary['출신대학'][univ_mean_salary['평균경력'] == val])\n",
    "    \n",
    "high_lst = []\n",
    "middle_lst = []\n",
    "low_lst = []\n",
    "\n",
    "for cnt in range(len(high)):\n",
    "    high_lst.append(np.array(high)[cnt][0])\n",
    "\n",
    "for cnt in range(len(middle)):\n",
    "    middle_lst.append(np.array(middle)[cnt][0])\n",
    "\n",
    "for cnt in range(len(low)):\n",
    "    low_lst.append(np.array(low)[cnt][0])   \n",
    "    \n",
    "X['대학별경력구분'] = X['출신대학'].copy()\n",
    "\n",
    "def univ_career(x):\n",
    "    if x in high_lst:\n",
    "        return 'high'\n",
    "    elif x in middle_lst:\n",
    "        return 'middle'\n",
    "    elif x in low_lst:\n",
    "        return 'low'\n",
    "\n",
    "X['대학별경력구분'] = X['대학별경력구분'].map(lambda x: univ_career(x))"
   ]
  },
  {
   "cell_type": "code",
   "execution_count": 26,
   "id": "9188a8b9",
   "metadata": {
    "ExecuteTime": {
     "end_time": "2022-11-25T07:43:34.347725Z",
     "start_time": "2022-11-25T07:43:34.337245Z"
    }
   },
   "outputs": [
    {
     "data": {
      "text/plain": [
       "0      high\n",
       "1       low\n",
       "2    middle\n",
       "3    middle\n",
       "4       low\n",
       "Name: 대학별경력구분, dtype: object"
      ]
     },
     "execution_count": 26,
     "metadata": {},
     "output_type": "execute_result"
    }
   ],
   "source": [
    "X['대학별경력구분'].head(5)"
   ]
  },
  {
   "cell_type": "markdown",
   "id": "d1fd10a4",
   "metadata": {
    "ExecuteTime": {
     "end_time": "2022-11-25T07:44:11.191276Z",
     "start_time": "2022-11-25T07:44:11.184802Z"
    }
   },
   "source": [
    "- 근무지역_분류"
   ]
  },
  {
   "cell_type": "code",
   "execution_count": 27,
   "id": "887f3330",
   "metadata": {
    "ExecuteTime": {
     "end_time": "2022-11-24T14:10:56.602108Z",
     "start_time": "2022-11-24T14:10:56.048931Z"
    }
   },
   "outputs": [],
   "source": [
    "X_ = X['근무지역'].copy()\n",
    "\n",
    "lst = []\n",
    "for val in X_.map(lambda x: x.split(',')):\n",
    "    for k in val:\n",
    "        if k not in lst:\n",
    "            lst.append(k)\n",
    "            \n",
    "수도권 = ['서울', '경기', '인천']\n",
    "지방 = ['강원', '경남', '경북', '충남', '충북', '전남', '전북', '제주', '세종']\n",
    "광역시 = ['대구', '부산', '광주', '울산', '대전',]\n",
    "해외 = ['일본', '인도', '미국', '해외', '캐나다', '말레이시아', '홍콩', '중국', '인도네시아', '대만', '싱가포르', '방글라데시', '프랑스', '필리핀', '러시아']\n",
    "기타 = ['기타', '전국']\n",
    "\n",
    "X_ = X_.map(lambda x: x.split(','))\n",
    "\n",
    "for row in range(len(X_)):\n",
    "    for idx in range(len(val)):\n",
    "        if  X_[row][idx] in 수도권:\n",
    "            X_[row][idx] = '수도권'\n",
    "        elif X_[row][idx] in 지방:\n",
    "            X_[row][idx] = '지방'\n",
    "        elif X_[row][idx] in 광역시:\n",
    "            X_[row][idx] = '광역시'\n",
    "        elif X_[row][idx] in 해외:\n",
    "            X_[row][idx] = '해외'\n",
    "        else:\n",
    "            X_[row][idx] = '기타'\n",
    "            \n",
    "for row in range(len(X_)):\n",
    "    X_[row].sort()\n",
    "    \n",
    "X_ = X_.map(lambda x: ','.join(x))\n",
    "X_ = pd.DataFrame(X_)\n",
    "\n",
    "X['근무지역_분류'] = X_['근무지역']"
   ]
  },
  {
   "cell_type": "markdown",
   "id": "d7fcd7a5",
   "metadata": {},
   "source": [
    "- 근무지역_분류를 기반으로 근무지역_count"
   ]
  },
  {
   "cell_type": "code",
   "execution_count": 28,
   "id": "bd0c896d",
   "metadata": {
    "ExecuteTime": {
     "end_time": "2022-11-24T14:10:56.781845Z",
     "start_time": "2022-11-24T14:10:56.722775Z"
    }
   },
   "outputs": [],
   "source": [
    "# 근무지역_count\n",
    "region_dict = {'해외':5, '수도권':4, '광역시':3, '지방':2, '기타':1}\n",
    "region_df = X[['근무지역_분류']].copy()\n",
    "region_df['근무지역_분류'] = region_df['근무지역_분류'].map(lambda x: x.split(',')) \n",
    "\n",
    "def region_transformer(x):\n",
    "    for idx in range(len(x)):\n",
    "        x[idx] = region_dict[x[idx]]\n",
    "        \n",
    "    return sum(x)\n",
    "\n",
    "region_df['근무지역_count'] = region_df['근무지역_분류'].map(lambda x: region_transformer(x))\n",
    "\n",
    "X['근무지역_count'] = region_df['근무지역_count']"
   ]
  },
  {
   "cell_type": "markdown",
   "id": "b5f51b7e",
   "metadata": {},
   "source": [
    "### 파생 features "
   ]
  },
  {
   "cell_type": "code",
   "execution_count": 29,
   "id": "35acce4b",
   "metadata": {
    "ExecuteTime": {
     "end_time": "2022-11-24T14:10:54.365922Z",
     "start_time": "2022-11-24T14:10:54.353921Z"
    }
   },
   "outputs": [],
   "source": [
    "X['근무경력_y*세부order'] = X['근무경력_y'] * X['세부직종_order']\n",
    "X['해외근무경력_세직_order'] = X['해외근무경력'] + '_' + X['세부직종_order'].astype(str)\n",
    "X['대학+전공'] = X['출신대학'] + X['대학전공']\n",
    "X['직종+세부직종']= X['직종'] + X['세부직종']\n",
    "X['근무형태+직종'] = X['근무형태']+X['직종']\n",
    "X['출신대학수치*근무경력_y'] = X['출신대학수치'] * X['근무경력_y']\n",
    "X['출신대학수치*세부직종_order'] = X['출신대학수치'] * X['세부직종_order']\n",
    "X['세부직종+근무지역'] = X['세부직종'] + X['근무지역']\n",
    "X['근무형태+세부직종'] = X['근무형태'] + X['세부직종']\n",
    "X['근무형태+출신대학'] = X['근무형태'] + X['출신대학']\n",
    "X['근무형태+근무지역'] = X['근무형태'] + X['근무지역']\n",
    "X['근무형태+대학전공'] = X['근무형태'] + X['대학전공']\n",
    "X['근무형태+직무태그_pr'] = X['근무형태'] + X['직무태그_pr']\n",
    "X['근무형태_숙련도'] = X['근무형태'] + '_' + X['숙련도']\n",
    "X['세직_태그_pr'] = X['세부직종'] + '_' + X['직무태그_pr']\n",
    "X['지역_cnt*세직_order'] = X['근무지역_count'] * X['세부직종_order']\n",
    "X['지역_cnt*근무경력_y'] = X['근무지역_count'] * X['근무경력_y']"
   ]
  },
  {
   "cell_type": "code",
   "execution_count": 30,
   "id": "e4456aac",
   "metadata": {
    "ExecuteTime": {
     "end_time": "2022-11-24T14:10:57.112441Z",
     "start_time": "2022-11-24T14:10:57.068422Z"
    }
   },
   "outputs": [],
   "source": [
    "# 다중공선성 우려로 제거\n",
    "X.drop('근무지역_분류',axis=1,inplace=True)\n",
    "X.drop('근무지역_count',axis=1,inplace=True)"
   ]
  },
  {
   "cell_type": "markdown",
   "id": "facf7c16",
   "metadata": {
    "id": "facf7c16"
   },
   "source": [
    "# CATBOOST MODELING"
   ]
  },
  {
   "cell_type": "code",
   "execution_count": 31,
   "id": "ac1331a3",
   "metadata": {
    "ExecuteTime": {
     "end_time": "2022-11-24T11:28:24.718593Z",
     "start_time": "2022-11-24T11:28:24.704362Z"
    }
   },
   "outputs": [],
   "source": [
    "X_train = X.iloc[:X_train.shape[0],:].reset_index(drop=True)\n",
    "X_test = X.iloc[X_train.shape[0]:,:].reset_index(drop=True)"
   ]
  },
  {
   "cell_type": "code",
   "execution_count": 32,
   "id": "0d8ec5c2",
   "metadata": {
    "ExecuteTime": {
     "end_time": "2022-11-24T11:28:24.733603Z",
     "start_time": "2022-11-24T11:28:24.719598Z"
    }
   },
   "outputs": [
    {
     "name": "stdout",
     "output_type": "stream",
     "text": [
      "Number of Numerical features:  21\n",
      "Number of Categorical features:  27\n"
     ]
    }
   ],
   "source": [
    "numeric_features = X_train.dtypes[X_train.dtypes != \"object\"].index.tolist()\n",
    "print(\"Number of Numerical features: \", len(numeric_features))\n",
    "\n",
    "categorical_features = X_train.dtypes[X_train.dtypes == \"object\"].index.tolist()\n",
    "print(\"Number of Categorical features: \", len(categorical_features))"
   ]
  },
  {
   "cell_type": "code",
   "execution_count": 33,
   "id": "987d2cdb",
   "metadata": {
    "ExecuteTime": {
     "end_time": "2022-11-24T11:28:24.748607Z",
     "start_time": "2022-11-24T11:28:24.734607Z"
    }
   },
   "outputs": [
    {
     "data": {
      "text/plain": [
       "['대학성적',\n",
       " '근무경력_y',\n",
       " '근무경력_m',\n",
       " '근무경력_d',\n",
       " '대학_평균근무경력',\n",
       " '대학_근무경력std',\n",
       " '세부직종_평균근무경력',\n",
       " '직종_평균근무경력',\n",
       " '근무형태_평균근무경력',\n",
       " '대학전공_평균근무경력',\n",
       " '직무태그_pr_평균근무경력',\n",
       " '세부직종_order',\n",
       " '출신대학수치',\n",
       " '출신대학수치*대학성적',\n",
       " '근무경력수치',\n",
       " '근무경력수치*세부직종order',\n",
       " '근무경력_y*세부order',\n",
       " '출신대학수치*근무경력_y',\n",
       " '출신대학수치*세부직종_order',\n",
       " '지역_cnt*세직_order',\n",
       " '지역_cnt*근무경력_y']"
      ]
     },
     "execution_count": 33,
     "metadata": {},
     "output_type": "execute_result"
    }
   ],
   "source": [
    "numeric_features"
   ]
  },
  {
   "cell_type": "code",
   "execution_count": 34,
   "id": "24978738",
   "metadata": {
    "ExecuteTime": {
     "end_time": "2022-11-24T11:28:24.763608Z",
     "start_time": "2022-11-24T11:28:24.750603Z"
    }
   },
   "outputs": [
    {
     "data": {
      "text/plain": [
       "['직종',\n",
       " '세부직종',\n",
       " '출신대학',\n",
       " '대학전공',\n",
       " '어학시험',\n",
       " '자격증',\n",
       " '근무경력',\n",
       " '숙련도',\n",
       " '해외근무경력',\n",
       " '직무태그_pr',\n",
       " '대학별그룹',\n",
       " '대학별경력구분',\n",
       " '해외근무경력_세직_order',\n",
       " '대학+전공',\n",
       " '직종+세부직종',\n",
       " '근무형태+직종',\n",
       " '세부직종+근무지역',\n",
       " '근무형태+세부직종',\n",
       " '근무형태+출신대학',\n",
       " '근무형태+근무지역',\n",
       " '근무형태+대학전공',\n",
       " '근무형태+직무태그_pr',\n",
       " '근무형태_숙련도',\n",
       " '세직_태그_pr']"
      ]
     },
     "execution_count": 34,
     "metadata": {},
     "output_type": "execute_result"
    }
   ],
   "source": [
    "# binary features와 중복되는 feature 제외\n",
    "categorical_features.remove('직무태그')\n",
    "categorical_features.remove('근무지역')\n",
    "categorical_features.remove('근무형태')\n",
    "categorical_features"
   ]
  },
  {
   "cell_type": "code",
   "execution_count": 35,
   "id": "c0c1063e",
   "metadata": {
    "ExecuteTime": {
     "end_time": "2022-11-24T11:28:24.794196Z",
     "start_time": "2022-11-24T11:28:24.764602Z"
    }
   },
   "outputs": [],
   "source": [
    "categorical_features = categorical_features\n",
    "binary_features = ['직무태그','근무지역','근무형태']\n",
    "\n",
    "X_train = X_train[numeric_features+categorical_features+binary_features]  # 순서 주의!!!\n",
    "X_test = X_test[numeric_features+categorical_features+binary_features]\n",
    "\n",
    "# CatBoost의 cat_features 파라미터에 지정할 범주형 피처 위치\n",
    "cat_index = [list(X_train.columns).index(c) for c in categorical_features]"
   ]
  },
  {
   "cell_type": "code",
   "execution_count": 36,
   "id": "d080fdb6",
   "metadata": {
    "ExecuteTime": {
     "end_time": "2022-11-24T11:28:24.809207Z",
     "start_time": "2022-11-24T11:28:24.795192Z"
    }
   },
   "outputs": [],
   "source": [
    "NCOMP = 50\n",
    "P = 0.05\n",
    "NFOLDS = 15\n",
    "SEED = 0"
   ]
  },
  {
   "cell_type": "markdown",
   "id": "7c754390",
   "metadata": {},
   "source": [
    "# v20.4와 다른 부분(run papermill result)"
   ]
  },
  {
   "cell_type": "code",
   "execution_count": 37,
   "id": "311c561a",
   "metadata": {},
   "outputs": [],
   "source": [
    "# Parameters\n",
    "CATBOOST_VERSION = \"21.04\"\n",
    "NFOLDS = 15\n",
    "SEED = 4034\n",
    "NCOMP = 100\n",
    "P = 0.05"
   ]
  },
  {
   "cell_type": "code",
   "execution_count": 38,
   "id": "85255a06",
   "metadata": {
    "ExecuteTime": {
     "end_time": "2022-11-24T11:28:24.824211Z",
     "start_time": "2022-11-24T11:28:24.810215Z"
    }
   },
   "outputs": [],
   "source": [
    "# 상하한값 제한을 통한 결측값 처리 함수: FunctionTransformer를 통해 호출\n",
    "def remove_outlier(X, q=0.01):  \n",
    "    df = pd.DataFrame(X)\n",
    "    return df.apply(lambda x: x.clip(x.quantile(q), x.quantile(1-q)), axis=0).values\n",
    "\n",
    "# 회귀분석의 계수검정을 이용한 피처선택 전처리기 클래스\n",
    "class MyFeatureSelector(TransformerMixin, BaseEstimator):\n",
    "    # 전처리기 생성 즉, MyFeatureSelector() 호출시 실행\n",
    "    def __init__(self, p=0.01):\n",
    "        self.p = p\n",
    "\n",
    "    # 전처리기의 fit() 호출시 실행\n",
    "    def fit(self, X, y=None):\n",
    "        X = sm.add_constant(X)\n",
    "        results = sm.OLS(y, X).fit()\n",
    "        self.cols = list(results.pvalues[1:] <= self.p)\n",
    "        return self\n",
    "    \n",
    "    # 전처리기의 transform() 호출시 실행\n",
    "    def transform(self, X):\n",
    "        return X[:,self.cols].astype(np.int64)        \n",
    "    \n",
    "numeric_transformer = Pipeline(\n",
    "    steps=[\n",
    "        (\"imputer\", SimpleImputer(strategy=\"mean\")),\n",
    "        (\"outlier\", FunctionTransformer(remove_outlier, kw_args={'q':0.01})),\n",
    "    ]\n",
    ")\n",
    "\n",
    "categorical_transformer = Pipeline(\n",
    "    steps=[\n",
    "        (\"imputer\", SimpleImputer(strategy=\"most_frequent\")), \n",
    "        (\"encoder\", OrdinalEncoder(handle_unknown='use_encoded_value', unknown_value=99999, dtype=np.object)),\n",
    "    ]\n",
    ")\n",
    "\n",
    "binary_transformer = Pipeline(\n",
    "    steps=[\n",
    "        (\"imputer\", FunctionTransformer(lambda x: x.fillna('없음'))),      \n",
    "        (\"corpus\", FunctionTransformer(lambda x: x.str.replace('·',',').str.split(',').str.join(\" \"))),\n",
    "        (\"BoW\", CountVectorizer()),\n",
    "        (\"dense\", FunctionTransformer(lambda x: x.toarray().astype(int), accept_sparse=True)),\n",
    "    ]\n",
    ")\n",
    "\n",
    "column_transformer = ColumnTransformer(\n",
    "    transformers=[\n",
    "        (\"num\", numeric_transformer, numeric_features),\n",
    "        (\"cat\", categorical_transformer, categorical_features),\n",
    "        (\"bin1\", make_pipeline(binary_transformer, TruncatedSVD(n_components=NCOMP,random_state=0)), binary_features[0]),\n",
    "        (\"bin2\", make_pipeline(binary_transformer, MyFeatureSelector(p=P)), binary_features[1]),\n",
    "        (\"bin3\", make_pipeline(binary_transformer, MyFeatureSelector(p=P)), binary_features[2])\n",
    "    ]\n",
    ")\n",
    "\n",
    "preprocessor = Pipeline(\n",
    "    steps=[\n",
    "        (\"column\", column_transformer), \n",
    "    ]\n",
    ")"
   ]
  },
  {
   "cell_type": "code",
   "execution_count": 39,
   "id": "fe25917c",
   "metadata": {
    "ExecuteTime": {
     "end_time": "2022-11-24T11:28:35.814097Z",
     "start_time": "2022-11-24T11:28:24.825230Z"
    },
    "scrolled": true
   },
   "outputs": [],
   "source": [
    "X_train = preprocessor.fit_transform(X_train, y_train)\n",
    "X_test = preprocessor.transform(X_test)"
   ]
  },
  {
   "cell_type": "code",
   "execution_count": 40,
   "id": "ee1ba3bf",
   "metadata": {
    "ExecuteTime": {
     "end_time": "2022-11-24T11:33:57.590442Z",
     "start_time": "2022-11-24T11:28:35.815098Z"
    },
    "execution": {
     "iopub.execute_input": "2022-11-24T13:46:42.363881Z",
     "iopub.status.busy": "2022-11-24T13:46:42.363881Z",
     "iopub.status.idle": "2022-11-24T13:53:22.360519Z",
     "shell.execute_reply": "2022-11-24T13:53:22.359515Z"
    },
    "papermill": {
     "duration": 400.007641,
     "end_time": "2022-11-24T13:53:22.361516",
     "exception": false,
     "start_time": "2022-11-24T13:46:42.353875",
     "status": "completed"
    },
    "tags": []
   },
   "outputs": [
    {
     "name": "stdout",
     "output_type": "stream",
     "text": [
      "CPU times: total: 8.3 s\n",
      "Wall time: 9min 41s\n"
     ]
    }
   ],
   "source": [
    "%%time\n",
    "\n",
    "# 최적화된 하이퍼파라미터로 OOF를 수행하여 최종 CatBoost 모형 생성:\n",
    "# No tuning => tuning한 모델에 비해 성능이 떨어지지 않음\n",
    "\n",
    "# sscv = ShuffleSplit(test_size=.3334, n_splits=15, random_state=0)\n",
    "models = cross_validate(CatBoostRegressor(cat_features=cat_index, verbose=False, random_state=SEED),\n",
    "                        X_train, y_train, \n",
    "                        cv=NFOLDS, \n",
    "                        scoring='neg_mean_squared_error', \n",
    "                        return_estimator=True, n_jobs=-1)\n",
    "\n",
    "oof_pred = np.array([m.predict(X_test) for m in models['estimator']]).mean(axis=0)"
   ]
  },
  {
   "cell_type": "code",
   "execution_count": 41,
   "id": "23cb34ca",
   "metadata": {
    "ExecuteTime": {
     "end_time": "2022-11-24T11:33:57.605772Z",
     "start_time": "2022-11-24T11:33:57.591389Z"
    },
    "execution": {
     "iopub.execute_input": "2022-11-24T13:53:22.381516Z",
     "iopub.status.busy": "2022-11-24T13:53:22.381516Z",
     "iopub.status.idle": "2022-11-24T13:53:22.420515Z",
     "shell.execute_reply": "2022-11-24T13:53:22.419527Z"
    },
    "papermill": {
     "duration": 0.050001,
     "end_time": "2022-11-24T13:53:22.421516",
     "exception": false,
     "start_time": "2022-11-24T13:53:22.371515",
     "status": "completed"
    },
    "tags": [
     "parameters"
    ]
   },
   "outputs": [
    {
     "name": "stdout",
     "output_type": "stream",
     "text": [
      "\n",
      "CatBoost CV scores:  [712.8008169  778.15708183 730.57373164 720.81657102 776.00758552\n",
      " 704.94329422 809.9737883  809.19787807 820.79056467 783.56609675\n",
      " 878.57740682 938.0817187  869.08374411 920.19855065 976.65250648]\n",
      "CatBoost CV mean = 819.45 with std = 370.69\n"
     ]
    }
   ],
   "source": [
    "scores = models['test_score']\n",
    "print(\"\\nCatBoost CV scores: \", np.sqrt(-1*scores))\n",
    "print(\"CatBoost CV mean = %.2f\" % np.sqrt(-1*scores.mean()), \"with std = %.2f\" % np.sqrt(scores.std()))\n",
    "\n",
    "# # submission 화일 생성\n",
    "# CATBOOST_VERSION = CATBOOST_VERSION\n",
    "# filename = f'catboost_{CATBOOST_VERSION}_{np.sqrt(-1*scores.mean()):.2f}.csv'\n",
    "# path = './submission\\\\' \n",
    "# pd.DataFrame({'ID':test_id, 'Salary':oof_pred}).to_csv(path + filename, index=False)"
   ]
  }
 ],
 "metadata": {
  "colab": {
   "provenance": []
  },
  "kernelspec": {
   "display_name": "Python 3 (ipykernel)",
   "language": "python",
   "name": "python3"
  },
  "language_info": {
   "codemirror_mode": {
    "name": "ipython",
    "version": 3
   },
   "file_extension": ".py",
   "mimetype": "text/x-python",
   "name": "python",
   "nbconvert_exporter": "python",
   "pygments_lexer": "ipython3",
   "version": "3.9.12"
  },
  "varInspector": {
   "cols": {
    "lenName": 16,
    "lenType": 16,
    "lenVar": 40
   },
   "kernels_config": {
    "python": {
     "delete_cmd_postfix": "",
     "delete_cmd_prefix": "del ",
     "library": "var_list.py",
     "varRefreshCmd": "print(var_dic_list())"
    },
    "r": {
     "delete_cmd_postfix": ") ",
     "delete_cmd_prefix": "rm(",
     "library": "var_list.r",
     "varRefreshCmd": "cat(var_dic_list()) "
    }
   },
   "types_to_exclude": [
    "module",
    "function",
    "builtin_function_or_method",
    "instance",
    "_Feature"
   ],
   "window_display": false
  }
 },
 "nbformat": 4,
 "nbformat_minor": 5
}
