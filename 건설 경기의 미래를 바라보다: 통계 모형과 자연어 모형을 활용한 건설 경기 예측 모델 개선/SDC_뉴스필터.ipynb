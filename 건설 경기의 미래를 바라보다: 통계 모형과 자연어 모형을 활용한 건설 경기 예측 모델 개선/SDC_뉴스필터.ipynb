{
 "cells": [
  {
   "cell_type": "code",
   "execution_count": 1,
   "id": "c862fcc9-d969-4aa3-b5b5-f02f6c554f9b",
   "metadata": {
    "execution": {
     "iopub.execute_input": "2023-07-19T17:58:15.984567Z",
     "iopub.status.busy": "2023-07-19T17:58:15.984116Z",
     "iopub.status.idle": "2023-07-19T17:58:16.636353Z",
     "shell.execute_reply": "2023-07-19T17:58:16.634606Z",
     "shell.execute_reply.started": "2023-07-19T17:58:15.984540Z"
    },
    "tags": []
   },
   "outputs": [],
   "source": [
    "from tqdm import tqdm\n",
    "import pandas as pd\n",
    "import os"
   ]
  },
  {
   "cell_type": "markdown",
   "id": "59ec051f-546c-45f7-af0e-d393dd30a5c3",
   "metadata": {},
   "source": [
    "- 뉴스 전체 파일들 불러와서 키워드 적용하여 필터링 후 뉴스 저장"
   ]
  },
  {
   "cell_type": "code",
   "execution_count": 2,
   "id": "47125f6a-890f-410a-9bfb-115bb033943c",
   "metadata": {
    "execution": {
     "iopub.execute_input": "2023-07-19T17:58:16.639640Z",
     "iopub.status.busy": "2023-07-19T17:58:16.638762Z",
     "iopub.status.idle": "2023-07-19T17:58:16.647194Z",
     "shell.execute_reply": "2023-07-19T17:58:16.645171Z",
     "shell.execute_reply.started": "2023-07-19T17:58:16.639589Z"
    },
    "tags": []
   },
   "outputs": [],
   "source": [
    "keywords = [\"부동산\", \"건설\"]\n",
    "# keywords_1 = [\"부동산\", \"건설\", \"건축\"]\n",
    "# keywords_2 = [\"경기\", \"철강\", \"시멘트\", \"공사\", \"금리\"]"
   ]
  },
  {
   "cell_type": "code",
   "execution_count": 3,
   "id": "295e912c-72f4-4a65-80fc-3bc28433d477",
   "metadata": {
    "execution": {
     "iopub.execute_input": "2023-07-19T17:58:16.650512Z",
     "iopub.status.busy": "2023-07-19T17:58:16.649675Z",
     "iopub.status.idle": "2023-07-19T17:58:16.659506Z",
     "shell.execute_reply": "2023-07-19T17:58:16.657463Z",
     "shell.execute_reply.started": "2023-07-19T17:58:16.650454Z"
    },
    "tags": []
   },
   "outputs": [],
   "source": [
    "files_all = os.listdir(\"./news\")"
   ]
  },
  {
   "cell_type": "code",
   "execution_count": 4,
   "id": "a0b5083d-5959-4eef-ba6d-ff52c957bee1",
   "metadata": {
    "execution": {
     "iopub.execute_input": "2023-07-19T17:58:16.664514Z",
     "iopub.status.busy": "2023-07-19T17:58:16.663580Z",
     "iopub.status.idle": "2023-07-19T17:58:16.678708Z",
     "shell.execute_reply": "2023-07-19T17:58:16.676647Z",
     "shell.execute_reply.started": "2023-07-19T17:58:16.664461Z"
    },
    "tags": []
   },
   "outputs": [
    {
     "data": {
      "text/plain": [
       "['news_content_2019-01.csv',\n",
       " 'news_content_2019-02.csv',\n",
       " 'news_content_2019-03.csv',\n",
       " 'news_content_2019-04.csv',\n",
       " 'news_content_2019-05.csv',\n",
       " 'news_content_2019-06.csv',\n",
       " 'news_content_2019-07.csv',\n",
       " 'news_content_2019-08.csv',\n",
       " 'news_content_2019-09.csv',\n",
       " 'news_content_2019-10.csv',\n",
       " 'news_content_2019-11.csv',\n",
       " 'news_content_2019-12.csv']"
      ]
     },
     "execution_count": 4,
     "metadata": {},
     "output_type": "execute_result"
    }
   ],
   "source": [
    "files = [f for f in files_all if \"2019\" in f]\n",
    "files"
   ]
  },
  {
   "cell_type": "code",
   "execution_count": 6,
   "id": "71e07cce-f2f2-499e-8176-6db5b32f7cc7",
   "metadata": {
    "execution": {
     "iopub.execute_input": "2023-07-19T17:59:12.106414Z",
     "iopub.status.busy": "2023-07-19T17:59:12.105066Z",
     "iopub.status.idle": "2023-07-19T18:13:24.156689Z",
     "shell.execute_reply": "2023-07-19T18:13:24.155417Z",
     "shell.execute_reply.started": "2023-07-19T17:59:12.106343Z"
    },
    "tags": []
   },
   "outputs": [
    {
     "name": "stdout",
     "output_type": "stream",
     "text": [
      "2017 12\n"
     ]
    },
    {
     "name": "stderr",
     "output_type": "stream",
     "text": [
      "100%|██████████| 12/12 [01:28<00:00,  7.34s/it]\n"
     ]
    },
    {
     "name": "stdout",
     "output_type": "stream",
     "text": [
      "2018 12\n"
     ]
    },
    {
     "name": "stderr",
     "output_type": "stream",
     "text": [
      "100%|██████████| 12/12 [01:40<00:00,  8.40s/it]\n"
     ]
    },
    {
     "name": "stdout",
     "output_type": "stream",
     "text": [
      "2019 12\n"
     ]
    },
    {
     "name": "stderr",
     "output_type": "stream",
     "text": [
      "100%|██████████| 12/12 [01:43<00:00,  8.64s/it]\n"
     ]
    },
    {
     "name": "stdout",
     "output_type": "stream",
     "text": [
      "2020 12\n"
     ]
    },
    {
     "name": "stderr",
     "output_type": "stream",
     "text": [
      "100%|██████████| 12/12 [01:49<00:00,  9.14s/it]\n"
     ]
    },
    {
     "name": "stdout",
     "output_type": "stream",
     "text": [
      "2021 12\n"
     ]
    },
    {
     "name": "stderr",
     "output_type": "stream",
     "text": [
      "100%|██████████| 12/12 [01:52<00:00,  9.36s/it]\n"
     ]
    },
    {
     "name": "stdout",
     "output_type": "stream",
     "text": [
      "2022 12\n"
     ]
    },
    {
     "name": "stderr",
     "output_type": "stream",
     "text": [
      "100%|██████████| 12/12 [01:45<00:00,  8.82s/it]\n"
     ]
    }
   ],
   "source": [
    "# year = \"2019\"\n",
    "\n",
    "for year in [\"2017\", \"2018\", \"2019\", \"2020\", \"2021\", \"2022\", \"2023\"]:\n",
    "# for year in [\"2017\", \"2018\", \"2019\", \"2020\", \"2021\", \"2022\"]:\n",
    "# for year in [\"2023\"]:\n",
    "    files = [f for f in files_all if year in f]\n",
    "    print(year, len(files))\n",
    "    datas = []\n",
    "    for file in tqdm(files[:]):\n",
    "        df = pd.read_csv(f\"./news/{file}\", lineterminator='\\n')\n",
    "        df = df.loc[df[\"content\"].dropna().index, :]\n",
    "\n",
    "        rows = []  # count한 series 저장\n",
    "        words = []  # count할 단어들 저장\n",
    "\n",
    "        for word in keywords:\n",
    "            word_count = df.set_index(\"news_id\")[\"content\"].str.count(word)\n",
    "            rows.append(word_count)\n",
    "            words.append(word)\n",
    "\n",
    "        temp = pd.concat(rows, axis=1)\n",
    "        temp.columns = words\n",
    "        temp = temp.loc[temp.sum(axis=1) >= 1, :].copy()\n",
    "\n",
    "        # 뉴스 기사와 데이터를 merge하고, sid2, date, content 컬럼만 합칠때 남기기\n",
    "        temp = pd.merge(temp, df.set_index(\"news_id\"), left_index=True, right_index=True)\n",
    "        temp = temp.drop([\"sid1\", \"page_url\", \"press\", \"title\", \"input_date\"], axis=1)\n",
    "\n",
    "        datas.append(temp)\n",
    "        # temp\n",
    "\n",
    "    news = pd.concat(datas)\n",
    "    news[\"length\"] = news[\"content\"].apply(len)  # 글자수 추가\n",
    "    news.to_csv(f\"./news_sdc/{year}_news.csv\")"
   ]
  },
  {
   "cell_type": "code",
   "execution_count": 7,
   "id": "f3defa8a-c028-4806-b16f-2d36b658ac52",
   "metadata": {
    "execution": {
     "iopub.execute_input": "2023-07-20T04:38:54.976363Z",
     "iopub.status.busy": "2023-07-20T04:38:54.975370Z",
     "iopub.status.idle": "2023-07-20T04:38:55.033627Z",
     "shell.execute_reply": "2023-07-20T04:38:55.031828Z",
     "shell.execute_reply.started": "2023-07-20T04:38:54.976298Z"
    },
    "tags": []
   },
   "outputs": [
    {
     "data": {
      "text/html": [
       "<div>\n",
       "<style scoped>\n",
       "    .dataframe tbody tr th:only-of-type {\n",
       "        vertical-align: middle;\n",
       "    }\n",
       "\n",
       "    .dataframe tbody tr th {\n",
       "        vertical-align: top;\n",
       "    }\n",
       "\n",
       "    .dataframe thead th {\n",
       "        text-align: right;\n",
       "    }\n",
       "</style>\n",
       "<table border=\"1\" class=\"dataframe\">\n",
       "  <thead>\n",
       "    <tr style=\"text-align: right;\">\n",
       "      <th></th>\n",
       "      <th>부동산</th>\n",
       "      <th>건설</th>\n",
       "      <th>sid2</th>\n",
       "      <th>date</th>\n",
       "      <th>content</th>\n",
       "      <th>length</th>\n",
       "    </tr>\n",
       "    <tr>\n",
       "      <th>news_id</th>\n",
       "      <th></th>\n",
       "      <th></th>\n",
       "      <th></th>\n",
       "      <th></th>\n",
       "      <th></th>\n",
       "      <th></th>\n",
       "    </tr>\n",
       "  </thead>\n",
       "  <tbody>\n",
       "    <tr>\n",
       "      <th>9</th>\n",
       "      <td>1</td>\n",
       "      <td>0</td>\n",
       "      <td>259</td>\n",
       "      <td>20220101</td>\n",
       "      <td>[서울경제] A씨는 2020년초 신종 코로나 바이러스 감염증(코로나 19) 사태로 ...</td>\n",
       "      <td>2600</td>\n",
       "    </tr>\n",
       "    <tr>\n",
       "      <th>10</th>\n",
       "      <td>3</td>\n",
       "      <td>0</td>\n",
       "      <td>259</td>\n",
       "      <td>20220101</td>\n",
       "      <td>기재부, 세법개정 후속 시행령 개정방안 오는 6일 발표\\n\\n\\n\\n기획재정부는 지...</td>\n",
       "      <td>1081</td>\n",
       "    </tr>\n",
       "    <tr>\n",
       "      <th>19</th>\n",
       "      <td>4</td>\n",
       "      <td>0</td>\n",
       "      <td>259</td>\n",
       "      <td>20220101</td>\n",
       "      <td>[신년인터뷰] \"가계부채 부실·빅테크 영향력 확대가 최대 위협요인\"\"금융업 본질에 ...</td>\n",
       "      <td>4439</td>\n",
       "    </tr>\n",
       "    <tr>\n",
       "      <th>20</th>\n",
       "      <td>1</td>\n",
       "      <td>0</td>\n",
       "      <td>259</td>\n",
       "      <td>20220101</td>\n",
       "      <td>“MZ세대·글로벌 시장 공략…비은행 강화도 주요 과제”대선주자들 향해 \"금융산업 발...</td>\n",
       "      <td>3167</td>\n",
       "    </tr>\n",
       "    <tr>\n",
       "      <th>28</th>\n",
       "      <td>1</td>\n",
       "      <td>0</td>\n",
       "      <td>259</td>\n",
       "      <td>20220101</td>\n",
       "      <td>'가계대출 관리 모범생'으로 꼽혔던 신한은행의 가계대출 증가율이 지난해 7%를 웃돌...</td>\n",
       "      <td>1415</td>\n",
       "    </tr>\n",
       "    <tr>\n",
       "      <th>...</th>\n",
       "      <td>...</td>\n",
       "      <td>...</td>\n",
       "      <td>...</td>\n",
       "      <td>...</td>\n",
       "      <td>...</td>\n",
       "      <td>...</td>\n",
       "    </tr>\n",
       "    <tr>\n",
       "      <th>1724751</th>\n",
       "      <td>4</td>\n",
       "      <td>0</td>\n",
       "      <td>263</td>\n",
       "      <td>20221231</td>\n",
       "      <td>2·3위 금·원자재…후순위는 비트코인·한국주식·미국주식\\n\\n\\n\\n올해 가장 높은...</td>\n",
       "      <td>1065</td>\n",
       "    </tr>\n",
       "    <tr>\n",
       "      <th>1724752</th>\n",
       "      <td>0</td>\n",
       "      <td>7</td>\n",
       "      <td>263</td>\n",
       "      <td>20221231</td>\n",
       "      <td>새 살림집 건설 소식 보도…지난 29~30일 입주 모임 진행\\n\\n\\n\\n(평양 노...</td>\n",
       "      <td>1044</td>\n",
       "    </tr>\n",
       "    <tr>\n",
       "      <th>1724756</th>\n",
       "      <td>0</td>\n",
       "      <td>2</td>\n",
       "      <td>263</td>\n",
       "      <td>20221231</td>\n",
       "      <td>기사내용 요약지속되는 복합위기 속 세계경제도 암울…북한 도발도 악재역대급 경제위기에...</td>\n",
       "      <td>4758</td>\n",
       "    </tr>\n",
       "    <tr>\n",
       "      <th>1724761</th>\n",
       "      <td>1</td>\n",
       "      <td>0</td>\n",
       "      <td>263</td>\n",
       "      <td>20221231</td>\n",
       "      <td>◆…(사진 연합뉴스)     세법의 무지(無知)는 용서받지 못했다. 최근 조세심판원...</td>\n",
       "      <td>1921</td>\n",
       "    </tr>\n",
       "    <tr>\n",
       "      <th>1724765</th>\n",
       "      <td>1</td>\n",
       "      <td>3</td>\n",
       "      <td>263</td>\n",
       "      <td>20221231</td>\n",
       "      <td>서울 남산에서 바라본 아파트 단지의 모습. [연합뉴스 자료사진](서울=연합뉴스) 서...</td>\n",
       "      <td>570</td>\n",
       "    </tr>\n",
       "  </tbody>\n",
       "</table>\n",
       "<p>231406 rows × 6 columns</p>\n",
       "</div>"
      ],
      "text/plain": [
       "         부동산  건설  sid2      date  \\\n",
       "news_id                            \n",
       "9          1   0   259  20220101   \n",
       "10         3   0   259  20220101   \n",
       "19         4   0   259  20220101   \n",
       "20         1   0   259  20220101   \n",
       "28         1   0   259  20220101   \n",
       "...      ...  ..   ...       ...   \n",
       "1724751    4   0   263  20221231   \n",
       "1724752    0   7   263  20221231   \n",
       "1724756    0   2   263  20221231   \n",
       "1724761    1   0   263  20221231   \n",
       "1724765    1   3   263  20221231   \n",
       "\n",
       "                                                   content  length  \n",
       "news_id                                                             \n",
       "9        [서울경제] A씨는 2020년초 신종 코로나 바이러스 감염증(코로나 19) 사태로 ...    2600  \n",
       "10       기재부, 세법개정 후속 시행령 개정방안 오는 6일 발표\\n\\n\\n\\n기획재정부는 지...    1081  \n",
       "19       [신년인터뷰] \"가계부채 부실·빅테크 영향력 확대가 최대 위협요인\"\"금융업 본질에 ...    4439  \n",
       "20       “MZ세대·글로벌 시장 공략…비은행 강화도 주요 과제”대선주자들 향해 \"금융산업 발...    3167  \n",
       "28       '가계대출 관리 모범생'으로 꼽혔던 신한은행의 가계대출 증가율이 지난해 7%를 웃돌...    1415  \n",
       "...                                                    ...     ...  \n",
       "1724751  2·3위 금·원자재…후순위는 비트코인·한국주식·미국주식\\n\\n\\n\\n올해 가장 높은...    1065  \n",
       "1724752  새 살림집 건설 소식 보도…지난 29~30일 입주 모임 진행\\n\\n\\n\\n(평양 노...    1044  \n",
       "1724756  기사내용 요약지속되는 복합위기 속 세계경제도 암울…북한 도발도 악재역대급 경제위기에...    4758  \n",
       "1724761  ◆…(사진 연합뉴스)     세법의 무지(無知)는 용서받지 못했다. 최근 조세심판원...    1921  \n",
       "1724765  서울 남산에서 바라본 아파트 단지의 모습. [연합뉴스 자료사진](서울=연합뉴스) 서...     570  \n",
       "\n",
       "[231406 rows x 6 columns]"
      ]
     },
     "execution_count": 7,
     "metadata": {},
     "output_type": "execute_result"
    }
   ],
   "source": [
    "news"
   ]
  },
  {
   "cell_type": "code",
   "execution_count": null,
   "id": "6d033755-78e4-4d82-a0d2-3f41b997f075",
   "metadata": {
    "execution": {
     "iopub.status.busy": "2023-07-19T17:58:30.467635Z",
     "iopub.status.idle": "2023-07-19T17:58:30.469023Z",
     "shell.execute_reply": "2023-07-19T17:58:30.468699Z",
     "shell.execute_reply.started": "2023-07-19T17:58:30.468677Z"
    },
    "tags": []
   },
   "outputs": [],
   "source": [
    "# df"
   ]
  },
  {
   "cell_type": "code",
   "execution_count": null,
   "id": "0f7c4dea-405c-4949-b361-ee9dd96aa61b",
   "metadata": {
    "execution": {
     "iopub.status.busy": "2023-07-19T17:58:30.471021Z",
     "iopub.status.idle": "2023-07-19T17:58:30.471396Z",
     "shell.execute_reply": "2023-07-19T17:58:30.471264Z",
     "shell.execute_reply.started": "2023-07-19T17:58:30.471249Z"
    },
    "tags": []
   },
   "outputs": [],
   "source": [
    "# df.loc[df[\"length\"] > 2000, :]"
   ]
  },
  {
   "cell_type": "code",
   "execution_count": null,
   "id": "75aa1ea4-894c-4516-a14e-5e6e2bac1ccf",
   "metadata": {
    "execution": {
     "iopub.status.busy": "2023-07-19T17:58:30.472789Z",
     "iopub.status.idle": "2023-07-19T17:58:30.473114Z",
     "shell.execute_reply": "2023-07-19T17:58:30.472988Z",
     "shell.execute_reply.started": "2023-07-19T17:58:30.472975Z"
    },
    "tags": []
   },
   "outputs": [],
   "source": [
    "# file = 'news_content_2020-01.csv'"
   ]
  },
  {
   "cell_type": "code",
   "execution_count": null,
   "id": "69329ef1-a4b9-4524-aa5f-cf3fd1ab9920",
   "metadata": {
    "execution": {
     "iopub.status.busy": "2023-07-19T17:58:30.474534Z",
     "iopub.status.idle": "2023-07-19T17:58:30.474863Z",
     "shell.execute_reply": "2023-07-19T17:58:30.474741Z",
     "shell.execute_reply.started": "2023-07-19T17:58:30.474728Z"
    },
    "tags": []
   },
   "outputs": [],
   "source": [
    "# df = pd.read_csv(f\"./news/{file}\", low_memory=False)\n",
    "# df"
   ]
  },
  {
   "cell_type": "code",
   "execution_count": null,
   "id": "da3300c4-4d69-4964-bb1b-0b5e9878ac18",
   "metadata": {
    "execution": {
     "iopub.status.busy": "2023-07-19T17:58:30.476680Z",
     "iopub.status.idle": "2023-07-19T17:58:30.477219Z",
     "shell.execute_reply": "2023-07-19T17:58:30.477009Z",
     "shell.execute_reply.started": "2023-07-19T17:58:30.476987Z"
    },
    "tags": []
   },
   "outputs": [],
   "source": [
    "# df.info()"
   ]
  },
  {
   "cell_type": "code",
   "execution_count": null,
   "id": "367342df-9470-4216-a8cd-fdeaa7705498",
   "metadata": {
    "execution": {
     "iopub.status.busy": "2023-07-19T17:58:30.481179Z",
     "iopub.status.idle": "2023-07-19T17:58:30.482564Z",
     "shell.execute_reply": "2023-07-19T17:58:30.482035Z",
     "shell.execute_reply.started": "2023-07-19T17:58:30.481978Z"
    },
    "tags": []
   },
   "outputs": [],
   "source": [
    "# df = df.loc[df[\"content\"].dropna().index, :]"
   ]
  },
  {
   "cell_type": "code",
   "execution_count": null,
   "id": "d31cf881-0552-457e-968c-1780aaa927f1",
   "metadata": {
    "execution": {
     "iopub.status.busy": "2023-07-19T17:58:30.484921Z",
     "iopub.status.idle": "2023-07-19T17:58:30.485333Z",
     "shell.execute_reply": "2023-07-19T17:58:30.485161Z",
     "shell.execute_reply.started": "2023-07-19T17:58:30.485145Z"
    },
    "tags": []
   },
   "outputs": [],
   "source": [
    "# rows = []  # count한 series 저장\n",
    "# words = []  # count할 단어들 저장\n",
    "\n",
    "# for word in keywords_1:\n",
    "#     word_count = df.set_index(\"news_id\")[\"content\"].str.count(word)\n",
    "#     rows.append(word_count)\n",
    "#     words.append(word)\n",
    "\n",
    "# for word in keywords_2:\n",
    "#     word_count = df.set_index(\"news_id\")[\"content\"].str.count(word)\n",
    "#     rows.append(word_count)\n",
    "#     words.append(word)"
   ]
  },
  {
   "cell_type": "code",
   "execution_count": null,
   "id": "7ae0f69e-24a3-414b-9c6b-6b9dfc052c8e",
   "metadata": {
    "execution": {
     "iopub.status.busy": "2023-07-19T17:58:30.487197Z",
     "iopub.status.idle": "2023-07-19T17:58:30.487520Z",
     "shell.execute_reply": "2023-07-19T17:58:30.487390Z",
     "shell.execute_reply.started": "2023-07-19T17:58:30.487376Z"
    },
    "tags": []
   },
   "outputs": [],
   "source": [
    "# word_count 한걸 데이터프레임으로 변경 후, 1개 이상 등장한 데이터만 남기기\n",
    "# temp = pd.concat(rows, axis=1)\n",
    "# temp.columns = words\n",
    "# temp = temp.loc[temp.sum(axis=1) >= 1, :].copy()\n",
    "\n",
    "# 뉴스 기사와 데이터를 merge하고, sid2, date, content 컬럼만 합칠때 남기기\n",
    "# temp = pd.merge(temp, df.set_index(\"news_id\"), left_index=True, right_index=True)\n",
    "# temp = temp.drop([\"sid1\", \"page_url\", \"press\", \"title\", \"input_date\"], axis=1)\n",
    "# temp"
   ]
  },
  {
   "cell_type": "code",
   "execution_count": null,
   "id": "e3b6b517-6d06-4646-aabe-260471693a0c",
   "metadata": {
    "execution": {
     "iopub.status.busy": "2023-07-19T17:58:30.488712Z",
     "iopub.status.idle": "2023-07-19T17:58:30.489011Z",
     "shell.execute_reply": "2023-07-19T17:58:30.488888Z",
     "shell.execute_reply.started": "2023-07-19T17:58:30.488875Z"
    },
    "tags": []
   },
   "outputs": [],
   "source": [
    "# pd.concat([old, temp])"
   ]
  },
  {
   "cell_type": "code",
   "execution_count": null,
   "id": "4e731748-2ba8-492c-b83f-ec1a56b18637",
   "metadata": {
    "execution": {
     "iopub.status.busy": "2023-07-19T17:58:30.490951Z",
     "iopub.status.idle": "2023-07-19T17:58:30.491252Z",
     "shell.execute_reply": "2023-07-19T17:58:30.491128Z",
     "shell.execute_reply.started": "2023-07-19T17:58:30.491115Z"
    },
    "tags": []
   },
   "outputs": [],
   "source": [
    "# df.loc[df[\"sid2\"] == 260, :]"
   ]
  },
  {
   "cell_type": "code",
   "execution_count": null,
   "id": "784f811c-ee7a-43fe-93b7-1e760d486d27",
   "metadata": {},
   "outputs": [],
   "source": []
  },
  {
   "cell_type": "code",
   "execution_count": 9,
   "id": "d232259e-787f-4d48-8202-cc3b84e0e51e",
   "metadata": {
    "execution": {
     "iopub.execute_input": "2023-07-20T06:46:30.185483Z",
     "iopub.status.busy": "2023-07-20T06:46:30.182808Z",
     "iopub.status.idle": "2023-07-20T06:46:30.202262Z",
     "shell.execute_reply": "2023-07-20T06:46:30.198539Z",
     "shell.execute_reply.started": "2023-07-20T06:46:30.185406Z"
    },
    "tags": []
   },
   "outputs": [],
   "source": [
    "# 필터한 뉴스 데이터 중 기사 제외하고 불러오기\n",
    "files = os.listdir(\"./news_sdc\")"
   ]
  },
  {
   "cell_type": "code",
   "execution_count": 11,
   "id": "4c28d8a8-5172-4f02-adbb-0e608b36dc63",
   "metadata": {
    "execution": {
     "iopub.execute_input": "2023-07-20T06:49:03.708398Z",
     "iopub.status.busy": "2023-07-20T06:49:03.706132Z",
     "iopub.status.idle": "2023-07-20T06:51:24.535678Z",
     "shell.execute_reply": "2023-07-20T06:51:24.531613Z",
     "shell.execute_reply.started": "2023-07-20T06:49:03.708320Z"
    },
    "tags": []
   },
   "outputs": [
    {
     "name": "stderr",
     "output_type": "stream",
     "text": [
      "100%|██████████| 7/7 [02:20<00:00, 20.11s/it]\n"
     ]
    }
   ],
   "source": [
    "dfs = []\n",
    "for file in tqdm(files):\n",
    "    df = pd.read_csv(f\"./news_sdc/{file}\")\n",
    "    df = df.drop(\"content\", axis=1).copy()\n",
    "    dfs.append(df)"
   ]
  },
  {
   "cell_type": "code",
   "execution_count": 13,
   "id": "f54805de-2afb-419e-ba99-42ff17acd6a7",
   "metadata": {
    "execution": {
     "iopub.execute_input": "2023-07-20T06:52:40.864455Z",
     "iopub.status.busy": "2023-07-20T06:52:40.863458Z",
     "iopub.status.idle": "2023-07-20T06:52:45.838589Z",
     "shell.execute_reply": "2023-07-20T06:52:45.835784Z",
     "shell.execute_reply.started": "2023-07-20T06:52:40.864416Z"
    },
    "tags": []
   },
   "outputs": [],
   "source": [
    "merged = pd.concat(dfs)\n",
    "merged.to_csv(\"filtered_news_lists.csv\", index=False)"
   ]
  },
  {
   "cell_type": "code",
   "execution_count": 14,
   "id": "9f5216a6-6373-4400-88f0-2c0e88061774",
   "metadata": {
    "execution": {
     "iopub.execute_input": "2023-07-20T06:54:12.664606Z",
     "iopub.status.busy": "2023-07-20T06:54:12.664232Z",
     "iopub.status.idle": "2023-07-20T06:54:12.680711Z",
     "shell.execute_reply": "2023-07-20T06:54:12.678317Z",
     "shell.execute_reply.started": "2023-07-20T06:54:12.664583Z"
    },
    "tags": []
   },
   "outputs": [
    {
     "data": {
      "text/html": [
       "<div>\n",
       "<style scoped>\n",
       "    .dataframe tbody tr th:only-of-type {\n",
       "        vertical-align: middle;\n",
       "    }\n",
       "\n",
       "    .dataframe tbody tr th {\n",
       "        vertical-align: top;\n",
       "    }\n",
       "\n",
       "    .dataframe thead th {\n",
       "        text-align: right;\n",
       "    }\n",
       "</style>\n",
       "<table border=\"1\" class=\"dataframe\">\n",
       "  <thead>\n",
       "    <tr style=\"text-align: right;\">\n",
       "      <th></th>\n",
       "      <th>news_id</th>\n",
       "      <th>부동산</th>\n",
       "      <th>건설</th>\n",
       "      <th>sid2</th>\n",
       "      <th>date</th>\n",
       "      <th>length</th>\n",
       "    </tr>\n",
       "  </thead>\n",
       "  <tbody>\n",
       "    <tr>\n",
       "      <th>0</th>\n",
       "      <td>7058112</td>\n",
       "      <td>0</td>\n",
       "      <td>1</td>\n",
       "      <td>259</td>\n",
       "      <td>20170101</td>\n",
       "      <td>939</td>\n",
       "    </tr>\n",
       "    <tr>\n",
       "      <th>1</th>\n",
       "      <td>7058113</td>\n",
       "      <td>2</td>\n",
       "      <td>0</td>\n",
       "      <td>259</td>\n",
       "      <td>20170101</td>\n",
       "      <td>1951</td>\n",
       "    </tr>\n",
       "    <tr>\n",
       "      <th>2</th>\n",
       "      <td>7058139</td>\n",
       "      <td>1</td>\n",
       "      <td>0</td>\n",
       "      <td>259</td>\n",
       "      <td>20170101</td>\n",
       "      <td>1176</td>\n",
       "    </tr>\n",
       "    <tr>\n",
       "      <th>3</th>\n",
       "      <td>7058152</td>\n",
       "      <td>1</td>\n",
       "      <td>0</td>\n",
       "      <td>259</td>\n",
       "      <td>20170101</td>\n",
       "      <td>1520</td>\n",
       "    </tr>\n",
       "    <tr>\n",
       "      <th>4</th>\n",
       "      <td>7058167</td>\n",
       "      <td>1</td>\n",
       "      <td>0</td>\n",
       "      <td>259</td>\n",
       "      <td>20170101</td>\n",
       "      <td>2206</td>\n",
       "    </tr>\n",
       "    <tr>\n",
       "      <th>...</th>\n",
       "      <td>...</td>\n",
       "      <td>...</td>\n",
       "      <td>...</td>\n",
       "      <td>...</td>\n",
       "      <td>...</td>\n",
       "      <td>...</td>\n",
       "    </tr>\n",
       "    <tr>\n",
       "      <th>98288</th>\n",
       "      <td>14062168</td>\n",
       "      <td>0</td>\n",
       "      <td>1</td>\n",
       "      <td>263</td>\n",
       "      <td>20230531</td>\n",
       "      <td>1146</td>\n",
       "    </tr>\n",
       "    <tr>\n",
       "      <th>98289</th>\n",
       "      <td>14062170</td>\n",
       "      <td>2</td>\n",
       "      <td>0</td>\n",
       "      <td>263</td>\n",
       "      <td>20230531</td>\n",
       "      <td>2140</td>\n",
       "    </tr>\n",
       "    <tr>\n",
       "      <th>98290</th>\n",
       "      <td>14062174</td>\n",
       "      <td>0</td>\n",
       "      <td>4</td>\n",
       "      <td>263</td>\n",
       "      <td>20230531</td>\n",
       "      <td>713</td>\n",
       "    </tr>\n",
       "    <tr>\n",
       "      <th>98291</th>\n",
       "      <td>14062175</td>\n",
       "      <td>4</td>\n",
       "      <td>0</td>\n",
       "      <td>263</td>\n",
       "      <td>20230531</td>\n",
       "      <td>1302</td>\n",
       "    </tr>\n",
       "    <tr>\n",
       "      <th>98292</th>\n",
       "      <td>14062193</td>\n",
       "      <td>0</td>\n",
       "      <td>2</td>\n",
       "      <td>263</td>\n",
       "      <td>20230531</td>\n",
       "      <td>483</td>\n",
       "    </tr>\n",
       "  </tbody>\n",
       "</table>\n",
       "<p>1558183 rows × 6 columns</p>\n",
       "</div>"
      ],
      "text/plain": [
       "        news_id  부동산  건설  sid2      date  length\n",
       "0       7058112    0   1   259  20170101     939\n",
       "1       7058113    2   0   259  20170101    1951\n",
       "2       7058139    1   0   259  20170101    1176\n",
       "3       7058152    1   0   259  20170101    1520\n",
       "4       7058167    1   0   259  20170101    2206\n",
       "...         ...  ...  ..   ...       ...     ...\n",
       "98288  14062168    0   1   263  20230531    1146\n",
       "98289  14062170    2   0   263  20230531    2140\n",
       "98290  14062174    0   4   263  20230531     713\n",
       "98291  14062175    4   0   263  20230531    1302\n",
       "98292  14062193    0   2   263  20230531     483\n",
       "\n",
       "[1558183 rows x 6 columns]"
      ]
     },
     "execution_count": 14,
     "metadata": {},
     "output_type": "execute_result"
    }
   ],
   "source": [
    "merged"
   ]
  },
  {
   "cell_type": "code",
   "execution_count": 15,
   "id": "3aaa008f-e316-43d2-89ab-83c7ce736d06",
   "metadata": {
    "execution": {
     "iopub.execute_input": "2023-07-20T06:56:18.520941Z",
     "iopub.status.busy": "2023-07-20T06:56:18.519085Z",
     "iopub.status.idle": "2023-07-20T06:56:19.443856Z",
     "shell.execute_reply": "2023-07-20T06:56:19.442472Z",
     "shell.execute_reply.started": "2023-07-20T06:56:18.520870Z"
    },
    "tags": []
   },
   "outputs": [],
   "source": [
    "temp = merged.copy()\n",
    "temp = temp.loc[temp[\"length\"] >= 2000, :]\n",
    "temp.to_csv(\"filtered_news_lists_2000.csv\", index=False)"
   ]
  },
  {
   "cell_type": "code",
   "execution_count": 16,
   "id": "29eb57d9-40eb-45f8-9861-3aebbb1e29f7",
   "metadata": {
    "execution": {
     "iopub.execute_input": "2023-07-20T06:56:23.926981Z",
     "iopub.status.busy": "2023-07-20T06:56:23.924715Z",
     "iopub.status.idle": "2023-07-20T06:56:23.958377Z",
     "shell.execute_reply": "2023-07-20T06:56:23.955597Z",
     "shell.execute_reply.started": "2023-07-20T06:56:23.926897Z"
    },
    "tags": []
   },
   "outputs": [
    {
     "data": {
      "text/html": [
       "<div>\n",
       "<style scoped>\n",
       "    .dataframe tbody tr th:only-of-type {\n",
       "        vertical-align: middle;\n",
       "    }\n",
       "\n",
       "    .dataframe tbody tr th {\n",
       "        vertical-align: top;\n",
       "    }\n",
       "\n",
       "    .dataframe thead th {\n",
       "        text-align: right;\n",
       "    }\n",
       "</style>\n",
       "<table border=\"1\" class=\"dataframe\">\n",
       "  <thead>\n",
       "    <tr style=\"text-align: right;\">\n",
       "      <th></th>\n",
       "      <th>news_id</th>\n",
       "      <th>부동산</th>\n",
       "      <th>건설</th>\n",
       "      <th>sid2</th>\n",
       "      <th>date</th>\n",
       "      <th>length</th>\n",
       "    </tr>\n",
       "  </thead>\n",
       "  <tbody>\n",
       "    <tr>\n",
       "      <th>4</th>\n",
       "      <td>7058167</td>\n",
       "      <td>1</td>\n",
       "      <td>0</td>\n",
       "      <td>259</td>\n",
       "      <td>20170101</td>\n",
       "      <td>2206</td>\n",
       "    </tr>\n",
       "    <tr>\n",
       "      <th>7</th>\n",
       "      <td>7058186</td>\n",
       "      <td>1</td>\n",
       "      <td>0</td>\n",
       "      <td>259</td>\n",
       "      <td>20170101</td>\n",
       "      <td>4009</td>\n",
       "    </tr>\n",
       "    <tr>\n",
       "      <th>19</th>\n",
       "      <td>7058237</td>\n",
       "      <td>4</td>\n",
       "      <td>0</td>\n",
       "      <td>259</td>\n",
       "      <td>20170101</td>\n",
       "      <td>2943</td>\n",
       "    </tr>\n",
       "    <tr>\n",
       "      <th>23</th>\n",
       "      <td>7058273</td>\n",
       "      <td>2</td>\n",
       "      <td>0</td>\n",
       "      <td>259</td>\n",
       "      <td>20170101</td>\n",
       "      <td>2104</td>\n",
       "    </tr>\n",
       "    <tr>\n",
       "      <th>24</th>\n",
       "      <td>7058297</td>\n",
       "      <td>4</td>\n",
       "      <td>10</td>\n",
       "      <td>259</td>\n",
       "      <td>20170101</td>\n",
       "      <td>2062</td>\n",
       "    </tr>\n",
       "    <tr>\n",
       "      <th>...</th>\n",
       "      <td>...</td>\n",
       "      <td>...</td>\n",
       "      <td>...</td>\n",
       "      <td>...</td>\n",
       "      <td>...</td>\n",
       "      <td>...</td>\n",
       "    </tr>\n",
       "    <tr>\n",
       "      <th>98260</th>\n",
       "      <td>14061942</td>\n",
       "      <td>0</td>\n",
       "      <td>1</td>\n",
       "      <td>263</td>\n",
       "      <td>20230531</td>\n",
       "      <td>2153</td>\n",
       "    </tr>\n",
       "    <tr>\n",
       "      <th>98261</th>\n",
       "      <td>14061952</td>\n",
       "      <td>12</td>\n",
       "      <td>1</td>\n",
       "      <td>263</td>\n",
       "      <td>20230531</td>\n",
       "      <td>3345</td>\n",
       "    </tr>\n",
       "    <tr>\n",
       "      <th>98273</th>\n",
       "      <td>14062032</td>\n",
       "      <td>7</td>\n",
       "      <td>5</td>\n",
       "      <td>263</td>\n",
       "      <td>20230531</td>\n",
       "      <td>2411</td>\n",
       "    </tr>\n",
       "    <tr>\n",
       "      <th>98275</th>\n",
       "      <td>14062065</td>\n",
       "      <td>2</td>\n",
       "      <td>0</td>\n",
       "      <td>263</td>\n",
       "      <td>20230531</td>\n",
       "      <td>2276</td>\n",
       "    </tr>\n",
       "    <tr>\n",
       "      <th>98289</th>\n",
       "      <td>14062170</td>\n",
       "      <td>2</td>\n",
       "      <td>0</td>\n",
       "      <td>263</td>\n",
       "      <td>20230531</td>\n",
       "      <td>2140</td>\n",
       "    </tr>\n",
       "  </tbody>\n",
       "</table>\n",
       "<p>253187 rows × 6 columns</p>\n",
       "</div>"
      ],
      "text/plain": [
       "        news_id  부동산  건설  sid2      date  length\n",
       "4       7058167    1   0   259  20170101    2206\n",
       "7       7058186    1   0   259  20170101    4009\n",
       "19      7058237    4   0   259  20170101    2943\n",
       "23      7058273    2   0   259  20170101    2104\n",
       "24      7058297    4  10   259  20170101    2062\n",
       "...         ...  ...  ..   ...       ...     ...\n",
       "98260  14061942    0   1   263  20230531    2153\n",
       "98261  14061952   12   1   263  20230531    3345\n",
       "98273  14062032    7   5   263  20230531    2411\n",
       "98275  14062065    2   0   263  20230531    2276\n",
       "98289  14062170    2   0   263  20230531    2140\n",
       "\n",
       "[253187 rows x 6 columns]"
      ]
     },
     "execution_count": 16,
     "metadata": {},
     "output_type": "execute_result"
    }
   ],
   "source": [
    "temp"
   ]
  },
  {
   "cell_type": "code",
   "execution_count": 32,
   "id": "5a9bb8f0-3e87-44a5-abb9-b1b137b0e163",
   "metadata": {
    "execution": {
     "iopub.execute_input": "2023-07-20T07:07:23.415793Z",
     "iopub.status.busy": "2023-07-20T07:07:23.414955Z",
     "iopub.status.idle": "2023-07-20T07:07:24.872298Z",
     "shell.execute_reply": "2023-07-20T07:07:24.870436Z",
     "shell.execute_reply.started": "2023-07-20T07:07:23.415749Z"
    },
    "tags": []
   },
   "outputs": [
    {
     "data": {
      "text/plain": [
       "<Axes: xlabel='ym'>"
      ]
     },
     "execution_count": 32,
     "metadata": {},
     "output_type": "execute_result"
    },
    {
     "name": "stderr",
     "output_type": "stream",
     "text": [
      "/usr/local/lib/python3.10/dist-packages/IPython/core/events.py:89: UserWarning: Glyph 48512 (\\N{HANGUL SYLLABLE BU}) missing from current font.\n",
      "  func(*args, **kwargs)\n",
      "/usr/local/lib/python3.10/dist-packages/IPython/core/events.py:89: UserWarning: Glyph 46041 (\\N{HANGUL SYLLABLE DONG}) missing from current font.\n",
      "  func(*args, **kwargs)\n",
      "/usr/local/lib/python3.10/dist-packages/IPython/core/events.py:89: UserWarning: Glyph 49328 (\\N{HANGUL SYLLABLE SAN}) missing from current font.\n",
      "  func(*args, **kwargs)\n",
      "/usr/local/lib/python3.10/dist-packages/IPython/core/events.py:89: UserWarning: Glyph 44148 (\\N{HANGUL SYLLABLE GEON}) missing from current font.\n",
      "  func(*args, **kwargs)\n",
      "/usr/local/lib/python3.10/dist-packages/IPython/core/events.py:89: UserWarning: Glyph 49444 (\\N{HANGUL SYLLABLE SEOL}) missing from current font.\n",
      "  func(*args, **kwargs)\n",
      "/usr/local/lib/python3.10/dist-packages/IPython/core/pylabtools.py:152: UserWarning: Glyph 48512 (\\N{HANGUL SYLLABLE BU}) missing from current font.\n",
      "  fig.canvas.print_figure(bytes_io, **kw)\n",
      "/usr/local/lib/python3.10/dist-packages/IPython/core/pylabtools.py:152: UserWarning: Glyph 46041 (\\N{HANGUL SYLLABLE DONG}) missing from current font.\n",
      "  fig.canvas.print_figure(bytes_io, **kw)\n",
      "/usr/local/lib/python3.10/dist-packages/IPython/core/pylabtools.py:152: UserWarning: Glyph 49328 (\\N{HANGUL SYLLABLE SAN}) missing from current font.\n",
      "  fig.canvas.print_figure(bytes_io, **kw)\n",
      "/usr/local/lib/python3.10/dist-packages/IPython/core/pylabtools.py:152: UserWarning: Glyph 44148 (\\N{HANGUL SYLLABLE GEON}) missing from current font.\n",
      "  fig.canvas.print_figure(bytes_io, **kw)\n",
      "/usr/local/lib/python3.10/dist-packages/IPython/core/pylabtools.py:152: UserWarning: Glyph 49444 (\\N{HANGUL SYLLABLE SEOL}) missing from current font.\n",
      "  fig.canvas.print_figure(bytes_io, **kw)\n"
     ]
    },
    {
     "data": {
      "image/png": "[encoded data removed]",
      "text/plain": [
       "<Figure size 1000x500 with 1 Axes>"
      ]
     },
     "metadata": {},
     "output_type": "display_data"
    }
   ],
   "source": [
    "temp[\"ym\"] = temp[\"date\"].astype(str).str[:6]\n",
    "grp = temp.groupby(\"ym\")\n",
    "grp[[\"부동산\", \"건설\"]].sum().plot.bar(figsize=(10, 5), width=1, alpha=0.8)"
   ]
  },
  {
   "cell_type": "code",
   "execution_count": 26,
   "id": "9927d0ff-24c8-46bb-bde1-d766fa59e413",
   "metadata": {
    "execution": {
     "iopub.execute_input": "2023-07-20T07:00:41.264853Z",
     "iopub.status.busy": "2023-07-20T07:00:41.264401Z",
     "iopub.status.idle": "2023-07-20T07:00:42.117966Z",
     "shell.execute_reply": "2023-07-20T07:00:42.116220Z",
     "shell.execute_reply.started": "2023-07-20T07:00:41.264824Z"
    },
    "tags": []
   },
   "outputs": [
    {
     "data": {
      "text/plain": [
       "<Axes: xlabel='ym'>"
      ]
     },
     "execution_count": 26,
     "metadata": {},
     "output_type": "execute_result"
    },
    {
     "data": {
      "image/png": "[encoded data removed]",
      "text/plain": [
       "<Figure size 640x480 with 1 Axes>"
      ]
     },
     "metadata": {},
     "output_type": "display_data"
    }
   ],
   "source": [
    "grp[\"news_id\"].count().plot.bar()"
   ]
  },
  {
   "cell_type": "code",
   "execution_count": null,
   "id": "4756f400-cc74-4728-9659-09ff4c9e2d92",
   "metadata": {},
   "outputs": [],
   "source": []
  }
 ],
 "metadata": {
  "kernelspec": {
   "display_name": "Python 3 (ipykernel)",
   "language": "python",
   "name": "python3"
  },
  "language_info": {
   "codemirror_mode": {
    "name": "ipython",
    "version": 3
   },
   "file_extension": ".py",
   "mimetype": "text/x-python",
   "name": "python",
   "nbconvert_exporter": "python",
   "pygments_lexer": "ipython3",
   "version": "3.10.6"
  }
 },
 "nbformat": 4,
 "nbformat_minor": 5
}
