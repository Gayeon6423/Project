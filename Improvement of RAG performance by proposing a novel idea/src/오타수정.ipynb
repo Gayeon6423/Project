{
 "cells": [
  {
   "cell_type": "code",
   "execution_count": null,
   "metadata": {},
   "outputs": [],
   "source": [
    "import spacy\n",
    "from symspellpy import SymSpell\n",
    "\n",
    "# Initialize SymSpell\n",
    "sym_spell = SymSpell(max_dictionary_edit_distance=3, prefix_length=7)\n",
    "\n",
    "# Load the standard dictionary\n",
    "sym_spell.load_dictionary(\"./frequency_dictionary_en_82_765.txt\", term_index=0, count_index=1)\n",
    "nlp = spacy.load(\"en_core_web_md\")\n",
    "\n",
    "def correct_spelling(text):\n",
    "    suggestions = sym_spell.lookup_compound(text, max_edit_distance=3)\n",
    "    return suggestions[0].term if suggestions else text\n",
    "\n",
    "def is_word_in_dictionary(word):\n",
    "    return word in sym_spell.words\n",
    "\n",
    "def correct_proper_noun(proper_nouns):\n",
    "    proper_noun = correct_spelling(proper_nouns)\n",
    "    if is_word_in_dictionary(proper_noun):\n",
    "        return proper_noun\n",
    "    sym_spell.create_dictionary_entry(proper_nouns, 1)\n",
    "    return proper_nouns\n",
    "\n",
    "# 텍스트를 NER 형태로 변환하는 함수\n",
    "def convert_to_ner_format(text):\n",
    "    doc = nlp(text)\n",
    "    ner_formatted_text = \"\"\n",
    "    last_end = 0\n",
    "\n",
    "    for ent in doc.ents:\n",
    "        # 엔터티 전까지의 일반 텍스트 추가\n",
    "        ner_formatted_text += correct_spelling(text[last_end:ent.start_char]) + ' '\n",
    "        # 엔터티와 그 태그 추가\n",
    "        ner_formatted_text += correct_proper_noun(ent.text) + ' '\n",
    "        last_end = ent.end_char\n",
    "\n",
    "    # 마지막 엔터티 이후의 일반 텍스트 추가\n",
    "    ner_formatted_text += correct_spelling(text[last_end:])\n",
    "    if len(ner_formatted_text)==0:\n",
    "        ner_formatted_text = text\n",
    "    elif ner_formatted_text[-1]==' ':\n",
    "        ner_formatted_text = ner_formatted_text[:-1] + '.\\n'\n",
    "    return ner_formatted_text\n",
    "\n",
    "# 오타를 수정하는 함수\n",
    "def correct_spelling(text):\n",
    "    suggestions = sym_spell.lookup_compound(text, max_edit_distance=3)\n",
    "    return suggestions[0].term if suggestions else text"
   ]
  }
 ],
 "metadata": {
  "kernelspec": {
   "display_name": "nlp_proj",
   "language": "python",
   "name": "python3"
  },
  "language_info": {
   "codemirror_mode": {
    "name": "ipython",
    "version": 3
   },
   "file_extension": ".py",
   "mimetype": "text/x-python",
   "name": "python",
   "nbconvert_exporter": "python",
   "pygments_lexer": "ipython3",
   "version": "3.9.19"
  }
 },
 "nbformat": 4,
 "nbformat_minor": 2
}
