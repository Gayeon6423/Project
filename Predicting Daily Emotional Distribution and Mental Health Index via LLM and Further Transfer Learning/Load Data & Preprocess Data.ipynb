{
 "cells": [
  {
   "cell_type": "markdown",
   "metadata": {},
   "source": [
    "### Configuration"
   ]
  },
  {
   "cell_type": "code",
   "execution_count": 1,
   "metadata": {},
   "outputs": [],
   "source": [
    "import os\n",
    "os.environ[\"CUDA_DEVICE_ORDER\"]=\"PCI_BUS_ID\"   \n",
    "os.environ[\"CUDA_VISIBLE_DEVICES\"]=\"0,1,2,3\"\n",
    "\n",
    "import pandas as pd\n",
    "import json\n",
    "from pathlib import Path\n",
    "import matplotlib.pyplot as plt\n",
    "import seaborn as sns\n",
    "import re\n",
    "from tqdm import tqdm\n",
    "from konlpy.tag import Okt\n",
    "okt = Okt()\n",
    "\n",
    "MASTER_SEED = 42\n",
    "TEST_RATIO = 0.1 \n",
    "SENTIMENT_DATA_DIR = '../data/sentiment/trainset/'\n",
    "YOUTUBE_DATA_DIR = Path(\"../data/youtube_comments_by_10_day_50\")\n",
    "TRAINSETS = (\n",
    "    'korean_sentiment_conversation_train', # 0 # 감성대화말뭉치\n",
    "    'korean_sentiment_conversation_val', # 1 # 감성대화말뭉치\n",
    "    'korean_emotion_audio_1', # 2 # 음성데이터셋\n",
    "    'korean_emotion_audio_2', # 3 # 음성데이터셋\n",
    "    'korean_emotion_audio_3', # 4 # 음성데이터셋\n",
    ")\n",
    "EMOTIONS = {'행복':'happy','분노':'angry','슬픔':'sad','중립':'neutral'}"
   ]
  },
  {
   "cell_type": "markdown",
   "metadata": {},
   "source": [
    "### Preprocess Data"
   ]
  },
  {
   "cell_type": "code",
   "execution_count": 2,
   "metadata": {},
   "outputs": [],
   "source": [
    "def preprocess_conversation_df(df1,df2):\n",
    "    df = pd.concat([df1,df2])\n",
    "    df.fillna(\"\",inplace=True)\n",
    "    df['Sentence'] = df['사람문장1'] + ' ' + df['사람문장2'] + ' ' + df['사람문장3']\n",
    "    df = pd.DataFrame(df.iloc[:,[5, 13]]).replace({'기쁨':'행복'}, regex=True)\n",
    "    df.rename(columns={'감정_대분류':'labels'}, inplace=True)\n",
    "    df = df.reset_index(drop=True)\n",
    "    return df\n",
    "\n",
    "def preprocess_emotion_audio_df(df1,df2,df3):\n",
    "    df = pd.concat([df1,df2,df3])\n",
    "    df_annotations = df.loc[:,'1번 감정':'5번 감정세기'].replace(0, 1) # 0 is neutral\n",
    "    # 가장 많이 투표된 감정 선택하여 새로운 열에 추가\n",
    "    def max_voted(row:pd.Series)->str:\n",
    "        poll = {} # 감정에 대한 투표 결과 저장\n",
    "        for i in range(5): # 5개 감정과 감정 세기 처리\n",
    "            emo = row[i*2] # i번째 감정 칼럼의 값\n",
    "            if emo in poll: # 현재 감정이 poll에 있는지\n",
    "                poll[emo] += row[i*2+1] # 존재하면 투표 결과 추가\n",
    "            else: \n",
    "                poll[emo] = row[i*2 + 1] # 처음 나오면 새로운 투표 결과 추가\n",
    "        return max(poll.keys(), key=lambda x:poll[x]).lower() # 투표수 많은 감정 반환\n",
    "    elected = [] # 가장 많이 선택된 감정 저장\n",
    "    for r,v in df_annotations.iterrows():\n",
    "        elected.append(max_voted(v))\n",
    "    df['labels'] = elected\n",
    "    df = df.drop(columns=df.columns[2:15]).drop(columns='wav_id')\n",
    "    emotions= {'fear':'공포', 'surprise':'놀람', 'angry':'분노', 'sadness':'슬픔', 'neutral':'중립', 'happiness':'행복', 'disgust':'혐오'}\n",
    "    df = df.replace(emotions, regex=True).rename(columns={'발화문':'Sentence'}).reset_index(drop=True)\n",
    "    return df\n",
    "\n",
    "def preprocess_old_df(df):\n",
    "    df = df.where(pd.notnull(df), \"\")\n",
    "    df = df[(df['감정_대분류'] == '기쁨') | (df['감정_대분류'] == '분노') | (df['감정_대분류'] == '슬픔')]\n",
    "    df = df.loc[:,['감정_대분류','사람문장1','사람문장2','사람문장3','사람문장4']].rename(columns={'감정_대분류':'labels'})\n",
    "    df['Sentence'] = df['사람문장1'].astype(str) + ' ' + df['사람문장2'].astype(str) + ' ' + df['사람문장3'].astype(str) + ' ' + df['사람문장4'].astype(str)\n",
    "    df = df.drop(columns=df.columns[range(1, 5)]).replace({'기쁨':'행복'}, regex=True).reset_index(drop=True)\n",
    "    return df\n",
    "\n",
    "def preprocess_conversation_v2_df(df1,df2):\n",
    "    df = pd.concat([df1,df2])\n",
    "    df.fillna(\"\",inplace=True)\n",
    "    df['Sentence'] = df['사람문장1'] + ' ' + df['사람문장2'] + ' ' + df['사람문장3']\n",
    "    df = df[ ~df['감정_대분류'].isin(('불안', '당황', '상처')) ]\n",
    "    df = pd.DataFrame(df.iloc[:,[5, 13]]).replace({'기쁨':'행복'}, regex=True)\n",
    "    df.rename(columns={'감정_대분류':'labels'}, inplace=True)\n",
    "    df = df.reset_index(drop=True)\n",
    "    return df\n",
    "\n",
    "def preprocess_emotion_audio_v2_df(df1,df2,df3):\n",
    "    df = pd.concat([df1,df2,df3])\n",
    "    df_annotations = df.loc[:,'1번 감정':'5번 감정세기'].replace(0, 1) \n",
    "    def max_voted(row:pd.Series)->str:\n",
    "        poll = {} \n",
    "        for i in range(5): \n",
    "            emo = row[i*2] \n",
    "            if emo in poll: \n",
    "                poll[emo] += row[i*2+1] \n",
    "            else: \n",
    "                poll[emo] = row[i*2 + 1] \n",
    "        return max(poll.keys(), key=lambda x:poll[x]).lower() \n",
    "    elected = [] \n",
    "    for r,v in df_annotations.iterrows():\n",
    "        elected.append(max_voted(v))\n",
    "    df['labels'] = elected\n",
    "    df = df.drop(columns=df.columns[2:15]).drop(columns='wav_id')\n",
    "    emotions= {'fear':'공포', 'surprise':'놀람', 'angry':'분노', 'sadness':'슬픔', 'neutral':'중립', 'happiness':'행복', 'disgust':'혐오'}\n",
    "    df = df.replace(emotions, regex=True).rename(columns={'발화문':'Sentence'}).reset_index(drop=True)\n",
    "    df = df[df['labels']=='중립']\n",
    "    return df\n",
    "\n",
    "def convert_json_to_df(TEST_DATA_DIR):\n",
    "    total = 0\n",
    "    id, pub, chid, vdate, vid, vtitle, text, like = [], [], [], [], [], [], [], []\n",
    "    for year_dir in TEST_DATA_DIR.iterdir():\n",
    "        for mon_dir in year_dir.iterdir():\n",
    "            for day_dir in mon_dir.iterdir():\n",
    "                for js in day_dir.iterdir():\n",
    "                    with open(js, 'r', encoding='utf8') as f:\n",
    "                        data = json.load(f)\n",
    "                    for cmt in data[1:]:\n",
    "                        id.append(cmt['snippet']['topLevelComment']['id'])\n",
    "                        pub.append(cmt['snippet']['topLevelComment']['snippet']['publishedAt'])\n",
    "                        chid.append(cmt['snippet']['channelId'])\n",
    "                        vdate.append(data[0]['date'])\n",
    "                        vid.append(cmt['snippet']['videoId'])\n",
    "                        vtitle.append(js.name.removesuffix(\".json\"))\n",
    "                        text.append(cmt['snippet']['topLevelComment']['snippet']['textOriginal'])\n",
    "                        like.append(cmt['snippet']['topLevelComment']['snippet']['likeCount'])\n",
    "                    total += len(data) - 1\n",
    "    df = pd.DataFrame({'publishedAt' : pub,'channelId': chid,'videoDate': vdate,'videoId': vid,'videoTitle': vtitle,'text': text,'like': like,}, id)\n",
    "    return df"
   ]
  },
  {
   "cell_type": "markdown",
   "metadata": {},
   "source": [
    "- Preprocess Sentiment Data"
   ]
  },
  {
   "cell_type": "code",
   "execution_count": 5,
   "metadata": {},
   "outputs": [
    {
     "data": {
      "text/plain": [
       "분노    10417\n",
       "슬픔    10128\n",
       "중립     7421\n",
       "행복     7339\n",
       "Name: labels, dtype: int64"
      ]
     },
     "execution_count": 5,
     "metadata": {},
     "output_type": "execute_result"
    }
   ],
   "source": [
    "# process data\n",
    "train_dfs = [pd.read_csv(SENTIMENT_DATA_DIR + trainset + '.csv') for trainset in TRAINSETS]\n",
    "conversation_all_df = preprocess_conversation_v2_df(train_dfs[0],train_dfs[1])\n",
    "neutral_df = preprocess_emotion_audio_v2_df(train_dfs[2],train_dfs[3],train_dfs[4])\n",
    "sentiment_label_df_v2 = pd.concat([conversation_all_df,neutral_df]).reset_index(drop=True)\n",
    "\n",
    "# save data\n",
    "# sentiment_label_df_v2.to_csv('../data/sentiment/sentiment_label_df_v2.csv',index=False)\n",
    "sentiment_label_df_v2['labels'].value_counts()"
   ]
  },
  {
   "cell_type": "markdown",
   "metadata": {},
   "source": [
    "- Convert Youtube Data json to dataframe"
   ]
  },
  {
   "cell_type": "code",
   "execution_count": 6,
   "metadata": {},
   "outputs": [
    {
     "data": {
      "text/html": [
       "<div>\n",
       "<style scoped>\n",
       "    .dataframe tbody tr th:only-of-type {\n",
       "        vertical-align: middle;\n",
       "    }\n",
       "\n",
       "    .dataframe tbody tr th {\n",
       "        vertical-align: top;\n",
       "    }\n",
       "\n",
       "    .dataframe thead th {\n",
       "        text-align: right;\n",
       "    }\n",
       "</style>\n",
       "<table border=\"1\" class=\"dataframe\">\n",
       "  <thead>\n",
       "    <tr style=\"text-align: right;\">\n",
       "      <th></th>\n",
       "      <th>publishedAt</th>\n",
       "      <th>channelId</th>\n",
       "      <th>videoDate</th>\n",
       "      <th>videoId</th>\n",
       "      <th>videoTitle</th>\n",
       "      <th>text</th>\n",
       "      <th>like</th>\n",
       "    </tr>\n",
       "  </thead>\n",
       "  <tbody>\n",
       "    <tr>\n",
       "      <th>UgxGv3vWj0CDw1Yte314AaABAg</th>\n",
       "      <td>2020-08-01T07:32:13Z</td>\n",
       "      <td>UCF4Wxdo3inmxP-Y59wXDsFw</td>\n",
       "      <td>2020-07-30</td>\n",
       "      <td>ncO8E0UHikE</td>\n",
       "      <td>2명 사망·이재민 150명‥충청·전북에 오늘 또 물폭탄 - [LIVE]MBC 뉴스투...</td>\n",
       "      <td>기상청  날씨하나 맞추는게 어렵니?</td>\n",
       "      <td>0</td>\n",
       "    </tr>\n",
       "    <tr>\n",
       "      <th>UgzGqLnGrnMy2jlZ9ex4AaABAg</th>\n",
       "      <td>2020-07-31T10:41:35Z</td>\n",
       "      <td>UCF4Wxdo3inmxP-Y59wXDsFw</td>\n",
       "      <td>2020-07-30</td>\n",
       "      <td>ncO8E0UHikE</td>\n",
       "      <td>2명 사망·이재민 150명‥충청·전북에 오늘 또 물폭탄 - [LIVE]MBC 뉴스투...</td>\n",
       "      <td>뭔 뉴스에 광고가 이리도 많나요? 징허네, 진짜</td>\n",
       "      <td>0</td>\n",
       "    </tr>\n",
       "    <tr>\n",
       "      <th>UgyvJRw6Euy7F84PU5N4AaABAg</th>\n",
       "      <td>2020-07-31T09:59:54Z</td>\n",
       "      <td>UCF4Wxdo3inmxP-Y59wXDsFw</td>\n",
       "      <td>2020-07-30</td>\n",
       "      <td>ncO8E0UHikE</td>\n",
       "      <td>2명 사망·이재민 150명‥충청·전북에 오늘 또 물폭탄 - [LIVE]MBC 뉴스투...</td>\n",
       "      <td>잠금만 풀면되지 왜 오래들고 있냐..증거물 없애려고 그러는거 아냐..</td>\n",
       "      <td>0</td>\n",
       "    </tr>\n",
       "  </tbody>\n",
       "</table>\n",
       "</div>"
      ],
      "text/plain": [
       "                                     publishedAt                 channelId  \\\n",
       "UgxGv3vWj0CDw1Yte314AaABAg  2020-08-01T07:32:13Z  UCF4Wxdo3inmxP-Y59wXDsFw   \n",
       "UgzGqLnGrnMy2jlZ9ex4AaABAg  2020-07-31T10:41:35Z  UCF4Wxdo3inmxP-Y59wXDsFw   \n",
       "UgyvJRw6Euy7F84PU5N4AaABAg  2020-07-31T09:59:54Z  UCF4Wxdo3inmxP-Y59wXDsFw   \n",
       "\n",
       "                             videoDate      videoId  \\\n",
       "UgxGv3vWj0CDw1Yte314AaABAg  2020-07-30  ncO8E0UHikE   \n",
       "UgzGqLnGrnMy2jlZ9ex4AaABAg  2020-07-30  ncO8E0UHikE   \n",
       "UgyvJRw6Euy7F84PU5N4AaABAg  2020-07-30  ncO8E0UHikE   \n",
       "\n",
       "                                                                   videoTitle  \\\n",
       "UgxGv3vWj0CDw1Yte314AaABAg  2명 사망·이재민 150명‥충청·전북에 오늘 또 물폭탄 - [LIVE]MBC 뉴스투...   \n",
       "UgzGqLnGrnMy2jlZ9ex4AaABAg  2명 사망·이재민 150명‥충청·전북에 오늘 또 물폭탄 - [LIVE]MBC 뉴스투...   \n",
       "UgyvJRw6Euy7F84PU5N4AaABAg  2명 사망·이재민 150명‥충청·전북에 오늘 또 물폭탄 - [LIVE]MBC 뉴스투...   \n",
       "\n",
       "                                                              text  like  \n",
       "UgxGv3vWj0CDw1Yte314AaABAg                     기상청  날씨하나 맞추는게 어렵니?     0  \n",
       "UgzGqLnGrnMy2jlZ9ex4AaABAg              뭔 뉴스에 광고가 이리도 많나요? 징허네, 진짜     0  \n",
       "UgyvJRw6Euy7F84PU5N4AaABAg  잠금만 풀면되지 왜 오래들고 있냐..증거물 없애려고 그러는거 아냐..     0  "
      ]
     },
     "execution_count": 6,
     "metadata": {},
     "output_type": "execute_result"
    }
   ],
   "source": [
    "# process data\n",
    "yotube_df = convert_json_to_df(YOUTUBE_DATA_DIR)\n",
    "# save data\n",
    "# yotube_df.to_csv('../data/youtube_df.csv',index=False)\n",
    "yotube_df.head(3)"
   ]
  },
  {
   "cell_type": "code",
   "execution_count": 13,
   "metadata": {},
   "outputs": [
    {
     "data": {
      "text/plain": [
       "<AxesSubplot:xlabel='labels', ylabel='count'>"
      ]
     },
     "execution_count": 13,
     "metadata": {},
     "output_type": "execute_result"
    },
    {
     "data": {
      "image/png": "[encoded data removed]",
      "text/plain": [
       "<Figure size 500x300 with 1 Axes>"
      ]
     },
     "metadata": {},
     "output_type": "display_data"
    }
   ],
   "source": [
    "sentiment_label_df_v2['labels'] = sentiment_label_df_v2['labels'].replace(EMOTIONS)\n",
    "plt.figure(figsize=(5,3))\n",
    "sns.countplot(x='labels',data=sentiment_label_df_v2)"
   ]
  },
  {
   "cell_type": "markdown",
   "metadata": {},
   "source": [
    "- Preprocess Youtube Data"
   ]
  },
  {
   "cell_type": "code",
   "execution_count": 3,
   "metadata": {},
   "outputs": [],
   "source": [
    "# Load Youtube Data\n",
    "youtube_df = pd.read_csv('../data/youtube_df.csv')\n",
    "youtube_df = youtube_df[['publishedAt','videoDate','videoTitle','text']]\n",
    "# Load Stopwords\n",
    "with open('../data/stopwords.txt', 'r', encoding='utf-8') as f:\n",
    "    stopwords = f.readlines() \n",
    "stopwords = [x.replace('\\n','') for x in stopwords]"
   ]
  },
  {
   "cell_type": "code",
   "execution_count": 4,
   "metadata": {},
   "outputs": [],
   "source": [
    "# Preprocess Text Function\n",
    "def preprocess_text_data(df):\n",
    "    # Cleaning(특수문자 제거)\n",
    "    regex = r'[^\\w\\s]|\\n'\n",
    "    df['clean_text'] = df['text'].apply(lambda x: re.sub(regex, '', str(x)))\n",
    "    # 영문자 제거\n",
    "    regex = r'[a-zA-Z]+'\n",
    "    df['clean_text'] = df['clean_text'].apply(lambda x: re.sub(regex, '', str(x)))\n",
    "    # Cleaning(E-mail 주소 제거)\n",
    "    regex = r'([a-zA-Z0-9_.+-]+@[a-zA-Z0-9-]+\\.[a-zA-Z0-9-.]+)'\n",
    "    df['clean_text'] = df['clean_text'].apply(lambda x: re.sub(regex, '', str(x)))\n",
    "    # Cleaning(URL 제거)\n",
    "    regex = r'(http|ftp|https)://(?:[-\\w.]|(?:%[\\da-fA-F]{2}))+'\n",
    "    df['clean_text'] = df['clean_text'].apply(lambda x: re.sub(regex, '', str(x)))\n",
    "    # Cleaning(한글 자음, 모음 제거)\n",
    "    regex = r'([ㄱ-ㅎㅏ-ㅣ]+)'\n",
    "    df['clean_text'] = df['clean_text'].apply(lambda x: re.sub(regex, '', str(x)))\n",
    "    # 년-월-일 형식의 날짜를 찾아서 제거\n",
    "    regex = r'\\d{4}-\\d{2}-\\d{2}'\n",
    "    df['clean_text'] = df['clean_text'].apply(lambda x: re.sub(regex, '', str(x)))\n",
    "    # 월/일/년 형식의 날짜를 찾아서 제거\n",
    "    regex = r'\\d{2}/\\d{2}/\\d{4}'\n",
    "    df['clean_text'] = df['clean_text'].apply(lambda x: re.sub(regex, '', str(x)))\n",
    "    # 월.일.년 형식의 날짜를 찾아서 제거\n",
    "    regex = r'\\d{2}.\\d{2}.\\d{4}'\n",
    "    df['clean_text'] = df['clean_text'].apply(lambda x: re.sub(regex, '', str(x)))\n",
    "    #한문 제거\n",
    "    regex = r'[\\u4e00-\\u9fff]+'\n",
    "    df['clean_text'] = df['clean_text'].apply(lambda x: re.sub(regex, '', str(x)))\n",
    "    #숫자로만 이루어진 토큰 제거\n",
    "    regex = r'\\b\\d+\\b'\n",
    "    df['clean_text'] = df['clean_text'].apply(lambda x: re.sub(regex, '', str(x)))\n",
    "\n",
    "    # Tokenization & Pos Tagging\n",
    "    pos_tag = []\n",
    "    for _, row in tqdm(df.iterrows()):\n",
    "        news_text = row['clean_text']\n",
    "        tokens_ko = okt.pos(news_text)\n",
    "        pos_tag.append(tokens_ko)\n",
    "\n",
    "    # Normalization\n",
    "    normalization_li = []\n",
    "    for pos in pos_tag:\n",
    "        in_li = []\n",
    "        for ele in pos:\n",
    "            if ele[1] in ['Josa', 'Suffix']:\n",
    "                continue\n",
    "            in_li.append(ele[0])\n",
    "        normalization_li.append(in_li)\n",
    "\n",
    "    # Stopword Removal\n",
    "    tokens = normalization_li\n",
    "    token_stop = []\n",
    "    for token in tokens:\n",
    "        in_li = []\n",
    "        for tok in token:\n",
    "            if len(tok) > 1 and tok not in stopwords:\n",
    "                in_li.append(tok)\n",
    "        token_stop.append(in_li)\n",
    "    \n",
    "    # Data Save\n",
    "    token_df = []\n",
    "    for token in token_stop:\n",
    "        token_join = ' '.join(token)\n",
    "        token_df.append(token_join)\n",
    "    \n",
    "    # Create DataFrame for preprocess context\n",
    "    df['preprocess_text'] = token_df\n",
    "    df.drop('preprocess_text', axis=1, inplace=True)        \n",
    "    return df"
   ]
  },
  {
   "cell_type": "code",
   "execution_count": 5,
   "metadata": {},
   "outputs": [
    {
     "name": "stderr",
     "output_type": "stream",
     "text": [
      "1483209it [3:01:27, 116.90it/s]IOStream.flush timed out\n",
      "2689461it [8:44:57, 68.84it/s] IOStream.flush timed out\n",
      "2789220it [9:46:06,  2.30it/s] IOStream.flush timed out\n",
      "3121501it [14:05:56, 61.50it/s] \n"
     ]
    },
    {
     "data": {
      "text/html": [
       "<div>\n",
       "<style scoped>\n",
       "    .dataframe tbody tr th:only-of-type {\n",
       "        vertical-align: middle;\n",
       "    }\n",
       "\n",
       "    .dataframe tbody tr th {\n",
       "        vertical-align: top;\n",
       "    }\n",
       "\n",
       "    .dataframe thead th {\n",
       "        text-align: right;\n",
       "    }\n",
       "</style>\n",
       "<table border=\"1\" class=\"dataframe\">\n",
       "  <thead>\n",
       "    <tr style=\"text-align: right;\">\n",
       "      <th></th>\n",
       "      <th>publishedAt</th>\n",
       "      <th>videoDate</th>\n",
       "      <th>videoTitle</th>\n",
       "      <th>text</th>\n",
       "      <th>clean_text</th>\n",
       "    </tr>\n",
       "  </thead>\n",
       "  <tbody>\n",
       "    <tr>\n",
       "      <th>0</th>\n",
       "      <td>2020-08-01T07:32:13Z</td>\n",
       "      <td>2020-07-30</td>\n",
       "      <td>2명 사망·이재민 150명‥충청·전북에 오늘 또 물폭탄 - [LIVE]MBC 뉴스투...</td>\n",
       "      <td>기상청  날씨하나 맞추는게 어렵니?</td>\n",
       "      <td>기상청  날씨하나 맞추는게 어렵니</td>\n",
       "    </tr>\n",
       "    <tr>\n",
       "      <th>1</th>\n",
       "      <td>2020-07-31T10:41:35Z</td>\n",
       "      <td>2020-07-30</td>\n",
       "      <td>2명 사망·이재민 150명‥충청·전북에 오늘 또 물폭탄 - [LIVE]MBC 뉴스투...</td>\n",
       "      <td>뭔 뉴스에 광고가 이리도 많나요? 징허네, 진짜</td>\n",
       "      <td>뭔 뉴스에 광고가 이리도 많나요 징허네 진짜</td>\n",
       "    </tr>\n",
       "    <tr>\n",
       "      <th>2</th>\n",
       "      <td>2020-07-31T09:59:54Z</td>\n",
       "      <td>2020-07-30</td>\n",
       "      <td>2명 사망·이재민 150명‥충청·전북에 오늘 또 물폭탄 - [LIVE]MBC 뉴스투...</td>\n",
       "      <td>잠금만 풀면되지 왜 오래들고 있냐..증거물 없애려고 그러는거 아냐..</td>\n",
       "      <td>잠금만 풀면되지 왜 오래들고 있냐증거물 없애려고 그러는거 아냐</td>\n",
       "    </tr>\n",
       "  </tbody>\n",
       "</table>\n",
       "</div>"
      ],
      "text/plain": [
       "            publishedAt   videoDate  \\\n",
       "0  2020-08-01T07:32:13Z  2020-07-30   \n",
       "1  2020-07-31T10:41:35Z  2020-07-30   \n",
       "2  2020-07-31T09:59:54Z  2020-07-30   \n",
       "\n",
       "                                          videoTitle  \\\n",
       "0  2명 사망·이재민 150명‥충청·전북에 오늘 또 물폭탄 - [LIVE]MBC 뉴스투...   \n",
       "1  2명 사망·이재민 150명‥충청·전북에 오늘 또 물폭탄 - [LIVE]MBC 뉴스투...   \n",
       "2  2명 사망·이재민 150명‥충청·전북에 오늘 또 물폭탄 - [LIVE]MBC 뉴스투...   \n",
       "\n",
       "                                     text                          clean_text  \n",
       "0                     기상청  날씨하나 맞추는게 어렵니?                  기상청  날씨하나 맞추는게 어렵니  \n",
       "1              뭔 뉴스에 광고가 이리도 많나요? 징허네, 진짜            뭔 뉴스에 광고가 이리도 많나요 징허네 진짜  \n",
       "2  잠금만 풀면되지 왜 오래들고 있냐..증거물 없애려고 그러는거 아냐..  잠금만 풀면되지 왜 오래들고 있냐증거물 없애려고 그러는거 아냐  "
      ]
     },
     "execution_count": 5,
     "metadata": {},
     "output_type": "execute_result"
    }
   ],
   "source": [
    "# preprocess_youtube_df\n",
    "preprocess_youtube_df = preprocess_text_data(youtube_df)\n",
    "# Save CSV files\n",
    "preprocess_youtube_df.head(3)\n",
    "# preprocess_youtube_df.to_csv('../data/preprocess_youtube_df.csv',encoding='utf-8-sig',index=False)"
   ]
  }
 ],
 "metadata": {
  "kernelspec": {
   "display_name": "base",
   "language": "python",
   "name": "python3"
  },
  "language_info": {
   "codemirror_mode": {
    "name": "ipython",
    "version": 3
   },
   "file_extension": ".py",
   "mimetype": "text/x-python",
   "name": "python",
   "nbconvert_exporter": "python",
   "pygments_lexer": "ipython3",
   "version": "3.9.13"
  }
 },
 "nbformat": 4,
 "nbformat_minor": 2
}
