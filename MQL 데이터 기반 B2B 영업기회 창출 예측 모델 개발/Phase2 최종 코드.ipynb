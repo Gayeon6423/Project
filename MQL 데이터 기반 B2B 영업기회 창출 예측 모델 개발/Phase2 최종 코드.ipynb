{
 "cells": [
  {
   "cell_type": "markdown",
   "id": "017e9265",
   "metadata": {
    "id": "017e9265"
   },
   "source": [
    "# 영업 성공 여부 분류 경진대회"
   ]
  },
  {
   "cell_type": "markdown",
   "id": "12030511",
   "metadata": {
    "id": "12030511"
   },
   "source": [
    "### [Timeline]\n",
    "#### 1. EDA\n",
    "#### 2. 데이터 전처리\n",
    "#### 3. 파생변수 생성\n",
    "#### 4. 인코딩\n",
    "#### 5. 모델 학습\n",
    "#### 6. Parameter Tuning, OOF\n",
    "#### 7. 앙상블\n",
    "#### 8. 제출"
   ]
  },
  {
   "cell_type": "markdown",
   "id": "acdab431",
   "metadata": {
    "id": "acdab431"
   },
   "source": [
    "## 1. EDA"
   ]
  },
  {
   "cell_type": "markdown",
   "id": "2b8341e8",
   "metadata": {
    "id": "2b8341e8"
   },
   "source": [
    "- 필수 라이브러리"
   ]
  },
  {
   "cell_type": "code",
   "execution_count": 1,
   "id": "7dc64dda",
   "metadata": {
    "colab": {
     "base_uri": "https://localhost:8080/"
    },
    "executionInfo": {
     "elapsed": 19284,
     "status": "ok",
     "timestamp": 1709293753789,
     "user": {
      "displayName": "신현지",
      "userId": "04492897271342924648"
     },
     "user_tz": -540
    },
    "id": "7dc64dda",
    "outputId": "2c1b64f8-fb2d-4d67-ea56-800499202164",
    "scrolled": true
   },
   "outputs": [
    {
     "name": "stdout",
     "output_type": "stream",
     "text": [
      "Requirement already satisfied: xgboost in c:\\users\\samsung\\anaconda3\\lib\\site-packages (1.7.1)\n",
      "Requirement already satisfied: numpy in c:\\users\\samsung\\anaconda3\\lib\\site-packages (from xgboost) (1.24.3)\n",
      "Requirement already satisfied: scipy in c:\\users\\samsung\\anaconda3\\lib\\site-packages (from xgboost) (1.10.1)\n"
     ]
    },
    {
     "name": "stderr",
     "output_type": "stream",
     "text": [
      "WARNING: Ignoring invalid distribution -rotobuf (c:\\users\\samsung\\anaconda3\\lib\\site-packages)\n",
      "WARNING: Ignoring invalid distribution -rotobuf (c:\\users\\samsung\\anaconda3\\lib\\site-packages)\n",
      "\n",
      "[notice] A new release of pip is available: 23.3.1 -> 24.0\n",
      "[notice] To update, run: python.exe -m pip install --upgrade pip\n"
     ]
    },
    {
     "name": "stdout",
     "output_type": "stream",
     "text": [
      "Requirement already satisfied: category_encoders in c:\\users\\samsung\\anaconda3\\lib\\site-packages (2.5.1.post0)\n",
      "Requirement already satisfied: numpy>=1.14.0 in c:\\users\\samsung\\anaconda3\\lib\\site-packages (from category_encoders) (1.24.3)\n",
      "Requirement already satisfied: scikit-learn>=0.20.0 in c:\\users\\samsung\\anaconda3\\lib\\site-packages (from category_encoders) (1.3.0)\n",
      "Requirement already satisfied: scipy>=1.0.0 in c:\\users\\samsung\\anaconda3\\lib\\site-packages (from category_encoders) (1.10.1)\n",
      "Requirement already satisfied: statsmodels>=0.9.0 in c:\\users\\samsung\\anaconda3\\lib\\site-packages (from category_encoders) (0.14.0)\n",
      "Requirement already satisfied: pandas>=1.0.5 in c:\\users\\samsung\\anaconda3\\lib\\site-packages (from category_encoders) (2.0.1)\n",
      "Requirement already satisfied: patsy>=0.5.1 in c:\\users\\samsung\\anaconda3\\lib\\site-packages (from category_encoders) (0.5.3)\n",
      "Requirement already satisfied: python-dateutil>=2.8.2 in c:\\users\\samsung\\anaconda3\\lib\\site-packages (from pandas>=1.0.5->category_encoders) (2.8.2)\n",
      "Requirement already satisfied: pytz>=2020.1 in c:\\users\\samsung\\anaconda3\\lib\\site-packages (from pandas>=1.0.5->category_encoders) (2022.7)\n",
      "Requirement already satisfied: tzdata>=2022.1 in c:\\users\\samsung\\anaconda3\\lib\\site-packages (from pandas>=1.0.5->category_encoders) (2023.3)\n",
      "Requirement already satisfied: six in c:\\users\\samsung\\anaconda3\\lib\\site-packages (from patsy>=0.5.1->category_encoders) (1.16.0)\n",
      "Requirement already satisfied: joblib>=1.1.1 in c:\\users\\samsung\\anaconda3\\lib\\site-packages (from scikit-learn>=0.20.0->category_encoders) (1.2.0)\n",
      "Requirement already satisfied: threadpoolctl>=2.0.0 in c:\\users\\samsung\\anaconda3\\lib\\site-packages (from scikit-learn>=0.20.0->category_encoders) (2.2.0)\n",
      "Requirement already satisfied: packaging>=21.3 in c:\\users\\samsung\\anaconda3\\lib\\site-packages (from statsmodels>=0.9.0->category_encoders) (23.1)\n"
     ]
    },
    {
     "name": "stderr",
     "output_type": "stream",
     "text": [
      "WARNING: Ignoring invalid distribution -rotobuf (c:\\users\\samsung\\anaconda3\\lib\\site-packages)\n",
      "WARNING: Ignoring invalid distribution -rotobuf (c:\\users\\samsung\\anaconda3\\lib\\site-packages)\n",
      "\n",
      "[notice] A new release of pip is available: 23.3.1 -> 24.0\n",
      "[notice] To update, run: python.exe -m pip install --upgrade pip\n"
     ]
    },
    {
     "name": "stdout",
     "output_type": "stream",
     "text": [
      "Requirement already satisfied: optuna in c:\\users\\samsung\\anaconda3\\lib\\site-packages (3.0.2)\n",
      "Requirement already satisfied: alembic>=1.5.0 in c:\\users\\samsung\\anaconda3\\lib\\site-packages (from optuna) (1.8.1)\n",
      "Requirement already satisfied: cliff in c:\\users\\samsung\\anaconda3\\lib\\site-packages (from optuna) (4.0.0)\n",
      "Requirement already satisfied: cmaes>=0.8.2 in c:\\users\\samsung\\anaconda3\\lib\\site-packages (from optuna) (0.8.2)\n",
      "Requirement already satisfied: colorlog in c:\\users\\samsung\\anaconda3\\lib\\site-packages (from optuna) (6.7.0)\n",
      "Requirement already satisfied: numpy in c:\\users\\samsung\\anaconda3\\lib\\site-packages (from optuna) (1.24.3)\n",
      "Requirement already satisfied: packaging>=20.0 in c:\\users\\samsung\\anaconda3\\lib\\site-packages (from optuna) (23.1)\n",
      "Collecting scipy<1.9.0,>=1.7.0 (from optuna)\n",
      "  Downloading scipy-1.8.1-cp39-cp39-win_amd64.whl.metadata (2.2 kB)\n",
      "Requirement already satisfied: sqlalchemy>=1.3.0 in c:\\users\\samsung\\anaconda3\\lib\\site-packages (from optuna) (2.0.20)\n",
      "Requirement already satisfied: tqdm in c:\\users\\samsung\\anaconda3\\lib\\site-packages (from optuna) (4.65.0)\n",
      "Requirement already satisfied: PyYAML in c:\\users\\samsung\\anaconda3\\lib\\site-packages (from optuna) (6.0)\n",
      "Requirement already satisfied: Mako in c:\\users\\samsung\\anaconda3\\lib\\site-packages (from alembic>=1.5.0->optuna) (1.2.3)\n",
      "Requirement already satisfied: typing-extensions>=4.2.0 in c:\\users\\samsung\\anaconda3\\lib\\site-packages (from sqlalchemy>=1.3.0->optuna) (4.7.1)\n",
      "Requirement already satisfied: greenlet!=0.4.17 in c:\\users\\samsung\\anaconda3\\lib\\site-packages (from sqlalchemy>=1.3.0->optuna) (2.0.2)\n",
      "Requirement already satisfied: PrettyTable>=0.7.2 in c:\\users\\samsung\\anaconda3\\lib\\site-packages (from cliff->optuna) (3.4.1)\n",
      "Requirement already satisfied: autopage>=0.4.0 in c:\\users\\samsung\\anaconda3\\lib\\site-packages (from cliff->optuna) (0.5.1)\n",
      "Requirement already satisfied: cmd2>=1.0.0 in c:\\users\\samsung\\anaconda3\\lib\\site-packages (from cliff->optuna) (2.4.2)\n",
      "Requirement already satisfied: importlib-metadata>=4.4 in c:\\users\\samsung\\anaconda3\\lib\\site-packages (from cliff->optuna) (6.0.0)\n",
      "Requirement already satisfied: stevedore>=2.0.1 in c:\\users\\samsung\\anaconda3\\lib\\site-packages (from cliff->optuna) (4.0.0)\n",
      "Requirement already satisfied: colorama in c:\\users\\samsung\\anaconda3\\lib\\site-packages (from colorlog->optuna) (0.4.6)\n",
      "Requirement already satisfied: attrs>=16.3.0 in c:\\users\\samsung\\anaconda3\\lib\\site-packages (from cmd2>=1.0.0->cliff->optuna) (22.1.0)\n",
      "Requirement already satisfied: pyperclip>=1.6 in c:\\users\\samsung\\anaconda3\\lib\\site-packages (from cmd2>=1.0.0->cliff->optuna) (1.8.2)\n",
      "Requirement already satisfied: wcwidth>=0.1.7 in c:\\users\\samsung\\anaconda3\\lib\\site-packages (from cmd2>=1.0.0->cliff->optuna) (0.2.5)\n",
      "Requirement already satisfied: pyreadline3 in c:\\users\\samsung\\anaconda3\\lib\\site-packages (from cmd2>=1.0.0->cliff->optuna) (3.4.1)\n",
      "Requirement already satisfied: zipp>=0.5 in c:\\users\\samsung\\anaconda3\\lib\\site-packages (from importlib-metadata>=4.4->cliff->optuna) (3.11.0)\n",
      "Requirement already satisfied: pbr!=2.1.0,>=2.0.0 in c:\\users\\samsung\\anaconda3\\lib\\site-packages (from stevedore>=2.0.1->cliff->optuna) (5.10.0)\n",
      "Requirement already satisfied: MarkupSafe>=0.9.2 in c:\\users\\samsung\\anaconda3\\lib\\site-packages (from Mako->alembic>=1.5.0->optuna) (2.1.1)\n",
      "Downloading scipy-1.8.1-cp39-cp39-win_amd64.whl (36.9 MB)\n",
      "   ---------------------------------------- 0.0/36.9 MB ? eta -:--:--\n",
      "   ---------------------------------------- 0.1/36.9 MB 2.4 MB/s eta 0:00:16\n",
      "   ---------------------------------------- 0.3/36.9 MB 2.8 MB/s eta 0:00:13\n",
      "   ---------------------------------------- 0.4/36.9 MB 2.9 MB/s eta 0:00:13\n",
      "    --------------------------------------- 0.6/36.9 MB 3.2 MB/s eta 0:00:12\n",
      "    --------------------------------------- 0.7/36.9 MB 3.2 MB/s eta 0:00:12\n",
      "    --------------------------------------- 0.8/36.9 MB 3.2 MB/s eta 0:00:12\n",
      "   - -------------------------------------- 1.0/36.9 MB 3.2 MB/s eta 0:00:12\n",
      "   - -------------------------------------- 1.1/36.9 MB 3.1 MB/s eta 0:00:12\n",
      "   - -------------------------------------- 1.1/36.9 MB 2.7 MB/s eta 0:00:14\n",
      "   - -------------------------------------- 1.3/36.9 MB 2.9 MB/s eta 0:00:13\n",
      "   - -------------------------------------- 1.5/36.9 MB 3.0 MB/s eta 0:00:12\n",
      "   - -------------------------------------- 1.6/36.9 MB 3.0 MB/s eta 0:00:12\n",
      "   - -------------------------------------- 1.8/36.9 MB 3.0 MB/s eta 0:00:12\n",
      "   -- ------------------------------------- 2.0/36.9 MB 3.0 MB/s eta 0:00:12\n",
      "   -- ------------------------------------- 2.1/36.9 MB 3.1 MB/s eta 0:00:12\n",
      "   -- ------------------------------------- 2.3/36.9 MB 3.1 MB/s eta 0:00:12\n",
      "   -- ------------------------------------- 2.4/36.9 MB 3.1 MB/s eta 0:00:12\n",
      "   -- ------------------------------------- 2.6/36.9 MB 3.1 MB/s eta 0:00:12\n",
      "   -- ------------------------------------- 2.7/36.9 MB 3.1 MB/s eta 0:00:11\n",
      "   --- ------------------------------------ 2.9/36.9 MB 3.2 MB/s eta 0:00:11\n",
      "   --- ------------------------------------ 3.1/36.9 MB 3.1 MB/s eta 0:00:11\n",
      "   --- ------------------------------------ 3.2/36.9 MB 3.2 MB/s eta 0:00:11\n",
      "   --- ------------------------------------ 3.3/36.9 MB 3.2 MB/s eta 0:00:11\n",
      "   --- ------------------------------------ 3.5/36.9 MB 3.2 MB/s eta 0:00:11\n",
      "   --- ------------------------------------ 3.6/36.9 MB 3.2 MB/s eta 0:00:11\n",
      "   ---- ----------------------------------- 3.8/36.9 MB 3.2 MB/s eta 0:00:11\n",
      "   ---- ----------------------------------- 3.9/36.9 MB 3.2 MB/s eta 0:00:11\n",
      "   ---- ----------------------------------- 4.1/36.9 MB 3.2 MB/s eta 0:00:11\n",
      "   ---- ----------------------------------- 4.2/36.9 MB 3.2 MB/s eta 0:00:11\n",
      "   ---- ----------------------------------- 4.4/36.9 MB 3.2 MB/s eta 0:00:11\n",
      "   ---- ----------------------------------- 4.6/36.9 MB 3.2 MB/s eta 0:00:11\n",
      "   ----- ---------------------------------- 4.7/36.9 MB 3.2 MB/s eta 0:00:11\n",
      "   ----- ---------------------------------- 4.9/36.9 MB 3.2 MB/s eta 0:00:11\n",
      "   ----- ---------------------------------- 5.0/36.9 MB 3.2 MB/s eta 0:00:10\n",
      "   ----- ---------------------------------- 5.2/36.9 MB 3.2 MB/s eta 0:00:10\n",
      "   ----- ---------------------------------- 5.4/36.9 MB 3.2 MB/s eta 0:00:10\n",
      "   ----- ---------------------------------- 5.5/36.9 MB 3.2 MB/s eta 0:00:10\n",
      "   ------ --------------------------------- 5.7/36.9 MB 3.2 MB/s eta 0:00:10\n",
      "   ------ --------------------------------- 5.9/36.9 MB 3.3 MB/s eta 0:00:10\n",
      "   ------ --------------------------------- 6.0/36.9 MB 3.3 MB/s eta 0:00:10\n",
      "   ------ --------------------------------- 6.2/36.9 MB 3.3 MB/s eta 0:00:10\n",
      "   ------ --------------------------------- 6.3/36.9 MB 3.3 MB/s eta 0:00:10\n",
      "   ------- -------------------------------- 6.5/36.9 MB 3.3 MB/s eta 0:00:10\n",
      "   ------- -------------------------------- 6.7/36.9 MB 3.3 MB/s eta 0:00:10\n",
      "   ------- -------------------------------- 6.8/36.9 MB 3.3 MB/s eta 0:00:10\n",
      "   ------- -------------------------------- 6.9/36.9 MB 3.3 MB/s eta 0:00:10\n",
      "   ------- -------------------------------- 7.1/36.9 MB 3.3 MB/s eta 0:00:10\n",
      "   ------- -------------------------------- 7.2/36.9 MB 3.3 MB/s eta 0:00:10\n",
      "   -------- ------------------------------- 7.4/36.9 MB 3.3 MB/s eta 0:00:10\n",
      "   -------- ------------------------------- 7.6/36.9 MB 3.3 MB/s eta 0:00:09\n",
      "   -------- ------------------------------- 7.7/36.9 MB 3.3 MB/s eta 0:00:09\n",
      "   -------- ------------------------------- 7.9/36.9 MB 3.3 MB/s eta 0:00:09\n",
      "   -------- ------------------------------- 8.0/36.9 MB 3.3 MB/s eta 0:00:09\n",
      "   -------- ------------------------------- 8.2/36.9 MB 3.3 MB/s eta 0:00:09\n",
      "   --------- ------------------------------ 8.3/36.9 MB 3.3 MB/s eta 0:00:09\n",
      "   --------- ------------------------------ 8.5/36.9 MB 3.3 MB/s eta 0:00:09\n",
      "   --------- ------------------------------ 8.6/36.9 MB 3.3 MB/s eta 0:00:09\n",
      "   --------- ------------------------------ 8.8/36.9 MB 3.3 MB/s eta 0:00:09\n",
      "   --------- ------------------------------ 8.9/36.9 MB 3.3 MB/s eta 0:00:09\n",
      "   --------- ------------------------------ 9.1/36.9 MB 3.3 MB/s eta 0:00:09\n",
      "   ---------- ----------------------------- 9.2/36.9 MB 3.3 MB/s eta 0:00:09\n",
      "   ---------- ----------------------------- 9.4/36.9 MB 3.3 MB/s eta 0:00:09\n",
      "   ---------- ----------------------------- 9.6/36.9 MB 3.3 MB/s eta 0:00:09\n",
      "   ---------- ----------------------------- 9.7/36.9 MB 3.3 MB/s eta 0:00:09\n",
      "   ---------- ----------------------------- 9.8/36.9 MB 3.3 MB/s eta 0:00:09\n",
      "   ---------- ----------------------------- 10.0/36.9 MB 3.3 MB/s eta 0:00:09\n",
      "   ---------- ----------------------------- 10.1/36.9 MB 3.3 MB/s eta 0:00:09\n",
      "   ----------- ---------------------------- 10.2/36.9 MB 3.3 MB/s eta 0:00:09\n",
      "   ----------- ---------------------------- 10.3/36.9 MB 3.3 MB/s eta 0:00:09\n",
      "   ----------- ---------------------------- 10.4/36.9 MB 3.3 MB/s eta 0:00:09\n",
      "   ----------- ---------------------------- 10.6/36.9 MB 3.2 MB/s eta 0:00:09\n",
      "   ----------- ---------------------------- 10.7/36.9 MB 3.2 MB/s eta 0:00:09\n",
      "   ----------- ---------------------------- 10.8/36.9 MB 3.2 MB/s eta 0:00:09\n",
      "   ----------- ---------------------------- 10.9/36.9 MB 3.2 MB/s eta 0:00:09\n",
      "   ------------ --------------------------- 11.1/36.9 MB 3.2 MB/s eta 0:00:08\n",
      "   ------------ --------------------------- 11.3/36.9 MB 3.2 MB/s eta 0:00:08\n",
      "   ------------ --------------------------- 11.4/36.9 MB 3.3 MB/s eta 0:00:08\n",
      "   ------------ --------------------------- 11.6/36.9 MB 3.3 MB/s eta 0:00:08\n",
      "   ------------ --------------------------- 11.8/36.9 MB 3.3 MB/s eta 0:00:08\n",
      "   ------------ --------------------------- 11.9/36.9 MB 3.3 MB/s eta 0:00:08\n",
      "   ------------- -------------------------- 12.1/36.9 MB 3.3 MB/s eta 0:00:08\n",
      "   ------------- -------------------------- 12.2/36.9 MB 3.3 MB/s eta 0:00:08\n",
      "   ------------- -------------------------- 12.4/36.9 MB 3.3 MB/s eta 0:00:08\n",
      "   ------------- -------------------------- 12.5/36.9 MB 3.3 MB/s eta 0:00:08\n",
      "   ------------- -------------------------- 12.7/36.9 MB 3.3 MB/s eta 0:00:08\n",
      "   ------------- -------------------------- 12.9/36.9 MB 3.3 MB/s eta 0:00:08\n",
      "   -------------- ------------------------- 13.0/36.9 MB 3.3 MB/s eta 0:00:08\n",
      "   -------------- ------------------------- 13.2/36.9 MB 3.3 MB/s eta 0:00:08\n",
      "   -------------- ------------------------- 13.3/36.9 MB 3.3 MB/s eta 0:00:08\n",
      "   -------------- ------------------------- 13.5/36.9 MB 3.3 MB/s eta 0:00:08\n",
      "   -------------- ------------------------- 13.7/36.9 MB 3.3 MB/s eta 0:00:08\n",
      "   -------------- ------------------------- 13.8/36.9 MB 3.3 MB/s eta 0:00:08\n",
      "   --------------- ------------------------ 14.0/36.9 MB 3.3 MB/s eta 0:00:07\n",
      "   --------------- ------------------------ 14.2/36.9 MB 3.3 MB/s eta 0:00:07\n",
      "   --------------- ------------------------ 14.3/36.9 MB 3.3 MB/s eta 0:00:07\n",
      "   --------------- ------------------------ 14.5/36.9 MB 3.3 MB/s eta 0:00:07\n",
      "   --------------- ------------------------ 14.6/36.9 MB 3.3 MB/s eta 0:00:07\n",
      "   ---------------- ----------------------- 14.8/36.9 MB 3.3 MB/s eta 0:00:07\n",
      "   ---------------- ----------------------- 15.0/36.9 MB 3.3 MB/s eta 0:00:07\n",
      "   ---------------- ----------------------- 15.1/36.9 MB 3.3 MB/s eta 0:00:07\n",
      "   ---------------- ----------------------- 15.3/36.9 MB 3.3 MB/s eta 0:00:07\n",
      "   ---------------- ----------------------- 15.4/36.9 MB 3.3 MB/s eta 0:00:07\n",
      "   ---------------- ----------------------- 15.6/36.9 MB 3.3 MB/s eta 0:00:07\n",
      "   ----------------- ---------------------- 15.7/36.9 MB 3.3 MB/s eta 0:00:07\n",
      "   ----------------- ---------------------- 15.9/36.9 MB 3.3 MB/s eta 0:00:07\n",
      "   ----------------- ---------------------- 16.1/36.9 MB 3.3 MB/s eta 0:00:07\n",
      "   ----------------- ---------------------- 16.2/36.9 MB 3.3 MB/s eta 0:00:07\n",
      "   ----------------- ---------------------- 16.3/36.9 MB 3.3 MB/s eta 0:00:07\n",
      "   ----------------- ---------------------- 16.5/36.9 MB 3.3 MB/s eta 0:00:07\n",
      "   ------------------ --------------------- 16.7/36.9 MB 3.3 MB/s eta 0:00:07\n",
      "   ------------------ --------------------- 16.8/36.9 MB 3.3 MB/s eta 0:00:07\n",
      "   ------------------ --------------------- 17.0/36.9 MB 3.3 MB/s eta 0:00:07\n",
      "   ------------------ --------------------- 17.2/36.9 MB 3.3 MB/s eta 0:00:06\n",
      "   ------------------ --------------------- 17.3/36.9 MB 3.3 MB/s eta 0:00:06\n",
      "   ------------------ --------------------- 17.5/36.9 MB 3.3 MB/s eta 0:00:06\n",
      "   ------------------- -------------------- 17.7/36.9 MB 3.3 MB/s eta 0:00:06\n",
      "   ------------------- -------------------- 17.8/36.9 MB 3.3 MB/s eta 0:00:06\n",
      "   ------------------- -------------------- 18.0/36.9 MB 3.3 MB/s eta 0:00:06\n",
      "   ------------------- -------------------- 18.1/36.9 MB 3.3 MB/s eta 0:00:06\n",
      "   ------------------- -------------------- 18.2/36.9 MB 3.3 MB/s eta 0:00:06\n",
      "   ------------------- -------------------- 18.4/36.9 MB 3.3 MB/s eta 0:00:06\n",
      "   -------------------- ------------------- 18.6/36.9 MB 3.3 MB/s eta 0:00:06\n",
      "   -------------------- ------------------- 18.7/36.9 MB 3.3 MB/s eta 0:00:06\n",
      "   -------------------- ------------------- 18.9/36.9 MB 3.3 MB/s eta 0:00:06\n",
      "   -------------------- ------------------- 19.1/36.9 MB 3.3 MB/s eta 0:00:06\n",
      "   -------------------- ------------------- 19.2/36.9 MB 3.3 MB/s eta 0:00:06\n",
      "   -------------------- ------------------- 19.3/36.9 MB 3.3 MB/s eta 0:00:06\n",
      "   --------------------- ------------------ 19.5/36.9 MB 3.3 MB/s eta 0:00:06\n",
      "   --------------------- ------------------ 19.7/36.9 MB 3.3 MB/s eta 0:00:06\n",
      "   --------------------- ------------------ 19.8/36.9 MB 3.3 MB/s eta 0:00:06\n",
      "   --------------------- ------------------ 20.0/36.9 MB 3.3 MB/s eta 0:00:06\n",
      "   --------------------- ------------------ 20.1/36.9 MB 3.3 MB/s eta 0:00:06\n",
      "   --------------------- ------------------ 20.2/36.9 MB 3.3 MB/s eta 0:00:06\n",
      "   ---------------------- ----------------- 20.4/36.9 MB 3.3 MB/s eta 0:00:05\n",
      "   ---------------------- ----------------- 20.5/36.9 MB 3.3 MB/s eta 0:00:05\n",
      "   ---------------------- ----------------- 20.7/36.9 MB 3.4 MB/s eta 0:00:05\n",
      "   ---------------------- ----------------- 20.8/36.9 MB 3.4 MB/s eta 0:00:05\n",
      "   ---------------------- ----------------- 21.0/36.9 MB 3.4 MB/s eta 0:00:05\n",
      "   ---------------------- ----------------- 21.1/36.9 MB 3.4 MB/s eta 0:00:05\n",
      "   ----------------------- ---------------- 21.3/36.9 MB 3.4 MB/s eta 0:00:05\n",
      "   ----------------------- ---------------- 21.4/36.9 MB 3.4 MB/s eta 0:00:05\n",
      "   ----------------------- ---------------- 21.6/36.9 MB 3.4 MB/s eta 0:00:05\n",
      "   ----------------------- ---------------- 21.7/36.9 MB 3.4 MB/s eta 0:00:05\n",
      "   ----------------------- ---------------- 21.9/36.9 MB 3.4 MB/s eta 0:00:05\n",
      "   ----------------------- ---------------- 22.0/36.9 MB 3.4 MB/s eta 0:00:05\n",
      "   ----------------------- ---------------- 22.1/36.9 MB 3.3 MB/s eta 0:00:05\n",
      "   ------------------------ --------------- 22.3/36.9 MB 3.3 MB/s eta 0:00:05\n",
      "   ------------------------ --------------- 22.4/36.9 MB 3.3 MB/s eta 0:00:05\n",
      "   ------------------------ --------------- 22.6/36.9 MB 3.3 MB/s eta 0:00:05\n",
      "   ------------------------ --------------- 22.8/36.9 MB 3.3 MB/s eta 0:00:05\n",
      "   ------------------------ --------------- 22.9/36.9 MB 3.3 MB/s eta 0:00:05\n",
      "   ------------------------ --------------- 23.0/36.9 MB 3.3 MB/s eta 0:00:05\n",
      "   ------------------------- -------------- 23.2/36.9 MB 3.3 MB/s eta 0:00:05\n",
      "   ------------------------- -------------- 23.3/36.9 MB 3.3 MB/s eta 0:00:05\n",
      "   ------------------------- -------------- 23.5/36.9 MB 3.3 MB/s eta 0:00:05\n",
      "   ------------------------- -------------- 23.7/36.9 MB 3.3 MB/s eta 0:00:04\n",
      "   ------------------------- -------------- 23.8/36.9 MB 3.3 MB/s eta 0:00:04\n",
      "   ------------------------- -------------- 24.0/36.9 MB 3.3 MB/s eta 0:00:04\n",
      "   -------------------------- ------------- 24.1/36.9 MB 3.3 MB/s eta 0:00:04\n",
      "   -------------------------- ------------- 24.3/36.9 MB 3.3 MB/s eta 0:00:04\n",
      "   -------------------------- ------------- 24.4/36.9 MB 3.3 MB/s eta 0:00:04\n",
      "   -------------------------- ------------- 24.6/36.9 MB 3.3 MB/s eta 0:00:04\n",
      "   -------------------------- ------------- 24.7/36.9 MB 3.3 MB/s eta 0:00:04\n",
      "   -------------------------- ------------- 24.9/36.9 MB 3.3 MB/s eta 0:00:04\n",
      "   --------------------------- ------------ 25.0/36.9 MB 3.3 MB/s eta 0:00:04\n",
      "   --------------------------- ------------ 25.1/36.9 MB 3.3 MB/s eta 0:00:04\n",
      "   --------------------------- ------------ 25.3/36.9 MB 3.3 MB/s eta 0:00:04\n",
      "   --------------------------- ------------ 25.4/36.9 MB 3.3 MB/s eta 0:00:04\n",
      "   --------------------------- ------------ 25.6/36.9 MB 3.3 MB/s eta 0:00:04\n",
      "   --------------------------- ------------ 25.8/36.9 MB 3.3 MB/s eta 0:00:04\n",
      "   ---------------------------- ----------- 25.9/36.9 MB 3.3 MB/s eta 0:00:04\n",
      "   ---------------------------- ----------- 26.1/36.9 MB 3.3 MB/s eta 0:00:04\n",
      "   ---------------------------- ----------- 26.2/36.9 MB 3.3 MB/s eta 0:00:04\n",
      "   ---------------------------- ----------- 26.4/36.9 MB 3.3 MB/s eta 0:00:04\n",
      "   ---------------------------- ----------- 26.6/36.9 MB 3.3 MB/s eta 0:00:04\n",
      "   ---------------------------- ----------- 26.7/36.9 MB 3.3 MB/s eta 0:00:04\n",
      "   ----------------------------- ---------- 26.8/36.9 MB 3.3 MB/s eta 0:00:04\n",
      "   ----------------------------- ---------- 27.0/36.9 MB 3.3 MB/s eta 0:00:04\n",
      "   ----------------------------- ---------- 27.1/36.9 MB 3.3 MB/s eta 0:00:03\n",
      "   ----------------------------- ---------- 27.3/36.9 MB 3.3 MB/s eta 0:00:03\n",
      "   ----------------------------- ---------- 27.5/36.9 MB 3.3 MB/s eta 0:00:03\n",
      "   ----------------------------- ---------- 27.6/36.9 MB 3.3 MB/s eta 0:00:03\n",
      "   ------------------------------ --------- 27.8/36.9 MB 3.3 MB/s eta 0:00:03\n",
      "   ------------------------------ --------- 28.0/36.9 MB 3.3 MB/s eta 0:00:03\n",
      "   ------------------------------ --------- 28.1/36.9 MB 3.3 MB/s eta 0:00:03\n",
      "   ------------------------------ --------- 28.3/36.9 MB 3.3 MB/s eta 0:00:03\n",
      "   ------------------------------ --------- 28.4/36.9 MB 3.3 MB/s eta 0:00:03\n",
      "   ------------------------------ --------- 28.5/36.9 MB 3.3 MB/s eta 0:00:03\n",
      "   ------------------------------- -------- 28.7/36.9 MB 3.3 MB/s eta 0:00:03\n",
      "   ------------------------------- -------- 28.9/36.9 MB 3.3 MB/s eta 0:00:03\n",
      "   ------------------------------- -------- 29.0/36.9 MB 3.3 MB/s eta 0:00:03\n",
      "   ------------------------------- -------- 29.2/36.9 MB 3.3 MB/s eta 0:00:03\n",
      "   ------------------------------- -------- 29.3/36.9 MB 3.3 MB/s eta 0:00:03\n",
      "   ------------------------------- -------- 29.5/36.9 MB 3.3 MB/s eta 0:00:03\n",
      "   -------------------------------- ------- 29.7/36.9 MB 3.3 MB/s eta 0:00:03\n",
      "   -------------------------------- ------- 29.8/36.9 MB 3.3 MB/s eta 0:00:03\n",
      "   -------------------------------- ------- 29.9/36.9 MB 3.3 MB/s eta 0:00:03\n",
      "   -------------------------------- ------- 30.1/36.9 MB 3.3 MB/s eta 0:00:03\n",
      "   -------------------------------- ------- 30.2/36.9 MB 3.3 MB/s eta 0:00:03\n",
      "   -------------------------------- ------- 30.4/36.9 MB 3.3 MB/s eta 0:00:02\n",
      "   --------------------------------- ------ 30.5/36.9 MB 3.3 MB/s eta 0:00:02\n",
      "   --------------------------------- ------ 30.7/36.9 MB 3.3 MB/s eta 0:00:02\n",
      "   --------------------------------- ------ 30.8/36.9 MB 3.3 MB/s eta 0:00:02\n",
      "   --------------------------------- ------ 31.0/36.9 MB 3.3 MB/s eta 0:00:02\n",
      "   --------------------------------- ------ 31.1/36.9 MB 3.3 MB/s eta 0:00:02\n",
      "   --------------------------------- ------ 31.3/36.9 MB 3.3 MB/s eta 0:00:02\n",
      "   ---------------------------------- ----- 31.4/36.9 MB 3.3 MB/s eta 0:00:02\n",
      "   ---------------------------------- ----- 31.6/36.9 MB 3.3 MB/s eta 0:00:02\n",
      "   ---------------------------------- ----- 31.7/36.9 MB 3.3 MB/s eta 0:00:02\n",
      "   ---------------------------------- ----- 31.9/36.9 MB 3.3 MB/s eta 0:00:02\n",
      "   ---------------------------------- ----- 32.0/36.9 MB 3.3 MB/s eta 0:00:02\n",
      "   ---------------------------------- ----- 32.2/36.9 MB 3.3 MB/s eta 0:00:02\n",
      "   ----------------------------------- ---- 32.3/36.9 MB 3.3 MB/s eta 0:00:02\n",
      "   ----------------------------------- ---- 32.5/36.9 MB 3.3 MB/s eta 0:00:02\n",
      "   ----------------------------------- ---- 32.7/36.9 MB 3.3 MB/s eta 0:00:02\n",
      "   ----------------------------------- ---- 32.8/36.9 MB 3.3 MB/s eta 0:00:02\n",
      "   ----------------------------------- ---- 33.0/36.9 MB 3.3 MB/s eta 0:00:02\n",
      "   ----------------------------------- ---- 33.1/36.9 MB 3.3 MB/s eta 0:00:02\n",
      "   ------------------------------------ --- 33.3/36.9 MB 3.3 MB/s eta 0:00:02\n",
      "   ------------------------------------ --- 33.4/36.9 MB 3.3 MB/s eta 0:00:02\n",
      "   ------------------------------------ --- 33.6/36.9 MB 3.3 MB/s eta 0:00:02\n",
      "   ------------------------------------ --- 33.7/36.9 MB 3.3 MB/s eta 0:00:01\n",
      "   ------------------------------------ --- 33.9/36.9 MB 3.3 MB/s eta 0:00:01\n",
      "   ------------------------------------ --- 34.0/36.9 MB 3.3 MB/s eta 0:00:01\n",
      "   ------------------------------------- -- 34.2/36.9 MB 3.3 MB/s eta 0:00:01\n",
      "   ------------------------------------- -- 34.3/36.9 MB 3.3 MB/s eta 0:00:01\n",
      "   ------------------------------------- -- 34.5/36.9 MB 3.3 MB/s eta 0:00:01\n",
      "   ------------------------------------- -- 34.6/36.9 MB 3.3 MB/s eta 0:00:01\n",
      "   ------------------------------------- -- 34.8/36.9 MB 3.3 MB/s eta 0:00:01\n",
      "   ------------------------------------- -- 34.9/36.9 MB 3.3 MB/s eta 0:00:01\n",
      "   -------------------------------------- - 35.1/36.9 MB 3.3 MB/s eta 0:00:01\n",
      "   -------------------------------------- - 35.2/36.9 MB 3.3 MB/s eta 0:00:01\n",
      "   -------------------------------------- - 35.4/36.9 MB 3.3 MB/s eta 0:00:01\n",
      "   -------------------------------------- - 35.6/36.9 MB 3.3 MB/s eta 0:00:01\n",
      "   -------------------------------------- - 35.7/36.9 MB 3.3 MB/s eta 0:00:01\n",
      "   -------------------------------------- - 35.9/36.9 MB 3.3 MB/s eta 0:00:01\n",
      "   ---------------------------------------  36.0/36.9 MB 3.3 MB/s eta 0:00:01\n",
      "   ---------------------------------------  36.2/36.9 MB 3.3 MB/s eta 0:00:01\n",
      "   ---------------------------------------  36.3/36.9 MB 3.3 MB/s eta 0:00:01\n",
      "   ---------------------------------------  36.5/36.9 MB 3.3 MB/s eta 0:00:01\n",
      "   ---------------------------------------  36.6/36.9 MB 3.3 MB/s eta 0:00:01\n",
      "   ---------------------------------------  36.8/36.9 MB 3.3 MB/s eta 0:00:01\n",
      "   ---------------------------------------  36.9/36.9 MB 3.3 MB/s eta 0:00:01\n",
      "   ---------------------------------------  36.9/36.9 MB 3.3 MB/s eta 0:00:01\n",
      "   ---------------------------------------- 36.9/36.9 MB 3.2 MB/s eta 0:00:00\n",
      "Installing collected packages: scipy\n",
      "  Attempting uninstall: scipy\n",
      "    Found existing installation: scipy 1.10.1\n",
      "    Uninstalling scipy-1.10.1:\n",
      "      Successfully uninstalled scipy-1.10.1\n",
      "Successfully installed scipy-1.11.1\n"
     ]
    },
    {
     "name": "stderr",
     "output_type": "stream",
     "text": [
      "WARNING: Ignoring invalid distribution -rotobuf (c:\\users\\samsung\\anaconda3\\lib\\site-packages)\n",
      "WARNING: Ignoring invalid distribution -rotobuf (c:\\users\\samsung\\anaconda3\\lib\\site-packages)\n",
      "ERROR: pip's dependency resolver does not currently take into account all the packages that are installed. This behaviour is the source of the following dependency conflicts.\n",
      "catboost 1.1.1 requires plotly, which is not installed.\n",
      "eli5 0.13.0 requires tabulate>=0.7.7, which is not installed.\n",
      "mljar-supervised 0.11.5 requires tabulate>=0.8.7, which is not installed.\n",
      "pyldavis 3.4.1 requires gensim, which is not installed.\n",
      "shap 0.41.0 requires cloudpickle, which is not installed.\n",
      "shap 0.41.0 requires numba, which is not installed.\n",
      "klib 1.0.5 requires pandas<2.0.0,>=1.2.0, but you have pandas 2.0.1 which is incompatible.\n",
      "klib 1.0.5 requires seaborn<0.12.0,>=0.11.2, but you have seaborn 0.12.2 which is incompatible.\n",
      "pytorch-tabnet 4.0 requires torch<2.0,>=1.2, but you have torch 2.1.0 which is incompatible.\n",
      "\n",
      "[notice] A new release of pip is available: 23.3.1 -> 24.0\n",
      "[notice] To update, run: python.exe -m pip install --upgrade pip\n"
     ]
    },
    {
     "name": "stdout",
     "output_type": "stream",
     "text": [
      "Collecting imblearn\n",
      "  Downloading imblearn-0.0-py2.py3-none-any.whl (1.9 kB)\n",
      "Collecting imbalanced-learn (from imblearn)\n",
      "  Downloading imbalanced_learn-0.12.0-py3-none-any.whl.metadata (8.2 kB)\n",
      "Requirement already satisfied: numpy>=1.17.3 in c:\\users\\samsung\\anaconda3\\lib\\site-packages (from imbalanced-learn->imblearn) (1.24.3)\n",
      "Requirement already satisfied: scipy>=1.5.0 in c:\\users\\samsung\\anaconda3\\lib\\site-packages (from imbalanced-learn->imblearn) (1.11.1)\n",
      "Requirement already satisfied: scikit-learn>=1.0.2 in c:\\users\\samsung\\anaconda3\\lib\\site-packages (from imbalanced-learn->imblearn) (1.3.0)\n",
      "Requirement already satisfied: joblib>=1.1.1 in c:\\users\\samsung\\anaconda3\\lib\\site-packages (from imbalanced-learn->imblearn) (1.2.0)\n",
      "Requirement already satisfied: threadpoolctl>=2.0.0 in c:\\users\\samsung\\anaconda3\\lib\\site-packages (from imbalanced-learn->imblearn) (2.2.0)\n",
      "Downloading imbalanced_learn-0.12.0-py3-none-any.whl (257 kB)\n",
      "   ---------------------------------------- 0.0/257.7 kB ? eta -:--:--\n",
      "   ------------------- -------------------- 122.9/257.7 kB 3.6 MB/s eta 0:00:01\n",
      "   ---------------------------------------  256.0/257.7 kB 3.2 MB/s eta 0:00:01\n",
      "   ---------------------------------------- 257.7/257.7 kB 2.7 MB/s eta 0:00:00\n",
      "Installing collected packages: imbalanced-learn, imblearn\n",
      "Successfully installed imbalanced-learn-0.12.0 imblearn-0.0\n"
     ]
    },
    {
     "name": "stderr",
     "output_type": "stream",
     "text": [
      "WARNING: Ignoring invalid distribution -rotobuf (c:\\users\\samsung\\anaconda3\\lib\\site-packages)\n",
      "WARNING: Ignoring invalid distribution -rotobuf (c:\\users\\samsung\\anaconda3\\lib\\site-packages)\n",
      "\n",
      "[notice] A new release of pip is available: 23.3.1 -> 24.0\n",
      "[notice] To update, run: python.exe -m pip install --upgrade pip\n"
     ]
    }
   ],
   "source": [
    "!pip install xgboost\n",
    "!pip install category_encoders\n",
    "!pip install optuna\n",
    "!pip install imblearn"
   ]
  },
  {
   "cell_type": "code",
   "execution_count": 2,
   "id": "a8f5adaf",
   "metadata": {
    "executionInfo": {
     "elapsed": 3971,
     "status": "ok",
     "timestamp": 1709293757743,
     "user": {
      "displayName": "신현지",
      "userId": "04492897271342924648"
     },
     "user_tz": -540
    },
    "id": "a8f5adaf"
   },
   "outputs": [],
   "source": [
    "# 기본 라이브러리\n",
    "import warnings\n",
    "warnings.filterwarnings(\"ignore\")\n",
    "import pandas as pd\n",
    "import numpy as np\n",
    "import statsmodels.api as sm\n",
    "import re\n",
    "from sklearn import set_config\n",
    "from tqdm import tqdm\n",
    "%matplotlib inline\n",
    "\n",
    "# 시각화 및 폰트\n",
    "import seaborn as sns\n",
    "import matplotlib.pyplot as plt\n",
    "plt.rc('font', family='Malgun Gothic') # 폰트 지정\n",
    "plt.rc('axes', unicode_minus=False) # 마이너스 폰트 설정\n",
    "%config InlineBackend.figure_format='retina' # 그래프 글씨 뚜렷\n",
    "\n",
    "# 전처리 관련 라이브러리\n",
    "from sklearn.preprocessing import FunctionTransformer, PowerTransformer, OrdinalEncoder, OneHotEncoder\n",
    "from sklearn.experimental import enable_iterative_imputer\n",
    "from sklearn.impute import IterativeImputer, SimpleImputer\n",
    "import category_encoders as ce\n",
    "from sklearn.compose import ColumnTransformer\n",
    "from sklearn.feature_extraction.text import CountVectorizer\n",
    "from sklearn.feature_selection import SequentialFeatureSelector,SelectPercentile\n",
    "from sklearn.decomposition import PCA, TruncatedSVD\n",
    "from sklearn.preprocessing import MinMaxScaler, StandardScaler\n",
    "from imblearn.under_sampling import RandomUnderSampler\n",
    "\n",
    "# 훈련 및 평가 관련 라이브러리\n",
    "from sklearn.model_selection import train_test_split, ShuffleSplit,cross_val_score, cross_validate, KFold\n",
    "from sklearn.pipeline import Pipeline, make_pipeline\n",
    "from sklearn.base import BaseEstimator, TransformerMixin\n",
    "from sklearn.metrics import (accuracy_score, confusion_matrix, f1_score, precision_score, recall_score)\n",
    "\n",
    "# 모델 라이브러리\n",
    "from sklearn.linear_model import LinearRegression, Ridge, Lasso\n",
    "from sklearn.tree import DecisionTreeClassifier\n",
    "import lightgbm\n",
    "from lightgbm import LGBMRegressor, LGBMClassifier, plot_importance\n",
    "# from catboost import CatBoostRegressor\n",
    "import xgboost as xgb\n",
    "from xgboost import XGBClassifier\n",
    "from sklearn.ensemble import RandomForestClassifier\n",
    "from sklearn.neighbors import KNeighborsClassifier\n",
    "from sklearn.ensemble import AdaBoostClassifier\n",
    "from sklearn.linear_model import LogisticRegression\n",
    "# from catboost import CatBoostClassifier\n",
    "\n",
    "# 파라미터 튜닝 관련 라이브러리\n",
    "import optuna\n",
    "from sklearn.model_selection import cross_validate"
   ]
  },
  {
   "cell_type": "markdown",
   "id": "412f98cc",
   "metadata": {
    "id": "412f98cc"
   },
   "source": [
    "- 데이터 셋 읽어오기"
   ]
  },
  {
   "cell_type": "code",
   "execution_count": 3,
   "id": "7ada941e",
   "metadata": {
    "executionInfo": {
     "elapsed": 65,
     "status": "ok",
     "timestamp": 1709293757744,
     "user": {
      "displayName": "신현지",
      "userId": "04492897271342924648"
     },
     "user_tz": -540
    },
    "id": "7ada941e"
   },
   "outputs": [],
   "source": [
    "df_train = pd.read_csv(\"train.csv\") # 학습용 데이터\n",
    "df_test = pd.read_csv(\"submission.csv\") # 테스트 데이터(제출파일의 데이터)"
   ]
  },
  {
   "cell_type": "code",
   "execution_count": 4,
   "id": "20a91eae",
   "metadata": {
    "colab": {
     "base_uri": "https://localhost:8080/",
     "height": 320
    },
    "executionInfo": {
     "elapsed": 57,
     "status": "ok",
     "timestamp": 1709293757744,
     "user": {
      "displayName": "신현지",
      "userId": "04492897271342924648"
     },
     "user_tz": -540
    },
    "id": "20a91eae",
    "outputId": "32414620-9f1a-438c-bea1-b8cd244a9107"
   },
   "outputs": [
    {
     "data": {
      "text/html": [
       "<div>\n",
       "<style scoped>\n",
       "    .dataframe tbody tr th:only-of-type {\n",
       "        vertical-align: middle;\n",
       "    }\n",
       "\n",
       "    .dataframe tbody tr th {\n",
       "        vertical-align: top;\n",
       "    }\n",
       "\n",
       "    .dataframe thead th {\n",
       "        text-align: right;\n",
       "    }\n",
       "</style>\n",
       "<table border=\"1\" class=\"dataframe\">\n",
       "  <thead>\n",
       "    <tr style=\"text-align: right;\">\n",
       "      <th></th>\n",
       "      <th>id</th>\n",
       "      <th>bant_submit</th>\n",
       "      <th>com_reg_ver_win_rate</th>\n",
       "      <th>customer_idx</th>\n",
       "      <th>historical_existing_cnt</th>\n",
       "      <th>id_strategic_ver</th>\n",
       "      <th>it_strategic_ver</th>\n",
       "      <th>idit_strategic_ver</th>\n",
       "      <th>lead_desc_length</th>\n",
       "      <th>ver_cus</th>\n",
       "      <th>ver_pro</th>\n",
       "      <th>ver_win_rate_x</th>\n",
       "      <th>ver_win_ratio_per_bu</th>\n",
       "      <th>lead_owner</th>\n",
       "    </tr>\n",
       "  </thead>\n",
       "  <tbody>\n",
       "    <tr>\n",
       "      <th>count</th>\n",
       "      <td>5271.000000</td>\n",
       "      <td>5271.000000</td>\n",
       "      <td>1788.000000</td>\n",
       "      <td>5271.000000</td>\n",
       "      <td>1275.000000</td>\n",
       "      <td>593.0</td>\n",
       "      <td>53.0</td>\n",
       "      <td>646.0</td>\n",
       "      <td>5271.000000</td>\n",
       "      <td>5271.000000</td>\n",
       "      <td>5271.000000</td>\n",
       "      <td>2373.000000</td>\n",
       "      <td>1906.000000</td>\n",
       "      <td>5271.000000</td>\n",
       "    </tr>\n",
       "    <tr>\n",
       "      <th>mean</th>\n",
       "      <td>10686.395940</td>\n",
       "      <td>0.605720</td>\n",
       "      <td>0.102336</td>\n",
       "      <td>24664.497629</td>\n",
       "      <td>21.272941</td>\n",
       "      <td>1.0</td>\n",
       "      <td>1.0</td>\n",
       "      <td>1.0</td>\n",
       "      <td>81.816164</td>\n",
       "      <td>0.146841</td>\n",
       "      <td>0.081389</td>\n",
       "      <td>0.001093</td>\n",
       "      <td>0.058388</td>\n",
       "      <td>304.458736</td>\n",
       "    </tr>\n",
       "    <tr>\n",
       "      <th>std</th>\n",
       "      <td>6141.012698</td>\n",
       "      <td>0.365631</td>\n",
       "      <td>0.151790</td>\n",
       "      <td>14615.896802</td>\n",
       "      <td>75.187401</td>\n",
       "      <td>0.0</td>\n",
       "      <td>0.0</td>\n",
       "      <td>0.0</td>\n",
       "      <td>135.063265</td>\n",
       "      <td>0.353981</td>\n",
       "      <td>0.273457</td>\n",
       "      <td>0.001189</td>\n",
       "      <td>0.035738</td>\n",
       "      <td>241.502331</td>\n",
       "    </tr>\n",
       "    <tr>\n",
       "      <th>min</th>\n",
       "      <td>1.000000</td>\n",
       "      <td>0.000000</td>\n",
       "      <td>0.003788</td>\n",
       "      <td>1.000000</td>\n",
       "      <td>0.000000</td>\n",
       "      <td>1.0</td>\n",
       "      <td>1.0</td>\n",
       "      <td>1.0</td>\n",
       "      <td>1.000000</td>\n",
       "      <td>0.000000</td>\n",
       "      <td>0.000000</td>\n",
       "      <td>0.000002</td>\n",
       "      <td>0.011583</td>\n",
       "      <td>0.000000</td>\n",
       "    </tr>\n",
       "    <tr>\n",
       "      <th>25%</th>\n",
       "      <td>5644.000000</td>\n",
       "      <td>0.250000</td>\n",
       "      <td>0.032787</td>\n",
       "      <td>11173.500000</td>\n",
       "      <td>0.000000</td>\n",
       "      <td>1.0</td>\n",
       "      <td>1.0</td>\n",
       "      <td>1.0</td>\n",
       "      <td>3.000000</td>\n",
       "      <td>0.000000</td>\n",
       "      <td>0.000000</td>\n",
       "      <td>0.000060</td>\n",
       "      <td>0.048630</td>\n",
       "      <td>97.000000</td>\n",
       "    </tr>\n",
       "    <tr>\n",
       "      <th>50%</th>\n",
       "      <td>10067.000000</td>\n",
       "      <td>0.500000</td>\n",
       "      <td>0.053892</td>\n",
       "      <td>24151.000000</td>\n",
       "      <td>4.000000</td>\n",
       "      <td>1.0</td>\n",
       "      <td>1.0</td>\n",
       "      <td>1.0</td>\n",
       "      <td>26.000000</td>\n",
       "      <td>0.000000</td>\n",
       "      <td>0.000000</td>\n",
       "      <td>0.000572</td>\n",
       "      <td>0.053571</td>\n",
       "      <td>231.000000</td>\n",
       "    </tr>\n",
       "    <tr>\n",
       "      <th>75%</th>\n",
       "      <td>16019.500000</td>\n",
       "      <td>1.000000</td>\n",
       "      <td>0.075000</td>\n",
       "      <td>37680.000000</td>\n",
       "      <td>19.000000</td>\n",
       "      <td>1.0</td>\n",
       "      <td>1.0</td>\n",
       "      <td>1.0</td>\n",
       "      <td>104.000000</td>\n",
       "      <td>0.000000</td>\n",
       "      <td>0.000000</td>\n",
       "      <td>0.001183</td>\n",
       "      <td>0.064566</td>\n",
       "      <td>428.000000</td>\n",
       "    </tr>\n",
       "    <tr>\n",
       "      <th>max</th>\n",
       "      <td>21340.000000</td>\n",
       "      <td>1.000000</td>\n",
       "      <td>1.000000</td>\n",
       "      <td>47466.000000</td>\n",
       "      <td>2219.000000</td>\n",
       "      <td>1.0</td>\n",
       "      <td>1.0</td>\n",
       "      <td>1.0</td>\n",
       "      <td>1143.000000</td>\n",
       "      <td>1.000000</td>\n",
       "      <td>1.000000</td>\n",
       "      <td>0.003079</td>\n",
       "      <td>0.285714</td>\n",
       "      <td>1108.000000</td>\n",
       "    </tr>\n",
       "  </tbody>\n",
       "</table>\n",
       "</div>"
      ],
      "text/plain": [
       "                 id  bant_submit  com_reg_ver_win_rate  customer_idx  \\\n",
       "count   5271.000000  5271.000000           1788.000000   5271.000000   \n",
       "mean   10686.395940     0.605720              0.102336  24664.497629   \n",
       "std     6141.012698     0.365631              0.151790  14615.896802   \n",
       "min        1.000000     0.000000              0.003788      1.000000   \n",
       "25%     5644.000000     0.250000              0.032787  11173.500000   \n",
       "50%    10067.000000     0.500000              0.053892  24151.000000   \n",
       "75%    16019.500000     1.000000              0.075000  37680.000000   \n",
       "max    21340.000000     1.000000              1.000000  47466.000000   \n",
       "\n",
       "       historical_existing_cnt  id_strategic_ver  it_strategic_ver  \\\n",
       "count              1275.000000             593.0              53.0   \n",
       "mean                 21.272941               1.0               1.0   \n",
       "std                  75.187401               0.0               0.0   \n",
       "min                   0.000000               1.0               1.0   \n",
       "25%                   0.000000               1.0               1.0   \n",
       "50%                   4.000000               1.0               1.0   \n",
       "75%                  19.000000               1.0               1.0   \n",
       "max                2219.000000               1.0               1.0   \n",
       "\n",
       "       idit_strategic_ver  lead_desc_length      ver_cus      ver_pro  \\\n",
       "count               646.0       5271.000000  5271.000000  5271.000000   \n",
       "mean                  1.0         81.816164     0.146841     0.081389   \n",
       "std                   0.0        135.063265     0.353981     0.273457   \n",
       "min                   1.0          1.000000     0.000000     0.000000   \n",
       "25%                   1.0          3.000000     0.000000     0.000000   \n",
       "50%                   1.0         26.000000     0.000000     0.000000   \n",
       "75%                   1.0        104.000000     0.000000     0.000000   \n",
       "max                   1.0       1143.000000     1.000000     1.000000   \n",
       "\n",
       "       ver_win_rate_x  ver_win_ratio_per_bu   lead_owner  \n",
       "count     2373.000000           1906.000000  5271.000000  \n",
       "mean         0.001093              0.058388   304.458736  \n",
       "std          0.001189              0.035738   241.502331  \n",
       "min          0.000002              0.011583     0.000000  \n",
       "25%          0.000060              0.048630    97.000000  \n",
       "50%          0.000572              0.053571   231.000000  \n",
       "75%          0.001183              0.064566   428.000000  \n",
       "max          0.003079              0.285714  1108.000000  "
      ]
     },
     "execution_count": 4,
     "metadata": {},
     "output_type": "execute_result"
    }
   ],
   "source": [
    "df_test.describe()"
   ]
  },
  {
   "cell_type": "markdown",
   "id": "af526c13",
   "metadata": {
    "id": "af526c13"
   },
   "source": [
    "## 2. 데이터 전처리"
   ]
  },
  {
   "cell_type": "code",
   "execution_count": 5,
   "id": "90039286",
   "metadata": {
    "colab": {
     "base_uri": "https://localhost:8080/"
    },
    "executionInfo": {
     "elapsed": 53,
     "status": "ok",
     "timestamp": 1709293757745,
     "user": {
      "displayName": "신현지",
      "userId": "04492897271342924648"
     },
     "user_tz": -540
    },
    "id": "90039286",
    "outputId": "300bad77-0ee7-4a5e-cdbb-174bb99c836d"
   },
   "outputs": [
    {
     "data": {
      "text/plain": [
       "Index(['bant_submit', 'customer_country', 'business_unit',\n",
       "       'com_reg_ver_win_rate', 'customer_idx', 'customer_type', 'enterprise',\n",
       "       'historical_existing_cnt', 'id_strategic_ver', 'it_strategic_ver',\n",
       "       'idit_strategic_ver', 'customer_job', 'lead_desc_length',\n",
       "       'inquiry_type', 'product_category', 'product_subcategory',\n",
       "       'product_modelname', 'customer_country.1', 'customer_position',\n",
       "       'response_corporate', 'expected_timeline', 'ver_cus', 'ver_pro',\n",
       "       'ver_win_rate_x', 'ver_win_ratio_per_bu', 'business_area',\n",
       "       'business_subarea', 'lead_owner', 'is_converted'],\n",
       "      dtype='object')"
      ]
     },
     "execution_count": 5,
     "metadata": {},
     "output_type": "execute_result"
    }
   ],
   "source": [
    "columns = df_train.columns ; columns"
   ]
  },
  {
   "cell_type": "code",
   "execution_count": 6,
   "id": "539177af",
   "metadata": {
    "executionInfo": {
     "elapsed": 40,
     "status": "ok",
     "timestamp": 1709293757746,
     "user": {
      "displayName": "신현지",
      "userId": "04492897271342924648"
     },
     "user_tz": -540
    },
    "id": "539177af"
   },
   "outputs": [],
   "source": [
    "df_all = pd.concat([df_train[columns], df_test[columns]])"
   ]
  },
  {
   "cell_type": "markdown",
   "id": "7bc73e43",
   "metadata": {
    "id": "7bc73e43"
   },
   "source": [
    "### 1) bant_submit"
   ]
  },
  {
   "cell_type": "markdown",
   "id": "50d08a68",
   "metadata": {
    "id": "50d08a68"
   },
   "source": [
    "결측값 없음"
   ]
  },
  {
   "cell_type": "markdown",
   "id": "1e5af4aa",
   "metadata": {
    "id": "1e5af4aa"
   },
   "source": [
    "### 2) customer_country\n",
    "- 고객 국적 & 영업 성공 여부 count와 비율"
   ]
  },
  {
   "cell_type": "code",
   "execution_count": 7,
   "id": "62e1f921",
   "metadata": {
    "executionInfo": {
     "elapsed": 38,
     "status": "ok",
     "timestamp": 1709293757752,
     "user": {
      "displayName": "신현지",
      "userId": "04492897271342924648"
     },
     "user_tz": -540
    },
    "id": "62e1f921"
   },
   "outputs": [],
   "source": [
    "# 결측값 처리\n",
    "df_all['customer_country'].fillna('other', inplace=True)"
   ]
  },
  {
   "cell_type": "code",
   "execution_count": 8,
   "id": "323bcd07",
   "metadata": {
    "executionInfo": {
     "elapsed": 34,
     "status": "ok",
     "timestamp": 1709293757752,
     "user": {
      "displayName": "신현지",
      "userId": "04492897271342924648"
     },
     "user_tz": -540
    },
    "id": "323bcd07"
   },
   "outputs": [],
   "source": [
    "# 알파벳 소문자로 전체 변경\n",
    "df_all['customer_country'] = df_all['customer_country'].apply(lambda x: x.lower())"
   ]
  },
  {
   "cell_type": "code",
   "execution_count": 9,
   "id": "b127719a",
   "metadata": {
    "executionInfo": {
     "elapsed": 33,
     "status": "ok",
     "timestamp": 1709293757753,
     "user": {
      "displayName": "신현지",
      "userId": "04492897271342924648"
     },
     "user_tz": -540
    },
    "id": "b127719a"
   },
   "outputs": [],
   "source": [
    "# 전처리 : 국가 값으로 값 변경\n",
    "df_all['customer_country'] = df_all['customer_country'].str.split('/').str[-1].str.strip()"
   ]
  },
  {
   "cell_type": "code",
   "execution_count": 10,
   "id": "aa1d49f4",
   "metadata": {
    "colab": {
     "base_uri": "https://localhost:8080/"
    },
    "executionInfo": {
     "elapsed": 32,
     "status": "ok",
     "timestamp": 1709293757753,
     "user": {
      "displayName": "신현지",
      "userId": "04492897271342924648"
     },
     "user_tz": -540
    },
    "id": "aa1d49f4",
    "outputId": "5a80432e-cbf7-49fb-b6b0-83ad58d05470"
   },
   "outputs": [
    {
     "data": {
      "text/plain": [
       "550"
      ]
     },
     "execution_count": 10,
     "metadata": {},
     "output_type": "execute_result"
    }
   ],
   "source": [
    "df_all['customer_country'].nunique()"
   ]
  },
  {
   "cell_type": "code",
   "execution_count": 11,
   "id": "d2d8d6a5",
   "metadata": {
    "executionInfo": {
     "elapsed": 37279,
     "status": "ok",
     "timestamp": 1709293795006,
     "user": {
      "displayName": "신현지",
      "userId": "04492897271342924648"
     },
     "user_tz": -540
    },
    "id": "d2d8d6a5"
   },
   "outputs": [],
   "source": [
    "keyword = df_all[df_all['customer_country'].str.contains('other|@')]['customer_country']\n",
    "df_all['customer_country'] = df_all['customer_country'].replace(list(keyword),'other')\n",
    "\n",
    "keyword = df_all[df_all['customer_country'].str.contains('united states|us|las vegas|minneapolis|usa|nevada|virginia|hudson|rockefeller|lawrenceville|tucson|manhattan|virgin|boston|angeles|englewood|diego|houston|dexter|watertown|vestavia|patroon|itbprovout')]['customer_country']\n",
    "df_all['customer_country'] = df_all['customer_country'].replace(list(keyword),'united states')\n",
    "\n",
    "keyword = df_all[df_all['customer_country'].str.contains('turkey|türkiye')]['customer_country']\n",
    "df_all['customer_country'] = df_all['customer_country'].replace(list(keyword),'turkey')\n",
    "\n",
    "keyword = df_all[df_all['customer_country'].str.contains('u.a.e|uae')]['customer_country']\n",
    "df_all['customer_country'] = df_all['customer_country'].replace(list(keyword),'uae')\n",
    "\n",
    "keyword = df_all[df_all['customer_country'].str.contains('congo')]['customer_country']\n",
    "df_all['customer_country'] = df_all['customer_country'].replace(list(keyword),'congo')\n",
    "\n",
    "keyword = df_all[df_all['customer_country'].str.contains('italy')]['customer_country']\n",
    "df_all['customer_country'] = df_all['customer_country'].replace(list(keyword),'italy')\n",
    "\n",
    "keyword = df_all[df_all['customer_country'].str.contains('antigua')]['customer_country']\n",
    "df_all['customer_country'] = df_all['customer_country'].replace(list(keyword),'antigua')\n",
    "\n",
    "keyword = df_all[df_all['customer_country'].str.contains('mississauga|canada')]['customer_country']\n",
    "df_all['customer_country'] = df_all['customer_country'].replace(list(keyword),'canada')\n",
    "\n",
    "keyword = df_all[df_all['customer_country'].str.contains('colombia')]['customer_country']\n",
    "df_all['customer_country'] = df_all['customer_country'].replace(list(keyword),'colombia')\n",
    "\n",
    "keyword = df_all[df_all['customer_country'].str.contains('vietnam|ha noi')]['customer_country']\n",
    "df_all['customer_country'] = df_all['customer_country'].replace(list(keyword),'vietnam')\n"
   ]
  },
  {
   "cell_type": "code",
   "execution_count": 12,
   "id": "72aaad7c",
   "metadata": {
    "colab": {
     "base_uri": "https://localhost:8080/"
    },
    "executionInfo": {
     "elapsed": 13,
     "status": "ok",
     "timestamp": 1709293795007,
     "user": {
      "displayName": "신현지",
      "userId": "04492897271342924648"
     },
     "user_tz": -540
    },
    "id": "72aaad7c",
    "outputId": "8765dd71-7d66-4cc3-d863-1d6c9940da64"
   },
   "outputs": [
    {
     "data": {
      "text/plain": [
       "371"
      ]
     },
     "execution_count": 12,
     "metadata": {},
     "output_type": "execute_result"
    }
   ],
   "source": [
    "df_all['customer_country'].nunique()"
   ]
  },
  {
   "cell_type": "code",
   "execution_count": 13,
   "id": "0798b752",
   "metadata": {
    "executionInfo": {
     "elapsed": 2083,
     "status": "ok",
     "timestamp": 1709293797084,
     "user": {
      "displayName": "신현지",
      "userId": "04492897271342924648"
     },
     "user_tz": -540
    },
    "id": "0798b752"
   },
   "outputs": [],
   "source": [
    "counts = df_all['customer_country'].value_counts()\n",
    "result = counts[counts <= 2]\n",
    "idx_lst = result.index.tolist()\n",
    "\n",
    "for val in idx_lst:\n",
    "    idx = df_all['customer_country'][df_all['customer_country'] == val].index\n",
    "    df_all['customer_country'].loc[idx] = 'other'"
   ]
  },
  {
   "cell_type": "code",
   "execution_count": 14,
   "id": "a88bc3fd",
   "metadata": {
    "executionInfo": {
     "elapsed": 27,
     "status": "ok",
     "timestamp": 1709293797084,
     "user": {
      "displayName": "신현지",
      "userId": "04492897271342924648"
     },
     "user_tz": -540
    },
    "id": "a88bc3fd"
   },
   "outputs": [],
   "source": [
    "df_all['customer_country'].replace({'':'other'}, inplace=True)"
   ]
  },
  {
   "cell_type": "code",
   "execution_count": 15,
   "id": "c7ce111b",
   "metadata": {
    "colab": {
     "base_uri": "https://localhost:8080/"
    },
    "executionInfo": {
     "elapsed": 27,
     "status": "ok",
     "timestamp": 1709293797084,
     "user": {
      "displayName": "신현지",
      "userId": "04492897271342924648"
     },
     "user_tz": -540
    },
    "id": "c7ce111b",
    "outputId": "7ee1294e-9ee1-43f9-fb91-9c348fa76447"
   },
   "outputs": [
    {
     "data": {
      "text/plain": [
       "146"
      ]
     },
     "execution_count": 15,
     "metadata": {},
     "output_type": "execute_result"
    }
   ],
   "source": [
    "df_all['customer_country'].nunique()"
   ]
  },
  {
   "cell_type": "code",
   "execution_count": 16,
   "id": "374d6da8",
   "metadata": {
    "colab": {
     "base_uri": "https://localhost:8080/"
    },
    "executionInfo": {
     "elapsed": 22,
     "status": "ok",
     "timestamp": 1709293797084,
     "user": {
      "displayName": "신현지",
      "userId": "04492897271342924648"
     },
     "user_tz": -540
    },
    "id": "374d6da8",
    "outputId": "f2ed4a12-239f-49eb-b313-e59a3b833959"
   },
   "outputs": [
    {
     "data": {
      "text/plain": [
       "array(['philippines', 'india', 'nigeria', 'saudi arabia', 'singapore',\n",
       "       'brazil', 'uae', 'south africa', 'united states', 'colombia',\n",
       "       'mexico', 'ghana', 'egypt', 'congo', 'ethiopia', 'other', 'kenya',\n",
       "       'indonesia', 'oman', 'pakistan', 'united kingdom', 'guatemala',\n",
       "       'panama', 'canada', 'bangladesh', 'papua new guinea',\n",
       "       'united republic of tanzania', 'qatar', 'afghanistan', 'chile',\n",
       "       'mozambique', 'turkey', 'el salvador', 'togo', 'jordan', 'iraq',\n",
       "       'israel', 'sri lanka', 'south korea', 'portugal', 'uruguay',\n",
       "       'peru', 'germany', 'romania', 'norway', 'jamaica', 'hungary',\n",
       "       'poland', 'czech', 'spain', 'argentina', 'ecuador', 'senegal',\n",
       "       'hong kong', 'malaysia', 'japan', 'kuwait', 'ireland', 'albania',\n",
       "       'greece', 'algeria', 'nicaragua', 'slovenia', 'italy',\n",
       "       'netherlands', 'dominican republic', 'france', 'uganda', 'iran',\n",
       "       'paraguay', 'bolivia', 'namibia', 'tunisia', 'puerto rico',\n",
       "       'anguilla', 'croatia', 'fiji', 'denmark', 'sweden', 'belgium',\n",
       "       'venezuela', 'maldives', 'morocco', 'switzerland', 'honduras',\n",
       "       'bahamas', 'burkina faso', 'thailand', 'cambodia', 'zimbabwe',\n",
       "       'vietnam', 'barbados', 'suriname', 'costa rica', 'botswana',\n",
       "       'curaçao', 'guyana', 'china', 'latvia', 'libya',\n",
       "       'central african republic', 'azerbaijan', 'yemen', 'antigua',\n",
       "       'lebanon', 'angola', 'bulgaria', 'armenia', 'trinidad and tobago',\n",
       "       'nepal', 'luxembourg', 'somalia', 'rwanda', 'bahrain', 'georgia',\n",
       "       'turks and caicos islands', 'brunei', 'malta', 'taiwan',\n",
       "       'fl 33772', 'saint kitts and nevis', 'myanmar', 'sierra leone',\n",
       "       'sudan', 'cameroon', \"cote d'ivoire\", 'syria', 'gabon', 'laos',\n",
       "       'lithuania', 'zambia', 'estonia', 'serbia', 'macedonia',\n",
       "       'bosnia and herzegovina', 'bermuda', 'new zealand', 'kazakhstan',\n",
       "       'palestine', 'cayman islands', 'finland', 'kosovo', 'belize',\n",
       "       'st maarten', 'guinea', 'aruba'], dtype=object)"
      ]
     },
     "execution_count": 16,
     "metadata": {},
     "output_type": "execute_result"
    }
   ],
   "source": [
    "df_all['customer_country'].unique()"
   ]
  },
  {
   "cell_type": "markdown",
   "id": "65246c58",
   "metadata": {
    "id": "65246c58"
   },
   "source": [
    "### 3) business_unit\n",
    "- MQL 상품 대응 사업부 & 영업 성공 여부"
   ]
  },
  {
   "cell_type": "markdown",
   "id": "350979e6",
   "metadata": {
    "id": "350979e6"
   },
   "source": [
    "결측값 없음"
   ]
  },
  {
   "cell_type": "markdown",
   "id": "fbf494f9",
   "metadata": {
    "id": "fbf494f9"
   },
   "source": [
    "### 5) customer_idx\n",
    "- 고객 회사명(numeric)"
   ]
  },
  {
   "cell_type": "markdown",
   "id": "5a8ac48f",
   "metadata": {
    "id": "5a8ac48f"
   },
   "source": [
    "결측값 없음"
   ]
  },
  {
   "cell_type": "markdown",
   "id": "9dd05906",
   "metadata": {
    "id": "9dd05906"
   },
   "source": [
    "### 6) customer_type\n",
    "- 고객 유형"
   ]
  },
  {
   "cell_type": "code",
   "execution_count": 17,
   "id": "3c4cad41",
   "metadata": {
    "executionInfo": {
     "elapsed": 15,
     "status": "ok",
     "timestamp": 1709293797084,
     "user": {
      "displayName": "신현지",
      "userId": "04492897271342924648"
     },
     "user_tz": -540
    },
    "id": "3c4cad41"
   },
   "outputs": [],
   "source": [
    "# 전처리 : 중복명 및 통합\n",
    "df_all['customer_type'].replace({'End Customer':'End-Customer', 'Specifier / Influencer': 'Specifier/Influencer',\n",
    "                             'Home Owner':'Homeowner', 'Etc.':'Others','Other':'Others','End-user':'End-Customer',\n",
    "                             'Commercial end-user':'End-Customer','Software / Solution Provider':'Software/Solution Provider',\n",
    "                             'Dealer/Distributor\t':'Distributor'},\n",
    "                            inplace=True)"
   ]
  },
  {
   "cell_type": "code",
   "execution_count": 18,
   "id": "1ae718ec",
   "metadata": {
    "executionInfo": {
     "elapsed": 15,
     "status": "ok",
     "timestamp": 1709293797085,
     "user": {
      "displayName": "신현지",
      "userId": "04492897271342924648"
     },
     "user_tz": -540
    },
    "id": "1ae718ec"
   },
   "outputs": [],
   "source": [
    "# 결측값 처리\n",
    "df_all['customer_type'].fillna('Others', inplace=True)"
   ]
  },
  {
   "cell_type": "markdown",
   "id": "f1f721cc",
   "metadata": {
    "id": "f1f721cc"
   },
   "source": [
    "### 7) enterprise\n",
    "- Global 기업인지, Small/Medium 규모의 기업인지  \n",
    "대기업 / 중소기업"
   ]
  },
  {
   "cell_type": "markdown",
   "id": "98a9ab4e",
   "metadata": {
    "id": "98a9ab4e"
   },
   "source": [
    "결측값 없음"
   ]
  },
  {
   "cell_type": "markdown",
   "id": "f3cbd7c3",
   "metadata": {
    "id": "f3cbd7c3"
   },
   "source": [
    "### 9) id_strategic_ver\n",
    "- (도메인 지식) 특정 사업부(Business Unit), 특정 사업 영역(Vertical Level1)에 대해 가중치를 부여  \n",
    "단일값(1.0)과 결측치만 존재"
   ]
  },
  {
   "cell_type": "code",
   "execution_count": 19,
   "id": "c8e90208",
   "metadata": {
    "executionInfo": {
     "elapsed": 15,
     "status": "ok",
     "timestamp": 1709293797085,
     "user": {
      "displayName": "신현지",
      "userId": "04492897271342924648"
     },
     "user_tz": -540
    },
    "id": "c8e90208"
   },
   "outputs": [],
   "source": [
    "# 결측값 처리\n",
    "df_all['id_strategic_ver'].fillna(0, inplace=True)"
   ]
  },
  {
   "cell_type": "markdown",
   "id": "9a92d725",
   "metadata": {
    "id": "9a92d725"
   },
   "source": [
    "### 10) it_strategic_ver\n",
    "- (도메인 지식) 특정 사업부(Business Unit), 특정 사업 영역(Vertical Level1)에 대해 가중치를 부여\n",
    "단일값(1.0)과 결측치만 존재"
   ]
  },
  {
   "cell_type": "code",
   "execution_count": 20,
   "id": "4e263977",
   "metadata": {
    "executionInfo": {
     "elapsed": 15,
     "status": "ok",
     "timestamp": 1709293797085,
     "user": {
      "displayName": "신현지",
      "userId": "04492897271342924648"
     },
     "user_tz": -540
    },
    "id": "4e263977"
   },
   "outputs": [],
   "source": [
    "# 결측값 처리\n",
    "df_all['it_strategic_ver'].fillna(0, inplace=True)"
   ]
  },
  {
   "cell_type": "markdown",
   "id": "62473dac",
   "metadata": {
    "id": "62473dac"
   },
   "source": [
    "### 11) idit_strategic_ver\n",
    "- Id_strategic_ver이나 it_strategic_ver 값 중 하나라도 1의 값을 가지면 1 값으로 표현   \n",
    "단일값(1.0)과 결측치만 존재"
   ]
  },
  {
   "cell_type": "code",
   "execution_count": 21,
   "id": "d5c87218",
   "metadata": {
    "executionInfo": {
     "elapsed": 15,
     "status": "ok",
     "timestamp": 1709293797085,
     "user": {
      "displayName": "신현지",
      "userId": "04492897271342924648"
     },
     "user_tz": -540
    },
    "id": "d5c87218"
   },
   "outputs": [],
   "source": [
    "# 결측값 처리\n",
    "df_all['idit_strategic_ver'].fillna(0, inplace=True)"
   ]
  },
  {
   "cell_type": "markdown",
   "id": "eb9bb9b3",
   "metadata": {
    "id": "eb9bb9b3"
   },
   "source": [
    "### 12) customer_job\n",
    "- 고객의 직업군"
   ]
  },
  {
   "cell_type": "code",
   "execution_count": 22,
   "id": "a26cd958",
   "metadata": {
    "colab": {
     "base_uri": "https://localhost:8080/"
    },
    "executionInfo": {
     "elapsed": 14,
     "status": "ok",
     "timestamp": 1709293797085,
     "user": {
      "displayName": "신현지",
      "userId": "04492897271342924648"
     },
     "user_tz": -540
    },
    "id": "a26cd958",
    "outputId": "ca82500f-39ad-4e9c-cf1a-2d29921f13c7"
   },
   "outputs": [
    {
     "data": {
      "text/plain": [
       "20172"
      ]
     },
     "execution_count": 22,
     "metadata": {},
     "output_type": "execute_result"
    }
   ],
   "source": [
    "sum(df_all['customer_job'].isnull())"
   ]
  },
  {
   "cell_type": "code",
   "execution_count": 23,
   "id": "664e1bc4",
   "metadata": {
    "executionInfo": {
     "elapsed": 11,
     "status": "ok",
     "timestamp": 1709293797086,
     "user": {
      "displayName": "신현지",
      "userId": "04492897271342924648"
     },
     "user_tz": -540
    },
    "id": "664e1bc4"
   },
   "outputs": [],
   "source": [
    "df_all['customer_job'].fillna('other', inplace=True)"
   ]
  },
  {
   "cell_type": "code",
   "execution_count": 24,
   "id": "305516d5",
   "metadata": {
    "executionInfo": {
     "elapsed": 114230,
     "status": "ok",
     "timestamp": 1709293911305,
     "user": {
      "displayName": "신현지",
      "userId": "04492897271342924648"
     },
     "user_tz": -540
    },
    "id": "305516d5"
   },
   "outputs": [],
   "source": [
    "keyword = df_all[df_all['customer_job'].str.contains('purchas')]['customer_job']\n",
    "df_all['customer_job'] = df_all['customer_job'].replace(list(keyword),'purchasing')\n",
    "\n",
    "keyword = df_all[df_all['customer_job'].str.contains('media|communi')]['customer_job']\n",
    "df_all['customer_job'] = df_all['customer_job'].replace(list(keyword),'media and communication')\n",
    "\n",
    "keyword = df_all[df_all['customer_job'].str.contains('engine|executive')]['customer_job']\n",
    "df_all['customer_job'] = df_all['customer_job'].replace(list(keyword),'engineering')\n",
    "\n",
    "keyword = df_all[df_all['customer_job'].str.contains('consult|strategy')]['customer_job']\n",
    "df_all['customer_job'] = df_all['customer_job'].replace(list(keyword),'consulting')\n",
    "\n",
    "keyword = df_all[df_all['customer_job'].str.contains('program and project management|program|project')]['customer_job']\n",
    "df_all['customer_job'] = df_all['customer_job'].replace(list(keyword),'program and project management')\n",
    "\n",
    "keyword = df_all[df_all['customer_job'].str.contains('other|others|drop|need|%')]['customer_job']\n",
    "df_all['customer_job'] = df_all['customer_job'].replace(list(keyword),'other')\n",
    "\n",
    "keyword = df_all[df_all['customer_job'].str.contains('sales|sale')]['customer_job']\n",
    "df_all['customer_job'] = df_all['customer_job'].replace(list(keyword),'sales')\n",
    "\n",
    "keyword = df_all[df_all['customer_job'].str.contains('operations|ops|employee|managing partner|managing contractor|managing director')]['customer_job']\n",
    "df_all['customer_job'] = df_all['customer_job'].replace(list(keyword),'operations')\n",
    "\n",
    "keyword = df_all[df_all['customer_job'].str.contains('business development|business|procurement|sourcing')]['customer_job']\n",
    "df_all['customer_job'] = df_all['customer_job'].replace(list(keyword),'business development')\n",
    "\n",
    "keyword = df_all[df_all['customer_job'].str.contains('information technology|it|application|network|system|tech|software')]['customer_job']\n",
    "df_all['customer_job'] = df_all['customer_job'].replace(list(keyword),'information technology')\n",
    "\n",
    "keyword = df_all[df_all['customer_job'].str.contains('account')]['customer_job']\n",
    "df_all['customer_job'] = df_all['customer_job'].replace(list(keyword),'accounting')\n",
    "\n",
    "keyword = df_all[df_all['customer_job'].str.contains('educat|academy|teach')]['customer_job']\n",
    "df_all['customer_job'] = df_all['customer_job'].replace(list(keyword),'education')\n",
    "\n",
    "keyword = df_all[df_all['customer_job'].str.contains('health|clinic|medical|surgery|pathologist|cirugía|radiología|imag|cirugano|tierarzt|radiology|doctor')]['customer_job']\n",
    "df_all['customer_job'] = df_all['customer_job'].replace(list(keyword),'healthcare services')\n",
    "\n",
    "keyword = df_all[df_all['customer_job'].str.contains('human resources|hr|human')]['customer_job']\n",
    "df_all['customer_job'] = df_all['customer_job'].replace(list(keyword),'human resources')\n",
    "\n",
    "keyword = df_all[df_all['customer_job'].str.contains('support|service|help|advis|resell|supervisor|facilit')]['customer_job']\n",
    "df_all['customer_job'] = df_all['customer_job'].replace(list(keyword),'support')\n",
    "\n",
    "keyword = df_all[df_all['customer_job'].str.contains('finance|pénzügy')]['customer_job']\n",
    "df_all['customer_job'] = df_all['customer_job'].replace(list(keyword),'finance')\n",
    "\n",
    "keyword = df_all[df_all['customer_job'].str.contains('marketing')]['customer_job']\n",
    "df_all['customer_job'] = df_all['customer_job'].replace(list(keyword),'marketing')\n",
    "\n",
    "keyword = df_all[df_all['customer_job'].str.contains('art|design|color|gallery|meseum')]['customer_job']\n",
    "df_all['customer_job'] = df_all['customer_job'].replace(list(keyword),'arts and design')\n",
    "\n",
    "keyword = df_all[df_all['customer_job'].str.contains('research')]['customer_job']\n",
    "df_all['customer_job'] = df_all['customer_job'].replace(list(keyword),'research')\n",
    "\n",
    "keyword = df_all[df_all['customer_job'].str.contains('product management|product')]['customer_job']\n",
    "df_all['customer_job'] = df_all['customer_job'].replace(list(keyword),'product management')\n",
    "\n",
    "keyword = df_all[df_all['customer_job'].str.contains('architect')]['customer_job']\n",
    "df_all['customer_job'] = df_all['customer_job'].replace(list(keyword),'architect')\n",
    "\n",
    "keyword = df_all[df_all['customer_job'].str.contains('install|integrator')]['customer_job']\n",
    "df_all['customer_job'] = df_all['customer_job'].replace(list(keyword),'installer')\n",
    "\n",
    "keyword = df_all[df_all['customer_job'].str.contains('curation')]['customer_job']\n",
    "df_all['customer_job'] = df_all['customer_job'].replace(list(keyword),'curation')\n",
    "\n",
    "keyword = df_all[df_all['customer_job'].str.contains('owner|ceo|founder|president|boss')]['customer_job']\n",
    "df_all['customer_job'] = df_all['customer_job'].replace(list(keyword),'owner')\n",
    "\n",
    "keyword = df_all[df_all['customer_job'].str.contains('energy')]['customer_job']\n",
    "df_all['customer_job'] = df_all['customer_job'].replace(list(keyword),'energy')\n",
    "\n",
    "keyword = df_all[df_all['customer_job'].str.contains('advert')]['customer_job']\n",
    "df_all['customer_job'] = df_all['customer_job'].replace(list(keyword),'advertising')\n",
    "\n",
    "keyword = df_all[df_all['customer_job'].str.contains('contractor|build|construction')]['customer_job']\n",
    "df_all['customer_job'] = df_all['customer_job'].replace(list(keyword),'contractor')\n",
    "\n",
    "keyword = df_all[df_all['customer_job'].str.contains('hotel')]['customer_job']\n",
    "df_all['customer_job'] = df_all['customer_job'].replace(list(keyword),'hotel')\n",
    "\n",
    "keyword = df_all[df_all['customer_job'].str.contains('distribu|supplie|retail')]['customer_job']\n",
    "df_all['customer_job'] = df_all['customer_job'].replace(list(keyword),'distribution')\n",
    "\n",
    "keyword = df_all[df_all['customer_job'].str.contains('film production|photo|film')]['customer_job']\n",
    "df_all['customer_job'] = df_all['customer_job'].replace(list(keyword),'film production')\n",
    "\n",
    "keyword = df_all[df_all['customer_job'].str.contains('buyer|purcha')]['customer_job']\n",
    "df_all['customer_job'] = df_all['customer_job'].replace(list(keyword),'buyer')\n",
    "\n",
    "keyword = df_all[df_all['customer_job'].str.contains('manager|general|management|manage|vp|gm|admin|pm|manger|manag')]['customer_job']\n",
    "df_all['customer_job'] = df_all['customer_job'].replace(list(keyword),'manage')"
   ]
  },
  {
   "cell_type": "code",
   "execution_count": 25,
   "id": "abf9d443",
   "metadata": {
    "colab": {
     "base_uri": "https://localhost:8080/"
    },
    "executionInfo": {
     "elapsed": 12,
     "status": "ok",
     "timestamp": 1709293911305,
     "user": {
      "displayName": "신현지",
      "userId": "04492897271342924648"
     },
     "user_tz": -540
    },
    "id": "abf9d443",
    "outputId": "d5b5c76a-3a56-43a9-e69f-846d27758cca"
   },
   "outputs": [
    {
     "name": "stdout",
     "output_type": "stream",
     "text": [
      "customer_job\n",
      "vertrieb                    12\n",
      "medien_und_kommunikation    11\n",
      "finanzen                    10\n",
      "decision maker               9\n",
      "otro                         8\n",
      "                            ..\n",
      "appliance specialist         1\n",
      "av estimator                 1\n",
      "pricing                      1\n",
      "ranger 2                     1\n",
      "k12 school                   1\n",
      "Name: count, Length: 161, dtype: int64\n"
     ]
    }
   ],
   "source": [
    "counts = df_all['customer_job'].value_counts()\n",
    "result = counts[counts <= 12]\n",
    "print(result)"
   ]
  },
  {
   "cell_type": "code",
   "execution_count": 26,
   "id": "eee52dbe",
   "metadata": {
    "executionInfo": {
     "elapsed": 1375,
     "status": "ok",
     "timestamp": 1709293912676,
     "user": {
      "displayName": "신현지",
      "userId": "04492897271342924648"
     },
     "user_tz": -540
    },
    "id": "eee52dbe"
   },
   "outputs": [],
   "source": [
    "idx_lst = result.index.tolist()\n",
    "\n",
    "for val in idx_lst:\n",
    "    idx = df_all['customer_job'][df_all['customer_job'] == val].index\n",
    "    df_all['customer_job'].loc[idx] = 'other'"
   ]
  },
  {
   "cell_type": "markdown",
   "id": "fd89d452",
   "metadata": {
    "id": "fd89d452"
   },
   "source": [
    "### 13) lead_desc_length\n",
    "- 고객이 작성한 Lead Description 텍스트 총 길이  "
   ]
  },
  {
   "cell_type": "markdown",
   "id": "c1643a20",
   "metadata": {
    "id": "c1643a20"
   },
   "source": [
    "결측값 없음"
   ]
  },
  {
   "cell_type": "markdown",
   "id": "6f836e9b",
   "metadata": {
    "id": "6f836e9b"
   },
   "source": [
    "### 14) inquiry_type\n",
    "- 고객의 문의 유형"
   ]
  },
  {
   "cell_type": "code",
   "execution_count": 27,
   "id": "2a0224bd",
   "metadata": {
    "colab": {
     "base_uri": "https://localhost:8080/"
    },
    "executionInfo": {
     "elapsed": 18,
     "status": "ok",
     "timestamp": 1709293912677,
     "user": {
      "displayName": "신현지",
      "userId": "04492897271342924648"
     },
     "user_tz": -540
    },
    "id": "2a0224bd",
    "outputId": "b4d65c82-ab8a-47cb-c244-39e1d2179744"
   },
   "outputs": [
    {
     "data": {
      "text/plain": [
       "2233"
      ]
     },
     "execution_count": 27,
     "metadata": {},
     "output_type": "execute_result"
    }
   ],
   "source": [
    "sum(df_all['inquiry_type'].isnull())"
   ]
  },
  {
   "cell_type": "code",
   "execution_count": 28,
   "id": "a4f647c7",
   "metadata": {
    "executionInfo": {
     "elapsed": 9,
     "status": "ok",
     "timestamp": 1709293912677,
     "user": {
      "displayName": "신현지",
      "userId": "04492897271342924648"
     },
     "user_tz": -540
    },
    "id": "a4f647c7"
   },
   "outputs": [],
   "source": [
    "# 결측값 처리\n",
    "df_all['inquiry_type'].fillna('Other', inplace=True)"
   ]
  },
  {
   "cell_type": "code",
   "execution_count": 29,
   "id": "44ea99d2",
   "metadata": {
    "executionInfo": {
     "elapsed": 8,
     "status": "ok",
     "timestamp": 1709293912677,
     "user": {
      "displayName": "신현지",
      "userId": "04492897271342924648"
     },
     "user_tz": -540
    },
    "id": "44ea99d2"
   },
   "outputs": [],
   "source": [
    "# 전처리 : 중복 통합,오탈자 정리\n",
    "df_all['inquiry_type'].replace({'Quotation or purchase consultation':'Quotation or Purchase Consultation',\n",
    "                            'quotation_or_purchase_consultation':'Quotation or Purchase Consultation',\n",
    "                            'Quotation or Purchase consultation':'Quotation or Purchase Consultation',\n",
    "                            'Purchase or Quotation':'Quotation or Purchase Consultation',\n",
    "                            'Others':'Other','other_':'Other','other':'Other','ETC.':'Other','Etc.':'Other','others':'Other',\n",
    "                            'Usage or Technical Consultation':'Technical Consultation\t',\n",
    "                            'Usage or Technical Consultation':'Technical Consultation\t',\n",
    "                            'usage or technical consultation':'Technical Consultation\t',\n",
    "                            },\n",
    "                            inplace=True)"
   ]
  },
  {
   "cell_type": "markdown",
   "id": "a72d312f",
   "metadata": {
    "id": "a72d312f"
   },
   "source": [
    "### 15) product_category\n",
    "- 요청 제품 카테고리"
   ]
  },
  {
   "cell_type": "code",
   "execution_count": 30,
   "id": "ff6c98d9",
   "metadata": {
    "executionInfo": {
     "elapsed": 8,
     "status": "ok",
     "timestamp": 1709293912677,
     "user": {
      "displayName": "신현지",
      "userId": "04492897271342924648"
     },
     "user_tz": -540
    },
    "id": "ff6c98d9"
   },
   "outputs": [],
   "source": [
    "df_all['product_category'] = df_all['product_category'].fillna('etc.')"
   ]
  },
  {
   "cell_type": "code",
   "execution_count": 31,
   "id": "a9b034e8",
   "metadata": {
    "executionInfo": {
     "elapsed": 8,
     "status": "ok",
     "timestamp": 1709293912677,
     "user": {
      "displayName": "신현지",
      "userId": "04492897271342924648"
     },
     "user_tz": -540
    },
    "id": "a9b034e8"
   },
   "outputs": [],
   "source": [
    "keyword = df_all[df_all['product_category'].str.contains('otros|outros|ฯลฯ|آخر|Etc|Other|Others|other|others|error')]['product_category']\n",
    "df_all['product_category'] = df_all['product_category'].replace(list(keyword),'etc.')\n",
    "\n",
    "# ฯลฯ etc آخر 최신 otros 기타(스페인)"
   ]
  },
  {
   "cell_type": "code",
   "execution_count": 32,
   "id": "d6668d2c",
   "metadata": {
    "executionInfo": {
     "elapsed": 8,
     "status": "ok",
     "timestamp": 1709293912678,
     "user": {
      "displayName": "신현지",
      "userId": "04492897271342924648"
     },
     "user_tz": -540
    },
    "id": "d6668d2c"
   },
   "outputs": [],
   "source": [
    "# 전처리 함수 정의\n",
    "def preprocess_category(text):\n",
    "    # 만약 ','가 존재하면 첫 번째 ',' 앞의 문장을 추출, 아니면 그대로 반환\n",
    "    if ',' in text:\n",
    "        return text.split(',')[0].strip()\n",
    "    else:\n",
    "        return text.strip()\n",
    "\n",
    "# 열에 대해 전처리 함수 적용\n",
    "df_all['product_category'] = df_all['product_category'].apply(preprocess_category)"
   ]
  },
  {
   "cell_type": "code",
   "execution_count": 33,
   "id": "d2696c14",
   "metadata": {
    "executionInfo": {
     "elapsed": 59719,
     "status": "ok",
     "timestamp": 1709293972389,
     "user": {
      "displayName": "신현지",
      "userId": "04492897271342924648"
     },
     "user_tz": -540
    },
    "id": "d2696c14"
   },
   "outputs": [],
   "source": [
    "# 중복 카테고리 통일하기\n",
    "keyword = df_all[df_all['product_category'].str.contains('accessories')]['product_category']\n",
    "df_all['product_category'] = df_all['product_category'].replace(list(keyword),'accessories')\n",
    "\n",
    "keyword = df_all[df_all['product_category'].str.contains('chiller|مبرد (تشيلر)')]['product_category']\n",
    "df_all['product_category'] = df_all['product_category'].replace(list(keyword),'chiller')\n",
    "\n",
    "keyword = df_all[df_all['product_category'].str.contains('air conditionor|ar condicionado residencial|aire acondicionado residencial|เครื่องปรับอากาศเผื่อที่อยู่อาศัย|تكييف وتبريد')]['product_category']\n",
    "df_all['product_category'] = df_all['product_category'].replace(list(keyword),'air conditionor')\n",
    "\n",
    "keyword = df_all[df_all['product_category'].str.contains('cloud device')]['product_category']\n",
    "df_all['product_category'] = df_all['product_category'].replace(list(keyword),'cloud device')\n",
    "\n",
    "keyword = df_all[df_all['product_category'].str.contains('control')]['product_category']\n",
    "df_all['product_category'] = df_all['product_category'].replace(list(keyword),'control')\n",
    "\n",
    "keyword = df_all[df_all['product_category'].str.contains('ess')]['product_category']\n",
    "df_all['product_category'] = df_all['product_category'].replace(list(keyword),'ess')\n",
    "\n",
    "keyword = df_all[df_all['product_category'].str.contains('حلول التدفئة|heat|heating|aquecimento|calefacción')]['product_category']\n",
    "df_all['product_category'] = df_all['product_category'].replace(list(keyword),'heating')\n",
    "\n",
    "keyword = df_all[df_all['product_category'].str.contains('高亮度顯示屏|high brightness|high brightness signage')]['product_category']\n",
    "df_all['product_category'] = df_all['product_category'].replace(list(keyword),'high brightness signage')\n",
    "\n",
    "keyword = df_all[df_all['product_category'].str.contains('醫院電視|hospital tv')]['product_category']\n",
    "df_all['product_category'] = df_all['product_category'].replace(list(keyword),'hospital tv')\n",
    "\n",
    "keyword = df_all[df_all['product_category'].str.contains('酒店電視|hotel tv')]['product_category']\n",
    "df_all['product_category'] = df_all['product_category'].replace(list(keyword),'hotel tv')\n",
    "\n",
    "keyword = df_all[df_all['product_category'].str.contains('pol|ctv|htv|tv ')]['product_category']\n",
    "df_all['product_category'] = df_all['product_category'].replace(list(keyword),'tv')\n",
    "\n",
    "keyword = df_all[df_all['product_category'].str.contains('idb|interactive digital board')]['product_category']\n",
    "df_all['product_category'] = df_all['product_category'].replace(list(keyword),'interactive digital board')\n",
    "\n",
    "keyword = df_all[df_all['product_category'].str.contains('互動式顯示屏|interactive signage')]['product_category']\n",
    "df_all['product_category'] = df_all['product_category'].replace(list(keyword),'interactive signage')\n",
    "\n",
    "keyword = df_all[df_all['product_category'].str.contains('laptop|notebook')]['product_category']\n",
    "df_all['product_category'] = df_all['product_category'].replace(list(keyword),'laptop')\n",
    "\n",
    "keyword = df_all[df_all['product_category'].str.contains('顯示屏|led signage')]['product_category']\n",
    "df_all['product_category'] = df_all['product_category'].replace(list(keyword),'led signage')\n",
    "\n",
    "keyword = df_all[df_all['product_category'].str.contains('medical display|medical displays')]['product_category']\n",
    "df_all['product_category'] = df_all['product_category'].replace(list(keyword),'medical display')\n",
    "\n",
    "keyword = df_all[df_all['product_category'].str.contains('monitor')]['product_category']\n",
    "df_all['product_category'] = df_all['product_category'].replace(list(keyword),'monitor')\n",
    "\n",
    "keyword = df_all[df_all['product_category'].str.contains('multi-split')]['product_category']\n",
    "df_all['product_category'] = df_all['product_category'].replace(list(keyword),'multi-split')\n",
    "\n",
    "keyword = df_all[df_all['product_category'].str.contains('oled|oled 顯示屏|oled signage')]['product_category']\n",
    "df_all['product_category'] = df_all['product_category'].replace(list(keyword),'oled signage')\n",
    "# 'oled 顯示屏'의 sub_category 'OLED 透明觸控顯示屏'-> Transparent OLED Touch Signage로 변경\n",
    "\n",
    "keyword = df_all[df_all['product_category'].str.contains('one-quick series|one quick|quick')]['product_category']\n",
    "df_all['product_category'] = df_all['product_category'].replace(list(keyword),'one-quick series')\n",
    "\n",
    "keyword = df_all[df_all['product_category'].str.contains('projector')]['product_category']\n",
    "df_all['product_category'] = df_all['product_category'].replace(list(keyword),'projector')\n",
    "\n",
    "keyword = df_all[df_all['product_category'].str.contains('signage care solution')]['product_category']\n",
    "df_all['product_category'] = df_all['product_category'].replace(list(keyword),'signage care solution')\n",
    "\n",
    "keyword = df_all[df_all['product_category'].str.contains('single split|single-split')]['product_category']\n",
    "df_all['product_category'] = df_all['product_category'].replace(list(keyword),'single-split')\n",
    "\n",
    "keyword = df_all[df_all['product_category'].str.contains('軟體|software solution')]['product_category']\n",
    "df_all['product_category'] = df_all['product_category'].replace(list(keyword),'software solution')\n",
    "\n",
    "keyword = df_all[df_all['product_category'].str.contains('特別顯示屏|special signage')]['product_category']\n",
    "df_all['product_category'] = df_all['product_category'].replace(list(keyword),'special signage')\n",
    "\n",
    "keyword = df_all[df_all['product_category'].str.contains('標準顯示屏|standard signage')]['product_category']\n",
    "df_all['product_category'] = df_all['product_category'].replace(list(keyword),'standard signage')\n",
    "\n",
    "keyword = df_all[df_all['product_category'].str.contains('air|ventilation')]['product_category']\n",
    "df_all['product_category'] = df_all['product_category'].replace(list(keyword),'ventilation')\n",
    "\n",
    "keyword = df_all[df_all['product_category'].str.contains('wall')]['product_category']\n",
    "df_all['product_category'] = df_all['product_category'].replace(list(keyword),'video wall signage')\n",
    "\n",
    "keyword = df_all[df_all['product_category'].str.contains('vrf|ahu|نظام التدفق المتغير')]['product_category']\n",
    "df_all['product_category'] = df_all['product_category'].replace(list(keyword),'vrf')\n",
    "\n",
    "keyword = df_all[df_all['product_category'].str.contains('webos')]['product_category']\n",
    "df_all['product_category'] = df_all['product_category'].replace(list(keyword),'webos')\n",
    "\n",
    "keyword = df_all[df_all['product_category'].str.contains('allin|aio')]['product_category']\n",
    "df_all['product_category'] = df_all['product_category'].replace(list(keyword),'aio')"
   ]
  },
  {
   "cell_type": "code",
   "execution_count": 34,
   "id": "8fc3a043",
   "metadata": {
    "colab": {
     "base_uri": "https://localhost:8080/"
    },
    "executionInfo": {
     "elapsed": 16,
     "status": "ok",
     "timestamp": 1709293972390,
     "user": {
      "displayName": "신현지",
      "userId": "04492897271342924648"
     },
     "user_tz": -540
    },
    "id": "8fc3a043",
    "outputId": "c20a8898-782c-4e7d-acb4-8adabb2c27dd"
   },
   "outputs": [
    {
     "data": {
      "text/plain": [
       "product_category\n",
       "parts                            1\n",
       "hospitality                      1\n",
       "אחר                              1\n",
       "pro centric hotel                1\n",
       "43us660h (na)                    1\n",
       "                             ...  \n",
       "led signage                   3667\n",
       "multi-split                   4225\n",
       "interactive digital board     6259\n",
       "vrf                           6500\n",
       "etc.                         23559\n",
       "Name: count, Length: 155, dtype: int64"
      ]
     },
     "execution_count": 34,
     "metadata": {},
     "output_type": "execute_result"
    }
   ],
   "source": [
    "df_all['product_category'].value_counts(ascending=True)"
   ]
  },
  {
   "cell_type": "markdown",
   "id": "c2001b10",
   "metadata": {
    "id": "c2001b10"
   },
   "source": [
    "### 16) product_subcategory\n",
    "- 요청 제품 하위 카테고리"
   ]
  },
  {
   "cell_type": "code",
   "execution_count": 35,
   "id": "4ef211d9",
   "metadata": {
    "executionInfo": {
     "elapsed": 12,
     "status": "ok",
     "timestamp": 1709293972390,
     "user": {
      "displayName": "신현지",
      "userId": "04492897271342924648"
     },
     "user_tz": -540
    },
    "id": "4ef211d9"
   },
   "outputs": [],
   "source": [
    "df_all['product_subcategory'] = df_all['product_subcategory'].fillna('etc.')"
   ]
  },
  {
   "cell_type": "markdown",
   "id": "389d3bc2",
   "metadata": {
    "id": "389d3bc2"
   },
   "source": [
    "### 17) product_modelname\n",
    "- 요청 제품 모델명"
   ]
  },
  {
   "cell_type": "code",
   "execution_count": 36,
   "id": "5124e56d",
   "metadata": {
    "executionInfo": {
     "elapsed": 12,
     "status": "ok",
     "timestamp": 1709293972390,
     "user": {
      "displayName": "신현지",
      "userId": "04492897271342924648"
     },
     "user_tz": -540
    },
    "id": "5124e56d"
   },
   "outputs": [],
   "source": [
    "# 전처리 : 결측값 Anything 으로 대체\n",
    "df_all['product_modelname'] = df_all['product_modelname'].fillna('Anything')\n",
    "# 전처리 : 값에 국가 존재하면 값에서 제거 후 대체\n",
    "df_all['product_modelname'] = df_all['product_modelname'].str.replace(r'\\(NA\\)|\\(MEA\\)|\\(EU\\)|\\(EU/CIS\\)|\\(ASIA\\)|\\(INDIA\\)|\\(CIS\\)|\\(Colombia\\)|\\(SCA\\)|\\(EU Only\\)|\\(Brazil Only\\)|\\(LATAM\\)|\\(Japan\\)', '', regex=True).str.strip()\n",
    "# 전처리 : 모델명과 모델 코드 모두 존재하면 모델 코드로 대체\n",
    "df_all['product_modelname'] = df_all['product_modelname'].replace({'UltraWide Ergo(34WN780)':'34WN780','UltraFine Ergo(32UN880)':'32UN880',\n",
    "                                     'DualUp(28MQ780)':'28MQ780','Ergo Dual(27QP88D)':'27QP88D',\n",
    "                                     '65EP5G OLED Pro':'65EP5G'})\n",
    "# 전처리 : 같은 것을 지칭하는 경우\n",
    "df_all['product_modelname'] = df_all['product_modelname'].replace({'B, 32HL512D':'32HL512D','Diagnostic Monitors':'Diagnostic Monitor','SuperSign CMS':'LG SuperSign CMS'})\n",
    "# 전처리 : 모델명이 아닌 문장인 것들은 'other'로 대체\n",
    "df_all['product_modelname'] = df_all['product_modelname'].replace(['Total Care Thru One-stop Service', 'Architect , We are Meeting for Enqiry Generation ( This is not a Inquiry)', 'Total Care Thru One', 'Due to budget they have hold the requiement', 'Required After 3 Months', 'Want Split AC', 'Only Installation Need', 'Passed on to Fixxy distribution', 'full', 'This is being dealt with by LG Germany.', 'SuperSign Media Editor', 'SuperSign WB', 'ALL Surgical', 'Surgical', 'diagnostic', 'LGESL Export team is follow up the lead', 'Video', 'Inquiry forwarded to Shaker', 'AI/Machine Learning | Antennas, Transmitters and Towers | Audience Measurement | Cameras and Lenses', 'One:Quick', 'Solution'], 'Other')\n",
    "\n",
    "# 전처리 : '-' 다음의 띄어쓰기를 없애고 반환\n",
    "def preprocess_modelname(modelname):\n",
    "    return modelname.replace('- ', '')\n",
    "df_all['product_modelname'] = df_all['product_modelname'].apply(preprocess_modelname)"
   ]
  },
  {
   "cell_type": "markdown",
   "id": "749e7a55",
   "metadata": {
    "id": "749e7a55"
   },
   "source": [
    "### 18) customer_country.1 제거\n",
    "\n",
    "> 들여쓴 블록\n",
    "\n",
    "\n",
    "- 담당 자사 법인명 기반의 지역 정보(대륙)"
   ]
  },
  {
   "cell_type": "code",
   "execution_count": 37,
   "id": "cd2d471e",
   "metadata": {
    "id": "cd2d471e"
   },
   "outputs": [],
   "source": [
    "df_all.drop([\"customer_country.1\"], axis=1, inplace=True)"
   ]
  },
  {
   "cell_type": "code",
   "execution_count": 38,
   "id": "018b123a",
   "metadata": {
    "colab": {
     "base_uri": "https://localhost:8080/"
    },
    "executionInfo": {
     "elapsed": 41,
     "status": "ok",
     "timestamp": 1709293757749,
     "user": {
      "displayName": "신현지",
      "userId": "04492897271342924648"
     },
     "user_tz": -540
    },
    "id": "018b123a",
    "outputId": "156a83c2-beec-4fff-abd1-67edcdaefe02"
   },
   "outputs": [
    {
     "name": "stdout",
     "output_type": "stream",
     "text": [
      "<class 'pandas.core.frame.DataFrame'>\n",
      "Index: 64570 entries, 0 to 5270\n",
      "Data columns (total 28 columns):\n",
      " #   Column                   Non-Null Count  Dtype  \n",
      "---  ------                   --------------  -----  \n",
      " 0   bant_submit              64570 non-null  float64\n",
      " 1   customer_country         64570 non-null  object \n",
      " 2   business_unit            64570 non-null  object \n",
      " 3   com_reg_ver_win_rate     16356 non-null  float64\n",
      " 4   customer_idx             64570 non-null  int64  \n",
      " 5   customer_type            64570 non-null  object \n",
      " 6   enterprise               64570 non-null  object \n",
      " 7   historical_existing_cnt  15031 non-null  float64\n",
      " 8   id_strategic_ver         64570 non-null  float64\n",
      " 9   it_strategic_ver         64570 non-null  float64\n",
      " 10  idit_strategic_ver       64570 non-null  float64\n",
      " 11  customer_job             64570 non-null  object \n",
      " 12  lead_desc_length         64570 non-null  int64  \n",
      " 13  inquiry_type             64570 non-null  object \n",
      " 14  product_category         64570 non-null  object \n",
      " 15  product_subcategory      64570 non-null  object \n",
      " 16  product_modelname        64570 non-null  object \n",
      " 17  customer_position        64570 non-null  object \n",
      " 18  response_corporate       64570 non-null  object \n",
      " 19  expected_timeline        31299 non-null  object \n",
      " 20  ver_cus                  64570 non-null  int64  \n",
      " 21  ver_pro                  64570 non-null  int64  \n",
      " 22  ver_win_rate_x           20790 non-null  float64\n",
      " 23  ver_win_ratio_per_bu     17210 non-null  float64\n",
      " 24  business_area            20790 non-null  object \n",
      " 25  business_subarea         7342 non-null   object \n",
      " 26  lead_owner               64570 non-null  int64  \n",
      " 27  is_converted             64570 non-null  bool   \n",
      "dtypes: bool(1), float64(8), int64(5), object(14)\n",
      "memory usage: 15.9+ MB\n"
     ]
    }
   ],
   "source": [
    "df_all.info()"
   ]
  },
  {
   "cell_type": "markdown",
   "id": "f3830ed9",
   "metadata": {
    "id": "f3830ed9"
   },
   "source": [
    "Drop"
   ]
  },
  {
   "cell_type": "markdown",
   "id": "dcba2e10",
   "metadata": {
    "id": "dcba2e10"
   },
   "source": []
  },
  {
   "cell_type": "markdown",
   "id": "751ef86f",
   "metadata": {
    "id": "751ef86f"
   },
   "source": [
    "### 19) customer_position\n",
    "- 고객의 회사 직책"
   ]
  },
  {
   "cell_type": "code",
   "execution_count": 39,
   "id": "ec93aff6",
   "metadata": {
    "executionInfo": {
     "elapsed": 11,
     "status": "ok",
     "timestamp": 1709293972390,
     "user": {
      "displayName": "신현지",
      "userId": "04492897271342924648"
     },
     "user_tz": -540
    },
    "id": "ec93aff6"
   },
   "outputs": [],
   "source": [
    "df_all['customer_position'].fillna('other', inplace=True)"
   ]
  },
  {
   "cell_type": "code",
   "execution_count": 40,
   "id": "e8fe1e63",
   "metadata": {
    "executionInfo": {
     "elapsed": 100325,
     "status": "ok",
     "timestamp": 1709294072704,
     "user": {
      "displayName": "신현지",
      "userId": "04492897271342924648"
     },
     "user_tz": -540
    },
    "id": "e8fe1e63"
   },
   "outputs": [],
   "source": [
    "keyword = df_all[df_all['customer_position'].str.contains('none|other|others|not|exhibition|no|customer|unpaid')]['customer_position']\n",
    "df_all['customer_position'] = df_all['customer_position'].replace(list(keyword),'other')\n",
    "\n",
    "keyword = df_all[df_all['customer_position'].str.contains('manager|mana')]['customer_position']\n",
    "df_all['customer_position'] = df_all['customer_position'].replace(list(keyword),'manager')\n",
    "\n",
    "keyword = df_all[df_all['customer_position'].str.contains('ceo|maker|founder|chief|president|boss|vp|vice|chairman|owner|lider')]['customer_position']\n",
    "df_all['customer_position'] = df_all['customer_position'].replace(list(keyword),'ceo/founder')\n",
    "\n",
    "keyword = df_all[df_all['customer_position'].str.contains('director')]['customer_position']\n",
    "df_all['customer_position'] = df_all['customer_position'].replace(list(keyword),'director')\n",
    "\n",
    "keyword = df_all[df_all['customer_position'].str.contains('associate')]['customer_position']\n",
    "df_all['customer_position'] = df_all['customer_position'].replace(list(keyword),'associate/analyst')\n",
    "\n",
    "keyword = df_all[df_all['customer_position'].str.contains('partner')]['customer_position']\n",
    "df_all['customer_position'] = df_all['customer_position'].replace(list(keyword),'partner')\n",
    "\n",
    "keyword = df_all[df_all['customer_position'].str.contains('entry|intern')]['customer_position']\n",
    "df_all['customer_position'] = df_all['customer_position'].replace(list(keyword),'entry level')\n",
    "\n",
    "keyword = df_all[df_all['customer_position'].str.contains('hospital|medical|tierarzt|surgery|pathologist|főorvos|radiology')]['customer_position']\n",
    "df_all['customer_position'] = df_all['customer_position'].replace(list(keyword),'hospital')\n",
    "\n",
    "keyword = df_all[df_all['customer_position'].str.contains('executive')]['customer_position']\n",
    "df_all['customer_position'] = df_all['customer_position'].replace(list(keyword),'c-level executive')\n",
    "\n",
    "keyword = df_all[df_all['customer_position'].str.contains('consult')]['customer_position']\n",
    "df_all['customer_position'] = df_all['customer_position'].replace(list(keyword),'consultant')\n",
    "\n",
    "keyword = df_all[df_all['customer_position'].str.contains('decision influencer|decision-influencer')]['customer_position']\n",
    "df_all['customer_position'] = df_all['customer_position'].replace(list(keyword),'decision influencer')\n",
    "\n",
    "keyword = df_all[df_all['customer_position'].str.contains('edu|teach|prof|academ|college|lecturer|faculty|coach|exam|physics|dean')]['customer_position']\n",
    "df_all['customer_position'] = df_all['customer_position'].replace(list(keyword),'education')\n",
    "\n",
    "keyword = df_all[df_all['customer_position'].str.contains('research')]['customer_position']\n",
    "df_all['customer_position'] = df_all['customer_position'].replace(list(keyword),'research')\n",
    "\n",
    "keyword = df_all[df_all['customer_position'].str.contains('end')]['customer_position']\n",
    "df_all['customer_position'] = df_all['customer_position'].replace(list(keyword),'end-user')\n",
    "\n",
    "keyword = df_all[df_all['customer_position'].str.contains('operation|gerente|genel')]['customer_position']\n",
    "df_all['customer_position'] = df_all['customer_position'].replace(list(keyword),'operation')\n",
    "\n",
    "keyword = df_all[df_all['customer_position'].str.contains('sales|develop')]['customer_position']\n",
    "df_all['customer_position'] = df_all['customer_position'].replace(list(keyword),'sales')\n",
    "\n",
    "keyword = df_all[df_all['customer_position'].str.contains('técnico|software|system|tech')]['customer_position']\n",
    "df_all['customer_position'] = df_all['customer_position'].replace(list(keyword),'software')"
   ]
  },
  {
   "cell_type": "code",
   "execution_count": 41,
   "id": "07cca7b8",
   "metadata": {
    "colab": {
     "base_uri": "https://localhost:8080/"
    },
    "executionInfo": {
     "elapsed": 67,
     "status": "ok",
     "timestamp": 1709294072704,
     "user": {
      "displayName": "신현지",
      "userId": "04492897271342924648"
     },
     "user_tz": -540
    },
    "id": "07cca7b8",
    "outputId": "382bc598-d896-4523-dff2-13214c9f8fa1"
   },
   "outputs": [
    {
     "name": "stdout",
     "output_type": "stream",
     "text": [
      "customer_position\n",
      "distributor                                                1\n",
      "this is a consume display requirement for home purpose.    1\n",
      "proprietário(a)                                            1\n",
      "mindenes                                                   1\n",
      "pgt chemistry                                              1\n",
      "Name: count, dtype: int64\n"
     ]
    }
   ],
   "source": [
    "counts = df_all['customer_position'].value_counts()\n",
    "result = counts[counts == 1]\n",
    "print(result)\n",
    "\n",
    "idx_lst = result.index.tolist()\n",
    "\n",
    "for val in idx_lst:\n",
    "    idx = df_all['customer_position'][df_all['customer_position'] == val].index\n",
    "    df_all['customer_position'].loc[idx] = 'other'"
   ]
  },
  {
   "cell_type": "markdown",
   "id": "7381ba85",
   "metadata": {
    "id": "7381ba85"
   },
   "source": [
    "### 20) response_corporate\n",
    "- 담당 자사 법인명"
   ]
  },
  {
   "cell_type": "markdown",
   "id": "041178bf",
   "metadata": {
    "id": "041178bf"
   },
   "source": [
    "결측값 없음"
   ]
  },
  {
   "cell_type": "markdown",
   "id": "03c5a348",
   "metadata": {
    "id": "03c5a348"
   },
   "source": [
    "### 21) expected_timeline\n",
    "- 고객의 요청한 처리 일정  \n",
    "NLP 처리 필요"
   ]
  },
  {
   "cell_type": "code",
   "execution_count": 42,
   "id": "4b75317c",
   "metadata": {
    "executionInfo": {
     "elapsed": 54,
     "status": "ok",
     "timestamp": 1709294072705,
     "user": {
      "displayName": "신현지",
      "userId": "04492897271342924648"
     },
     "user_tz": -540
    },
    "id": "4b75317c"
   },
   "outputs": [],
   "source": [
    "df_all['expected_timeline'].fillna('neutral', inplace=True)"
   ]
  },
  {
   "cell_type": "code",
   "execution_count": 43,
   "id": "1e95b612",
   "metadata": {
    "executionInfo": {
     "elapsed": 55,
     "status": "ok",
     "timestamp": 1709294072706,
     "user": {
      "displayName": "신현지",
      "userId": "04492897271342924648"
     },
     "user_tz": -540
    },
    "id": "1e95b612"
   },
   "outputs": [],
   "source": [
    "# 결측값 처리\n",
    "df_all['expected_timeline'] = df_all['expected_timeline'].fillna('neutral')\n",
    "# 기간값 수치형 변환\n",
    "df_all['expected_timeline'] = df_all['expected_timeline'].replace({'3 months':3,'3 months ~ 6 months':4.5,'3_months_~_6_months':4.5,\n",
    "                                                            '45 days':1.5,'6 months ~ 9 months':7.5,'6_months_~_9_months':7.5,\n",
    "                                                            '9 months - 1 year':10.5,'9 months ~ 1 year':10.5,'9_months_-_1_year':10.5,\n",
    "                                                            'more than a year':12,'more then 3 months':3,'more_than_a_year':12,\n",
    "                                                            'less than 3 months':1.5,'less than 5 months':2.5,'less than 6 months':3,\n",
    "                                                            'less then 6 months':3,'less_than_3_months':1.5 })\n",
    "# 문자형일 경우 0으로 변환\n",
    "df_all['expected_timeline'] = df_all['expected_timeline'].apply(lambda x:0 if isinstance(x,str) else x)"
   ]
  },
  {
   "cell_type": "code",
   "execution_count": 44,
   "id": "e24ce20e",
   "metadata": {
    "colab": {
     "base_uri": "https://localhost:8080/"
    },
    "executionInfo": {
     "elapsed": 54,
     "status": "ok",
     "timestamp": 1709294072706,
     "user": {
      "displayName": "신현지",
      "userId": "04492897271342924648"
     },
     "user_tz": -540
    },
    "id": "e24ce20e",
    "outputId": "4c178594-d142-4097-e99a-bf230911928d"
   },
   "outputs": [
    {
     "data": {
      "text/plain": [
       "expected_timeline\n",
       "0.0     33999\n",
       "1.5     19061\n",
       "4.5      5461\n",
       "12.0     3299\n",
       "10.5     1366\n",
       "7.5      1269\n",
       "3.0       113\n",
       "2.5         2\n",
       "Name: count, dtype: int64"
      ]
     },
     "execution_count": 44,
     "metadata": {},
     "output_type": "execute_result"
    }
   ],
   "source": [
    "df_all['expected_timeline'].value_counts()"
   ]
  },
  {
   "cell_type": "markdown",
   "id": "b904cd19",
   "metadata": {
    "id": "b904cd19"
   },
   "source": [
    "### 22) ver_cus\n",
    "- 특정 Vertical Level 1(사업영역) 이면서 Customer_type(고객 유형)이 소비자(End-user)인 경우에 대한 가중치"
   ]
  },
  {
   "cell_type": "code",
   "execution_count": 45,
   "id": "b7d30fb9",
   "metadata": {
    "executionInfo": {
     "elapsed": 51,
     "status": "ok",
     "timestamp": 1709294072707,
     "user": {
      "displayName": "신현지",
      "userId": "04492897271342924648"
     },
     "user_tz": -540
    },
    "id": "b7d30fb9"
   },
   "outputs": [],
   "source": [
    "df_all['ver_cus'].fillna(0, inplace=True)"
   ]
  },
  {
   "cell_type": "markdown",
   "id": "1f42728f",
   "metadata": {
    "id": "1f42728f"
   },
   "source": [
    "### 23) ver_pro\n",
    "- 특정 Vertical Level 1(사업영역) 이면서 특정 Product Category(제품 유형)인 경우에 대한 가중치"
   ]
  },
  {
   "cell_type": "code",
   "execution_count": 46,
   "id": "db8e094f",
   "metadata": {
    "executionInfo": {
     "elapsed": 50,
     "status": "ok",
     "timestamp": 1709294072707,
     "user": {
      "displayName": "신현지",
      "userId": "04492897271342924648"
     },
     "user_tz": -540
    },
    "id": "db8e094f"
   },
   "outputs": [],
   "source": [
    "df_all['ver_pro'].fillna(0, inplace=True)"
   ]
  },
  {
   "cell_type": "markdown",
   "id": "253cede6",
   "metadata": {
    "id": "253cede6"
   },
   "source": [
    "### 26) business_area\n",
    "- 고객의 사업 영역"
   ]
  },
  {
   "cell_type": "code",
   "execution_count": 47,
   "id": "46e8903d",
   "metadata": {
    "executionInfo": {
     "elapsed": 50,
     "status": "ok",
     "timestamp": 1709294072707,
     "user": {
      "displayName": "신현지",
      "userId": "04492897271342924648"
     },
     "user_tz": -540
    },
    "id": "46e8903d"
   },
   "outputs": [],
   "source": [
    "df_all['business_area'].fillna('Others', inplace=True)"
   ]
  },
  {
   "cell_type": "markdown",
   "id": "a360fed0",
   "metadata": {
    "id": "a360fed0"
   },
   "source": [
    "### 27)  business_subarea\n",
    "- 고객의 세부 사업 영역"
   ]
  },
  {
   "cell_type": "code",
   "execution_count": 48,
   "id": "4cd934db",
   "metadata": {
    "executionInfo": {
     "elapsed": 50,
     "status": "ok",
     "timestamp": 1709294072707,
     "user": {
      "displayName": "신현지",
      "userId": "04492897271342924648"
     },
     "user_tz": -540
    },
    "id": "4cd934db"
   },
   "outputs": [],
   "source": [
    "df_all['business_subarea'].fillna('Others', inplace=True)"
   ]
  },
  {
   "cell_type": "markdown",
   "id": "411f8f8a",
   "metadata": {
    "id": "411f8f8a"
   },
   "source": [
    "### 28)  lead_owner\n",
    "- 영업 담당자 이름"
   ]
  },
  {
   "cell_type": "markdown",
   "id": "43397e81",
   "metadata": {
    "id": "43397e81"
   },
   "source": [
    "결측값 없음"
   ]
  },
  {
   "cell_type": "code",
   "execution_count": 49,
   "id": "bcb52055",
   "metadata": {
    "colab": {
     "base_uri": "https://localhost:8080/",
     "height": 548
    },
    "executionInfo": {
     "elapsed": 49,
     "status": "ok",
     "timestamp": 1709294072707,
     "user": {
      "displayName": "신현지",
      "userId": "04492897271342924648"
     },
     "user_tz": -540
    },
    "id": "bcb52055",
    "outputId": "ace80ec6-a136-45e1-d605-4a21bd8fc93d"
   },
   "outputs": [
    {
     "data": {
      "text/html": [
       "<div>\n",
       "<style scoped>\n",
       "    .dataframe tbody tr th:only-of-type {\n",
       "        vertical-align: middle;\n",
       "    }\n",
       "\n",
       "    .dataframe tbody tr th {\n",
       "        vertical-align: top;\n",
       "    }\n",
       "\n",
       "    .dataframe thead th {\n",
       "        text-align: right;\n",
       "    }\n",
       "</style>\n",
       "<table border=\"1\" class=\"dataframe\">\n",
       "  <thead>\n",
       "    <tr style=\"text-align: right;\">\n",
       "      <th></th>\n",
       "      <th>bant_submit</th>\n",
       "      <th>customer_country</th>\n",
       "      <th>business_unit</th>\n",
       "      <th>com_reg_ver_win_rate</th>\n",
       "      <th>customer_idx</th>\n",
       "      <th>customer_type</th>\n",
       "      <th>enterprise</th>\n",
       "      <th>historical_existing_cnt</th>\n",
       "      <th>id_strategic_ver</th>\n",
       "      <th>it_strategic_ver</th>\n",
       "      <th>...</th>\n",
       "      <th>response_corporate</th>\n",
       "      <th>expected_timeline</th>\n",
       "      <th>ver_cus</th>\n",
       "      <th>ver_pro</th>\n",
       "      <th>ver_win_rate_x</th>\n",
       "      <th>ver_win_ratio_per_bu</th>\n",
       "      <th>business_area</th>\n",
       "      <th>business_subarea</th>\n",
       "      <th>lead_owner</th>\n",
       "      <th>is_converted</th>\n",
       "    </tr>\n",
       "  </thead>\n",
       "  <tbody>\n",
       "    <tr>\n",
       "      <th>0</th>\n",
       "      <td>1.00</td>\n",
       "      <td>philippines</td>\n",
       "      <td>AS</td>\n",
       "      <td>0.066667</td>\n",
       "      <td>32160</td>\n",
       "      <td>End-Customer</td>\n",
       "      <td>Enterprise</td>\n",
       "      <td>NaN</td>\n",
       "      <td>0.0</td>\n",
       "      <td>0.0</td>\n",
       "      <td>...</td>\n",
       "      <td>LGEPH</td>\n",
       "      <td>1.5</td>\n",
       "      <td>1</td>\n",
       "      <td>0</td>\n",
       "      <td>0.003079</td>\n",
       "      <td>0.026846</td>\n",
       "      <td>corporate / office</td>\n",
       "      <td>Engineering</td>\n",
       "      <td>0</td>\n",
       "      <td>True</td>\n",
       "    </tr>\n",
       "    <tr>\n",
       "      <th>1</th>\n",
       "      <td>1.00</td>\n",
       "      <td>philippines</td>\n",
       "      <td>AS</td>\n",
       "      <td>0.066667</td>\n",
       "      <td>23122</td>\n",
       "      <td>End-Customer</td>\n",
       "      <td>Enterprise</td>\n",
       "      <td>12.0</td>\n",
       "      <td>0.0</td>\n",
       "      <td>0.0</td>\n",
       "      <td>...</td>\n",
       "      <td>LGEPH</td>\n",
       "      <td>1.5</td>\n",
       "      <td>1</td>\n",
       "      <td>0</td>\n",
       "      <td>0.003079</td>\n",
       "      <td>0.026846</td>\n",
       "      <td>corporate / office</td>\n",
       "      <td>Advertising</td>\n",
       "      <td>1</td>\n",
       "      <td>True</td>\n",
       "    </tr>\n",
       "    <tr>\n",
       "      <th>2</th>\n",
       "      <td>1.00</td>\n",
       "      <td>india</td>\n",
       "      <td>AS</td>\n",
       "      <td>0.088889</td>\n",
       "      <td>1755</td>\n",
       "      <td>End-Customer</td>\n",
       "      <td>Enterprise</td>\n",
       "      <td>144.0</td>\n",
       "      <td>0.0</td>\n",
       "      <td>0.0</td>\n",
       "      <td>...</td>\n",
       "      <td>LGEIL</td>\n",
       "      <td>1.5</td>\n",
       "      <td>1</td>\n",
       "      <td>0</td>\n",
       "      <td>0.003079</td>\n",
       "      <td>0.026846</td>\n",
       "      <td>corporate / office</td>\n",
       "      <td>Construction</td>\n",
       "      <td>2</td>\n",
       "      <td>True</td>\n",
       "    </tr>\n",
       "    <tr>\n",
       "      <th>3</th>\n",
       "      <td>1.00</td>\n",
       "      <td>india</td>\n",
       "      <td>AS</td>\n",
       "      <td>0.088889</td>\n",
       "      <td>4919</td>\n",
       "      <td>End-Customer</td>\n",
       "      <td>Enterprise</td>\n",
       "      <td>NaN</td>\n",
       "      <td>0.0</td>\n",
       "      <td>0.0</td>\n",
       "      <td>...</td>\n",
       "      <td>LGEIL</td>\n",
       "      <td>1.5</td>\n",
       "      <td>1</td>\n",
       "      <td>0</td>\n",
       "      <td>0.003079</td>\n",
       "      <td>0.026846</td>\n",
       "      <td>corporate / office</td>\n",
       "      <td>IT/Software</td>\n",
       "      <td>3</td>\n",
       "      <td>True</td>\n",
       "    </tr>\n",
       "    <tr>\n",
       "      <th>4</th>\n",
       "      <td>1.00</td>\n",
       "      <td>india</td>\n",
       "      <td>AS</td>\n",
       "      <td>0.088889</td>\n",
       "      <td>17126</td>\n",
       "      <td>Specifier/ Influencer</td>\n",
       "      <td>Enterprise</td>\n",
       "      <td>NaN</td>\n",
       "      <td>0.0</td>\n",
       "      <td>0.0</td>\n",
       "      <td>...</td>\n",
       "      <td>LGEIL</td>\n",
       "      <td>1.5</td>\n",
       "      <td>0</td>\n",
       "      <td>0</td>\n",
       "      <td>0.003079</td>\n",
       "      <td>0.026846</td>\n",
       "      <td>corporate / office</td>\n",
       "      <td>Others</td>\n",
       "      <td>4</td>\n",
       "      <td>True</td>\n",
       "    </tr>\n",
       "    <tr>\n",
       "      <th>...</th>\n",
       "      <td>...</td>\n",
       "      <td>...</td>\n",
       "      <td>...</td>\n",
       "      <td>...</td>\n",
       "      <td>...</td>\n",
       "      <td>...</td>\n",
       "      <td>...</td>\n",
       "      <td>...</td>\n",
       "      <td>...</td>\n",
       "      <td>...</td>\n",
       "      <td>...</td>\n",
       "      <td>...</td>\n",
       "      <td>...</td>\n",
       "      <td>...</td>\n",
       "      <td>...</td>\n",
       "      <td>...</td>\n",
       "      <td>...</td>\n",
       "      <td>...</td>\n",
       "      <td>...</td>\n",
       "      <td>...</td>\n",
       "      <td>...</td>\n",
       "    </tr>\n",
       "    <tr>\n",
       "      <th>5266</th>\n",
       "      <td>0.50</td>\n",
       "      <td>brazil</td>\n",
       "      <td>AS</td>\n",
       "      <td>NaN</td>\n",
       "      <td>40292</td>\n",
       "      <td>Others</td>\n",
       "      <td>Enterprise</td>\n",
       "      <td>10.0</td>\n",
       "      <td>0.0</td>\n",
       "      <td>0.0</td>\n",
       "      <td>...</td>\n",
       "      <td>LGESP</td>\n",
       "      <td>0.0</td>\n",
       "      <td>0</td>\n",
       "      <td>0</td>\n",
       "      <td>NaN</td>\n",
       "      <td>NaN</td>\n",
       "      <td>Others</td>\n",
       "      <td>Others</td>\n",
       "      <td>97</td>\n",
       "      <td>False</td>\n",
       "    </tr>\n",
       "    <tr>\n",
       "      <th>5267</th>\n",
       "      <td>0.25</td>\n",
       "      <td>united states</td>\n",
       "      <td>IT</td>\n",
       "      <td>NaN</td>\n",
       "      <td>47466</td>\n",
       "      <td>Others</td>\n",
       "      <td>Enterprise</td>\n",
       "      <td>0.0</td>\n",
       "      <td>0.0</td>\n",
       "      <td>0.0</td>\n",
       "      <td>...</td>\n",
       "      <td>LGEUS</td>\n",
       "      <td>0.0</td>\n",
       "      <td>0</td>\n",
       "      <td>0</td>\n",
       "      <td>NaN</td>\n",
       "      <td>NaN</td>\n",
       "      <td>Others</td>\n",
       "      <td>Others</td>\n",
       "      <td>438</td>\n",
       "      <td>False</td>\n",
       "    </tr>\n",
       "    <tr>\n",
       "      <th>5268</th>\n",
       "      <td>0.75</td>\n",
       "      <td>brazil</td>\n",
       "      <td>AS</td>\n",
       "      <td>NaN</td>\n",
       "      <td>46227</td>\n",
       "      <td>Specifier/ Influencer</td>\n",
       "      <td>Enterprise</td>\n",
       "      <td>NaN</td>\n",
       "      <td>0.0</td>\n",
       "      <td>0.0</td>\n",
       "      <td>...</td>\n",
       "      <td>LGESP</td>\n",
       "      <td>1.5</td>\n",
       "      <td>0</td>\n",
       "      <td>0</td>\n",
       "      <td>NaN</td>\n",
       "      <td>NaN</td>\n",
       "      <td>Others</td>\n",
       "      <td>Others</td>\n",
       "      <td>97</td>\n",
       "      <td>True</td>\n",
       "    </tr>\n",
       "    <tr>\n",
       "      <th>5269</th>\n",
       "      <td>0.00</td>\n",
       "      <td>germany</td>\n",
       "      <td>IT</td>\n",
       "      <td>NaN</td>\n",
       "      <td>45667</td>\n",
       "      <td>End-Customer</td>\n",
       "      <td>SMB</td>\n",
       "      <td>NaN</td>\n",
       "      <td>0.0</td>\n",
       "      <td>0.0</td>\n",
       "      <td>...</td>\n",
       "      <td>LGEDG</td>\n",
       "      <td>0.0</td>\n",
       "      <td>0</td>\n",
       "      <td>0</td>\n",
       "      <td>NaN</td>\n",
       "      <td>NaN</td>\n",
       "      <td>Others</td>\n",
       "      <td>Others</td>\n",
       "      <td>429</td>\n",
       "      <td>False</td>\n",
       "    </tr>\n",
       "    <tr>\n",
       "      <th>5270</th>\n",
       "      <td>0.25</td>\n",
       "      <td>india</td>\n",
       "      <td>AS</td>\n",
       "      <td>NaN</td>\n",
       "      <td>23646</td>\n",
       "      <td>End-Customer</td>\n",
       "      <td>Enterprise</td>\n",
       "      <td>NaN</td>\n",
       "      <td>0.0</td>\n",
       "      <td>0.0</td>\n",
       "      <td>...</td>\n",
       "      <td>LGEIL</td>\n",
       "      <td>0.0</td>\n",
       "      <td>0</td>\n",
       "      <td>0</td>\n",
       "      <td>NaN</td>\n",
       "      <td>NaN</td>\n",
       "      <td>Others</td>\n",
       "      <td>Others</td>\n",
       "      <td>4</td>\n",
       "      <td>True</td>\n",
       "    </tr>\n",
       "  </tbody>\n",
       "</table>\n",
       "<p>64570 rows × 28 columns</p>\n",
       "</div>"
      ],
      "text/plain": [
       "      bant_submit customer_country business_unit  com_reg_ver_win_rate  \\\n",
       "0            1.00      philippines            AS              0.066667   \n",
       "1            1.00      philippines            AS              0.066667   \n",
       "2            1.00            india            AS              0.088889   \n",
       "3            1.00            india            AS              0.088889   \n",
       "4            1.00            india            AS              0.088889   \n",
       "...           ...              ...           ...                   ...   \n",
       "5266         0.50           brazil            AS                   NaN   \n",
       "5267         0.25    united states            IT                   NaN   \n",
       "5268         0.75           brazil            AS                   NaN   \n",
       "5269         0.00          germany            IT                   NaN   \n",
       "5270         0.25            india            AS                   NaN   \n",
       "\n",
       "      customer_idx          customer_type  enterprise  \\\n",
       "0            32160           End-Customer  Enterprise   \n",
       "1            23122           End-Customer  Enterprise   \n",
       "2             1755           End-Customer  Enterprise   \n",
       "3             4919           End-Customer  Enterprise   \n",
       "4            17126  Specifier/ Influencer  Enterprise   \n",
       "...            ...                    ...         ...   \n",
       "5266         40292                 Others  Enterprise   \n",
       "5267         47466                 Others  Enterprise   \n",
       "5268         46227  Specifier/ Influencer  Enterprise   \n",
       "5269         45667           End-Customer         SMB   \n",
       "5270         23646           End-Customer  Enterprise   \n",
       "\n",
       "      historical_existing_cnt  id_strategic_ver  it_strategic_ver  ...  \\\n",
       "0                         NaN               0.0               0.0  ...   \n",
       "1                        12.0               0.0               0.0  ...   \n",
       "2                       144.0               0.0               0.0  ...   \n",
       "3                         NaN               0.0               0.0  ...   \n",
       "4                         NaN               0.0               0.0  ...   \n",
       "...                       ...               ...               ...  ...   \n",
       "5266                     10.0               0.0               0.0  ...   \n",
       "5267                      0.0               0.0               0.0  ...   \n",
       "5268                      NaN               0.0               0.0  ...   \n",
       "5269                      NaN               0.0               0.0  ...   \n",
       "5270                      NaN               0.0               0.0  ...   \n",
       "\n",
       "      response_corporate expected_timeline  ver_cus ver_pro ver_win_rate_x  \\\n",
       "0                  LGEPH               1.5        1       0       0.003079   \n",
       "1                  LGEPH               1.5        1       0       0.003079   \n",
       "2                  LGEIL               1.5        1       0       0.003079   \n",
       "3                  LGEIL               1.5        1       0       0.003079   \n",
       "4                  LGEIL               1.5        0       0       0.003079   \n",
       "...                  ...               ...      ...     ...            ...   \n",
       "5266               LGESP               0.0        0       0            NaN   \n",
       "5267               LGEUS               0.0        0       0            NaN   \n",
       "5268               LGESP               1.5        0       0            NaN   \n",
       "5269               LGEDG               0.0        0       0            NaN   \n",
       "5270               LGEIL               0.0        0       0            NaN   \n",
       "\n",
       "     ver_win_ratio_per_bu       business_area business_subarea lead_owner  \\\n",
       "0                0.026846  corporate / office      Engineering          0   \n",
       "1                0.026846  corporate / office      Advertising          1   \n",
       "2                0.026846  corporate / office     Construction          2   \n",
       "3                0.026846  corporate / office      IT/Software          3   \n",
       "4                0.026846  corporate / office           Others          4   \n",
       "...                   ...                 ...              ...        ...   \n",
       "5266                  NaN              Others           Others         97   \n",
       "5267                  NaN              Others           Others        438   \n",
       "5268                  NaN              Others           Others         97   \n",
       "5269                  NaN              Others           Others        429   \n",
       "5270                  NaN              Others           Others          4   \n",
       "\n",
       "      is_converted  \n",
       "0             True  \n",
       "1             True  \n",
       "2             True  \n",
       "3             True  \n",
       "4             True  \n",
       "...            ...  \n",
       "5266         False  \n",
       "5267         False  \n",
       "5268          True  \n",
       "5269         False  \n",
       "5270          True  \n",
       "\n",
       "[64570 rows x 28 columns]"
      ]
     },
     "execution_count": 49,
     "metadata": {},
     "output_type": "execute_result"
    }
   ],
   "source": [
    "df_all"
   ]
  },
  {
   "cell_type": "code",
   "execution_count": 50,
   "id": "ad2f59fe",
   "metadata": {
    "executionInfo": {
     "elapsed": 23,
     "status": "ok",
     "timestamp": 1709294072708,
     "user": {
      "displayName": "신현지",
      "userId": "04492897271342924648"
     },
     "user_tz": -540
    },
    "id": "ad2f59fe"
   },
   "outputs": [],
   "source": [
    "df_train = df_all.iloc[: len(df_train)]\n",
    "df_test = df_all.iloc[len(df_train) :]"
   ]
  },
  {
   "cell_type": "markdown",
   "id": "438aa17c",
   "metadata": {
    "id": "438aa17c"
   },
   "source": [
    "### train / test 나눠서 결측값 처리"
   ]
  },
  {
   "cell_type": "code",
   "execution_count": 51,
   "id": "bf5d5d2b",
   "metadata": {
    "executionInfo": {
     "elapsed": 11473,
     "status": "ok",
     "timestamp": 1709294084158,
     "user": {
      "displayName": "신현지",
      "userId": "04492897271342924648"
     },
     "user_tz": -540
    },
    "id": "bf5d5d2b"
   },
   "outputs": [],
   "source": [
    "# 4) com_reg_ver_win_rate\n",
    "business_unit_lst =  df_all['business_unit'].unique().tolist()\n",
    "country_lst = df_all['customer_country'].unique().tolist()\n",
    "\n",
    "for unit in business_unit_lst:\n",
    "    for country in country_lst:\n",
    "        # 특정 사업부이면서 특정 국가인 경우의 com_reg_ver_win_rate의 평균값 계산\n",
    "        mean_rate = df_train[(df_train['business_unit'] == unit) & (df_train['customer_country'] == country)]['com_reg_ver_win_rate'].mean()\n",
    "\n",
    "        # 평균값이 nan인 경우\n",
    "        if pd.isna(mean_rate) == True:\n",
    "            df_train.loc[(df_train['business_unit'] == unit) & (df_train['customer_country'] == country) & df_train['com_reg_ver_win_rate'].isna(), 'com_reg_ver_win_rate'] = df_train['com_reg_ver_win_rate'].median()\n",
    "            df_test.loc[(df_test['business_unit'] == unit) & (df_test['customer_country'] == country) & df_test['com_reg_ver_win_rate'].isna(), 'com_reg_ver_win_rate'] = df_train['com_reg_ver_win_rate'].median()\n",
    "        else:\n",
    "            # 평균값으로 결측값 대체\n",
    "            df_train.loc[(df_train['business_unit'] == unit) & (df_train['customer_country'] == country) & df_train['com_reg_ver_win_rate'].isna(), 'com_reg_ver_win_rate'] = mean_rate\n",
    "            df_test.loc[(df_test['business_unit'] == unit) & (df_test['customer_country'] == country) & df_test['com_reg_ver_win_rate'].isna(), 'com_reg_ver_win_rate'] = mean_rate\n",
    "\n",
    "\n",
    "\n",
    "# business_unit_lst =  df_test['business_unit'].unique().tolist()\n",
    "# country_lst = df_test['customer_country'].unique().tolist()\n",
    "\n",
    "# for unit in business_unit_lst:\n",
    "#     for country in country_lst:\n",
    "#         # 특정 사업부이면서 특정 국가인 경우의 com_reg_ver_win_rate의 평균값 계산\n",
    "#         mean_rate = df_test[(df_test['business_unit'] == unit) & (df_test['customer_country'] == country)]['com_reg_ver_win_rate'].mean()\n",
    "\n",
    "#         # 평균값이 nan인 경우\n",
    "#         if pd.isna(mean_rate) == True:\n",
    "#             df_test.loc[(df_test['business_unit'] == unit) & (df_test['customer_country'] == country) & df_test['com_reg_ver_win_rate'].isna(), 'com_reg_ver_win_rate'] = df_test['com_reg_ver_win_rate'].median()\n",
    "#         else:\n",
    "#             # 평균값으로 결측값 대체\n",
    "#             df_test.loc[(df_test['business_unit'] == unit) & (df_test['customer_country'] == country) & df_test['com_reg_ver_win_rate'].isna(), 'com_reg_ver_win_rate'] = mean_rate"
   ]
  },
  {
   "cell_type": "code",
   "execution_count": 52,
   "id": "1f979cf9",
   "metadata": {
    "executionInfo": {
     "elapsed": 62,
     "status": "ok",
     "timestamp": 1709294084158,
     "user": {
      "displayName": "신현지",
      "userId": "04492897271342924648"
     },
     "user_tz": -540
    },
    "id": "1f979cf9"
   },
   "outputs": [],
   "source": [
    "# 8) historical_existing_cnt\n",
    "med = df_train['historical_existing_cnt'].median()\n",
    "df_train['historical_existing_cnt'] = df_train['historical_existing_cnt'].fillna(med)\n",
    "df_test['historical_existing_cnt'] = df_test['historical_existing_cnt'].fillna(med)\n",
    "\n",
    "# 24) ver_win_rate_x\n",
    "med = df_train['ver_win_rate_x'].median()\n",
    "df_train['ver_win_rate_x'] = df_train['ver_win_rate_x'].fillna(med)\n",
    "df_test['ver_win_rate_x'] = df_test['ver_win_rate_x'].fillna(med)\n",
    "\n",
    "# 25) ver_win_ratio_per_bu\n",
    "med = df_train['ver_win_ratio_per_bu'].median()\n",
    "df_train['ver_win_ratio_per_bu'] = df_train['ver_win_ratio_per_bu'].fillna(med)\n",
    "df_test['ver_win_ratio_per_bu'] = df_test['ver_win_ratio_per_bu'].fillna(med)"
   ]
  },
  {
   "cell_type": "markdown",
   "id": "394ac5db",
   "metadata": {
    "id": "394ac5db"
   },
   "source": [
    "### train / test 나눠서 스케일링"
   ]
  },
  {
   "cell_type": "code",
   "execution_count": 53,
   "id": "a5dd03dd",
   "metadata": {
    "executionInfo": {
     "elapsed": 61,
     "status": "ok",
     "timestamp": 1709294084158,
     "user": {
      "displayName": "신현지",
      "userId": "04492897271342924648"
     },
     "user_tz": -540
    },
    "id": "a5dd03dd"
   },
   "outputs": [],
   "source": [
    "# 연속형 수치형 칼럼(인덱스를 의미하는 정수형 포함X)\n",
    "numeric_col = ['bant_submit','com_reg_ver_win_rate','historical_existing_cnt','lead_desc_length',\n",
    "               'expected_timeline','ver_win_rate_x','ver_win_ratio_per_bu']\n",
    "\n",
    "# StandardScaler 객체 생성 및 훈련 데이터에 적용\n",
    "scaler = StandardScaler()\n",
    "df_train[numeric_col] = scaler.fit_transform(df_train[numeric_col])\n",
    "df_test[numeric_col] = scaler.transform(df_test[numeric_col]) # fit_transform -> transform"
   ]
  },
  {
   "cell_type": "code",
   "execution_count": 54,
   "id": "f0f3bb7d",
   "metadata": {
    "colab": {
     "base_uri": "https://localhost:8080/"
    },
    "executionInfo": {
     "elapsed": 46,
     "status": "ok",
     "timestamp": 1709294084158,
     "user": {
      "displayName": "신현지",
      "userId": "04492897271342924648"
     },
     "user_tz": -540
    },
    "id": "f0f3bb7d",
    "outputId": "4693c1e8-038b-4197-bead-2d3353b39b62"
   },
   "outputs": [
    {
     "data": {
      "text/plain": [
       "Index(['bant_submit', 'customer_country', 'business_unit',\n",
       "       'com_reg_ver_win_rate', 'customer_idx', 'customer_type', 'enterprise',\n",
       "       'historical_existing_cnt', 'id_strategic_ver', 'it_strategic_ver',\n",
       "       'idit_strategic_ver', 'customer_job', 'lead_desc_length',\n",
       "       'inquiry_type', 'product_category', 'product_subcategory',\n",
       "       'product_modelname', 'customer_position', 'response_corporate',\n",
       "       'expected_timeline', 'ver_cus', 'ver_pro', 'ver_win_rate_x',\n",
       "       'ver_win_ratio_per_bu', 'business_area', 'business_subarea',\n",
       "       'lead_owner', 'is_converted'],\n",
       "      dtype='object')"
      ]
     },
     "execution_count": 54,
     "metadata": {},
     "output_type": "execute_result"
    }
   ],
   "source": [
    "columns = df_train.columns ; columns"
   ]
  },
  {
   "cell_type": "code",
   "execution_count": 55,
   "id": "62d578e7",
   "metadata": {
    "executionInfo": {
     "elapsed": 31,
     "status": "ok",
     "timestamp": 1709294084159,
     "user": {
      "displayName": "신현지",
      "userId": "04492897271342924648"
     },
     "user_tz": -540
    },
    "id": "62d578e7"
   },
   "outputs": [],
   "source": [
    "df = pd.concat([df_train[columns], df_test[columns]])"
   ]
  },
  {
   "cell_type": "markdown",
   "id": "5cd3aaa4",
   "metadata": {
    "id": "5cd3aaa4"
   },
   "source": [
    "## 3. 파생변수 생성"
   ]
  },
  {
   "cell_type": "code",
   "execution_count": 56,
   "id": "3fc9789b",
   "metadata": {
    "executionInfo": {
     "elapsed": 30,
     "status": "ok",
     "timestamp": 1709294084159,
     "user": {
      "displayName": "신현지",
      "userId": "04492897271342924648"
     },
     "user_tz": -540
    },
    "id": "3fc9789b"
   },
   "outputs": [],
   "source": [
    "# 영업 전환율 기준으로 상(40%~), 중(10%~40%), 하(~10%)로 담당 자사 구분\n",
    "high_cor = [1.0, 2.0, 1027.0, 4.0, 5.0, 7.0, 10.0, 12.0, 14.0, 1043.0, 532.0, 1046.0, 542.0, 34.0, 551.0, 43.0, 557.0, 560.0, 566.0, 570.0, 571.0, 572.0, 579.0, 585.0, 84.0, 597.0, 86.0, 599.0, 603.0, 608.0, 611.0, 612.0, 104.0, 621.0, 113.0, 114.0, 629.0, 119.0, 632.0, 636.0, 637.0, 128.0, 129.0, 137.0, 145.0, 146.0, 147.0, 149.0, 152.0, 156.0, 668.0, 158.0, 163.0, 165.0, 166.0, 172.0, 687.0, 183.0, 705.0, 227.0, 228.0, 751.0, 786.0, 278.0, 281.0, 291.0, 297.0, 303.0, 312.0, 315.0, 831.0, 832.0, 833.0, 837.0, 839.0, 327.0, 330.0, 331.0, 332.0, 335.0, 849.0, 339.0, 345.0, 858.0, 351.0, 353.0, 866.0, 355.0, 867.0, 368.0, 369.0, 371.0, 372.0, 373.0, 375.0, 377.0, 890.0, 379.0, 901.0, 396.0, 406.0, 926.0, 931.0, 937.0, 428.0, 941.0, 943.0, 437.0, 438.0, 439.0, 956.0, 448.0, 960.0, 453.0, 455.0, 457.0, 971.0, 460.0, 462.0, 975.0, 976.0, 977.0, 466.0, 464.0, 469.0, 983.0, 474.0, 476.0, 989.0, 991.0, 480.0, 479.0, 483.0, 489.0, 1003.0, 492.0, 501.0, 503.0, 504.0, 507.0, 510.0]\n",
    "medium_cor = [514.0, 3.0, 1026.0, 518.0, 6.0, 8.0, 9.0, 520.0, 11.0, 13.0, 525.0, 1040.0, 17.0, 19.0, 534.0, 1047.0, 24.0, 25.0, 28.0, 31.0, 32.0, 35.0, 36.0, 550.0, 552.0, 553.0, 556.0, 46.0, 47.0, 48.0, 49.0, 564.0, 567.0, 568.0, 61.0, 68.0, 580.0, 73.0, 75.0, 76.0, 589.0, 78.0, 77.0, 83.0, 600.0, 88.0, 89.0, 601.0, 604.0, 93.0, 92.0, 99.0, 100.0, 615.0, 616.0, 617.0, 106.0, 618.0, 619.0, 620.0, 624.0, 625.0, 626.0, 627.0, 116.0, 628.0, 630.0, 118.0, 120.0, 121.0, 117.0, 123.0, 635.0, 634.0, 135.0, 138.0, 657.0, 148.0, 150.0, 151.0, 153.0, 154.0, 155.0, 666.0, 667.0, 157.0, 159.0, 161.0, 162.0, 164.0, 167.0, 680.0, 169.0, 170.0, 168.0, 171.0, 173.0, 682.0, 681.0, 177.0, 182.0, 186.0, 188.0, 190.0, 191.0, 195.0, 201.0, 203.0, 211.0, 213.0, 726.0, 729.0, 217.0, 220.0, 222.0, 223.0, 229.0, 231.0, 238.0, 239.0, 240.0, 241.0, 242.0, 760.0, 254.0, 766.0, 255.0, 257.0, 260.0, 772.0, 262.0, 263.0, 264.0, 267.0, 269.0, 270.0, 271.0, 783.0, 272.0, 275.0, 279.0, 282.0, 283.0, 288.0, 289.0, 298.0, 302.0, 304.0, 308.0, 310.0, 311.0, 313.0, 314.0, 316.0, 317.0, 835.0, 324.0, 325.0, 838.0, 333.0, 334.0, 847.0, 337.0, 340.0, 342.0, 343.0, 348.0, 352.0, 356.0, 360.0, 362.0, 875.0, 374.0, 382.0, 386.0, 388.0, 410.0, 430.0, 431.0, 436.0, 950.0, 440.0, 953.0, 442.0, 955.0, 445.0, 446.0, 957.0, 449.0, 962.0, 451.0, 450.0, 969.0, 970.0, 459.0, 972.0, 467.0, 982.0, 472.0, 473.0, 475.0, 477.0, 482.0, 485.0, 487.0, 488.0, 493.0, 495.0, 506.0, 508.0]\n",
    "low_cor = [0.0, 15.0, 16.0, 18.0, 20.0, 21.0, 22.0, 23.0, 26.0, 27.0, 29.0, 30.0, 33.0, 37.0, 38.0, 39.0, 40.0, 41.0, 42.0, 44.0, 45.0, 50.0, 51.0, 52.0, 53.0, 54.0, 55.0, 56.0, 57.0, 58.0, 59.0, 60.0, 62.0, 63.0, 64.0, 65.0, 66.0, 67.0, 69.0, 70.0, 71.0, 72.0, 74.0, 79.0, 80.0, 81.0, 82.0, 85.0, 87.0, 90.0, 91.0, 94.0, 95.0, 96.0, 97.0, 98.0, 101.0, 102.0, 103.0, 105.0, 107.0, 108.0, 109.0, 110.0, 111.0, 112.0, 115.0, 122.0, 124.0, 125.0, 126.0, 127.0, 130.0, 133.0, 134.0, 136.0, 139.0, 140.0, 141.0, 142.0, 143.0, 144.0, 160.0, 174.0, 175.0, 176.0, 178.0, 179.0, 180.0, 181.0, 184.0, 185.0, 187.0, 189.0, 192.0, 193.0, 194.0, 196.0, 197.0, 198.0, 199.0, 200.0, 202.0, 204.0, 205.0, 206.0, 207.0, 208.0, 209.0, 210.0, 212.0, 214.0, 215.0, 216.0, 218.0, 219.0, 221.0, 224.0, 225.0, 226.0, 230.0, 232.0, 233.0, 234.0, 235.0, 236.0, 237.0, 243.0, 244.0, 245.0, 246.0, 247.0, 248.0, 249.0, 250.0, 251.0, 252.0, 253.0, 256.0, 258.0, 259.0, 261.0, 265.0, 266.0, 268.0, 273.0, 274.0, 276.0, 277.0, 280.0, 284.0, 285.0, 286.0, 287.0, 290.0, 292.0, 293.0, 294.0, 295.0, 296.0, 299.0, 300.0, 301.0, 305.0, 306.0, 307.0, 309.0, 318.0, 319.0, 320.0, 321.0, 323.0, 326.0, 328.0, 329.0, 336.0, 338.0, 341.0, 344.0, 346.0, 347.0, 349.0, 350.0, 354.0, 357.0, 358.0, 359.0, 361.0, 363.0, 364.0, 365.0, 366.0, 367.0, 370.0, 376.0, 378.0, 380.0, 381.0, 383.0, 384.0, 385.0, 387.0, 389.0, 390.0, 391.0, 392.0, 393.0, 394.0, 395.0, 397.0, 398.0, 399.0, 400.0, 401.0, 402.0, 403.0, 404.0, 405.0, 407.0, 408.0, 409.0, 411.0, 412.0, 413.0, 414.0, 415.0, 416.0, 417.0, 418.0, 419.0, 420.0, 421.0, 422.0, 423.0, 424.0, 425.0, 426.0, 427.0, 429.0, 432.0, 433.0, 434.0, 435.0, 441.0, 443.0, 444.0, 447.0, 452.0, 454.0, 456.0, 458.0, 461.0, 463.0, 465.0, 468.0, 470.0, 471.0, 478.0, 481.0, 484.0, 486.0, 490.0, 491.0, 494.0, 496.0, 497.0, 498.0, 499.0, 500.0, 502.0, 505.0, 509.0, 511.0, 512.0, 513.0, 515.0, 516.0, 517.0, 519.0, 521.0, 522.0, 523.0, 524.0, 526.0, 527.0, 528.0, 529.0, 530.0, 531.0, 533.0, 535.0, 536.0, 537.0, 538.0, 539.0, 540.0, 541.0, 543.0, 544.0, 545.0, 546.0, 547.0, 548.0, 549.0, 554.0, 555.0, 558.0, 559.0, 562.0, 563.0, 565.0, 569.0, 573.0, 574.0, 575.0, 576.0, 577.0, 578.0, 581.0, 582.0, 583.0, 584.0, 586.0, 587.0, 588.0, 591.0, 592.0, 593.0, 594.0, 595.0, 596.0, 598.0, 602.0, 605.0, 606.0, 607.0, 609.0, 610.0, 613.0, 614.0, 622.0, 623.0, 631.0, 633.0, 638.0, 639.0, 640.0, 641.0, 642.0, 643.0, 644.0, 645.0, 646.0, 647.0, 648.0, 649.0, 650.0, 651.0, 652.0, 653.0, 654.0, 655.0, 656.0, 658.0, 659.0, 660.0, 661.0, 662.0, 663.0, 664.0, 665.0, 669.0, 670.0, 671.0, 672.0, 673.0, 674.0, 675.0, 676.0, 677.0, 678.0, 679.0, 683.0, 684.0, 685.0, 686.0, 688.0, 689.0, 690.0, 691.0, 692.0, 693.0, 694.0, 695.0, 696.0, 697.0, 698.0, 699.0, 700.0, 701.0, 702.0, 703.0, 704.0, 706.0, 707.0, 708.0, 709.0, 710.0, 711.0, 712.0, 713.0, 714.0, 715.0, 716.0, 717.0, 718.0, 719.0, 720.0, 721.0, 722.0, 723.0, 724.0, 725.0, 727.0, 728.0, 730.0, 731.0, 732.0, 733.0, 734.0, 735.0, 736.0, 737.0, 738.0, 739.0, 740.0, 741.0, 742.0, 743.0, 744.0, 745.0, 746.0, 747.0, 748.0, 749.0, 750.0, 752.0, 753.0, 754.0, 755.0, 756.0, 757.0, 758.0, 759.0, 761.0, 762.0, 763.0, 764.0, 765.0, 767.0, 768.0, 769.0, 771.0, 773.0, 774.0, 775.0, 776.0, 777.0, 778.0, 779.0, 780.0, 781.0, 782.0, 784.0, 785.0, 787.0, 788.0, 789.0, 790.0, 791.0, 792.0, 793.0, 794.0, 795.0, 796.0, 797.0, 798.0, 799.0, 800.0, 801.0, 802.0, 803.0, 804.0, 805.0, 806.0, 807.0, 808.0, 809.0, 810.0, 811.0, 812.0, 813.0, 814.0, 815.0, 816.0, 817.0, 818.0, 819.0, 820.0, 821.0, 822.0, 823.0, 825.0, 826.0, 827.0, 828.0, 834.0, 841.0, 842.0, 843.0, 844.0, 845.0, 846.0, 848.0, 850.0, 851.0, 852.0, 853.0, 854.0, 855.0, 856.0, 857.0, 859.0, 860.0, 861.0, 862.0, 864.0, 865.0, 868.0, 869.0, 870.0, 871.0, 873.0, 874.0, 876.0, 877.0, 878.0, 879.0, 881.0, 882.0, 883.0, 885.0, 886.0, 887.0, 888.0, 889.0, 891.0, 892.0, 894.0, 895.0, 896.0, 897.0, 898.0, 899.0, 900.0, 902.0, 903.0, 904.0, 905.0, 906.0, 907.0, 908.0, 909.0, 910.0, 911.0, 912.0, 915.0, 916.0, 917.0, 919.0, 920.0, 921.0, 922.0, 923.0, 924.0, 925.0, 927.0, 928.0, 929.0, 932.0, 933.0, 934.0, 935.0, 936.0, 938.0, 942.0, 944.0, 946.0, 947.0, 948.0, 949.0, 951.0, 952.0, 954.0, 958.0, 959.0, 961.0, 963.0, 964.0, 965.0, 966.0, 968.0, 973.0, 974.0, 978.0, 979.0, 980.0, 981.0, 984.0, 985.0, 986.0, 987.0, 988.0, 990.0, 992.0, 993.0, 994.0, 995.0, 996.0, 997.0, 998.0, 999.0, 1000.0, 1001.0, 1002.0, 1004.0, 1005.0, 1006.0, 1007.0, 1008.0, 1009.0, 1010.0, 1011.0, 1012.0, 1013.0, 1014.0, 1015.0, 1016.0, 1017.0, 1018.0, 1019.0, 1020.0, 1021.0, 1023.0, 1024.0, 1025.0, 1028.0, 1030.0, 1031.0, 1032.0, 1033.0, 1037.0, 1038.0, 1039.0, 1041.0, 1042.0, 1044.0, 1045.0, 1048.0, 1049.0, 1055.0, 1056.0, 1058.0, 1062.0, 1063.0, 1065.0, 1066.0, 1067.0, 1068.0, 1069.0, 1070.0, 1071.0, 1072.0, 1073.0, 1074.0, 1075.0, 1076.0, 1077.0, 1078.0, 1079.0, 1080.0, 1081.0, 1082.0, 1083.0, 1084.0, 1085.0, 1086.0, 1088.0, 1089.0, 1090.0, 1091.0, 1092.0, 1093.0, 1094.0, 1095.0, 1096.0, 1098.0, 1099.0, 1101.0, 1102.0, 1103.0, 1105.0, 1106.0, 1108.0, 1109.0, 1110.0, 1111.0, 1114.0]\n",
    "\n",
    "df['lead_owner_rank'] = 0\n",
    "high_cor_row = df['lead_owner'].isin(high_cor)\n",
    "df.loc[high_cor_row,'lead_owner_rank'] = 2\n",
    "medium_cor_row = df['lead_owner'].isin(medium_cor)\n",
    "df.loc[medium_cor_row,'lead_owner_rank'] = 1\n",
    "low_cor_row = df['lead_owner'].isin(low_cor)\n",
    "df.loc[low_cor_row,'lead_owner'] = 0\n",
    "\n",
    "# 과거 영업 전환 되었던 비율이 양수인 고객과 음수인 고객 구분\n",
    "df['historical_convert_plus_minus'] = 0\n",
    "tmp_idx = df['historical_existing_cnt'].sort_values(ascending=False)[:4706].index\n",
    "df.loc[tmp_idx, 'historical_convert_plus_minus'] = 1\n",
    "tmp_idx = df['historical_existing_cnt'].sort_values(ascending=False)[4706:].index\n",
    "df.loc[tmp_idx, 'historical_convert_plus_minus'] = -1\n",
    "\n",
    "# 파생변수 : 과거 영업 전환 되었던 횟수가 100번 이상인 고객 인덱스\n",
    "tmp_idx = df['historical_existing_cnt'].sort_values(ascending=False).head(1400).index\n",
    "df['historical_convert_over_100'] = 0\n",
    "df.loc[tmp_idx, 'historical_convert_over_100'] = 1\n",
    "\n",
    "# 영업 전환율 기준으로 상(20%~), 중(10%~20%), 하(~10%)로 담당 자사 구분\n",
    "high_cor = ['LGEHK', 'LGETT', 'LGEAF', 'LGECZ', 'LGERO', 'LGEMC', 'LGELA']\n",
    "medium_cor = ['LGEIN', 'LGEPH', 'LGETH', 'LGESA', 'LGEGF', 'LGEUS', 'LGEPT', 'LGEAR', 'LGEHS', 'LGEAP', 'LGESL']\n",
    "low_cor = ['LGECB', 'LGEML', 'LGEPS', 'LGEIR', 'LGEEB', 'LGELF', 'LGEVH', 'LGEES', 'LGEPR', 'LGEIS', 'LGEAS', 'LGEUR', 'LGEYK', 'LGEEG', 'LGECH', 'LGECI', 'LGEIL', 'LGECL', 'LGESP', 'LGERA', 'LGEKR', 'LGESJ', 'LGEBT', 'LGEJP', 'LGEAG', 'LGEMK', 'LGEFS', 'LGEBN', 'LGEPL', 'LGEUK', 'LGETK', 'LGEMS', 'LGEEF', 'LGESW', 'LGEDG']\n",
    "df['corporate_rank'] = 0\n",
    "high_cor_row = df['response_corporate'].isin(high_cor)\n",
    "df.loc[high_cor_row,'corporate_rank'] = 2\n",
    "medium_cor_row = df['response_corporate'].isin(medium_cor)\n",
    "df.loc[medium_cor_row,'corporate_rank'] = 1\n",
    "low_cor_row = df['response_corporate'].isin(low_cor)\n",
    "df.loc[low_cor_row,'corporate_rank'] = 0"
   ]
  },
  {
   "cell_type": "code",
   "execution_count": 57,
   "id": "9a63569a",
   "metadata": {
    "executionInfo": {
     "elapsed": 665,
     "status": "ok",
     "timestamp": 1709294084794,
     "user": {
      "displayName": "신현지",
      "userId": "04492897271342924648"
     },
     "user_tz": -540
    },
    "id": "9a63569a"
   },
   "outputs": [],
   "source": [
    "high_convert_position= ['associate/analyst','consultant','decision influencer','manager']\n",
    "df['important_customer_position'] = df['customer_position'].isin(high_convert_position).astype(int)"
   ]
  },
  {
   "cell_type": "code",
   "execution_count": 58,
   "id": "cbc7aa54",
   "metadata": {
    "executionInfo": {
     "elapsed": 72,
     "status": "ok",
     "timestamp": 1709294084794,
     "user": {
      "displayName": "신현지",
      "userId": "04492897271342924648"
     },
     "user_tz": -540
    },
    "id": "cbc7aa54"
   },
   "outputs": [],
   "source": [
    "# 국적과 사업부 조합\n",
    "df['feat_2'] = df['customer_country'] + df['business_unit']\n",
    "\n",
    "# 고객 유형과 직업 조합\n",
    "df['feat_3'] = df['customer_type'] + df['customer_job']\n",
    "\n",
    "# 고객 회사명과 국가 조합\n",
    "df['customer_idx'] = df['customer_idx'].astype(str)\n",
    "df['customer_idx_country'] = df['customer_idx'] + df['customer_country']\n",
    "\n",
    "# 영업 담당자 이름과 국가 조합\n",
    "df['lead_owner'] = df['lead_owner'].astype(str)\n",
    "df['lead_owner_country'] = df['lead_owner'] + df['customer_country']"
   ]
  },
  {
   "cell_type": "code",
   "execution_count": 59,
   "id": "a513a65a",
   "metadata": {
    "colab": {
     "base_uri": "https://localhost:8080/",
     "height": 531
    },
    "executionInfo": {
     "elapsed": 72,
     "status": "ok",
     "timestamp": 1709294084795,
     "user": {
      "displayName": "신현지",
      "userId": "04492897271342924648"
     },
     "user_tz": -540
    },
    "id": "a513a65a",
    "outputId": "330537e5-5a4a-42fa-c890-5729f306e7ee"
   },
   "outputs": [
    {
     "data": {
      "text/html": [
       "<div>\n",
       "<style scoped>\n",
       "    .dataframe tbody tr th:only-of-type {\n",
       "        vertical-align: middle;\n",
       "    }\n",
       "\n",
       "    .dataframe tbody tr th {\n",
       "        vertical-align: top;\n",
       "    }\n",
       "\n",
       "    .dataframe thead th {\n",
       "        text-align: right;\n",
       "    }\n",
       "</style>\n",
       "<table border=\"1\" class=\"dataframe\">\n",
       "  <thead>\n",
       "    <tr style=\"text-align: right;\">\n",
       "      <th></th>\n",
       "      <th>bant_submit</th>\n",
       "      <th>customer_country</th>\n",
       "      <th>business_unit</th>\n",
       "      <th>com_reg_ver_win_rate</th>\n",
       "      <th>customer_idx</th>\n",
       "      <th>customer_type</th>\n",
       "      <th>enterprise</th>\n",
       "      <th>historical_existing_cnt</th>\n",
       "      <th>id_strategic_ver</th>\n",
       "      <th>it_strategic_ver</th>\n",
       "      <th>...</th>\n",
       "      <th>is_converted</th>\n",
       "      <th>lead_owner_rank</th>\n",
       "      <th>historical_convert_plus_minus</th>\n",
       "      <th>historical_convert_over_100</th>\n",
       "      <th>corporate_rank</th>\n",
       "      <th>important_customer_position</th>\n",
       "      <th>feat_2</th>\n",
       "      <th>feat_3</th>\n",
       "      <th>customer_idx_country</th>\n",
       "      <th>lead_owner_country</th>\n",
       "    </tr>\n",
       "  </thead>\n",
       "  <tbody>\n",
       "    <tr>\n",
       "      <th>0</th>\n",
       "      <td>1.277360</td>\n",
       "      <td>philippines</td>\n",
       "      <td>AS</td>\n",
       "      <td>-0.120277</td>\n",
       "      <td>32160</td>\n",
       "      <td>End-Customer</td>\n",
       "      <td>Enterprise</td>\n",
       "      <td>-0.163685</td>\n",
       "      <td>0.0</td>\n",
       "      <td>0.0</td>\n",
       "      <td>...</td>\n",
       "      <td>True</td>\n",
       "      <td>0</td>\n",
       "      <td>-1</td>\n",
       "      <td>0</td>\n",
       "      <td>1</td>\n",
       "      <td>0</td>\n",
       "      <td>philippinesAS</td>\n",
       "      <td>End-Customerbuyer</td>\n",
       "      <td>32160philippines</td>\n",
       "      <td>0philippines</td>\n",
       "    </tr>\n",
       "    <tr>\n",
       "      <th>1</th>\n",
       "      <td>1.277360</td>\n",
       "      <td>philippines</td>\n",
       "      <td>AS</td>\n",
       "      <td>-0.120277</td>\n",
       "      <td>23122</td>\n",
       "      <td>End-Customer</td>\n",
       "      <td>Enterprise</td>\n",
       "      <td>0.191067</td>\n",
       "      <td>0.0</td>\n",
       "      <td>0.0</td>\n",
       "      <td>...</td>\n",
       "      <td>True</td>\n",
       "      <td>2</td>\n",
       "      <td>-1</td>\n",
       "      <td>0</td>\n",
       "      <td>1</td>\n",
       "      <td>0</td>\n",
       "      <td>philippinesAS</td>\n",
       "      <td>End-Customermedia and communication</td>\n",
       "      <td>23122philippines</td>\n",
       "      <td>1philippines</td>\n",
       "    </tr>\n",
       "    <tr>\n",
       "      <th>2</th>\n",
       "      <td>1.277360</td>\n",
       "      <td>india</td>\n",
       "      <td>AS</td>\n",
       "      <td>0.062087</td>\n",
       "      <td>1755</td>\n",
       "      <td>End-Customer</td>\n",
       "      <td>Enterprise</td>\n",
       "      <td>6.044481</td>\n",
       "      <td>0.0</td>\n",
       "      <td>0.0</td>\n",
       "      <td>...</td>\n",
       "      <td>True</td>\n",
       "      <td>2</td>\n",
       "      <td>-1</td>\n",
       "      <td>1</td>\n",
       "      <td>0</td>\n",
       "      <td>0</td>\n",
       "      <td>indiaAS</td>\n",
       "      <td>End-Customerengineering</td>\n",
       "      <td>1755india</td>\n",
       "      <td>2india</td>\n",
       "    </tr>\n",
       "    <tr>\n",
       "      <th>3</th>\n",
       "      <td>1.277360</td>\n",
       "      <td>india</td>\n",
       "      <td>AS</td>\n",
       "      <td>0.062087</td>\n",
       "      <td>4919</td>\n",
       "      <td>End-Customer</td>\n",
       "      <td>Enterprise</td>\n",
       "      <td>-0.163685</td>\n",
       "      <td>0.0</td>\n",
       "      <td>0.0</td>\n",
       "      <td>...</td>\n",
       "      <td>True</td>\n",
       "      <td>1</td>\n",
       "      <td>-1</td>\n",
       "      <td>0</td>\n",
       "      <td>0</td>\n",
       "      <td>0</td>\n",
       "      <td>indiaAS</td>\n",
       "      <td>End-Customerentrepreneurship</td>\n",
       "      <td>4919india</td>\n",
       "      <td>3india</td>\n",
       "    </tr>\n",
       "    <tr>\n",
       "      <th>4</th>\n",
       "      <td>1.277360</td>\n",
       "      <td>india</td>\n",
       "      <td>AS</td>\n",
       "      <td>0.062087</td>\n",
       "      <td>17126</td>\n",
       "      <td>Specifier/ Influencer</td>\n",
       "      <td>Enterprise</td>\n",
       "      <td>-0.163685</td>\n",
       "      <td>0.0</td>\n",
       "      <td>0.0</td>\n",
       "      <td>...</td>\n",
       "      <td>True</td>\n",
       "      <td>2</td>\n",
       "      <td>-1</td>\n",
       "      <td>0</td>\n",
       "      <td>0</td>\n",
       "      <td>0</td>\n",
       "      <td>indiaAS</td>\n",
       "      <td>Specifier/ Influencerconsulting</td>\n",
       "      <td>17126india</td>\n",
       "      <td>4india</td>\n",
       "    </tr>\n",
       "    <tr>\n",
       "      <th>...</th>\n",
       "      <td>...</td>\n",
       "      <td>...</td>\n",
       "      <td>...</td>\n",
       "      <td>...</td>\n",
       "      <td>...</td>\n",
       "      <td>...</td>\n",
       "      <td>...</td>\n",
       "      <td>...</td>\n",
       "      <td>...</td>\n",
       "      <td>...</td>\n",
       "      <td>...</td>\n",
       "      <td>...</td>\n",
       "      <td>...</td>\n",
       "      <td>...</td>\n",
       "      <td>...</td>\n",
       "      <td>...</td>\n",
       "      <td>...</td>\n",
       "      <td>...</td>\n",
       "      <td>...</td>\n",
       "      <td>...</td>\n",
       "      <td>...</td>\n",
       "    </tr>\n",
       "    <tr>\n",
       "      <th>5266</th>\n",
       "      <td>-0.470501</td>\n",
       "      <td>brazil</td>\n",
       "      <td>AS</td>\n",
       "      <td>-0.588290</td>\n",
       "      <td>40292</td>\n",
       "      <td>Others</td>\n",
       "      <td>Enterprise</td>\n",
       "      <td>0.102379</td>\n",
       "      <td>0.0</td>\n",
       "      <td>0.0</td>\n",
       "      <td>...</td>\n",
       "      <td>False</td>\n",
       "      <td>0</td>\n",
       "      <td>-1</td>\n",
       "      <td>0</td>\n",
       "      <td>0</td>\n",
       "      <td>1</td>\n",
       "      <td>brazilAS</td>\n",
       "      <td>Othersother</td>\n",
       "      <td>40292brazil</td>\n",
       "      <td>0brazil</td>\n",
       "    </tr>\n",
       "    <tr>\n",
       "      <th>5267</th>\n",
       "      <td>-1.344431</td>\n",
       "      <td>united states</td>\n",
       "      <td>IT</td>\n",
       "      <td>4.382139</td>\n",
       "      <td>47466</td>\n",
       "      <td>Others</td>\n",
       "      <td>Enterprise</td>\n",
       "      <td>-0.341062</td>\n",
       "      <td>0.0</td>\n",
       "      <td>0.0</td>\n",
       "      <td>...</td>\n",
       "      <td>False</td>\n",
       "      <td>2</td>\n",
       "      <td>-1</td>\n",
       "      <td>0</td>\n",
       "      <td>1</td>\n",
       "      <td>0</td>\n",
       "      <td>united statesIT</td>\n",
       "      <td>Othersother</td>\n",
       "      <td>47466united states</td>\n",
       "      <td>438united states</td>\n",
       "    </tr>\n",
       "    <tr>\n",
       "      <th>5268</th>\n",
       "      <td>0.403430</td>\n",
       "      <td>brazil</td>\n",
       "      <td>AS</td>\n",
       "      <td>-0.588290</td>\n",
       "      <td>46227</td>\n",
       "      <td>Specifier/ Influencer</td>\n",
       "      <td>Enterprise</td>\n",
       "      <td>-0.163685</td>\n",
       "      <td>0.0</td>\n",
       "      <td>0.0</td>\n",
       "      <td>...</td>\n",
       "      <td>True</td>\n",
       "      <td>0</td>\n",
       "      <td>-1</td>\n",
       "      <td>0</td>\n",
       "      <td>0</td>\n",
       "      <td>1</td>\n",
       "      <td>brazilAS</td>\n",
       "      <td>Specifier/ Influencerentrepreneurship</td>\n",
       "      <td>46227brazil</td>\n",
       "      <td>0brazil</td>\n",
       "    </tr>\n",
       "    <tr>\n",
       "      <th>5269</th>\n",
       "      <td>-2.218362</td>\n",
       "      <td>germany</td>\n",
       "      <td>IT</td>\n",
       "      <td>1.226414</td>\n",
       "      <td>45667</td>\n",
       "      <td>End-Customer</td>\n",
       "      <td>SMB</td>\n",
       "      <td>-0.163685</td>\n",
       "      <td>0.0</td>\n",
       "      <td>0.0</td>\n",
       "      <td>...</td>\n",
       "      <td>False</td>\n",
       "      <td>0</td>\n",
       "      <td>-1</td>\n",
       "      <td>0</td>\n",
       "      <td>0</td>\n",
       "      <td>0</td>\n",
       "      <td>germanyIT</td>\n",
       "      <td>End-Customerother</td>\n",
       "      <td>45667germany</td>\n",
       "      <td>0germany</td>\n",
       "    </tr>\n",
       "    <tr>\n",
       "      <th>5270</th>\n",
       "      <td>-1.344431</td>\n",
       "      <td>india</td>\n",
       "      <td>AS</td>\n",
       "      <td>-0.010204</td>\n",
       "      <td>23646</td>\n",
       "      <td>End-Customer</td>\n",
       "      <td>Enterprise</td>\n",
       "      <td>-0.163685</td>\n",
       "      <td>0.0</td>\n",
       "      <td>0.0</td>\n",
       "      <td>...</td>\n",
       "      <td>True</td>\n",
       "      <td>2</td>\n",
       "      <td>-1</td>\n",
       "      <td>0</td>\n",
       "      <td>0</td>\n",
       "      <td>0</td>\n",
       "      <td>indiaAS</td>\n",
       "      <td>End-Customerother</td>\n",
       "      <td>23646india</td>\n",
       "      <td>4india</td>\n",
       "    </tr>\n",
       "  </tbody>\n",
       "</table>\n",
       "<p>64570 rows × 37 columns</p>\n",
       "</div>"
      ],
      "text/plain": [
       "      bant_submit customer_country business_unit  com_reg_ver_win_rate  \\\n",
       "0        1.277360      philippines            AS             -0.120277   \n",
       "1        1.277360      philippines            AS             -0.120277   \n",
       "2        1.277360            india            AS              0.062087   \n",
       "3        1.277360            india            AS              0.062087   \n",
       "4        1.277360            india            AS              0.062087   \n",
       "...           ...              ...           ...                   ...   \n",
       "5266    -0.470501           brazil            AS             -0.588290   \n",
       "5267    -1.344431    united states            IT              4.382139   \n",
       "5268     0.403430           brazil            AS             -0.588290   \n",
       "5269    -2.218362          germany            IT              1.226414   \n",
       "5270    -1.344431            india            AS             -0.010204   \n",
       "\n",
       "     customer_idx          customer_type  enterprise  historical_existing_cnt  \\\n",
       "0           32160           End-Customer  Enterprise                -0.163685   \n",
       "1           23122           End-Customer  Enterprise                 0.191067   \n",
       "2            1755           End-Customer  Enterprise                 6.044481   \n",
       "3            4919           End-Customer  Enterprise                -0.163685   \n",
       "4           17126  Specifier/ Influencer  Enterprise                -0.163685   \n",
       "...           ...                    ...         ...                      ...   \n",
       "5266        40292                 Others  Enterprise                 0.102379   \n",
       "5267        47466                 Others  Enterprise                -0.341062   \n",
       "5268        46227  Specifier/ Influencer  Enterprise                -0.163685   \n",
       "5269        45667           End-Customer         SMB                -0.163685   \n",
       "5270        23646           End-Customer  Enterprise                -0.163685   \n",
       "\n",
       "      id_strategic_ver  it_strategic_ver  ...  is_converted lead_owner_rank  \\\n",
       "0                  0.0               0.0  ...          True               0   \n",
       "1                  0.0               0.0  ...          True               2   \n",
       "2                  0.0               0.0  ...          True               2   \n",
       "3                  0.0               0.0  ...          True               1   \n",
       "4                  0.0               0.0  ...          True               2   \n",
       "...                ...               ...  ...           ...             ...   \n",
       "5266               0.0               0.0  ...         False               0   \n",
       "5267               0.0               0.0  ...         False               2   \n",
       "5268               0.0               0.0  ...          True               0   \n",
       "5269               0.0               0.0  ...         False               0   \n",
       "5270               0.0               0.0  ...          True               2   \n",
       "\n",
       "      historical_convert_plus_minus historical_convert_over_100  \\\n",
       "0                                -1                           0   \n",
       "1                                -1                           0   \n",
       "2                                -1                           1   \n",
       "3                                -1                           0   \n",
       "4                                -1                           0   \n",
       "...                             ...                         ...   \n",
       "5266                             -1                           0   \n",
       "5267                             -1                           0   \n",
       "5268                             -1                           0   \n",
       "5269                             -1                           0   \n",
       "5270                             -1                           0   \n",
       "\n",
       "     corporate_rank important_customer_position           feat_2  \\\n",
       "0                 1                           0    philippinesAS   \n",
       "1                 1                           0    philippinesAS   \n",
       "2                 0                           0          indiaAS   \n",
       "3                 0                           0          indiaAS   \n",
       "4                 0                           0          indiaAS   \n",
       "...             ...                         ...              ...   \n",
       "5266              0                           1         brazilAS   \n",
       "5267              1                           0  united statesIT   \n",
       "5268              0                           1         brazilAS   \n",
       "5269              0                           0        germanyIT   \n",
       "5270              0                           0          indiaAS   \n",
       "\n",
       "                                     feat_3 customer_idx_country  \\\n",
       "0                         End-Customerbuyer     32160philippines   \n",
       "1       End-Customermedia and communication     23122philippines   \n",
       "2                   End-Customerengineering            1755india   \n",
       "3              End-Customerentrepreneurship            4919india   \n",
       "4           Specifier/ Influencerconsulting           17126india   \n",
       "...                                     ...                  ...   \n",
       "5266                            Othersother          40292brazil   \n",
       "5267                            Othersother   47466united states   \n",
       "5268  Specifier/ Influencerentrepreneurship          46227brazil   \n",
       "5269                      End-Customerother         45667germany   \n",
       "5270                      End-Customerother           23646india   \n",
       "\n",
       "      lead_owner_country  \n",
       "0           0philippines  \n",
       "1           1philippines  \n",
       "2                 2india  \n",
       "3                 3india  \n",
       "4                 4india  \n",
       "...                  ...  \n",
       "5266             0brazil  \n",
       "5267    438united states  \n",
       "5268             0brazil  \n",
       "5269            0germany  \n",
       "5270              4india  \n",
       "\n",
       "[64570 rows x 37 columns]"
      ]
     },
     "execution_count": 59,
     "metadata": {},
     "output_type": "execute_result"
    }
   ],
   "source": [
    "df"
   ]
  },
  {
   "cell_type": "markdown",
   "id": "404b0273",
   "metadata": {
    "id": "404b0273"
   },
   "source": [
    "## 4. 인코딩"
   ]
  },
  {
   "cell_type": "code",
   "execution_count": 60,
   "id": "b082226c",
   "metadata": {
    "executionInfo": {
     "elapsed": 70,
     "status": "ok",
     "timestamp": 1709294084796,
     "user": {
      "displayName": "신현지",
      "userId": "04492897271342924648"
     },
     "user_tz": -540
    },
    "id": "b082226c"
   },
   "outputs": [],
   "source": [
    "df_train = df.iloc[: len(df_train)]\n",
    "df_test = df.iloc[len(df_train) :]"
   ]
  },
  {
   "cell_type": "markdown",
   "id": "4bd47e00",
   "metadata": {
    "id": "4bd47e00"
   },
   "source": [
    "- Label Encoding"
   ]
  },
  {
   "cell_type": "code",
   "execution_count": 61,
   "id": "0b42b1a1",
   "metadata": {
    "executionInfo": {
     "elapsed": 69,
     "status": "ok",
     "timestamp": 1709294084796,
     "user": {
      "displayName": "신현지",
      "userId": "04492897271342924648"
     },
     "user_tz": -540
    },
    "id": "0b42b1a1"
   },
   "outputs": [],
   "source": [
    "def label_encoding(series: pd.Series) -> pd.Series:\n",
    "    \"\"\"범주형 데이터를 시리즈 형태로 받아 숫자형 데이터로 변환\"\"\"\n",
    "    my_dict = {}\n",
    "\n",
    "    # 모든 요소를 문자열로 변환\n",
    "    series = series.astype(str)\n",
    "\n",
    "    for idx, value in enumerate(sorted(series.unique())):\n",
    "        my_dict[value] = idx\n",
    "    series = series.map(my_dict)\n",
    "\n",
    "    return series"
   ]
  },
  {
   "cell_type": "code",
   "execution_count": 62,
   "id": "881a4612",
   "metadata": {
    "executionInfo": {
     "elapsed": 69,
     "status": "ok",
     "timestamp": 1709294084796,
     "user": {
      "displayName": "신현지",
      "userId": "04492897271342924648"
     },
     "user_tz": -540
    },
    "id": "881a4612"
   },
   "outputs": [],
   "source": [
    "# 레이블 인코딩할 칼럼들\n",
    "label_columns  = df.select_dtypes(include=['object']).columns.to_list()\n",
    "# label_columns.remove('enterprise')\n",
    "\n",
    "for col in label_columns:\n",
    "    df_train[col] = label_encoding(df_train[col])\n",
    "\n",
    "for col in label_columns:\n",
    "    df_test[col] = label_encoding(df_test[col])"
   ]
  },
  {
   "cell_type": "markdown",
   "id": "79ecfa9b",
   "metadata": {
    "id": "79ecfa9b"
   },
   "source": [
    "## 5. 모델 학습"
   ]
  },
  {
   "cell_type": "markdown",
   "id": "0d23e4d9",
   "metadata": {
    "id": "0d23e4d9"
   },
   "source": [
    "- Checking Feature Importance"
   ]
  },
  {
   "cell_type": "code",
   "execution_count": 63,
   "id": "1170b3c9",
   "metadata": {
    "executionInfo": {
     "elapsed": 69,
     "status": "ok",
     "timestamp": 1709294084797,
     "user": {
      "displayName": "신현지",
      "userId": "04492897271342924648"
     },
     "user_tz": -540
    },
    "id": "1170b3c9"
   },
   "outputs": [],
   "source": [
    "#feature importance가 낮은 파생변수 drop.\n",
    "\n",
    "df_train.drop([\"historical_convert_over_100\"], axis=1, inplace=True)\n",
    "df_test.drop([\"historical_convert_over_100\"], axis=1, inplace=True)"
   ]
  },
  {
   "cell_type": "markdown",
   "id": "0bdf3347",
   "metadata": {
    "id": "0bdf3347"
   },
   "source": [
    "- 학습, 검증 데이터 분리 + Under Sampling"
   ]
  },
  {
   "cell_type": "code",
   "execution_count": 64,
   "id": "9bd78367",
   "metadata": {
    "executionInfo": {
     "elapsed": 69,
     "status": "ok",
     "timestamp": 1709294084809,
     "user": {
      "displayName": "신현지",
      "userId": "04492897271342924648"
     },
     "user_tz": -540
    },
    "id": "9bd78367"
   },
   "outputs": [],
   "source": [
    "x_train = df_train.drop([\"is_converted\"], axis=1)\n",
    "x_test = df_test.drop([\"is_converted\"], axis=1)\n",
    "y_train = df_train[\"is_converted\"]\n",
    "y_test = df_test[\"is_converted\"]\n",
    "\n",
    "# 언더샘플링을 위한 RandomUnderSampler 객체 생성\n",
    "rus = RandomUnderSampler(sampling_strategy='auto', random_state=42)\n",
    "x_train_sample, y_train_sample= rus.fit_resample(x_train,y_train)\n",
    "x_train, x_val, y_train, y_val = train_test_split(x_train_sample, y_train_sample,test_size=0.2,\n",
    "                                                  shuffle=True,random_state=400,\n",
    "                                                  stratify=y_train_sample)"
   ]
  },
  {
   "cell_type": "code",
   "execution_count": 65,
   "id": "39839581",
   "metadata": {
    "colab": {
     "base_uri": "https://localhost:8080/"
    },
    "executionInfo": {
     "elapsed": 68,
     "status": "ok",
     "timestamp": 1709294084809,
     "user": {
      "displayName": "신현지",
      "userId": "04492897271342924648"
     },
     "user_tz": -540
    },
    "id": "39839581",
    "outputId": "6c709af3-df12-4703-b03a-b8b220dfa74f"
   },
   "outputs": [
    {
     "name": "stdout",
     "output_type": "stream",
     "text": [
      "                          Feature  Importance\n",
      "34             lead_owner_country   46.536288\n",
      "33           customer_idx_country   14.608633\n",
      "4                    customer_idx   10.715218\n",
      "5                   customer_type    3.420007\n",
      "32                         feat_3    2.997317\n",
      "27                lead_owner_rank    2.679123\n",
      "18             response_corporate    2.124817\n",
      "12               lead_desc_length    2.083323\n",
      "3            com_reg_ver_win_rate    1.537771\n",
      "0                     bant_submit    1.158287\n",
      "11                   customer_job    1.122062\n",
      "24                  business_area    0.997467\n",
      "7         historical_existing_cnt    0.953978\n",
      "25               business_subarea    0.909173\n",
      "19              expected_timeline    0.829191\n",
      "31                         feat_2    0.722636\n",
      "17              customer_position    0.710843\n",
      "13                   inquiry_type    0.672031\n",
      "15            product_subcategory    0.658462\n",
      "26                     lead_owner    0.621038\n",
      "16              product_modelname    0.556770\n",
      "14               product_category    0.531934\n",
      "29                 corporate_rank    0.419610\n",
      "1                customer_country    0.409823\n",
      "6                      enterprise    0.389991\n",
      "23           ver_win_ratio_per_bu    0.372202\n",
      "22                 ver_win_rate_x    0.320524\n",
      "21                        ver_pro    0.226841\n",
      "2                   business_unit    0.212471\n",
      "30    important_customer_position    0.203626\n",
      "28  historical_convert_plus_minus    0.183790\n",
      "20                        ver_cus    0.075433\n",
      "8                id_strategic_ver    0.039322\n",
      "9                it_strategic_ver    0.000000\n",
      "10             idit_strategic_ver    0.000000\n"
     ]
    }
   ],
   "source": [
    "dt_clf= DecisionTreeClassifier(random_state=42)\n",
    "dt_clf.fit(x_train, y_train)\n",
    "feature_importance = dt_clf.feature_importances_ * 100\n",
    "result_df = pd.DataFrame({'Feature': x_train.columns, 'Importance': feature_importance})\n",
    "# Feature Importance를 Importance 기준으로 내림차순 정렬\n",
    "result_df = result_df.sort_values(by='Importance', ascending=False)\n",
    "print(result_df)"
   ]
  },
  {
   "cell_type": "markdown",
   "id": "a2105164",
   "metadata": {
    "id": "a2105164"
   },
   "source": [
    "### Basic Model"
   ]
  },
  {
   "cell_type": "markdown",
   "id": "38dcc7e8",
   "metadata": {
    "id": "38dcc7e8"
   },
   "source": [
    "- 모델 객체 모음"
   ]
  },
  {
   "cell_type": "code",
   "execution_count": 66,
   "id": "e4509af0",
   "metadata": {
    "executionInfo": {
     "elapsed": 50,
     "status": "ok",
     "timestamp": 1709294084810,
     "user": {
      "displayName": "신현지",
      "userId": "04492897271342924648"
     },
     "user_tz": -540
    },
    "id": "e4509af0"
   },
   "outputs": [],
   "source": [
    "dt_clf= DecisionTreeClassifier(random_state=42)\n",
    "# lr_clf = LogisticRegression(random_state=42)\n",
    "# rf_clf = RandomForestClassifier(random_state=42)\n",
    "# ada_clf = AdaBoostClassifier(random_state=42)\n",
    "# xgb_clf = XGBClassifier(random_state=42)"
   ]
  },
  {
   "cell_type": "markdown",
   "id": "db60637e",
   "metadata": {
    "id": "db60637e"
   },
   "source": [
    "- 모델 훈련"
   ]
  },
  {
   "cell_type": "code",
   "execution_count": 67,
   "id": "766d1980",
   "metadata": {
    "colab": {
     "base_uri": "https://localhost:8080/",
     "height": 75
    },
    "executionInfo": {
     "elapsed": 366,
     "status": "ok",
     "timestamp": 1709294085127,
     "user": {
      "displayName": "신현지",
      "userId": "04492897271342924648"
     },
     "user_tz": -540
    },
    "id": "766d1980",
    "outputId": "610d6357-9d91-44ce-d193-630743c946ac"
   },
   "outputs": [
    {
     "data": {
      "text/html": [
       "<style>#sk-container-id-1 {color: black;}#sk-container-id-1 pre{padding: 0;}#sk-container-id-1 div.sk-toggleable {background-color: white;}#sk-container-id-1 label.sk-toggleable__label {cursor: pointer;display: block;width: 100%;margin-bottom: 0;padding: 0.3em;box-sizing: border-box;text-align: center;}#sk-container-id-1 label.sk-toggleable__label-arrow:before {content: \"▸\";float: left;margin-right: 0.25em;color: #696969;}#sk-container-id-1 label.sk-toggleable__label-arrow:hover:before {color: black;}#sk-container-id-1 div.sk-estimator:hover label.sk-toggleable__label-arrow:before {color: black;}#sk-container-id-1 div.sk-toggleable__content {max-height: 0;max-width: 0;overflow: hidden;text-align: left;background-color: #f0f8ff;}#sk-container-id-1 div.sk-toggleable__content pre {margin: 0.2em;color: black;border-radius: 0.25em;background-color: #f0f8ff;}#sk-container-id-1 input.sk-toggleable__control:checked~div.sk-toggleable__content {max-height: 200px;max-width: 100%;overflow: auto;}#sk-container-id-1 input.sk-toggleable__control:checked~label.sk-toggleable__label-arrow:before {content: \"▾\";}#sk-container-id-1 div.sk-estimator input.sk-toggleable__control:checked~label.sk-toggleable__label {background-color: #d4ebff;}#sk-container-id-1 div.sk-label input.sk-toggleable__control:checked~label.sk-toggleable__label {background-color: #d4ebff;}#sk-container-id-1 input.sk-hidden--visually {border: 0;clip: rect(1px 1px 1px 1px);clip: rect(1px, 1px, 1px, 1px);height: 1px;margin: -1px;overflow: hidden;padding: 0;position: absolute;width: 1px;}#sk-container-id-1 div.sk-estimator {font-family: monospace;background-color: #f0f8ff;border: 1px dotted black;border-radius: 0.25em;box-sizing: border-box;margin-bottom: 0.5em;}#sk-container-id-1 div.sk-estimator:hover {background-color: #d4ebff;}#sk-container-id-1 div.sk-parallel-item::after {content: \"\";width: 100%;border-bottom: 1px solid gray;flex-grow: 1;}#sk-container-id-1 div.sk-label:hover label.sk-toggleable__label {background-color: #d4ebff;}#sk-container-id-1 div.sk-serial::before {content: \"\";position: absolute;border-left: 1px solid gray;box-sizing: border-box;top: 0;bottom: 0;left: 50%;z-index: 0;}#sk-container-id-1 div.sk-serial {display: flex;flex-direction: column;align-items: center;background-color: white;padding-right: 0.2em;padding-left: 0.2em;position: relative;}#sk-container-id-1 div.sk-item {position: relative;z-index: 1;}#sk-container-id-1 div.sk-parallel {display: flex;align-items: stretch;justify-content: center;background-color: white;position: relative;}#sk-container-id-1 div.sk-item::before, #sk-container-id-1 div.sk-parallel-item::before {content: \"\";position: absolute;border-left: 1px solid gray;box-sizing: border-box;top: 0;bottom: 0;left: 50%;z-index: -1;}#sk-container-id-1 div.sk-parallel-item {display: flex;flex-direction: column;z-index: 1;position: relative;background-color: white;}#sk-container-id-1 div.sk-parallel-item:first-child::after {align-self: flex-end;width: 50%;}#sk-container-id-1 div.sk-parallel-item:last-child::after {align-self: flex-start;width: 50%;}#sk-container-id-1 div.sk-parallel-item:only-child::after {width: 0;}#sk-container-id-1 div.sk-dashed-wrapped {border: 1px dashed gray;margin: 0 0.4em 0.5em 0.4em;box-sizing: border-box;padding-bottom: 0.4em;background-color: white;}#sk-container-id-1 div.sk-label label {font-family: monospace;font-weight: bold;display: inline-block;line-height: 1.2em;}#sk-container-id-1 div.sk-label-container {text-align: center;}#sk-container-id-1 div.sk-container {/* jupyter's `normalize.less` sets `[hidden] { display: none; }` but bootstrap.min.css set `[hidden] { display: none !important; }` so we also need the `!important` here to be able to override the default hidden behavior on the sphinx rendered scikit-learn.org. See: https://github.com/scikit-learn/scikit-learn/issues/21755 */display: inline-block !important;position: relative;}#sk-container-id-1 div.sk-text-repr-fallback {display: none;}</style><div id=\"sk-container-id-1\" class=\"sk-top-container\"><div class=\"sk-text-repr-fallback\"><pre>DecisionTreeClassifier(random_state=42)</pre><b>In a Jupyter environment, please rerun this cell to show the HTML representation or trust the notebook. <br />On GitHub, the HTML representation is unable to render, please try loading this page with nbviewer.org.</b></div><div class=\"sk-container\" hidden><div class=\"sk-item\"><div class=\"sk-estimator sk-toggleable\"><input class=\"sk-toggleable__control sk-hidden--visually\" id=\"sk-estimator-id-1\" type=\"checkbox\" checked><label for=\"sk-estimator-id-1\" class=\"sk-toggleable__label sk-toggleable__label-arrow\">DecisionTreeClassifier</label><div class=\"sk-toggleable__content\"><pre>DecisionTreeClassifier(random_state=42)</pre></div></div></div></div></div>"
      ],
      "text/plain": [
       "DecisionTreeClassifier(random_state=42)"
      ]
     },
     "execution_count": 67,
     "metadata": {},
     "output_type": "execute_result"
    }
   ],
   "source": [
    "dt_clf.fit(x_train, y_train)\n",
    "# lr_clf.fit(x_train, y_train)\n",
    "# rf_clf.fit(x_train, y_train)\n",
    "# ada_clf.fit(x_train, y_train)\n",
    "# xgb_clf.fit(x_train, y_train)"
   ]
  },
  {
   "cell_type": "markdown",
   "id": "ff8609e4",
   "metadata": {
    "id": "ff8609e4"
   },
   "source": [
    "- 기본 성능 평가"
   ]
  },
  {
   "cell_type": "code",
   "execution_count": 68,
   "id": "2388723a",
   "metadata": {
    "executionInfo": {
     "elapsed": 33,
     "status": "ok",
     "timestamp": 1709294085128,
     "user": {
      "displayName": "신현지",
      "userId": "04492897271342924648"
     },
     "user_tz": -540
    },
    "id": "2388723a"
   },
   "outputs": [],
   "source": [
    "def get_clf_eval(y_test, y_pred=None):\n",
    "    confusion = confusion_matrix(y_test, y_pred, labels=[True, False])\n",
    "    accuracy = accuracy_score(y_test, y_pred)\n",
    "    precision = precision_score(y_test, y_pred, labels=[True, False])\n",
    "    recall = recall_score(y_test, y_pred)\n",
    "    F1 = f1_score(y_test, y_pred, labels=[True, False])\n",
    "\n",
    "    print(\"오차행렬:\\n\", confusion)\n",
    "    print(\"\\n정확도: {:.4f}\".format(accuracy))\n",
    "    print(\"정밀도: {:.4f}\".format(precision))\n",
    "    print(\"재현율: {:.4f}\".format(recall))\n",
    "    print(\"F1: {:.4f}\".format(F1))"
   ]
  },
  {
   "cell_type": "code",
   "execution_count": 69,
   "id": "cefefe19",
   "metadata": {
    "colab": {
     "base_uri": "https://localhost:8080/"
    },
    "executionInfo": {
     "elapsed": 33,
     "status": "ok",
     "timestamp": 1709294085128,
     "user": {
      "displayName": "신현지",
      "userId": "04492897271342924648"
     },
     "user_tz": -540
    },
    "id": "cefefe19",
    "outputId": "5a3ae1a6-bc0f-4f89-902f-2f0cb7038c4c"
   },
   "outputs": [
    {
     "name": "stdout",
     "output_type": "stream",
     "text": [
      "검증 데이터 성능\n",
      "오차행렬:\n",
      " [[886  84]\n",
      " [ 93 877]]\n",
      "\n",
      "정확도: 0.9088\n",
      "정밀도: 0.9050\n",
      "재현율: 0.9134\n",
      "F1: 0.9092\n",
      "None\n",
      "테스트 데이터 성능\n",
      "오차행렬:\n",
      " [[ 387  774]\n",
      " [1035 3075]]\n",
      "\n",
      "정확도: 0.6568\n",
      "정밀도: 0.2722\n",
      "재현율: 0.3333\n",
      "F1: 0.2997\n",
      "None\n"
     ]
    }
   ],
   "source": [
    "print('검증 데이터 성능')\n",
    "pred = dt_clf.predict(x_val.fillna(0))\n",
    "print(get_clf_eval(y_val, pred))\n",
    "\n",
    "print('테스트 데이터 성능')\n",
    "test_pred = dt_clf.predict(x_test)\n",
    "sum(test_pred) # True로 예측된 개수\n",
    "print(get_clf_eval(y_test, test_pred))"
   ]
  },
  {
   "cell_type": "markdown",
   "id": "746e5100",
   "metadata": {
    "id": "746e5100"
   },
   "source": [
    "## 6. Parameter Tuning, OOF"
   ]
  },
  {
   "cell_type": "markdown",
   "id": "474fc826",
   "metadata": {
    "id": "474fc826"
   },
   "source": [
    "### optuna parameter tuning"
   ]
  },
  {
   "cell_type": "markdown",
   "id": "LSrdSJozyiLo",
   "metadata": {
    "id": "LSrdSJozyiLo"
   },
   "source": [
    "XGBoost"
   ]
  },
  {
   "cell_type": "code",
   "execution_count": 70,
   "id": "58ea5209",
   "metadata": {
    "colab": {
     "base_uri": "https://localhost:8080/"
    },
    "executionInfo": {
     "elapsed": 113474,
     "status": "ok",
     "timestamp": 1709294198584,
     "user": {
      "displayName": "신현지",
      "userId": "04492897271342924648"
     },
     "user_tz": -540
    },
    "id": "58ea5209",
    "outputId": "a884ee70-df56-429e-ac9b-f6a4c59a6b97",
    "scrolled": true
   },
   "outputs": [
    {
     "name": "stderr",
     "output_type": "stream",
     "text": [
      "\u001b[32m[I 2024-03-01 22:02:32,563]\u001b[0m A new study created in memory with name: no-name-a84d7096-b3c5-4e54-a5de-3c557f14324f\u001b[0m\n"
     ]
    },
    {
     "name": "stdout",
     "output_type": "stream",
     "text": [
      "[22:02:32] WARNING: C:/buildkite-agent/builds/buildkite-windows-cpu-autoscaling-group-i-03de431ba26204c4d-1/xgboost/xgboost-ci-windows/src/learner.cc:767: \n",
      "Parameters: { \"min_child_samples\", \"num_leaves\" } are not used.\n",
      "\n",
      "[22:02:33] WARNING: C:/buildkite-agent/builds/buildkite-windows-cpu-autoscaling-group-i-03de431ba26204c4d-1/xgboost/xgboost-ci-windows/src/learner.cc:767: \n",
      "Parameters: { \"min_child_samples\", \"num_leaves\" } are not used.\n",
      "\n",
      "[22:02:33] WARNING: C:/buildkite-agent/builds/buildkite-windows-cpu-autoscaling-group-i-03de431ba26204c4d-1/xgboost/xgboost-ci-windows/src/learner.cc:767: \n",
      "Parameters: { \"min_child_samples\", \"num_leaves\" } are not used.\n",
      "\n",
      "[22:02:34] WARNING: C:/buildkite-agent/builds/buildkite-windows-cpu-autoscaling-group-i-03de431ba26204c4d-1/xgboost/xgboost-ci-windows/src/learner.cc:767: \n",
      "Parameters: { \"min_child_samples\", \"num_leaves\" } are not used.\n",
      "\n",
      "[22:02:35] WARNING: C:/buildkite-agent/builds/buildkite-windows-cpu-autoscaling-group-i-03de431ba26204c4d-1/xgboost/xgboost-ci-windows/src/learner.cc:767: \n",
      "Parameters: { \"min_child_samples\", \"num_leaves\" } are not used.\n",
      "\n"
     ]
    },
    {
     "name": "stderr",
     "output_type": "stream",
     "text": [
      "\u001b[32m[I 2024-03-01 22:02:36,024]\u001b[0m Trial 0 finished with value: 0.9233584136255661 and parameters: {'num_leaves': 54, 'max_depth': 8, 'learning_rate': 0.006431172050131994, 'n_estimators': 109, 'class_weight': None, 'min_child_samples': 27, 'subsample': 0.9675319002346239, 'colsample_bytree': 0.9890988281503088, 'reg_alpha': 0.3834415188257777, 'reg_lambda': 7.917250380826646}. Best is trial 0 with value: 0.9233584136255661.\u001b[0m\n"
     ]
    },
    {
     "name": "stdout",
     "output_type": "stream",
     "text": [
      "[22:02:36] WARNING: C:/buildkite-agent/builds/buildkite-windows-cpu-autoscaling-group-i-03de431ba26204c4d-1/xgboost/xgboost-ci-windows/src/learner.cc:767: \n",
      "Parameters: { \"class_weight\", \"min_child_samples\", \"num_leaves\" } are not used.\n",
      "\n",
      "[22:02:36] WARNING: C:/buildkite-agent/builds/buildkite-windows-cpu-autoscaling-group-i-03de431ba26204c4d-1/xgboost/xgboost-ci-windows/src/learner.cc:767: \n",
      "Parameters: { \"class_weight\", \"min_child_samples\", \"num_leaves\" } are not used.\n",
      "\n",
      "[22:02:36] WARNING: C:/buildkite-agent/builds/buildkite-windows-cpu-autoscaling-group-i-03de431ba26204c4d-1/xgboost/xgboost-ci-windows/src/learner.cc:767: \n",
      "Parameters: { \"class_weight\", \"min_child_samples\", \"num_leaves\" } are not used.\n",
      "\n"
     ]
    },
    {
     "name": "stderr",
     "output_type": "stream",
     "text": [
      "\u001b[32m[I 2024-03-01 22:02:36,380]\u001b[0m Trial 1 finished with value: 0.923347595659515 and parameters: {'num_leaves': 47, 'max_depth': 6, 'learning_rate': 0.05981221901152557, 'n_estimators': 11, 'class_weight': 'balanced', 'min_child_samples': 44, 'subsample': 0.9334470252849552, 'colsample_bytree': 0.9610036444740457, 'reg_alpha': 0.978618342232764, 'reg_lambda': 7.9915856421672355}. Best is trial 0 with value: 0.9233584136255661.\u001b[0m\n"
     ]
    },
    {
     "name": "stdout",
     "output_type": "stream",
     "text": [
      "[22:02:36] WARNING: C:/buildkite-agent/builds/buildkite-windows-cpu-autoscaling-group-i-03de431ba26204c4d-1/xgboost/xgboost-ci-windows/src/learner.cc:767: \n",
      "Parameters: { \"class_weight\", \"min_child_samples\", \"num_leaves\" } are not used.\n",
      "\n",
      "[22:02:36] WARNING: C:/buildkite-agent/builds/buildkite-windows-cpu-autoscaling-group-i-03de431ba26204c4d-1/xgboost/xgboost-ci-windows/src/learner.cc:767: \n",
      "Parameters: { \"class_weight\", \"min_child_samples\", \"num_leaves\" } are not used.\n",
      "\n",
      "[22:02:36] WARNING: C:/buildkite-agent/builds/buildkite-windows-cpu-autoscaling-group-i-03de431ba26204c4d-1/xgboost/xgboost-ci-windows/src/learner.cc:767: \n",
      "Parameters: { \"min_child_samples\", \"num_leaves\" } are not used.\n",
      "\n",
      "[22:02:37] WARNING: C:/buildkite-agent/builds/buildkite-windows-cpu-autoscaling-group-i-03de431ba26204c4d-1/xgboost/xgboost-ci-windows/src/learner.cc:767: \n",
      "Parameters: { \"min_child_samples\", \"num_leaves\" } are not used.\n",
      "\n",
      "[22:02:38] WARNING: C:/buildkite-agent/builds/buildkite-windows-cpu-autoscaling-group-i-03de431ba26204c4d-1/xgboost/xgboost-ci-windows/src/learner.cc:767: \n",
      "Parameters: { \"min_child_samples\", \"num_leaves\" } are not used.\n",
      "\n",
      "[22:02:38] WARNING: C:/buildkite-agent/builds/buildkite-windows-cpu-autoscaling-group-i-03de431ba26204c4d-1/xgboost/xgboost-ci-windows/src/learner.cc:767: \n",
      "Parameters: { \"min_child_samples\", \"num_leaves\" } are not used.\n",
      "\n",
      "[22:02:39] WARNING: C:/buildkite-agent/builds/buildkite-windows-cpu-autoscaling-group-i-03de431ba26204c4d-1/xgboost/xgboost-ci-windows/src/learner.cc:767: \n",
      "Parameters: { \"min_child_samples\", \"num_leaves\" } are not used.\n",
      "\n"
     ]
    },
    {
     "name": "stderr",
     "output_type": "stream",
     "text": [
      "\u001b[32m[I 2024-03-01 22:02:40,650]\u001b[0m Trial 2 finished with value: 0.9248273223946277 and parameters: {'num_leaves': 30, 'max_depth': 8, 'learning_rate': 0.00022637229697395497, 'n_estimators': 174, 'class_weight': None, 'min_child_samples': 31, 'subsample': 0.8243985819971571, 'colsample_bytree': 0.7793666836313881, 'reg_alpha': 0.7742336894342167, 'reg_lambda': 4.5615033221654855}. Best is trial 2 with value: 0.9248273223946277.\u001b[0m\n"
     ]
    },
    {
     "name": "stdout",
     "output_type": "stream",
     "text": [
      "[22:02:40] WARNING: C:/buildkite-agent/builds/buildkite-windows-cpu-autoscaling-group-i-03de431ba26204c4d-1/xgboost/xgboost-ci-windows/src/learner.cc:767: \n",
      "Parameters: { \"min_child_samples\", \"num_leaves\" } are not used.\n",
      "\n",
      "[22:02:40] WARNING: C:/buildkite-agent/builds/buildkite-windows-cpu-autoscaling-group-i-03de431ba26204c4d-1/xgboost/xgboost-ci-windows/src/learner.cc:767: \n",
      "Parameters: { \"min_child_samples\", \"num_leaves\" } are not used.\n",
      "\n",
      "[22:02:41] WARNING: C:/buildkite-agent/builds/buildkite-windows-cpu-autoscaling-group-i-03de431ba26204c4d-1/xgboost/xgboost-ci-windows/src/learner.cc:767: \n",
      "Parameters: { \"min_child_samples\", \"num_leaves\" } are not used.\n",
      "\n",
      "[22:02:41] WARNING: C:/buildkite-agent/builds/buildkite-windows-cpu-autoscaling-group-i-03de431ba26204c4d-1/xgboost/xgboost-ci-windows/src/learner.cc:767: \n",
      "Parameters: { \"min_child_samples\", \"num_leaves\" } are not used.\n",
      "\n"
     ]
    },
    {
     "name": "stderr",
     "output_type": "stream",
     "text": [
      "\u001b[32m[I 2024-03-01 22:02:41,735]\u001b[0m Trial 3 finished with value: 0.8391483274826396 and parameters: {'num_leaves': 61, 'max_depth': 1, 'learning_rate': 0.007126995609048582, 'n_estimators': 152, 'class_weight': None, 'min_child_samples': 37, 'subsample': 0.8078523701721357, 'colsample_bytree': 0.8311095861398023, 'reg_alpha': 0.6976311959272649, 'reg_lambda': 0.6022547162926983}. Best is trial 2 with value: 0.9248273223946277.\u001b[0m\n"
     ]
    },
    {
     "name": "stdout",
     "output_type": "stream",
     "text": [
      "[22:02:41] WARNING: C:/buildkite-agent/builds/buildkite-windows-cpu-autoscaling-group-i-03de431ba26204c4d-1/xgboost/xgboost-ci-windows/src/learner.cc:767: \n",
      "Parameters: { \"min_child_samples\", \"num_leaves\" } are not used.\n",
      "\n",
      "[22:02:41] WARNING: C:/buildkite-agent/builds/buildkite-windows-cpu-autoscaling-group-i-03de431ba26204c4d-1/xgboost/xgboost-ci-windows/src/learner.cc:767: \n",
      "Parameters: { \"min_child_samples\", \"num_leaves\" } are not used.\n",
      "\n",
      "[22:02:41] WARNING: C:/buildkite-agent/builds/buildkite-windows-cpu-autoscaling-group-i-03de431ba26204c4d-1/xgboost/xgboost-ci-windows/src/learner.cc:767: \n",
      "Parameters: { \"min_child_samples\", \"num_leaves\" } are not used.\n",
      "\n",
      "[22:02:41] WARNING: C:/buildkite-agent/builds/buildkite-windows-cpu-autoscaling-group-i-03de431ba26204c4d-1/xgboost/xgboost-ci-windows/src/learner.cc:767: \n",
      "Parameters: { \"min_child_samples\", \"num_leaves\" } are not used.\n",
      "\n",
      "[22:02:42] WARNING: C:/buildkite-agent/builds/buildkite-windows-cpu-autoscaling-group-i-03de431ba26204c4d-1/xgboost/xgboost-ci-windows/src/learner.cc:767: \n",
      "Parameters: { \"min_child_samples\", \"num_leaves\" } are not used.\n",
      "\n",
      "[22:02:42] WARNING: C:/buildkite-agent/builds/buildkite-windows-cpu-autoscaling-group-i-03de431ba26204c4d-1/xgboost/xgboost-ci-windows/src/learner.cc:767: \n",
      "Parameters: { \"min_child_samples\", \"num_leaves\" } are not used.\n",
      "\n"
     ]
    },
    {
     "name": "stderr",
     "output_type": "stream",
     "text": [
      "\u001b[32m[I 2024-03-01 22:02:42,260]\u001b[0m Trial 4 finished with value: 0.9231288702461091 and parameters: {'num_leaves': 116, 'max_depth': 7, 'learning_rate': 0.0004277083049962072, 'n_estimators': 14, 'class_weight': None, 'min_child_samples': 33, 'subsample': 0.8315804540386961, 'colsample_bytree': 0.9965121514177678, 'reg_alpha': 0.10204481074802807, 'reg_lambda': 2.088767560948347}. Best is trial 2 with value: 0.9248273223946277.\u001b[0m\n"
     ]
    },
    {
     "name": "stdout",
     "output_type": "stream",
     "text": [
      "[22:02:42] WARNING: C:/buildkite-agent/builds/buildkite-windows-cpu-autoscaling-group-i-03de431ba26204c4d-1/xgboost/xgboost-ci-windows/src/learner.cc:767: \n",
      "Parameters: { \"class_weight\", \"min_child_samples\", \"num_leaves\" } are not used.\n",
      "\n",
      "[22:02:42] WARNING: C:/buildkite-agent/builds/buildkite-windows-cpu-autoscaling-group-i-03de431ba26204c4d-1/xgboost/xgboost-ci-windows/src/learner.cc:767: \n",
      "Parameters: { \"class_weight\", \"min_child_samples\", \"num_leaves\" } are not used.\n",
      "\n",
      "[22:02:42] WARNING: C:/buildkite-agent/builds/buildkite-windows-cpu-autoscaling-group-i-03de431ba26204c4d-1/xgboost/xgboost-ci-windows/src/learner.cc:767: \n",
      "Parameters: { \"class_weight\", \"min_child_samples\", \"num_leaves\" } are not used.\n",
      "\n",
      "[22:02:43] WARNING: C:/buildkite-agent/builds/buildkite-windows-cpu-autoscaling-group-i-03de431ba26204c4d-1/xgboost/xgboost-ci-windows/src/learner.cc:767: \n",
      "Parameters: { \"class_weight\", \"min_child_samples\", \"num_leaves\" } are not used.\n",
      "\n",
      "[22:02:43] WARNING: C:/buildkite-agent/builds/buildkite-windows-cpu-autoscaling-group-i-03de431ba26204c4d-1/xgboost/xgboost-ci-windows/src/learner.cc:767: \n",
      "Parameters: { \"class_weight\", \"min_child_samples\", \"num_leaves\" } are not used.\n",
      "\n"
     ]
    },
    {
     "name": "stderr",
     "output_type": "stream",
     "text": [
      "\u001b[32m[I 2024-03-01 22:02:43,887]\u001b[0m Trial 5 finished with value: 0.9249673206680911 and parameters: {'num_leaves': 4, 'max_depth': 7, 'learning_rate': 0.000575274081411669, 'n_estimators': 74, 'class_weight': 'balanced', 'min_child_samples': 14, 'subsample': 0.896898876839582, 'colsample_bytree': 0.7414548854045842, 'reg_alpha': 0.1965823616800535, 'reg_lambda': 3.687251706609641}. Best is trial 5 with value: 0.9249673206680911.\u001b[0m\n",
      "\u001b[32m[I 2024-03-01 22:02:44,093]\u001b[0m Trial 6 finished with value: 0.8384923989434464 and parameters: {'num_leaves': 319, 'max_depth': 1, 'learning_rate': 0.03264635677523523, 'n_estimators': 12, 'class_weight': 'balanced', 'min_child_samples': 50, 'subsample': 0.8814536559235138, 'colsample_bytree': 0.9217790738194904, 'reg_alpha': 0.039187792254320675, 'reg_lambda': 2.828069625764096}. Best is trial 5 with value: 0.9249673206680911.\u001b[0m\n"
     ]
    },
    {
     "name": "stdout",
     "output_type": "stream",
     "text": [
      "[22:02:43] WARNING: C:/buildkite-agent/builds/buildkite-windows-cpu-autoscaling-group-i-03de431ba26204c4d-1/xgboost/xgboost-ci-windows/src/learner.cc:767: \n",
      "Parameters: { \"class_weight\", \"min_child_samples\", \"num_leaves\" } are not used.\n",
      "\n",
      "[22:02:43] WARNING: C:/buildkite-agent/builds/buildkite-windows-cpu-autoscaling-group-i-03de431ba26204c4d-1/xgboost/xgboost-ci-windows/src/learner.cc:767: \n",
      "Parameters: { \"class_weight\", \"min_child_samples\", \"num_leaves\" } are not used.\n",
      "\n",
      "[22:02:43] WARNING: C:/buildkite-agent/builds/buildkite-windows-cpu-autoscaling-group-i-03de431ba26204c4d-1/xgboost/xgboost-ci-windows/src/learner.cc:767: \n",
      "Parameters: { \"class_weight\", \"min_child_samples\", \"num_leaves\" } are not used.\n",
      "\n",
      "[22:02:44] WARNING: C:/buildkite-agent/builds/buildkite-windows-cpu-autoscaling-group-i-03de431ba26204c4d-1/xgboost/xgboost-ci-windows/src/learner.cc:767: \n",
      "Parameters: { \"class_weight\", \"min_child_samples\", \"num_leaves\" } are not used.\n",
      "\n",
      "[22:02:44] WARNING: C:/buildkite-agent/builds/buildkite-windows-cpu-autoscaling-group-i-03de431ba26204c4d-1/xgboost/xgboost-ci-windows/src/learner.cc:767: \n",
      "Parameters: { \"class_weight\", \"min_child_samples\", \"num_leaves\" } are not used.\n",
      "\n",
      "[22:02:44] WARNING: C:/buildkite-agent/builds/buildkite-windows-cpu-autoscaling-group-i-03de431ba26204c4d-1/xgboost/xgboost-ci-windows/src/learner.cc:767: \n",
      "Parameters: { \"class_weight\", \"min_child_samples\", \"num_leaves\" } are not used.\n",
      "\n",
      "[22:02:44] WARNING: C:/buildkite-agent/builds/buildkite-windows-cpu-autoscaling-group-i-03de431ba26204c4d-1/xgboost/xgboost-ci-windows/src/learner.cc:767: \n",
      "Parameters: { \"class_weight\", \"min_child_samples\", \"num_leaves\" } are not used.\n",
      "\n",
      "[22:02:44] WARNING: C:/buildkite-agent/builds/buildkite-windows-cpu-autoscaling-group-i-03de431ba26204c4d-1/xgboost/xgboost-ci-windows/src/learner.cc:767: \n",
      "Parameters: { \"class_weight\", \"min_child_samples\", \"num_leaves\" } are not used.\n",
      "\n"
     ]
    },
    {
     "name": "stderr",
     "output_type": "stream",
     "text": [
      "\u001b[32m[I 2024-03-01 22:02:44,569]\u001b[0m Trial 7 finished with value: 0.8857833934704292 and parameters: {'num_leaves': 3, 'max_depth': 3, 'learning_rate': 0.00022708223335487552, 'n_estimators': 36, 'class_weight': 'balanced', 'min_child_samples': 38, 'subsample': 0.8699804362619725, 'colsample_bytree': 0.7796168472818336, 'reg_alpha': 0.5232480534666997, 'reg_lambda': 0.9394051075844168}. Best is trial 5 with value: 0.9249673206680911.\u001b[0m\n"
     ]
    },
    {
     "name": "stdout",
     "output_type": "stream",
     "text": [
      "[22:02:44] WARNING: C:/buildkite-agent/builds/buildkite-windows-cpu-autoscaling-group-i-03de431ba26204c4d-1/xgboost/xgboost-ci-windows/src/learner.cc:767: \n",
      "Parameters: { \"class_weight\", \"min_child_samples\", \"num_leaves\" } are not used.\n",
      "\n",
      "[22:02:44] WARNING: C:/buildkite-agent/builds/buildkite-windows-cpu-autoscaling-group-i-03de431ba26204c4d-1/xgboost/xgboost-ci-windows/src/learner.cc:767: \n",
      "Parameters: { \"class_weight\", \"min_child_samples\", \"num_leaves\" } are not used.\n",
      "\n",
      "[22:02:44] WARNING: C:/buildkite-agent/builds/buildkite-windows-cpu-autoscaling-group-i-03de431ba26204c4d-1/xgboost/xgboost-ci-windows/src/learner.cc:767: \n",
      "Parameters: { \"min_child_samples\", \"num_leaves\" } are not used.\n",
      "\n",
      "[22:02:45] WARNING: C:/buildkite-agent/builds/buildkite-windows-cpu-autoscaling-group-i-03de431ba26204c4d-1/xgboost/xgboost-ci-windows/src/learner.cc:767: \n",
      "Parameters: { \"min_child_samples\", \"num_leaves\" } are not used.\n",
      "\n",
      "[22:02:46] WARNING: C:/buildkite-agent/builds/buildkite-windows-cpu-autoscaling-group-i-03de431ba26204c4d-1/xgboost/xgboost-ci-windows/src/learner.cc:767: \n",
      "Parameters: { \"min_child_samples\", \"num_leaves\" } are not used.\n",
      "\n",
      "[22:02:47] WARNING: C:/buildkite-agent/builds/buildkite-windows-cpu-autoscaling-group-i-03de431ba26204c4d-1/xgboost/xgboost-ci-windows/src/learner.cc:767: \n",
      "Parameters: { \"min_child_samples\", \"num_leaves\" } are not used.\n",
      "\n",
      "[22:02:49] WARNING: C:/buildkite-agent/builds/buildkite-windows-cpu-autoscaling-group-i-03de431ba26204c4d-1/xgboost/xgboost-ci-windows/src/learner.cc:767: \n",
      "Parameters: { \"min_child_samples\", \"num_leaves\" } are not used.\n",
      "\n"
     ]
    },
    {
     "name": "stderr",
     "output_type": "stream",
     "text": [
      "\u001b[32m[I 2024-03-01 22:02:50,350]\u001b[0m Trial 8 finished with value: 0.9250292318624916 and parameters: {'num_leaves': 64, 'max_depth': 10, 'learning_rate': 0.000903039728888594, 'n_estimators': 200, 'class_weight': None, 'min_child_samples': 21, 'subsample': 0.754957408602135, 'colsample_bytree': 0.8759538804430249, 'reg_alpha': 0.020107546187493552, 'reg_lambda': 8.289400292173632}. Best is trial 8 with value: 0.9250292318624916.\u001b[0m\n"
     ]
    },
    {
     "name": "stdout",
     "output_type": "stream",
     "text": [
      "[22:02:50] WARNING: C:/buildkite-agent/builds/buildkite-windows-cpu-autoscaling-group-i-03de431ba26204c4d-1/xgboost/xgboost-ci-windows/src/learner.cc:767: \n",
      "Parameters: { \"class_weight\", \"min_child_samples\", \"num_leaves\" } are not used.\n",
      "\n",
      "[22:02:51] WARNING: C:/buildkite-agent/builds/buildkite-windows-cpu-autoscaling-group-i-03de431ba26204c4d-1/xgboost/xgboost-ci-windows/src/learner.cc:767: \n",
      "Parameters: { \"class_weight\", \"min_child_samples\", \"num_leaves\" } are not used.\n",
      "\n",
      "[22:02:52] WARNING: C:/buildkite-agent/builds/buildkite-windows-cpu-autoscaling-group-i-03de431ba26204c4d-1/xgboost/xgboost-ci-windows/src/learner.cc:767: \n",
      "Parameters: { \"class_weight\", \"min_child_samples\", \"num_leaves\" } are not used.\n",
      "\n",
      "[22:02:54] WARNING: C:/buildkite-agent/builds/buildkite-windows-cpu-autoscaling-group-i-03de431ba26204c4d-1/xgboost/xgboost-ci-windows/src/learner.cc:767: \n",
      "Parameters: { \"class_weight\", \"min_child_samples\", \"num_leaves\" } are not used.\n",
      "\n",
      "[22:02:55] WARNING: C:/buildkite-agent/builds/buildkite-windows-cpu-autoscaling-group-i-03de431ba26204c4d-1/xgboost/xgboost-ci-windows/src/learner.cc:767: \n",
      "Parameters: { \"class_weight\", \"min_child_samples\", \"num_leaves\" } are not used.\n",
      "\n"
     ]
    },
    {
     "name": "stderr",
     "output_type": "stream",
     "text": [
      "\u001b[32m[I 2024-03-01 22:02:56,793]\u001b[0m Trial 9 finished with value: 0.9245637600081918 and parameters: {'num_leaves': 2, 'max_depth': 7, 'learning_rate': 0.0006456897906217104, 'n_estimators': 279, 'class_weight': 'balanced', 'min_child_samples': 33, 'subsample': 0.8776125793815517, 'colsample_bytree': 0.871675571737262, 'reg_alpha': 0.2230816326406183, 'reg_lambda': 9.52749011516985}. Best is trial 8 with value: 0.9250292318624916.\u001b[0m\n"
     ]
    },
    {
     "name": "stdout",
     "output_type": "stream",
     "text": [
      "[22:02:56] WARNING: C:/buildkite-agent/builds/buildkite-windows-cpu-autoscaling-group-i-03de431ba26204c4d-1/xgboost/xgboost-ci-windows/src/learner.cc:767: \n",
      "Parameters: { \"min_child_samples\", \"num_leaves\" } are not used.\n",
      "\n",
      "[22:03:01] WARNING: C:/buildkite-agent/builds/buildkite-windows-cpu-autoscaling-group-i-03de431ba26204c4d-1/xgboost/xgboost-ci-windows/src/learner.cc:767: \n",
      "Parameters: { \"min_child_samples\", \"num_leaves\" } are not used.\n",
      "\n",
      "[22:03:05] WARNING: C:/buildkite-agent/builds/buildkite-windows-cpu-autoscaling-group-i-03de431ba26204c4d-1/xgboost/xgboost-ci-windows/src/learner.cc:767: \n",
      "Parameters: { \"min_child_samples\", \"num_leaves\" } are not used.\n",
      "\n",
      "[22:03:09] WARNING: C:/buildkite-agent/builds/buildkite-windows-cpu-autoscaling-group-i-03de431ba26204c4d-1/xgboost/xgboost-ci-windows/src/learner.cc:767: \n",
      "Parameters: { \"min_child_samples\", \"num_leaves\" } are not used.\n",
      "\n",
      "[22:03:13] WARNING: C:/buildkite-agent/builds/buildkite-windows-cpu-autoscaling-group-i-03de431ba26204c4d-1/xgboost/xgboost-ci-windows/src/learner.cc:767: \n",
      "Parameters: { \"min_child_samples\", \"num_leaves\" } are not used.\n",
      "\n"
     ]
    },
    {
     "name": "stderr",
     "output_type": "stream",
     "text": [
      "\u001b[32m[I 2024-03-01 22:03:17,258]\u001b[0m Trial 10 finished with value: 0.9265775124009533 and parameters: {'num_leaves': 696, 'max_depth': 10, 'learning_rate': 0.0019078363903572238, 'n_estimators': 725, 'class_weight': None, 'min_child_samples': 17, 'subsample': 0.715639950173741, 'colsample_bytree': 0.8762327490702767, 'reg_alpha': 0.42433491138477947, 'reg_lambda': 6.289744271966317}. Best is trial 10 with value: 0.9265775124009533.\u001b[0m\n"
     ]
    },
    {
     "name": "stdout",
     "output_type": "stream",
     "text": [
      "[22:03:17] WARNING: C:/buildkite-agent/builds/buildkite-windows-cpu-autoscaling-group-i-03de431ba26204c4d-1/xgboost/xgboost-ci-windows/src/learner.cc:767: \n",
      "Parameters: { \"min_child_samples\", \"num_leaves\" } are not used.\n",
      "\n",
      "[22:03:22] WARNING: C:/buildkite-agent/builds/buildkite-windows-cpu-autoscaling-group-i-03de431ba26204c4d-1/xgboost/xgboost-ci-windows/src/learner.cc:767: \n",
      "Parameters: { \"min_child_samples\", \"num_leaves\" } are not used.\n",
      "\n",
      "[22:03:27] WARNING: C:/buildkite-agent/builds/buildkite-windows-cpu-autoscaling-group-i-03de431ba26204c4d-1/xgboost/xgboost-ci-windows/src/learner.cc:767: \n",
      "Parameters: { \"min_child_samples\", \"num_leaves\" } are not used.\n",
      "\n",
      "[22:03:32] WARNING: C:/buildkite-agent/builds/buildkite-windows-cpu-autoscaling-group-i-03de431ba26204c4d-1/xgboost/xgboost-ci-windows/src/learner.cc:767: \n",
      "Parameters: { \"min_child_samples\", \"num_leaves\" } are not used.\n",
      "\n",
      "[22:03:38] WARNING: C:/buildkite-agent/builds/buildkite-windows-cpu-autoscaling-group-i-03de431ba26204c4d-1/xgboost/xgboost-ci-windows/src/learner.cc:767: \n",
      "Parameters: { \"min_child_samples\", \"num_leaves\" } are not used.\n",
      "\n"
     ]
    },
    {
     "name": "stderr",
     "output_type": "stream",
     "text": [
      "\u001b[32m[I 2024-03-01 22:03:43,727]\u001b[0m Trial 11 finished with value: 0.9272265773877809 and parameters: {'num_leaves': 596, 'max_depth': 10, 'learning_rate': 0.0018697487747947556, 'n_estimators': 921, 'class_weight': None, 'min_child_samples': 17, 'subsample': 0.7044509346677957, 'colsample_bytree': 0.8695425082904309, 'reg_alpha': 0.394131071387383, 'reg_lambda': 6.3534490385736}. Best is trial 11 with value: 0.9272265773877809.\u001b[0m\n"
     ]
    },
    {
     "name": "stdout",
     "output_type": "stream",
     "text": [
      "[22:03:43] WARNING: C:/buildkite-agent/builds/buildkite-windows-cpu-autoscaling-group-i-03de431ba26204c4d-1/xgboost/xgboost-ci-windows/src/learner.cc:767: \n",
      "Parameters: { \"min_child_samples\", \"num_leaves\" } are not used.\n",
      "\n",
      "[22:03:50] WARNING: C:/buildkite-agent/builds/buildkite-windows-cpu-autoscaling-group-i-03de431ba26204c4d-1/xgboost/xgboost-ci-windows/src/learner.cc:767: \n",
      "Parameters: { \"min_child_samples\", \"num_leaves\" } are not used.\n",
      "\n",
      "[22:03:56] WARNING: C:/buildkite-agent/builds/buildkite-windows-cpu-autoscaling-group-i-03de431ba26204c4d-1/xgboost/xgboost-ci-windows/src/learner.cc:767: \n",
      "Parameters: { \"min_child_samples\", \"num_leaves\" } are not used.\n",
      "\n",
      "[22:04:02] WARNING: C:/buildkite-agent/builds/buildkite-windows-cpu-autoscaling-group-i-03de431ba26204c4d-1/xgboost/xgboost-ci-windows/src/learner.cc:767: \n",
      "Parameters: { \"min_child_samples\", \"num_leaves\" } are not used.\n",
      "\n",
      "[22:04:08] WARNING: C:/buildkite-agent/builds/buildkite-windows-cpu-autoscaling-group-i-03de431ba26204c4d-1/xgboost/xgboost-ci-windows/src/learner.cc:767: \n",
      "Parameters: { \"min_child_samples\", \"num_leaves\" } are not used.\n",
      "\n"
     ]
    },
    {
     "name": "stderr",
     "output_type": "stream",
     "text": [
      "\u001b[32m[I 2024-03-01 22:04:14,090]\u001b[0m Trial 12 finished with value: 0.927316523655881 and parameters: {'num_leaves': 846, 'max_depth': 10, 'learning_rate': 0.0022662059832009255, 'n_estimators': 953, 'class_weight': None, 'min_child_samples': 10, 'subsample': 0.7024406179468967, 'colsample_bytree': 0.9176712684858985, 'reg_alpha': 0.4466828508087753, 'reg_lambda': 6.053916670656307}. Best is trial 12 with value: 0.927316523655881.\u001b[0m\n"
     ]
    },
    {
     "name": "stdout",
     "output_type": "stream",
     "text": [
      "[22:04:14] WARNING: C:/buildkite-agent/builds/buildkite-windows-cpu-autoscaling-group-i-03de431ba26204c4d-1/xgboost/xgboost-ci-windows/src/learner.cc:767: \n",
      "Parameters: { \"min_child_samples\", \"num_leaves\" } are not used.\n",
      "\n",
      "[22:04:20] WARNING: C:/buildkite-agent/builds/buildkite-windows-cpu-autoscaling-group-i-03de431ba26204c4d-1/xgboost/xgboost-ci-windows/src/learner.cc:767: \n",
      "Parameters: { \"min_child_samples\", \"num_leaves\" } are not used.\n",
      "\n",
      "[22:04:26] WARNING: C:/buildkite-agent/builds/buildkite-windows-cpu-autoscaling-group-i-03de431ba26204c4d-1/xgboost/xgboost-ci-windows/src/learner.cc:767: \n",
      "Parameters: { \"min_child_samples\", \"num_leaves\" } are not used.\n",
      "\n",
      "[22:04:33] WARNING: C:/buildkite-agent/builds/buildkite-windows-cpu-autoscaling-group-i-03de431ba26204c4d-1/xgboost/xgboost-ci-windows/src/learner.cc:767: \n",
      "Parameters: { \"min_child_samples\", \"num_leaves\" } are not used.\n",
      "\n",
      "[22:04:39] WARNING: C:/buildkite-agent/builds/buildkite-windows-cpu-autoscaling-group-i-03de431ba26204c4d-1/xgboost/xgboost-ci-windows/src/learner.cc:767: \n",
      "Parameters: { \"min_child_samples\", \"num_leaves\" } are not used.\n",
      "\n"
     ]
    },
    {
     "name": "stderr",
     "output_type": "stream",
     "text": [
      "\u001b[32m[I 2024-03-01 22:04:46,788]\u001b[0m Trial 13 finished with value: 0.9297466618115235 and parameters: {'num_leaves': 864, 'max_depth': 10, 'learning_rate': 0.0028795519515464473, 'n_estimators': 992, 'class_weight': None, 'min_child_samples': 10, 'subsample': 0.7081265264691824, 'colsample_bytree': 0.9225091082664026, 'reg_alpha': 0.6111846954386456, 'reg_lambda': 5.971144368031266}. Best is trial 13 with value: 0.9297466618115235.\u001b[0m\n"
     ]
    },
    {
     "name": "stdout",
     "output_type": "stream",
     "text": [
      "[22:04:46] WARNING: C:/buildkite-agent/builds/buildkite-windows-cpu-autoscaling-group-i-03de431ba26204c4d-1/xgboost/xgboost-ci-windows/src/learner.cc:767: \n",
      "Parameters: { \"min_child_samples\", \"num_leaves\" } are not used.\n",
      "\n",
      "[22:04:48] WARNING: C:/buildkite-agent/builds/buildkite-windows-cpu-autoscaling-group-i-03de431ba26204c4d-1/xgboost/xgboost-ci-windows/src/learner.cc:767: \n",
      "Parameters: { \"min_child_samples\", \"num_leaves\" } are not used.\n",
      "\n",
      "[22:04:50] WARNING: C:/buildkite-agent/builds/buildkite-windows-cpu-autoscaling-group-i-03de431ba26204c4d-1/xgboost/xgboost-ci-windows/src/learner.cc:767: \n",
      "Parameters: { \"min_child_samples\", \"num_leaves\" } are not used.\n",
      "\n",
      "[22:04:51] WARNING: C:/buildkite-agent/builds/buildkite-windows-cpu-autoscaling-group-i-03de431ba26204c4d-1/xgboost/xgboost-ci-windows/src/learner.cc:767: \n",
      "Parameters: { \"min_child_samples\", \"num_leaves\" } are not used.\n",
      "\n",
      "[22:04:53] WARNING: C:/buildkite-agent/builds/buildkite-windows-cpu-autoscaling-group-i-03de431ba26204c4d-1/xgboost/xgboost-ci-windows/src/learner.cc:767: \n",
      "Parameters: { \"min_child_samples\", \"num_leaves\" } are not used.\n",
      "\n"
     ]
    },
    {
     "name": "stderr",
     "output_type": "stream",
     "text": [
      "\u001b[32m[I 2024-03-01 22:04:54,744]\u001b[0m Trial 14 finished with value: 0.9230185377825182 and parameters: {'num_leaves': 249, 'max_depth': 4, 'learning_rate': 0.009177019555212444, 'n_estimators': 516, 'class_weight': None, 'min_child_samples': 10, 'subsample': 0.766488857337569, 'colsample_bytree': 0.9305021308707444, 'reg_alpha': 0.5686808122969887, 'reg_lambda': 5.800233165582226}. Best is trial 13 with value: 0.9297466618115235.\u001b[0m\n"
     ]
    },
    {
     "name": "stdout",
     "output_type": "stream",
     "text": [
      "[22:04:54] WARNING: C:/buildkite-agent/builds/buildkite-windows-cpu-autoscaling-group-i-03de431ba26204c4d-1/xgboost/xgboost-ci-windows/src/learner.cc:767: \n",
      "Parameters: { \"min_child_samples\", \"num_leaves\" } are not used.\n",
      "\n",
      "[22:04:57] WARNING: C:/buildkite-agent/builds/buildkite-windows-cpu-autoscaling-group-i-03de431ba26204c4d-1/xgboost/xgboost-ci-windows/src/learner.cc:767: \n",
      "Parameters: { \"min_child_samples\", \"num_leaves\" } are not used.\n",
      "\n",
      "[22:04:59] WARNING: C:/buildkite-agent/builds/buildkite-windows-cpu-autoscaling-group-i-03de431ba26204c4d-1/xgboost/xgboost-ci-windows/src/learner.cc:767: \n",
      "Parameters: { \"min_child_samples\", \"num_leaves\" } are not used.\n",
      "\n",
      "[22:05:01] WARNING: C:/buildkite-agent/builds/buildkite-windows-cpu-autoscaling-group-i-03de431ba26204c4d-1/xgboost/xgboost-ci-windows/src/learner.cc:767: \n",
      "Parameters: { \"min_child_samples\", \"num_leaves\" } are not used.\n",
      "\n",
      "[22:05:04] WARNING: C:/buildkite-agent/builds/buildkite-windows-cpu-autoscaling-group-i-03de431ba26204c4d-1/xgboost/xgboost-ci-windows/src/learner.cc:767: \n",
      "Parameters: { \"min_child_samples\", \"num_leaves\" } are not used.\n",
      "\n"
     ]
    },
    {
     "name": "stderr",
     "output_type": "stream",
     "text": [
      "\u001b[32m[I 2024-03-01 22:05:06,329]\u001b[0m Trial 15 finished with value: 0.9355981217503768 and parameters: {'num_leaves': 11, 'max_depth': 9, 'learning_rate': 0.019308947599860005, 'n_estimators': 372, 'class_weight': None, 'min_child_samples': 23, 'subsample': 0.7556650038353011, 'colsample_bytree': 0.921745520545706, 'reg_alpha': 0.6965204323256868, 'reg_lambda': 4.94382621078825}. Best is trial 15 with value: 0.9355981217503768.\u001b[0m\n"
     ]
    },
    {
     "name": "stdout",
     "output_type": "stream",
     "text": [
      "[22:05:06] WARNING: C:/buildkite-agent/builds/buildkite-windows-cpu-autoscaling-group-i-03de431ba26204c4d-1/xgboost/xgboost-ci-windows/src/learner.cc:767: \n",
      "Parameters: { \"min_child_samples\", \"num_leaves\" } are not used.\n",
      "\n",
      "[22:05:08] WARNING: C:/buildkite-agent/builds/buildkite-windows-cpu-autoscaling-group-i-03de431ba26204c4d-1/xgboost/xgboost-ci-windows/src/learner.cc:767: \n",
      "Parameters: { \"min_child_samples\", \"num_leaves\" } are not used.\n",
      "\n",
      "[22:05:10] WARNING: C:/buildkite-agent/builds/buildkite-windows-cpu-autoscaling-group-i-03de431ba26204c4d-1/xgboost/xgboost-ci-windows/src/learner.cc:767: \n",
      "Parameters: { \"min_child_samples\", \"num_leaves\" } are not used.\n",
      "\n",
      "[22:05:13] WARNING: C:/buildkite-agent/builds/buildkite-windows-cpu-autoscaling-group-i-03de431ba26204c4d-1/xgboost/xgboost-ci-windows/src/learner.cc:767: \n",
      "Parameters: { \"min_child_samples\", \"num_leaves\" } are not used.\n",
      "\n",
      "[22:05:15] WARNING: C:/buildkite-agent/builds/buildkite-windows-cpu-autoscaling-group-i-03de431ba26204c4d-1/xgboost/xgboost-ci-windows/src/learner.cc:767: \n",
      "Parameters: { \"min_child_samples\", \"num_leaves\" } are not used.\n",
      "\n"
     ]
    },
    {
     "name": "stderr",
     "output_type": "stream",
     "text": [
      "\u001b[32m[I 2024-03-01 22:05:17,619]\u001b[0m Trial 16 finished with value: 0.9391355242847501 and parameters: {'num_leaves': 10, 'max_depth': 9, 'learning_rate': 0.03406796063202991, 'n_estimators': 370, 'class_weight': None, 'min_child_samples': 21, 'subsample': 0.7669898676720104, 'colsample_bytree': 0.9492780685840049, 'reg_alpha': 0.8062666777599035, 'reg_lambda': 4.6273736573513595}. Best is trial 16 with value: 0.9391355242847501.\u001b[0m\n"
     ]
    },
    {
     "name": "stdout",
     "output_type": "stream",
     "text": [
      "[22:05:17] WARNING: C:/buildkite-agent/builds/buildkite-windows-cpu-autoscaling-group-i-03de431ba26204c4d-1/xgboost/xgboost-ci-windows/src/learner.cc:767: \n",
      "Parameters: { \"min_child_samples\", \"num_leaves\" } are not used.\n",
      "\n",
      "[22:05:19] WARNING: C:/buildkite-agent/builds/buildkite-windows-cpu-autoscaling-group-i-03de431ba26204c4d-1/xgboost/xgboost-ci-windows/src/learner.cc:767: \n",
      "Parameters: { \"min_child_samples\", \"num_leaves\" } are not used.\n",
      "\n",
      "[22:05:21] WARNING: C:/buildkite-agent/builds/buildkite-windows-cpu-autoscaling-group-i-03de431ba26204c4d-1/xgboost/xgboost-ci-windows/src/learner.cc:767: \n",
      "Parameters: { \"min_child_samples\", \"num_leaves\" } are not used.\n",
      "\n",
      "[22:05:23] WARNING: C:/buildkite-agent/builds/buildkite-windows-cpu-autoscaling-group-i-03de431ba26204c4d-1/xgboost/xgboost-ci-windows/src/learner.cc:767: \n",
      "Parameters: { \"min_child_samples\", \"num_leaves\" } are not used.\n",
      "\n",
      "[22:05:25] WARNING: C:/buildkite-agent/builds/buildkite-windows-cpu-autoscaling-group-i-03de431ba26204c4d-1/xgboost/xgboost-ci-windows/src/learner.cc:767: \n",
      "Parameters: { \"min_child_samples\", \"num_leaves\" } are not used.\n",
      "\n"
     ]
    },
    {
     "name": "stderr",
     "output_type": "stream",
     "text": [
      "\u001b[32m[I 2024-03-01 22:05:27,828]\u001b[0m Trial 17 finished with value: 0.9379687979513329 and parameters: {'num_leaves': 13, 'max_depth': 8, 'learning_rate': 0.02858724006457476, 'n_estimators': 370, 'class_weight': None, 'min_child_samples': 24, 'subsample': 0.7838608160879801, 'colsample_bytree': 0.9585442891534294, 'reg_alpha': 0.9181374559021048, 'reg_lambda': 4.44798275403829}. Best is trial 16 with value: 0.9391355242847501.\u001b[0m\n"
     ]
    },
    {
     "name": "stdout",
     "output_type": "stream",
     "text": [
      "Best score: 0.9391355242847501\n",
      "Best parameters: {'num_leaves': 10, 'max_depth': 9, 'learning_rate': 0.03406796063202991, 'n_estimators': 370, 'class_weight': None, 'min_child_samples': 21, 'subsample': 0.7669898676720104, 'colsample_bytree': 0.9492780685840049, 'reg_alpha': 0.8062666777599035, 'reg_lambda': 4.6273736573513595}\n"
     ]
    }
   ],
   "source": [
    "def objective(trial):\n",
    "    params = {\n",
    "        'num_leaves': trial.suggest_int('num_leaves', 2, 1024, step=1, log=True),\n",
    "        'max_depth': trial.suggest_int('max_depth', 1, 10, step=1, log=False),\n",
    "        'learning_rate': trial.suggest_float('learning_rate', 0.0001, 0.1, log=True),\n",
    "        'n_estimators': trial.suggest_int('n_estimators', 8, 1024, step=1, log=True),\n",
    "        'class_weight': trial.suggest_categorical('class_weight', ['balanced', None]),\n",
    "        'min_child_samples': trial.suggest_int('min_child_samples', 10, 50, step=1, log=False),\n",
    "        'subsample': trial.suggest_uniform('subsample', 0.7, 1.0),\n",
    "        'colsample_bytree': trial.suggest_uniform('colsample_bytree', 0.7, 1.0),\n",
    "        'reg_alpha': trial.suggest_uniform('reg_alpha', 0.0, 1.0),\n",
    "        'reg_lambda': trial.suggest_uniform('reg_lambda', 0.0, 10.0),\n",
    "        'random_state': 0\n",
    "    }\n",
    "\n",
    "    classifier_obj = XGBClassifier(**params)\n",
    "\n",
    "    score = cross_val_score(classifier_obj, x_train, y_train, scoring='f1', cv=5)\n",
    "    f1_score = score.mean()\n",
    "    return f1_score\n",
    "\n",
    "# 최적화 실행\n",
    "xgb_study = optuna.create_study(sampler=optuna.samplers.TPESampler(seed=0), direction=\"maximize\")\n",
    "xgb_study.optimize(objective, n_trials=18)\n",
    "\n",
    "#최적화 결과 보기\n",
    "print(\"Best score:\", xgb_study.best_value)\n",
    "print(\"Best parameters:\", xgb_study.best_params)"
   ]
  },
  {
   "cell_type": "markdown",
   "id": "taSP_bGiygHz",
   "metadata": {
    "id": "taSP_bGiygHz"
   },
   "source": [
    "LightGBM"
   ]
  },
  {
   "cell_type": "code",
   "execution_count": 71,
   "id": "UFbFpzA8xPiN",
   "metadata": {
    "colab": {
     "base_uri": "https://localhost:8080/"
    },
    "executionInfo": {
     "elapsed": 46627,
     "status": "ok",
     "timestamp": 1709294245163,
     "user": {
      "displayName": "신현지",
      "userId": "04492897271342924648"
     },
     "user_tz": -540
    },
    "id": "UFbFpzA8xPiN",
    "outputId": "02cc08cd-5015-4cf6-fbdb-a5af96c37aa4",
    "scrolled": true
   },
   "outputs": [
    {
     "name": "stderr",
     "output_type": "stream",
     "text": [
      "\u001b[32m[I 2024-03-01 22:05:28,121]\u001b[0m A new study created in memory with name: no-name-fe7db5ef-5175-4ab8-a9b7-08b80b79562c\u001b[0m\n",
      "\u001b[32m[I 2024-03-01 22:05:28,743]\u001b[0m Trial 0 finished with value: 0.9174460948199993 and parameters: {'num_leaves': 54, 'max_depth': 8, 'learning_rate': 0.006431172050131994, 'n_estimators': 109, 'class_weight': None, 'min_child_samples': 27, 'subsample': 0.9675319002346239, 'colsample_bytree': 0.9890988281503088, 'reg_alpha': 0.3834415188257777, 'reg_lambda': 7.917250380826646}. Best is trial 0 with value: 0.9174460948199993.\u001b[0m\n",
      "\u001b[32m[I 2024-03-01 22:05:28,924]\u001b[0m Trial 1 finished with value: 0.9127974308210469 and parameters: {'num_leaves': 47, 'max_depth': 6, 'learning_rate': 0.05981221901152557, 'n_estimators': 11, 'class_weight': 'balanced', 'min_child_samples': 44, 'subsample': 0.9334470252849552, 'colsample_bytree': 0.9610036444740457, 'reg_alpha': 0.978618342232764, 'reg_lambda': 7.9915856421672355}. Best is trial 0 with value: 0.9174460948199993.\u001b[0m\n",
      "\u001b[32m[I 2024-03-01 22:05:29,822]\u001b[0m Trial 2 finished with value: 0.9162933916805491 and parameters: {'num_leaves': 30, 'max_depth': 8, 'learning_rate': 0.00022637229697395497, 'n_estimators': 174, 'class_weight': None, 'min_child_samples': 31, 'subsample': 0.8243985819971571, 'colsample_bytree': 0.7793666836313881, 'reg_alpha': 0.7742336894342167, 'reg_lambda': 4.5615033221654855}. Best is trial 0 with value: 0.9174460948199993.\u001b[0m\n",
      "\u001b[32m[I 2024-03-01 22:05:30,081]\u001b[0m Trial 3 finished with value: 0.8391483274826396 and parameters: {'num_leaves': 61, 'max_depth': 1, 'learning_rate': 0.007126995609048582, 'n_estimators': 152, 'class_weight': None, 'min_child_samples': 37, 'subsample': 0.8078523701721357, 'colsample_bytree': 0.8311095861398023, 'reg_alpha': 0.6976311959272649, 'reg_lambda': 0.6022547162926983}. Best is trial 0 with value: 0.9174460948199993.\u001b[0m\n",
      "\u001b[32m[I 2024-03-01 22:05:30,330]\u001b[0m Trial 4 finished with value: 0.9214565944533923 and parameters: {'num_leaves': 116, 'max_depth': 7, 'learning_rate': 0.0004277083049962072, 'n_estimators': 14, 'class_weight': None, 'min_child_samples': 33, 'subsample': 0.8315804540386961, 'colsample_bytree': 0.9965121514177678, 'reg_alpha': 0.10204481074802807, 'reg_lambda': 2.088767560948347}. Best is trial 4 with value: 0.9214565944533923.\u001b[0m\n",
      "\u001b[32m[I 2024-03-01 22:05:30,613]\u001b[0m Trial 5 finished with value: 0.878272129336396 and parameters: {'num_leaves': 4, 'max_depth': 7, 'learning_rate': 0.000575274081411669, 'n_estimators': 74, 'class_weight': 'balanced', 'min_child_samples': 14, 'subsample': 0.896898876839582, 'colsample_bytree': 0.7414548854045842, 'reg_alpha': 0.1965823616800535, 'reg_lambda': 3.687251706609641}. Best is trial 4 with value: 0.9214565944533923.\u001b[0m\n",
      "\u001b[32m[I 2024-03-01 22:05:30,783]\u001b[0m Trial 6 finished with value: 0.8384908887890885 and parameters: {'num_leaves': 319, 'max_depth': 1, 'learning_rate': 0.03264635677523523, 'n_estimators': 12, 'class_weight': 'balanced', 'min_child_samples': 50, 'subsample': 0.8814536559235138, 'colsample_bytree': 0.9217790738194904, 'reg_alpha': 0.039187792254320675, 'reg_lambda': 2.828069625764096}. Best is trial 4 with value: 0.9214565944533923.\u001b[0m\n",
      "\u001b[32m[I 2024-03-01 22:05:31,001]\u001b[0m Trial 7 finished with value: 0.8384908887890885 and parameters: {'num_leaves': 3, 'max_depth': 3, 'learning_rate': 0.00022708223335487552, 'n_estimators': 36, 'class_weight': 'balanced', 'min_child_samples': 38, 'subsample': 0.8699804362619725, 'colsample_bytree': 0.7796168472818336, 'reg_alpha': 0.5232480534666997, 'reg_lambda': 0.9394051075844168}. Best is trial 4 with value: 0.9214565944533923.\u001b[0m\n",
      "\u001b[32m[I 2024-03-01 22:05:32,307]\u001b[0m Trial 8 finished with value: 0.9159358717694228 and parameters: {'num_leaves': 64, 'max_depth': 10, 'learning_rate': 0.000903039728888594, 'n_estimators': 200, 'class_weight': None, 'min_child_samples': 21, 'subsample': 0.754957408602135, 'colsample_bytree': 0.8759538804430249, 'reg_alpha': 0.020107546187493552, 'reg_lambda': 8.289400292173632}. Best is trial 4 with value: 0.9214565944533923.\u001b[0m\n",
      "\u001b[32m[I 2024-03-01 22:05:32,734]\u001b[0m Trial 9 finished with value: 0.8384908887890885 and parameters: {'num_leaves': 2, 'max_depth': 7, 'learning_rate': 0.0006456897906217104, 'n_estimators': 279, 'class_weight': 'balanced', 'min_child_samples': 33, 'subsample': 0.8776125793815517, 'colsample_bytree': 0.871675571737262, 'reg_alpha': 0.2230816326406183, 'reg_lambda': 9.52749011516985}. Best is trial 4 with value: 0.9214565944533923.\u001b[0m\n",
      "\u001b[32m[I 2024-03-01 22:05:35,072]\u001b[0m Trial 10 finished with value: 0.9025847640497784 and parameters: {'num_leaves': 700, 'max_depth': 4, 'learning_rate': 0.00011542675973617445, 'n_estimators': 725, 'class_weight': None, 'min_child_samples': 11, 'subsample': 0.7178120820232871, 'colsample_bytree': 0.9247056876505003, 'reg_alpha': 0.40286351229861267, 'reg_lambda': 5.914865070833101}. Best is trial 4 with value: 0.9214565944533923.\u001b[0m\n",
      "\u001b[32m[I 2024-03-01 22:05:35,458]\u001b[0m Trial 11 finished with value: 0.9153222294944101 and parameters: {'num_leaves': 188, 'max_depth': 9, 'learning_rate': 0.004853364390476444, 'n_estimators': 35, 'class_weight': None, 'min_child_samples': 24, 'subsample': 0.9921812768132975, 'colsample_bytree': 0.9921500351839189, 'reg_alpha': 0.3404451409488597, 'reg_lambda': 6.090349002831858}. Best is trial 4 with value: 0.9214565944533923.\u001b[0m\n",
      "\u001b[32m[I 2024-03-01 22:05:35,795]\u001b[0m Trial 12 finished with value: 0.916202954022302 and parameters: {'num_leaves': 13, 'max_depth': 5, 'learning_rate': 0.013358710038685755, 'n_estimators': 39, 'class_weight': None, 'min_child_samples': 24, 'subsample': 0.9944749447332814, 'colsample_bytree': 0.996178829237443, 'reg_alpha': 0.5454891924731107, 'reg_lambda': 2.011638438018324}. Best is trial 4 with value: 0.9214565944533923.\u001b[0m\n",
      "\u001b[32m[I 2024-03-01 22:05:36,385]\u001b[0m Trial 13 finished with value: 0.9142142124585062 and parameters: {'num_leaves': 122, 'max_depth': 9, 'learning_rate': 0.0020738813360221407, 'n_estimators': 77, 'class_weight': None, 'min_child_samples': 27, 'subsample': 0.9405655672821595, 'colsample_bytree': 0.9430704591131729, 'reg_alpha': 0.20545863511547996, 'reg_lambda': 6.80090900460222}. Best is trial 4 with value: 0.9214565944533923.\u001b[0m\n",
      "\u001b[32m[I 2024-03-01 22:05:36,616]\u001b[0m Trial 14 finished with value: 0.9119580577645534 and parameters: {'num_leaves': 12, 'max_depth': 7, 'learning_rate': 0.0019622858794048764, 'n_estimators': 18, 'class_weight': None, 'min_child_samples': 37, 'subsample': 0.7925845240012799, 'colsample_bytree': 0.9980647985060505, 'reg_alpha': 0.34304545765728595, 'reg_lambda': 4.61173770720476}. Best is trial 4 with value: 0.9214565944533923.\u001b[0m\n",
      "\u001b[32m[I 2024-03-01 22:05:42,991]\u001b[0m Trial 15 finished with value: 0.9378041531529975 and parameters: {'num_leaves': 519, 'max_depth': 10, 'learning_rate': 0.01786402786146126, 'n_estimators': 519, 'class_weight': None, 'min_child_samples': 18, 'subsample': 0.9386822352351896, 'colsample_bytree': 0.9016280399697625, 'reg_alpha': 0.1298724336873604, 'reg_lambda': 9.655399031799778}. Best is trial 15 with value: 0.9378041531529975.\u001b[0m\n",
      "\u001b[32m[I 2024-03-01 22:05:54,028]\u001b[0m Trial 16 finished with value: 0.9393046835396731 and parameters: {'num_leaves': 930, 'max_depth': 10, 'learning_rate': 0.03406796063202991, 'n_estimators': 735, 'class_weight': None, 'min_child_samples': 16, 'subsample': 0.8417713845693325, 'colsample_bytree': 0.9037467416631441, 'reg_alpha': 0.09596747056870124, 'reg_lambda': 9.916933285895105}. Best is trial 16 with value: 0.9393046835396731.\u001b[0m\n",
      "\u001b[32m[I 2024-03-01 22:06:05,332]\u001b[0m Trial 17 finished with value: 0.9390422456407649 and parameters: {'num_leaves': 973, 'max_depth': 10, 'learning_rate': 0.08974435593051089, 'n_estimators': 775, 'class_weight': None, 'min_child_samples': 17, 'subsample': 0.9089179510674643, 'colsample_bytree': 0.890871994386616, 'reg_alpha': 0.12875819304262726, 'reg_lambda': 9.68097100884682}. Best is trial 16 with value: 0.9393046835396731.\u001b[0m\n"
     ]
    },
    {
     "name": "stdout",
     "output_type": "stream",
     "text": [
      "Best score: 0.9393046835396731\n",
      "Best parameters: {'num_leaves': 930, 'max_depth': 10, 'learning_rate': 0.03406796063202991, 'n_estimators': 735, 'class_weight': None, 'min_child_samples': 16, 'subsample': 0.8417713845693325, 'colsample_bytree': 0.9037467416631441, 'reg_alpha': 0.09596747056870124, 'reg_lambda': 9.916933285895105}\n"
     ]
    }
   ],
   "source": [
    "def objective(trial):\n",
    "    params = {\n",
    "        'num_leaves': trial.suggest_int('num_leaves', 2, 1024, step=1, log=True),\n",
    "        'max_depth': trial.suggest_int('max_depth', 1, 10, step=1, log=False),\n",
    "        'learning_rate': trial.suggest_float('learning_rate', 0.0001, 0.1, log=True),\n",
    "        'n_estimators': trial.suggest_int('n_estimators', 8, 1024, step=1, log=True),\n",
    "        'class_weight': trial.suggest_categorical('class_weight', ['balanced', None]),\n",
    "        'min_child_samples': trial.suggest_int('min_child_samples', 10, 50, step=1, log=False),\n",
    "        'subsample': trial.suggest_uniform('subsample', 0.7, 1.0),\n",
    "        'colsample_bytree': trial.suggest_uniform('colsample_bytree', 0.7, 1.0),\n",
    "        'reg_alpha': trial.suggest_uniform('reg_alpha', 0.0, 1.0),\n",
    "        'reg_lambda': trial.suggest_uniform('reg_lambda', 0.0, 10.0),\n",
    "        'random_state': 0\n",
    "    }\n",
    "\n",
    "    classifier_obj = LGBMClassifier(**params)\n",
    "\n",
    "    score = cross_val_score(classifier_obj, x_train, y_train, scoring='f1', cv=5)\n",
    "    f1_score = score.mean()\n",
    "    return f1_score\n",
    "\n",
    "# 최적화 실행\n",
    "lgbm_study = optuna.create_study(sampler=optuna.samplers.TPESampler(seed=0), direction=\"maximize\")\n",
    "lgbm_study.optimize(objective, n_trials=18)\n",
    "\n",
    "#최적화 결과 보기\n",
    "print(\"Best score:\", lgbm_study.best_value)\n",
    "print(\"Best parameters:\", lgbm_study.best_params)"
   ]
  },
  {
   "cell_type": "markdown",
   "id": "c8871444",
   "metadata": {
    "id": "c8871444"
   },
   "source": [
    "### OOF(Out-Of-Fold) Prediction"
   ]
  },
  {
   "cell_type": "markdown",
   "id": "fae29a6f",
   "metadata": {
    "id": "fae29a6f"
   },
   "source": [
    "XGBoost"
   ]
  },
  {
   "cell_type": "code",
   "execution_count": 72,
   "id": "1bebb5da",
   "metadata": {
    "executionInfo": {
     "elapsed": 16051,
     "status": "ok",
     "timestamp": 1709294261201,
     "user": {
      "displayName": "신현지",
      "userId": "04492897271342924648"
     },
     "user_tz": -540
    },
    "id": "1bebb5da",
    "scrolled": true
   },
   "outputs": [
    {
     "name": "stdout",
     "output_type": "stream",
     "text": [
      "[22:06:05] WARNING: C:/buildkite-agent/builds/buildkite-windows-cpu-autoscaling-group-i-03de431ba26204c4d-1/xgboost/xgboost-ci-windows/src/learner.cc:767: \n",
      "Parameters: { \"min_child_samples\", \"num_leaves\" } are not used.\n",
      "\n",
      "[22:06:08] WARNING: C:/buildkite-agent/builds/buildkite-windows-cpu-autoscaling-group-i-03de431ba26204c4d-1/xgboost/xgboost-ci-windows/src/learner.cc:767: \n",
      "Parameters: { \"min_child_samples\", \"num_leaves\" } are not used.\n",
      "\n",
      "[22:06:11] WARNING: C:/buildkite-agent/builds/buildkite-windows-cpu-autoscaling-group-i-03de431ba26204c4d-1/xgboost/xgboost-ci-windows/src/learner.cc:767: \n",
      "Parameters: { \"min_child_samples\", \"num_leaves\" } are not used.\n",
      "\n",
      "[22:06:13] WARNING: C:/buildkite-agent/builds/buildkite-windows-cpu-autoscaling-group-i-03de431ba26204c4d-1/xgboost/xgboost-ci-windows/src/learner.cc:767: \n",
      "Parameters: { \"min_child_samples\", \"num_leaves\" } are not used.\n",
      "\n",
      "[22:06:16] WARNING: C:/buildkite-agent/builds/buildkite-windows-cpu-autoscaling-group-i-03de431ba26204c4d-1/xgboost/xgboost-ci-windows/src/learner.cc:767: \n",
      "Parameters: { \"min_child_samples\", \"num_leaves\" } are not used.\n",
      "\n",
      "[22:06:19] WARNING: C:/buildkite-agent/builds/buildkite-windows-cpu-autoscaling-group-i-03de431ba26204c4d-1/xgboost/xgboost-ci-windows/src/learner.cc:767: \n",
      "Parameters: { \"min_child_samples\", \"num_leaves\" } are not used.\n",
      "\n",
      "[22:06:21] WARNING: C:/buildkite-agent/builds/buildkite-windows-cpu-autoscaling-group-i-03de431ba26204c4d-1/xgboost/xgboost-ci-windows/src/learner.cc:767: \n",
      "Parameters: { \"min_child_samples\", \"num_leaves\" } are not used.\n",
      "\n",
      "[22:06:24] WARNING: C:/buildkite-agent/builds/buildkite-windows-cpu-autoscaling-group-i-03de431ba26204c4d-1/xgboost/xgboost-ci-windows/src/learner.cc:767: \n",
      "Parameters: { \"min_child_samples\", \"num_leaves\" } are not used.\n",
      "\n",
      "[22:06:26] WARNING: C:/buildkite-agent/builds/buildkite-windows-cpu-autoscaling-group-i-03de431ba26204c4d-1/xgboost/xgboost-ci-windows/src/learner.cc:767: \n",
      "Parameters: { \"min_child_samples\", \"num_leaves\" } are not used.\n",
      "\n",
      "[22:06:28] WARNING: C:/buildkite-agent/builds/buildkite-windows-cpu-autoscaling-group-i-03de431ba26204c4d-1/xgboost/xgboost-ci-windows/src/learner.cc:767: \n",
      "Parameters: { \"min_child_samples\", \"num_leaves\" } are not used.\n",
      "\n"
     ]
    }
   ],
   "source": [
    "# Kaggle에서는 특정모형의 과대적합을 줄이기 위해 OOF(Out-Of-Fold) Prediction을 자주 사용한다.\n",
    "xgb_models = cross_validate(XGBClassifier(**xgb_study.best_params), # 최적화된 hyperparameter 사용\n",
    "                        x_train, y_train, cv=10, scoring='f1',\n",
    "                        return_estimator=True)\n",
    "xgb_oof_pred_val = np.array([m.predict_proba(x_val)[:,1] for m in xgb_models['estimator']]).mean(axis=0)\n",
    "xgb_oof_pred = np.array([m.predict_proba(x_test)[:,1] for m in xgb_models['estimator']]).mean(axis=0)"
   ]
  },
  {
   "cell_type": "code",
   "execution_count": 73,
   "id": "d9b33d0c",
   "metadata": {
    "executionInfo": {
     "elapsed": 17,
     "status": "ok",
     "timestamp": 1709294261201,
     "user": {
      "displayName": "신현지",
      "userId": "04492897271342924648"
     },
     "user_tz": -540
    },
    "id": "d9b33d0c"
   },
   "outputs": [],
   "source": [
    "xgb_preds_1d_val = xgb_oof_pred_val.flatten() # 차원 펴주기\n",
    "xgb_val_pred = np.where(xgb_preds_1d_val > 0.5, True , False)\n",
    "\n",
    "xgb_preds_1d = xgb_oof_pred.flatten() # 차원 펴주기\n",
    "xgb_test_pred = np.where(xgb_preds_1d > 0.5, True , False)"
   ]
  },
  {
   "cell_type": "code",
   "execution_count": 74,
   "id": "3e76d0e2",
   "metadata": {},
   "outputs": [
    {
     "name": "stdout",
     "output_type": "stream",
     "text": [
      "검증 데이터 F1 Score: 0.9407\n",
      "테스트 데이터 F1 Score: 0.7046\n"
     ]
    }
   ],
   "source": [
    "f1_val = f1_score(y_val, xgb_val_pred, average='micro')\n",
    "print(f'검증 데이터 F1 Score: {f1_val:.4f}')\n",
    "f1_test = f1_score(y_test, xgb_test_pred, average='micro')\n",
    "print(f'테스트 데이터 F1 Score: {f1_test:.4f}')"
   ]
  },
  {
   "cell_type": "code",
   "execution_count": 74,
   "id": "eba85e85",
   "metadata": {
    "colab": {
     "base_uri": "https://localhost:8080/"
    },
    "executionInfo": {
     "elapsed": 16,
     "status": "ok",
     "timestamp": 1709294261201,
     "user": {
      "displayName": "신현지",
      "userId": "04492897271342924648"
     },
     "user_tz": -540
    },
    "id": "eba85e85",
    "outputId": "989112a0-df81-4ea9-e1fc-03d94ec44287",
    "scrolled": true
   },
   "outputs": [
    {
     "name": "stdout",
     "output_type": "stream",
     "text": [
      "검증 데이터 F1 Score: 0.9402\n",
      "테스트 데이터 F1 Score: 0.7018\n"
     ]
    }
   ],
   "source": [
    "f1_val = f1_score(y_val, xgb_val_pred, average='micro')\n",
    "print(f'검증 데이터 F1 Score: {f1_val:.4f}')\n",
    "f1_test = f1_score(y_test, xgb_test_pred, average='micro')\n",
    "print(f'테스트 데이터 F1 Score: {f1_test:.4f}')"
   ]
  },
  {
   "cell_type": "markdown",
   "id": "qREAWhZQ0My9",
   "metadata": {
    "id": "qREAWhZQ0My9"
   },
   "source": [
    "LightGBM"
   ]
  },
  {
   "cell_type": "code",
   "execution_count": 75,
   "id": "-jMBm0jM0O0q",
   "metadata": {
    "colab": {
     "base_uri": "https://localhost:8080/"
    },
    "executionInfo": {
     "elapsed": 32521,
     "status": "ok",
     "timestamp": 1709294293718,
     "user": {
      "displayName": "신현지",
      "userId": "04492897271342924648"
     },
     "user_tz": -540
    },
    "id": "-jMBm0jM0O0q",
    "outputId": "936fec9a-4b13-4de7-9506-74b19a8b1121",
    "scrolled": true
   },
   "outputs": [],
   "source": [
    "# Kaggle에서는 특정모형의 과대적합을 줄이기 위해 OOF(Out-Of-Fold) Prediction을 자주 사용한다.\n",
    "lgbm_models = cross_validate(LGBMClassifier(**lgbm_study.best_params), # 최적화된 hyperparameter 사용\n",
    "                        x_train, y_train, cv=10, scoring='f1',\n",
    "                        return_estimator=True)\n",
    "lgbm_oof_pred_val = np.array([m.predict_proba(x_val)[:,1] for m in lgbm_models['estimator']]).mean(axis=0)\n",
    "lgbm_oof_pred = np.array([m.predict_proba(x_test)[:,1] for m in lgbm_models['estimator']]).mean(axis=0)"
   ]
  },
  {
   "cell_type": "code",
   "execution_count": 76,
   "id": "Xt0k4HnR0O0r",
   "metadata": {
    "executionInfo": {
     "elapsed": 67,
     "status": "ok",
     "timestamp": 1709294293723,
     "user": {
      "displayName": "신현지",
      "userId": "04492897271342924648"
     },
     "user_tz": -540
    },
    "id": "Xt0k4HnR0O0r"
   },
   "outputs": [],
   "source": [
    "lgbm_preds_1d_val = lgbm_oof_pred_val.flatten() # 차원 펴주기\n",
    "lgbm_val_pred = np.where(lgbm_preds_1d_val > 0.5, True , False)\n",
    "\n",
    "lgbm_preds_1d = lgbm_oof_pred.flatten() # 차원 펴주기\n",
    "lgbm_test_pred = np.where(lgbm_preds_1d > 0.5, True , False)"
   ]
  },
  {
   "cell_type": "code",
   "execution_count": 77,
   "id": "fd48f654",
   "metadata": {},
   "outputs": [
    {
     "name": "stdout",
     "output_type": "stream",
     "text": [
      "검증 데이터 F1 Score: 0.9433\n",
      "테스트 데이터 F1 Score: 0.6881\n"
     ]
    }
   ],
   "source": [
    "f1_val = f1_score(y_val, lgbm_val_pred, average='micro')\n",
    "print(f'검증 데이터 F1 Score: {f1_val:.4f}')\n",
    "f1_test = f1_score(y_test, lgbm_test_pred, average='micro')\n",
    "print(f'테스트 데이터 F1 Score: {f1_test:.4f}')"
   ]
  },
  {
   "cell_type": "code",
   "execution_count": 77,
   "id": "1i6xse9R0O0s",
   "metadata": {
    "colab": {
     "base_uri": "https://localhost:8080/"
    },
    "executionInfo": {
     "elapsed": 64,
     "status": "ok",
     "timestamp": 1709294293723,
     "user": {
      "displayName": "신현지",
      "userId": "04492897271342924648"
     },
     "user_tz": -540
    },
    "id": "1i6xse9R0O0s",
    "outputId": "fb983796-bb2e-45dc-d6a1-182178e20ed3",
    "scrolled": true
   },
   "outputs": [
    {
     "name": "stdout",
     "output_type": "stream",
     "text": [
      "검증 데이터 F1 Score: 0.9433\n",
      "테스트 데이터 F1 Score: 0.6879\n"
     ]
    }
   ],
   "source": [
    "f1_val = f1_score(y_val, lgbm_val_pred, average='micro')\n",
    "print(f'검증 데이터 F1 Score: {f1_val:.4f}')\n",
    "f1_test = f1_score(y_test, lgbm_test_pred, average='micro')\n",
    "print(f'테스트 데이터 F1 Score: {f1_test:.4f}')"
   ]
  },
  {
   "cell_type": "markdown",
   "id": "9d0b6e17",
   "metadata": {
    "id": "9d0b6e17"
   },
   "source": [
    "## 7. 앙상블\n",
    "XGBoost와 LightGBM을 블렌딩"
   ]
  },
  {
   "cell_type": "code",
   "execution_count": 78,
   "id": "k-sx3937787A",
   "metadata": {
    "executionInfo": {
     "elapsed": 55,
     "status": "ok",
     "timestamp": 1709294293725,
     "user": {
      "displayName": "신현지",
      "userId": "04492897271342924648"
     },
     "user_tz": -540
    },
    "id": "k-sx3937787A"
   },
   "outputs": [],
   "source": [
    "val_ensemble = xgb_val_pred * 0.5 + lgbm_val_pred * 0.5\n",
    "val_ensemble = np.where(val_ensemble > 0.5, True , False)"
   ]
  },
  {
   "cell_type": "code",
   "execution_count": 79,
   "id": "W9ShE3D6787B",
   "metadata": {
    "executionInfo": {
     "elapsed": 54,
     "status": "ok",
     "timestamp": 1709294293725,
     "user": {
      "displayName": "신현지",
      "userId": "04492897271342924648"
     },
     "user_tz": -540
    },
    "id": "W9ShE3D6787B"
   },
   "outputs": [],
   "source": [
    "test_ensemble = xgb_test_pred * 0.5 + lgbm_test_pred * 0.5\n",
    "test_ensemble = np.where(test_ensemble > 0.5, True , False)"
   ]
  },
  {
   "cell_type": "code",
   "execution_count": 80,
   "id": "98d19166",
   "metadata": {},
   "outputs": [
    {
     "name": "stdout",
     "output_type": "stream",
     "text": [
      "검증 데이터 F1 Score: 0.9428\n",
      "테스트 데이터 F1 Score: 0.7094\n"
     ]
    }
   ],
   "source": [
    "f1_val = f1_score(y_val, val_ensemble, average='micro')\n",
    "print(f'검증 데이터 F1 Score: {f1_val:.4f}')\n",
    "f1_test = f1_score(y_test, test_ensemble, average='micro')\n",
    "print(f'테스트 데이터 F1 Score: {f1_test:.4f}')"
   ]
  },
  {
   "cell_type": "code",
   "execution_count": 80,
   "id": "B1UAeCbm787B",
   "metadata": {
    "colab": {
     "base_uri": "https://localhost:8080/"
    },
    "executionInfo": {
     "elapsed": 54,
     "status": "ok",
     "timestamp": 1709294293726,
     "user": {
      "displayName": "신현지",
      "userId": "04492897271342924648"
     },
     "user_tz": -540
    },
    "id": "B1UAeCbm787B",
    "outputId": "417529f7-fbe7-466e-a4e6-83b69b9d5bac"
   },
   "outputs": [
    {
     "name": "stdout",
     "output_type": "stream",
     "text": [
      "검증 데이터 F1 Score: 0.9418\n",
      "테스트 데이터 F1 Score: 0.7071\n"
     ]
    }
   ],
   "source": [
    "f1_val = f1_score(y_val, val_ensemble, average='micro')\n",
    "print(f'검증 데이터 F1 Score: {f1_val:.4f}')\n",
    "f1_test = f1_score(y_test, test_ensemble, average='micro')\n",
    "print(f'테스트 데이터 F1 Score: {f1_test:.4f}')"
   ]
  },
  {
   "cell_type": "markdown",
   "id": "72fc7f8e",
   "metadata": {
    "id": "72fc7f8e"
   },
   "source": [
    "## 8. 제출"
   ]
  },
  {
   "cell_type": "code",
   "execution_count": 81,
   "id": "47ae440f",
   "metadata": {
    "executionInfo": {
     "elapsed": 33,
     "status": "ok",
     "timestamp": 1709294293727,
     "user": {
      "displayName": "신현지",
      "userId": "04492897271342924648"
     },
     "user_tz": -540
    },
    "id": "47ae440f"
   },
   "outputs": [],
   "source": [
    "# 제출 데이터 읽어오기 (df_test는 전처리된 데이터가 저장됨)\n",
    "df_sub = pd.read_csv(\"submission.csv\")\n",
    "df_sub[\"is_converted\"] = test_ensemble\n",
    "\n",
    "# 제출 파일 저장\n",
    "df_sub.to_csv(\"submission.csv\", index=False)"
   ]
  }
 ],
 "metadata": {
  "colab": {
   "collapsed_sections": [
    "7bc73e43",
    "1e5af4aa",
    "65246c58",
    "fbf494f9",
    "9dd05906",
    "f1f721cc",
    "f3cbd7c3",
    "9a92d725",
    "eb9bb9b3",
    "fd89d452",
    "6f836e9b",
    "a72d312f",
    "c2001b10",
    "389d3bc2",
    "749e7a55",
    "751ef86f"
   ],
   "provenance": []
  },
  "kernelspec": {
   "display_name": "Python 3 (ipykernel)",
   "language": "python",
   "name": "python3"
  },
  "language_info": {
   "codemirror_mode": {
    "name": "ipython",
    "version": 3
   },
   "file_extension": ".py",
   "mimetype": "text/x-python",
   "name": "python",
   "nbconvert_exporter": "python",
   "pygments_lexer": "ipython3",
   "version": "3.9.12"
  },
  "varInspector": {
   "cols": {
    "lenName": 16,
    "lenType": 16,
    "lenVar": 40
   },
   "kernels_config": {
    "python": {
     "delete_cmd_postfix": "",
     "delete_cmd_prefix": "del ",
     "library": "var_list.py",
     "varRefreshCmd": "print(var_dic_list())"
    },
    "r": {
     "delete_cmd_postfix": ") ",
     "delete_cmd_prefix": "rm(",
     "library": "var_list.r",
     "varRefreshCmd": "cat(var_dic_list()) "
    }
   },
   "types_to_exclude": [
    "module",
    "function",
    "builtin_function_or_method",
    "instance",
    "_Feature"
   ],
   "window_display": false
  }
 },
 "nbformat": 4,
 "nbformat_minor": 5
}
