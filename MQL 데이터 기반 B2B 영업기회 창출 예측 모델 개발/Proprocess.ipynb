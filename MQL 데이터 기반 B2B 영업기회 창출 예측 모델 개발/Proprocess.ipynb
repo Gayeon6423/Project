{
 "cells": [
  {
   "cell_type": "code",
   "execution_count": 2,
   "metadata": {},
   "outputs": [],
   "source": [
    "# 기본 라이브러리\n",
    "import warnings\n",
    "warnings.filterwarnings(\"ignore\")\n",
    "import pandas as pd\n",
    "import numpy as np\n",
    "import statsmodels.api as sm\n",
    "import re\n",
    "from sklearn import set_config\n",
    "%matplotlib inline\n",
    "\n",
    "# 시각화 및 폰트\n",
    "import seaborn as sns\n",
    "import matplotlib.pyplot as plt\n",
    "plt.rc('font', family='Malgun Gothic') # 폰트 지정\n",
    "plt.rc('axes', unicode_minus=False) # 마이너스 폰트 설정\n",
    "%config InlineBackend.figure_format='retina' # 그래프 글씨 뚜렷\n",
    "\n",
    "# 전처리 관련 라이브러리\n",
    "from sklearn.preprocessing import FunctionTransformer, PowerTransformer, OrdinalEncoder, OneHotEncoder\n",
    "from sklearn.experimental import enable_iterative_imputer\n",
    "from sklearn.impute import IterativeImputer, SimpleImputer \n",
    "import category_encoders as ce\n",
    "from sklearn.compose import ColumnTransformer\n",
    "from sklearn.feature_extraction.text import CountVectorizer\n",
    "from sklearn.feature_selection import SequentialFeatureSelector,SelectPercentile\n",
    "from sklearn.decomposition import PCA, TruncatedSVD\n",
    "from sklearn.preprocessing import MinMaxScaler\n",
    "\n",
    "# 훈련 및 평가 관련 라이브러리\n",
    "from sklearn.model_selection import train_test_split, ShuffleSplit,cross_val_score, cross_validate, KFold\n",
    "from sklearn.pipeline import Pipeline, make_pipeline\n",
    "from sklearn.base import BaseEstimator, TransformerMixin\n",
    "from sklearn.metrics import (accuracy_score, confusion_matrix, f1_score, precision_score, recall_score)\n",
    "\n",
    "# 모델 라이브러리\n",
    "from sklearn.linear_model import LinearRegression, Ridge, Lasso\n",
    "from sklearn.tree import DecisionTreeClassifier\n",
    "from lightgbm import LGBMRegressor\n",
    "from catboost import CatBoostRegressor\n",
    "import xgboost as xgb"
   ]
  },
  {
   "cell_type": "markdown",
   "metadata": {},
   "source": [
    "- data load"
   ]
  },
  {
   "cell_type": "code",
   "execution_count": 3,
   "metadata": {},
   "outputs": [],
   "source": [
    "df_train = pd.read_csv(\"./data/train.csv\") # 학습용 데이터\n",
    "df_test = pd.read_csv(\"./data/submission.csv\") # 테스트 데이터(제출파일의 데이터)\n",
    "df = pd.concat([df_train,df_test])\n",
    "# df_train = df[:59299]\n",
    "# df_test = df[59299:]"
   ]
  },
  {
   "cell_type": "markdown",
   "metadata": {},
   "source": [
    "- customer_country"
   ]
  },
  {
   "cell_type": "code",
   "execution_count": 4,
   "metadata": {},
   "outputs": [],
   "source": [
    "# 전처리 : 국가 값으로 값 변경\n",
    "df['customer_country'] = df['customer_country'].str.split('/').str[-1].str.strip()"
   ]
  },
  {
   "cell_type": "markdown",
   "metadata": {},
   "source": [
    "- customer_type"
   ]
  },
  {
   "cell_type": "code",
   "execution_count": 5,
   "metadata": {},
   "outputs": [],
   "source": [
    "# 전처리 : 중복 통합\n",
    "df['customer_type'].replace({'End Customer':'End-Customer', 'Specifier / Influencer': 'Specifier/Influencer',\n",
    "                             'Home Owner':'Homeowner', 'Etc.':'Others','Other':'Others','End-user':'End-Customer',\n",
    "                             'Commercial end-user':'End-Customer','Software / Solution Provider':'Software/Solution Provider',\n",
    "                             'Dealer/Distributor\t':'Distributor'}, \n",
    "                            inplace=True)"
   ]
  },
  {
   "cell_type": "markdown",
   "metadata": {},
   "source": [
    "- inquiry_type"
   ]
  },
  {
   "cell_type": "code",
   "execution_count": 6,
   "metadata": {},
   "outputs": [],
   "source": [
    "# 전처리 : 중복 통합,오탈자 정리\n",
    "df['inquiry_type'].replace({'Quotation or purchase consultation':'Quotation or Purchase Consultation',\n",
    "                            'quotation_or_purchase_consultation':'Quotation or Purchase Consultation',\n",
    "                            'Quotation or Purchase consultation':'Quotation or Purchase Consultation',\n",
    "                            'Purchase or Quotation':'Quotation or Purchase Consultation',\n",
    "                            'Others':'Other','other_':'Other','other':'Other','ETC.':'Other','Etc.':'Other','others':'Other',\n",
    "                            'Usage or Technical Consultation':'Technical Consultation\t',\n",
    "                            'Usage or Technical Consultation':'Technical Consultation\t',\n",
    "                            'usage or technical consultation':'Technical Consultation\t',\n",
    "                            },\n",
    "                            inplace=True)"
   ]
  },
  {
   "cell_type": "markdown",
   "metadata": {},
   "source": [
    "- product_modelname"
   ]
  },
  {
   "cell_type": "code",
   "execution_count": 7,
   "metadata": {},
   "outputs": [],
   "source": [
    "# 전처리 : 결측값 Anything 으로 대체\n",
    "df['product_modelname'] = df['product_modelname'].fillna('Anything')\n",
    "# 전처리 : 값에 국가 존재하면 값에서 제거 후 대체\n",
    "df['product_modelname'] = df['product_modelname'].str.replace(r'\\(NA\\)|\\(MEA\\)|\\(EU\\)|\\(EU/CIS\\)|\\(ASIA\\)|\\(INDIA\\)|\\(CIS\\)|\\(Colombia\\)|\\(SCA\\)|\\(EU Only\\)|\\(Brazil Only\\)|\\(LATAM\\)|\\(Japan\\)', '', regex=True).str.strip()\n",
    "# 전처리 : 모델명과 모델 코드 모두 존재하면 모델 코드로 대체\n",
    "df['product_modelname'] = df['product_modelname'].replace({'UltraWide Ergo(34WN780)':'34WN780','UltraFine Ergo(32UN880)':'32UN880',\n",
    "                                     'DualUp(28MQ780)':'28MQ780','Ergo Dual(27QP88D)':'27QP88D',\n",
    "                                     '65EP5G OLED Pro':'65EP5G'})\n",
    "# 전처리 : 같은 것을 지칭하는 경우\n",
    "df['product_modelname'] = df['product_modelname'].replace({'B, 32HL512D':'32HL512D','Diagnostic Monitors':'Diagnostic Monitor','SuperSign CMS':'LG SuperSign CMS'})\n",
    "# 전처리 : 모델명이 아닌 문장인 것들은 'other'로 대체\n",
    "df['product_modelname'] = df['product_modelname'].replace(['Total Care Thru One-stop Service', 'Architect , We are Meeting for Enqiry Generation ( This is not a Inquiry)', 'Total Care Thru One', 'Due to budget they have hold the requiement', 'Required After 3 Months', 'Want Split AC', 'Only Installation Need', 'Passed on to Fixxy distribution', 'full', 'This is being dealt with by LG Germany.', 'SuperSign Media Editor', 'SuperSign WB', 'ALL Surgical', 'Surgical', 'diagnostic', 'LGESL Export team is follow up the lead', 'Video', 'Inquiry forwarded to Shaker', 'AI/Machine Learning | Antennas, Transmitters and Towers | Audience Measurement | Cameras and Lenses', 'One:Quick', 'Solution'], 'Other')\n",
    "\n",
    "# 전처리 : '-' 다음의 띄어쓰기를 없애고 반환\n",
    "def preprocess_modelname(modelname):\n",
    "    return modelname.replace('- ', '')\n",
    "df['product_modelname'] = df['product_modelname'].apply(preprocess_modelname)"
   ]
  },
  {
   "cell_type": "markdown",
   "metadata": {},
   "source": [
    "- excepted_timeline"
   ]
  },
  {
   "cell_type": "code",
   "execution_count": 80,
   "metadata": {},
   "outputs": [],
   "source": [
    "# 감정점수 데이터 로드\n",
    "timeline_sentiment = pd.read_csv('./data/sentiment_df.csv', encoding='ISO-8859-1')\n",
    "# 결측값 처리\n",
    "timeline_sentiment['expected_timeline'] = timeline_sentiment['expected_timeline'].fillna(0)\n",
    "# 기간값 수치형 변환\n",
    "timeline_sentiment['expected_timeline'] = timeline_sentiment['expected_timeline'].replace({'3 months':3,'3 months ~ 6 months':4.5,'3_months_~_6_months':4.5,\n",
    "                                                                                           '45 days':1.5,'6 months ~ 9 months':7.5,'6_months_~_9_months':7.5,\n",
    "                                                                                           '9 months - 1 year':10.5,'9 months ~ 1 year':10.5,'9_months_-_1_year':10.5,\n",
    "                                                                                           'more than a year':12,'more then 3 months':3,'more_than_a_year':12,\n",
    "                                                                                           'less than 3 months':1.5,'less than 5 months':2.5,'less than 6 months':3,\n",
    "                                                                                            'less then 6 months':3,'less_than_3_months':1.5 })\n",
    "# 문자형 값일 경우 감정점수로 변환\n",
    "timeline_sentiment['expected_timeline'] = timeline_sentiment.apply(lambda x: x['sentiment_score'] if isinstance(x['expected_timeline'], str) else x['expected_timeline'], axis=1)\n",
    "# 기존 변수 변환\n",
    "df['expected_timeline'] = timeline_sentiment['expected_timeline']\n",
    "df['sentiment_score'] = timeline_sentiment['sentiment_score']"
   ]
  },
  {
   "cell_type": "markdown",
   "metadata": {},
   "source": [
    "- business_area"
   ]
  },
  {
   "cell_type": "code",
   "execution_count": 8,
   "metadata": {},
   "outputs": [],
   "source": [
    "# 전처리 : 최빈값 대체\n",
    "df['business_area'] = df['business_area'].fillna('Others')"
   ]
  },
  {
   "cell_type": "markdown",
   "metadata": {},
   "source": [
    "- business_subarea"
   ]
  },
  {
   "cell_type": "code",
   "execution_count": null,
   "metadata": {},
   "outputs": [],
   "source": [
    "# 전처리 : 최빈값 대체\n",
    "df['business_subarea'] = df['business_subarea'].fillna('Others')"
   ]
  }
 ],
 "metadata": {
  "kernelspec": {
   "display_name": "base",
   "language": "python",
   "name": "python3"
  },
  "language_info": {
   "codemirror_mode": {
    "name": "ipython",
    "version": 3
   },
   "file_extension": ".py",
   "mimetype": "text/x-python",
   "name": "python",
   "nbconvert_exporter": "python",
   "pygments_lexer": "ipython3",
   "version": "3.9.12"
  }
 },
 "nbformat": 4,
 "nbformat_minor": 2
}
